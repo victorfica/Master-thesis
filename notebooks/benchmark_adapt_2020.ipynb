{
 "cells": [
  {
   "cell_type": "code",
   "execution_count": 71,
   "metadata": {},
   "outputs": [],
   "source": [
    "import pandas as pd\n",
    "import numpy as np\n",
    "from abpred import Predictor\n",
    "from sklearn.metrics import r2_score,mean_squared_error, mean_absolute_error,explained_variance_score\n"
   ]
  },
  {
   "cell_type": "code",
   "execution_count": 25,
   "metadata": {
    "scrolled": true
   },
   "outputs": [],
   "source": [
    "features_adapt = pd.read_csv(\"/mnt/d/Python_projects/abpred/tests/3bdy_renum_features.csv\",index_col=0)"
   ]
  },
  {
   "cell_type": "code",
   "execution_count": 26,
   "metadata": {},
   "outputs": [],
   "source": [
    "pred = Predictor.InterfacePredictor()\n",
    "pred.load()\n",
    "# Get predictions\n",
    "features_adapt['ddg_abpred'] = pred.score(features_adapt.values)\n",
    "#features_adapt[['ddg']].to_csv(\"mutations_results.csv\")"
   ]
  },
  {
   "cell_type": "code",
   "execution_count": 56,
   "metadata": {},
   "outputs": [],
   "source": [
    "# adapt paper dataframe\n",
    "adapt_dataframe = pd.read_csv('../data/3bdy_adapt.csv',sep=\";\")\n",
    "# add new column to match models named mutation\n",
    "adapt_dataframe[\"mutant\"] = adapt_dataframe[\"Chain\"]+adapt_dataframe[\"Mutation\"].str[1:]\n",
    "adapt_dataframe.sort_values(by=\"mutant\",inplace=True)\n",
    "adapt_dataframe.rename(columns={'ddG':'ddG_exp'},inplace=True)\n"
   ]
  },
  {
   "cell_type": "code",
   "execution_count": 57,
   "metadata": {},
   "outputs": [],
   "source": [
    "features_adapt.reset_index(inplace=True)\n"
   ]
  },
  {
   "cell_type": "code",
   "execution_count": 58,
   "metadata": {},
   "outputs": [],
   "source": [
    "features_adapt[\"mutant\"] = features_adapt[\"index\"].str.split(\".\",expand=True)[1]"
   ]
  },
  {
   "cell_type": "code",
   "execution_count": 60,
   "metadata": {},
   "outputs": [],
   "source": [
    "features_adapt_preds = features_adapt[[\"mutant\",\"ddg_abpred\"]].copy()"
   ]
  },
  {
   "cell_type": "code",
   "execution_count": 63,
   "metadata": {},
   "outputs": [],
   "source": [
    "data_merged = features_adapt_preds.merge(adapt_dataframe)\n",
    "data_merged[\"ddG_exp\"] = data_merged[\"ddG_exp\"].astype(float)\n"
   ]
  },
  {
   "cell_type": "code",
   "execution_count": 79,
   "metadata": {},
   "outputs": [],
   "source": [
    "with open(\"../data/3bdy.pdb.beat.txt\",\"r\") as f:\n",
    "    lines = f.readlines()\n",
    "    ddg_values = [float(list(filter(lambda name: name.strip(), l.split(\" \")))[7]) for l in lines ]\n",
    "    chain =  [list(filter(lambda name: name.strip(), l.split(\" \")))[2] for l in lines ]\n",
    "    mut_res = [list(filter(lambda name: name.strip(), l.split(\" \")))[5] for l in lines ]\n",
    "    num_res = [list(filter(lambda name: name.strip(), l.split(\" \")))[3] for l in lines ]\n",
    "    \n",
    "    mutant = list(map(\"\".join, zip(chain, num_res,mut_res)))\n",
    "    \n",
    "    pd_beatmusic = pd.DataFrame({\"mutant\":mutant,\"beat_pred\":ddg_values})\n",
    "    "
   ]
  },
  {
   "cell_type": "code",
   "execution_count": 80,
   "metadata": {},
   "outputs": [
    {
     "data": {
      "text/html": [
       "<div>\n",
       "<style scoped>\n",
       "    .dataframe tbody tr th:only-of-type {\n",
       "        vertical-align: middle;\n",
       "    }\n",
       "\n",
       "    .dataframe tbody tr th {\n",
       "        vertical-align: top;\n",
       "    }\n",
       "\n",
       "    .dataframe thead th {\n",
       "        text-align: right;\n",
       "    }\n",
       "</style>\n",
       "<table border=\"1\" class=\"dataframe\">\n",
       "  <thead>\n",
       "    <tr style=\"text-align: right;\">\n",
       "      <th></th>\n",
       "      <th>mutant</th>\n",
       "      <th>beat_pred</th>\n",
       "    </tr>\n",
       "  </thead>\n",
       "  <tbody>\n",
       "    <tr>\n",
       "      <td>0</td>\n",
       "      <td>H98K</td>\n",
       "      <td>0.09</td>\n",
       "    </tr>\n",
       "    <tr>\n",
       "      <td>1</td>\n",
       "      <td>H98H</td>\n",
       "      <td>0.12</td>\n",
       "    </tr>\n",
       "    <tr>\n",
       "      <td>2</td>\n",
       "      <td>H98W</td>\n",
       "      <td>0.18</td>\n",
       "    </tr>\n",
       "    <tr>\n",
       "      <td>3</td>\n",
       "      <td>H98Y</td>\n",
       "      <td>0.22</td>\n",
       "    </tr>\n",
       "    <tr>\n",
       "      <td>4</td>\n",
       "      <td>H98F</td>\n",
       "      <td>0.22</td>\n",
       "    </tr>\n",
       "    <tr>\n",
       "      <td>5</td>\n",
       "      <td>H98M</td>\n",
       "      <td>0.19</td>\n",
       "    </tr>\n",
       "    <tr>\n",
       "      <td>6</td>\n",
       "      <td>H99R</td>\n",
       "      <td>0.37</td>\n",
       "    </tr>\n",
       "    <tr>\n",
       "      <td>7</td>\n",
       "      <td>H99M</td>\n",
       "      <td>-0.12</td>\n",
       "    </tr>\n",
       "    <tr>\n",
       "      <td>8</td>\n",
       "      <td>H99D</td>\n",
       "      <td>0.54</td>\n",
       "    </tr>\n",
       "    <tr>\n",
       "      <td>9</td>\n",
       "      <td>H52R</td>\n",
       "      <td>0.79</td>\n",
       "    </tr>\n",
       "    <tr>\n",
       "      <td>10</td>\n",
       "      <td>H33W</td>\n",
       "      <td>0.62</td>\n",
       "    </tr>\n",
       "    <tr>\n",
       "      <td>11</td>\n",
       "      <td>H33M</td>\n",
       "      <td>1.16</td>\n",
       "    </tr>\n",
       "    <tr>\n",
       "      <td>12</td>\n",
       "      <td>L30BR</td>\n",
       "      <td>0.54</td>\n",
       "    </tr>\n",
       "    <tr>\n",
       "      <td>13</td>\n",
       "      <td>L30DL</td>\n",
       "      <td>0.35</td>\n",
       "    </tr>\n",
       "    <tr>\n",
       "      <td>14</td>\n",
       "      <td>L30DM</td>\n",
       "      <td>-0.07</td>\n",
       "    </tr>\n",
       "  </tbody>\n",
       "</table>\n",
       "</div>"
      ],
      "text/plain": [
       "   mutant  beat_pred\n",
       "0    H98K       0.09\n",
       "1    H98H       0.12\n",
       "2    H98W       0.18\n",
       "3    H98Y       0.22\n",
       "4    H98F       0.22\n",
       "5    H98M       0.19\n",
       "6    H99R       0.37\n",
       "7    H99M      -0.12\n",
       "8    H99D       0.54\n",
       "9    H52R       0.79\n",
       "10   H33W       0.62\n",
       "11   H33M       1.16\n",
       "12  L30BR       0.54\n",
       "13  L30DL       0.35\n",
       "14  L30DM      -0.07"
      ]
     },
     "execution_count": 80,
     "metadata": {},
     "output_type": "execute_result"
    }
   ],
   "source": [
    "pd_beatmusic"
   ]
  },
  {
   "cell_type": "code",
   "execution_count": 83,
   "metadata": {},
   "outputs": [],
   "source": [
    "data_merged_2 = data_merged.merge(pd_beatmusic)"
   ]
  },
  {
   "cell_type": "code",
   "execution_count": 87,
   "metadata": {},
   "outputs": [
    {
     "data": {
      "text/plain": [
       "0.3827895279157465"
      ]
     },
     "execution_count": 87,
     "metadata": {},
     "output_type": "execute_result"
    }
   ],
   "source": [
    "explained_variance_score(data_merged_2[\"ddG_exp\"],data_merged_2[\"ddg_abpred\"])"
   ]
  },
  {
   "cell_type": "code",
   "execution_count": 90,
   "metadata": {
    "scrolled": true
   },
   "outputs": [
    {
     "data": {
      "text/html": [
       "<div>\n",
       "<style scoped>\n",
       "    .dataframe tbody tr th:only-of-type {\n",
       "        vertical-align: middle;\n",
       "    }\n",
       "\n",
       "    .dataframe tbody tr th {\n",
       "        vertical-align: top;\n",
       "    }\n",
       "\n",
       "    .dataframe thead th {\n",
       "        text-align: right;\n",
       "    }\n",
       "</style>\n",
       "<table border=\"1\" class=\"dataframe\">\n",
       "  <thead>\n",
       "    <tr style=\"text-align: right;\">\n",
       "      <th></th>\n",
       "      <th>ddg_abpred</th>\n",
       "      <th>z-score</th>\n",
       "      <th>Kwt (nM)</th>\n",
       "      <th>ddG_exp</th>\n",
       "      <th>beat_pred</th>\n",
       "    </tr>\n",
       "  </thead>\n",
       "  <tbody>\n",
       "    <tr>\n",
       "      <td>ddg_abpred</td>\n",
       "      <td>1.000000</td>\n",
       "      <td>0.430611</td>\n",
       "      <td>NaN</td>\n",
       "      <td>0.619907</td>\n",
       "      <td>0.283442</td>\n",
       "    </tr>\n",
       "    <tr>\n",
       "      <td>z-score</td>\n",
       "      <td>0.430611</td>\n",
       "      <td>1.000000</td>\n",
       "      <td>NaN</td>\n",
       "      <td>0.632829</td>\n",
       "      <td>0.467480</td>\n",
       "    </tr>\n",
       "    <tr>\n",
       "      <td>Kwt (nM)</td>\n",
       "      <td>NaN</td>\n",
       "      <td>NaN</td>\n",
       "      <td>NaN</td>\n",
       "      <td>NaN</td>\n",
       "      <td>NaN</td>\n",
       "    </tr>\n",
       "    <tr>\n",
       "      <td>ddG_exp</td>\n",
       "      <td>0.619907</td>\n",
       "      <td>0.632829</td>\n",
       "      <td>NaN</td>\n",
       "      <td>1.000000</td>\n",
       "      <td>0.651116</td>\n",
       "    </tr>\n",
       "    <tr>\n",
       "      <td>beat_pred</td>\n",
       "      <td>0.283442</td>\n",
       "      <td>0.467480</td>\n",
       "      <td>NaN</td>\n",
       "      <td>0.651116</td>\n",
       "      <td>1.000000</td>\n",
       "    </tr>\n",
       "  </tbody>\n",
       "</table>\n",
       "</div>"
      ],
      "text/plain": [
       "            ddg_abpred   z-score  Kwt (nM)   ddG_exp  beat_pred\n",
       "ddg_abpred    1.000000  0.430611       NaN  0.619907   0.283442\n",
       "z-score       0.430611  1.000000       NaN  0.632829   0.467480\n",
       "Kwt (nM)           NaN       NaN       NaN       NaN        NaN\n",
       "ddG_exp       0.619907  0.632829       NaN  1.000000   0.651116\n",
       "beat_pred     0.283442  0.467480       NaN  0.651116   1.000000"
      ]
     },
     "execution_count": 90,
     "metadata": {},
     "output_type": "execute_result"
    }
   ],
   "source": [
    "data_merged_2.drop(columns=[\"mutant\",\"Mutation\",\"Chain\"]).corr()"
   ]
  },
  {
   "cell_type": "code",
   "execution_count": 89,
   "metadata": {},
   "outputs": [
    {
     "data": {
      "text/plain": [
       "ddg_abpred     0.460123\n",
       "z-score        4.531425\n",
       "Kwt (nM)      44.544541\n",
       "Kwt/K          5.323531\n",
       "ddG_exp        0.000000\n",
       "beat_pred      0.984717\n",
       "dtype: float64"
      ]
     },
     "execution_count": 89,
     "metadata": {},
     "output_type": "execute_result"
    }
   ],
   "source": [
    "np.sqrt(data_merged_2.drop(columns=[\"mutant\",\"Mutation\",\"Chain\"]).apply(mean_squared_error,axis=0,args=(data_merged_2.drop(columns=[\"mutant\",\"Mutation\",\"Chain\"])[\"ddG_exp\"],)))"
   ]
  },
  {
   "cell_type": "code",
   "execution_count": 91,
   "metadata": {},
   "outputs": [],
   "source": [
    "import seaborn as sns\n",
    "%matplotlib inline"
   ]
  },
  {
   "cell_type": "code",
   "execution_count": 103,
   "metadata": {},
   "outputs": [],
   "source": [
    "sns.regplot?"
   ]
  },
  {
   "cell_type": "code",
   "execution_count": 101,
   "metadata": {},
   "outputs": [
    {
     "data": {
      "text/plain": [
       "<matplotlib.axes._subplots.AxesSubplot at 0x7ffd930bfbd0>"
      ]
     },
     "execution_count": 101,
     "metadata": {},
     "output_type": "execute_result"
    },
    {
     "data": {
      "image/png": "[encoded data removed]",
      "text/plain": [
       "<Figure size 432x288 with 1 Axes>"
      ]
     },
     "metadata": {
      "needs_background": "light"
     },
     "output_type": "display_data"
    }
   ],
   "source": [
    "sns.regplot(data_merged_2[\"ddG_exp\"],data_merged_2[\"ddg_abpred\"])"
   ]
  }
 ],
 "metadata": {
  "kernelspec": {
   "display_name": "Python 3",
   "language": "python",
   "name": "python3"
  },
  "language_info": {
   "codemirror_mode": {
    "name": "ipython",
    "version": 3
   },
   "file_extension": ".py",
   "mimetype": "text/x-python",
   "name": "python",
   "nbconvert_exporter": "python",
   "pygments_lexer": "ipython3",
   "version": "3.7.6"
  }
 },
 "nbformat": 4,
 "nbformat_minor": 2
}
