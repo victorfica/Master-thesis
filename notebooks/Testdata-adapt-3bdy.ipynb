{
 "cells": [
  {
   "cell_type": "code",
   "execution_count": 1,
   "metadata": {},
   "outputs": [
    {
     "name": "stdout",
     "output_type": "stream",
     "text": [
      "/Users/vfica/Documents/GitHub/AbPred/AbPred/../libs/arpeggio\n"
     ]
    }
   ],
   "source": [
    "import pandas as pd\n",
    "import numpy as np\n",
    "import os\n",
    "from pathlib import Path\n",
    "import pickle\n",
    "from multiprocessing import Pool\n",
    "from runpy import run_path\n",
    "\n",
    "import time\n",
    "import sys\n",
    "\n",
    "ABPRED_DIR = Path.cwd().parent\n",
    "if ABPRED_DIR not in sys.path:\n",
    "    sys.path.append(str(ABPRED_DIR))\n",
    "    \n",
    "from AbPred.interface_contacts import InterfaceContacts\n",
    "from AbPred.features_ic import ArpeggioFeatures,features15,features300,features400\n",
    "from AbPred.FoldX import FoldX\n",
    "from features3D.Structural import run_pops\n",
    "from features3D.Structural import POPS_parse2\n",
    "from AbPred.FoldX import names_stability_complex_wt,names_stability_complex_mut\n",
    "from AbPred.FoldX import read_analyse_complex\n",
    "from AbPred.FoldX import convert_features_to_differences\n",
    "from biopandas.pdb import PandasPdb\n",
    "import prody\n"
   ]
  },
  {
   "cell_type": "code",
   "execution_count": null,
   "metadata": {
    "collapsed": true
   },
   "outputs": [],
   "source": []
  }
 ],
 "metadata": {
  "kernelspec": {
   "display_name": "Python 3",
   "language": "python",
   "name": "python3"
  },
  "language_info": {
   "codemirror_mode": {
    "name": "ipython",
    "version": 3
   },
   "file_extension": ".py",
   "mimetype": "text/x-python",
   "name": "python",
   "nbconvert_exporter": "python",
   "pygments_lexer": "ipython3",
   "version": "3.6.7"
  }
 },
 "nbformat": 4,
 "nbformat_minor": 2
}
