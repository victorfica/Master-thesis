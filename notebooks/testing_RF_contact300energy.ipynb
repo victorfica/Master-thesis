{
 "cells": [
  {
   "cell_type": "code",
   "execution_count": 20,
   "metadata": {
    "collapsed": true
   },
   "outputs": [],
   "source": [
    "import pandas as pd\n",
    "from pathlib import Path\n",
    "\n",
    "from sklearn.ensemble import RandomForestRegressor\n",
    "import matplotlib.pyplot as plt\n",
    "import seaborn as sns\n",
    "import numpy as np\n",
    "from sklearn.model_selection import learning_curve\n",
    "\n",
    "from sklearn.pipeline import make_pipeline\n",
    "from yellowbrick.model_selection import LearningCurve\n",
    "from yellowbrick.regressor import ResidualsPlot\n",
    "from yellowbrick.regressor import PredictionError\n",
    "from sklearn.metrics import mean_squared_error,mean_absolute_error,r2_score\n",
    "from sklearn import metrics\n",
    "from sklearn.externals import joblib\n",
    "from sklearn.feature_selection import VarianceThreshold\n",
    "from sklearn.model_selection import GridSearchCV, KFold\n",
    "from sklearn.model_selection import train_test_split\n",
    "\n",
    "from imblearn import over_sampling as ovs\n",
    "from sklearn.compose import TransformedTargetRegressor\n",
    "from sklearn.preprocessing import QuantileTransformer,quantile_transform,PowerTransformer\n",
    "\n",
    "%matplotlib inline"
   ]
  },
  {
   "cell_type": "code",
   "execution_count": 21,
   "metadata": {
    "collapsed": true
   },
   "outputs": [],
   "source": [
    "sns.set_context(context=\"paper\")\n",
    "def learn_curves(estimator, features, target, cv):\n",
    "    train_sizes, train_scores, validation_scores = learning_curve(\n",
    "                                                 estimator, features, target,train_sizes = np.linspace(.1, 1.0, 10),\n",
    "                                                 cv = cv, scoring = 'neg_mean_squared_error',n_jobs=-1)\n",
    "    train_scores_mean = -train_scores.mean(axis = 1)\n",
    "    validation_scores_mean = -validation_scores.mean(axis = 1)\n",
    "    \n",
    "    plt.plot(train_sizes, np.sqrt(train_scores_mean), label = 'Training error')\n",
    "    plt.plot(train_sizes, np.sqrt(validation_scores_mean), label = 'Validation error')\n",
    "\n",
    "    plt.ylabel('RMSE', fontsize = 14)\n",
    "    plt.xlabel('Training set size', fontsize = 14)\n",
    "    title = 'Learning curve'\n",
    "    plt.title(title, fontsize = 18, y = 1.03)\n",
    "    plt.legend()\n",
    "    plt.ylim(0,3)"
   ]
  },
  {
   "cell_type": "code",
   "execution_count": 22,
   "metadata": {
    "collapsed": true
   },
   "outputs": [],
   "source": [
    "ABPRED_DIR = Path().cwd().parent\n",
    "DATA = ABPRED_DIR / \"data\"\n",
    "\n",
    "#dataframe final\n",
    "df_final = pd.read_csv(DATA/\"../data/DF_contact300_energy_2019.csv\",index_col=0)\n",
    "# Quitar modelos por homologia deltraining set\n",
    "#df_final_onlyHM = df_final.loc[df_final.index.str.startswith(\"HM\")]\n",
    "#df_final= df_final.loc[~df_final.index.str.startswith(\"HM\")]\n",
    "\n",
    "index_ddg8 = (df_final['ddG_exp']==8)\n",
    "df_final = df_final.loc[-index_ddg8]\n",
    "#testiar eliminando estructuras con ddg menor o igual a -4 kcal/mol , outliers\n",
    "index_ddg_4 =  (df_final['ddG_exp'] <= -4)\n",
    "df_final = df_final.loc[-index_ddg_4]\n",
    "\n",
    "\n",
    "pdb_names = df_final.index\n",
    "features_names = df_final.drop('ddG_exp',axis=1).columns\n"
   ]
  },
  {
   "cell_type": "code",
   "execution_count": 23,
   "metadata": {
    "collapsed": true
   },
   "outputs": [],
   "source": [
    "import math\n",
    "def deltaG_to_Kd(delg):\n",
    "    Kd_value = math.exp((delg*1000)/(1.98*298.15))\n",
    "    return Kd_value"
   ]
  },
  {
   "cell_type": "code",
   "execution_count": 24,
   "metadata": {
    "collapsed": true
   },
   "outputs": [],
   "source": [
    "#X = df_final_f1 # con filtrado de varianza\n",
    "X = df_final.drop('ddG_exp',axis=1)\n",
    "y = df_final['ddG_exp']"
   ]
  },
  {
   "cell_type": "code",
   "execution_count": null,
   "metadata": {},
   "outputs": [],
   "source": []
  },
  {
   "cell_type": "code",
   "execution_count": 25,
   "metadata": {},
   "outputs": [
    {
     "name": "stderr",
     "output_type": "stream",
     "text": [
      "/Users/vfica/miniconda3/envs/bio/lib/python3.6/site-packages/sklearn/model_selection/_split.py:2069: FutureWarning: From version 0.21, test_size will always complement train_size unless both are specified.\n",
      "  FutureWarning)\n"
     ]
    }
   ],
   "source": [
    "X_train, X_test, y_train, y_test = train_test_split(X, y,train_size=0.75,random_state=1212)\n",
    "                                                    "
   ]
  },
  {
   "cell_type": "markdown",
   "metadata": {},
   "source": [
    " max_depth 3-4-5-6-7, maxleafnodes 5-6-7-10, min_samples_spli 100-10,15,min_samples_leaf 8-9-10, max features 7,10,15"
   ]
  },
  {
   "cell_type": "code",
   "execution_count": 41,
   "metadata": {},
   "outputs": [
    {
     "name": "stderr",
     "output_type": "stream",
     "text": [
      "/Users/vfica/miniconda3/envs/bio/lib/python3.6/site-packages/sklearn/ensemble/forest.py:248: FutureWarning: The default value of n_estimators will change from 10 in version 0.20 to 100 in 0.22.\n",
      "  \"10 in version 0.20 to 100 in 0.22.\", FutureWarning)\n",
      "/Users/vfica/miniconda3/envs/bio/lib/python3.6/site-packages/sklearn/ensemble/forest.py:248: FutureWarning: The default value of n_estimators will change from 10 in version 0.20 to 100 in 0.22.\n",
      "  \"10 in version 0.20 to 100 in 0.22.\", FutureWarning)\n",
      "/Users/vfica/miniconda3/envs/bio/lib/python3.6/site-packages/sklearn/ensemble/forest.py:248: FutureWarning: The default value of n_estimators will change from 10 in version 0.20 to 100 in 0.22.\n",
      "  \"10 in version 0.20 to 100 in 0.22.\", FutureWarning)\n",
      "/Users/vfica/miniconda3/envs/bio/lib/python3.6/site-packages/sklearn/ensemble/forest.py:248: FutureWarning: The default value of n_estimators will change from 10 in version 0.20 to 100 in 0.22.\n",
      "  \"10 in version 0.20 to 100 in 0.22.\", FutureWarning)\n",
      "/Users/vfica/miniconda3/envs/bio/lib/python3.6/site-packages/sklearn/ensemble/forest.py:248: FutureWarning: The default value of n_estimators will change from 10 in version 0.20 to 100 in 0.22.\n",
      "  \"10 in version 0.20 to 100 in 0.22.\", FutureWarning)\n",
      "/Users/vfica/miniconda3/envs/bio/lib/python3.6/site-packages/sklearn/ensemble/forest.py:248: FutureWarning: The default value of n_estimators will change from 10 in version 0.20 to 100 in 0.22.\n",
      "  \"10 in version 0.20 to 100 in 0.22.\", FutureWarning)\n",
      "/Users/vfica/miniconda3/envs/bio/lib/python3.6/site-packages/sklearn/ensemble/forest.py:248: FutureWarning: The default value of n_estimators will change from 10 in version 0.20 to 100 in 0.22.\n",
      "  \"10 in version 0.20 to 100 in 0.22.\", FutureWarning)\n",
      "/Users/vfica/miniconda3/envs/bio/lib/python3.6/site-packages/sklearn/ensemble/forest.py:248: FutureWarning: The default value of n_estimators will change from 10 in version 0.20 to 100 in 0.22.\n",
      "  \"10 in version 0.20 to 100 in 0.22.\", FutureWarning)\n",
      "/Users/vfica/miniconda3/envs/bio/lib/python3.6/site-packages/sklearn/ensemble/forest.py:248: FutureWarning: The default value of n_estimators will change from 10 in version 0.20 to 100 in 0.22.\n",
      "  \"10 in version 0.20 to 100 in 0.22.\", FutureWarning)\n",
      "/Users/vfica/miniconda3/envs/bio/lib/python3.6/site-packages/sklearn/ensemble/forest.py:248: FutureWarning: The default value of n_estimators will change from 10 in version 0.20 to 100 in 0.22.\n",
      "  \"10 in version 0.20 to 100 in 0.22.\", FutureWarning)\n",
      "/Users/vfica/miniconda3/envs/bio/lib/python3.6/site-packages/sklearn/ensemble/forest.py:248: FutureWarning: The default value of n_estimators will change from 10 in version 0.20 to 100 in 0.22.\n",
      "  \"10 in version 0.20 to 100 in 0.22.\", FutureWarning)\n",
      "/Users/vfica/miniconda3/envs/bio/lib/python3.6/site-packages/sklearn/ensemble/forest.py:248: FutureWarning: The default value of n_estimators will change from 10 in version 0.20 to 100 in 0.22.\n",
      "  \"10 in version 0.20 to 100 in 0.22.\", FutureWarning)\n",
      "/Users/vfica/miniconda3/envs/bio/lib/python3.6/site-packages/sklearn/ensemble/forest.py:248: FutureWarning: The default value of n_estimators will change from 10 in version 0.20 to 100 in 0.22.\n",
      "  \"10 in version 0.20 to 100 in 0.22.\", FutureWarning)\n",
      "/Users/vfica/miniconda3/envs/bio/lib/python3.6/site-packages/sklearn/ensemble/forest.py:248: FutureWarning: The default value of n_estimators will change from 10 in version 0.20 to 100 in 0.22.\n",
      "  \"10 in version 0.20 to 100 in 0.22.\", FutureWarning)\n",
      "/Users/vfica/miniconda3/envs/bio/lib/python3.6/site-packages/sklearn/ensemble/forest.py:248: FutureWarning: The default value of n_estimators will change from 10 in version 0.20 to 100 in 0.22.\n",
      "  \"10 in version 0.20 to 100 in 0.22.\", FutureWarning)\n",
      "/Users/vfica/miniconda3/envs/bio/lib/python3.6/site-packages/sklearn/ensemble/forest.py:248: FutureWarning: The default value of n_estimators will change from 10 in version 0.20 to 100 in 0.22.\n",
      "  \"10 in version 0.20 to 100 in 0.22.\", FutureWarning)\n",
      "/Users/vfica/miniconda3/envs/bio/lib/python3.6/site-packages/sklearn/ensemble/forest.py:248: FutureWarning: The default value of n_estimators will change from 10 in version 0.20 to 100 in 0.22.\n",
      "  \"10 in version 0.20 to 100 in 0.22.\", FutureWarning)\n",
      "/Users/vfica/miniconda3/envs/bio/lib/python3.6/site-packages/sklearn/ensemble/forest.py:248: FutureWarning: The default value of n_estimators will change from 10 in version 0.20 to 100 in 0.22.\n",
      "  \"10 in version 0.20 to 100 in 0.22.\", FutureWarning)\n",
      "/Users/vfica/miniconda3/envs/bio/lib/python3.6/site-packages/sklearn/ensemble/forest.py:248: FutureWarning: The default value of n_estimators will change from 10 in version 0.20 to 100 in 0.22.\n",
      "  \"10 in version 0.20 to 100 in 0.22.\", FutureWarning)\n",
      "/Users/vfica/miniconda3/envs/bio/lib/python3.6/site-packages/sklearn/ensemble/forest.py:248: FutureWarning: The default value of n_estimators will change from 10 in version 0.20 to 100 in 0.22.\n",
      "  \"10 in version 0.20 to 100 in 0.22.\", FutureWarning)\n",
      "/Users/vfica/miniconda3/envs/bio/lib/python3.6/site-packages/sklearn/ensemble/forest.py:248: FutureWarning: The default value of n_estimators will change from 10 in version 0.20 to 100 in 0.22.\n",
      "  \"10 in version 0.20 to 100 in 0.22.\", FutureWarning)\n",
      "/Users/vfica/miniconda3/envs/bio/lib/python3.6/site-packages/sklearn/ensemble/forest.py:248: FutureWarning: The default value of n_estimators will change from 10 in version 0.20 to 100 in 0.22.\n",
      "  \"10 in version 0.20 to 100 in 0.22.\", FutureWarning)\n",
      "/Users/vfica/miniconda3/envs/bio/lib/python3.6/site-packages/sklearn/ensemble/forest.py:248: FutureWarning: The default value of n_estimators will change from 10 in version 0.20 to 100 in 0.22.\n",
      "  \"10 in version 0.20 to 100 in 0.22.\", FutureWarning)\n",
      "/Users/vfica/miniconda3/envs/bio/lib/python3.6/site-packages/sklearn/ensemble/forest.py:248: FutureWarning: The default value of n_estimators will change from 10 in version 0.20 to 100 in 0.22.\n",
      "  \"10 in version 0.20 to 100 in 0.22.\", FutureWarning)\n",
      "/Users/vfica/miniconda3/envs/bio/lib/python3.6/site-packages/sklearn/ensemble/forest.py:248: FutureWarning: The default value of n_estimators will change from 10 in version 0.20 to 100 in 0.22.\n",
      "  \"10 in version 0.20 to 100 in 0.22.\", FutureWarning)\n",
      "/Users/vfica/miniconda3/envs/bio/lib/python3.6/site-packages/sklearn/ensemble/forest.py:248: FutureWarning: The default value of n_estimators will change from 10 in version 0.20 to 100 in 0.22.\n",
      "  \"10 in version 0.20 to 100 in 0.22.\", FutureWarning)\n",
      "/Users/vfica/miniconda3/envs/bio/lib/python3.6/site-packages/sklearn/ensemble/forest.py:248: FutureWarning: The default value of n_estimators will change from 10 in version 0.20 to 100 in 0.22.\n",
      "  \"10 in version 0.20 to 100 in 0.22.\", FutureWarning)\n",
      "/Users/vfica/miniconda3/envs/bio/lib/python3.6/site-packages/sklearn/ensemble/forest.py:248: FutureWarning: The default value of n_estimators will change from 10 in version 0.20 to 100 in 0.22.\n",
      "  \"10 in version 0.20 to 100 in 0.22.\", FutureWarning)\n",
      "/Users/vfica/miniconda3/envs/bio/lib/python3.6/site-packages/sklearn/ensemble/forest.py:248: FutureWarning: The default value of n_estimators will change from 10 in version 0.20 to 100 in 0.22.\n",
      "  \"10 in version 0.20 to 100 in 0.22.\", FutureWarning)\n",
      "/Users/vfica/miniconda3/envs/bio/lib/python3.6/site-packages/sklearn/ensemble/forest.py:248: FutureWarning: The default value of n_estimators will change from 10 in version 0.20 to 100 in 0.22.\n",
      "  \"10 in version 0.20 to 100 in 0.22.\", FutureWarning)\n",
      "/Users/vfica/miniconda3/envs/bio/lib/python3.6/site-packages/sklearn/ensemble/forest.py:248: FutureWarning: The default value of n_estimators will change from 10 in version 0.20 to 100 in 0.22.\n",
      "  \"10 in version 0.20 to 100 in 0.22.\", FutureWarning)\n",
      "/Users/vfica/miniconda3/envs/bio/lib/python3.6/site-packages/sklearn/ensemble/forest.py:248: FutureWarning: The default value of n_estimators will change from 10 in version 0.20 to 100 in 0.22.\n",
      "  \"10 in version 0.20 to 100 in 0.22.\", FutureWarning)\n",
      "/Users/vfica/miniconda3/envs/bio/lib/python3.6/site-packages/sklearn/ensemble/forest.py:248: FutureWarning: The default value of n_estimators will change from 10 in version 0.20 to 100 in 0.22.\n",
      "  \"10 in version 0.20 to 100 in 0.22.\", FutureWarning)\n"
     ]
    },
    {
     "name": "stderr",
     "output_type": "stream",
     "text": [
      "/Users/vfica/miniconda3/envs/bio/lib/python3.6/site-packages/sklearn/ensemble/forest.py:248: FutureWarning: The default value of n_estimators will change from 10 in version 0.20 to 100 in 0.22.\n",
      "  \"10 in version 0.20 to 100 in 0.22.\", FutureWarning)\n",
      "/Users/vfica/miniconda3/envs/bio/lib/python3.6/site-packages/sklearn/ensemble/forest.py:248: FutureWarning: The default value of n_estimators will change from 10 in version 0.20 to 100 in 0.22.\n",
      "  \"10 in version 0.20 to 100 in 0.22.\", FutureWarning)\n",
      "/Users/vfica/miniconda3/envs/bio/lib/python3.6/site-packages/sklearn/ensemble/forest.py:248: FutureWarning: The default value of n_estimators will change from 10 in version 0.20 to 100 in 0.22.\n",
      "  \"10 in version 0.20 to 100 in 0.22.\", FutureWarning)\n",
      "/Users/vfica/miniconda3/envs/bio/lib/python3.6/site-packages/sklearn/ensemble/forest.py:248: FutureWarning: The default value of n_estimators will change from 10 in version 0.20 to 100 in 0.22.\n",
      "  \"10 in version 0.20 to 100 in 0.22.\", FutureWarning)\n",
      "/Users/vfica/miniconda3/envs/bio/lib/python3.6/site-packages/sklearn/ensemble/forest.py:248: FutureWarning: The default value of n_estimators will change from 10 in version 0.20 to 100 in 0.22.\n",
      "  \"10 in version 0.20 to 100 in 0.22.\", FutureWarning)\n",
      "/Users/vfica/miniconda3/envs/bio/lib/python3.6/site-packages/sklearn/ensemble/forest.py:248: FutureWarning: The default value of n_estimators will change from 10 in version 0.20 to 100 in 0.22.\n",
      "  \"10 in version 0.20 to 100 in 0.22.\", FutureWarning)\n",
      "/Users/vfica/miniconda3/envs/bio/lib/python3.6/site-packages/sklearn/ensemble/forest.py:248: FutureWarning: The default value of n_estimators will change from 10 in version 0.20 to 100 in 0.22.\n",
      "  \"10 in version 0.20 to 100 in 0.22.\", FutureWarning)\n",
      "/Users/vfica/miniconda3/envs/bio/lib/python3.6/site-packages/sklearn/ensemble/forest.py:248: FutureWarning: The default value of n_estimators will change from 10 in version 0.20 to 100 in 0.22.\n",
      "  \"10 in version 0.20 to 100 in 0.22.\", FutureWarning)\n",
      "/Users/vfica/miniconda3/envs/bio/lib/python3.6/site-packages/sklearn/ensemble/forest.py:248: FutureWarning: The default value of n_estimators will change from 10 in version 0.20 to 100 in 0.22.\n",
      "  \"10 in version 0.20 to 100 in 0.22.\", FutureWarning)\n",
      "/Users/vfica/miniconda3/envs/bio/lib/python3.6/site-packages/sklearn/ensemble/forest.py:248: FutureWarning: The default value of n_estimators will change from 10 in version 0.20 to 100 in 0.22.\n",
      "  \"10 in version 0.20 to 100 in 0.22.\", FutureWarning)\n",
      "/Users/vfica/miniconda3/envs/bio/lib/python3.6/site-packages/sklearn/ensemble/forest.py:248: FutureWarning: The default value of n_estimators will change from 10 in version 0.20 to 100 in 0.22.\n",
      "  \"10 in version 0.20 to 100 in 0.22.\", FutureWarning)\n",
      "/Users/vfica/miniconda3/envs/bio/lib/python3.6/site-packages/sklearn/ensemble/forest.py:248: FutureWarning: The default value of n_estimators will change from 10 in version 0.20 to 100 in 0.22.\n",
      "  \"10 in version 0.20 to 100 in 0.22.\", FutureWarning)\n",
      "/Users/vfica/miniconda3/envs/bio/lib/python3.6/site-packages/sklearn/ensemble/forest.py:248: FutureWarning: The default value of n_estimators will change from 10 in version 0.20 to 100 in 0.22.\n",
      "  \"10 in version 0.20 to 100 in 0.22.\", FutureWarning)\n",
      "/Users/vfica/miniconda3/envs/bio/lib/python3.6/site-packages/sklearn/ensemble/forest.py:248: FutureWarning: The default value of n_estimators will change from 10 in version 0.20 to 100 in 0.22.\n",
      "  \"10 in version 0.20 to 100 in 0.22.\", FutureWarning)\n",
      "/Users/vfica/miniconda3/envs/bio/lib/python3.6/site-packages/sklearn/ensemble/forest.py:248: FutureWarning: The default value of n_estimators will change from 10 in version 0.20 to 100 in 0.22.\n",
      "  \"10 in version 0.20 to 100 in 0.22.\", FutureWarning)\n",
      "/Users/vfica/miniconda3/envs/bio/lib/python3.6/site-packages/sklearn/ensemble/forest.py:248: FutureWarning: The default value of n_estimators will change from 10 in version 0.20 to 100 in 0.22.\n",
      "  \"10 in version 0.20 to 100 in 0.22.\", FutureWarning)\n",
      "/Users/vfica/miniconda3/envs/bio/lib/python3.6/site-packages/sklearn/ensemble/forest.py:248: FutureWarning: The default value of n_estimators will change from 10 in version 0.20 to 100 in 0.22.\n",
      "  \"10 in version 0.20 to 100 in 0.22.\", FutureWarning)\n",
      "/Users/vfica/miniconda3/envs/bio/lib/python3.6/site-packages/sklearn/ensemble/forest.py:248: FutureWarning: The default value of n_estimators will change from 10 in version 0.20 to 100 in 0.22.\n",
      "  \"10 in version 0.20 to 100 in 0.22.\", FutureWarning)\n",
      "/Users/vfica/miniconda3/envs/bio/lib/python3.6/site-packages/sklearn/ensemble/forest.py:248: FutureWarning: The default value of n_estimators will change from 10 in version 0.20 to 100 in 0.22.\n",
      "  \"10 in version 0.20 to 100 in 0.22.\", FutureWarning)\n",
      "/Users/vfica/miniconda3/envs/bio/lib/python3.6/site-packages/sklearn/ensemble/forest.py:248: FutureWarning: The default value of n_estimators will change from 10 in version 0.20 to 100 in 0.22.\n",
      "  \"10 in version 0.20 to 100 in 0.22.\", FutureWarning)\n",
      "/Users/vfica/miniconda3/envs/bio/lib/python3.6/site-packages/sklearn/ensemble/forest.py:248: FutureWarning: The default value of n_estimators will change from 10 in version 0.20 to 100 in 0.22.\n",
      "  \"10 in version 0.20 to 100 in 0.22.\", FutureWarning)\n",
      "/Users/vfica/miniconda3/envs/bio/lib/python3.6/site-packages/sklearn/ensemble/forest.py:248: FutureWarning: The default value of n_estimators will change from 10 in version 0.20 to 100 in 0.22.\n",
      "  \"10 in version 0.20 to 100 in 0.22.\", FutureWarning)\n",
      "/Users/vfica/miniconda3/envs/bio/lib/python3.6/site-packages/sklearn/ensemble/forest.py:248: FutureWarning: The default value of n_estimators will change from 10 in version 0.20 to 100 in 0.22.\n",
      "  \"10 in version 0.20 to 100 in 0.22.\", FutureWarning)\n",
      "/Users/vfica/miniconda3/envs/bio/lib/python3.6/site-packages/sklearn/ensemble/forest.py:248: FutureWarning: The default value of n_estimators will change from 10 in version 0.20 to 100 in 0.22.\n",
      "  \"10 in version 0.20 to 100 in 0.22.\", FutureWarning)\n",
      "/Users/vfica/miniconda3/envs/bio/lib/python3.6/site-packages/sklearn/ensemble/forest.py:248: FutureWarning: The default value of n_estimators will change from 10 in version 0.20 to 100 in 0.22.\n",
      "  \"10 in version 0.20 to 100 in 0.22.\", FutureWarning)\n",
      "/Users/vfica/miniconda3/envs/bio/lib/python3.6/site-packages/sklearn/ensemble/forest.py:248: FutureWarning: The default value of n_estimators will change from 10 in version 0.20 to 100 in 0.22.\n",
      "  \"10 in version 0.20 to 100 in 0.22.\", FutureWarning)\n",
      "/Users/vfica/miniconda3/envs/bio/lib/python3.6/site-packages/sklearn/ensemble/forest.py:248: FutureWarning: The default value of n_estimators will change from 10 in version 0.20 to 100 in 0.22.\n",
      "  \"10 in version 0.20 to 100 in 0.22.\", FutureWarning)\n",
      "/Users/vfica/miniconda3/envs/bio/lib/python3.6/site-packages/sklearn/ensemble/forest.py:248: FutureWarning: The default value of n_estimators will change from 10 in version 0.20 to 100 in 0.22.\n",
      "  \"10 in version 0.20 to 100 in 0.22.\", FutureWarning)\n",
      "/Users/vfica/miniconda3/envs/bio/lib/python3.6/site-packages/sklearn/ensemble/forest.py:248: FutureWarning: The default value of n_estimators will change from 10 in version 0.20 to 100 in 0.22.\n",
      "  \"10 in version 0.20 to 100 in 0.22.\", FutureWarning)\n",
      "/Users/vfica/miniconda3/envs/bio/lib/python3.6/site-packages/sklearn/ensemble/forest.py:248: FutureWarning: The default value of n_estimators will change from 10 in version 0.20 to 100 in 0.22.\n",
      "  \"10 in version 0.20 to 100 in 0.22.\", FutureWarning)\n",
      "/Users/vfica/miniconda3/envs/bio/lib/python3.6/site-packages/sklearn/ensemble/forest.py:248: FutureWarning: The default value of n_estimators will change from 10 in version 0.20 to 100 in 0.22.\n",
      "  \"10 in version 0.20 to 100 in 0.22.\", FutureWarning)\n",
      "/Users/vfica/miniconda3/envs/bio/lib/python3.6/site-packages/sklearn/ensemble/forest.py:248: FutureWarning: The default value of n_estimators will change from 10 in version 0.20 to 100 in 0.22.\n",
      "  \"10 in version 0.20 to 100 in 0.22.\", FutureWarning)\n",
      "/Users/vfica/miniconda3/envs/bio/lib/python3.6/site-packages/sklearn/ensemble/forest.py:248: FutureWarning: The default value of n_estimators will change from 10 in version 0.20 to 100 in 0.22.\n",
      "  \"10 in version 0.20 to 100 in 0.22.\", FutureWarning)\n",
      "/Users/vfica/miniconda3/envs/bio/lib/python3.6/site-packages/sklearn/ensemble/forest.py:248: FutureWarning: The default value of n_estimators will change from 10 in version 0.20 to 100 in 0.22.\n",
      "  \"10 in version 0.20 to 100 in 0.22.\", FutureWarning)\n"
     ]
    },
    {
     "name": "stderr",
     "output_type": "stream",
     "text": [
      "/Users/vfica/miniconda3/envs/bio/lib/python3.6/site-packages/sklearn/ensemble/forest.py:248: FutureWarning: The default value of n_estimators will change from 10 in version 0.20 to 100 in 0.22.\n",
      "  \"10 in version 0.20 to 100 in 0.22.\", FutureWarning)\n",
      "/Users/vfica/miniconda3/envs/bio/lib/python3.6/site-packages/sklearn/ensemble/forest.py:248: FutureWarning: The default value of n_estimators will change from 10 in version 0.20 to 100 in 0.22.\n",
      "  \"10 in version 0.20 to 100 in 0.22.\", FutureWarning)\n",
      "/Users/vfica/miniconda3/envs/bio/lib/python3.6/site-packages/sklearn/ensemble/forest.py:248: FutureWarning: The default value of n_estimators will change from 10 in version 0.20 to 100 in 0.22.\n",
      "  \"10 in version 0.20 to 100 in 0.22.\", FutureWarning)\n",
      "/Users/vfica/miniconda3/envs/bio/lib/python3.6/site-packages/sklearn/ensemble/forest.py:248: FutureWarning: The default value of n_estimators will change from 10 in version 0.20 to 100 in 0.22.\n",
      "  \"10 in version 0.20 to 100 in 0.22.\", FutureWarning)\n",
      "/Users/vfica/miniconda3/envs/bio/lib/python3.6/site-packages/sklearn/ensemble/forest.py:248: FutureWarning: The default value of n_estimators will change from 10 in version 0.20 to 100 in 0.22.\n",
      "  \"10 in version 0.20 to 100 in 0.22.\", FutureWarning)\n",
      "/Users/vfica/miniconda3/envs/bio/lib/python3.6/site-packages/sklearn/ensemble/forest.py:248: FutureWarning: The default value of n_estimators will change from 10 in version 0.20 to 100 in 0.22.\n",
      "  \"10 in version 0.20 to 100 in 0.22.\", FutureWarning)\n",
      "/Users/vfica/miniconda3/envs/bio/lib/python3.6/site-packages/sklearn/ensemble/forest.py:248: FutureWarning: The default value of n_estimators will change from 10 in version 0.20 to 100 in 0.22.\n",
      "  \"10 in version 0.20 to 100 in 0.22.\", FutureWarning)\n",
      "/Users/vfica/miniconda3/envs/bio/lib/python3.6/site-packages/sklearn/ensemble/forest.py:248: FutureWarning: The default value of n_estimators will change from 10 in version 0.20 to 100 in 0.22.\n",
      "  \"10 in version 0.20 to 100 in 0.22.\", FutureWarning)\n",
      "/Users/vfica/miniconda3/envs/bio/lib/python3.6/site-packages/sklearn/ensemble/forest.py:248: FutureWarning: The default value of n_estimators will change from 10 in version 0.20 to 100 in 0.22.\n",
      "  \"10 in version 0.20 to 100 in 0.22.\", FutureWarning)\n",
      "/Users/vfica/miniconda3/envs/bio/lib/python3.6/site-packages/sklearn/ensemble/forest.py:248: FutureWarning: The default value of n_estimators will change from 10 in version 0.20 to 100 in 0.22.\n",
      "  \"10 in version 0.20 to 100 in 0.22.\", FutureWarning)\n",
      "/Users/vfica/miniconda3/envs/bio/lib/python3.6/site-packages/sklearn/ensemble/forest.py:248: FutureWarning: The default value of n_estimators will change from 10 in version 0.20 to 100 in 0.22.\n",
      "  \"10 in version 0.20 to 100 in 0.22.\", FutureWarning)\n",
      "/Users/vfica/miniconda3/envs/bio/lib/python3.6/site-packages/sklearn/ensemble/forest.py:248: FutureWarning: The default value of n_estimators will change from 10 in version 0.20 to 100 in 0.22.\n",
      "  \"10 in version 0.20 to 100 in 0.22.\", FutureWarning)\n",
      "/Users/vfica/miniconda3/envs/bio/lib/python3.6/site-packages/sklearn/ensemble/forest.py:248: FutureWarning: The default value of n_estimators will change from 10 in version 0.20 to 100 in 0.22.\n",
      "  \"10 in version 0.20 to 100 in 0.22.\", FutureWarning)\n",
      "/Users/vfica/miniconda3/envs/bio/lib/python3.6/site-packages/sklearn/ensemble/forest.py:248: FutureWarning: The default value of n_estimators will change from 10 in version 0.20 to 100 in 0.22.\n",
      "  \"10 in version 0.20 to 100 in 0.22.\", FutureWarning)\n",
      "/Users/vfica/miniconda3/envs/bio/lib/python3.6/site-packages/sklearn/ensemble/forest.py:248: FutureWarning: The default value of n_estimators will change from 10 in version 0.20 to 100 in 0.22.\n",
      "  \"10 in version 0.20 to 100 in 0.22.\", FutureWarning)\n",
      "/Users/vfica/miniconda3/envs/bio/lib/python3.6/site-packages/sklearn/ensemble/forest.py:248: FutureWarning: The default value of n_estimators will change from 10 in version 0.20 to 100 in 0.22.\n",
      "  \"10 in version 0.20 to 100 in 0.22.\", FutureWarning)\n",
      "/Users/vfica/miniconda3/envs/bio/lib/python3.6/site-packages/sklearn/ensemble/forest.py:248: FutureWarning: The default value of n_estimators will change from 10 in version 0.20 to 100 in 0.22.\n",
      "  \"10 in version 0.20 to 100 in 0.22.\", FutureWarning)\n",
      "/Users/vfica/miniconda3/envs/bio/lib/python3.6/site-packages/sklearn/ensemble/forest.py:248: FutureWarning: The default value of n_estimators will change from 10 in version 0.20 to 100 in 0.22.\n",
      "  \"10 in version 0.20 to 100 in 0.22.\", FutureWarning)\n",
      "/Users/vfica/miniconda3/envs/bio/lib/python3.6/site-packages/sklearn/ensemble/forest.py:248: FutureWarning: The default value of n_estimators will change from 10 in version 0.20 to 100 in 0.22.\n",
      "  \"10 in version 0.20 to 100 in 0.22.\", FutureWarning)\n",
      "/Users/vfica/miniconda3/envs/bio/lib/python3.6/site-packages/sklearn/ensemble/forest.py:248: FutureWarning: The default value of n_estimators will change from 10 in version 0.20 to 100 in 0.22.\n",
      "  \"10 in version 0.20 to 100 in 0.22.\", FutureWarning)\n",
      "/Users/vfica/miniconda3/envs/bio/lib/python3.6/site-packages/sklearn/ensemble/forest.py:248: FutureWarning: The default value of n_estimators will change from 10 in version 0.20 to 100 in 0.22.\n",
      "  \"10 in version 0.20 to 100 in 0.22.\", FutureWarning)\n",
      "/Users/vfica/miniconda3/envs/bio/lib/python3.6/site-packages/sklearn/ensemble/forest.py:248: FutureWarning: The default value of n_estimators will change from 10 in version 0.20 to 100 in 0.22.\n",
      "  \"10 in version 0.20 to 100 in 0.22.\", FutureWarning)\n",
      "/Users/vfica/miniconda3/envs/bio/lib/python3.6/site-packages/sklearn/ensemble/forest.py:248: FutureWarning: The default value of n_estimators will change from 10 in version 0.20 to 100 in 0.22.\n",
      "  \"10 in version 0.20 to 100 in 0.22.\", FutureWarning)\n",
      "/Users/vfica/miniconda3/envs/bio/lib/python3.6/site-packages/sklearn/ensemble/forest.py:248: FutureWarning: The default value of n_estimators will change from 10 in version 0.20 to 100 in 0.22.\n",
      "  \"10 in version 0.20 to 100 in 0.22.\", FutureWarning)\n",
      "/Users/vfica/miniconda3/envs/bio/lib/python3.6/site-packages/sklearn/ensemble/forest.py:248: FutureWarning: The default value of n_estimators will change from 10 in version 0.20 to 100 in 0.22.\n",
      "  \"10 in version 0.20 to 100 in 0.22.\", FutureWarning)\n",
      "/Users/vfica/miniconda3/envs/bio/lib/python3.6/site-packages/sklearn/ensemble/forest.py:248: FutureWarning: The default value of n_estimators will change from 10 in version 0.20 to 100 in 0.22.\n",
      "  \"10 in version 0.20 to 100 in 0.22.\", FutureWarning)\n",
      "/Users/vfica/miniconda3/envs/bio/lib/python3.6/site-packages/sklearn/ensemble/forest.py:248: FutureWarning: The default value of n_estimators will change from 10 in version 0.20 to 100 in 0.22.\n",
      "  \"10 in version 0.20 to 100 in 0.22.\", FutureWarning)\n",
      "/Users/vfica/miniconda3/envs/bio/lib/python3.6/site-packages/sklearn/ensemble/forest.py:248: FutureWarning: The default value of n_estimators will change from 10 in version 0.20 to 100 in 0.22.\n",
      "  \"10 in version 0.20 to 100 in 0.22.\", FutureWarning)\n",
      "/Users/vfica/miniconda3/envs/bio/lib/python3.6/site-packages/sklearn/ensemble/forest.py:248: FutureWarning: The default value of n_estimators will change from 10 in version 0.20 to 100 in 0.22.\n",
      "  \"10 in version 0.20 to 100 in 0.22.\", FutureWarning)\n",
      "/Users/vfica/miniconda3/envs/bio/lib/python3.6/site-packages/sklearn/ensemble/forest.py:248: FutureWarning: The default value of n_estimators will change from 10 in version 0.20 to 100 in 0.22.\n",
      "  \"10 in version 0.20 to 100 in 0.22.\", FutureWarning)\n",
      "/Users/vfica/miniconda3/envs/bio/lib/python3.6/site-packages/sklearn/ensemble/forest.py:248: FutureWarning: The default value of n_estimators will change from 10 in version 0.20 to 100 in 0.22.\n",
      "  \"10 in version 0.20 to 100 in 0.22.\", FutureWarning)\n",
      "/Users/vfica/miniconda3/envs/bio/lib/python3.6/site-packages/sklearn/ensemble/forest.py:248: FutureWarning: The default value of n_estimators will change from 10 in version 0.20 to 100 in 0.22.\n",
      "  \"10 in version 0.20 to 100 in 0.22.\", FutureWarning)\n",
      "/Users/vfica/miniconda3/envs/bio/lib/python3.6/site-packages/sklearn/ensemble/forest.py:248: FutureWarning: The default value of n_estimators will change from 10 in version 0.20 to 100 in 0.22.\n",
      "  \"10 in version 0.20 to 100 in 0.22.\", FutureWarning)\n",
      "/Users/vfica/miniconda3/envs/bio/lib/python3.6/site-packages/sklearn/ensemble/forest.py:248: FutureWarning: The default value of n_estimators will change from 10 in version 0.20 to 100 in 0.22.\n",
      "  \"10 in version 0.20 to 100 in 0.22.\", FutureWarning)\n"
     ]
    },
    {
     "name": "stderr",
     "output_type": "stream",
     "text": [
      "/Users/vfica/miniconda3/envs/bio/lib/python3.6/site-packages/sklearn/ensemble/forest.py:248: FutureWarning: The default value of n_estimators will change from 10 in version 0.20 to 100 in 0.22.\n",
      "  \"10 in version 0.20 to 100 in 0.22.\", FutureWarning)\n",
      "/Users/vfica/miniconda3/envs/bio/lib/python3.6/site-packages/sklearn/ensemble/forest.py:248: FutureWarning: The default value of n_estimators will change from 10 in version 0.20 to 100 in 0.22.\n",
      "  \"10 in version 0.20 to 100 in 0.22.\", FutureWarning)\n",
      "/Users/vfica/miniconda3/envs/bio/lib/python3.6/site-packages/sklearn/ensemble/forest.py:248: FutureWarning: The default value of n_estimators will change from 10 in version 0.20 to 100 in 0.22.\n",
      "  \"10 in version 0.20 to 100 in 0.22.\", FutureWarning)\n",
      "/Users/vfica/miniconda3/envs/bio/lib/python3.6/site-packages/sklearn/ensemble/forest.py:248: FutureWarning: The default value of n_estimators will change from 10 in version 0.20 to 100 in 0.22.\n",
      "  \"10 in version 0.20 to 100 in 0.22.\", FutureWarning)\n",
      "/Users/vfica/miniconda3/envs/bio/lib/python3.6/site-packages/sklearn/ensemble/forest.py:248: FutureWarning: The default value of n_estimators will change from 10 in version 0.20 to 100 in 0.22.\n",
      "  \"10 in version 0.20 to 100 in 0.22.\", FutureWarning)\n",
      "/Users/vfica/miniconda3/envs/bio/lib/python3.6/site-packages/sklearn/ensemble/forest.py:248: FutureWarning: The default value of n_estimators will change from 10 in version 0.20 to 100 in 0.22.\n",
      "  \"10 in version 0.20 to 100 in 0.22.\", FutureWarning)\n",
      "/Users/vfica/miniconda3/envs/bio/lib/python3.6/site-packages/sklearn/ensemble/forest.py:248: FutureWarning: The default value of n_estimators will change from 10 in version 0.20 to 100 in 0.22.\n",
      "  \"10 in version 0.20 to 100 in 0.22.\", FutureWarning)\n",
      "/Users/vfica/miniconda3/envs/bio/lib/python3.6/site-packages/sklearn/ensemble/forest.py:248: FutureWarning: The default value of n_estimators will change from 10 in version 0.20 to 100 in 0.22.\n",
      "  \"10 in version 0.20 to 100 in 0.22.\", FutureWarning)\n",
      "/Users/vfica/miniconda3/envs/bio/lib/python3.6/site-packages/sklearn/ensemble/forest.py:248: FutureWarning: The default value of n_estimators will change from 10 in version 0.20 to 100 in 0.22.\n",
      "  \"10 in version 0.20 to 100 in 0.22.\", FutureWarning)\n",
      "/Users/vfica/miniconda3/envs/bio/lib/python3.6/site-packages/sklearn/ensemble/forest.py:248: FutureWarning: The default value of n_estimators will change from 10 in version 0.20 to 100 in 0.22.\n",
      "  \"10 in version 0.20 to 100 in 0.22.\", FutureWarning)\n",
      "/Users/vfica/miniconda3/envs/bio/lib/python3.6/site-packages/sklearn/ensemble/forest.py:248: FutureWarning: The default value of n_estimators will change from 10 in version 0.20 to 100 in 0.22.\n",
      "  \"10 in version 0.20 to 100 in 0.22.\", FutureWarning)\n",
      "/Users/vfica/miniconda3/envs/bio/lib/python3.6/site-packages/sklearn/ensemble/forest.py:248: FutureWarning: The default value of n_estimators will change from 10 in version 0.20 to 100 in 0.22.\n",
      "  \"10 in version 0.20 to 100 in 0.22.\", FutureWarning)\n",
      "/Users/vfica/miniconda3/envs/bio/lib/python3.6/site-packages/sklearn/ensemble/forest.py:248: FutureWarning: The default value of n_estimators will change from 10 in version 0.20 to 100 in 0.22.\n",
      "  \"10 in version 0.20 to 100 in 0.22.\", FutureWarning)\n",
      "/Users/vfica/miniconda3/envs/bio/lib/python3.6/site-packages/sklearn/ensemble/forest.py:248: FutureWarning: The default value of n_estimators will change from 10 in version 0.20 to 100 in 0.22.\n",
      "  \"10 in version 0.20 to 100 in 0.22.\", FutureWarning)\n",
      "/Users/vfica/miniconda3/envs/bio/lib/python3.6/site-packages/sklearn/ensemble/forest.py:248: FutureWarning: The default value of n_estimators will change from 10 in version 0.20 to 100 in 0.22.\n",
      "  \"10 in version 0.20 to 100 in 0.22.\", FutureWarning)\n",
      "/Users/vfica/miniconda3/envs/bio/lib/python3.6/site-packages/sklearn/ensemble/forest.py:248: FutureWarning: The default value of n_estimators will change from 10 in version 0.20 to 100 in 0.22.\n",
      "  \"10 in version 0.20 to 100 in 0.22.\", FutureWarning)\n",
      "/Users/vfica/miniconda3/envs/bio/lib/python3.6/site-packages/sklearn/ensemble/forest.py:248: FutureWarning: The default value of n_estimators will change from 10 in version 0.20 to 100 in 0.22.\n",
      "  \"10 in version 0.20 to 100 in 0.22.\", FutureWarning)\n",
      "/Users/vfica/miniconda3/envs/bio/lib/python3.6/site-packages/sklearn/ensemble/forest.py:248: FutureWarning: The default value of n_estimators will change from 10 in version 0.20 to 100 in 0.22.\n",
      "  \"10 in version 0.20 to 100 in 0.22.\", FutureWarning)\n",
      "/Users/vfica/miniconda3/envs/bio/lib/python3.6/site-packages/sklearn/ensemble/forest.py:248: FutureWarning: The default value of n_estimators will change from 10 in version 0.20 to 100 in 0.22.\n",
      "  \"10 in version 0.20 to 100 in 0.22.\", FutureWarning)\n",
      "/Users/vfica/miniconda3/envs/bio/lib/python3.6/site-packages/sklearn/ensemble/forest.py:248: FutureWarning: The default value of n_estimators will change from 10 in version 0.20 to 100 in 0.22.\n",
      "  \"10 in version 0.20 to 100 in 0.22.\", FutureWarning)\n",
      "/Users/vfica/miniconda3/envs/bio/lib/python3.6/site-packages/sklearn/ensemble/forest.py:248: FutureWarning: The default value of n_estimators will change from 10 in version 0.20 to 100 in 0.22.\n",
      "  \"10 in version 0.20 to 100 in 0.22.\", FutureWarning)\n",
      "/Users/vfica/miniconda3/envs/bio/lib/python3.6/site-packages/sklearn/ensemble/forest.py:248: FutureWarning: The default value of n_estimators will change from 10 in version 0.20 to 100 in 0.22.\n",
      "  \"10 in version 0.20 to 100 in 0.22.\", FutureWarning)\n",
      "/Users/vfica/miniconda3/envs/bio/lib/python3.6/site-packages/sklearn/ensemble/forest.py:248: FutureWarning: The default value of n_estimators will change from 10 in version 0.20 to 100 in 0.22.\n",
      "  \"10 in version 0.20 to 100 in 0.22.\", FutureWarning)\n",
      "/Users/vfica/miniconda3/envs/bio/lib/python3.6/site-packages/sklearn/ensemble/forest.py:248: FutureWarning: The default value of n_estimators will change from 10 in version 0.20 to 100 in 0.22.\n",
      "  \"10 in version 0.20 to 100 in 0.22.\", FutureWarning)\n",
      "/Users/vfica/miniconda3/envs/bio/lib/python3.6/site-packages/sklearn/ensemble/forest.py:248: FutureWarning: The default value of n_estimators will change from 10 in version 0.20 to 100 in 0.22.\n",
      "  \"10 in version 0.20 to 100 in 0.22.\", FutureWarning)\n",
      "/Users/vfica/miniconda3/envs/bio/lib/python3.6/site-packages/sklearn/ensemble/forest.py:248: FutureWarning: The default value of n_estimators will change from 10 in version 0.20 to 100 in 0.22.\n",
      "  \"10 in version 0.20 to 100 in 0.22.\", FutureWarning)\n",
      "/Users/vfica/miniconda3/envs/bio/lib/python3.6/site-packages/sklearn/ensemble/forest.py:248: FutureWarning: The default value of n_estimators will change from 10 in version 0.20 to 100 in 0.22.\n",
      "  \"10 in version 0.20 to 100 in 0.22.\", FutureWarning)\n",
      "/Users/vfica/miniconda3/envs/bio/lib/python3.6/site-packages/sklearn/ensemble/forest.py:248: FutureWarning: The default value of n_estimators will change from 10 in version 0.20 to 100 in 0.22.\n",
      "  \"10 in version 0.20 to 100 in 0.22.\", FutureWarning)\n",
      "/Users/vfica/miniconda3/envs/bio/lib/python3.6/site-packages/sklearn/ensemble/forest.py:248: FutureWarning: The default value of n_estimators will change from 10 in version 0.20 to 100 in 0.22.\n",
      "  \"10 in version 0.20 to 100 in 0.22.\", FutureWarning)\n",
      "/Users/vfica/miniconda3/envs/bio/lib/python3.6/site-packages/sklearn/ensemble/forest.py:248: FutureWarning: The default value of n_estimators will change from 10 in version 0.20 to 100 in 0.22.\n",
      "  \"10 in version 0.20 to 100 in 0.22.\", FutureWarning)\n",
      "/Users/vfica/miniconda3/envs/bio/lib/python3.6/site-packages/sklearn/ensemble/forest.py:248: FutureWarning: The default value of n_estimators will change from 10 in version 0.20 to 100 in 0.22.\n",
      "  \"10 in version 0.20 to 100 in 0.22.\", FutureWarning)\n",
      "/Users/vfica/miniconda3/envs/bio/lib/python3.6/site-packages/sklearn/ensemble/forest.py:248: FutureWarning: The default value of n_estimators will change from 10 in version 0.20 to 100 in 0.22.\n",
      "  \"10 in version 0.20 to 100 in 0.22.\", FutureWarning)\n",
      "/Users/vfica/miniconda3/envs/bio/lib/python3.6/site-packages/sklearn/ensemble/forest.py:248: FutureWarning: The default value of n_estimators will change from 10 in version 0.20 to 100 in 0.22.\n",
      "  \"10 in version 0.20 to 100 in 0.22.\", FutureWarning)\n",
      "/Users/vfica/miniconda3/envs/bio/lib/python3.6/site-packages/sklearn/ensemble/forest.py:248: FutureWarning: The default value of n_estimators will change from 10 in version 0.20 to 100 in 0.22.\n",
      "  \"10 in version 0.20 to 100 in 0.22.\", FutureWarning)\n"
     ]
    },
    {
     "name": "stderr",
     "output_type": "stream",
     "text": [
      "/Users/vfica/miniconda3/envs/bio/lib/python3.6/site-packages/sklearn/ensemble/forest.py:248: FutureWarning: The default value of n_estimators will change from 10 in version 0.20 to 100 in 0.22.\n",
      "  \"10 in version 0.20 to 100 in 0.22.\", FutureWarning)\n",
      "/Users/vfica/miniconda3/envs/bio/lib/python3.6/site-packages/sklearn/ensemble/forest.py:248: FutureWarning: The default value of n_estimators will change from 10 in version 0.20 to 100 in 0.22.\n",
      "  \"10 in version 0.20 to 100 in 0.22.\", FutureWarning)\n",
      "/Users/vfica/miniconda3/envs/bio/lib/python3.6/site-packages/sklearn/ensemble/forest.py:248: FutureWarning: The default value of n_estimators will change from 10 in version 0.20 to 100 in 0.22.\n",
      "  \"10 in version 0.20 to 100 in 0.22.\", FutureWarning)\n",
      "/Users/vfica/miniconda3/envs/bio/lib/python3.6/site-packages/sklearn/ensemble/forest.py:248: FutureWarning: The default value of n_estimators will change from 10 in version 0.20 to 100 in 0.22.\n",
      "  \"10 in version 0.20 to 100 in 0.22.\", FutureWarning)\n",
      "/Users/vfica/miniconda3/envs/bio/lib/python3.6/site-packages/sklearn/ensemble/forest.py:248: FutureWarning: The default value of n_estimators will change from 10 in version 0.20 to 100 in 0.22.\n",
      "  \"10 in version 0.20 to 100 in 0.22.\", FutureWarning)\n",
      "/Users/vfica/miniconda3/envs/bio/lib/python3.6/site-packages/sklearn/ensemble/forest.py:248: FutureWarning: The default value of n_estimators will change from 10 in version 0.20 to 100 in 0.22.\n",
      "  \"10 in version 0.20 to 100 in 0.22.\", FutureWarning)\n",
      "/Users/vfica/miniconda3/envs/bio/lib/python3.6/site-packages/sklearn/ensemble/forest.py:248: FutureWarning: The default value of n_estimators will change from 10 in version 0.20 to 100 in 0.22.\n",
      "  \"10 in version 0.20 to 100 in 0.22.\", FutureWarning)\n",
      "/Users/vfica/miniconda3/envs/bio/lib/python3.6/site-packages/sklearn/ensemble/forest.py:248: FutureWarning: The default value of n_estimators will change from 10 in version 0.20 to 100 in 0.22.\n",
      "  \"10 in version 0.20 to 100 in 0.22.\", FutureWarning)\n",
      "/Users/vfica/miniconda3/envs/bio/lib/python3.6/site-packages/sklearn/ensemble/forest.py:248: FutureWarning: The default value of n_estimators will change from 10 in version 0.20 to 100 in 0.22.\n",
      "  \"10 in version 0.20 to 100 in 0.22.\", FutureWarning)\n",
      "/Users/vfica/miniconda3/envs/bio/lib/python3.6/site-packages/sklearn/ensemble/forest.py:248: FutureWarning: The default value of n_estimators will change from 10 in version 0.20 to 100 in 0.22.\n",
      "  \"10 in version 0.20 to 100 in 0.22.\", FutureWarning)\n",
      "/Users/vfica/miniconda3/envs/bio/lib/python3.6/site-packages/sklearn/ensemble/forest.py:248: FutureWarning: The default value of n_estimators will change from 10 in version 0.20 to 100 in 0.22.\n",
      "  \"10 in version 0.20 to 100 in 0.22.\", FutureWarning)\n",
      "/Users/vfica/miniconda3/envs/bio/lib/python3.6/site-packages/sklearn/ensemble/forest.py:248: FutureWarning: The default value of n_estimators will change from 10 in version 0.20 to 100 in 0.22.\n",
      "  \"10 in version 0.20 to 100 in 0.22.\", FutureWarning)\n",
      "/Users/vfica/miniconda3/envs/bio/lib/python3.6/site-packages/sklearn/ensemble/forest.py:248: FutureWarning: The default value of n_estimators will change from 10 in version 0.20 to 100 in 0.22.\n",
      "  \"10 in version 0.20 to 100 in 0.22.\", FutureWarning)\n",
      "/Users/vfica/miniconda3/envs/bio/lib/python3.6/site-packages/sklearn/ensemble/forest.py:248: FutureWarning: The default value of n_estimators will change from 10 in version 0.20 to 100 in 0.22.\n",
      "  \"10 in version 0.20 to 100 in 0.22.\", FutureWarning)\n",
      "/Users/vfica/miniconda3/envs/bio/lib/python3.6/site-packages/sklearn/ensemble/forest.py:248: FutureWarning: The default value of n_estimators will change from 10 in version 0.20 to 100 in 0.22.\n",
      "  \"10 in version 0.20 to 100 in 0.22.\", FutureWarning)\n",
      "/Users/vfica/miniconda3/envs/bio/lib/python3.6/site-packages/sklearn/ensemble/forest.py:248: FutureWarning: The default value of n_estimators will change from 10 in version 0.20 to 100 in 0.22.\n",
      "  \"10 in version 0.20 to 100 in 0.22.\", FutureWarning)\n",
      "/Users/vfica/miniconda3/envs/bio/lib/python3.6/site-packages/sklearn/ensemble/forest.py:248: FutureWarning: The default value of n_estimators will change from 10 in version 0.20 to 100 in 0.22.\n",
      "  \"10 in version 0.20 to 100 in 0.22.\", FutureWarning)\n",
      "/Users/vfica/miniconda3/envs/bio/lib/python3.6/site-packages/sklearn/ensemble/forest.py:248: FutureWarning: The default value of n_estimators will change from 10 in version 0.20 to 100 in 0.22.\n",
      "  \"10 in version 0.20 to 100 in 0.22.\", FutureWarning)\n",
      "/Users/vfica/miniconda3/envs/bio/lib/python3.6/site-packages/sklearn/ensemble/forest.py:248: FutureWarning: The default value of n_estimators will change from 10 in version 0.20 to 100 in 0.22.\n",
      "  \"10 in version 0.20 to 100 in 0.22.\", FutureWarning)\n",
      "/Users/vfica/miniconda3/envs/bio/lib/python3.6/site-packages/sklearn/ensemble/forest.py:248: FutureWarning: The default value of n_estimators will change from 10 in version 0.20 to 100 in 0.22.\n",
      "  \"10 in version 0.20 to 100 in 0.22.\", FutureWarning)\n",
      "/Users/vfica/miniconda3/envs/bio/lib/python3.6/site-packages/sklearn/ensemble/forest.py:248: FutureWarning: The default value of n_estimators will change from 10 in version 0.20 to 100 in 0.22.\n",
      "  \"10 in version 0.20 to 100 in 0.22.\", FutureWarning)\n",
      "/Users/vfica/miniconda3/envs/bio/lib/python3.6/site-packages/sklearn/ensemble/forest.py:248: FutureWarning: The default value of n_estimators will change from 10 in version 0.20 to 100 in 0.22.\n",
      "  \"10 in version 0.20 to 100 in 0.22.\", FutureWarning)\n",
      "/Users/vfica/miniconda3/envs/bio/lib/python3.6/site-packages/sklearn/ensemble/forest.py:248: FutureWarning: The default value of n_estimators will change from 10 in version 0.20 to 100 in 0.22.\n",
      "  \"10 in version 0.20 to 100 in 0.22.\", FutureWarning)\n",
      "/Users/vfica/miniconda3/envs/bio/lib/python3.6/site-packages/sklearn/ensemble/forest.py:248: FutureWarning: The default value of n_estimators will change from 10 in version 0.20 to 100 in 0.22.\n",
      "  \"10 in version 0.20 to 100 in 0.22.\", FutureWarning)\n",
      "/Users/vfica/miniconda3/envs/bio/lib/python3.6/site-packages/sklearn/ensemble/forest.py:248: FutureWarning: The default value of n_estimators will change from 10 in version 0.20 to 100 in 0.22.\n",
      "  \"10 in version 0.20 to 100 in 0.22.\", FutureWarning)\n"
     ]
    },
    {
     "data": {
      "image/png": "[encoded data removed]",
      "text/plain": [
       "<Figure size 432x288 with 1 Axes>"
      ]
     },
     "metadata": {},
     "output_type": "display_data"
    }
   ],
   "source": [
    "import numpy as np\n",
    "\n",
    "from yellowbrick.model_selection import ValidationCurve\n",
    "\n",
    "#1)\n",
    "selector = VarianceThreshold()\n",
    "\n",
    "#2)\n",
    "rf_model = RandomForestRegressor(random_state=1212)\n",
    "#3) Crear pipeline\n",
    "pipeline1 = make_pipeline(selector,rf_model)\n",
    "\n",
    "# Extract the instances and target\n",
    "viz = ValidationCurve(\n",
    "    pipeline1, njobs=-1,param_name=\"randomforestregressor__min_samples_split\",\n",
    "    param_range=[10,15,20,25,30,35,40,45,50,55,60,65,70,75,80,100], cv=10, scoring=\"r2\"\n",
    ")\n",
    "#plt.ylim(0,0.6)\n",
    "# Fit and poof the visualizer\n",
    "viz.fit(X_train, y_train)\n",
    "viz.poof()\n"
   ]
  },
  {
   "cell_type": "code",
   "execution_count": 73,
   "metadata": {
    "scrolled": true
   },
   "outputs": [
    {
     "name": "stdout",
     "output_type": "stream",
     "text": [
      "Fitting 10 folds for each of 280 candidates, totalling 2800 fits\n"
     ]
    },
    {
     "name": "stderr",
     "output_type": "stream",
     "text": [
      "[Parallel(n_jobs=-1)]: Using backend LokyBackend with 16 concurrent workers.\n",
      "[Parallel(n_jobs=-1)]: Done  40 tasks      | elapsed:    2.5s\n",
      "[Parallel(n_jobs=-1)]: Done 130 tasks      | elapsed:    6.6s\n",
      "[Parallel(n_jobs=-1)]: Done 256 tasks      | elapsed:   12.2s\n",
      "[Parallel(n_jobs=-1)]: Done 418 tasks      | elapsed:   19.3s\n",
      "[Parallel(n_jobs=-1)]: Done 616 tasks      | elapsed:   28.3s\n",
      "[Parallel(n_jobs=-1)]: Done 850 tasks      | elapsed:   39.0s\n",
      "[Parallel(n_jobs=-1)]: Done 1120 tasks      | elapsed:   51.6s\n",
      "[Parallel(n_jobs=-1)]: Done 1426 tasks      | elapsed:  1.1min\n",
      "[Parallel(n_jobs=-1)]: Done 1768 tasks      | elapsed:  1.4min\n",
      "[Parallel(n_jobs=-1)]: Done 2146 tasks      | elapsed:  1.7min\n",
      "[Parallel(n_jobs=-1)]: Done 2560 tasks      | elapsed:  2.0min\n",
      "[Parallel(n_jobs=-1)]: Done 2800 out of 2800 | elapsed:  2.2min finished\n",
      "/Users/vfica/miniconda3/envs/bio/lib/python3.6/site-packages/sklearn/model_selection/_search.py:841: DeprecationWarning: The default of the `iid` parameter will change from True to False in version 0.22 and will be removed in 0.24. This will change numeric results when test-set sizes are unequal.\n",
      "  DeprecationWarning)\n"
     ]
    },
    {
     "data": {
      "text/plain": [
       "GridSearchCV(cv=10, error_score='raise-deprecating',\n",
       "       estimator=Pipeline(memory=None,\n",
       "     steps=[('variancethreshold', VarianceThreshold(threshold=0.0)), ('randomforestregressor', RandomForestRegressor(bootstrap=True, criterion='mse', max_depth=None,\n",
       "           max_features='auto', max_leaf_nodes=None,\n",
       "           min_impurity_decrease=0.0, min_impurit...rs='warn', n_jobs=-1,\n",
       "           oob_score=False, random_state=None, verbose=0, warm_start=False))]),\n",
       "       fit_params=None, iid='warn', n_jobs=-1,\n",
       "       param_grid={'randomforestregressor__bootstrap': [True], 'randomforestregressor__max_depth': [3], 'randomforestregressor__max_features': ['sqrt'], 'randomforestregressor__max_leaf_nodes': [2, 3, 4, 5, 10, 15, 20], 'randomforestregressor__min_samples_leaf': [2, 3, 4, 5, 10, 15, 20, 25], 'randomforestregressor__min_samples_split': [10, 15, 20, 25, 30], 'randomforestregressor__n_estimators': [100], 'randomforestregressor__random_state': [1212]},\n",
       "       pre_dispatch='2*n_jobs', refit='r2', return_train_score=True,\n",
       "       scoring=['neg_mean_squared_error', 'r2'], verbose=5)"
      ]
     },
     "execution_count": 73,
     "metadata": {},
     "output_type": "execute_result"
    }
   ],
   "source": [
    "#1 Create a based model\n",
    "selector = VarianceThreshold()\n",
    "\n",
    "rf = RandomForestRegressor(n_jobs=-1)\n",
    "\n",
    "#2 Crear pipeline\n",
    "pipeline1 = make_pipeline(selector,rf)\n",
    "# grid params\n",
    "param_grid = {\n",
    "    'randomforestregressor__bootstrap': [True],\n",
    "    'randomforestregressor__max_depth': [3],\n",
    "    'randomforestregressor__max_features': ['sqrt'],\n",
    "    'randomforestregressor__max_leaf_nodes':[2,3,4,5,10,15,20],\n",
    "    'randomforestregressor__min_samples_leaf': [2,3,4,5,10,15,20,25],\n",
    "    'randomforestregressor__min_samples_split': [10,15,20,25,30],\n",
    "    'randomforestregressor__n_estimators': [100],\n",
    "    'randomforestregressor__random_state':[1212],\n",
    "    }\n",
    "\n",
    "# Instantiate the grid search model\n",
    "grid1 = GridSearchCV(pipeline1, param_grid, verbose=5, n_jobs=-1,cv=10,scoring=['neg_mean_squared_error','r2'],\n",
    "                        refit='r2',return_train_score=True)\n",
    "\n",
    "grid1.fit(X_train,y_train)"
   ]
  },
  {
   "cell_type": "code",
   "execution_count": 78,
   "metadata": {},
   "outputs": [
    {
     "name": "stdout",
     "output_type": "stream",
     "text": [
      "CV test RMSE 1.280625 +/- 0.790915\n",
      "CV train RMSE 1.089474 +/- 0.196999\n",
      "CV test r2 0.219409 +/- 0.088782\n",
      "CV train r2 0.457491 +/- 0.020383\n",
      "{'randomforestregressor__bootstrap': True, 'randomforestregressor__max_depth': 3, 'randomforestregressor__max_features': 'sqrt', 'randomforestregressor__max_leaf_nodes': 20, 'randomforestregressor__min_samples_leaf': 5, 'randomforestregressor__min_samples_split': 10, 'randomforestregressor__n_estimators': 100, 'randomforestregressor__random_state': 1212}\n",
      "\n",
      "RMSE for test dataset: 1.07\n",
      "RMSE for train dataset: 1.11\n",
      "pearson corr  0.668924\n"
     ]
    }
   ],
   "source": [
    "# index of best scores\n",
    "rmse_bestCV_test_index = grid1.cv_results_['mean_test_neg_mean_squared_error'].argmax()\n",
    "rmse_bestCV_train_index = grid1.cv_results_['mean_train_neg_mean_squared_error'].argmax()\n",
    "r2_bestCV_test_index = grid1.cv_results_['mean_test_r2'].argmax()\n",
    "r2_bestCV_train_index = grid1.cv_results_['mean_train_r2'].argmax()\n",
    "# scores\n",
    "rmse_bestCV_test_score = grid1.cv_results_['mean_test_neg_mean_squared_error'][rmse_bestCV_test_index]\n",
    "rmse_bestCV_test_std = grid1.cv_results_['std_test_neg_mean_squared_error'][rmse_bestCV_test_index]\n",
    "rmse_bestCV_train_score = grid1.cv_results_['mean_train_neg_mean_squared_error'][rmse_bestCV_train_index]\n",
    "rmse_bestCV_train_std = grid1.cv_results_['std_train_neg_mean_squared_error'][rmse_bestCV_train_index]\n",
    "\n",
    "r2_bestCV_test_score = grid1.cv_results_['mean_test_r2'][r2_bestCV_test_index]\n",
    "r2_bestCV_test_std = grid1.cv_results_['std_test_r2'][r2_bestCV_test_index]\n",
    "r2_bestCV_train_score = grid1.cv_results_['mean_train_r2'][r2_bestCV_train_index]\n",
    "r2_bestCV_train_std = grid1.cv_results_['std_train_r2'][r2_bestCV_train_index]\n",
    "\n",
    "print('CV test RMSE {:f} +/- {:f}'.format(np.sqrt(-rmse_bestCV_test_score),np.sqrt(rmse_bestCV_test_std)))\n",
    "print('CV train RMSE {:f} +/- {:f}'.format(np.sqrt(-rmse_bestCV_train_score),np.sqrt(rmse_bestCV_train_std)))\n",
    "print('CV test r2 {:f} +/- {:f}'.format(r2_bestCV_test_score,r2_bestCV_test_std))\n",
    "print('CV train r2 {:f} +/- {:f}'.format(r2_bestCV_train_score,r2_bestCV_train_std))\n",
    "\n",
    "print(grid1.best_params_)\n",
    "y_test_pred = grid1.best_estimator_.predict(X_test)\n",
    "y_train_pred = grid1.best_estimator_.predict(X_train)\n",
    "print(\"\\nRMSE for test dataset: {}\".format(np.round(np.sqrt(mean_squared_error(y_test, y_test_pred)), 2)))\n",
    "print(\"RMSE for train dataset: {}\".format(np.round(np.sqrt(mean_squared_error(y_train, y_train_pred)), 2)))\n",
    "print(\"pearson corr  {:f}\".format(np.corrcoef(y_test_pred,y_test)[0][1]))"
   ]
  },
  {
   "cell_type": "code",
   "execution_count": 75,
   "metadata": {},
   "outputs": [
    {
     "data": {
      "image/png": "[encoded data removed]",
      "text/plain": [
       "<Figure size 432x288 with 1 Axes>"
      ]
     },
     "metadata": {},
     "output_type": "display_data"
    }
   ],
   "source": [
    "visualizer = ResidualsPlot(grid1.best_estimator_,hist=False)\n",
    "\n",
    "visualizer.fit(X_train, y_train)  # Fit the training data to the model\n",
    "visualizer.score(X_test, y_test)  # Evaluate the model on the test data\n",
    "visualizer.poof()                 # Draw/show/poof the data"
   ]
  },
  {
   "cell_type": "code",
   "execution_count": 76,
   "metadata": {},
   "outputs": [
    {
     "data": {
      "image/png": "[encoded data removed]",
      "text/plain": [
       "<Figure size 432x288 with 1 Axes>"
      ]
     },
     "metadata": {},
     "output_type": "display_data"
    }
   ],
   "source": [
    "perror = PredictionError(grid1.best_estimator_)\n",
    "\n",
    "perror.fit(X_train, y_train)  # Fit the training data to the visualizer\n",
    "perror.score(X_test, y_test)  # Evaluate the model on the test data\n",
    "g = perror.poof() "
   ]
  },
  {
   "cell_type": "code",
   "execution_count": 77,
   "metadata": {},
   "outputs": [
    {
     "data": {
      "image/png": "[encoded data removed]",
      "text/plain": [
       "<Figure size 432x288 with 1 Axes>"
      ]
     },
     "metadata": {},
     "output_type": "display_data"
    }
   ],
   "source": [
    "viz = LearningCurve(grid1.best_estimator_, cv=10, n_jobs=-1,scoring='r2',train_sizes=np.linspace(0.3, 1.0, 10))\n",
    "viz.fit(X, y)\n",
    "#plt.ylim(0,-4)\n",
    "viz.poof()"
   ]
  },
  {
   "cell_type": "code",
   "execution_count": 37,
   "metadata": {},
   "outputs": [
    {
     "data": {
      "image/png": "[encoded data removed]",
      "text/plain": [
       "<Figure size 432x288 with 1 Axes>"
      ]
     },
     "metadata": {},
     "output_type": "display_data"
    }
   ],
   "source": [
    "learn_curves(grid1.best_estimator_,X,y,10)\n"
   ]
  },
  {
   "cell_type": "code",
   "execution_count": 24,
   "metadata": {
    "collapsed": true
   },
   "outputs": [],
   "source": [
    "final_rf2 = grid1.best_estimator_.fit(X,y)"
   ]
  },
  {
   "cell_type": "code",
   "execution_count": 27,
   "metadata": {},
   "outputs": [
    {
     "data": {
      "text/plain": [
       "['RFmodel_icPairs_energy_.v1.pkl']"
      ]
     },
     "execution_count": 27,
     "metadata": {},
     "output_type": "execute_result"
    }
   ],
   "source": [
    "# save final model\n",
    "\n",
    "joblib.dump(final_rf2, 'RFmodel_icPairs_energy_.v1.pkl')"
   ]
  },
  {
   "cell_type": "markdown",
   "metadata": {},
   "source": [
    "# mismo modelo, ahora con smote "
   ]
  },
  {
   "cell_type": "code",
   "execution_count": 108,
   "metadata": {
    "collapsed": true
   },
   "outputs": [],
   "source": [
    "# forma 1\n",
    "df_final['class'] = np.where((df_final['ddG_exp'] < -0.4) | (df_final['ddG_exp'] > 1),0,1)\n",
    "# forma 2 \n",
    "#df_final['class'] = np.where((df_final['ddG_exp'] < 0),1,0)"
   ]
  },
  {
   "cell_type": "code",
   "execution_count": 109,
   "metadata": {},
   "outputs": [
    {
     "name": "stdout",
     "output_type": "stream",
     "text": [
      "Before OverSampling, counts of label '1': 355\n",
      "Before OverSampling, counts of label '0': 260\n"
     ]
    }
   ],
   "source": [
    "print(\"Before OverSampling, counts of label '1': {}\".format(sum(df_final['class'] == 1)))\n",
    "print(\"Before OverSampling, counts of label '0': {}\".format(sum(df_final['class'] == 0)))"
   ]
  },
  {
   "cell_type": "code",
   "execution_count": 110,
   "metadata": {},
   "outputs": [
    {
     "data": {
      "text/plain": [
       "<matplotlib.axes._subplots.AxesSubplot at 0x1a2569c588>"
      ]
     },
     "execution_count": 110,
     "metadata": {},
     "output_type": "execute_result"
    },
    {
     "data": {
      "image/png": "[encoded data removed]",
      "text/plain": [
       "<Figure size 432x288 with 1 Axes>"
      ]
     },
     "metadata": {},
     "output_type": "display_data"
    }
   ],
   "source": [
    "df_final.loc[df_final['class'] == 0]['ddG_exp'].hist()"
   ]
  },
  {
   "cell_type": "code",
   "execution_count": 111,
   "metadata": {
    "collapsed": true
   },
   "outputs": [],
   "source": [
    "X = df_final.drop('class',axis=1)\n",
    "y = df_final['class']"
   ]
  },
  {
   "cell_type": "code",
   "execution_count": 112,
   "metadata": {},
   "outputs": [
    {
     "name": "stderr",
     "output_type": "stream",
     "text": [
      "/Users/vfica/miniconda3/envs/bio/lib/python3.6/site-packages/sklearn/model_selection/_split.py:2069: FutureWarning: From version 0.21, test_size will always complement train_size unless both are specified.\n",
      "  FutureWarning)\n"
     ]
    }
   ],
   "source": [
    "X_train, X_test, y_train, y_test = train_test_split(X, y,stratify = y,train_size=0.75,random_state=1010)\n"
   ]
  },
  {
   "cell_type": "code",
   "execution_count": 127,
   "metadata": {
    "collapsed": true
   },
   "outputs": [],
   "source": [
    "#smote = ovs.SMOTE(random_state=1212,m_neighbors=10)\n",
    "#smote = ovs.BorderlineSMOTE(random_state=1212,m_neighbors=10,kind='borderline-1')\n",
    "adasyn = ovs.ADASYN(random_state=10,n_neighbors=25)\n",
    "X_train_re , y_train_re = adasyn.fit_sample(X_train,y_train)\n",
    "#X_train_re , y_train_re = smote.fit_sample(X_train,y_train)"
   ]
  },
  {
   "cell_type": "code",
   "execution_count": 128,
   "metadata": {
    "collapsed": true
   },
   "outputs": [],
   "source": [
    "# back to originalk shape and target\n",
    "X_train_normal = X_train_re[:,:-1]\n",
    "y_train_normal = X_train_re[:,-1]\n",
    "\n",
    "X_test_normal = X_test.iloc[:,:-1]\n",
    "y_test_normal = X_test.iloc[:,-1]"
   ]
  },
  {
   "cell_type": "code",
   "execution_count": 129,
   "metadata": {},
   "outputs": [
    {
     "name": "stdout",
     "output_type": "stream",
     "text": [
      "Training score (r2): 0.42457310893537104\n",
      "Test score (r2): 0.33434164669308963\n",
      "\n",
      "Root mean square error for test dataset: 1.25\n",
      "Root mean square error for train dataset: 1.09\n",
      "pearson corr:  0.6196050847165643\n"
     ]
    }
   ],
   "source": [
    "model = grid1.best_estimator_.fit(X_train_normal,y_train_normal)\n",
    "#print('CV test RMSE',np.sqrt(-grid.best_score_))\n",
    "#print('CV train RMSE',np.sqrt(-grid.cv_results_['mean_train_score'].max()))\n",
    "\n",
    "y_test_pred = model.predict(X_test_normal.values)\n",
    "y_train_pred = model.predict(X_train_normal)\n",
    "\n",
    "print('Training score (r2): {}'.format(r2_score(y_train_normal, y_train_pred)))\n",
    "print('Test score (r2): {}'.format(r2_score(y_test_normal.values, y_test_pred)))\n",
    "\n",
    "print(\"\\nRoot mean square error for test dataset: {}\".format(np.round(np.sqrt(mean_squared_error(y_test_normal.values, y_test_pred)), 2)))\n",
    "print(\"Root mean square error for train dataset: {}\".format(np.round(np.sqrt(mean_squared_error(y_train_normal, y_train_pred)), 2)))\n",
    "print(\"pearson corr: \",np.corrcoef(y_test_pred,y_test_normal.values)[0][1])"
   ]
  },
  {
   "cell_type": "code",
   "execution_count": 130,
   "metadata": {},
   "outputs": [
    {
     "data": {
      "image/png": "[encoded data removed]",
      "text/plain": [
       "<Figure size 432x288 with 1 Axes>"
      ]
     },
     "metadata": {},
     "output_type": "display_data"
    }
   ],
   "source": [
    "perror = PredictionError(model)\n",
    "\n",
    "perror.fit(X_train_normal, y_train_normal)  # Fit the training data to the visualizer\n",
    "perror.score(X_test_normal.values, y_test_normal.values)  # Evaluate the model on the test data\n",
    "g = perror.poof()"
   ]
  },
  {
   "cell_type": "code",
   "execution_count": 126,
   "metadata": {},
   "outputs": [
    {
     "data": {
      "image/png": "[encoded data removed]",
      "text/plain": [
       "<Figure size 432x288 with 2 Axes>"
      ]
     },
     "metadata": {},
     "output_type": "display_data"
    }
   ],
   "source": [
    "visualizer = ResidualsPlot(model)\n",
    "\n",
    "visualizer.fit(X_train_normal, y_train_normal)  # Fit the training data to the model\n",
    "visualizer.score(X_test_normal.values, y_test_normal.values)  # Evaluate the model on the test data\n",
    "visualizer.poof()                 # Draw/show/poof the data\n"
   ]
  },
  {
   "cell_type": "code",
   "execution_count": 121,
   "metadata": {},
   "outputs": [
    {
     "data": {
      "image/png": "[encoded data removed]",
      "text/plain": [
       "<Figure size 432x288 with 1 Axes>"
      ]
     },
     "metadata": {},
     "output_type": "display_data"
    }
   ],
   "source": [
    "viz = LearningCurve(model, cv=10, n_jobs=-1,scoring='r2',train_sizes=np.linspace(0.3, 1.0, 10))\n",
    "viz.fit(X.drop(\"ddG_exp\",axis=1), X['ddG_exp'])\n",
    "#plt.ylim(0,-4)\n",
    "viz.poof()"
   ]
  },
  {
   "cell_type": "markdown",
   "metadata": {},
   "source": [
    "## Salvar modelo final, entrenado con el total de lso datos"
   ]
  },
  {
   "cell_type": "code",
   "execution_count": 115,
   "metadata": {
    "collapsed": true
   },
   "outputs": [],
   "source": [
    "ABPRED_DIR = Path().cwd().parent\n",
    "DATA = ABPRED_DIR / \"data\"\n",
    "\n",
    "#dataframe final\n",
    "df_final = pd.read_csv(DATA/\"../data/DF_features_400_2019.csv\",index_col=0)\n",
    "# Quitar modelos por homologia deltraining set\n",
    "#df_final_onlyHM = df_final.loc[df_final.index.str.startswith(\"HM\")]\n",
    "#df_final= df_final.loc[~df_final.index.str.startswith(\"HM\")]\n",
    "\n",
    "index_ddg8 = (df_final['ddG(kcal/mol)']==8)\n",
    "df_final = df_final.loc[-index_ddg8]\n",
    "#testiar eliminando estructuras con ddg menor o igual a -4 kcal/mol , outliers\n",
    "index_ddg_4 =  (df_final['ddG(kcal/mol)'] <= -4)\n",
    "df_final = df_final.loc[-index_ddg_4]\n",
    "\n",
    "\n",
    "pdb_names = df_final.index\n",
    "features_names = df_final.drop('ddG(kcal/mol)',axis=1).columns"
   ]
  },
  {
   "cell_type": "code",
   "execution_count": 42,
   "metadata": {
    "collapsed": true
   },
   "outputs": [],
   "source": [
    "# forma 1\n",
    "#df_final['class'] = np.where((df_final['ddG(kcal/mol)'] < -0.4) | (df_final['ddG(kcal/mol)'] > 2.4),0,1)\n",
    "# forma 2 \n",
    "df_final['class'] = np.where((df_final['ddG(kcal/mol)'] < 0),1,0)"
   ]
  },
  {
   "cell_type": "code",
   "execution_count": 43,
   "metadata": {},
   "outputs": [
    {
     "name": "stdout",
     "output_type": "stream",
     "text": [
      "Before OverSampling, counts of label '1': 481\n",
      "Before OverSampling, counts of label '0': 134\n"
     ]
    }
   ],
   "source": [
    "print(\"Before OverSampling, counts of label '1': {}\".format(sum(df_final['class'] == 1)))\n",
    "print(\"Before OverSampling, counts of label '0': {}\".format(sum(df_final['class'] == 0)))"
   ]
  },
  {
   "cell_type": "code",
   "execution_count": 44,
   "metadata": {
    "collapsed": true
   },
   "outputs": [],
   "source": [
    "X = df_final.drop('class',axis=1)\n",
    "y = df_final['class']"
   ]
  },
  {
   "cell_type": "code",
   "execution_count": 45,
   "metadata": {
    "collapsed": true
   },
   "outputs": [],
   "source": [
    "smote = ovs.SMOTE(random_state=12,m_neighbors=25)\n",
    "X_re , y__re = smote.fit_sample(X,y)"
   ]
  },
  {
   "cell_type": "code",
   "execution_count": 46,
   "metadata": {
    "collapsed": true
   },
   "outputs": [],
   "source": [
    "# back to originalk shape and target\n",
    "X_normal = X_re[:,:-1]\n",
    "y_normal = X_re[:,-1]"
   ]
  },
  {
   "cell_type": "code",
   "execution_count": 47,
   "metadata": {
    "collapsed": true
   },
   "outputs": [],
   "source": [
    "final_rf = grid1.best_estimator_.fit(X_normal,y_normal)"
   ]
  },
  {
   "cell_type": "code",
   "execution_count": 48,
   "metadata": {},
   "outputs": [
    {
     "data": {
      "text/plain": [
       "['RFmodel_400.smote.v1.pkl']"
      ]
     },
     "execution_count": 48,
     "metadata": {},
     "output_type": "execute_result"
    }
   ],
   "source": [
    "# save final model\n",
    "\n",
    "joblib.dump(final_rf, 'RFmodel_400.smote.v1.pkl')"
   ]
  },
  {
   "cell_type": "code",
   "execution_count": null,
   "metadata": {
    "collapsed": true
   },
   "outputs": [],
   "source": []
  },
  {
   "cell_type": "code",
   "execution_count": 12,
   "metadata": {},
   "outputs": [
    {
     "name": "stderr",
     "output_type": "stream",
     "text": [
      "/Users/vfica/miniconda3/envs/bio/lib/python3.6/site-packages/scipy/stats/stats.py:1713: FutureWarning: Using a non-tuple sequence for multidimensional indexing is deprecated; use `arr[tuple(seq)]` instead of `arr[seq]`. In the future this will be interpreted as an array index, `arr[np.array(seq)]`, which will result either in an error or a different result.\n",
      "  return np.add.reduce(sorted[indexer] * weights, axis=axis) / sumval\n"
     ]
    },
    {
     "data": {
      "text/plain": [
       "Text(4.5,-0.5,'RMSE = 1.017')"
      ]
     },
     "execution_count": 12,
     "metadata": {},
     "output_type": "execute_result"
    },
    {
     "data": {
      "image/png": "[encoded data removed]",
      "text/plain": [
       "<Figure size 432x288 with 1 Axes>"
      ]
     },
     "metadata": {},
     "output_type": "display_data"
    }
   ],
   "source": [
    "rmse_test = np.round(np.sqrt(mean_squared_error(y_test, y_pred_test)), 3)\n",
    "df_pred = pd.DataFrame({\"Predicted ddG(kcal/mol)\": y_pred_test, \"Actual ddG(kcal/mol)\": y_test.values})\n",
    "pearsonr_test = round(df_pred.corr().iloc[0,1],3)\n",
    "\n",
    "g = sns.regplot(x=\"Actual ddG(kcal/mol)\", y=\"Predicted ddG(kcal/mol)\",data=df_pred)\n",
    "plt.title(\"Predicted vs Experimental ddG (Independent set: 123 complexes)\")\n",
    "\n",
    "plt.text(-2,3,\"pearsonr = %s\" %pearsonr_test)\n",
    "plt.text(4.5,-0.5,\"RMSE = %s\" %rmse_test)\n",
    "\n",
    "#plt.savefig(\"RFmodel_300_testfit.png\",dpi=600)"
   ]
  },
  {
   "cell_type": "code",
   "execution_count": 13,
   "metadata": {},
   "outputs": [
    {
     "name": "stderr",
     "output_type": "stream",
     "text": [
      "/Users/vfica/miniconda3/envs/bio/lib/python3.6/site-packages/scipy/stats/stats.py:1713: FutureWarning: Using a non-tuple sequence for multidimensional indexing is deprecated; use `arr[tuple(seq)]` instead of `arr[seq]`. In the future this will be interpreted as an array index, `arr[np.array(seq)]`, which will result either in an error or a different result.\n",
      "  return np.add.reduce(sorted[indexer] * weights, axis=axis) / sumval\n"
     ]
    },
    {
     "data": {
      "text/plain": [
       "Text(0.5,1,'Predicted vs Experimental ddG (Train set: 492 complexes)')"
      ]
     },
     "execution_count": 13,
     "metadata": {},
     "output_type": "execute_result"
    },
    {
     "data": {
      "image/png": "[encoded data removed]",
      "text/plain": [
       "<Figure size 432x288 with 1 Axes>"
      ]
     },
     "metadata": {},
     "output_type": "display_data"
    }
   ],
   "source": [
    "df_train_pred = pd.DataFrame({\"Predicted ddG(kcal/mol)\": y_train, \"Actual ddG(kcal/mol)\": y_pred_train})\n",
    "pearsonr_train = round(df_train_pred.corr().iloc[0,1],3)\n",
    "rmse_train = np.round(np.sqrt(mean_squared_error(y_train, y_pred_train)), 3)\n",
    "\n",
    "g = sns.regplot(x=\"Actual ddG(kcal/mol)\", y=\"Predicted ddG(kcal/mol)\",data=df_train_pred)\n",
    "\n",
    "plt.text(-0.4,6.5,\"pearsonr = %s\" %pearsonr_train)\n",
    "plt.text(3.5,-2.5,\"RMSE = %s\" %rmse_train)\n",
    "plt.title(\"Predicted vs Experimental ddG (Train set: 492 complexes)\")\n",
    "#plt.savefig(\"RFmodel_300_trainfit.png\",dpi=600)\n"
   ]
  },
  {
   "cell_type": "code",
   "execution_count": 14,
   "metadata": {},
   "outputs": [
    {
     "name": "stdout",
     "output_type": "stream",
     "text": [
      "Variable: Y_W                  Importance: 0.0338\n",
      "Variable: A_Y                  Importance: 0.0297\n",
      "Variable: A_S                  Importance: 0.026\n",
      "Variable: N_R                  Importance: 0.0201\n",
      "Variable: N_K                  Importance: 0.0181\n",
      "Variable: S_D                  Importance: 0.0179\n",
      "Variable: S_L                  Importance: 0.0178\n",
      "Variable: D_K                  Importance: 0.0175\n",
      "Variable: Y_R                  Importance: 0.0159\n",
      "Variable: Y_S                  Importance: 0.0157\n",
      "Variable: Y_K                  Importance: 0.0156\n",
      "Variable: G_L                  Importance: 0.0147\n",
      "Variable: W_K                  Importance: 0.0142\n",
      "Variable: A_D                  Importance: 0.0141\n",
      "Variable: Y_N                  Importance: 0.0138\n",
      "Variable: R_A                  Importance: 0.0137\n",
      "Variable: Y_A                  Importance: 0.0135\n",
      "Variable: N_H                  Importance: 0.0132\n",
      "Variable: E_K                  Importance: 0.0131\n",
      "Variable: Y_L                  Importance: 0.013\n",
      "Variable: Q_T                  Importance: 0.0126\n",
      "Variable: T_R                  Importance: 0.0113\n",
      "Variable: Y_D                  Importance: 0.0111\n",
      "Variable: N_Y                  Importance: 0.0101\n",
      "Variable: N_G                  Importance: 0.0099\n",
      "Variable: H_T                  Importance: 0.0098\n",
      "Variable: D_R                  Importance: 0.0096\n",
      "Variable: W_A                  Importance: 0.0096\n",
      "Variable: S_S                  Importance: 0.0084\n",
      "Variable: Y_Y                  Importance: 0.0084\n",
      "Variable: I_Y                  Importance: 0.0081\n",
      "Variable: W_Y                  Importance: 0.0078\n",
      "Variable: A_G                  Importance: 0.0075\n",
      "Variable: N_N                  Importance: 0.0075\n",
      "Variable: D_L                  Importance: 0.0073\n",
      "Variable: F_R                  Importance: 0.0073\n",
      "Variable: Q_K                  Importance: 0.0072\n",
      "Variable: S_G                  Importance: 0.0072\n",
      "Variable: W_S                  Importance: 0.007\n",
      "Variable: S_R                  Importance: 0.0067\n",
      "Variable: Q_N                  Importance: 0.0066\n",
      "Variable: Y_M                  Importance: 0.0066\n",
      "Variable: T_K                  Importance: 0.0063\n",
      "Variable: V_E                  Importance: 0.0062\n",
      "Variable: C_V                  Importance: 0.0061\n",
      "Variable: A_F                  Importance: 0.006\n",
      "Variable: A_K                  Importance: 0.0059\n",
      "Variable: D_G                  Importance: 0.0058\n",
      "Variable: Y_I                  Importance: 0.0058\n",
      "Variable: G_R                  Importance: 0.0057\n",
      "Variable: S_Y                  Importance: 0.0057\n",
      "Variable: W_R                  Importance: 0.0056\n",
      "Variable: H_S                  Importance: 0.0054\n",
      "Variable: R_Y                  Importance: 0.0052\n",
      "Variable: H_G                  Importance: 0.005\n",
      "Variable: I_V                  Importance: 0.005\n",
      "Variable: F_Y                  Importance: 0.0048\n",
      "Variable: M_K                  Importance: 0.0047\n",
      "Variable: I_T                  Importance: 0.0046\n",
      "Variable: L_Y                  Importance: 0.0046\n",
      "Variable: E_V                  Importance: 0.0045\n",
      "Variable: G_E                  Importance: 0.0045\n",
      "Variable: C_G                  Importance: 0.0044\n",
      "Variable: H_N                  Importance: 0.0044\n",
      "Variable: I_G                  Importance: 0.0044\n",
      "Variable: S_M                  Importance: 0.0043\n",
      "Variable: D_Y                  Importance: 0.0041\n",
      "Variable: E_G                  Importance: 0.0041\n",
      "Variable: G_G                  Importance: 0.0041\n",
      "Variable: L_T                  Importance: 0.0041\n",
      "Variable: W_Q                  Importance: 0.0041\n",
      "Variable: Y_Q                  Importance: 0.0041\n",
      "Variable: A_P                  Importance: 0.004\n",
      "Variable: H_D                  Importance: 0.004\n",
      "Variable: H_M                  Importance: 0.004\n",
      "Variable: H_F                  Importance: 0.0039\n",
      "Variable: N_S                  Importance: 0.0039\n",
      "Variable: V_K                  Importance: 0.0038\n",
      "Variable: T_W                  Importance: 0.0037\n",
      "Variable: E_R                  Importance: 0.0036\n",
      "Variable: K_K                  Importance: 0.0036\n",
      "Variable: T_I                  Importance: 0.0036\n",
      "Variable: W_G                  Importance: 0.0036\n",
      "Variable: Y_V                  Importance: 0.0036\n",
      "Variable: A_R                  Importance: 0.0035\n",
      "Variable: D_I                  Importance: 0.0035\n",
      "Variable: E_Y                  Importance: 0.0035\n",
      "Variable: D_H                  Importance: 0.0033\n",
      "Variable: R_D                  Importance: 0.0033\n",
      "Variable: L_W                  Importance: 0.0032\n",
      "Variable: D_Q                  Importance: 0.0031\n",
      "Variable: H_Y                  Importance: 0.0031\n",
      "Variable: D_D                  Importance: 0.003\n",
      "Variable: N_E                  Importance: 0.003\n",
      "Variable: N_T                  Importance: 0.0029\n",
      "Variable: S_K                  Importance: 0.0029\n",
      "Variable: S_V                  Importance: 0.0029\n",
      "Variable: G_Y                  Importance: 0.0028\n",
      "Variable: I_H                  Importance: 0.0028\n",
      "Variable: S_A                  Importance: 0.0028\n",
      "Variable: D_N                  Importance: 0.0027\n",
      "Variable: D_S                  Importance: 0.0027\n",
      "Variable: K_Y                  Importance: 0.0027\n",
      "Variable: L_K                  Importance: 0.0027\n",
      "Variable: S_E                  Importance: 0.0027\n",
      "Variable: A_Q                  Importance: 0.0026\n",
      "Variable: N_L                  Importance: 0.0026\n",
      "Variable: I_W                  Importance: 0.0025\n",
      "Variable: T_Y                  Importance: 0.0025\n",
      "Variable: D_E                  Importance: 0.0024\n",
      "Variable: Y_G                  Importance: 0.0024\n",
      "Variable: Y_P                  Importance: 0.0024\n",
      "Variable: E_S                  Importance: 0.0023\n",
      "Variable: R_G                  Importance: 0.0023\n",
      "Variable: T_Q                  Importance: 0.0023\n",
      "Variable: W_T                  Importance: 0.0023\n",
      "Variable: A_L                  Importance: 0.0022\n",
      "Variable: F_D                  Importance: 0.0022\n",
      "Variable: G_A                  Importance: 0.0022\n",
      "Variable: Q_V                  Importance: 0.0022\n",
      "Variable: R_K                  Importance: 0.0022\n",
      "Variable: R_V                  Importance: 0.0022\n",
      "Variable: W_N                  Importance: 0.0022\n",
      "Variable: A_N                  Importance: 0.0021\n",
      "Variable: F_G                  Importance: 0.002\n",
      "Variable: T_N                  Importance: 0.002\n",
      "Variable: N_A                  Importance: 0.0019\n",
      "Variable: P_Y                  Importance: 0.0019\n",
      "Variable: Q_G                  Importance: 0.0019\n",
      "Variable: T_M                  Importance: 0.0019\n",
      "Variable: W_H                  Importance: 0.0019\n",
      "Variable: N_P                  Importance: 0.0018\n",
      "Variable: T_E                  Importance: 0.0018\n",
      "Variable: D_P                  Importance: 0.0017\n",
      "Variable: G_H                  Importance: 0.0017\n",
      "Variable: G_K                  Importance: 0.0017\n",
      "Variable: N_D                  Importance: 0.0017\n",
      "Variable: Q_Y                  Importance: 0.0017\n",
      "Variable: R_S                  Importance: 0.0017\n",
      "Variable: T_L                  Importance: 0.0017\n",
      "Variable: T_S                  Importance: 0.0017\n",
      "Variable: T_V                  Importance: 0.0017\n",
      "Variable: W_M                  Importance: 0.0017\n",
      "Variable: Y_E                  Importance: 0.0017\n",
      "Variable: E_A                  Importance: 0.0016\n",
      "Variable: I_E                  Importance: 0.0016\n",
      "Variable: M_Y                  Importance: 0.0016\n",
      "Variable: R_L                  Importance: 0.0016\n",
      "Variable: S_Q                  Importance: 0.0016\n",
      "Variable: W_I                  Importance: 0.0016\n",
      "Variable: G_D                  Importance: 0.0015\n",
      "Variable: H_V                  Importance: 0.0015\n",
      "Variable: K_N                  Importance: 0.0015\n",
      "Variable: R_H                  Importance: 0.0015\n",
      "Variable: A_E                  Importance: 0.0014\n",
      "Variable: D_A                  Importance: 0.0014\n",
      "Variable: E_H                  Importance: 0.0014\n",
      "Variable: F_Q                  Importance: 0.0014\n",
      "Variable: G_W                  Importance: 0.0014\n",
      "Variable: H_A                  Importance: 0.0014\n",
      "Variable: R_E                  Importance: 0.0014\n",
      "Variable: R_N                  Importance: 0.0014\n",
      "Variable: R_Q                  Importance: 0.0014\n",
      "Variable: V_R                  Importance: 0.0014\n",
      "Variable: E_I                  Importance: 0.0013\n",
      "Variable: G_M                  Importance: 0.0013\n",
      "Variable: H_Q                  Importance: 0.0013\n",
      "Variable: K_A                  Importance: 0.0013\n",
      "Variable: K_S                  Importance: 0.0013\n",
      "Variable: S_N                  Importance: 0.0013\n",
      "Variable: T_F                  Importance: 0.0013\n",
      "Variable: C_Y                  Importance: 0.0012\n",
      "Variable: G_V                  Importance: 0.0012\n",
      "Variable: K_E                  Importance: 0.0012\n",
      "Variable: N_Q                  Importance: 0.0012\n",
      "Variable: P_G                  Importance: 0.0012\n",
      "Variable: R_F                  Importance: 0.0012\n",
      "Variable: R_T                  Importance: 0.0012\n",
      "Variable: V_L                  Importance: 0.0012\n",
      "Variable: F_S                  Importance: 0.0011\n",
      "Variable: G_F                  Importance: 0.0011\n",
      "Variable: G_P                  Importance: 0.0011\n",
      "Variable: H_I                  Importance: 0.0011\n",
      "Variable: L_D                  Importance: 0.0011\n",
      "Variable: N_M                  Importance: 0.0011\n",
      "Variable: T_H                  Importance: 0.0011\n",
      "Variable: A_H                  Importance: 0.001\n",
      "Variable: E_T                  Importance: 0.001\n",
      "Variable: F_P                  Importance: 0.001\n",
      "Variable: G_I                  Importance: 0.001\n",
      "Variable: G_S                  Importance: 0.001\n",
      "Variable: H_E                  Importance: 0.001\n",
      "Variable: K_T                  Importance: 0.001\n",
      "Variable: N_I                  Importance: 0.001\n",
      "Variable: Q_R                  Importance: 0.001\n",
      "Variable: S_H                  Importance: 0.001\n",
      "Variable: T_A                  Importance: 0.001\n",
      "Variable: T_D                  Importance: 0.001\n",
      "Variable: V_H                  Importance: 0.001\n",
      "Variable: Y_F                  Importance: 0.001\n",
      "Variable: A_I                  Importance: 0.0009\n",
      "Variable: E_D                  Importance: 0.0009\n",
      "Variable: E_N                  Importance: 0.0009\n",
      "Variable: M_M                  Importance: 0.0009\n",
      "Variable: P_N                  Importance: 0.0009\n",
      "Variable: P_V                  Importance: 0.0009\n",
      "Variable: Y_T                  Importance: 0.0009\n",
      "Variable: G_Q                  Importance: 0.0008\n",
      "Variable: G_T                  Importance: 0.0008\n",
      "Variable: H_H                  Importance: 0.0008\n",
      "Variable: M_E                  Importance: 0.0008\n",
      "Variable: M_G                  Importance: 0.0008\n",
      "Variable: Q_S                  Importance: 0.0008\n",
      "Variable: V_Q                  Importance: 0.0008\n",
      "Variable: Y_C                  Importance: 0.0008\n",
      "Variable: E_E                  Importance: 0.0007\n",
      "Variable: K_D                  Importance: 0.0007\n",
      "Variable: L_F                  Importance: 0.0007\n",
      "Variable: Q_P                  Importance: 0.0007\n",
      "Variable: Q_Q                  Importance: 0.0007\n",
      "Variable: R_I                  Importance: 0.0007\n",
      "Variable: S_F                  Importance: 0.0007\n",
      "Variable: S_W                  Importance: 0.0007\n",
      "Variable: V_A                  Importance: 0.0007\n",
      "Variable: V_M                  Importance: 0.0007\n",
      "Variable: Y_H                  Importance: 0.0007\n",
      "Variable: D_T                  Importance: 0.0006\n",
      "Variable: G_C                  Importance: 0.0006\n",
      "Variable: H_L                  Importance: 0.0006\n",
      "Variable: I_R                  Importance: 0.0006\n",
      "Variable: I_S                  Importance: 0.0006\n",
      "Variable: K_W                  Importance: 0.0006\n",
      "Variable: L_L                  Importance: 0.0006\n",
      "Variable: L_S                  Importance: 0.0006\n",
      "Variable: R_R                  Importance: 0.0006\n",
      "Variable: R_W                  Importance: 0.0006\n",
      "Variable: S_T                  Importance: 0.0006\n",
      "Variable: T_P                  Importance: 0.0006\n",
      "Variable: V_I                  Importance: 0.0006\n",
      "Variable: V_Y                  Importance: 0.0006\n",
      "Variable: A_A                  Importance: 0.0005\n",
      "Variable: A_V                  Importance: 0.0005\n",
      "Variable: D_F                  Importance: 0.0005\n",
      "Variable: D_V                  Importance: 0.0005\n",
      "Variable: E_L                  Importance: 0.0005\n",
      "Variable: E_W                  Importance: 0.0005\n",
      "Variable: F_A                  Importance: 0.0005\n",
      "Variable: G_N                  Importance: 0.0005\n",
      "Variable: I_A                  Importance: 0.0005\n",
      "Variable: L_V                  Importance: 0.0005\n",
      "Variable: N_F                  Importance: 0.0005\n",
      "Variable: N_V                  Importance: 0.0005\n",
      "Variable: P_A                  Importance: 0.0005\n",
      "Variable: P_H                  Importance: 0.0005\n",
      "Variable: P_T                  Importance: 0.0005\n",
      "Variable: Q_D                  Importance: 0.0005\n",
      "Variable: Q_M                  Importance: 0.0005\n",
      "Variable: R_P                  Importance: 0.0005\n",
      "Variable: T_G                  Importance: 0.0005\n",
      "Variable: E_Q                  Importance: 0.0004\n",
      "Variable: I_Q                  Importance: 0.0004\n",
      "Variable: K_F                  Importance: 0.0004\n",
      "Variable: L_I                  Importance: 0.0004\n",
      "Variable: L_R                  Importance: 0.0004\n",
      "Variable: M_T                  Importance: 0.0004\n",
      "Variable: P_F                  Importance: 0.0004\n",
      "Variable: P_I                  Importance: 0.0004\n",
      "Variable: Q_A                  Importance: 0.0004\n",
      "Variable: Q_W                  Importance: 0.0004\n",
      "Variable: W_P                  Importance: 0.0004\n",
      "Variable: C_R                  Importance: 0.0003\n",
      "Variable: F_I                  Importance: 0.0003\n",
      "Variable: F_N                  Importance: 0.0003\n",
      "Variable: F_V                  Importance: 0.0003\n",
      "Variable: H_R                  Importance: 0.0003\n",
      "Variable: H_W                  Importance: 0.0003\n",
      "Variable: I_M                  Importance: 0.0003\n",
      "Variable: L_N                  Importance: 0.0003\n",
      "Variable: M_P                  Importance: 0.0003\n",
      "Variable: M_V                  Importance: 0.0003\n",
      "Variable: N_W                  Importance: 0.0003\n",
      "Variable: P_D                  Importance: 0.0003\n",
      "Variable: Q_F                  Importance: 0.0003\n",
      "Variable: S_P                  Importance: 0.0003\n",
      "Variable: V_C                  Importance: 0.0003\n",
      "Variable: V_S                  Importance: 0.0003\n",
      "Variable: V_W                  Importance: 0.0003\n",
      "Variable: W_L                  Importance: 0.0003\n",
      "Variable: A_T                  Importance: 0.0002\n",
      "Variable: E_M                  Importance: 0.0002\n",
      "Variable: F_K                  Importance: 0.0002\n",
      "Variable: F_W                  Importance: 0.0002\n",
      "Variable: H_P                  Importance: 0.0002\n",
      "Variable: K_G                  Importance: 0.0002\n",
      "Variable: K_L                  Importance: 0.0002\n",
      "Variable: K_R                  Importance: 0.0002\n",
      "Variable: L_P                  Importance: 0.0002\n",
      "Variable: M_S                  Importance: 0.0002\n",
      "Variable: P_E                  Importance: 0.0002\n",
      "Variable: P_W                  Importance: 0.0002\n",
      "Variable: V_D                  Importance: 0.0002\n",
      "Variable: V_G                  Importance: 0.0002\n",
      "Variable: W_D                  Importance: 0.0002\n",
      "Variable: A_W                  Importance: 0.0001\n",
      "Variable: F_C                  Importance: 0.0001\n",
      "Variable: F_F                  Importance: 0.0001\n",
      "Variable: F_H                  Importance: 0.0001\n",
      "Variable: H_K                  Importance: 0.0001\n",
      "Variable: I_D                  Importance: 0.0001\n",
      "Variable: I_I                  Importance: 0.0001\n",
      "Variable: I_N                  Importance: 0.0001\n",
      "Variable: K_Q                  Importance: 0.0001\n",
      "Variable: L_A                  Importance: 0.0001\n",
      "Variable: L_Q                  Importance: 0.0001\n",
      "Variable: M_H                  Importance: 0.0001\n",
      "Variable: M_Q                  Importance: 0.0001\n",
      "Variable: N_C                  Importance: 0.0001\n",
      "Variable: P_R                  Importance: 0.0001\n",
      "Variable: Q_H                  Importance: 0.0001\n",
      "Variable: S_I                  Importance: 0.0001\n",
      "Variable: V_N                  Importance: 0.0001\n",
      "Variable: W_V                  Importance: 0.0001\n",
      "Variable: A_C                  Importance: 0.0\n",
      "Variable: A_M                  Importance: 0.0\n",
      "Variable: C_A                  Importance: 0.0\n",
      "Variable: C_C                  Importance: 0.0\n",
      "Variable: C_D                  Importance: 0.0\n",
      "Variable: C_E                  Importance: 0.0\n",
      "Variable: C_F                  Importance: 0.0\n",
      "Variable: C_H                  Importance: 0.0\n",
      "Variable: C_I                  Importance: 0.0\n",
      "Variable: C_K                  Importance: 0.0\n",
      "Variable: C_L                  Importance: 0.0\n",
      "Variable: C_M                  Importance: 0.0\n",
      "Variable: C_N                  Importance: 0.0\n",
      "Variable: C_P                  Importance: 0.0\n",
      "Variable: C_Q                  Importance: 0.0\n",
      "Variable: C_S                  Importance: 0.0\n",
      "Variable: C_T                  Importance: 0.0\n",
      "Variable: C_W                  Importance: 0.0\n",
      "Variable: D_C                  Importance: 0.0\n",
      "Variable: D_M                  Importance: 0.0\n",
      "Variable: D_W                  Importance: 0.0\n",
      "Variable: E_C                  Importance: 0.0\n",
      "Variable: E_F                  Importance: 0.0\n",
      "Variable: E_P                  Importance: 0.0\n",
      "Variable: F_E                  Importance: 0.0\n",
      "Variable: F_L                  Importance: 0.0\n",
      "Variable: F_M                  Importance: 0.0\n",
      "Variable: F_T                  Importance: 0.0\n",
      "Variable: H_C                  Importance: 0.0\n",
      "Variable: I_C                  Importance: 0.0\n",
      "Variable: I_F                  Importance: 0.0\n",
      "Variable: I_K                  Importance: 0.0\n",
      "Variable: I_L                  Importance: 0.0\n",
      "Variable: I_P                  Importance: 0.0\n",
      "Variable: K_C                  Importance: 0.0\n",
      "Variable: K_H                  Importance: 0.0\n",
      "Variable: K_I                  Importance: 0.0\n",
      "Variable: K_M                  Importance: 0.0\n",
      "Variable: K_P                  Importance: 0.0\n",
      "Variable: K_V                  Importance: 0.0\n",
      "Variable: L_C                  Importance: 0.0\n",
      "Variable: L_E                  Importance: 0.0\n",
      "Variable: L_G                  Importance: 0.0\n",
      "Variable: L_H                  Importance: 0.0\n",
      "Variable: L_M                  Importance: 0.0\n",
      "Variable: M_A                  Importance: 0.0\n",
      "Variable: M_C                  Importance: 0.0\n",
      "Variable: M_D                  Importance: 0.0\n",
      "Variable: M_F                  Importance: 0.0\n",
      "Variable: M_I                  Importance: 0.0\n",
      "Variable: M_L                  Importance: 0.0\n",
      "Variable: M_N                  Importance: 0.0\n",
      "Variable: M_R                  Importance: 0.0\n",
      "Variable: M_W                  Importance: 0.0\n",
      "Variable: P_C                  Importance: 0.0\n",
      "Variable: P_K                  Importance: 0.0\n",
      "Variable: P_L                  Importance: 0.0\n",
      "Variable: P_M                  Importance: 0.0\n",
      "Variable: P_P                  Importance: 0.0\n",
      "Variable: P_Q                  Importance: 0.0\n",
      "Variable: P_S                  Importance: 0.0\n",
      "Variable: Q_C                  Importance: 0.0\n",
      "Variable: Q_E                  Importance: 0.0\n",
      "Variable: Q_I                  Importance: 0.0\n",
      "Variable: Q_L                  Importance: 0.0\n",
      "Variable: R_C                  Importance: 0.0\n",
      "Variable: R_M                  Importance: 0.0\n",
      "Variable: S_C                  Importance: 0.0\n",
      "Variable: T_C                  Importance: 0.0\n",
      "Variable: T_T                  Importance: 0.0\n",
      "Variable: V_F                  Importance: 0.0\n",
      "Variable: V_P                  Importance: 0.0\n",
      "Variable: V_T                  Importance: 0.0\n",
      "Variable: V_V                  Importance: 0.0\n",
      "Variable: W_C                  Importance: 0.0\n",
      "Variable: W_E                  Importance: 0.0\n",
      "Variable: W_F                  Importance: 0.0\n",
      "Variable: W_W                  Importance: 0.0\n"
     ]
    },
    {
     "data": {
      "text/plain": [
       "[None,\n",
       " None,\n",
       " None,\n",
       " None,\n",
       " None,\n",
       " None,\n",
       " None,\n",
       " None,\n",
       " None,\n",
       " None,\n",
       " None,\n",
       " None,\n",
       " None,\n",
       " None,\n",
       " None,\n",
       " None,\n",
       " None,\n",
       " None,\n",
       " None,\n",
       " None,\n",
       " None,\n",
       " None,\n",
       " None,\n",
       " None,\n",
       " None,\n",
       " None,\n",
       " None,\n",
       " None,\n",
       " None,\n",
       " None,\n",
       " None,\n",
       " None,\n",
       " None,\n",
       " None,\n",
       " None,\n",
       " None,\n",
       " None,\n",
       " None,\n",
       " None,\n",
       " None,\n",
       " None,\n",
       " None,\n",
       " None,\n",
       " None,\n",
       " None,\n",
       " None,\n",
       " None,\n",
       " None,\n",
       " None,\n",
       " None,\n",
       " None,\n",
       " None,\n",
       " None,\n",
       " None,\n",
       " None,\n",
       " None,\n",
       " None,\n",
       " None,\n",
       " None,\n",
       " None,\n",
       " None,\n",
       " None,\n",
       " None,\n",
       " None,\n",
       " None,\n",
       " None,\n",
       " None,\n",
       " None,\n",
       " None,\n",
       " None,\n",
       " None,\n",
       " None,\n",
       " None,\n",
       " None,\n",
       " None,\n",
       " None,\n",
       " None,\n",
       " None,\n",
       " None,\n",
       " None,\n",
       " None,\n",
       " None,\n",
       " None,\n",
       " None,\n",
       " None,\n",
       " None,\n",
       " None,\n",
       " None,\n",
       " None,\n",
       " None,\n",
       " None,\n",
       " None,\n",
       " None,\n",
       " None,\n",
       " None,\n",
       " None,\n",
       " None,\n",
       " None,\n",
       " None,\n",
       " None,\n",
       " None,\n",
       " None,\n",
       " None,\n",
       " None,\n",
       " None,\n",
       " None,\n",
       " None,\n",
       " None,\n",
       " None,\n",
       " None,\n",
       " None,\n",
       " None,\n",
       " None,\n",
       " None,\n",
       " None,\n",
       " None,\n",
       " None,\n",
       " None,\n",
       " None,\n",
       " None,\n",
       " None,\n",
       " None,\n",
       " None,\n",
       " None,\n",
       " None,\n",
       " None,\n",
       " None,\n",
       " None,\n",
       " None,\n",
       " None,\n",
       " None,\n",
       " None,\n",
       " None,\n",
       " None,\n",
       " None,\n",
       " None,\n",
       " None,\n",
       " None,\n",
       " None,\n",
       " None,\n",
       " None,\n",
       " None,\n",
       " None,\n",
       " None,\n",
       " None,\n",
       " None,\n",
       " None,\n",
       " None,\n",
       " None,\n",
       " None,\n",
       " None,\n",
       " None,\n",
       " None,\n",
       " None,\n",
       " None,\n",
       " None,\n",
       " None,\n",
       " None,\n",
       " None,\n",
       " None,\n",
       " None,\n",
       " None,\n",
       " None,\n",
       " None,\n",
       " None,\n",
       " None,\n",
       " None,\n",
       " None,\n",
       " None,\n",
       " None,\n",
       " None,\n",
       " None,\n",
       " None,\n",
       " None,\n",
       " None,\n",
       " None,\n",
       " None,\n",
       " None,\n",
       " None,\n",
       " None,\n",
       " None,\n",
       " None,\n",
       " None,\n",
       " None,\n",
       " None,\n",
       " None,\n",
       " None,\n",
       " None,\n",
       " None,\n",
       " None,\n",
       " None,\n",
       " None,\n",
       " None,\n",
       " None,\n",
       " None,\n",
       " None,\n",
       " None,\n",
       " None,\n",
       " None,\n",
       " None,\n",
       " None,\n",
       " None,\n",
       " None,\n",
       " None,\n",
       " None,\n",
       " None,\n",
       " None,\n",
       " None,\n",
       " None,\n",
       " None,\n",
       " None,\n",
       " None,\n",
       " None,\n",
       " None,\n",
       " None,\n",
       " None,\n",
       " None,\n",
       " None,\n",
       " None,\n",
       " None,\n",
       " None,\n",
       " None,\n",
       " None,\n",
       " None,\n",
       " None,\n",
       " None,\n",
       " None,\n",
       " None,\n",
       " None,\n",
       " None,\n",
       " None,\n",
       " None,\n",
       " None,\n",
       " None,\n",
       " None,\n",
       " None,\n",
       " None,\n",
       " None,\n",
       " None,\n",
       " None,\n",
       " None,\n",
       " None,\n",
       " None,\n",
       " None,\n",
       " None,\n",
       " None,\n",
       " None,\n",
       " None,\n",
       " None,\n",
       " None,\n",
       " None,\n",
       " None,\n",
       " None,\n",
       " None,\n",
       " None,\n",
       " None,\n",
       " None,\n",
       " None,\n",
       " None,\n",
       " None,\n",
       " None,\n",
       " None,\n",
       " None,\n",
       " None,\n",
       " None,\n",
       " None,\n",
       " None,\n",
       " None,\n",
       " None,\n",
       " None,\n",
       " None,\n",
       " None,\n",
       " None,\n",
       " None,\n",
       " None,\n",
       " None,\n",
       " None,\n",
       " None,\n",
       " None,\n",
       " None,\n",
       " None,\n",
       " None,\n",
       " None,\n",
       " None,\n",
       " None,\n",
       " None,\n",
       " None,\n",
       " None,\n",
       " None,\n",
       " None,\n",
       " None,\n",
       " None,\n",
       " None,\n",
       " None,\n",
       " None,\n",
       " None,\n",
       " None,\n",
       " None,\n",
       " None,\n",
       " None,\n",
       " None,\n",
       " None,\n",
       " None,\n",
       " None,\n",
       " None,\n",
       " None,\n",
       " None,\n",
       " None,\n",
       " None,\n",
       " None,\n",
       " None,\n",
       " None,\n",
       " None,\n",
       " None,\n",
       " None,\n",
       " None,\n",
       " None,\n",
       " None,\n",
       " None,\n",
       " None,\n",
       " None,\n",
       " None,\n",
       " None,\n",
       " None,\n",
       " None,\n",
       " None,\n",
       " None,\n",
       " None,\n",
       " None,\n",
       " None,\n",
       " None,\n",
       " None,\n",
       " None,\n",
       " None,\n",
       " None,\n",
       " None,\n",
       " None,\n",
       " None,\n",
       " None,\n",
       " None,\n",
       " None,\n",
       " None,\n",
       " None,\n",
       " None,\n",
       " None,\n",
       " None,\n",
       " None,\n",
       " None,\n",
       " None,\n",
       " None,\n",
       " None,\n",
       " None,\n",
       " None,\n",
       " None,\n",
       " None,\n",
       " None,\n",
       " None,\n",
       " None,\n",
       " None,\n",
       " None,\n",
       " None,\n",
       " None,\n",
       " None,\n",
       " None,\n",
       " None,\n",
       " None,\n",
       " None,\n",
       " None,\n",
       " None,\n",
       " None,\n",
       " None,\n",
       " None,\n",
       " None,\n",
       " None,\n",
       " None,\n",
       " None,\n",
       " None,\n",
       " None,\n",
       " None,\n",
       " None,\n",
       " None,\n",
       " None,\n",
       " None,\n",
       " None,\n",
       " None,\n",
       " None,\n",
       " None,\n",
       " None,\n",
       " None,\n",
       " None,\n",
       " None,\n",
       " None,\n",
       " None,\n",
       " None,\n",
       " None,\n",
       " None,\n",
       " None,\n",
       " None,\n",
       " None,\n",
       " None]"
      ]
     },
     "execution_count": 14,
     "metadata": {},
     "output_type": "execute_result"
    }
   ],
   "source": [
    "importances = list(model.feature_importances_)\n",
    "feature_list = df_final.columns\n",
    "# List of tuples with variable and importance\n",
    "feature_importances = [(feature, round(importance, 4)) for feature, importance in zip(feature_list, importances)]\n",
    "\n",
    "# Sort the feature importances by most important first\n",
    "feature_importances = sorted(feature_importances, key = lambda x: x[1], reverse = True)\n",
    "\n",
    "# Print out the feature and importances \n",
    "[print('Variable: {:20} Importance: {}'.format(*pair)) for pair in feature_importances]"
   ]
  },
  {
   "cell_type": "code",
   "execution_count": 23,
   "metadata": {},
   "outputs": [
    {
     "data": {
      "text/plain": [
       "Text(0.5, 0, 'Feature importance')"
      ]
     },
     "execution_count": 23,
     "metadata": {},
     "output_type": "execute_result"
    },
    {
     "data": {
      "image/png": "[encoded data removed]",
      "text/plain": [
       "<Figure size 1080x288 with 1 Axes>"
      ]
     },
     "metadata": {
      "needs_background": "light"
     },
     "output_type": "display_data"
    }
   ],
   "source": [
    "idx_features = model.feature_importances_.argsort()[::-1]\n",
    "plt.figure(figsize=(15,4))\n",
    "\n",
    "plt.bar(np.arange(X_train.shape[1]), model.feature_importances_[idx_features])\n",
    "plt.xticks(range(len(feature_list)),feature_list[idx_features])\n",
    "plt.autoscale(enable=True, axis='x', tight=True)\n",
    "plt.xlabel(u\"Feature importance\")\n",
    "#plt.savefig(\"RFmodel_300_50features\",dpi=600,bbox_inches=\"tight\")"
   ]
  },
  {
   "cell_type": "code",
   "execution_count": 15,
   "metadata": {},
   "outputs": [
    {
     "data": {
      "text/plain": [
       "<matplotlib.collections.PathCollection at 0x1a2205dac8>"
      ]
     },
     "execution_count": 15,
     "metadata": {},
     "output_type": "execute_result"
    },
    {
     "data": {
      "image/png": "[encoded data removed]",
      "text/plain": [
       "<Figure size 432x288 with 1 Axes>"
      ]
     },
     "metadata": {},
     "output_type": "display_data"
    }
   ],
   "source": [
    "residual = y_test.values - y_pred_test\n",
    "plt.scatter(x=y_pred_test.T, y=residual.T)"
   ]
  },
  {
   "cell_type": "code",
   "execution_count": 16,
   "metadata": {
    "collapsed": true
   },
   "outputs": [],
   "source": [
    "from sklearn.model_selection import learning_curve\n",
    "def learning_curves(estimator, features, target, cv):\n",
    "    train_sizes, train_scores, validation_scores = learning_curve(\n",
    "                                                 estimator, features, target,train_sizes = np.linspace(.1, 1.0, 10),\n",
    "                                                 cv = cv, scoring = 'neg_mean_squared_error',n_jobs=-1)\n",
    "    train_scores_mean = -train_scores.mean(axis = 1)\n",
    "    validation_scores_mean = -validation_scores.mean(axis = 1)\n",
    "    \n",
    "    plt.plot(train_sizes, np.sqrt(train_scores_mean), label = 'Training error')\n",
    "    plt.plot(train_sizes, np.sqrt(validation_scores_mean), label = 'Validation error')\n",
    "\n",
    "    plt.ylabel('RMSE', fontsize = 14)\n",
    "    plt.xlabel('Training set size', fontsize = 14)\n",
    "    title = 'Learning curve'\n",
    "    plt.title(title, fontsize = 18, y = 1.03)\n",
    "    plt.legend()\n",
    "    plt.ylim(0,3)"
   ]
  },
  {
   "cell_type": "code",
   "execution_count": 17,
   "metadata": {},
   "outputs": [
    {
     "data": {
      "image/png": "[encoded data removed]",
      "text/plain": [
       "<Figure size 432x288 with 1 Axes>"
      ]
     },
     "metadata": {},
     "output_type": "display_data"
    }
   ],
   "source": [
    "learning_curves(model,X,y,5)\n",
    "#plt.savefig(\"RFmodel_300_learnincurve.png\",dpi=600,bbox_inches=\"tight\")"
   ]
  },
  {
   "cell_type": "markdown",
   "metadata": {},
   "source": [
    "# Manuall CV with smote"
   ]
  },
  {
   "cell_type": "code",
   "execution_count": 127,
   "metadata": {
    "collapsed": true
   },
   "outputs": [],
   "source": [
    "# forma 1\n",
    "df_final['class'] = np.where((df_final['ddG_exp'] < -0.4) | (df_final['ddG_exp'] > 2.4),0,1)\n",
    "# forma 2 \n",
    "#df_final['class'] = np.where((df_final['ddG_exp'] < 0),1,0)"
   ]
  },
  {
   "cell_type": "code",
   "execution_count": 128,
   "metadata": {},
   "outputs": [
    {
     "name": "stdout",
     "output_type": "stream",
     "text": [
      "Before OverSampling, counts of label '1': 481\n",
      "Before OverSampling, counts of label '0': 134\n"
     ]
    }
   ],
   "source": [
    "print(\"Before OverSampling, counts of label '1': {}\".format(sum(df_final['class'] == 1)))\n",
    "print(\"Before OverSampling, counts of label '0': {}\".format(sum(df_final['class'] == 0)))"
   ]
  },
  {
   "cell_type": "code",
   "execution_count": 129,
   "metadata": {
    "collapsed": true
   },
   "outputs": [],
   "source": [
    "X = df_final.drop('class',axis=1)\n",
    "y = df_final['class']"
   ]
  },
  {
   "cell_type": "code",
   "execution_count": 130,
   "metadata": {},
   "outputs": [
    {
     "name": "stderr",
     "output_type": "stream",
     "text": [
      "/Users/vfica/miniconda3/envs/bio/lib/python3.6/site-packages/sklearn/model_selection/_split.py:2069: FutureWarning: From version 0.21, test_size will always complement train_size unless both are specified.\n",
      "  FutureWarning)\n"
     ]
    }
   ],
   "source": [
    "X_train, X_test, y_train, y_test = train_test_split(X, y,stratify = y,train_size=0.70,random_state=1212)\n"
   ]
  },
  {
   "cell_type": "code",
   "execution_count": 131,
   "metadata": {
    "collapsed": true
   },
   "outputs": [],
   "source": [
    "RandomForestRegressor?"
   ]
  },
  {
   "cell_type": "code",
   "execution_count": null,
   "metadata": {
    "collapsed": true
   },
   "outputs": [],
   "source": [
    "{'randomforestregressor__bootstrap': True, 'randomforestregressor__max_depth': 2, 'randomforestregressor__max_features': 37, 'randomforestregressor__max_leaf_nodes': 12, 'randomforestregressor__min_samples_leaf': 10, 'randomforestregressor__min_samples_split': 2, 'randomforestregressor__n_estimators': 50, 'randomforestregressor__random_state': 1212}"
   ]
  },
  {
   "cell_type": "code",
   "execution_count": 132,
   "metadata": {},
   "outputs": [
    {
     "name": "stdout",
     "output_type": "stream",
     "text": [
      "Test scores\n",
      "RMSE 1.1960745680680778\n",
      "r2 0.30202439829554173\n",
      "\n",
      "Train scores\n",
      "RMSE 1.1520470964345404\n",
      "r2 0.5917545697264857\n"
     ]
    }
   ],
   "source": [
    "cv_splits = 10\n",
    "\n",
    "cv_test_mse = np.zeros(cv_splits)\n",
    "cv_test_r2 = np.zeros(cv_splits)\n",
    "cv_train_mse = np.zeros(cv_splits)\n",
    "cv_train_r2 = np.zeros(cv_splits)\n",
    "\n",
    "kf = KFold(n_splits=cv_splits,random_state=1212)\n",
    "#kf = StratifiedKFold(n_splits=cv_splits,random_state=12)\n",
    "for i,(train_index, validation_index) in enumerate(kf.split(X_train,y_train)):\n",
    "    \n",
    "    X_train_cv, X_validation_cv = X_train.values[train_index], X_train.values[validation_index]\n",
    "    y_train_cv, y_validation_cv = y_train.values[train_index], y_train.values[validation_index]\n",
    "    \n",
    "    # Oversampling\n",
    "    smote = ovs.SMOTE(random_state=1212,m_neighbors=25)\n",
    "    #smote = ovs.BorderlineSMOTE(random_state=12,m_neighbors=40,kind='borderline-1')\n",
    "    #adasyn = ovs.ADASYN(random_state=12,n_neighbors=40)\n",
    "    #X_train_ovs , y_train_ovs = adasyn.fit_sample(X_train_cv,y_train_cv)\n",
    "    X_train_ovs , y_train_ovs = smote.fit_sample(X_train_cv,y_train_cv)\n",
    "    \n",
    "    # Back to normal dataset\n",
    "    X_train_normal = X_train_ovs[:,:-1]\n",
    "    y_train_normal = X_train_ovs[:,-1]\n",
    "    \n",
    "    X_validation_normal = X_validation_cv[:,:-1]\n",
    "    y_validation_normal = X_validation_cv[:,-1]\n",
    "    \n",
    "    \n",
    "    # Model\n",
    "    model = RandomForestRegressor(n_estimators=50,max_depth=2,max_features=30,max_leaf_nodes=10,\n",
    "                                  min_samples_leaf=2,min_samples_split=10,random_state=1212)\n",
    "    model.fit(X_train_normal,y_train_normal)\n",
    "    \n",
    "    # Test\n",
    "    y_test_pred = model.predict(X_validation_normal)\n",
    "    y_train_pred = model.predict(X_train_normal)\n",
    "    \n",
    "    # Scoring\n",
    "    \n",
    "    test_mse = mean_squared_error(y_validation_normal,y_test_pred)\n",
    "    test_r2 = r2_score(y_validation_normal,y_test_pred)\n",
    "    cv_test_mse[i] = test_mse\n",
    "    cv_test_r2[i] = test_r2\n",
    "    \n",
    "    train_mse = mean_squared_error(y_train_normal,y_train_pred)\n",
    "    train_r2 = r2_score(y_train_normal,y_train_pred)\n",
    "    cv_train_mse[i] = train_mse\n",
    "    cv_train_r2[i] = train_r2\n",
    "    \n",
    "print(\"Test scores\")\n",
    "print(\"RMSE\",np.sqrt(cv_test_mse.mean()))\n",
    "print(\"r2\",cv_test_r2.mean())\n",
    "print(\"\")\n",
    "print(\"Train scores\")\n",
    "print(\"RMSE\",np.sqrt(cv_train_mse.mean()))\n",
    "print(\"r2\",cv_train_r2.mean())\n"
   ]
  },
  {
   "cell_type": "code",
   "execution_count": null,
   "metadata": {
    "collapsed": true
   },
   "outputs": [],
   "source": []
  }
 ],
 "metadata": {
  "kernelspec": {
   "display_name": "Python 3",
   "language": "python",
   "name": "python3"
  },
  "language_info": {
   "codemirror_mode": {
    "name": "ipython",
    "version": 3
   },
   "file_extension": ".py",
   "mimetype": "text/x-python",
   "name": "python",
   "nbconvert_exporter": "python",
   "pygments_lexer": "ipython3",
   "version": "3.6.7"
  }
 },
 "nbformat": 4,
 "nbformat_minor": 2
}
