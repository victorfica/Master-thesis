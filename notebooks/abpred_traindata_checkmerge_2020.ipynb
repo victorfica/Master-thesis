{
 "cells": [
  {
   "cell_type": "code",
   "execution_count": 1,
   "metadata": {},
   "outputs": [],
   "source": [
    "import pandas as pd"
   ]
  },
  {
   "cell_type": "code",
   "execution_count": 8,
   "metadata": {},
   "outputs": [],
   "source": [
    "abpred_database = pd.read_csv('../data/Data_skempi_ab-bind_Final-merge.csv',index_col=0)\n",
    "abpred_traindata =  pd.read_csv(\"../data/abpred_train_2020_v2.csv\",index_col=0)\n",
    "\n",
    "abpred_traindata.reset_index(inplace=True)\n",
    "abpred_database.reset_index(drop=True,inplace=True)"
   ]
  },
  {
   "cell_type": "code",
   "execution_count": 9,
   "metadata": {
    "scrolled": true
   },
   "outputs": [],
   "source": [
    "# fix lowercase mutant nomeclature on some mutants\n",
    "abpred_database[\"mutant\"] = abpred_database[\"mutant\"].str.upper()\n",
    "\n",
    "abpred_database[\"abpred_mutant\"] = abpred_database[\"#PDB\"]+\".\"+abpred_database[\"chain\"]+abpred_database[\"mutant\"]\n",
    "abpred_traindata[\"abpred_mutant\"] = abpred_traindata[\"index\"].str.rsplit(\".\",4,expand=True)[0]"
   ]
  },
  {
   "cell_type": "code",
   "execution_count": 10,
   "metadata": {},
   "outputs": [],
   "source": [
    "# Some mutant were duplicated betwen skempi and abbind database \n",
    "abpred_traindata.drop_duplicates(inplace=True)"
   ]
  },
  {
   "cell_type": "code",
   "execution_count": 11,
   "metadata": {
    "scrolled": true
   },
   "outputs": [
    {
     "data": {
      "text/plain": [
       "False    937\n",
       "Name: ddG, dtype: int64"
      ]
     },
     "execution_count": 11,
     "metadata": {},
     "output_type": "execute_result"
    }
   ],
   "source": [
    "#abpred_traindata.sort_values(by=\"abpred_mutant\").iloc[100:150]\n",
    "abpred_database[\"ddG\"].isna().value_counts()"
   ]
  },
  {
   "cell_type": "code",
   "execution_count": 12,
   "metadata": {},
   "outputs": [],
   "source": [
    "traindata_mut = abpred_traindata[(abpred_traindata[\"index\"].str.split(\".\").str.len()==6)].copy()\n",
    "traindata_wt = abpred_traindata[(abpred_traindata[\"index\"].str.split(\".\").str.len()==8)].copy()\n",
    "\n",
    "traindata_wt[\"abpred_mutant\"] = traindata_wt[\"abpred_mutant\"].str.rsplit(\".\",2,expand=True)[0]"
   ]
  },
  {
   "cell_type": "code",
   "execution_count": null,
   "metadata": {},
   "outputs": [],
   "source": []
  },
  {
   "cell_type": "code",
   "execution_count": 30,
   "metadata": {
    "scrolled": true
   },
   "outputs": [],
   "source": [
    "traindata_mut2 = traindata_mut.merge(abpred_database[[\"abpred_mutant\",\"ddG\"]],how=\"left\")"
   ]
  },
  {
   "cell_type": "code",
   "execution_count": 32,
   "metadata": {},
   "outputs": [],
   "source": [
    "traindata_wt2 = traindata_wt.merge(abpred_database[[\"abpred_mutant\",\"ddG\"]],how=\"left\")\n",
    "traindata_wt2[\"ddG\"] = -traindata_wt2[\"ddG\"]"
   ]
  },
  {
   "cell_type": "code",
   "execution_count": null,
   "metadata": {},
   "outputs": [],
   "source": []
  },
  {
   "cell_type": "code",
   "execution_count": 35,
   "metadata": {},
   "outputs": [],
   "source": [
    "abpred_traindata_final = pd.concat([traindata_mut2,traindata_wt2])\n",
    "abpred_traindata_final.drop(\"abpred_mutant\",axis=1,inplace=True)"
   ]
  },
  {
   "cell_type": "code",
   "execution_count": 36,
   "metadata": {},
   "outputs": [],
   "source": [
    "abpred_traindata_final.set_index(\"index\",inplace=True)"
   ]
  },
  {
   "cell_type": "code",
   "execution_count": 37,
   "metadata": {},
   "outputs": [
    {
     "data": {
      "text/plain": [
       "False    1874\n",
       "Name: ddG, dtype: int64"
      ]
     },
     "execution_count": 37,
     "metadata": {},
     "output_type": "execute_result"
    }
   ],
   "source": [
    "abpred_traindata_final.ddG.isna().value_counts()"
   ]
  },
  {
   "cell_type": "code",
   "execution_count": 47,
   "metadata": {},
   "outputs": [],
   "source": [
    "# Drop strucures wiht abs ddG value equal 8\n",
    "abpred_traindata_final = abpred_traindata_final[-(abpred_traindata_final.ddG.abs() == 8.)]"
   ]
  },
  {
   "cell_type": "code",
   "execution_count": 49,
   "metadata": {},
   "outputs": [],
   "source": [
    "abpred_traindata_final.to_csv(\"../data/abpred_train_2020_v2.csv\")"
   ]
  }
 ],
 "metadata": {
  "kernelspec": {
   "display_name": "Python 3",
   "language": "python",
   "name": "python3"
  },
  "language_info": {
   "codemirror_mode": {
    "name": "ipython",
    "version": 3
   },
   "file_extension": ".py",
   "mimetype": "text/x-python",
   "name": "python",
   "nbconvert_exporter": "python",
   "pygments_lexer": "ipython3",
   "version": "3.7.6"
  }
 },
 "nbformat": 4,
 "nbformat_minor": 4
}
