{
 "cells": [
  {
   "cell_type": "code",
   "execution_count": 10,
   "metadata": {
    "scrolled": true
   },
   "outputs": [
    {
     "data": {
      "text/plain": [
       "<matplotlib.axes._subplots.AxesSubplot at 0x1a21de31d0>"
      ]
     },
     "execution_count": 10,
     "metadata": {},
     "output_type": "execute_result"
    },
    {
     "data": {
      "image/png": "[encoded data removed]",
      "text/plain": [
       "<Figure size 792x648 with 2 Axes>"
      ]
     },
     "metadata": {},
     "output_type": "display_data"
    }
   ],
   "source": [
    "import numpy as np\n",
    "import pandas as pd\n",
    "import seaborn as sns\n",
    "from sklearn.feature_selection import VarianceThreshold\n",
    "import matplotlib.pyplot as plt\n",
    "%matplotlib inline\n",
    "sns.set(style=\"white\")\n",
    "\n",
    "\n",
    "d = pd.read_csv(\"../data/DF_train15noChangeContact_skempiAB_modeller_final.csv\",index_col=0)\n",
    "#d = pd.read_csv(\"../data/DF_train15_skempiAB_modeller_final.csv\",index_col=0)\n",
    "\n",
    "\n",
    "# Compute the correlation matrix\n",
    "corr = d.drop(\"ddG_exp\",axis=1).corr()\n",
    "\n",
    "# Generate a mask for the upper triangle\n",
    "mask = np.zeros_like(corr, dtype=np.bool)\n",
    "mask[np.triu_indices_from(mask)] = True\n",
    "\n",
    "# Set up the matplotlib figure\n",
    "f, ax = plt.subplots(figsize=(11, 9))\n",
    "\n",
    "# Generate a custom diverging colormap\n",
    "cmap = sns.diverging_palette(220, 10, as_cmap=True)\n",
    "\n",
    "# Draw the heatmap with the mask and correct aspect ratio\n",
    "#sns.heatmap(corr, mask=mask, cmap=cmap, vmax=.3, center=0,\n",
    "#            square=True, linewidths=.5, cbar_kws={\"shrink\": .5})\n",
    "\n",
    "sns.heatmap(corr, mask=mask, cmap=cmap,xticklabels=False,yticklabels=False)\n",
    "\n"
   ]
  },
  {
   "cell_type": "code",
   "execution_count": 102,
   "metadata": {
    "scrolled": true
   },
   "outputs": [
    {
     "data": {
      "text/plain": [
       "(1392, 78)"
      ]
     },
     "execution_count": 102,
     "metadata": {},
     "output_type": "execute_result"
    }
   ],
   "source": [
    "import numpy as np\n",
    "import pandas as pd\n",
    "import seaborn as sns\n",
    "import pickle\n",
    "from sklearn.feature_selection import VarianceThreshold\n",
    "from sklearn.preprocessing import MinMaxScaler,PolynomialFeatures,StandardScaler\n",
    "import matplotlib.pyplot as plt\n",
    "\n",
    "%matplotlib inline\n",
    "\n",
    "df =pd.read_csv(\"../data/DF_train15noChangeContact_skempiAB_modeller_final.csv\",index_col=0)\n",
    "#df =pd.read_csv(\"../data/DF_train400_skempiAB_modeller_final.csv\",index_col=0)\n",
    "\n",
    "df.shape"
   ]
  },
  {
   "cell_type": "code",
   "execution_count": 103,
   "metadata": {
    "scrolled": true
   },
   "outputs": [
    {
     "data": {
      "text/plain": [
       "Index(['clash', 'covalent', 'vdw_clash', 'vdw', 'proximal', 'hbond',\n",
       "       'weak_hbond', 'xbond', 'ionic', 'metal_complex', 'aromatic',\n",
       "       'hydrophobic', 'carbonyl', 'polar', 'weak_polar',\n",
       "       'intraclashes_energy_1_change', 'intraclashes_energy_2_change',\n",
       "       'dg_change', 'backbone_hbond_change', 'sidechain_hbond_change',\n",
       "       'van_der_waals_change', 'electrostatics_change',\n",
       "       'solvation_polar_change', 'solvation_hydrophobic_change',\n",
       "       'van_der_waals_clashes_change', 'entropy_sidechain_change',\n",
       "       'entropy_mainchain_change', 'sloop_entropy_change',\n",
       "       'mloop_entropy_change', 'cis_bond_change', 'torsional_clash_change',\n",
       "       'backbone_clash_change', 'helix_dipole_change', 'water_bridge_change',\n",
       "       'disulfide_change', 'electrostatic_kon_change',\n",
       "       'partial_covalent_bonds_change', 'energy_ionisation_change',\n",
       "       'entropy_complex_change', 'interface_residues_change',\n",
       "       'interface_residues_clashing_change',\n",
       "       'interface_residues_vdw_clashing_change',\n",
       "       'interface_residues_bb_clashing_change', 'intraclashes_energy_1_mut',\n",
       "       'intraclashes_energy_2_mut', 'dg_mut', 'backbone_hbond_mut',\n",
       "       'sidechain_hbond_mut', 'van_der_waals_mut', 'electrostatics_mut',\n",
       "       'solvation_polar_mut', 'solvation_hydrophobic_mut',\n",
       "       'van_der_waals_clashes_mut', 'entropy_sidechain_mut',\n",
       "       'entropy_mainchain_mut', 'sloop_entropy_mut', 'mloop_entropy_mut',\n",
       "       'cis_bond_mut', 'torsional_clash_mut', 'backbone_clash_mut',\n",
       "       'helix_dipole_mut', 'water_bridge_mut', 'disulfide_mut',\n",
       "       'electrostatic_kon_mut', 'partial_covalent_bonds_mut',\n",
       "       'energy_ionisation_mut', 'entropy_complex_mut',\n",
       "       'interface_residues_mut', 'interface_residues_clashing_mut',\n",
       "       'interface_residues_vdw_clashing_mut',\n",
       "       'interface_residues_bb_clashing_mut', 'if_phil', 'if_phob', 'if_total',\n",
       "       'sasa_phil', 'sasa_phob', 'sasa_total', 'ddG_exp'],\n",
       "      dtype='object')"
      ]
     },
     "execution_count": 103,
     "metadata": {},
     "output_type": "execute_result"
    }
   ],
   "source": [
    "df.columns"
   ]
  },
  {
   "cell_type": "code",
   "execution_count": 104,
   "metadata": {},
   "outputs": [
    {
     "name": "stdout",
     "output_type": "stream",
     "text": [
      "outer range (low) of the distribution:\n",
      "[[-3.93179051]\n",
      " [-3.87865416]\n",
      " [-3.85269254]\n",
      " [-3.6782598 ]\n",
      " [-3.62555119]\n",
      " [-3.58858905]\n",
      " [-3.56708391]\n",
      " [-3.56259893]\n",
      " [-3.52406255]\n",
      " [-3.52406255]\n",
      " [-3.38475959]\n",
      " [-3.24615063]\n",
      " [-3.24015075]\n",
      " [-3.17659658]\n",
      " [-3.00410592]\n",
      " [-2.96262696]\n",
      " [-2.96262696]\n",
      " [-2.96262696]\n",
      " [-2.90783338]\n",
      " [-2.90057951]]\n",
      "\n",
      "outer range (high) of the distribution:\n",
      "[[2.90057951]\n",
      " [2.90783338]\n",
      " [2.96262696]\n",
      " [2.96262696]\n",
      " [2.96262696]\n",
      " [3.00410592]\n",
      " [3.17659658]\n",
      " [3.24015075]\n",
      " [3.24615063]\n",
      " [3.38475959]\n",
      " [3.52406255]\n",
      " [3.52406255]\n",
      " [3.56259893]\n",
      " [3.56708391]\n",
      " [3.58858905]\n",
      " [3.62555119]\n",
      " [3.6782598 ]\n",
      " [3.85269254]\n",
      " [3.87865416]\n",
      " [3.93179051]]\n"
     ]
    }
   ],
   "source": [
    "#standardizing data\n",
    "ddg_scaled = StandardScaler().fit_transform(df['ddG_exp'][:,np.newaxis]);\n",
    "low_range = ddg_scaled[ddg_scaled[:,0].argsort()][:20]\n",
    "high_range= ddg_scaled[ddg_scaled[:,0].argsort()][-20:]\n",
    "print('outer range (low) of the distribution:')\n",
    "print(low_range)\n",
    "print('\\nouter range (high) of the distribution:')\n",
    "print(high_range)"
   ]
  },
  {
   "cell_type": "code",
   "execution_count": 105,
   "metadata": {
    "scrolled": true
   },
   "outputs": [],
   "source": [
    "#df_pairs_ddG = df.iloc[:,:400].mul(df[\"dg_change\"],axis=0) # Funciona bien, aumenta numero de variablse con 0.2 corr\n",
    "#df_pairs_ddG = df.iloc[:,:400].mul(df[\"van_der_waals_change\"],axis=0) #Funciona, aumenta mas aun el numero de variables con 0.3 corr\n",
    "df_pairs_ddG = df.iloc[:,:15].mul(df[\"van_der_waals_change\"],axis=0)# funciona mucho mejor\n",
    "df_pairs_ddG.columns =df_pairs_ddG.columns.str[:]+\"_vdw_change_interaction\""
   ]
  },
  {
   "cell_type": "code",
   "execution_count": 106,
   "metadata": {},
   "outputs": [],
   "source": [
    "df = df.join(df_pairs_ddG)"
   ]
  },
  {
   "cell_type": "code",
   "execution_count": 107,
   "metadata": {},
   "outputs": [],
   "source": [
    "#filter all zero columns\n",
    "cols_selected = df.columns[(df != 0).any(axis=0)]\n",
    "df_zerofiltered = df.loc[:, cols_selected]"
   ]
  },
  {
   "cell_type": "code",
   "execution_count": 108,
   "metadata": {},
   "outputs": [],
   "source": [
    "#df_zerofiltered.to_csv(\"../data/DF_contact15_energy_sasa.skempiAB.Zero.csv\")"
   ]
  },
  {
   "cell_type": "code",
   "execution_count": 109,
   "metadata": {},
   "outputs": [],
   "source": [
    "#with open('cols_selected_zero15skempiAB.pickle', 'wb') as f:\n",
    "#    # Pickle the 'data' dictionary using the highest protocol available.\n",
    "#    pickle.dump(cols_selected, f, pickle.HIGHEST_PROTOCOL)"
   ]
  },
  {
   "cell_type": "code",
   "execution_count": 110,
   "metadata": {
    "scrolled": true
   },
   "outputs": [
    {
     "name": "stdout",
     "output_type": "stream",
     "text": [
      "ddG_exp                                   1.000000\n",
      "hbond_vdw_change_interaction              0.382342\n",
      "polar_vdw_change_interaction              0.374269\n",
      "weak_polar_vdw_change_interaction         0.373940\n",
      "vdw_clash_vdw_change_interaction          0.371216\n",
      "van_der_waals_change                      0.360533\n",
      "weak_hbond_vdw_change_interaction         0.354260\n",
      "proximal_vdw_change_interaction           0.351859\n",
      "vdw_vdw_change_interaction                0.333132\n",
      "hydrophobic_vdw_change_interaction        0.314744\n",
      "solvation_hydrophobic_change              0.302313\n",
      "aromatic_vdw_change_interaction           0.247734\n",
      "ionic_vdw_change_interaction              0.239326\n",
      "carbonyl_vdw_change_interaction           0.219797\n",
      "sidechain_hbond_change                    0.163980\n",
      "electrostatics_change                     0.150358\n",
      "electrostatic_kon_change                  0.141315\n",
      "dg_change                                 0.135969\n",
      "backbone_hbond_change                     0.081380\n",
      "van_der_waals_mut                         0.035759\n",
      "solvation_hydrophobic_mut                 0.030046\n",
      "intraclashes_energy_2_change              0.028655\n",
      "helix_dipole_change                       0.028066\n",
      "sidechain_hbond_mut                       0.020529\n",
      "electrostatics_mut                        0.020165\n",
      "electrostatic_kon_mut                     0.019664\n",
      "dg_mut                                    0.019401\n",
      "if_phil                                   0.012360\n",
      "backbone_hbond_mut                        0.009641\n",
      "helix_dipole_mut                          0.008903\n",
      "                                            ...   \n",
      "proximal                                 -0.043375\n",
      "vdw_clash                                -0.044599\n",
      "interface_residues_clashing_change       -0.049123\n",
      "interface_residues_vdw_clashing_change   -0.054832\n",
      "interface_residues_change                -0.056540\n",
      "entropy_sidechain_change                 -0.066428\n",
      "van_der_waals_clashes_change             -0.073429\n",
      "energy_ionisation_change                 -0.082342\n",
      "intraclashes_energy_1_change             -0.107856\n",
      "torsional_clash_change                   -0.110447\n",
      "backbone_clash_change                    -0.148315\n",
      "cis_bond_change                          -0.187731\n",
      "solvation_polar_change                   -0.332633\n",
      "clash                                          NaN\n",
      "covalent                                       NaN\n",
      "xbond                                          NaN\n",
      "metal_complex                                  NaN\n",
      "sloop_entropy_change                           NaN\n",
      "mloop_entropy_change                           NaN\n",
      "water_bridge_change                            NaN\n",
      "partial_covalent_bonds_change                  NaN\n",
      "entropy_complex_change                         NaN\n",
      "sloop_entropy_mut                              NaN\n",
      "mloop_entropy_mut                              NaN\n",
      "water_bridge_mut                               NaN\n",
      "partial_covalent_bonds_mut                     NaN\n",
      "clash_vdw_change_interaction                   NaN\n",
      "covalent_vdw_change_interaction                NaN\n",
      "xbond_vdw_change_interaction                   NaN\n",
      "metal_complex_vdw_change_interaction           NaN\n",
      "Name: ddG_exp, Length: 93, dtype: float64\n"
     ]
    }
   ],
   "source": [
    "corr_matrix = df.corr()#.abs()\n",
    "corr_droptarget = df.drop('ddG_exp',axis=1).corr().abs()\n",
    "\n",
    "#the matrix is symmetric so we need to extract upper triangle matrix without diagonal (k = 1)\n",
    "print(corr_matrix['ddG_exp'].sort_values(ascending=False).round(6))"
   ]
  },
  {
   "cell_type": "code",
   "execution_count": null,
   "metadata": {},
   "outputs": [],
   "source": [
    "hbond_ddG_chage                           0.382342\n",
    "polar_ddG_chage                           0.374269\n",
    "weak_polar_ddG_chage                      0.373940\n",
    "vdw_clash_ddG_chage                       0.371216\n",
    "van_der_waals_change                      0.360533\n",
    "weak_hbond_ddG_chage                      0.354260\n",
    "proximal_ddG_chage                        0.351859\n",
    "vdw_ddG_chage                             0.333132\n",
    "hydrophobic_ddG_chage                     0.314744\n",
    "solvation_hydrophobic_change              0.302313\n",
    "aromatic_ddG_chage                        0.247734\n",
    "ionic_ddG_chage                           0.239326\n",
    "carbonyl_ddG_chage                        0.219797\n",
    "sidechain_hbond_change                    0.163980\n",
    "electrostatics_change                     0.150358\n",
    "electrostatic_kon_change                  0.141315\n",
    "dg_change                                 0.135969"
   ]
  },
  {
   "cell_type": "code",
   "execution_count": 5,
   "metadata": {
    "scrolled": true
   },
   "outputs": [
    {
     "ename": "NameError",
     "evalue": "name 'df_zerofiltered' is not defined",
     "output_type": "error",
     "traceback": [
      "\u001b[0;31m---------------------------------------------------------------------------\u001b[0m",
      "\u001b[0;31mNameError\u001b[0m                                 Traceback (most recent call last)",
      "\u001b[0;32m<ipython-input-5-5a633879865a>\u001b[0m in \u001b[0;36m<module>\u001b[0;34m\u001b[0m\n\u001b[0;32m----> 1\u001b[0;31m \u001b[0mcorr_matrix\u001b[0m \u001b[0;34m=\u001b[0m \u001b[0mdf_zerofiltered\u001b[0m\u001b[0;34m.\u001b[0m\u001b[0mcorr\u001b[0m\u001b[0;34m(\u001b[0m\u001b[0;34m)\u001b[0m\u001b[0;31m#.abs()\u001b[0m\u001b[0;34m\u001b[0m\u001b[0m\n\u001b[0m\u001b[1;32m      2\u001b[0m \u001b[0mcorr_droptarget\u001b[0m \u001b[0;34m=\u001b[0m \u001b[0mdf_zerofiltered\u001b[0m\u001b[0;34m.\u001b[0m\u001b[0mdrop\u001b[0m\u001b[0;34m(\u001b[0m\u001b[0;34m'ddG_exp'\u001b[0m\u001b[0;34m,\u001b[0m\u001b[0maxis\u001b[0m\u001b[0;34m=\u001b[0m\u001b[0;36m1\u001b[0m\u001b[0;34m)\u001b[0m\u001b[0;34m.\u001b[0m\u001b[0mcorr\u001b[0m\u001b[0;34m(\u001b[0m\u001b[0;34m)\u001b[0m\u001b[0;34m.\u001b[0m\u001b[0mabs\u001b[0m\u001b[0;34m(\u001b[0m\u001b[0;34m)\u001b[0m\u001b[0;34m\u001b[0m\u001b[0m\n\u001b[1;32m      3\u001b[0m \u001b[0;34m\u001b[0m\u001b[0m\n\u001b[1;32m      4\u001b[0m \u001b[0;31m#the matrix is symmetric so we need to extract upper triangle matrix without diagonal (k = 1)\u001b[0m\u001b[0;34m\u001b[0m\u001b[0;34m\u001b[0m\u001b[0m\n\u001b[1;32m      5\u001b[0m \u001b[0mprint\u001b[0m\u001b[0;34m(\u001b[0m\u001b[0mcorr_matrix\u001b[0m\u001b[0;34m[\u001b[0m\u001b[0;34m'ddG_exp'\u001b[0m\u001b[0;34m]\u001b[0m\u001b[0;34m.\u001b[0m\u001b[0msort_values\u001b[0m\u001b[0;34m(\u001b[0m\u001b[0mascending\u001b[0m\u001b[0;34m=\u001b[0m\u001b[0;32mFalse\u001b[0m\u001b[0;34m)\u001b[0m\u001b[0;34m.\u001b[0m\u001b[0mhead\u001b[0m\u001b[0;34m(\u001b[0m\u001b[0;36m100\u001b[0m\u001b[0;34m)\u001b[0m\u001b[0;34m*\u001b[0m\u001b[0;36m100\u001b[0m\u001b[0;34m)\u001b[0m\u001b[0;34m\u001b[0m\u001b[0m\n",
      "\u001b[0;31mNameError\u001b[0m: name 'df_zerofiltered' is not defined"
     ]
    }
   ],
   "source": [
    "corr_matrix = df_zerofiltered.corr()#.abs()\n",
    "corr_droptarget = df_zerofiltered.drop('ddG_exp',axis=1).corr().abs()\n",
    "\n",
    "#the matrix is symmetric so we need to extract upper triangle matrix without diagonal (k = 1)\n",
    "print(corr_matrix['ddG_exp'].sort_values(ascending=False).head(100)*100)"
   ]
  },
  {
   "cell_type": "code",
   "execution_count": 10,
   "metadata": {
    "collapsed": true
   },
   "outputs": [],
   "source": [
    "corr_to_target = corr_matrix['ddG_exp'].sort_values(ascending=False)\n"
   ]
  },
  {
   "cell_type": "code",
   "execution_count": 11,
   "metadata": {
    "collapsed": true
   },
   "outputs": [],
   "source": [
    "top_correlated = corr_to_target.index[corr_matrix['ddG_exp'].sort_values(ascending=False) > 0.1]"
   ]
  },
  {
   "cell_type": "code",
   "execution_count": 12,
   "metadata": {},
   "outputs": [
    {
     "data": {
      "text/plain": [
       "Index(['ddG_exp', 'hbond', 'intraclashes_energy_1_wt', 'helix_dipole_wt',\n",
       "       'dg_change', 'dg_wt', 'van_der_waals_clashes_wt', 'if_phil',\n",
       "       'entropy_sidechain_wt', 'torsional_clash_wt', 'if_total',\n",
       "       'backbone_hbond_wt', 'interface_residues_wt', 'hydrophobic',\n",
       "       'solvation_hydrophobic_wt', 'van_der_waals_wt', 'electrostatics_wt',\n",
       "       'interface_residues_clashing_wt', 'energy_ionisation_change',\n",
       "       'interface_residues_bb_clashing_wt', 'proximal', 'sidechain_hbond_wt',\n",
       "       'solvation_polar_wt', 'polar', 'cis_bond_change', 'if_phob',\n",
       "       'entropy_mainchain_wt', 'weak_hbond', 'covalent', 'backbone_clash_wt'],\n",
       "      dtype='object')"
      ]
     },
     "execution_count": 12,
     "metadata": {},
     "output_type": "execute_result"
    }
   ],
   "source": [
    "top_correlated"
   ]
  },
  {
   "cell_type": "code",
   "execution_count": 33,
   "metadata": {
    "collapsed": true,
    "scrolled": true
   },
   "outputs": [],
   "source": [
    "matrix = corr_droptarget.where(np.triu(np.ones(corr_droptarget.shape), k=1).astype(np.bool))"
   ]
  },
  {
   "cell_type": "code",
   "execution_count": 34,
   "metadata": {
    "collapsed": true
   },
   "outputs": [],
   "source": [
    "to_drop = [column for column in matrix.columns if any(matrix[column] > 0.7)]\n",
    "to_drop_notwithtarget = [column for column in to_drop if column not in top_correlated]"
   ]
  },
  {
   "cell_type": "code",
   "execution_count": null,
   "metadata": {
    "collapsed": true
   },
   "outputs": [],
   "source": [
    "# ickle todrop not in target\n",
    "with open('drop_correlated.pickle', 'wb') as f:\n",
    "    # Pickle the 'data' dictionary using the highest protocol available.\n",
    "    pickle.dump(to_drop_notwithtarget, f, pickle.HIGHEST_PROTOCOL)"
   ]
  },
  {
   "cell_type": "code",
   "execution_count": 35,
   "metadata": {
    "collapsed": true
   },
   "outputs": [],
   "source": [
    "df_zerofiltered.drop(to_drop_notwithtarget,axis=1,inplace=True)"
   ]
  },
  {
   "cell_type": "code",
   "execution_count": 38,
   "metadata": {
    "scrolled": true
   },
   "outputs": [
    {
     "data": {
      "text/plain": [
       "['proximal',\n",
       " 'weak_hbond',\n",
       " 'polar',\n",
       " 'solvation_polar_change',\n",
       " 'solvation_hydrophobic_change',\n",
       " 'interface_residues_vdw_clashing_change',\n",
       " 'sidechain_hbond_wt',\n",
       " 'van_der_waals_wt',\n",
       " 'solvation_polar_wt',\n",
       " 'interface_residues_wt',\n",
       " 'interface_residues_vdw_clashing_wt',\n",
       " 'if_phob']"
      ]
     },
     "execution_count": 38,
     "metadata": {},
     "output_type": "execute_result"
    }
   ],
   "source": [
    "to_drop_notwithtarget"
   ]
  },
  {
   "cell_type": "code",
   "execution_count": 58,
   "metadata": {
    "collapsed": true,
    "scrolled": true
   },
   "outputs": [],
   "source": [
    "df_zerofiltered.to_csv(\"../data/DF_contact400_energy_sasa.FcorrZero.csv\",index=True)"
   ]
  },
  {
   "cell_type": "code",
   "execution_count": 64,
   "metadata": {
    "collapsed": true
   },
   "outputs": [],
   "source": [
    "minmax = MinMaxScaler().fit(df_zerofiltered.drop('ddG_exp',axis=1))\n",
    "Xminmax = minmax.transform(df_zerofiltered.drop('ddG_exp',axis=1))"
   ]
  },
  {
   "cell_type": "code",
   "execution_count": 13,
   "metadata": {
    "scrolled": true
   },
   "outputs": [
    {
     "ename": "NameError",
     "evalue": "name 'Xminmax' is not defined",
     "output_type": "error",
     "traceback": [
      "\u001b[0;31m---------------------------------------------------------------------------\u001b[0m",
      "\u001b[0;31mNameError\u001b[0m                                 Traceback (most recent call last)",
      "\u001b[0;32m<ipython-input-13-47ae1f70d060>\u001b[0m in \u001b[0;36m<module>\u001b[0;34m()\u001b[0m\n\u001b[0;32m----> 1\u001b[0;31m \u001b[0mdf_zerofiltered\u001b[0m\u001b[0;34m.\u001b[0m\u001b[0mloc\u001b[0m\u001b[0;34m[\u001b[0m\u001b[0;34m:\u001b[0m\u001b[0;34m,\u001b[0m\u001b[0;34m~\u001b[0m\u001b[0;34m(\u001b[0m\u001b[0mXminmax\u001b[0m\u001b[0;34m.\u001b[0m\u001b[0mvar\u001b[0m\u001b[0;34m(\u001b[0m\u001b[0maxis\u001b[0m\u001b[0;34m=\u001b[0m\u001b[0;36m0\u001b[0m\u001b[0;34m)\u001b[0m \u001b[0;34m<\u001b[0m \u001b[0;36m0.002\u001b[0m\u001b[0;34m)\u001b[0m\u001b[0;34m]\u001b[0m\u001b[0;34m\u001b[0m\u001b[0;34m\u001b[0m\u001b[0m\n\u001b[0m",
      "\u001b[0;31mNameError\u001b[0m: name 'Xminmax' is not defined"
     ]
    }
   ],
   "source": [
    "df_zerofiltered.loc[:,~(Xminmax.var(axis=0) < 0.002)]"
   ]
  },
  {
   "cell_type": "code",
   "execution_count": 105,
   "metadata": {
    "scrolled": true
   },
   "outputs": [
    {
     "data": {
      "text/plain": [
       "1AK4.mut.0_Repair.clean.pdb         2.384\n",
       "1AK4.mut.1_Repair.clean.pdb         2.384\n",
       "1AK4.mut.2_Repair.clean.pdb         2.384\n",
       "1AK4.mut.3_Repair.clean.pdb         2.384\n",
       "1AK4.mut.4_Repair.clean.pdb         2.384\n",
       "1AK4.mut.5_Repair.clean.pdb         2.384\n",
       "1AK4.mut.6_Repair.clean.pdb         2.384\n",
       "1AK4.mut.7_Repair.clean.pdb         2.384\n",
       "1AK4.mut.8_Repair.clean.pdb         2.384\n",
       "1AK4.mut.9_Repair.clean.pdb         2.384\n",
       "1AK4.mut.10_Repair.clean.pdb        2.384\n",
       "1AK4.mut.11_Repair.clean.pdb        2.384\n",
       "1AK4.mut.12_Repair.clean.pdb        2.384\n",
       "1AK4.mut.13_Repair.clean.pdb        2.384\n",
       "1AK4.mut.14_Repair.clean.pdb        2.384\n",
       "1AK4.mut.15_Repair.clean.pdb        2.384\n",
       "1BJ1.mut.16_Repair.clean.pdb        2.384\n",
       "1BJ1.mut.17_Repair.clean.pdb        2.384\n",
       "1BJ1.mut.18_Repair.clean.pdb        2.384\n",
       "1BJ1.mut.19_Repair.clean.pdb        2.384\n",
       "1BJ1.mut.20_Repair.clean.pdb        2.384\n",
       "1BJ1.mut.21_Repair.clean.pdb        2.384\n",
       "1BJ1.mut.22_Repair.clean.pdb        2.384\n",
       "1BJ1.mut.23_Repair.clean.pdb        2.384\n",
       "1BJ1.mut.24_Repair.clean.pdb        2.384\n",
       "1BJ1.mut.25_Repair.clean.pdb        2.384\n",
       "1BJ1.mut.26_Repair.clean.pdb        2.384\n",
       "1BJ1.mut.27_Repair.clean.pdb        2.384\n",
       "1BJ1.mut.28_Repair.clean.pdb        2.384\n",
       "1BJ1.mut.29_Repair.clean.pdb        2.384\n",
       "                                    ...  \n",
       "HM_2NYY.mut.615_Repair.clean.pdb    2.384\n",
       "HM_2NYY.mut.616_Repair.clean.pdb    2.384\n",
       "HM_2NYY.mut.617_Repair.clean.pdb    2.384\n",
       "HM_2NYY.mut.618_Repair.clean.pdb    2.384\n",
       "HM_2NYY.mut.619_Repair.clean.pdb    2.384\n",
       "HM_2NYY.mut.620_Repair.clean.pdb    2.384\n",
       "HM_2NZ9.mut.621_Repair.clean.pdb    2.384\n",
       "HM_2NZ9.mut.622_Repair.clean.pdb    2.384\n",
       "HM_2NZ9.mut.623_Repair.clean.pdb    2.384\n",
       "HM_2NZ9.mut.624_Repair.clean.pdb    2.384\n",
       "HM_2NZ9.mut.625_Repair.clean.pdb    2.384\n",
       "HM_2NZ9.mut.626_Repair.clean.pdb    2.384\n",
       "HM_2NZ9.mut.627_Repair.clean.pdb    2.384\n",
       "HM_2NZ9.mut.628_Repair.clean.pdb    2.384\n",
       "HM_2NZ9.mut.629_Repair.clean.pdb    2.384\n",
       "HM_2NZ9.mut.630_Repair.clean.pdb    2.384\n",
       "HM_2NZ9.mut.631_Repair.clean.pdb    2.384\n",
       "HM_2NZ9.mut.632_Repair.clean.pdb    2.384\n",
       "HM_2NZ9.mut.633_Repair.clean.pdb    2.384\n",
       "HM_2NZ9.mut.634_Repair.clean.pdb    2.384\n",
       "HM_2NZ9.mut.635_Repair.clean.pdb    2.384\n",
       "HM_2NZ9.mut.636_Repair.clean.pdb    2.384\n",
       "HM_3BN9.mut.637_Repair.clean.pdb    2.384\n",
       "HM_3BN9.mut.638_Repair.clean.pdb    2.384\n",
       "HM_3BN9.mut.639_Repair.clean.pdb    2.384\n",
       "HM_3BN9.mut.640_Repair.clean.pdb    2.384\n",
       "HM_3BN9.mut.641_Repair.clean.pdb    2.384\n",
       "HM_3BN9.mut.642_Repair.clean.pdb    2.384\n",
       "HM_3BN9.mut.643_Repair.clean.pdb    2.384\n",
       "HM_3BN9.mut.644_Repair.clean.pdb    2.384\n",
       "Name: entropy_complex_wt, Length: 645, dtype: float64"
      ]
     },
     "execution_count": 105,
     "metadata": {},
     "output_type": "execute_result"
    }
   ],
   "source": [
    "df_zerofiltered['entropy_complex_wt']"
   ]
  },
  {
   "cell_type": "code",
   "execution_count": 59,
   "metadata": {},
   "outputs": [
    {
     "data": {
      "text/plain": [
       "<matplotlib.image.AxesImage at 0x1a24060898>"
      ]
     },
     "execution_count": 59,
     "metadata": {},
     "output_type": "execute_result"
    },
    {
     "data": {
      "image/png": "[encoded data removed]",
      "text/plain": [
       "<Figure size 432x288 with 1 Axes>"
      ]
     },
     "metadata": {},
     "output_type": "display_data"
    }
   ],
   "source": [
    "plt.spy(df_zerofiltered.values,aspect='auto')"
   ]
  },
  {
   "cell_type": "code",
   "execution_count": null,
   "metadata": {},
   "outputs": [
    {
     "ename": "KeyboardInterrupt",
     "evalue": "",
     "output_type": "error",
     "traceback": [
      "\u001b[0;31m---------------------------------------------------------------------------\u001b[0m",
      "\u001b[0;31mKeyboardInterrupt\u001b[0m                         Traceback (most recent call last)",
      "\u001b[0;32m<ipython-input-148-d8e9319a2902>\u001b[0m in \u001b[0;36m<module>\u001b[0;34m()\u001b[0m\n\u001b[0;32m----> 1\u001b[0;31m \u001b[0msns\u001b[0m\u001b[0;34m.\u001b[0m\u001b[0mpairplot\u001b[0m\u001b[0;34m(\u001b[0m\u001b[0mdf_zerofiltered\u001b[0m\u001b[0;34m.\u001b[0m\u001b[0mdrop\u001b[0m\u001b[0;34m(\u001b[0m\u001b[0;34m'ddG_exp'\u001b[0m\u001b[0;34m,\u001b[0m\u001b[0maxis\u001b[0m\u001b[0;34m=\u001b[0m\u001b[0;36m1\u001b[0m\u001b[0;34m)\u001b[0m\u001b[0;34m)\u001b[0m\u001b[0;34m\u001b[0m\u001b[0;34m\u001b[0m\u001b[0m\n\u001b[0m",
      "\u001b[0;32m~/miniconda3/envs/bio/lib/python3.6/site-packages/seaborn/axisgrid.py\u001b[0m in \u001b[0;36mpairplot\u001b[0;34m(data, hue, hue_order, palette, vars, x_vars, y_vars, kind, diag_kind, markers, height, aspect, dropna, plot_kws, diag_kws, grid_kws, size)\u001b[0m\n\u001b[1;32m   2082\u001b[0m                     \u001b[0mhue_order\u001b[0m\u001b[0;34m=\u001b[0m\u001b[0mhue_order\u001b[0m\u001b[0;34m,\u001b[0m \u001b[0mpalette\u001b[0m\u001b[0;34m=\u001b[0m\u001b[0mpalette\u001b[0m\u001b[0;34m,\u001b[0m\u001b[0;34m\u001b[0m\u001b[0;34m\u001b[0m\u001b[0m\n\u001b[1;32m   2083\u001b[0m                     \u001b[0mdiag_sharey\u001b[0m\u001b[0;34m=\u001b[0m\u001b[0mdiag_sharey\u001b[0m\u001b[0;34m,\u001b[0m\u001b[0;34m\u001b[0m\u001b[0;34m\u001b[0m\u001b[0m\n\u001b[0;32m-> 2084\u001b[0;31m                     height=height, aspect=aspect, dropna=dropna, **grid_kws)\n\u001b[0m\u001b[1;32m   2085\u001b[0m \u001b[0;34m\u001b[0m\u001b[0m\n\u001b[1;32m   2086\u001b[0m     \u001b[0;31m# Add the markers here as PairGrid has figured out how many levels of the\u001b[0m\u001b[0;34m\u001b[0m\u001b[0;34m\u001b[0m\u001b[0;34m\u001b[0m\u001b[0m\n",
      "\u001b[0;32m~/miniconda3/envs/bio/lib/python3.6/site-packages/seaborn/axisgrid.py\u001b[0m in \u001b[0;36m__init__\u001b[0;34m(self, data, hue, hue_order, palette, hue_kws, vars, x_vars, y_vars, diag_sharey, height, aspect, despine, dropna, size)\u001b[0m\n\u001b[1;32m   1268\u001b[0m                                  \u001b[0mfigsize\u001b[0m\u001b[0;34m=\u001b[0m\u001b[0mfigsize\u001b[0m\u001b[0;34m,\u001b[0m\u001b[0;34m\u001b[0m\u001b[0;34m\u001b[0m\u001b[0m\n\u001b[1;32m   1269\u001b[0m                                  \u001b[0msharex\u001b[0m\u001b[0;34m=\u001b[0m\u001b[0;34m\"col\"\u001b[0m\u001b[0;34m,\u001b[0m \u001b[0msharey\u001b[0m\u001b[0;34m=\u001b[0m\u001b[0;34m\"row\"\u001b[0m\u001b[0;34m,\u001b[0m\u001b[0;34m\u001b[0m\u001b[0;34m\u001b[0m\u001b[0m\n\u001b[0;32m-> 1270\u001b[0;31m                                  squeeze=False)\n\u001b[0m\u001b[1;32m   1271\u001b[0m \u001b[0;34m\u001b[0m\u001b[0m\n\u001b[1;32m   1272\u001b[0m         \u001b[0mself\u001b[0m\u001b[0;34m.\u001b[0m\u001b[0mfig\u001b[0m \u001b[0;34m=\u001b[0m \u001b[0mfig\u001b[0m\u001b[0;34m\u001b[0m\u001b[0;34m\u001b[0m\u001b[0m\n",
      "\u001b[0;32m~/miniconda3/envs/bio/lib/python3.6/site-packages/matplotlib/pyplot.py\u001b[0m in \u001b[0;36msubplots\u001b[0;34m(nrows, ncols, sharex, sharey, squeeze, subplot_kw, gridspec_kw, **fig_kw)\u001b[0m\n\u001b[1;32m   1218\u001b[0m     axs = fig.subplots(nrows=nrows, ncols=ncols, sharex=sharex, sharey=sharey,\n\u001b[1;32m   1219\u001b[0m                        \u001b[0msqueeze\u001b[0m\u001b[0;34m=\u001b[0m\u001b[0msqueeze\u001b[0m\u001b[0;34m,\u001b[0m \u001b[0msubplot_kw\u001b[0m\u001b[0;34m=\u001b[0m\u001b[0msubplot_kw\u001b[0m\u001b[0;34m,\u001b[0m\u001b[0;34m\u001b[0m\u001b[0;34m\u001b[0m\u001b[0m\n\u001b[0;32m-> 1220\u001b[0;31m                        gridspec_kw=gridspec_kw)\n\u001b[0m\u001b[1;32m   1221\u001b[0m     \u001b[0;32mreturn\u001b[0m \u001b[0mfig\u001b[0m\u001b[0;34m,\u001b[0m \u001b[0maxs\u001b[0m\u001b[0;34m\u001b[0m\u001b[0;34m\u001b[0m\u001b[0m\n\u001b[1;32m   1222\u001b[0m \u001b[0;34m\u001b[0m\u001b[0m\n",
      "\u001b[0;32m~/miniconda3/envs/bio/lib/python3.6/site-packages/matplotlib/figure.py\u001b[0m in \u001b[0;36msubplots\u001b[0;34m(self, nrows, ncols, sharex, sharey, squeeze, subplot_kw, gridspec_kw)\u001b[0m\n\u001b[1;32m   1527\u001b[0m                 \u001b[0msubplot_kw\u001b[0m\u001b[0;34m[\u001b[0m\u001b[0;34m\"sharex\"\u001b[0m\u001b[0;34m]\u001b[0m \u001b[0;34m=\u001b[0m \u001b[0mshared_with\u001b[0m\u001b[0;34m[\u001b[0m\u001b[0msharex\u001b[0m\u001b[0;34m]\u001b[0m\u001b[0;34m\u001b[0m\u001b[0;34m\u001b[0m\u001b[0m\n\u001b[1;32m   1528\u001b[0m                 \u001b[0msubplot_kw\u001b[0m\u001b[0;34m[\u001b[0m\u001b[0;34m\"sharey\"\u001b[0m\u001b[0;34m]\u001b[0m \u001b[0;34m=\u001b[0m \u001b[0mshared_with\u001b[0m\u001b[0;34m[\u001b[0m\u001b[0msharey\u001b[0m\u001b[0;34m]\u001b[0m\u001b[0;34m\u001b[0m\u001b[0;34m\u001b[0m\u001b[0m\n\u001b[0;32m-> 1529\u001b[0;31m                 \u001b[0maxarr\u001b[0m\u001b[0;34m[\u001b[0m\u001b[0mrow\u001b[0m\u001b[0;34m,\u001b[0m \u001b[0mcol\u001b[0m\u001b[0;34m]\u001b[0m \u001b[0;34m=\u001b[0m \u001b[0mself\u001b[0m\u001b[0;34m.\u001b[0m\u001b[0madd_subplot\u001b[0m\u001b[0;34m(\u001b[0m\u001b[0mgs\u001b[0m\u001b[0;34m[\u001b[0m\u001b[0mrow\u001b[0m\u001b[0;34m,\u001b[0m \u001b[0mcol\u001b[0m\u001b[0;34m]\u001b[0m\u001b[0;34m,\u001b[0m \u001b[0;34m**\u001b[0m\u001b[0msubplot_kw\u001b[0m\u001b[0;34m)\u001b[0m\u001b[0;34m\u001b[0m\u001b[0;34m\u001b[0m\u001b[0m\n\u001b[0m\u001b[1;32m   1530\u001b[0m \u001b[0;34m\u001b[0m\u001b[0m\n\u001b[1;32m   1531\u001b[0m         \u001b[0;31m# turn off redundant tick labeling\u001b[0m\u001b[0;34m\u001b[0m\u001b[0;34m\u001b[0m\u001b[0;34m\u001b[0m\u001b[0m\n",
      "\u001b[0;32m~/miniconda3/envs/bio/lib/python3.6/site-packages/matplotlib/figure.py\u001b[0m in \u001b[0;36madd_subplot\u001b[0;34m(self, *args, **kwargs)\u001b[0m\n\u001b[1;32m   1367\u001b[0m             \u001b[0ma\u001b[0m \u001b[0;34m=\u001b[0m \u001b[0msubplot_class_factory\u001b[0m\u001b[0;34m(\u001b[0m\u001b[0mprojection_class\u001b[0m\u001b[0;34m)\u001b[0m\u001b[0;34m(\u001b[0m\u001b[0mself\u001b[0m\u001b[0;34m,\u001b[0m \u001b[0;34m*\u001b[0m\u001b[0margs\u001b[0m\u001b[0;34m,\u001b[0m \u001b[0;34m**\u001b[0m\u001b[0mkwargs\u001b[0m\u001b[0;34m)\u001b[0m\u001b[0;34m\u001b[0m\u001b[0;34m\u001b[0m\u001b[0m\n\u001b[1;32m   1368\u001b[0m         \u001b[0mself\u001b[0m\u001b[0;34m.\u001b[0m\u001b[0m_axstack\u001b[0m\u001b[0;34m.\u001b[0m\u001b[0madd\u001b[0m\u001b[0;34m(\u001b[0m\u001b[0mkey\u001b[0m\u001b[0;34m,\u001b[0m \u001b[0ma\u001b[0m\u001b[0;34m)\u001b[0m\u001b[0;34m\u001b[0m\u001b[0;34m\u001b[0m\u001b[0m\n\u001b[0;32m-> 1369\u001b[0;31m         \u001b[0mself\u001b[0m\u001b[0;34m.\u001b[0m\u001b[0msca\u001b[0m\u001b[0;34m(\u001b[0m\u001b[0ma\u001b[0m\u001b[0;34m)\u001b[0m\u001b[0;34m\u001b[0m\u001b[0;34m\u001b[0m\u001b[0m\n\u001b[0m\u001b[1;32m   1370\u001b[0m         \u001b[0ma\u001b[0m\u001b[0;34m.\u001b[0m\u001b[0m_remove_method\u001b[0m \u001b[0;34m=\u001b[0m \u001b[0mself\u001b[0m\u001b[0;34m.\u001b[0m\u001b[0m_remove_ax\u001b[0m\u001b[0;34m\u001b[0m\u001b[0;34m\u001b[0m\u001b[0m\n\u001b[1;32m   1371\u001b[0m         \u001b[0mself\u001b[0m\u001b[0;34m.\u001b[0m\u001b[0mstale\u001b[0m \u001b[0;34m=\u001b[0m \u001b[0;32mTrue\u001b[0m\u001b[0;34m\u001b[0m\u001b[0;34m\u001b[0m\u001b[0m\n",
      "\u001b[0;32m~/miniconda3/envs/bio/lib/python3.6/site-packages/matplotlib/figure.py\u001b[0m in \u001b[0;36msca\u001b[0;34m(self, a)\u001b[0m\n\u001b[1;32m   1865\u001b[0m     \u001b[0;32mdef\u001b[0m \u001b[0msca\u001b[0m\u001b[0;34m(\u001b[0m\u001b[0mself\u001b[0m\u001b[0;34m,\u001b[0m \u001b[0ma\u001b[0m\u001b[0;34m)\u001b[0m\u001b[0;34m:\u001b[0m\u001b[0;34m\u001b[0m\u001b[0;34m\u001b[0m\u001b[0m\n\u001b[1;32m   1866\u001b[0m         \u001b[0;34m\"\"\"Set the current axes to be a and return a.\"\"\"\u001b[0m\u001b[0;34m\u001b[0m\u001b[0;34m\u001b[0m\u001b[0m\n\u001b[0;32m-> 1867\u001b[0;31m         \u001b[0mself\u001b[0m\u001b[0;34m.\u001b[0m\u001b[0m_axstack\u001b[0m\u001b[0;34m.\u001b[0m\u001b[0mbubble\u001b[0m\u001b[0;34m(\u001b[0m\u001b[0ma\u001b[0m\u001b[0;34m)\u001b[0m\u001b[0;34m\u001b[0m\u001b[0;34m\u001b[0m\u001b[0m\n\u001b[0m\u001b[1;32m   1868\u001b[0m         \u001b[0;32mfor\u001b[0m \u001b[0mfunc\u001b[0m \u001b[0;32min\u001b[0m \u001b[0mself\u001b[0m\u001b[0;34m.\u001b[0m\u001b[0m_axobservers\u001b[0m\u001b[0;34m:\u001b[0m\u001b[0;34m\u001b[0m\u001b[0;34m\u001b[0m\u001b[0m\n\u001b[1;32m   1869\u001b[0m             \u001b[0mfunc\u001b[0m\u001b[0;34m(\u001b[0m\u001b[0mself\u001b[0m\u001b[0;34m)\u001b[0m\u001b[0;34m\u001b[0m\u001b[0;34m\u001b[0m\u001b[0m\n",
      "\u001b[0;32m~/miniconda3/envs/bio/lib/python3.6/site-packages/matplotlib/figure.py\u001b[0m in \u001b[0;36mbubble\u001b[0;34m(self, a)\u001b[0m\n\u001b[1;32m    116\u001b[0m         \u001b[0mstack\u001b[0m\u001b[0;34m,\u001b[0m \u001b[0mto\u001b[0m \u001b[0mthe\u001b[0m \u001b[0mtop\u001b[0m\u001b[0;34m.\u001b[0m\u001b[0;34m\u001b[0m\u001b[0;34m\u001b[0m\u001b[0m\n\u001b[1;32m    117\u001b[0m         \"\"\"\n\u001b[0;32m--> 118\u001b[0;31m         \u001b[0;32mreturn\u001b[0m \u001b[0mStack\u001b[0m\u001b[0;34m.\u001b[0m\u001b[0mbubble\u001b[0m\u001b[0;34m(\u001b[0m\u001b[0mself\u001b[0m\u001b[0;34m,\u001b[0m \u001b[0mself\u001b[0m\u001b[0;34m.\u001b[0m\u001b[0m_entry_from_axes\u001b[0m\u001b[0;34m(\u001b[0m\u001b[0ma\u001b[0m\u001b[0;34m)\u001b[0m\u001b[0;34m)\u001b[0m\u001b[0;34m\u001b[0m\u001b[0;34m\u001b[0m\u001b[0m\n\u001b[0m\u001b[1;32m    119\u001b[0m \u001b[0;34m\u001b[0m\u001b[0m\n\u001b[1;32m    120\u001b[0m     \u001b[0;32mdef\u001b[0m \u001b[0madd\u001b[0m\u001b[0;34m(\u001b[0m\u001b[0mself\u001b[0m\u001b[0;34m,\u001b[0m \u001b[0mkey\u001b[0m\u001b[0;34m,\u001b[0m \u001b[0ma\u001b[0m\u001b[0;34m)\u001b[0m\u001b[0;34m:\u001b[0m\u001b[0;34m\u001b[0m\u001b[0;34m\u001b[0m\u001b[0m\n",
      "\u001b[0;32m~/miniconda3/envs/bio/lib/python3.6/site-packages/matplotlib/cbook/__init__.py\u001b[0m in \u001b[0;36mbubble\u001b[0;34m(self, o)\u001b[0m\n\u001b[1;32m    707\u001b[0m                 \u001b[0mbubbles\u001b[0m\u001b[0;34m.\u001b[0m\u001b[0mappend\u001b[0m\u001b[0;34m(\u001b[0m\u001b[0mthiso\u001b[0m\u001b[0;34m)\u001b[0m\u001b[0;34m\u001b[0m\u001b[0;34m\u001b[0m\u001b[0m\n\u001b[1;32m    708\u001b[0m             \u001b[0;32melse\u001b[0m\u001b[0;34m:\u001b[0m\u001b[0;34m\u001b[0m\u001b[0;34m\u001b[0m\u001b[0m\n\u001b[0;32m--> 709\u001b[0;31m                 \u001b[0mself\u001b[0m\u001b[0;34m.\u001b[0m\u001b[0mpush\u001b[0m\u001b[0;34m(\u001b[0m\u001b[0mthiso\u001b[0m\u001b[0;34m)\u001b[0m\u001b[0;34m\u001b[0m\u001b[0;34m\u001b[0m\u001b[0m\n\u001b[0m\u001b[1;32m    710\u001b[0m         \u001b[0;32mfor\u001b[0m \u001b[0mthiso\u001b[0m \u001b[0;32min\u001b[0m \u001b[0mbubbles\u001b[0m\u001b[0;34m:\u001b[0m\u001b[0;34m\u001b[0m\u001b[0;34m\u001b[0m\u001b[0m\n\u001b[1;32m    711\u001b[0m             \u001b[0mself\u001b[0m\u001b[0;34m.\u001b[0m\u001b[0mpush\u001b[0m\u001b[0;34m(\u001b[0m\u001b[0mo\u001b[0m\u001b[0;34m)\u001b[0m\u001b[0;34m\u001b[0m\u001b[0;34m\u001b[0m\u001b[0m\n",
      "\u001b[0;32m~/miniconda3/envs/bio/lib/python3.6/site-packages/matplotlib/cbook/__init__.py\u001b[0m in \u001b[0;36mpush\u001b[0;34m(self, o)\u001b[0m\n\u001b[1;32m    668\u001b[0m         \u001b[0;34m*\u001b[0m\u001b[0mo\u001b[0m\u001b[0;34m*\u001b[0m \u001b[0;32mis\u001b[0m \u001b[0mreturned\u001b[0m\u001b[0;34m.\u001b[0m\u001b[0;34m\u001b[0m\u001b[0;34m\u001b[0m\u001b[0m\n\u001b[1;32m    669\u001b[0m         \"\"\"\n\u001b[0;32m--> 670\u001b[0;31m         \u001b[0mself\u001b[0m\u001b[0;34m.\u001b[0m\u001b[0m_elements\u001b[0m \u001b[0;34m=\u001b[0m \u001b[0mself\u001b[0m\u001b[0;34m.\u001b[0m\u001b[0m_elements\u001b[0m\u001b[0;34m[\u001b[0m\u001b[0;34m:\u001b[0m\u001b[0mself\u001b[0m\u001b[0;34m.\u001b[0m\u001b[0m_pos\u001b[0m \u001b[0;34m+\u001b[0m \u001b[0;36m1\u001b[0m\u001b[0;34m]\u001b[0m \u001b[0;34m+\u001b[0m \u001b[0;34m[\u001b[0m\u001b[0mo\u001b[0m\u001b[0;34m]\u001b[0m\u001b[0;34m\u001b[0m\u001b[0;34m\u001b[0m\u001b[0m\n\u001b[0m\u001b[1;32m    671\u001b[0m         \u001b[0mself\u001b[0m\u001b[0;34m.\u001b[0m\u001b[0m_pos\u001b[0m \u001b[0;34m=\u001b[0m \u001b[0mlen\u001b[0m\u001b[0;34m(\u001b[0m\u001b[0mself\u001b[0m\u001b[0;34m.\u001b[0m\u001b[0m_elements\u001b[0m\u001b[0;34m)\u001b[0m \u001b[0;34m-\u001b[0m \u001b[0;36m1\u001b[0m\u001b[0;34m\u001b[0m\u001b[0;34m\u001b[0m\u001b[0m\n\u001b[1;32m    672\u001b[0m         \u001b[0;32mreturn\u001b[0m \u001b[0mself\u001b[0m\u001b[0;34m(\u001b[0m\u001b[0;34m)\u001b[0m\u001b[0;34m\u001b[0m\u001b[0;34m\u001b[0m\u001b[0m\n",
      "\u001b[0;31mKeyboardInterrupt\u001b[0m: "
     ]
    }
   ],
   "source": [
    "sns.pairplot(df_zerofiltered.drop('ddG_exp',axis=1))"
   ]
  }
 ],
 "metadata": {
  "kernelspec": {
   "display_name": "Python 3",
   "language": "python",
   "name": "python3"
  },
  "language_info": {
   "codemirror_mode": {
    "name": "ipython",
    "version": 3
   },
   "file_extension": ".py",
   "mimetype": "text/x-python",
   "name": "python",
   "nbconvert_exporter": "python",
   "pygments_lexer": "ipython3",
   "version": "3.6.6"
  }
 },
 "nbformat": 4,
 "nbformat_minor": 2
}
