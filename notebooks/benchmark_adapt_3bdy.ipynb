{
 "cells": [
  {
   "cell_type": "code",
   "execution_count": 1,
   "metadata": {},
   "outputs": [
    {
     "name": "stdout",
     "output_type": "stream",
     "text": [
      "/mnt/d/Python_projects/AbPred/AbPred/../libs/arpeggio\n"
     ]
    }
   ],
   "source": [
    "import pandas as pd\n",
    "import numpy as np\n",
    "import os\n",
    "import prody\n",
    "import math\n",
    "\n",
    "from pathlib import Path\n",
    "import pickle\n",
    "import sys\n",
    "from sklearn.externals import joblib\n",
    "from sklearn.metrics import r2_score,mean_squared_error, mean_absolute_error\n",
    "\n",
    "# ABPRED_DIR = Path.cwd().parent\n",
    "# if ABPRED_DIR not in sys.path:\n",
    "#     sys.path.append(str(ABPRED_DIR))\n",
    "    \n",
    "from AbPred.interface_contacts import InterfaceContacts\n",
    "from AbPred.features_ic import ArpeggioFeatures\n",
    "\n",
    "import seaborn as sns\n",
    "%matplotlib inline\n"
   ]
  },
  {
   "cell_type": "code",
   "execution_count": 2,
   "metadata": {},
   "outputs": [],
   "source": [
    "# Test data\n",
    "adapt_final = pd.read_csv('../data/ADAPT_3bdy_Test15.csv',index_col=0)"
   ]
  },
  {
   "cell_type": "code",
   "execution_count": 3,
   "metadata": {},
   "outputs": [],
   "source": [
    "from sklearn.base import BaseEstimator, TransformerMixin\n",
    "\n",
    "class FeaturesInteractions(BaseEstimator, TransformerMixin):\n",
    "    \n",
    "    #Class constructor method that takes ..\n",
    "    def __init__(self, interaction1, interaction2 ):\n",
    "        self.interaction1 = interaction1\n",
    "        self.interaction2 = interaction2\n",
    "        \n",
    "    #Return self nothing else to do here\n",
    "    def fit( self, X, y = None  ):\n",
    "        \n",
    "        return self\n",
    "    \n",
    "    def transform(self, X , y=None ):\n",
    "        \n",
    "        X_interactions = X.loc[:,self.interaction1].mul(X[self.interaction2],axis=0)\n",
    "        X_interactions.columns = X_interactions.columns.values+'/{}'.format(self.interaction2)\n",
    "        # set columns names\n",
    "        \n",
    "        X = X.join(X_interactions)\n",
    "        \n",
    "        return X\n",
    "    \n",
    "class SkewTransformer(BaseEstimator, TransformerMixin):\n",
    "    \n",
    "    def __init__(self, threshold=0.6, method='quantile'):\n",
    "        self.threshold = threshold\n",
    "        self.method = method\n",
    "        \n",
    "    #Return self nothing else to do here\n",
    "    def fit(self, X, y = None  ):\n",
    "        skewes_ = X.skew().sort_values(ascending=False)\n",
    "        self.skew_features = skewes_[skewes_.abs() > self.threshold]\n",
    "        \n",
    "        if self.method == 'quantile':\n",
    "            self.t = QuantileTransformer(output_distribution=\"normal\",random_state=13)\n",
    "            self.t.fit(X[self.skew_features.index])\n",
    "        \n",
    "        return self\n",
    "    \n",
    "    def transform(self, X, y=None):\n",
    "        \n",
    "        X[self.skew_features.index] = self.t.transform(X[self.skew_features.index])\n",
    "        \n",
    "        return X\n",
    "        \n",
    "class ZeroThreshold(BaseEstimator, TransformerMixin):\n",
    "    \n",
    "    def __init__(self, threshold=90.):\n",
    "        self.threshold = threshold\n",
    "    \n",
    "    \n",
    "    def fit(self, X, y = None  ):\n",
    "        \n",
    "        self.feature_names = X.columns\n",
    "        self.overfit = []\n",
    "        for i in X.columns:\n",
    "            counts = X[i].value_counts()\n",
    "            zeros = counts.iloc[0]\n",
    "            if zeros / len(X) * 100 >self.threshold:\n",
    "                self.overfit.append(i)\n",
    "        \n",
    "        return self\n",
    "    \n",
    "    def transform(self, X, y=None):\n",
    "        \n",
    "        X.drop(self.overfit,axis=1,inplace=True)\n",
    "        \n",
    "        return X\n"
   ]
  },
  {
   "cell_type": "code",
   "execution_count": 4,
   "metadata": {},
   "outputs": [],
   "source": [
    "# X and y data transformed to delta G\n",
    "X = adapt_final.drop([\"z-score\",\"ddG_exp\"],axis=1)"
   ]
  },
  {
   "cell_type": "code",
   "execution_count": 5,
   "metadata": {},
   "outputs": [
    {
     "data": {
      "text/plain": [
       "Index(['clash', 'covalent', 'vdw_clash', 'vdw', 'proximal', 'hbond',\n",
       "       'weak_hbond', 'xbond', 'ionic', 'metal_complex', 'aromatic',\n",
       "       'hydrophobic', 'carbonyl', 'polar', 'weak_polar',\n",
       "       'intraclashes_energy_1_change', 'intraclashes_energy_2_change',\n",
       "       'dg_change', 'backbone_hbond_change', 'sidechain_hbond_change',\n",
       "       'van_der_waals_change', 'electrostatics_change',\n",
       "       'solvation_polar_change', 'solvation_hydrophobic_change',\n",
       "       'van_der_waals_clashes_change', 'entropy_sidechain_change',\n",
       "       'entropy_mainchain_change', 'sloop_entropy_change',\n",
       "       'mloop_entropy_change', 'cis_bond_change', 'torsional_clash_change',\n",
       "       'backbone_clash_change', 'helix_dipole_change', 'water_bridge_change',\n",
       "       'disulfide_change', 'electrostatic_kon_change',\n",
       "       'partial_covalent_bonds_change', 'energy_ionisation_change',\n",
       "       'entropy_complex_change', 'interface_residues_change',\n",
       "       'interface_residues_clashing_change',\n",
       "       'interface_residues_vdw_clashing_change',\n",
       "       'interface_residues_bb_clashing_change', 'intraclashes_energy_1_mut',\n",
       "       'intraclashes_energy_2_mut', 'dg_mut', 'backbone_hbond_mut',\n",
       "       'sidechain_hbond_mut', 'van_der_waals_mut', 'electrostatics_mut',\n",
       "       'solvation_polar_mut', 'solvation_hydrophobic_mut',\n",
       "       'van_der_waals_clashes_mut', 'entropy_sidechain_mut',\n",
       "       'entropy_mainchain_mut', 'sloop_entropy_mut', 'mloop_entropy_mut',\n",
       "       'cis_bond_mut', 'torsional_clash_mut', 'backbone_clash_mut',\n",
       "       'helix_dipole_mut', 'water_bridge_mut', 'disulfide_mut',\n",
       "       'electrostatic_kon_mut', 'partial_covalent_bonds_mut',\n",
       "       'energy_ionisation_mut', 'entropy_complex_mut',\n",
       "       'interface_residues_mut', 'interface_residues_clashing_mut',\n",
       "       'interface_residues_vdw_clashing_mut',\n",
       "       'interface_residues_bb_clashing_mut', 'if_phil', 'if_phob', 'if_total',\n",
       "       'sasa_phil', 'sasa_phob', 'sasa_total'],\n",
       "      dtype='object')"
      ]
     },
     "execution_count": 5,
     "metadata": {},
     "output_type": "execute_result"
    }
   ],
   "source": [
    "X.columns"
   ]
  },
  {
   "cell_type": "code",
   "execution_count": 6,
   "metadata": {},
   "outputs": [],
   "source": [
    "#ridge_model = joblib.load('ridgeLinear_train15skempiAB_FINAL.pkl')\n",
    "lasso_model = joblib.load('Lasso_train15skempiAB_FINAL.pkl')\n",
    "elasticnet_model = joblib.load('elasticNet_train15skempiAB_FINAL.pkl')\n",
    "svr_model = joblib.load('rbfSVRmodel_train15skempiAB_FINAL.pkl')\n",
    "poly_model = joblib.load(\"poly2SVRmodel_train15skempiAB_FINAL.pkl\")\n",
    "#rf_model = joblib.load('RFmodel_train15skempiAB_FINAL.pkl')\n",
    "gbt_model = joblib.load('GBTmodel_train15skempiAB_FINAL.overf.pkl')\n",
    "#xgb_model = joblib.load('XGBmodel_train15skempiAB_FINAL.pkl')"
   ]
  },
  {
   "cell_type": "code",
   "execution_count": 7,
   "metadata": {},
   "outputs": [],
   "source": [
    "#ridge_pred = ridge_model.predict(X)\n",
    "lasso_pred = lasso_model.predict(X)\n",
    "elasticnet_pred = elasticnet_model.predict(X)\n",
    "svr_pred = svr_model.predict(X)\n",
    "poly_pred = poly_model.predict(X)\n",
    "#rf_pred = rf_model.predict(X)\n",
    "gbt_pred = gbt_model.predict(X)\n",
    "#xgb_pred = xgb_model.predict(X)"
   ]
  },
  {
   "cell_type": "code",
   "execution_count": 8,
   "metadata": {},
   "outputs": [],
   "source": [
    "pred_stack = np.hstack([adapt_final[[\"z-score\",\"ddG_exp\"]].values,\n",
    "                        lasso_pred.reshape((-1,1)),gbt_pred.reshape((-1,1)),svr_pred.reshape((-1,1)),poly_pred.reshape((-1,1))])\n",
    "pred_data = pd.DataFrame(pred_stack,columns=[\"z-score\",\"ddG_exp\",\"Lasso_pred\",\"gbt_pred\",\"svr_pred\",\"poly_pred\"],index=X.index)\n"
   ]
  },
  {
   "cell_type": "code",
   "execution_count": 9,
   "metadata": {},
   "outputs": [],
   "source": [
    "pred_data[\"mean-pred\"] = pred_data.loc[:,[\"Lasso_pred\",\"gbt_pred\",\"svr_pred\",\"poly_pred\"]].mean(axis=1)"
   ]
  },
  {
   "cell_type": "code",
   "execution_count": 10,
   "metadata": {},
   "outputs": [],
   "source": [
    "pred_data_notna = pred_data.dropna(axis=0)"
   ]
  },
  {
   "cell_type": "code",
   "execution_count": 11,
   "metadata": {},
   "outputs": [
    {
     "data": {
      "text/html": [
       "<div>\n",
       "<style scoped>\n",
       "    .dataframe tbody tr th:only-of-type {\n",
       "        vertical-align: middle;\n",
       "    }\n",
       "\n",
       "    .dataframe tbody tr th {\n",
       "        vertical-align: top;\n",
       "    }\n",
       "\n",
       "    .dataframe thead th {\n",
       "        text-align: right;\n",
       "    }\n",
       "</style>\n",
       "<table border=\"1\" class=\"dataframe\">\n",
       "  <thead>\n",
       "    <tr style=\"text-align: right;\">\n",
       "      <th></th>\n",
       "      <th>z-score</th>\n",
       "      <th>ddG_exp</th>\n",
       "      <th>Lasso_pred</th>\n",
       "      <th>gbt_pred</th>\n",
       "      <th>svr_pred</th>\n",
       "      <th>poly_pred</th>\n",
       "      <th>mean-pred</th>\n",
       "    </tr>\n",
       "  </thead>\n",
       "  <tbody>\n",
       "    <tr>\n",
       "      <th>3bdy.protein.H33M.Repair4.clean.pdb</th>\n",
       "      <td>-1.8</td>\n",
       "      <td>0.03</td>\n",
       "      <td>0.305526</td>\n",
       "      <td>0.554520</td>\n",
       "      <td>0.854456</td>\n",
       "      <td>1.387703</td>\n",
       "      <td>0.775551</td>\n",
       "    </tr>\n",
       "    <tr>\n",
       "      <th>3bdy.protein.H33W.Repair4.clean.pdb</th>\n",
       "      <td>-2.4</td>\n",
       "      <td>-0.09</td>\n",
       "      <td>-0.130321</td>\n",
       "      <td>0.240917</td>\n",
       "      <td>0.144476</td>\n",
       "      <td>0.463919</td>\n",
       "      <td>0.179748</td>\n",
       "    </tr>\n",
       "    <tr>\n",
       "      <th>3bdy.protein.H52R.Repair4.clean.pdb</th>\n",
       "      <td>-2.4</td>\n",
       "      <td>0.30</td>\n",
       "      <td>0.312260</td>\n",
       "      <td>0.044420</td>\n",
       "      <td>0.991662</td>\n",
       "      <td>1.398749</td>\n",
       "      <td>0.686773</td>\n",
       "    </tr>\n",
       "    <tr>\n",
       "      <th>3bdy.protein.H98F.Repair4.clean.pdb</th>\n",
       "      <td>-6.8</td>\n",
       "      <td>-1.18</td>\n",
       "      <td>0.113031</td>\n",
       "      <td>0.107277</td>\n",
       "      <td>-0.147059</td>\n",
       "      <td>0.340742</td>\n",
       "      <td>0.103498</td>\n",
       "    </tr>\n",
       "    <tr>\n",
       "      <th>3bdy.protein.H98H.Repair4.clean.pdb</th>\n",
       "      <td>-4.3</td>\n",
       "      <td>-0.62</td>\n",
       "      <td>0.000236</td>\n",
       "      <td>0.099844</td>\n",
       "      <td>-0.034090</td>\n",
       "      <td>0.411669</td>\n",
       "      <td>0.119415</td>\n",
       "    </tr>\n",
       "    <tr>\n",
       "      <th>3bdy.protein.H98K.Repair4.clean.pdb</th>\n",
       "      <td>-4.1</td>\n",
       "      <td>-0.63</td>\n",
       "      <td>0.138372</td>\n",
       "      <td>0.108436</td>\n",
       "      <td>0.068275</td>\n",
       "      <td>0.521700</td>\n",
       "      <td>0.209196</td>\n",
       "    </tr>\n",
       "    <tr>\n",
       "      <th>3bdy.protein.H98M.Repair4.clean.pdb</th>\n",
       "      <td>-6.5</td>\n",
       "      <td>-1.33</td>\n",
       "      <td>-0.181174</td>\n",
       "      <td>-0.234044</td>\n",
       "      <td>-0.472160</td>\n",
       "      <td>-0.067182</td>\n",
       "      <td>-0.238640</td>\n",
       "    </tr>\n",
       "    <tr>\n",
       "      <th>3bdy.protein.H98W.Repair4.clean.pdb</th>\n",
       "      <td>-8.5</td>\n",
       "      <td>-1.23</td>\n",
       "      <td>-0.479855</td>\n",
       "      <td>-0.699778</td>\n",
       "      <td>-1.141712</td>\n",
       "      <td>-0.794320</td>\n",
       "      <td>-0.778916</td>\n",
       "    </tr>\n",
       "    <tr>\n",
       "      <th>3bdy.protein.H98Y.Repair4.clean.pdb</th>\n",
       "      <td>-6.4</td>\n",
       "      <td>-0.76</td>\n",
       "      <td>-0.190341</td>\n",
       "      <td>0.119825</td>\n",
       "      <td>-0.812521</td>\n",
       "      <td>-0.533019</td>\n",
       "      <td>-0.354014</td>\n",
       "    </tr>\n",
       "    <tr>\n",
       "      <th>3bdy.protein.H99D.Repair4.clean.pdb</th>\n",
       "      <td>-1.6</td>\n",
       "      <td>-0.48</td>\n",
       "      <td>-0.078480</td>\n",
       "      <td>0.192432</td>\n",
       "      <td>0.057038</td>\n",
       "      <td>0.652414</td>\n",
       "      <td>0.205851</td>\n",
       "    </tr>\n",
       "    <tr>\n",
       "      <th>3bdy.protein.H99M.Repair4.clean.pdb</th>\n",
       "      <td>-2.3</td>\n",
       "      <td>-0.48</td>\n",
       "      <td>0.013972</td>\n",
       "      <td>0.474101</td>\n",
       "      <td>-0.144338</td>\n",
       "      <td>0.318988</td>\n",
       "      <td>0.165681</td>\n",
       "    </tr>\n",
       "    <tr>\n",
       "      <th>3bdy.protein.H99R.Repair4.clean.pdb</th>\n",
       "      <td>-7.6</td>\n",
       "      <td>-0.03</td>\n",
       "      <td>-0.070899</td>\n",
       "      <td>0.082293</td>\n",
       "      <td>-0.382283</td>\n",
       "      <td>0.255061</td>\n",
       "      <td>-0.028957</td>\n",
       "    </tr>\n",
       "  </tbody>\n",
       "</table>\n",
       "</div>"
      ],
      "text/plain": [
       "                                     z-score  ddG_exp  Lasso_pred  gbt_pred  \\\n",
       "3bdy.protein.H33M.Repair4.clean.pdb     -1.8     0.03    0.305526  0.554520   \n",
       "3bdy.protein.H33W.Repair4.clean.pdb     -2.4    -0.09   -0.130321  0.240917   \n",
       "3bdy.protein.H52R.Repair4.clean.pdb     -2.4     0.30    0.312260  0.044420   \n",
       "3bdy.protein.H98F.Repair4.clean.pdb     -6.8    -1.18    0.113031  0.107277   \n",
       "3bdy.protein.H98H.Repair4.clean.pdb     -4.3    -0.62    0.000236  0.099844   \n",
       "3bdy.protein.H98K.Repair4.clean.pdb     -4.1    -0.63    0.138372  0.108436   \n",
       "3bdy.protein.H98M.Repair4.clean.pdb     -6.5    -1.33   -0.181174 -0.234044   \n",
       "3bdy.protein.H98W.Repair4.clean.pdb     -8.5    -1.23   -0.479855 -0.699778   \n",
       "3bdy.protein.H98Y.Repair4.clean.pdb     -6.4    -0.76   -0.190341  0.119825   \n",
       "3bdy.protein.H99D.Repair4.clean.pdb     -1.6    -0.48   -0.078480  0.192432   \n",
       "3bdy.protein.H99M.Repair4.clean.pdb     -2.3    -0.48    0.013972  0.474101   \n",
       "3bdy.protein.H99R.Repair4.clean.pdb     -7.6    -0.03   -0.070899  0.082293   \n",
       "\n",
       "                                     svr_pred  poly_pred  mean-pred  \n",
       "3bdy.protein.H33M.Repair4.clean.pdb  0.854456   1.387703   0.775551  \n",
       "3bdy.protein.H33W.Repair4.clean.pdb  0.144476   0.463919   0.179748  \n",
       "3bdy.protein.H52R.Repair4.clean.pdb  0.991662   1.398749   0.686773  \n",
       "3bdy.protein.H98F.Repair4.clean.pdb -0.147059   0.340742   0.103498  \n",
       "3bdy.protein.H98H.Repair4.clean.pdb -0.034090   0.411669   0.119415  \n",
       "3bdy.protein.H98K.Repair4.clean.pdb  0.068275   0.521700   0.209196  \n",
       "3bdy.protein.H98M.Repair4.clean.pdb -0.472160  -0.067182  -0.238640  \n",
       "3bdy.protein.H98W.Repair4.clean.pdb -1.141712  -0.794320  -0.778916  \n",
       "3bdy.protein.H98Y.Repair4.clean.pdb -0.812521  -0.533019  -0.354014  \n",
       "3bdy.protein.H99D.Repair4.clean.pdb  0.057038   0.652414   0.205851  \n",
       "3bdy.protein.H99M.Repair4.clean.pdb -0.144338   0.318988   0.165681  \n",
       "3bdy.protein.H99R.Repair4.clean.pdb -0.382283   0.255061  -0.028957  "
      ]
     },
     "execution_count": 11,
     "metadata": {},
     "output_type": "execute_result"
    }
   ],
   "source": [
    "pred_data_notna"
   ]
  },
  {
   "cell_type": "code",
   "execution_count": 13,
   "metadata": {},
   "outputs": [
    {
     "data": {
      "text/plain": [
       "-0.9926080417404983"
      ]
     },
     "execution_count": 13,
     "metadata": {},
     "output_type": "execute_result"
    }
   ],
   "source": [
    "r2_score(pred_data_notna[\"ddG_exp\"],pred_data_notna[\"mean-pred\"])"
   ]
  },
  {
   "cell_type": "code",
   "execution_count": 19,
   "metadata": {},
   "outputs": [],
   "source": [
    "r2_score?"
   ]
  },
  {
   "cell_type": "code",
   "execution_count": 14,
   "metadata": {},
   "outputs": [
    {
     "data": {
      "text/plain": [
       "-0.9926080417404983"
      ]
     },
     "execution_count": 14,
     "metadata": {},
     "output_type": "execute_result"
    }
   ],
   "source": [
    "def r2(y_true, y_pred):\n",
    "    \"\"\"\n",
    "    Calculation of the unadjusted r-squared, goodness of fit metric\n",
    "    \"\"\"\n",
    "    sse  = np.square( y_pred - y_true ).sum()\n",
    "    sst  = np.square( y_true - y_true.mean() ).sum()\n",
    "    return 1 - sse/sst\n",
    "\n",
    "r2(pred_data_notna[\"ddG_exp\"],pred_data_notna[\"mean-pred\"])"
   ]
  },
  {
   "cell_type": "code",
   "execution_count": 17,
   "metadata": {},
   "outputs": [
    {
     "data": {
      "text/plain": [
       "0.7143305777673068"
      ]
     },
     "execution_count": 17,
     "metadata": {},
     "output_type": "execute_result"
    }
   ],
   "source": [
    "np.sqrt(mean_squared_error(pred_data_notna[\"ddG_exp\"].values,pred_data_notna[\"mean-pred\"].values))"
   ]
  },
  {
   "cell_type": "code",
   "execution_count": 16,
   "metadata": {},
   "outputs": [
    {
     "data": {
      "text/plain": [
       "0.6287653872028959"
      ]
     },
     "execution_count": 16,
     "metadata": {},
     "output_type": "execute_result"
    }
   ],
   "source": [
    "mean_absolute_error(pred_data_notna[\"ddG_exp\"].values,pred_data_notna[\"mean-pred\"].values)"
   ]
  },
  {
   "cell_type": "code",
   "execution_count": 16,
   "metadata": {},
   "outputs": [
    {
     "data": {
      "text/plain": [
       "<matplotlib.axes._subplots.AxesSubplot at 0x7fcbbc749128>"
      ]
     },
     "execution_count": 16,
     "metadata": {},
     "output_type": "execute_result"
    },
    {
     "data": {
      "image/png": "[encoded data removed]",
      "text/plain": [
       "<Figure size 432x288 with 1 Axes>"
      ]
     },
     "metadata": {
      "needs_background": "light"
     },
     "output_type": "display_data"
    }
   ],
   "source": [
    "sns.regplot(pred_data_notna[\"mean-pred\"],pred_data_notna[\"ddG_exp\"])"
   ]
  },
  {
   "cell_type": "code",
   "execution_count": 45,
   "metadata": {},
   "outputs": [
    {
     "data": {
      "text/plain": [
       "6.123218092000492"
      ]
     },
     "execution_count": 45,
     "metadata": {},
     "output_type": "execute_result"
    }
   ],
   "source": [
    "np.square( pred_data_notna[\"mean-pred\"] - pred_data_notna[\"ddG_exp\"] ).sum()"
   ]
  },
  {
   "cell_type": "code",
   "execution_count": 46,
   "metadata": {},
   "outputs": [
    {
     "data": {
      "text/plain": [
       "3.072966666666666"
      ]
     },
     "execution_count": 46,
     "metadata": {},
     "output_type": "execute_result"
    }
   ],
   "source": [
    "np.square( pred_data_notna[\"ddG_exp\"] - pred_data_notna[\"ddG_exp\"].mean() ).sum()"
   ]
  },
  {
   "cell_type": "code",
   "execution_count": 49,
   "metadata": {},
   "outputs": [
    {
     "data": {
      "text/plain": [
       "3bdy.protein.H33M.Repair4.clean.pdb    0.571667\n",
       "3bdy.protein.H33W.Repair4.clean.pdb    0.451667\n",
       "3bdy.protein.H52R.Repair4.clean.pdb    0.841667\n",
       "3bdy.protein.H98F.Repair4.clean.pdb   -0.638333\n",
       "3bdy.protein.H98H.Repair4.clean.pdb   -0.078333\n",
       "3bdy.protein.H98K.Repair4.clean.pdb   -0.088333\n",
       "3bdy.protein.H98M.Repair4.clean.pdb   -0.788333\n",
       "3bdy.protein.H98W.Repair4.clean.pdb   -0.688333\n",
       "3bdy.protein.H98Y.Repair4.clean.pdb   -0.218333\n",
       "3bdy.protein.H99D.Repair4.clean.pdb    0.061667\n",
       "3bdy.protein.H99M.Repair4.clean.pdb    0.061667\n",
       "3bdy.protein.H99R.Repair4.clean.pdb    0.511667\n",
       "Name: ddG_exp, dtype: float64"
      ]
     },
     "execution_count": 49,
     "metadata": {},
     "output_type": "execute_result"
    }
   ],
   "source": [
    "pred_data_notna[\"ddG_exp\"] - pred_data_notna[\"ddG_exp\"].mean()"
   ]
  },
  {
   "cell_type": "code",
   "execution_count": 48,
   "metadata": {},
   "outputs": [
    {
     "data": {
      "text/plain": [
       "3bdy.protein.H33M.Repair4.clean.pdb    0.745551\n",
       "3bdy.protein.H33W.Repair4.clean.pdb    0.269748\n",
       "3bdy.protein.H52R.Repair4.clean.pdb    0.386773\n",
       "3bdy.protein.H98F.Repair4.clean.pdb    1.283498\n",
       "3bdy.protein.H98H.Repair4.clean.pdb    0.739415\n",
       "3bdy.protein.H98K.Repair4.clean.pdb    0.839196\n",
       "3bdy.protein.H98M.Repair4.clean.pdb    1.091360\n",
       "3bdy.protein.H98W.Repair4.clean.pdb    0.451084\n",
       "3bdy.protein.H98Y.Repair4.clean.pdb    0.405986\n",
       "3bdy.protein.H99D.Repair4.clean.pdb    0.685851\n",
       "3bdy.protein.H99M.Repair4.clean.pdb    0.645681\n",
       "3bdy.protein.H99R.Repair4.clean.pdb    0.001043\n",
       "dtype: float64"
      ]
     },
     "execution_count": 48,
     "metadata": {},
     "output_type": "execute_result"
    }
   ],
   "source": [
    "pred_data_notna[\"mean-pred\"] - pred_data_notna[\"ddG_exp\"]"
   ]
  },
  {
   "cell_type": "code",
   "execution_count": 20,
   "metadata": {},
   "outputs": [],
   "source": [
    "mcsm_result = pd.read_table(\"../data/3bdy_mcsm_results.txt\")"
   ]
  },
  {
   "cell_type": "code",
   "execution_count": 21,
   "metadata": {},
   "outputs": [],
   "source": [
    "mcsm_result[\"mutant\"]= mcsm_result[\"CHAIN\"].astype(str)+mcsm_result[\"RES_POS\"].astype(str)+mcsm_result[\"MUT_RES\"].astype(str)"
   ]
  },
  {
   "cell_type": "code",
   "execution_count": 22,
   "metadata": {},
   "outputs": [],
   "source": [
    "mcsm_result = mcsm_result[[\"PRED_DDG\",\"mutant\"]]"
   ]
  },
  {
   "cell_type": "code",
   "execution_count": 23,
   "metadata": {},
   "outputs": [
    {
     "data": {
      "text/plain": [
       "0     H33M\n",
       "1     H33W\n",
       "2     H52R\n",
       "3     H98F\n",
       "4     H98H\n",
       "5     H98K\n",
       "6     H98M\n",
       "7     H98W\n",
       "8     H98Y\n",
       "9     H99D\n",
       "10    H99M\n",
       "11    H99R\n",
       "Name: 2, dtype: object"
      ]
     },
     "execution_count": 23,
     "metadata": {},
     "output_type": "execute_result"
    }
   ],
   "source": [
    "pred_data_notna.reset_index()[\"index\"].str.split(\".\",expand=True)[2]"
   ]
  },
  {
   "cell_type": "code",
   "execution_count": 27,
   "metadata": {},
   "outputs": [
    {
     "name": "stderr",
     "output_type": "stream",
     "text": [
      "/home/vilion/miniconda3/envs/bio/lib/python3.6/site-packages/ipykernel_launcher.py:1: SettingWithCopyWarning: \n",
      "A value is trying to be set on a copy of a slice from a DataFrame.\n",
      "Try using .loc[row_indexer,col_indexer] = value instead\n",
      "\n",
      "See the caveats in the documentation: http://pandas.pydata.org/pandas-docs/stable/indexing.html#indexing-view-versus-copy\n",
      "  \"\"\"Entry point for launching an IPython kernel.\n"
     ]
    }
   ],
   "source": [
    "pred_data_notna[\"mutant\"] = pred_data_notna.reset_index()[\"index\"].str.split(\".\",expand=True)[2].values"
   ]
  },
  {
   "cell_type": "code",
   "execution_count": 37,
   "metadata": {
    "scrolled": true
   },
   "outputs": [],
   "source": [
    "pred_data_final = pred_data_notna.merge(mcsm_result,on=\"mutant\")\n",
    "pred_data_final.set_index(\"mutant\",inplace=True)"
   ]
  },
  {
   "cell_type": "code",
   "execution_count": 34,
   "metadata": {},
   "outputs": [
    {
     "data": {
      "text/plain": [
       "-4.830391261430324"
      ]
     },
     "execution_count": 34,
     "metadata": {},
     "output_type": "execute_result"
    }
   ],
   "source": [
    "r2_score(pred_data_final[\"ddG_exp\"],pred_data_final[\"PRED_DDG\"])"
   ]
  },
  {
   "cell_type": "code",
   "execution_count": 35,
   "metadata": {},
   "outputs": [
    {
     "data": {
      "text/plain": [
       "1.221904183368456"
      ]
     },
     "execution_count": 35,
     "metadata": {},
     "output_type": "execute_result"
    }
   ],
   "source": [
    "np.sqrt(mean_squared_error(pred_data_final[\"ddG_exp\"],pred_data_final[\"PRED_DDG\"]))"
   ]
  },
  {
   "cell_type": "code",
   "execution_count": 43,
   "metadata": {},
   "outputs": [
    {
     "data": {
      "text/html": [
       "<div>\n",
       "<style scoped>\n",
       "    .dataframe tbody tr th:only-of-type {\n",
       "        vertical-align: middle;\n",
       "    }\n",
       "\n",
       "    .dataframe tbody tr th {\n",
       "        vertical-align: top;\n",
       "    }\n",
       "\n",
       "    .dataframe thead th {\n",
       "        text-align: right;\n",
       "    }\n",
       "</style>\n",
       "<table border=\"1\" class=\"dataframe\">\n",
       "  <thead>\n",
       "    <tr style=\"text-align: right;\">\n",
       "      <th></th>\n",
       "      <th>z-score</th>\n",
       "      <th>ddG_exp</th>\n",
       "      <th>Lasso_pred</th>\n",
       "      <th>gbt_pred</th>\n",
       "      <th>svr_pred</th>\n",
       "      <th>poly_pred</th>\n",
       "      <th>mean-pred</th>\n",
       "      <th>PRED_DDG</th>\n",
       "    </tr>\n",
       "  </thead>\n",
       "  <tbody>\n",
       "    <tr>\n",
       "      <th>z-score</th>\n",
       "      <td>1.000000</td>\n",
       "      <td>0.632829</td>\n",
       "      <td>0.599963</td>\n",
       "      <td>0.725922</td>\n",
       "      <td>0.789752</td>\n",
       "      <td>0.767015</td>\n",
       "      <td>0.796857</td>\n",
       "      <td>0.273251</td>\n",
       "    </tr>\n",
       "    <tr>\n",
       "      <th>ddG_exp</th>\n",
       "      <td>0.632829</td>\n",
       "      <td>1.000000</td>\n",
       "      <td>0.593768</td>\n",
       "      <td>0.590840</td>\n",
       "      <td>0.742423</td>\n",
       "      <td>0.743441</td>\n",
       "      <td>0.744191</td>\n",
       "      <td>0.304147</td>\n",
       "    </tr>\n",
       "    <tr>\n",
       "      <th>Lasso_pred</th>\n",
       "      <td>0.599963</td>\n",
       "      <td>0.593768</td>\n",
       "      <td>1.000000</td>\n",
       "      <td>0.691513</td>\n",
       "      <td>0.898484</td>\n",
       "      <td>0.904885</td>\n",
       "      <td>0.935401</td>\n",
       "      <td>-0.128070</td>\n",
       "    </tr>\n",
       "    <tr>\n",
       "      <th>gbt_pred</th>\n",
       "      <td>0.725922</td>\n",
       "      <td>0.590840</td>\n",
       "      <td>0.691513</td>\n",
       "      <td>1.000000</td>\n",
       "      <td>0.635781</td>\n",
       "      <td>0.653636</td>\n",
       "      <td>0.762217</td>\n",
       "      <td>0.322703</td>\n",
       "    </tr>\n",
       "    <tr>\n",
       "      <th>svr_pred</th>\n",
       "      <td>0.789752</td>\n",
       "      <td>0.742423</td>\n",
       "      <td>0.898484</td>\n",
       "      <td>0.635781</td>\n",
       "      <td>1.000000</td>\n",
       "      <td>0.987504</td>\n",
       "      <td>0.979628</td>\n",
       "      <td>-0.010538</td>\n",
       "    </tr>\n",
       "    <tr>\n",
       "      <th>poly_pred</th>\n",
       "      <td>0.767015</td>\n",
       "      <td>0.743441</td>\n",
       "      <td>0.904885</td>\n",
       "      <td>0.653636</td>\n",
       "      <td>0.987504</td>\n",
       "      <td>1.000000</td>\n",
       "      <td>0.984178</td>\n",
       "      <td>0.037263</td>\n",
       "    </tr>\n",
       "    <tr>\n",
       "      <th>mean-pred</th>\n",
       "      <td>0.796857</td>\n",
       "      <td>0.744191</td>\n",
       "      <td>0.935401</td>\n",
       "      <td>0.762217</td>\n",
       "      <td>0.979628</td>\n",
       "      <td>0.984178</td>\n",
       "      <td>1.000000</td>\n",
       "      <td>0.055056</td>\n",
       "    </tr>\n",
       "    <tr>\n",
       "      <th>PRED_DDG</th>\n",
       "      <td>0.273251</td>\n",
       "      <td>0.304147</td>\n",
       "      <td>-0.128070</td>\n",
       "      <td>0.322703</td>\n",
       "      <td>-0.010538</td>\n",
       "      <td>0.037263</td>\n",
       "      <td>0.055056</td>\n",
       "      <td>1.000000</td>\n",
       "    </tr>\n",
       "  </tbody>\n",
       "</table>\n",
       "</div>"
      ],
      "text/plain": [
       "             z-score   ddG_exp  Lasso_pred  gbt_pred  svr_pred  poly_pred  \\\n",
       "z-score     1.000000  0.632829    0.599963  0.725922  0.789752   0.767015   \n",
       "ddG_exp     0.632829  1.000000    0.593768  0.590840  0.742423   0.743441   \n",
       "Lasso_pred  0.599963  0.593768    1.000000  0.691513  0.898484   0.904885   \n",
       "gbt_pred    0.725922  0.590840    0.691513  1.000000  0.635781   0.653636   \n",
       "svr_pred    0.789752  0.742423    0.898484  0.635781  1.000000   0.987504   \n",
       "poly_pred   0.767015  0.743441    0.904885  0.653636  0.987504   1.000000   \n",
       "mean-pred   0.796857  0.744191    0.935401  0.762217  0.979628   0.984178   \n",
       "PRED_DDG    0.273251  0.304147   -0.128070  0.322703 -0.010538   0.037263   \n",
       "\n",
       "            mean-pred  PRED_DDG  \n",
       "z-score      0.796857  0.273251  \n",
       "ddG_exp      0.744191  0.304147  \n",
       "Lasso_pred   0.935401 -0.128070  \n",
       "gbt_pred     0.762217  0.322703  \n",
       "svr_pred     0.979628 -0.010538  \n",
       "poly_pred    0.984178  0.037263  \n",
       "mean-pred    1.000000  0.055056  \n",
       "PRED_DDG     0.055056  1.000000  "
      ]
     },
     "execution_count": 43,
     "metadata": {},
     "output_type": "execute_result"
    }
   ],
   "source": [
    "pred_data_final.corr()"
   ]
  },
  {
   "cell_type": "code",
   "execution_count": 44,
   "metadata": {},
   "outputs": [
    {
     "data": {
      "text/plain": [
       "<matplotlib.axes._subplots.AxesSubplot at 0x7ffceae6d358>"
      ]
     },
     "execution_count": 44,
     "metadata": {},
     "output_type": "execute_result"
    },
    {
     "data": {
      "image/png": "[encoded data removed]",
      "text/plain": [
       "<Figure size 432x288 with 1 Axes>"
      ]
     },
     "metadata": {
      "needs_background": "light"
     },
     "output_type": "display_data"
    }
   ],
   "source": [
    "sns.regplot(pred_data_final[\"ddG_exp\"],pred_data_final[\"PRED_DDG\"])"
   ]
  }
 ],
 "metadata": {
  "kernelspec": {
   "display_name": "Python 3",
   "language": "python",
   "name": "python3"
  },
  "language_info": {
   "codemirror_mode": {
    "name": "ipython",
    "version": 3
   },
   "file_extension": ".py",
   "mimetype": "text/x-python",
   "name": "python",
   "nbconvert_exporter": "python",
   "pygments_lexer": "ipython3",
   "version": "3.6.6"
  }
 },
 "nbformat": 4,
 "nbformat_minor": 2
}
