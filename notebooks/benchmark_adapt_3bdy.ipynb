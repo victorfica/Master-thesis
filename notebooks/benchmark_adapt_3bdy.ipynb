{
 "cells": [
  {
   "cell_type": "code",
   "execution_count": 1,
   "metadata": {},
   "outputs": [],
   "source": [
    "import pandas as pd\n",
    "import numpy as np\n",
    "import os\n",
    "import math\n",
    "\n",
    "from pathlib import Path\n",
    "import pickle\n",
    "import sys\n",
    "import joblib\n",
    "from sklearn.metrics import r2_score,mean_squared_error, mean_absolute_error,explained_variance_score\n",
    "\n",
    "# preproceessing\n",
    "from model_transformers2 import FeaturesInteractions,SkewTransformer,ZeroThreshold\n",
    "from stacking_models import StackingAveragedModels,AveragingModels\n",
    "\n",
    "import seaborn as sns\n",
    "\n",
    "#from mlxtend.plotting import plot_linear_regression\n",
    "%matplotlib inline\n"
   ]
  },
  {
   "cell_type": "code",
   "execution_count": 2,
   "metadata": {},
   "outputs": [],
   "source": [
    "# Test data \n",
    "adapt_final = pd.read_csv('../data/ADAPT_3bdy_Test15.csv',index_col=0)"
   ]
  },
  {
   "cell_type": "code",
   "execution_count": 3,
   "metadata": {},
   "outputs": [],
   "source": [
    "# X and y data transformed to delta G\n",
    "X = adapt_final.drop([\"z-score\",\"ddG_exp\"],axis=1)"
   ]
  },
  {
   "cell_type": "code",
   "execution_count": 4,
   "metadata": {},
   "outputs": [
    {
     "data": {
      "text/plain": [
       "(77,)"
      ]
     },
     "execution_count": 4,
     "metadata": {},
     "output_type": "execute_result"
    }
   ],
   "source": [
    "X.columns.shape"
   ]
  },
  {
   "cell_type": "code",
   "execution_count": 5,
   "metadata": {},
   "outputs": [],
   "source": [
    "# lasso_model = joblib.load('Lasso_train15skempiAB_FINAL.pkl')\n",
    "# #elasticnet_model = joblib.load('elasticNet_train15skempiAB_FINAL.pkl')\n",
    "# svr_model = joblib.load('rbfSVRmodel_train15skempiAB_FINAL.pkl')\n",
    "# poly_model = joblib.load(\"poly2SVRmodel_train15skempiAB_FINAL.pkl\")\n",
    "# gbt_model = joblib.load('GBTmodel_train15skempiAB_FINAL.overf.pkl')\n",
    "\n",
    "stackedModel = joblib.load('stacked_averaged_models_FINAL.3b1mSVRp.pkl')\n",
    "avgModel = joblib.load('avg_models_FINAL.3m.pkl')"
   ]
  },
  {
   "cell_type": "code",
   "execution_count": 6,
   "metadata": {},
   "outputs": [],
   "source": [
    "# lasso_pred = lasso_model.predict(X)\n",
    "# #elasticnet_pred = elasticnet_model.predict(X)\n",
    "# svr_pred = svr_model.predict(X)\n",
    "# poly_pred = poly_model.predict(X)\n",
    "# gbt_pred = gbt_model.predict(X)\n",
    "stacked_pred = stackedModel.predict(X.values)\n",
    "avgModel_pred = avgModel.predict(X.values)"
   ]
  },
  {
   "cell_type": "code",
   "execution_count": 7,
   "metadata": {},
   "outputs": [],
   "source": [
    "pred_stack = np.hstack([adapt_final[[\"z-score\",\"ddG_exp\"]].values,\n",
    "                        stacked_pred.reshape((-1,1)),avgModel_pred.reshape((-1,1))])\n",
    "pred_data = pd.DataFrame(pred_stack,columns=[\"z-score\",\"ddG_exp\",\"stacked_pred\",\"avgModel_pred\"],index=X.index)\n"
   ]
  },
  {
   "cell_type": "code",
   "execution_count": 8,
   "metadata": {},
   "outputs": [],
   "source": [
    "# pred_stack = np.hstack([adapt_final[[\"z-score\",\"ddG_exp\"]].values,\n",
    "#                         lasso_pred.reshape((-1,1)),gbt_pred.reshape((-1,1)),svr_pred.reshape((-1,1)),\n",
    "#                         poly_pred.reshape((-1,1)),stacked_pred.reshape((-1,1)),avgModel_pred.reshape((-1,1))])\n",
    "# pred_data = pd.DataFrame(pred_stack,columns=[\"z-score\",\"ddG_exp\",\"Lasso_pred\",\"gbt_pred\",\"svr_pred\",\n",
    "#                                              \"poly_pred\",\"stacked_pred\",\"avgModel_pred\"],index=X.index)\n",
    "# pred_data[\"mean-pred\"] = pred_data.loc[:,[\"Lasso_pred\",\"gbt_pred\",\"svr_pred\",\"poly_pred\"]].mean(axis=1)"
   ]
  },
  {
   "cell_type": "code",
   "execution_count": 9,
   "metadata": {},
   "outputs": [],
   "source": [
    "pred_data_notna = pred_data.dropna(axis=0)"
   ]
  },
  {
   "cell_type": "code",
   "execution_count": 10,
   "metadata": {},
   "outputs": [
    {
     "data": {
      "text/html": [
       "<div>\n",
       "<style scoped>\n",
       "    .dataframe tbody tr th:only-of-type {\n",
       "        vertical-align: middle;\n",
       "    }\n",
       "\n",
       "    .dataframe tbody tr th {\n",
       "        vertical-align: top;\n",
       "    }\n",
       "\n",
       "    .dataframe thead th {\n",
       "        text-align: right;\n",
       "    }\n",
       "</style>\n",
       "<table border=\"1\" class=\"dataframe\">\n",
       "  <thead>\n",
       "    <tr style=\"text-align: right;\">\n",
       "      <th></th>\n",
       "      <th>z-score</th>\n",
       "      <th>ddG_exp</th>\n",
       "      <th>stacked_pred</th>\n",
       "      <th>avgModel_pred</th>\n",
       "    </tr>\n",
       "  </thead>\n",
       "  <tbody>\n",
       "    <tr>\n",
       "      <th>3bdy.protein.H33M.Repair4.clean.pdb</th>\n",
       "      <td>-1.8</td>\n",
       "      <td>0.03</td>\n",
       "      <td>0.241337</td>\n",
       "      <td>0.629289</td>\n",
       "    </tr>\n",
       "    <tr>\n",
       "      <th>3bdy.protein.H33W.Repair4.clean.pdb</th>\n",
       "      <td>-2.4</td>\n",
       "      <td>-0.09</td>\n",
       "      <td>-0.053429</td>\n",
       "      <td>0.157784</td>\n",
       "    </tr>\n",
       "    <tr>\n",
       "      <th>3bdy.protein.H52R.Repair4.clean.pdb</th>\n",
       "      <td>-2.4</td>\n",
       "      <td>0.30</td>\n",
       "      <td>0.114432</td>\n",
       "      <td>0.530106</td>\n",
       "    </tr>\n",
       "    <tr>\n",
       "      <th>3bdy.protein.H98F.Repair4.clean.pdb</th>\n",
       "      <td>-6.8</td>\n",
       "      <td>-1.18</td>\n",
       "      <td>0.024310</td>\n",
       "      <td>0.229783</td>\n",
       "    </tr>\n",
       "    <tr>\n",
       "      <th>3bdy.protein.H98H.Repair4.clean.pdb</th>\n",
       "      <td>-4.3</td>\n",
       "      <td>-0.62</td>\n",
       "      <td>-0.087514</td>\n",
       "      <td>0.097520</td>\n",
       "    </tr>\n",
       "    <tr>\n",
       "      <th>3bdy.protein.H98K.Repair4.clean.pdb</th>\n",
       "      <td>-4.1</td>\n",
       "      <td>-0.63</td>\n",
       "      <td>0.016442</td>\n",
       "      <td>0.312421</td>\n",
       "    </tr>\n",
       "    <tr>\n",
       "      <th>3bdy.protein.H98M.Repair4.clean.pdb</th>\n",
       "      <td>-6.5</td>\n",
       "      <td>-1.33</td>\n",
       "      <td>-0.243400</td>\n",
       "      <td>-0.083868</td>\n",
       "    </tr>\n",
       "    <tr>\n",
       "      <th>3bdy.protein.H98W.Repair4.clean.pdb</th>\n",
       "      <td>-8.5</td>\n",
       "      <td>-1.23</td>\n",
       "      <td>-0.566572</td>\n",
       "      <td>-0.609739</td>\n",
       "    </tr>\n",
       "    <tr>\n",
       "      <th>3bdy.protein.H98Y.Repair4.clean.pdb</th>\n",
       "      <td>-6.4</td>\n",
       "      <td>-0.76</td>\n",
       "      <td>-0.258892</td>\n",
       "      <td>-0.287946</td>\n",
       "    </tr>\n",
       "    <tr>\n",
       "      <th>3bdy.protein.H99D.Repair4.clean.pdb</th>\n",
       "      <td>-1.6</td>\n",
       "      <td>-0.48</td>\n",
       "      <td>-0.093160</td>\n",
       "      <td>0.381779</td>\n",
       "    </tr>\n",
       "    <tr>\n",
       "      <th>3bdy.protein.H99M.Repair4.clean.pdb</th>\n",
       "      <td>-2.3</td>\n",
       "      <td>-0.48</td>\n",
       "      <td>-0.007207</td>\n",
       "      <td>0.256535</td>\n",
       "    </tr>\n",
       "    <tr>\n",
       "      <th>3bdy.protein.H99R.Repair4.clean.pdb</th>\n",
       "      <td>-7.6</td>\n",
       "      <td>-0.03</td>\n",
       "      <td>-0.246424</td>\n",
       "      <td>0.109211</td>\n",
       "    </tr>\n",
       "  </tbody>\n",
       "</table>\n",
       "</div>"
      ],
      "text/plain": [
       "                                     z-score  ddG_exp  stacked_pred  \\\n",
       "3bdy.protein.H33M.Repair4.clean.pdb     -1.8     0.03      0.241337   \n",
       "3bdy.protein.H33W.Repair4.clean.pdb     -2.4    -0.09     -0.053429   \n",
       "3bdy.protein.H52R.Repair4.clean.pdb     -2.4     0.30      0.114432   \n",
       "3bdy.protein.H98F.Repair4.clean.pdb     -6.8    -1.18      0.024310   \n",
       "3bdy.protein.H98H.Repair4.clean.pdb     -4.3    -0.62     -0.087514   \n",
       "3bdy.protein.H98K.Repair4.clean.pdb     -4.1    -0.63      0.016442   \n",
       "3bdy.protein.H98M.Repair4.clean.pdb     -6.5    -1.33     -0.243400   \n",
       "3bdy.protein.H98W.Repair4.clean.pdb     -8.5    -1.23     -0.566572   \n",
       "3bdy.protein.H98Y.Repair4.clean.pdb     -6.4    -0.76     -0.258892   \n",
       "3bdy.protein.H99D.Repair4.clean.pdb     -1.6    -0.48     -0.093160   \n",
       "3bdy.protein.H99M.Repair4.clean.pdb     -2.3    -0.48     -0.007207   \n",
       "3bdy.protein.H99R.Repair4.clean.pdb     -7.6    -0.03     -0.246424   \n",
       "\n",
       "                                     avgModel_pred  \n",
       "3bdy.protein.H33M.Repair4.clean.pdb       0.629289  \n",
       "3bdy.protein.H33W.Repair4.clean.pdb       0.157784  \n",
       "3bdy.protein.H52R.Repair4.clean.pdb       0.530106  \n",
       "3bdy.protein.H98F.Repair4.clean.pdb       0.229783  \n",
       "3bdy.protein.H98H.Repair4.clean.pdb       0.097520  \n",
       "3bdy.protein.H98K.Repair4.clean.pdb       0.312421  \n",
       "3bdy.protein.H98M.Repair4.clean.pdb      -0.083868  \n",
       "3bdy.protein.H98W.Repair4.clean.pdb      -0.609739  \n",
       "3bdy.protein.H98Y.Repair4.clean.pdb      -0.287946  \n",
       "3bdy.protein.H99D.Repair4.clean.pdb       0.381779  \n",
       "3bdy.protein.H99M.Repair4.clean.pdb       0.256535  \n",
       "3bdy.protein.H99R.Repair4.clean.pdb       0.109211  "
      ]
     },
     "execution_count": 10,
     "metadata": {},
     "output_type": "execute_result"
    }
   ],
   "source": [
    "pred_data_notna"
   ]
  },
  {
   "cell_type": "code",
   "execution_count": 14,
   "metadata": {
    "scrolled": true
   },
   "outputs": [
    {
     "data": {
      "text/plain": [
       "0.3010147307462996"
      ]
     },
     "execution_count": 14,
     "metadata": {},
     "output_type": "execute_result"
    }
   ],
   "source": [
    "explained_variance_score(pred_data_notna[\"ddG_exp\"],pred_data_notna[\"stacked_pred\"])"
   ]
  },
  {
   "cell_type": "code",
   "execution_count": 133,
   "metadata": {},
   "outputs": [],
   "source": [
    "explained_variance_score??"
   ]
  },
  {
   "cell_type": "code",
   "execution_count": 258,
   "metadata": {},
   "outputs": [
    {
     "data": {
      "text/plain": [
       "0.47591832998972994"
      ]
     },
     "execution_count": 258,
     "metadata": {},
     "output_type": "execute_result"
    }
   ],
   "source": [
    "explained_variance_score(pred_data_notna[\"ddG_exp\"],pred_data_notna[\"avgModel_pred\"])"
   ]
  },
  {
   "cell_type": "code",
   "execution_count": 243,
   "metadata": {},
   "outputs": [
    {
     "data": {
      "text/plain": [
       "<matplotlib.axes._subplots.AxesSubplot at 0x2aaae82cbf50>"
      ]
     },
     "execution_count": 243,
     "metadata": {},
     "output_type": "execute_result"
    },
    {
     "data": {
      "image/png": "[encoded data removed]",
      "text/plain": [
       "<Figure size 432x288 with 1 Axes>"
      ]
     },
     "metadata": {
      "needs_background": "light"
     },
     "output_type": "display_data"
    }
   ],
   "source": [
    "sns.regplot(pred_data_notna[\"ddG_exp\"],pred_data_notna[\"avgModel_pred\"])"
   ]
  },
  {
   "cell_type": "code",
   "execution_count": 121,
   "metadata": {},
   "outputs": [],
   "source": [
    "mcsm_result = pd.read_table(\"../data/3bdy_mcsm_results.txt\")\n"
   ]
  },
  {
   "cell_type": "code",
   "execution_count": 122,
   "metadata": {},
   "outputs": [],
   "source": [
    "with open(\"../data/3bdy.pdb.beat.txt\",\"r\") as f:\n",
    "    lines = f.readlines()\n",
    "    ddg_values = [float(list(filter(lambda name: name.strip(), l.split(\" \")))[7]) for l in lines ]\n",
    "    chain =  [list(filter(lambda name: name.strip(), l.split(\" \")))[2] for l in lines ]\n",
    "    mut_res = [list(filter(lambda name: name.strip(), l.split(\" \")))[5] for l in lines ]\n",
    "    num_res = [list(filter(lambda name: name.strip(), l.split(\" \")))[3] for l in lines ]\n",
    "    \n",
    "    mutant = list(map(\"\".join, zip(chain, num_res,mut_res)))\n",
    "    \n",
    "    pd_beatmusic = pd.DataFrame({\"mutant\":mutant,\"beat_pred\":ddg_values})\n",
    "    \n",
    "    "
   ]
  },
  {
   "cell_type": "code",
   "execution_count": 124,
   "metadata": {},
   "outputs": [
    {
     "name": "stderr",
     "output_type": "stream",
     "text": [
      "/home/vfica/miniconda3/envs/abpred/lib/python3.7/site-packages/ipykernel_launcher.py:4: SettingWithCopyWarning: \n",
      "A value is trying to be set on a copy of a slice from a DataFrame.\n",
      "Try using .loc[row_indexer,col_indexer] = value instead\n",
      "\n",
      "See the caveats in the documentation: http://pandas.pydata.org/pandas-docs/stable/user_guide/indexing.html#returning-a-view-versus-a-copy\n",
      "  after removing the cwd from sys.path.\n"
     ]
    }
   ],
   "source": [
    "mcsm_result[\"mutant\"]= mcsm_result[\"CHAIN\"].astype(str)+mcsm_result[\"RES_POS\"].astype(str)+mcsm_result[\"MUT_RES\"].astype(str)\n",
    "mcsm_result = mcsm_result[[\"PRED_DDG\",\"mutant\"]]\n",
    "#merge data on mutant column\n",
    "pred_data_notna[\"mutant\"] = pred_data_notna.reset_index()[\"index\"].str.split(\".\",expand=True)[2].values"
   ]
  },
  {
   "cell_type": "code",
   "execution_count": 125,
   "metadata": {
    "scrolled": true
   },
   "outputs": [
    {
     "data": {
      "text/html": [
       "<div>\n",
       "<style scoped>\n",
       "    .dataframe tbody tr th:only-of-type {\n",
       "        vertical-align: middle;\n",
       "    }\n",
       "\n",
       "    .dataframe tbody tr th {\n",
       "        vertical-align: top;\n",
       "    }\n",
       "\n",
       "    .dataframe thead th {\n",
       "        text-align: right;\n",
       "    }\n",
       "</style>\n",
       "<table border=\"1\" class=\"dataframe\">\n",
       "  <thead>\n",
       "    <tr style=\"text-align: right;\">\n",
       "      <th></th>\n",
       "      <th>z-score</th>\n",
       "      <th>ddG_exp</th>\n",
       "      <th>stacked_pred</th>\n",
       "      <th>avgModel_pred</th>\n",
       "      <th>PRED_DDG</th>\n",
       "      <th>beat_pred</th>\n",
       "    </tr>\n",
       "    <tr>\n",
       "      <th>mutant</th>\n",
       "      <th></th>\n",
       "      <th></th>\n",
       "      <th></th>\n",
       "      <th></th>\n",
       "      <th></th>\n",
       "      <th></th>\n",
       "    </tr>\n",
       "  </thead>\n",
       "  <tbody>\n",
       "    <tr>\n",
       "      <th>H33M</th>\n",
       "      <td>-1.8</td>\n",
       "      <td>0.03</td>\n",
       "      <td>0.241337</td>\n",
       "      <td>0.629289</td>\n",
       "      <td>0.597</td>\n",
       "      <td>1.16</td>\n",
       "    </tr>\n",
       "    <tr>\n",
       "      <th>H33W</th>\n",
       "      <td>-2.4</td>\n",
       "      <td>-0.09</td>\n",
       "      <td>-0.053429</td>\n",
       "      <td>0.157784</td>\n",
       "      <td>1.220</td>\n",
       "      <td>0.62</td>\n",
       "    </tr>\n",
       "    <tr>\n",
       "      <th>H52R</th>\n",
       "      <td>-2.4</td>\n",
       "      <td>0.30</td>\n",
       "      <td>0.114432</td>\n",
       "      <td>0.530106</td>\n",
       "      <td>-0.280</td>\n",
       "      <td>0.79</td>\n",
       "    </tr>\n",
       "    <tr>\n",
       "      <th>H98F</th>\n",
       "      <td>-6.8</td>\n",
       "      <td>-1.18</td>\n",
       "      <td>0.024310</td>\n",
       "      <td>0.229783</td>\n",
       "      <td>0.281</td>\n",
       "      <td>0.22</td>\n",
       "    </tr>\n",
       "    <tr>\n",
       "      <th>H98H</th>\n",
       "      <td>-4.3</td>\n",
       "      <td>-0.62</td>\n",
       "      <td>-0.087514</td>\n",
       "      <td>0.097520</td>\n",
       "      <td>-1.387</td>\n",
       "      <td>0.12</td>\n",
       "    </tr>\n",
       "    <tr>\n",
       "      <th>H98K</th>\n",
       "      <td>-4.1</td>\n",
       "      <td>-0.63</td>\n",
       "      <td>0.016442</td>\n",
       "      <td>0.312421</td>\n",
       "      <td>-0.299</td>\n",
       "      <td>0.09</td>\n",
       "    </tr>\n",
       "    <tr>\n",
       "      <th>H98M</th>\n",
       "      <td>-6.5</td>\n",
       "      <td>-1.33</td>\n",
       "      <td>-0.243400</td>\n",
       "      <td>-0.083868</td>\n",
       "      <td>-0.921</td>\n",
       "      <td>0.19</td>\n",
       "    </tr>\n",
       "    <tr>\n",
       "      <th>H98W</th>\n",
       "      <td>-8.5</td>\n",
       "      <td>-1.23</td>\n",
       "      <td>-0.566572</td>\n",
       "      <td>-0.609739</td>\n",
       "      <td>0.480</td>\n",
       "      <td>0.18</td>\n",
       "    </tr>\n",
       "    <tr>\n",
       "      <th>H98Y</th>\n",
       "      <td>-6.4</td>\n",
       "      <td>-0.76</td>\n",
       "      <td>-0.258892</td>\n",
       "      <td>-0.287946</td>\n",
       "      <td>0.265</td>\n",
       "      <td>0.22</td>\n",
       "    </tr>\n",
       "    <tr>\n",
       "      <th>H99D</th>\n",
       "      <td>-1.6</td>\n",
       "      <td>-0.48</td>\n",
       "      <td>-0.093160</td>\n",
       "      <td>0.381779</td>\n",
       "      <td>1.638</td>\n",
       "      <td>0.54</td>\n",
       "    </tr>\n",
       "    <tr>\n",
       "      <th>H99M</th>\n",
       "      <td>-2.3</td>\n",
       "      <td>-0.48</td>\n",
       "      <td>-0.007207</td>\n",
       "      <td>0.256535</td>\n",
       "      <td>1.288</td>\n",
       "      <td>-0.12</td>\n",
       "    </tr>\n",
       "    <tr>\n",
       "      <th>H99R</th>\n",
       "      <td>-7.6</td>\n",
       "      <td>-0.03</td>\n",
       "      <td>-0.246424</td>\n",
       "      <td>0.109211</td>\n",
       "      <td>0.948</td>\n",
       "      <td>0.37</td>\n",
       "    </tr>\n",
       "  </tbody>\n",
       "</table>\n",
       "</div>"
      ],
      "text/plain": [
       "        z-score  ddG_exp  stacked_pred  avgModel_pred  PRED_DDG  beat_pred\n",
       "mutant                                                                    \n",
       "H33M       -1.8     0.03      0.241337       0.629289     0.597       1.16\n",
       "H33W       -2.4    -0.09     -0.053429       0.157784     1.220       0.62\n",
       "H52R       -2.4     0.30      0.114432       0.530106    -0.280       0.79\n",
       "H98F       -6.8    -1.18      0.024310       0.229783     0.281       0.22\n",
       "H98H       -4.3    -0.62     -0.087514       0.097520    -1.387       0.12\n",
       "H98K       -4.1    -0.63      0.016442       0.312421    -0.299       0.09\n",
       "H98M       -6.5    -1.33     -0.243400      -0.083868    -0.921       0.19\n",
       "H98W       -8.5    -1.23     -0.566572      -0.609739     0.480       0.18\n",
       "H98Y       -6.4    -0.76     -0.258892      -0.287946     0.265       0.22\n",
       "H99D       -1.6    -0.48     -0.093160       0.381779     1.638       0.54\n",
       "H99M       -2.3    -0.48     -0.007207       0.256535     1.288      -0.12\n",
       "H99R       -7.6    -0.03     -0.246424       0.109211     0.948       0.37"
      ]
     },
     "execution_count": 125,
     "metadata": {},
     "output_type": "execute_result"
    }
   ],
   "source": [
    "pred_data_final = pred_data_notna.merge(mcsm_result,on=\"mutant\").merge(pd_beatmusic,on=\"mutant\")\n",
    "pred_data_final.set_index(\"mutant\",inplace=True)\n",
    "pred_data_final"
   ]
  },
  {
   "cell_type": "code",
   "execution_count": null,
   "metadata": {},
   "outputs": [],
   "source": []
  },
  {
   "cell_type": "code",
   "execution_count": 115,
   "metadata": {},
   "outputs": [
    {
     "data": {
      "text/plain": [
       "0.3010147307462996"
      ]
     },
     "execution_count": 115,
     "metadata": {},
     "output_type": "execute_result"
    }
   ],
   "source": [
    "explained_variance_score(pred_data_final[\"ddG_exp\"],pred_data_final[\"stacked_pred\"])"
   ]
  },
  {
   "cell_type": "code",
   "execution_count": 127,
   "metadata": {},
   "outputs": [
    {
     "data": {
      "text/plain": [
       "0.42353209168121997"
      ]
     },
     "execution_count": 127,
     "metadata": {},
     "output_type": "execute_result"
    }
   ],
   "source": [
    "explained_variance_score(pred_data_final[\"ddG_exp\"],pred_data_final[\"beat_pred\"])"
   ]
  },
  {
   "cell_type": "code",
   "execution_count": 132,
   "metadata": {},
   "outputs": [
    {
     "data": {
      "text/plain": [
       "-1.9366376682684487"
      ]
     },
     "execution_count": 132,
     "metadata": {},
     "output_type": "execute_result"
    }
   ],
   "source": [
    "explained_variance_score(pred_data_final[\"ddG_exp\"],pred_data_final[\"PRED_DDG\"])"
   ]
  },
  {
   "cell_type": "code",
   "execution_count": 105,
   "metadata": {},
   "outputs": [
    {
     "data": {
      "text/plain": [
       "z-score          4.531425\n",
       "ddG_exp          0.000000\n",
       "stacked_pred     0.614016\n",
       "avgModel_pred    0.781500\n",
       "PRED_DDG         1.221904\n",
       "beat_pred        0.984717\n",
       "dtype: float64"
      ]
     },
     "execution_count": 105,
     "metadata": {},
     "output_type": "execute_result"
    }
   ],
   "source": [
    "np.sqrt(pred_data_final.apply(mean_squared_error,axis=0,args=(pred_data_final[\"ddG_exp\"],)))"
   ]
  },
  {
   "cell_type": "code",
   "execution_count": 129,
   "metadata": {},
   "outputs": [
    {
     "data": {
      "text/html": [
       "<div>\n",
       "<style scoped>\n",
       "    .dataframe tbody tr th:only-of-type {\n",
       "        vertical-align: middle;\n",
       "    }\n",
       "\n",
       "    .dataframe tbody tr th {\n",
       "        vertical-align: top;\n",
       "    }\n",
       "\n",
       "    .dataframe thead th {\n",
       "        text-align: right;\n",
       "    }\n",
       "</style>\n",
       "<table border=\"1\" class=\"dataframe\">\n",
       "  <thead>\n",
       "    <tr style=\"text-align: right;\">\n",
       "      <th></th>\n",
       "      <th>z-score</th>\n",
       "      <th>ddG_exp</th>\n",
       "      <th>stacked_pred</th>\n",
       "      <th>avgModel_pred</th>\n",
       "      <th>PRED_DDG</th>\n",
       "      <th>beat_pred</th>\n",
       "    </tr>\n",
       "  </thead>\n",
       "  <tbody>\n",
       "    <tr>\n",
       "      <th>z-score</th>\n",
       "      <td>1.000000</td>\n",
       "      <td>0.632829</td>\n",
       "      <td>0.758662</td>\n",
       "      <td>0.781332</td>\n",
       "      <td>0.273251</td>\n",
       "      <td>0.467480</td>\n",
       "    </tr>\n",
       "    <tr>\n",
       "      <th>ddG_exp</th>\n",
       "      <td>0.632829</td>\n",
       "      <td>1.000000</td>\n",
       "      <td>0.577063</td>\n",
       "      <td>0.670109</td>\n",
       "      <td>0.304147</td>\n",
       "      <td>0.651116</td>\n",
       "    </tr>\n",
       "    <tr>\n",
       "      <th>stacked_pred</th>\n",
       "      <td>0.758662</td>\n",
       "      <td>0.577063</td>\n",
       "      <td>1.000000</td>\n",
       "      <td>0.941091</td>\n",
       "      <td>0.013487</td>\n",
       "      <td>0.500307</td>\n",
       "    </tr>\n",
       "    <tr>\n",
       "      <th>avgModel_pred</th>\n",
       "      <td>0.781332</td>\n",
       "      <td>0.670109</td>\n",
       "      <td>0.941091</td>\n",
       "      <td>1.000000</td>\n",
       "      <td>0.137013</td>\n",
       "      <td>0.547501</td>\n",
       "    </tr>\n",
       "    <tr>\n",
       "      <th>PRED_DDG</th>\n",
       "      <td>0.273251</td>\n",
       "      <td>0.304147</td>\n",
       "      <td>0.013487</td>\n",
       "      <td>0.137013</td>\n",
       "      <td>1.000000</td>\n",
       "      <td>0.209852</td>\n",
       "    </tr>\n",
       "    <tr>\n",
       "      <th>beat_pred</th>\n",
       "      <td>0.467480</td>\n",
       "      <td>0.651116</td>\n",
       "      <td>0.500307</td>\n",
       "      <td>0.547501</td>\n",
       "      <td>0.209852</td>\n",
       "      <td>1.000000</td>\n",
       "    </tr>\n",
       "  </tbody>\n",
       "</table>\n",
       "</div>"
      ],
      "text/plain": [
       "                z-score   ddG_exp  stacked_pred  avgModel_pred  PRED_DDG  \\\n",
       "z-score        1.000000  0.632829      0.758662       0.781332  0.273251   \n",
       "ddG_exp        0.632829  1.000000      0.577063       0.670109  0.304147   \n",
       "stacked_pred   0.758662  0.577063      1.000000       0.941091  0.013487   \n",
       "avgModel_pred  0.781332  0.670109      0.941091       1.000000  0.137013   \n",
       "PRED_DDG       0.273251  0.304147      0.013487       0.137013  1.000000   \n",
       "beat_pred      0.467480  0.651116      0.500307       0.547501  0.209852   \n",
       "\n",
       "               beat_pred  \n",
       "z-score         0.467480  \n",
       "ddG_exp         0.651116  \n",
       "stacked_pred    0.500307  \n",
       "avgModel_pred   0.547501  \n",
       "PRED_DDG        0.209852  \n",
       "beat_pred       1.000000  "
      ]
     },
     "execution_count": 129,
     "metadata": {},
     "output_type": "execute_result"
    }
   ],
   "source": [
    "pred_data_final.corr()"
   ]
  },
  {
   "cell_type": "code",
   "execution_count": 97,
   "metadata": {},
   "outputs": [
    {
     "data": {
      "text/plain": [
       "<matplotlib.axes._subplots.AxesSubplot at 0x2aaaedad6990>"
      ]
     },
     "execution_count": 97,
     "metadata": {},
     "output_type": "execute_result"
    },
    {
     "data": {
      "image/png": "[encoded data removed]",
      "text/plain": [
       "<Figure size 432x288 with 1 Axes>"
      ]
     },
     "metadata": {
      "needs_background": "light"
     },
     "output_type": "display_data"
    }
   ],
   "source": [
    "sns.regplot(pred_data_final[\"ddG_exp\"],pred_data_final[\"beat_pred\"])"
   ]
  }
 ],
 "metadata": {
  "kernelspec": {
   "display_name": "Python 3",
   "language": "python",
   "name": "python3"
  },
  "language_info": {
   "codemirror_mode": {
    "name": "ipython",
    "version": 3
   },
   "file_extension": ".py",
   "mimetype": "text/x-python",
   "name": "python",
   "nbconvert_exporter": "python",
   "pygments_lexer": "ipython3",
   "version": "3.7.4"
  }
 },
 "nbformat": 4,
 "nbformat_minor": 2
}
