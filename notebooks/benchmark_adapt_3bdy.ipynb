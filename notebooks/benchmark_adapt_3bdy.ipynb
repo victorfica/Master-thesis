{
 "cells": [
  {
   "cell_type": "code",
   "execution_count": 20,
   "metadata": {
    "collapsed": true
   },
   "outputs": [],
   "source": [
    "import pandas as pd\n",
    "import numpy as np\n",
    "import os\n",
    "import prody\n",
    "import math\n",
    "\n",
    "from pathlib import Path\n",
    "import pickle\n",
    "import sys\n",
    "from sklearn.externals import joblib\n",
    "from sklearn.metrics import r2_score,mean_squared_error, mean_absolute_error,explained_variance_score\n",
    "\n",
    "# preproceessing\n",
    "from model_transformers import FeaturesInteractions,SkewTransformer,ZeroThreshold\n",
    "\n",
    "import seaborn as sns\n",
    "\n",
    "#from mlxtend.plotting import plot_linear_regression\n",
    "%matplotlib inline\n"
   ]
  },
  {
   "cell_type": "code",
   "execution_count": 40,
   "metadata": {
    "collapsed": true
   },
   "outputs": [],
   "source": [
    "from sklearn.base import BaseEstimator, TransformerMixin, RegressorMixin, clone\n",
    "\n",
    "class AveragingModels(BaseEstimator, RegressorMixin, TransformerMixin):\n",
    "    def __init__(self, models):\n",
    "        self.models = models\n",
    "        \n",
    "    # we define clones of the original models to fit the data in\n",
    "    def fit(self, X, y):\n",
    "        self.models_ = [clone(x) for x in self.models]\n",
    "        \n",
    "        # Train cloned base models\n",
    "        for model in self.models_:\n",
    "            model.fit(X, y)\n",
    "\n",
    "        return self\n",
    "    \n",
    "    #Now we do the predictions for cloned models and average them\n",
    "    def predict(self, X):\n",
    "        predictions = np.column_stack([\n",
    "            model.predict(X) for model in self.models_\n",
    "        ])\n",
    "        return np.mean(predictions, axis=1)\n",
    "\n",
    "class StackingAveragedModels(BaseEstimator, RegressorMixin, TransformerMixin):\n",
    "    def __init__(self, base_models, meta_model, n_folds=5):\n",
    "        self.base_models = base_models\n",
    "        self.meta_model = meta_model\n",
    "        self.n_folds = n_folds\n",
    "   \n",
    "    # We again fit the data on clones of the original models\n",
    "    def fit(self, X, y):\n",
    "        self.base_models_ = [list() for x in self.base_models]\n",
    "        self.meta_model_ = clone(self.meta_model)\n",
    "        kfold = KFold(n_splits=self.n_folds, shuffle=True, random_state=156)\n",
    "        \n",
    "        # Train cloned base models then create out-of-fold predictions\n",
    "        # that are needed to train the cloned meta-model\n",
    "        out_of_fold_predictions = np.zeros((X.shape[0], len(self.base_models)))\n",
    "        for i, model in enumerate(self.base_models):\n",
    "            for train_index, holdout_index in kfold.split(X, y):\n",
    "                instance = clone(model)\n",
    "                self.base_models_[i].append(instance)\n",
    "                instance.fit(X.iloc[train_index], y.iloc[train_index])\n",
    "                y_pred = instance.predict(X.iloc[holdout_index])\n",
    "                out_of_fold_predictions[holdout_index, i] = y_pred\n",
    "                \n",
    "        # Now train the cloned  meta-model using the out-of-fold predictions as new feature\n",
    "        self.meta_model_.fit(out_of_fold_predictions, y)\n",
    "        return self\n",
    "   \n",
    "    #Do the predictions of all base models on the test data and use the averaged predictions as \n",
    "    #meta-features for the final prediction which is done by the meta-model\n",
    "    def predict(self, X):\n",
    "        meta_features = np.column_stack([\n",
    "            np.column_stack([model.predict(X) for model in base_models]).mean(axis=1)\n",
    "            for base_models in self.base_models_ ])\n",
    "        return self.meta_model_.predict(meta_features)"
   ]
  },
  {
   "cell_type": "code",
   "execution_count": 41,
   "metadata": {
    "collapsed": true
   },
   "outputs": [],
   "source": [
    "# Test data \n",
    "adapt_final = pd.read_csv('../data/ADAPT_3bdy_Test15.csv',index_col=0)"
   ]
  },
  {
   "cell_type": "code",
   "execution_count": 42,
   "metadata": {
    "collapsed": true
   },
   "outputs": [],
   "source": [
    "# X and y data transformed to delta G\n",
    "X = adapt_final.drop([\"z-score\",\"ddG_exp\"],axis=1)"
   ]
  },
  {
   "cell_type": "code",
   "execution_count": 43,
   "metadata": {},
   "outputs": [
    {
     "data": {
      "text/plain": [
       "(77,)"
      ]
     },
     "execution_count": 43,
     "metadata": {},
     "output_type": "execute_result"
    }
   ],
   "source": [
    "X.columns.shape"
   ]
  },
  {
   "cell_type": "code",
   "execution_count": 44,
   "metadata": {
    "collapsed": true
   },
   "outputs": [],
   "source": [
    "lasso_model = joblib.load('Lasso_train15skempiAB_FINAL.pkl')\n",
    "#elasticnet_model = joblib.load('elasticNet_train15skempiAB_FINAL.pkl')\n",
    "svr_model = joblib.load('rbfSVRmodel_train15skempiAB_FINAL.pkl')\n",
    "poly_model = joblib.load(\"poly2SVRmodel_train15skempiAB_FINAL.pkl\")\n",
    "gbt_model = joblib.load('GBTmodel_train15skempiAB_FINAL.overf.pkl')\n",
    "\n",
    "stackedModel = joblib.load('stacked_averaged_models_FINAL.pkl')\n",
    "avgModel = joblib.load('avg_models_FINAL.pkl')"
   ]
  },
  {
   "cell_type": "code",
   "execution_count": 45,
   "metadata": {
    "collapsed": true
   },
   "outputs": [],
   "source": [
    "lasso_pred = lasso_model.predict(X)\n",
    "#elasticnet_pred = elasticnet_model.predict(X)\n",
    "svr_pred = svr_model.predict(X)\n",
    "poly_pred = poly_model.predict(X)\n",
    "gbt_pred = gbt_model.predict(X)\n",
    "stacked_pred = stackedModel.predict(X)\n",
    "avgModel_pred = avgModel.predict(X)"
   ]
  },
  {
   "cell_type": "code",
   "execution_count": 46,
   "metadata": {
    "collapsed": true
   },
   "outputs": [],
   "source": [
    "pred_stack = np.hstack([adapt_final[[\"z-score\",\"ddG_exp\"]].values,\n",
    "                        lasso_pred.reshape((-1,1)),gbt_pred.reshape((-1,1)),svr_pred.reshape((-1,1)),\n",
    "                        poly_pred.reshape((-1,1)),stacked_pred.reshape((-1,1)),avgModel_pred.reshape((-1,1))])\n",
    "pred_data = pd.DataFrame(pred_stack,columns=[\"z-score\",\"ddG_exp\",\"Lasso_pred\",\"gbt_pred\",\"svr_pred\",\n",
    "                                             \"poly_pred\",\"stacked_pred\",\"avgModel_pred\"],index=X.index)\n"
   ]
  },
  {
   "cell_type": "code",
   "execution_count": 47,
   "metadata": {
    "collapsed": true
   },
   "outputs": [],
   "source": [
    "pred_data[\"mean-pred\"] = pred_data.loc[:,[\"Lasso_pred\",\"gbt_pred\",\"svr_pred\",\"poly_pred\"]].mean(axis=1)"
   ]
  },
  {
   "cell_type": "code",
   "execution_count": 48,
   "metadata": {
    "collapsed": true
   },
   "outputs": [],
   "source": [
    "pred_data_notna = pred_data.dropna(axis=0)"
   ]
  },
  {
   "cell_type": "code",
   "execution_count": 49,
   "metadata": {},
   "outputs": [
    {
     "data": {
      "text/html": [
       "<div>\n",
       "<style scoped>\n",
       "    .dataframe tbody tr th:only-of-type {\n",
       "        vertical-align: middle;\n",
       "    }\n",
       "\n",
       "    .dataframe tbody tr th {\n",
       "        vertical-align: top;\n",
       "    }\n",
       "\n",
       "    .dataframe thead th {\n",
       "        text-align: right;\n",
       "    }\n",
       "</style>\n",
       "<table border=\"1\" class=\"dataframe\">\n",
       "  <thead>\n",
       "    <tr style=\"text-align: right;\">\n",
       "      <th></th>\n",
       "      <th>z-score</th>\n",
       "      <th>ddG_exp</th>\n",
       "      <th>Lasso_pred</th>\n",
       "      <th>gbt_pred</th>\n",
       "      <th>svr_pred</th>\n",
       "      <th>poly_pred</th>\n",
       "      <th>stacked_pred</th>\n",
       "      <th>avgModel_pred</th>\n",
       "      <th>mean-pred</th>\n",
       "    </tr>\n",
       "  </thead>\n",
       "  <tbody>\n",
       "    <tr>\n",
       "      <th>3bdy.protein.H33M.Repair4.clean.pdb</th>\n",
       "      <td>-1.8</td>\n",
       "      <td>0.03</td>\n",
       "      <td>0.305526</td>\n",
       "      <td>0.554520</td>\n",
       "      <td>0.854456</td>\n",
       "      <td>1.387703</td>\n",
       "      <td>0.302284</td>\n",
       "      <td>0.529494</td>\n",
       "      <td>0.775551</td>\n",
       "    </tr>\n",
       "    <tr>\n",
       "      <th>3bdy.protein.H33W.Repair4.clean.pdb</th>\n",
       "      <td>-2.4</td>\n",
       "      <td>-0.09</td>\n",
       "      <td>-0.130321</td>\n",
       "      <td>0.240917</td>\n",
       "      <td>0.144476</td>\n",
       "      <td>0.463919</td>\n",
       "      <td>-0.024085</td>\n",
       "      <td>0.105689</td>\n",
       "      <td>0.179748</td>\n",
       "    </tr>\n",
       "    <tr>\n",
       "      <th>3bdy.protein.H52R.Repair4.clean.pdb</th>\n",
       "      <td>-2.4</td>\n",
       "      <td>0.30</td>\n",
       "      <td>0.312260</td>\n",
       "      <td>0.044420</td>\n",
       "      <td>0.991662</td>\n",
       "      <td>1.398749</td>\n",
       "      <td>0.410667</td>\n",
       "      <td>0.580476</td>\n",
       "      <td>0.686773</td>\n",
       "    </tr>\n",
       "    <tr>\n",
       "      <th>3bdy.protein.H98F.Repair4.clean.pdb</th>\n",
       "      <td>-6.8</td>\n",
       "      <td>-1.18</td>\n",
       "      <td>0.113031</td>\n",
       "      <td>0.107277</td>\n",
       "      <td>-0.147059</td>\n",
       "      <td>0.340742</td>\n",
       "      <td>0.248876</td>\n",
       "      <td>0.210520</td>\n",
       "      <td>0.103498</td>\n",
       "    </tr>\n",
       "    <tr>\n",
       "      <th>3bdy.protein.H98H.Repair4.clean.pdb</th>\n",
       "      <td>-4.3</td>\n",
       "      <td>-0.62</td>\n",
       "      <td>0.000236</td>\n",
       "      <td>0.099844</td>\n",
       "      <td>-0.034090</td>\n",
       "      <td>0.411669</td>\n",
       "      <td>0.104966</td>\n",
       "      <td>0.140766</td>\n",
       "      <td>0.119415</td>\n",
       "    </tr>\n",
       "    <tr>\n",
       "      <th>3bdy.protein.H98K.Repair4.clean.pdb</th>\n",
       "      <td>-4.1</td>\n",
       "      <td>-0.63</td>\n",
       "      <td>0.138372</td>\n",
       "      <td>0.108436</td>\n",
       "      <td>0.068275</td>\n",
       "      <td>0.521700</td>\n",
       "      <td>0.273311</td>\n",
       "      <td>0.291969</td>\n",
       "      <td>0.209196</td>\n",
       "    </tr>\n",
       "    <tr>\n",
       "      <th>3bdy.protein.H98M.Repair4.clean.pdb</th>\n",
       "      <td>-6.5</td>\n",
       "      <td>-1.33</td>\n",
       "      <td>-0.181174</td>\n",
       "      <td>-0.234044</td>\n",
       "      <td>-0.472160</td>\n",
       "      <td>-0.067182</td>\n",
       "      <td>-0.143469</td>\n",
       "      <td>-0.148407</td>\n",
       "      <td>-0.238640</td>\n",
       "    </tr>\n",
       "    <tr>\n",
       "      <th>3bdy.protein.H98W.Repair4.clean.pdb</th>\n",
       "      <td>-8.5</td>\n",
       "      <td>-1.23</td>\n",
       "      <td>-0.479855</td>\n",
       "      <td>-0.699778</td>\n",
       "      <td>-1.141712</td>\n",
       "      <td>-0.794320</td>\n",
       "      <td>-0.615407</td>\n",
       "      <td>-0.770250</td>\n",
       "      <td>-0.778916</td>\n",
       "    </tr>\n",
       "    <tr>\n",
       "      <th>3bdy.protein.H98Y.Repair4.clean.pdb</th>\n",
       "      <td>-6.4</td>\n",
       "      <td>-0.76</td>\n",
       "      <td>-0.190341</td>\n",
       "      <td>0.119825</td>\n",
       "      <td>-0.812521</td>\n",
       "      <td>-0.533019</td>\n",
       "      <td>-0.231959</td>\n",
       "      <td>-0.386161</td>\n",
       "      <td>-0.354014</td>\n",
       "    </tr>\n",
       "    <tr>\n",
       "      <th>3bdy.protein.H99D.Repair4.clean.pdb</th>\n",
       "      <td>-1.6</td>\n",
       "      <td>-0.48</td>\n",
       "      <td>-0.078480</td>\n",
       "      <td>0.192432</td>\n",
       "      <td>0.057038</td>\n",
       "      <td>0.652414</td>\n",
       "      <td>0.206768</td>\n",
       "      <td>0.275495</td>\n",
       "      <td>0.205851</td>\n",
       "    </tr>\n",
       "    <tr>\n",
       "      <th>3bdy.protein.H99M.Repair4.clean.pdb</th>\n",
       "      <td>-2.3</td>\n",
       "      <td>-0.48</td>\n",
       "      <td>0.013972</td>\n",
       "      <td>0.474101</td>\n",
       "      <td>-0.144338</td>\n",
       "      <td>0.318988</td>\n",
       "      <td>0.305343</td>\n",
       "      <td>0.240564</td>\n",
       "      <td>0.165681</td>\n",
       "    </tr>\n",
       "    <tr>\n",
       "      <th>3bdy.protein.H99R.Repair4.clean.pdb</th>\n",
       "      <td>-7.6</td>\n",
       "      <td>-0.03</td>\n",
       "      <td>-0.070899</td>\n",
       "      <td>0.082293</td>\n",
       "      <td>-0.382283</td>\n",
       "      <td>0.255061</td>\n",
       "      <td>-0.074258</td>\n",
       "      <td>-0.063272</td>\n",
       "      <td>-0.028957</td>\n",
       "    </tr>\n",
       "  </tbody>\n",
       "</table>\n",
       "</div>"
      ],
      "text/plain": [
       "                                     z-score  ddG_exp  Lasso_pred  gbt_pred  \\\n",
       "3bdy.protein.H33M.Repair4.clean.pdb     -1.8     0.03    0.305526  0.554520   \n",
       "3bdy.protein.H33W.Repair4.clean.pdb     -2.4    -0.09   -0.130321  0.240917   \n",
       "3bdy.protein.H52R.Repair4.clean.pdb     -2.4     0.30    0.312260  0.044420   \n",
       "3bdy.protein.H98F.Repair4.clean.pdb     -6.8    -1.18    0.113031  0.107277   \n",
       "3bdy.protein.H98H.Repair4.clean.pdb     -4.3    -0.62    0.000236  0.099844   \n",
       "3bdy.protein.H98K.Repair4.clean.pdb     -4.1    -0.63    0.138372  0.108436   \n",
       "3bdy.protein.H98M.Repair4.clean.pdb     -6.5    -1.33   -0.181174 -0.234044   \n",
       "3bdy.protein.H98W.Repair4.clean.pdb     -8.5    -1.23   -0.479855 -0.699778   \n",
       "3bdy.protein.H98Y.Repair4.clean.pdb     -6.4    -0.76   -0.190341  0.119825   \n",
       "3bdy.protein.H99D.Repair4.clean.pdb     -1.6    -0.48   -0.078480  0.192432   \n",
       "3bdy.protein.H99M.Repair4.clean.pdb     -2.3    -0.48    0.013972  0.474101   \n",
       "3bdy.protein.H99R.Repair4.clean.pdb     -7.6    -0.03   -0.070899  0.082293   \n",
       "\n",
       "                                     svr_pred  poly_pred  stacked_pred  \\\n",
       "3bdy.protein.H33M.Repair4.clean.pdb  0.854456   1.387703      0.302284   \n",
       "3bdy.protein.H33W.Repair4.clean.pdb  0.144476   0.463919     -0.024085   \n",
       "3bdy.protein.H52R.Repair4.clean.pdb  0.991662   1.398749      0.410667   \n",
       "3bdy.protein.H98F.Repair4.clean.pdb -0.147059   0.340742      0.248876   \n",
       "3bdy.protein.H98H.Repair4.clean.pdb -0.034090   0.411669      0.104966   \n",
       "3bdy.protein.H98K.Repair4.clean.pdb  0.068275   0.521700      0.273311   \n",
       "3bdy.protein.H98M.Repair4.clean.pdb -0.472160  -0.067182     -0.143469   \n",
       "3bdy.protein.H98W.Repair4.clean.pdb -1.141712  -0.794320     -0.615407   \n",
       "3bdy.protein.H98Y.Repair4.clean.pdb -0.812521  -0.533019     -0.231959   \n",
       "3bdy.protein.H99D.Repair4.clean.pdb  0.057038   0.652414      0.206768   \n",
       "3bdy.protein.H99M.Repair4.clean.pdb -0.144338   0.318988      0.305343   \n",
       "3bdy.protein.H99R.Repair4.clean.pdb -0.382283   0.255061     -0.074258   \n",
       "\n",
       "                                     avgModel_pred  mean-pred  \n",
       "3bdy.protein.H33M.Repair4.clean.pdb       0.529494   0.775551  \n",
       "3bdy.protein.H33W.Repair4.clean.pdb       0.105689   0.179748  \n",
       "3bdy.protein.H52R.Repair4.clean.pdb       0.580476   0.686773  \n",
       "3bdy.protein.H98F.Repair4.clean.pdb       0.210520   0.103498  \n",
       "3bdy.protein.H98H.Repair4.clean.pdb       0.140766   0.119415  \n",
       "3bdy.protein.H98K.Repair4.clean.pdb       0.291969   0.209196  \n",
       "3bdy.protein.H98M.Repair4.clean.pdb      -0.148407  -0.238640  \n",
       "3bdy.protein.H98W.Repair4.clean.pdb      -0.770250  -0.778916  \n",
       "3bdy.protein.H98Y.Repair4.clean.pdb      -0.386161  -0.354014  \n",
       "3bdy.protein.H99D.Repair4.clean.pdb       0.275495   0.205851  \n",
       "3bdy.protein.H99M.Repair4.clean.pdb       0.240564   0.165681  \n",
       "3bdy.protein.H99R.Repair4.clean.pdb      -0.063272  -0.028957  "
      ]
     },
     "execution_count": 49,
     "metadata": {},
     "output_type": "execute_result"
    }
   ],
   "source": [
    "pred_data_notna"
   ]
  },
  {
   "cell_type": "code",
   "execution_count": 50,
   "metadata": {
    "scrolled": true
   },
   "outputs": [
    {
     "data": {
      "text/plain": [
       "z-score          4.531425\n",
       "ddG_exp          0.000000\n",
       "Lasso_pred       0.666998\n",
       "gbt_pred         0.752879\n",
       "svr_pred         0.604330\n",
       "poly_pred        0.995778\n",
       "stacked_pred     0.743233\n",
       "avgModel_pred    0.739773\n",
       "mean-pred        0.714331\n",
       "dtype: float64"
      ]
     },
     "execution_count": 50,
     "metadata": {},
     "output_type": "execute_result"
    }
   ],
   "source": [
    "np.sqrt(pred_data_notna.apply(mean_squared_error,axis=0,args=(pred_data_notna[\"ddG_exp\"],)))"
   ]
  },
  {
   "cell_type": "code",
   "execution_count": 51,
   "metadata": {},
   "outputs": [
    {
     "data": {
      "text/plain": [
       "-0.4261708453940052"
      ]
     },
     "execution_count": 51,
     "metadata": {},
     "output_type": "execute_result"
    }
   ],
   "source": [
    "r2_score(pred_data_notna[\"ddG_exp\"],pred_data_notna[\"svr_pred\"])"
   ]
  },
  {
   "cell_type": "code",
   "execution_count": 52,
   "metadata": {},
   "outputs": [
    {
     "data": {
      "text/plain": [
       "<matplotlib.axes._subplots.AxesSubplot at 0x1a204a67b8>"
      ]
     },
     "execution_count": 52,
     "metadata": {},
     "output_type": "execute_result"
    },
    {
     "data": {
      "image/png": "[encoded data removed]",
      "text/plain": [
       "<Figure size 432x288 with 1 Axes>"
      ]
     },
     "metadata": {},
     "output_type": "display_data"
    }
   ],
   "source": [
    "sns.regplot(pred_data_notna[\"ddG_exp\"],pred_data_notna[\"stacked_pred\"])"
   ]
  },
  {
   "cell_type": "code",
   "execution_count": 53,
   "metadata": {
    "collapsed": true
   },
   "outputs": [],
   "source": [
    "mcsm_result = pd.read_table(\"../data/3bdy_mcsm_results.txt\")"
   ]
  },
  {
   "cell_type": "code",
   "execution_count": 54,
   "metadata": {},
   "outputs": [
    {
     "name": "stderr",
     "output_type": "stream",
     "text": [
      "/Users/vfica/miniconda3/envs/bio/lib/python3.6/site-packages/ipykernel_launcher.py:4: SettingWithCopyWarning: \n",
      "A value is trying to be set on a copy of a slice from a DataFrame.\n",
      "Try using .loc[row_indexer,col_indexer] = value instead\n",
      "\n",
      "See the caveats in the documentation: http://pandas.pydata.org/pandas-docs/stable/indexing.html#indexing-view-versus-copy\n",
      "  after removing the cwd from sys.path.\n"
     ]
    }
   ],
   "source": [
    "mcsm_result[\"mutant\"]= mcsm_result[\"CHAIN\"].astype(str)+mcsm_result[\"RES_POS\"].astype(str)+mcsm_result[\"MUT_RES\"].astype(str)\n",
    "mcsm_result = mcsm_result[[\"PRED_DDG\",\"mutant\"]]\n",
    "#merge data on mutant column\n",
    "pred_data_notna[\"mutant\"] = pred_data_notna.reset_index()[\"index\"].str.split(\".\",expand=True)[2].values"
   ]
  },
  {
   "cell_type": "code",
   "execution_count": 55,
   "metadata": {
    "collapsed": true,
    "scrolled": true
   },
   "outputs": [],
   "source": [
    "pred_data_final = pred_data_notna.merge(mcsm_result,on=\"mutant\")\n",
    "pred_data_final.set_index(\"mutant\",inplace=True)"
   ]
  },
  {
   "cell_type": "code",
   "execution_count": 56,
   "metadata": {},
   "outputs": [
    {
     "data": {
      "text/plain": [
       "-4.830391261430324"
      ]
     },
     "execution_count": 56,
     "metadata": {},
     "output_type": "execute_result"
    }
   ],
   "source": [
    "r2_score(pred_data_final[\"ddG_exp\"],pred_data_final[\"PRED_DDG\"])"
   ]
  },
  {
   "cell_type": "code",
   "execution_count": 57,
   "metadata": {},
   "outputs": [
    {
     "data": {
      "text/plain": [
       "1.221904183368456"
      ]
     },
     "execution_count": 57,
     "metadata": {},
     "output_type": "execute_result"
    }
   ],
   "source": [
    "np.sqrt(mean_squared_error(pred_data_final[\"ddG_exp\"],pred_data_final[\"PRED_DDG\"]))"
   ]
  },
  {
   "cell_type": "code",
   "execution_count": 58,
   "metadata": {},
   "outputs": [
    {
     "data": {
      "text/html": [
       "<div>\n",
       "<style scoped>\n",
       "    .dataframe tbody tr th:only-of-type {\n",
       "        vertical-align: middle;\n",
       "    }\n",
       "\n",
       "    .dataframe tbody tr th {\n",
       "        vertical-align: top;\n",
       "    }\n",
       "\n",
       "    .dataframe thead th {\n",
       "        text-align: right;\n",
       "    }\n",
       "</style>\n",
       "<table border=\"1\" class=\"dataframe\">\n",
       "  <thead>\n",
       "    <tr style=\"text-align: right;\">\n",
       "      <th></th>\n",
       "      <th>z-score</th>\n",
       "      <th>ddG_exp</th>\n",
       "      <th>Lasso_pred</th>\n",
       "      <th>gbt_pred</th>\n",
       "      <th>svr_pred</th>\n",
       "      <th>poly_pred</th>\n",
       "      <th>stacked_pred</th>\n",
       "      <th>avgModel_pred</th>\n",
       "      <th>mean-pred</th>\n",
       "      <th>PRED_DDG</th>\n",
       "    </tr>\n",
       "  </thead>\n",
       "  <tbody>\n",
       "    <tr>\n",
       "      <th>z-score</th>\n",
       "      <td>1.000000</td>\n",
       "      <td>0.632829</td>\n",
       "      <td>0.599963</td>\n",
       "      <td>0.725922</td>\n",
       "      <td>0.789752</td>\n",
       "      <td>0.767015</td>\n",
       "      <td>0.734873</td>\n",
       "      <td>0.789543</td>\n",
       "      <td>0.796857</td>\n",
       "      <td>0.273251</td>\n",
       "    </tr>\n",
       "    <tr>\n",
       "      <th>ddG_exp</th>\n",
       "      <td>0.632829</td>\n",
       "      <td>1.000000</td>\n",
       "      <td>0.593768</td>\n",
       "      <td>0.590840</td>\n",
       "      <td>0.742423</td>\n",
       "      <td>0.743441</td>\n",
       "      <td>0.523953</td>\n",
       "      <td>0.631683</td>\n",
       "      <td>0.744191</td>\n",
       "      <td>0.304147</td>\n",
       "    </tr>\n",
       "    <tr>\n",
       "      <th>Lasso_pred</th>\n",
       "      <td>0.599963</td>\n",
       "      <td>0.593768</td>\n",
       "      <td>1.000000</td>\n",
       "      <td>0.691513</td>\n",
       "      <td>0.898484</td>\n",
       "      <td>0.904885</td>\n",
       "      <td>0.920689</td>\n",
       "      <td>0.933193</td>\n",
       "      <td>0.935401</td>\n",
       "      <td>-0.128070</td>\n",
       "    </tr>\n",
       "    <tr>\n",
       "      <th>gbt_pred</th>\n",
       "      <td>0.725922</td>\n",
       "      <td>0.590840</td>\n",
       "      <td>0.691513</td>\n",
       "      <td>1.000000</td>\n",
       "      <td>0.635781</td>\n",
       "      <td>0.653636</td>\n",
       "      <td>0.763378</td>\n",
       "      <td>0.753234</td>\n",
       "      <td>0.762217</td>\n",
       "      <td>0.322703</td>\n",
       "    </tr>\n",
       "    <tr>\n",
       "      <th>svr_pred</th>\n",
       "      <td>0.789752</td>\n",
       "      <td>0.742423</td>\n",
       "      <td>0.898484</td>\n",
       "      <td>0.635781</td>\n",
       "      <td>1.000000</td>\n",
       "      <td>0.987504</td>\n",
       "      <td>0.846322</td>\n",
       "      <td>0.938841</td>\n",
       "      <td>0.979628</td>\n",
       "      <td>-0.010538</td>\n",
       "    </tr>\n",
       "    <tr>\n",
       "      <th>poly_pred</th>\n",
       "      <td>0.767015</td>\n",
       "      <td>0.743441</td>\n",
       "      <td>0.904885</td>\n",
       "      <td>0.653636</td>\n",
       "      <td>0.987504</td>\n",
       "      <td>1.000000</td>\n",
       "      <td>0.866063</td>\n",
       "      <td>0.953870</td>\n",
       "      <td>0.984178</td>\n",
       "      <td>0.037263</td>\n",
       "    </tr>\n",
       "    <tr>\n",
       "      <th>stacked_pred</th>\n",
       "      <td>0.734873</td>\n",
       "      <td>0.523953</td>\n",
       "      <td>0.920689</td>\n",
       "      <td>0.763378</td>\n",
       "      <td>0.846322</td>\n",
       "      <td>0.866063</td>\n",
       "      <td>1.000000</td>\n",
       "      <td>0.971505</td>\n",
       "      <td>0.904895</td>\n",
       "      <td>0.024330</td>\n",
       "    </tr>\n",
       "    <tr>\n",
       "      <th>avgModel_pred</th>\n",
       "      <td>0.789543</td>\n",
       "      <td>0.631683</td>\n",
       "      <td>0.933193</td>\n",
       "      <td>0.753234</td>\n",
       "      <td>0.938841</td>\n",
       "      <td>0.953870</td>\n",
       "      <td>0.971505</td>\n",
       "      <td>1.000000</td>\n",
       "      <td>0.971665</td>\n",
       "      <td>0.027045</td>\n",
       "    </tr>\n",
       "    <tr>\n",
       "      <th>mean-pred</th>\n",
       "      <td>0.796857</td>\n",
       "      <td>0.744191</td>\n",
       "      <td>0.935401</td>\n",
       "      <td>0.762217</td>\n",
       "      <td>0.979628</td>\n",
       "      <td>0.984178</td>\n",
       "      <td>0.904895</td>\n",
       "      <td>0.971665</td>\n",
       "      <td>1.000000</td>\n",
       "      <td>0.055056</td>\n",
       "    </tr>\n",
       "    <tr>\n",
       "      <th>PRED_DDG</th>\n",
       "      <td>0.273251</td>\n",
       "      <td>0.304147</td>\n",
       "      <td>-0.128070</td>\n",
       "      <td>0.322703</td>\n",
       "      <td>-0.010538</td>\n",
       "      <td>0.037263</td>\n",
       "      <td>0.024330</td>\n",
       "      <td>0.027045</td>\n",
       "      <td>0.055056</td>\n",
       "      <td>1.000000</td>\n",
       "    </tr>\n",
       "  </tbody>\n",
       "</table>\n",
       "</div>"
      ],
      "text/plain": [
       "                z-score   ddG_exp  Lasso_pred  gbt_pred  svr_pred  poly_pred  \\\n",
       "z-score        1.000000  0.632829    0.599963  0.725922  0.789752   0.767015   \n",
       "ddG_exp        0.632829  1.000000    0.593768  0.590840  0.742423   0.743441   \n",
       "Lasso_pred     0.599963  0.593768    1.000000  0.691513  0.898484   0.904885   \n",
       "gbt_pred       0.725922  0.590840    0.691513  1.000000  0.635781   0.653636   \n",
       "svr_pred       0.789752  0.742423    0.898484  0.635781  1.000000   0.987504   \n",
       "poly_pred      0.767015  0.743441    0.904885  0.653636  0.987504   1.000000   \n",
       "stacked_pred   0.734873  0.523953    0.920689  0.763378  0.846322   0.866063   \n",
       "avgModel_pred  0.789543  0.631683    0.933193  0.753234  0.938841   0.953870   \n",
       "mean-pred      0.796857  0.744191    0.935401  0.762217  0.979628   0.984178   \n",
       "PRED_DDG       0.273251  0.304147   -0.128070  0.322703 -0.010538   0.037263   \n",
       "\n",
       "               stacked_pred  avgModel_pred  mean-pred  PRED_DDG  \n",
       "z-score            0.734873       0.789543   0.796857  0.273251  \n",
       "ddG_exp            0.523953       0.631683   0.744191  0.304147  \n",
       "Lasso_pred         0.920689       0.933193   0.935401 -0.128070  \n",
       "gbt_pred           0.763378       0.753234   0.762217  0.322703  \n",
       "svr_pred           0.846322       0.938841   0.979628 -0.010538  \n",
       "poly_pred          0.866063       0.953870   0.984178  0.037263  \n",
       "stacked_pred       1.000000       0.971505   0.904895  0.024330  \n",
       "avgModel_pred      0.971505       1.000000   0.971665  0.027045  \n",
       "mean-pred          0.904895       0.971665   1.000000  0.055056  \n",
       "PRED_DDG           0.024330       0.027045   0.055056  1.000000  "
      ]
     },
     "execution_count": 58,
     "metadata": {},
     "output_type": "execute_result"
    }
   ],
   "source": [
    "pred_data_final.corr()"
   ]
  },
  {
   "cell_type": "code",
   "execution_count": 44,
   "metadata": {},
   "outputs": [
    {
     "data": {
      "text/plain": [
       "<matplotlib.axes._subplots.AxesSubplot at 0x7ffceae6d358>"
      ]
     },
     "execution_count": 44,
     "metadata": {},
     "output_type": "execute_result"
    },
    {
     "data": {
      "image/png": "[encoded data removed]",
      "text/plain": [
       "<Figure size 432x288 with 1 Axes>"
      ]
     },
     "metadata": {
      "needs_background": "light"
     },
     "output_type": "display_data"
    }
   ],
   "source": [
    "sns.regplot(pred_data_final[\"ddG_exp\"],pred_data_final[\"PRED_DDG\"])"
   ]
  }
 ],
 "metadata": {
  "kernelspec": {
   "display_name": "Python 3",
   "language": "python",
   "name": "python3"
  },
  "language_info": {
   "codemirror_mode": {
    "name": "ipython",
    "version": 3
   },
   "file_extension": ".py",
   "mimetype": "text/x-python",
   "name": "python",
   "nbconvert_exporter": "python",
   "pygments_lexer": "ipython3",
   "version": "3.6.7"
  }
 },
 "nbformat": 4,
 "nbformat_minor": 2
}
