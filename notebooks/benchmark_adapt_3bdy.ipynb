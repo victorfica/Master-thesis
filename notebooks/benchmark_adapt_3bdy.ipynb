{
 "cells": [
  {
   "cell_type": "code",
   "execution_count": 4,
   "metadata": {},
   "outputs": [],
   "source": [
    "import pandas as pd\n",
    "import numpy as np\n",
    "import os\n",
    "import prody\n",
    "import math\n",
    "\n",
    "from pathlib import Path\n",
    "import pickle\n",
    "import sys\n",
    "from sklearn.externals import joblib\n",
    "from sklearn.metrics import r2_score,mean_squared_error, mean_absolute_error,explained_variance_score\n",
    "\n",
    "# preproceessing\n",
    "from model_transformers import FeaturesInteractions,SkewTransformer,ZeroThreshold\n",
    "\n",
    "import seaborn as sns\n",
    "\n",
    "from mlxtend.plotting import plot_linear_regression\n",
    "%matplotlib inline\n"
   ]
  },
  {
   "cell_type": "code",
   "execution_count": 18,
   "metadata": {},
   "outputs": [],
   "source": [
    "from sklearn.base import BaseEstimator, TransformerMixin, RegressorMixin, clone\n",
    "\n",
    "class StackingAveragedModels(BaseEstimator, RegressorMixin, TransformerMixin):\n",
    "    def __init__(self, base_models, meta_model, n_folds=5):\n",
    "        self.base_models = base_models\n",
    "        self.meta_model = meta_model\n",
    "        self.n_folds = n_folds\n",
    "   \n",
    "    # We again fit the data on clones of the original models\n",
    "    def fit(self, X, y):\n",
    "        self.base_models_ = [list() for x in self.base_models]\n",
    "        self.meta_model_ = clone(self.meta_model)\n",
    "        kfold = KFold(n_splits=self.n_folds, shuffle=True, random_state=156)\n",
    "        \n",
    "        # Train cloned base models then create out-of-fold predictions\n",
    "        # that are needed to train the cloned meta-model\n",
    "        out_of_fold_predictions = np.zeros((X.shape[0], len(self.base_models)))\n",
    "        for i, model in enumerate(self.base_models):\n",
    "            for train_index, holdout_index in kfold.split(X, y):\n",
    "                instance = clone(model)\n",
    "                self.base_models_[i].append(instance)\n",
    "                instance.fit(X.iloc[train_index], y.iloc[train_index])\n",
    "                y_pred = instance.predict(X.iloc[holdout_index])\n",
    "                out_of_fold_predictions[holdout_index, i] = y_pred\n",
    "                \n",
    "        # Now train the cloned  meta-model using the out-of-fold predictions as new feature\n",
    "        self.meta_model_.fit(out_of_fold_predictions, y)\n",
    "        return self\n",
    "   \n",
    "    #Do the predictions of all base models on the test data and use the averaged predictions as \n",
    "    #meta-features for the final prediction which is done by the meta-model\n",
    "    def predict(self, X):\n",
    "        meta_features = np.column_stack([\n",
    "            np.column_stack([model.predict(X) for model in base_models]).mean(axis=1)\n",
    "            for base_models in self.base_models_ ])\n",
    "        return self.meta_model_.predict(meta_features)"
   ]
  },
  {
   "cell_type": "code",
   "execution_count": 5,
   "metadata": {},
   "outputs": [],
   "source": [
    "# Test data \n",
    "adapt_final = pd.read_csv('../data/ADAPT_3bdy_Test15.csv',index_col=0)"
   ]
  },
  {
   "cell_type": "code",
   "execution_count": 6,
   "metadata": {},
   "outputs": [],
   "source": [
    "# X and y data transformed to delta G\n",
    "X = adapt_final.drop([\"z-score\",\"ddG_exp\"],axis=1)"
   ]
  },
  {
   "cell_type": "code",
   "execution_count": 7,
   "metadata": {},
   "outputs": [
    {
     "data": {
      "text/plain": [
       "(77,)"
      ]
     },
     "execution_count": 7,
     "metadata": {},
     "output_type": "execute_result"
    }
   ],
   "source": [
    "X.columns.shape"
   ]
  },
  {
   "cell_type": "code",
   "execution_count": 19,
   "metadata": {},
   "outputs": [],
   "source": [
    "lasso_model = joblib.load('Lasso_train15skempiAB_FINAL.pkl')\n",
    "#elasticnet_model = joblib.load('elasticNet_train15skempiAB_FINAL.pkl')\n",
    "svr_model = joblib.load('rbfSVRmodel_train15skempiAB_FINAL.pkl')\n",
    "poly_model = joblib.load(\"poly2SVRmodel_train15skempiAB_FINAL.pkl\")\n",
    "gbt_model = joblib.load('GBTmodel_train15skempiAB_FINAL.overf.pkl')\n",
    "\n",
    "stackedModel = joblib.load('stacked_averaged_models_FINAL.pkl')"
   ]
  },
  {
   "cell_type": "code",
   "execution_count": 21,
   "metadata": {},
   "outputs": [],
   "source": [
    "lasso_pred = lasso_model.predict(X)\n",
    "#elasticnet_pred = elasticnet_model.predict(X)\n",
    "svr_pred = svr_model.predict(X)\n",
    "poly_pred = poly_model.predict(X)\n",
    "gbt_pred = gbt_model.predict(X)\n",
    "stacked_pred = stackedModel.predict(X)"
   ]
  },
  {
   "cell_type": "code",
   "execution_count": 22,
   "metadata": {},
   "outputs": [],
   "source": [
    "pred_stack = np.hstack([adapt_final[[\"z-score\",\"ddG_exp\"]].values,\n",
    "                        lasso_pred.reshape((-1,1)),gbt_pred.reshape((-1,1)),svr_pred.reshape((-1,1)),\n",
    "                        poly_pred.reshape((-1,1)),stacked_pred.reshape((-1,1))])\n",
    "pred_data = pd.DataFrame(pred_stack,columns=[\"z-score\",\"ddG_exp\",\"Lasso_pred\",\"gbt_pred\",\"svr_pred\",\"poly_pred\",\"stacked_pred\"],index=X.index)\n"
   ]
  },
  {
   "cell_type": "code",
   "execution_count": 23,
   "metadata": {},
   "outputs": [],
   "source": [
    "pred_data[\"mean-pred\"] = pred_data.loc[:,[\"Lasso_pred\",\"gbt_pred\",\"svr_pred\",\"poly_pred\"]].mean(axis=1)"
   ]
  },
  {
   "cell_type": "code",
   "execution_count": 24,
   "metadata": {},
   "outputs": [],
   "source": [
    "pred_data_notna = pred_data.dropna(axis=0)"
   ]
  },
  {
   "cell_type": "code",
   "execution_count": 25,
   "metadata": {
    "scrolled": true
   },
   "outputs": [
    {
     "data": {
      "text/html": [
       "<div>\n",
       "<style scoped>\n",
       "    .dataframe tbody tr th:only-of-type {\n",
       "        vertical-align: middle;\n",
       "    }\n",
       "\n",
       "    .dataframe tbody tr th {\n",
       "        vertical-align: top;\n",
       "    }\n",
       "\n",
       "    .dataframe thead th {\n",
       "        text-align: right;\n",
       "    }\n",
       "</style>\n",
       "<table border=\"1\" class=\"dataframe\">\n",
       "  <thead>\n",
       "    <tr style=\"text-align: right;\">\n",
       "      <th></th>\n",
       "      <th>z-score</th>\n",
       "      <th>ddG_exp</th>\n",
       "      <th>Lasso_pred</th>\n",
       "      <th>gbt_pred</th>\n",
       "      <th>svr_pred</th>\n",
       "      <th>poly_pred</th>\n",
       "      <th>stacked_pred</th>\n",
       "      <th>mean-pred</th>\n",
       "    </tr>\n",
       "  </thead>\n",
       "  <tbody>\n",
       "    <tr>\n",
       "      <th>3bdy.protein.H33M.Repair4.clean.pdb</th>\n",
       "      <td>-1.8</td>\n",
       "      <td>0.03</td>\n",
       "      <td>0.305526</td>\n",
       "      <td>0.554520</td>\n",
       "      <td>0.854456</td>\n",
       "      <td>1.387703</td>\n",
       "      <td>0.354587</td>\n",
       "      <td>0.775551</td>\n",
       "    </tr>\n",
       "    <tr>\n",
       "      <th>3bdy.protein.H33W.Repair4.clean.pdb</th>\n",
       "      <td>-2.4</td>\n",
       "      <td>-0.09</td>\n",
       "      <td>-0.130321</td>\n",
       "      <td>0.240917</td>\n",
       "      <td>0.144476</td>\n",
       "      <td>0.463919</td>\n",
       "      <td>-0.085761</td>\n",
       "      <td>0.179748</td>\n",
       "    </tr>\n",
       "    <tr>\n",
       "      <th>3bdy.protein.H52R.Repair4.clean.pdb</th>\n",
       "      <td>-2.4</td>\n",
       "      <td>0.30</td>\n",
       "      <td>0.312260</td>\n",
       "      <td>0.044420</td>\n",
       "      <td>0.991662</td>\n",
       "      <td>1.398749</td>\n",
       "      <td>0.329779</td>\n",
       "      <td>0.686773</td>\n",
       "    </tr>\n",
       "    <tr>\n",
       "      <th>3bdy.protein.H98F.Repair4.clean.pdb</th>\n",
       "      <td>-6.8</td>\n",
       "      <td>-1.18</td>\n",
       "      <td>0.113031</td>\n",
       "      <td>0.107277</td>\n",
       "      <td>-0.147059</td>\n",
       "      <td>0.340742</td>\n",
       "      <td>0.270432</td>\n",
       "      <td>0.103498</td>\n",
       "    </tr>\n",
       "    <tr>\n",
       "      <th>3bdy.protein.H98H.Repair4.clean.pdb</th>\n",
       "      <td>-4.3</td>\n",
       "      <td>-0.62</td>\n",
       "      <td>0.000236</td>\n",
       "      <td>0.099844</td>\n",
       "      <td>-0.034090</td>\n",
       "      <td>0.411669</td>\n",
       "      <td>-0.011663</td>\n",
       "      <td>0.119415</td>\n",
       "    </tr>\n",
       "    <tr>\n",
       "      <th>3bdy.protein.H98K.Repair4.clean.pdb</th>\n",
       "      <td>-4.1</td>\n",
       "      <td>-0.63</td>\n",
       "      <td>0.138372</td>\n",
       "      <td>0.108436</td>\n",
       "      <td>0.068275</td>\n",
       "      <td>0.521700</td>\n",
       "      <td>0.202436</td>\n",
       "      <td>0.209196</td>\n",
       "    </tr>\n",
       "    <tr>\n",
       "      <th>3bdy.protein.H98M.Repair4.clean.pdb</th>\n",
       "      <td>-6.5</td>\n",
       "      <td>-1.33</td>\n",
       "      <td>-0.181174</td>\n",
       "      <td>-0.234044</td>\n",
       "      <td>-0.472160</td>\n",
       "      <td>-0.067182</td>\n",
       "      <td>-0.245487</td>\n",
       "      <td>-0.238640</td>\n",
       "    </tr>\n",
       "    <tr>\n",
       "      <th>3bdy.protein.H98W.Repair4.clean.pdb</th>\n",
       "      <td>-8.5</td>\n",
       "      <td>-1.23</td>\n",
       "      <td>-0.479855</td>\n",
       "      <td>-0.699778</td>\n",
       "      <td>-1.141712</td>\n",
       "      <td>-0.794320</td>\n",
       "      <td>-1.151297</td>\n",
       "      <td>-0.778916</td>\n",
       "    </tr>\n",
       "    <tr>\n",
       "      <th>3bdy.protein.H98Y.Repair4.clean.pdb</th>\n",
       "      <td>-6.4</td>\n",
       "      <td>-0.76</td>\n",
       "      <td>-0.190341</td>\n",
       "      <td>0.119825</td>\n",
       "      <td>-0.812521</td>\n",
       "      <td>-0.533019</td>\n",
       "      <td>-0.432976</td>\n",
       "      <td>-0.354014</td>\n",
       "    </tr>\n",
       "    <tr>\n",
       "      <th>3bdy.protein.H99D.Repair4.clean.pdb</th>\n",
       "      <td>-1.6</td>\n",
       "      <td>-0.48</td>\n",
       "      <td>-0.078480</td>\n",
       "      <td>0.192432</td>\n",
       "      <td>0.057038</td>\n",
       "      <td>0.652414</td>\n",
       "      <td>0.069045</td>\n",
       "      <td>0.205851</td>\n",
       "    </tr>\n",
       "    <tr>\n",
       "      <th>3bdy.protein.H99M.Repair4.clean.pdb</th>\n",
       "      <td>-2.3</td>\n",
       "      <td>-0.48</td>\n",
       "      <td>0.013972</td>\n",
       "      <td>0.474101</td>\n",
       "      <td>-0.144338</td>\n",
       "      <td>0.318988</td>\n",
       "      <td>0.203294</td>\n",
       "      <td>0.165681</td>\n",
       "    </tr>\n",
       "    <tr>\n",
       "      <th>3bdy.protein.H99R.Repair4.clean.pdb</th>\n",
       "      <td>-7.6</td>\n",
       "      <td>-0.03</td>\n",
       "      <td>-0.070899</td>\n",
       "      <td>0.082293</td>\n",
       "      <td>-0.382283</td>\n",
       "      <td>0.255061</td>\n",
       "      <td>-0.156662</td>\n",
       "      <td>-0.028957</td>\n",
       "    </tr>\n",
       "  </tbody>\n",
       "</table>\n",
       "</div>"
      ],
      "text/plain": [
       "                                     z-score  ddG_exp  Lasso_pred  gbt_pred  \\\n",
       "3bdy.protein.H33M.Repair4.clean.pdb     -1.8     0.03    0.305526  0.554520   \n",
       "3bdy.protein.H33W.Repair4.clean.pdb     -2.4    -0.09   -0.130321  0.240917   \n",
       "3bdy.protein.H52R.Repair4.clean.pdb     -2.4     0.30    0.312260  0.044420   \n",
       "3bdy.protein.H98F.Repair4.clean.pdb     -6.8    -1.18    0.113031  0.107277   \n",
       "3bdy.protein.H98H.Repair4.clean.pdb     -4.3    -0.62    0.000236  0.099844   \n",
       "3bdy.protein.H98K.Repair4.clean.pdb     -4.1    -0.63    0.138372  0.108436   \n",
       "3bdy.protein.H98M.Repair4.clean.pdb     -6.5    -1.33   -0.181174 -0.234044   \n",
       "3bdy.protein.H98W.Repair4.clean.pdb     -8.5    -1.23   -0.479855 -0.699778   \n",
       "3bdy.protein.H98Y.Repair4.clean.pdb     -6.4    -0.76   -0.190341  0.119825   \n",
       "3bdy.protein.H99D.Repair4.clean.pdb     -1.6    -0.48   -0.078480  0.192432   \n",
       "3bdy.protein.H99M.Repair4.clean.pdb     -2.3    -0.48    0.013972  0.474101   \n",
       "3bdy.protein.H99R.Repair4.clean.pdb     -7.6    -0.03   -0.070899  0.082293   \n",
       "\n",
       "                                     svr_pred  poly_pred  stacked_pred  \\\n",
       "3bdy.protein.H33M.Repair4.clean.pdb  0.854456   1.387703      0.354587   \n",
       "3bdy.protein.H33W.Repair4.clean.pdb  0.144476   0.463919     -0.085761   \n",
       "3bdy.protein.H52R.Repair4.clean.pdb  0.991662   1.398749      0.329779   \n",
       "3bdy.protein.H98F.Repair4.clean.pdb -0.147059   0.340742      0.270432   \n",
       "3bdy.protein.H98H.Repair4.clean.pdb -0.034090   0.411669     -0.011663   \n",
       "3bdy.protein.H98K.Repair4.clean.pdb  0.068275   0.521700      0.202436   \n",
       "3bdy.protein.H98M.Repair4.clean.pdb -0.472160  -0.067182     -0.245487   \n",
       "3bdy.protein.H98W.Repair4.clean.pdb -1.141712  -0.794320     -1.151297   \n",
       "3bdy.protein.H98Y.Repair4.clean.pdb -0.812521  -0.533019     -0.432976   \n",
       "3bdy.protein.H99D.Repair4.clean.pdb  0.057038   0.652414      0.069045   \n",
       "3bdy.protein.H99M.Repair4.clean.pdb -0.144338   0.318988      0.203294   \n",
       "3bdy.protein.H99R.Repair4.clean.pdb -0.382283   0.255061     -0.156662   \n",
       "\n",
       "                                     mean-pred  \n",
       "3bdy.protein.H33M.Repair4.clean.pdb   0.775551  \n",
       "3bdy.protein.H33W.Repair4.clean.pdb   0.179748  \n",
       "3bdy.protein.H52R.Repair4.clean.pdb   0.686773  \n",
       "3bdy.protein.H98F.Repair4.clean.pdb   0.103498  \n",
       "3bdy.protein.H98H.Repair4.clean.pdb   0.119415  \n",
       "3bdy.protein.H98K.Repair4.clean.pdb   0.209196  \n",
       "3bdy.protein.H98M.Repair4.clean.pdb  -0.238640  \n",
       "3bdy.protein.H98W.Repair4.clean.pdb  -0.778916  \n",
       "3bdy.protein.H98Y.Repair4.clean.pdb  -0.354014  \n",
       "3bdy.protein.H99D.Repair4.clean.pdb   0.205851  \n",
       "3bdy.protein.H99M.Repair4.clean.pdb   0.165681  \n",
       "3bdy.protein.H99R.Repair4.clean.pdb  -0.028957  "
      ]
     },
     "execution_count": 25,
     "metadata": {},
     "output_type": "execute_result"
    }
   ],
   "source": [
    "pred_data_notna"
   ]
  },
  {
   "cell_type": "code",
   "execution_count": 26,
   "metadata": {},
   "outputs": [
    {
     "data": {
      "text/plain": [
       "-0.7399244834103826"
      ]
     },
     "execution_count": 26,
     "metadata": {},
     "output_type": "execute_result"
    }
   ],
   "source": [
    "r2_score(pred_data_notna[\"ddG_exp\"],pred_data_notna[\"stacked_pred\"])"
   ]
  },
  {
   "cell_type": "code",
   "execution_count": 19,
   "metadata": {},
   "outputs": [],
   "source": []
  },
  {
   "cell_type": "code",
   "execution_count": 27,
   "metadata": {},
   "outputs": [
    {
     "data": {
      "text/plain": [
       "0.667503429456691"
      ]
     },
     "execution_count": 27,
     "metadata": {},
     "output_type": "execute_result"
    }
   ],
   "source": [
    "np.sqrt(mean_squared_error(pred_data_notna[\"ddG_exp\"].values,pred_data_notna[\"stacked_pred\"].values))"
   ]
  },
  {
   "cell_type": "code",
   "execution_count": 40,
   "metadata": {},
   "outputs": [
    {
     "data": {
      "text/plain": [
       "0.551226129060646"
      ]
     },
     "execution_count": 40,
     "metadata": {},
     "output_type": "execute_result"
    }
   ],
   "source": [
    "explained_variance_score(pred_data_notna[\"ddG_exp\"].values,pred_data_notna[\"mean-pred\"].values)"
   ]
  },
  {
   "cell_type": "code",
   "execution_count": 29,
   "metadata": {},
   "outputs": [
    {
     "data": {
      "text/plain": [
       "<matplotlib.axes._subplots.AxesSubplot at 0x7f3b47abd198>"
      ]
     },
     "execution_count": 29,
     "metadata": {},
     "output_type": "execute_result"
    },
    {
     "data": {
      "image/png": "[encoded data removed]",
      "text/plain": [
       "<Figure size 432x288 with 1 Axes>"
      ]
     },
     "metadata": {
      "needs_background": "light"
     },
     "output_type": "display_data"
    }
   ],
   "source": [
    "sns.regplot(pred_data_notna[\"stacked_pred\"],pred_data_notna[\"ddG_exp\"])"
   ]
  },
  {
   "cell_type": "code",
   "execution_count": 45,
   "metadata": {},
   "outputs": [
    {
     "data": {
      "text/plain": [
       "6.123218092000492"
      ]
     },
     "execution_count": 45,
     "metadata": {},
     "output_type": "execute_result"
    }
   ],
   "source": [
    "np.square( pred_data_notna[\"mean-pred\"] - pred_data_notna[\"ddG_exp\"] ).sum()"
   ]
  },
  {
   "cell_type": "code",
   "execution_count": 46,
   "metadata": {},
   "outputs": [
    {
     "data": {
      "text/plain": [
       "3.072966666666666"
      ]
     },
     "execution_count": 46,
     "metadata": {},
     "output_type": "execute_result"
    }
   ],
   "source": [
    "np.square( pred_data_notna[\"ddG_exp\"] - pred_data_notna[\"ddG_exp\"].mean() ).sum()"
   ]
  },
  {
   "cell_type": "code",
   "execution_count": 49,
   "metadata": {},
   "outputs": [
    {
     "data": {
      "text/plain": [
       "3bdy.protein.H33M.Repair4.clean.pdb    0.571667\n",
       "3bdy.protein.H33W.Repair4.clean.pdb    0.451667\n",
       "3bdy.protein.H52R.Repair4.clean.pdb    0.841667\n",
       "3bdy.protein.H98F.Repair4.clean.pdb   -0.638333\n",
       "3bdy.protein.H98H.Repair4.clean.pdb   -0.078333\n",
       "3bdy.protein.H98K.Repair4.clean.pdb   -0.088333\n",
       "3bdy.protein.H98M.Repair4.clean.pdb   -0.788333\n",
       "3bdy.protein.H98W.Repair4.clean.pdb   -0.688333\n",
       "3bdy.protein.H98Y.Repair4.clean.pdb   -0.218333\n",
       "3bdy.protein.H99D.Repair4.clean.pdb    0.061667\n",
       "3bdy.protein.H99M.Repair4.clean.pdb    0.061667\n",
       "3bdy.protein.H99R.Repair4.clean.pdb    0.511667\n",
       "Name: ddG_exp, dtype: float64"
      ]
     },
     "execution_count": 49,
     "metadata": {},
     "output_type": "execute_result"
    }
   ],
   "source": [
    "pred_data_notna[\"ddG_exp\"] - pred_data_notna[\"ddG_exp\"].mean()"
   ]
  },
  {
   "cell_type": "code",
   "execution_count": 48,
   "metadata": {},
   "outputs": [
    {
     "data": {
      "text/plain": [
       "3bdy.protein.H33M.Repair4.clean.pdb    0.745551\n",
       "3bdy.protein.H33W.Repair4.clean.pdb    0.269748\n",
       "3bdy.protein.H52R.Repair4.clean.pdb    0.386773\n",
       "3bdy.protein.H98F.Repair4.clean.pdb    1.283498\n",
       "3bdy.protein.H98H.Repair4.clean.pdb    0.739415\n",
       "3bdy.protein.H98K.Repair4.clean.pdb    0.839196\n",
       "3bdy.protein.H98M.Repair4.clean.pdb    1.091360\n",
       "3bdy.protein.H98W.Repair4.clean.pdb    0.451084\n",
       "3bdy.protein.H98Y.Repair4.clean.pdb    0.405986\n",
       "3bdy.protein.H99D.Repair4.clean.pdb    0.685851\n",
       "3bdy.protein.H99M.Repair4.clean.pdb    0.645681\n",
       "3bdy.protein.H99R.Repair4.clean.pdb    0.001043\n",
       "dtype: float64"
      ]
     },
     "execution_count": 48,
     "metadata": {},
     "output_type": "execute_result"
    }
   ],
   "source": [
    "pred_data_notna[\"mean-pred\"] - pred_data_notna[\"ddG_exp\"]"
   ]
  },
  {
   "cell_type": "code",
   "execution_count": 30,
   "metadata": {},
   "outputs": [],
   "source": [
    "mcsm_result = pd.read_table(\"../data/3bdy_mcsm_results.txt\")"
   ]
  },
  {
   "cell_type": "code",
   "execution_count": 31,
   "metadata": {},
   "outputs": [],
   "source": [
    "mcsm_result[\"mutant\"]= mcsm_result[\"CHAIN\"].astype(str)+mcsm_result[\"RES_POS\"].astype(str)+mcsm_result[\"MUT_RES\"].astype(str)"
   ]
  },
  {
   "cell_type": "code",
   "execution_count": 32,
   "metadata": {},
   "outputs": [],
   "source": [
    "mcsm_result = mcsm_result[[\"PRED_DDG\",\"mutant\"]]"
   ]
  },
  {
   "cell_type": "code",
   "execution_count": 33,
   "metadata": {},
   "outputs": [
    {
     "data": {
      "text/plain": [
       "0     H33M\n",
       "1     H33W\n",
       "2     H52R\n",
       "3     H98F\n",
       "4     H98H\n",
       "5     H98K\n",
       "6     H98M\n",
       "7     H98W\n",
       "8     H98Y\n",
       "9     H99D\n",
       "10    H99M\n",
       "11    H99R\n",
       "Name: 2, dtype: object"
      ]
     },
     "execution_count": 33,
     "metadata": {},
     "output_type": "execute_result"
    }
   ],
   "source": [
    "pred_data_notna.reset_index()[\"index\"].str.split(\".\",expand=True)[2]"
   ]
  },
  {
   "cell_type": "code",
   "execution_count": 34,
   "metadata": {},
   "outputs": [
    {
     "name": "stderr",
     "output_type": "stream",
     "text": [
      "/home/vilion/miniconda3/envs/bio/lib/python3.6/site-packages/ipykernel_launcher.py:1: SettingWithCopyWarning: \n",
      "A value is trying to be set on a copy of a slice from a DataFrame.\n",
      "Try using .loc[row_indexer,col_indexer] = value instead\n",
      "\n",
      "See the caveats in the documentation: http://pandas.pydata.org/pandas-docs/stable/indexing.html#indexing-view-versus-copy\n",
      "  \"\"\"Entry point for launching an IPython kernel.\n"
     ]
    }
   ],
   "source": [
    "pred_data_notna[\"mutant\"] = pred_data_notna.reset_index()[\"index\"].str.split(\".\",expand=True)[2].values"
   ]
  },
  {
   "cell_type": "code",
   "execution_count": 35,
   "metadata": {
    "scrolled": true
   },
   "outputs": [],
   "source": [
    "pred_data_final = pred_data_notna.merge(mcsm_result,on=\"mutant\")\n",
    "pred_data_final.set_index(\"mutant\",inplace=True)"
   ]
  },
  {
   "cell_type": "code",
   "execution_count": 36,
   "metadata": {},
   "outputs": [
    {
     "data": {
      "text/plain": [
       "-4.830391261430324"
      ]
     },
     "execution_count": 36,
     "metadata": {},
     "output_type": "execute_result"
    }
   ],
   "source": [
    "r2_score(pred_data_final[\"ddG_exp\"],pred_data_final[\"PRED_DDG\"])"
   ]
  },
  {
   "cell_type": "code",
   "execution_count": 37,
   "metadata": {},
   "outputs": [
    {
     "data": {
      "text/plain": [
       "1.221904183368456"
      ]
     },
     "execution_count": 37,
     "metadata": {},
     "output_type": "execute_result"
    }
   ],
   "source": [
    "np.sqrt(mean_squared_error(pred_data_final[\"ddG_exp\"],pred_data_final[\"PRED_DDG\"]))"
   ]
  },
  {
   "cell_type": "code",
   "execution_count": 38,
   "metadata": {},
   "outputs": [
    {
     "data": {
      "text/html": [
       "<div>\n",
       "<style scoped>\n",
       "    .dataframe tbody tr th:only-of-type {\n",
       "        vertical-align: middle;\n",
       "    }\n",
       "\n",
       "    .dataframe tbody tr th {\n",
       "        vertical-align: top;\n",
       "    }\n",
       "\n",
       "    .dataframe thead th {\n",
       "        text-align: right;\n",
       "    }\n",
       "</style>\n",
       "<table border=\"1\" class=\"dataframe\">\n",
       "  <thead>\n",
       "    <tr style=\"text-align: right;\">\n",
       "      <th></th>\n",
       "      <th>z-score</th>\n",
       "      <th>ddG_exp</th>\n",
       "      <th>Lasso_pred</th>\n",
       "      <th>gbt_pred</th>\n",
       "      <th>svr_pred</th>\n",
       "      <th>poly_pred</th>\n",
       "      <th>stacked_pred</th>\n",
       "      <th>mean-pred</th>\n",
       "      <th>PRED_DDG</th>\n",
       "    </tr>\n",
       "  </thead>\n",
       "  <tbody>\n",
       "    <tr>\n",
       "      <th>z-score</th>\n",
       "      <td>1.000000</td>\n",
       "      <td>0.632829</td>\n",
       "      <td>0.599963</td>\n",
       "      <td>0.725922</td>\n",
       "      <td>0.789752</td>\n",
       "      <td>0.767015</td>\n",
       "      <td>0.686887</td>\n",
       "      <td>0.796857</td>\n",
       "      <td>0.273251</td>\n",
       "    </tr>\n",
       "    <tr>\n",
       "      <th>ddG_exp</th>\n",
       "      <td>0.632829</td>\n",
       "      <td>1.000000</td>\n",
       "      <td>0.593768</td>\n",
       "      <td>0.590840</td>\n",
       "      <td>0.742423</td>\n",
       "      <td>0.743441</td>\n",
       "      <td>0.516558</td>\n",
       "      <td>0.744191</td>\n",
       "      <td>0.304147</td>\n",
       "    </tr>\n",
       "    <tr>\n",
       "      <th>Lasso_pred</th>\n",
       "      <td>0.599963</td>\n",
       "      <td>0.593768</td>\n",
       "      <td>1.000000</td>\n",
       "      <td>0.691513</td>\n",
       "      <td>0.898484</td>\n",
       "      <td>0.904885</td>\n",
       "      <td>0.923135</td>\n",
       "      <td>0.935401</td>\n",
       "      <td>-0.128070</td>\n",
       "    </tr>\n",
       "    <tr>\n",
       "      <th>gbt_pred</th>\n",
       "      <td>0.725922</td>\n",
       "      <td>0.590840</td>\n",
       "      <td>0.691513</td>\n",
       "      <td>1.000000</td>\n",
       "      <td>0.635781</td>\n",
       "      <td>0.653636</td>\n",
       "      <td>0.811055</td>\n",
       "      <td>0.762217</td>\n",
       "      <td>0.322703</td>\n",
       "    </tr>\n",
       "    <tr>\n",
       "      <th>svr_pred</th>\n",
       "      <td>0.789752</td>\n",
       "      <td>0.742423</td>\n",
       "      <td>0.898484</td>\n",
       "      <td>0.635781</td>\n",
       "      <td>1.000000</td>\n",
       "      <td>0.987504</td>\n",
       "      <td>0.836146</td>\n",
       "      <td>0.979628</td>\n",
       "      <td>-0.010538</td>\n",
       "    </tr>\n",
       "    <tr>\n",
       "      <th>poly_pred</th>\n",
       "      <td>0.767015</td>\n",
       "      <td>0.743441</td>\n",
       "      <td>0.904885</td>\n",
       "      <td>0.653636</td>\n",
       "      <td>0.987504</td>\n",
       "      <td>1.000000</td>\n",
       "      <td>0.858224</td>\n",
       "      <td>0.984178</td>\n",
       "      <td>0.037263</td>\n",
       "    </tr>\n",
       "    <tr>\n",
       "      <th>stacked_pred</th>\n",
       "      <td>0.686887</td>\n",
       "      <td>0.516558</td>\n",
       "      <td>0.923135</td>\n",
       "      <td>0.811055</td>\n",
       "      <td>0.836146</td>\n",
       "      <td>0.858224</td>\n",
       "      <td>1.000000</td>\n",
       "      <td>0.907629</td>\n",
       "      <td>0.009498</td>\n",
       "    </tr>\n",
       "    <tr>\n",
       "      <th>mean-pred</th>\n",
       "      <td>0.796857</td>\n",
       "      <td>0.744191</td>\n",
       "      <td>0.935401</td>\n",
       "      <td>0.762217</td>\n",
       "      <td>0.979628</td>\n",
       "      <td>0.984178</td>\n",
       "      <td>0.907629</td>\n",
       "      <td>1.000000</td>\n",
       "      <td>0.055056</td>\n",
       "    </tr>\n",
       "    <tr>\n",
       "      <th>PRED_DDG</th>\n",
       "      <td>0.273251</td>\n",
       "      <td>0.304147</td>\n",
       "      <td>-0.128070</td>\n",
       "      <td>0.322703</td>\n",
       "      <td>-0.010538</td>\n",
       "      <td>0.037263</td>\n",
       "      <td>0.009498</td>\n",
       "      <td>0.055056</td>\n",
       "      <td>1.000000</td>\n",
       "    </tr>\n",
       "  </tbody>\n",
       "</table>\n",
       "</div>"
      ],
      "text/plain": [
       "               z-score   ddG_exp  Lasso_pred  gbt_pred  svr_pred  poly_pred  \\\n",
       "z-score       1.000000  0.632829    0.599963  0.725922  0.789752   0.767015   \n",
       "ddG_exp       0.632829  1.000000    0.593768  0.590840  0.742423   0.743441   \n",
       "Lasso_pred    0.599963  0.593768    1.000000  0.691513  0.898484   0.904885   \n",
       "gbt_pred      0.725922  0.590840    0.691513  1.000000  0.635781   0.653636   \n",
       "svr_pred      0.789752  0.742423    0.898484  0.635781  1.000000   0.987504   \n",
       "poly_pred     0.767015  0.743441    0.904885  0.653636  0.987504   1.000000   \n",
       "stacked_pred  0.686887  0.516558    0.923135  0.811055  0.836146   0.858224   \n",
       "mean-pred     0.796857  0.744191    0.935401  0.762217  0.979628   0.984178   \n",
       "PRED_DDG      0.273251  0.304147   -0.128070  0.322703 -0.010538   0.037263   \n",
       "\n",
       "              stacked_pred  mean-pred  PRED_DDG  \n",
       "z-score           0.686887   0.796857  0.273251  \n",
       "ddG_exp           0.516558   0.744191  0.304147  \n",
       "Lasso_pred        0.923135   0.935401 -0.128070  \n",
       "gbt_pred          0.811055   0.762217  0.322703  \n",
       "svr_pred          0.836146   0.979628 -0.010538  \n",
       "poly_pred         0.858224   0.984178  0.037263  \n",
       "stacked_pred      1.000000   0.907629  0.009498  \n",
       "mean-pred         0.907629   1.000000  0.055056  \n",
       "PRED_DDG          0.009498   0.055056  1.000000  "
      ]
     },
     "execution_count": 38,
     "metadata": {},
     "output_type": "execute_result"
    }
   ],
   "source": [
    "pred_data_final.corr()"
   ]
  },
  {
   "cell_type": "code",
   "execution_count": 44,
   "metadata": {},
   "outputs": [
    {
     "data": {
      "text/plain": [
       "<matplotlib.axes._subplots.AxesSubplot at 0x7ffceae6d358>"
      ]
     },
     "execution_count": 44,
     "metadata": {},
     "output_type": "execute_result"
    },
    {
     "data": {
      "image/png": "[encoded data removed]",
      "text/plain": [
       "<Figure size 432x288 with 1 Axes>"
      ]
     },
     "metadata": {
      "needs_background": "light"
     },
     "output_type": "display_data"
    }
   ],
   "source": [
    "sns.regplot(pred_data_final[\"ddG_exp\"],pred_data_final[\"PRED_DDG\"])"
   ]
  }
 ],
 "metadata": {
  "kernelspec": {
   "display_name": "Python 3",
   "language": "python",
   "name": "python3"
  },
  "language_info": {
   "codemirror_mode": {
    "name": "ipython",
    "version": 3
   },
   "file_extension": ".py",
   "mimetype": "text/x-python",
   "name": "python",
   "nbconvert_exporter": "python",
   "pygments_lexer": "ipython3",
   "version": "3.6.6"
  }
 },
 "nbformat": 4,
 "nbformat_minor": 2
}
