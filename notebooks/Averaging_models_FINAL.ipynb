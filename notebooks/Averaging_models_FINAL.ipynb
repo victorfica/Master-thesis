{
 "cells": [
  {
   "cell_type": "code",
   "execution_count": 1,
   "metadata": {},
   "outputs": [],
   "source": [
    "import pandas as pd\n",
    "import numpy as np\n",
    "# ML algorithms\n",
    "from sklearn.ensemble import GradientBoostingRegressor\n",
    "from sklearn.svm import SVR\n",
    "from sklearn.linear_model import Lasso\n",
    "from xgboost import XGBRegressor\n",
    "\n",
    "# ML functions\n",
    "from sklearn.model_selection import train_test_split\n",
    "from sklearn.model_selection import RepeatedKFold,GridSearchCV\n",
    "from sklearn.pipeline import make_pipeline\n",
    "from sklearn.preprocessing import QuantileTransformer\n",
    "from sklearn.metrics import mean_squared_error,r2_score"
   ]
  },
  {
   "cell_type": "code",
   "execution_count": 2,
   "metadata": {},
   "outputs": [
    {
     "data": {
      "text/plain": [
       "(1392, 78)"
      ]
     },
     "execution_count": 2,
     "metadata": {},
     "output_type": "execute_result"
    }
   ],
   "source": [
    "\n",
    "#dataframe final\n",
    "df_final = pd.read_csv(\"../data/DF_train15noChangeContact_skempiAB_modeller_final.csv\",index_col=0)\n",
    "\n",
    "\n",
    "pdb_names = df_final.index\n",
    "features_names = df_final.drop('ddG_exp',axis=1).columns\n",
    "df_final.shape"
   ]
  },
  {
   "cell_type": "code",
   "execution_count": 3,
   "metadata": {},
   "outputs": [],
   "source": [
    "# Split train and independent test data\n",
    "\n",
    "X_train, X_test, y_train, y_test = train_test_split(df_final.drop('ddG_exp',axis=1), df_final['ddG_exp'], \n",
    "                                                    test_size=0.2, random_state=13)           "
   ]
  },
  {
   "cell_type": "code",
   "execution_count": 4,
   "metadata": {},
   "outputs": [],
   "source": [
    "# join train data for Exploratory analisis of training data\n",
    "train = X_train.join(y_train)"
   ]
  },
  {
   "cell_type": "code",
   "execution_count": 5,
   "metadata": {},
   "outputs": [],
   "source": [
    "# Drop outliers\n",
    "train = train.drop(train[(train['van_der_waals_change']>3)].index)\n",
    "train = train.drop(train[(train['dg_change'].abs()>8)].index)\n"
   ]
  },
  {
   "cell_type": "code",
   "execution_count": 6,
   "metadata": {},
   "outputs": [],
   "source": [
    "y_train = train['ddG_exp']\n",
    "X_train = train.drop('ddG_exp',axis=1)"
   ]
  },
  {
   "cell_type": "code",
   "execution_count": 7,
   "metadata": {},
   "outputs": [],
   "source": [
    "from sklearn.base import BaseEstimator, TransformerMixin\n",
    "\n",
    "class FeaturesInteractions(BaseEstimator, TransformerMixin):\n",
    "    \n",
    "    #Class constructor method that takes ..\n",
    "    def __init__(self, interaction1, interaction2 ):\n",
    "        self.interaction1 = interaction1\n",
    "        self.interaction2 = interaction2\n",
    "        \n",
    "    #Return self nothing else to do here\n",
    "    def fit( self, X, y = None  ):\n",
    "        \n",
    "        return self\n",
    "    \n",
    "    def transform(self, X , y=None ):\n",
    "        \n",
    "        X_interactions = X.loc[:,self.interaction1].mul(X[self.interaction2],axis=0)\n",
    "        X_interactions.columns = X_interactions.columns.values+'/{}'.format(self.interaction2)\n",
    "        # set columns names\n",
    "        \n",
    "        X = X.join(X_interactions)\n",
    "        \n",
    "        return X\n",
    "    \n",
    "class SkewTransformer(BaseEstimator, TransformerMixin):\n",
    "    \n",
    "    def __init__(self, threshold=0.6, method='quantile'):\n",
    "        self.threshold = threshold\n",
    "        self.method = method\n",
    "        \n",
    "    #Return self nothing else to do here\n",
    "    def fit(self, X, y = None  ):\n",
    "        skewes_ = X.skew().sort_values(ascending=False)\n",
    "        self.skew_features = skewes_[skewes_.abs() > self.threshold]\n",
    "        \n",
    "        if self.method == 'quantile':\n",
    "            self.t = QuantileTransformer(output_distribution=\"normal\",random_state=13)\n",
    "            self.t.fit(X[self.skew_features.index])\n",
    "        \n",
    "        return self\n",
    "    \n",
    "    def transform(self, X, y=None):\n",
    "        \n",
    "        X[self.skew_features.index] = self.t.transform(X[self.skew_features.index])\n",
    "        \n",
    "        return X\n",
    "        \n",
    "class ZeroThreshold(BaseEstimator, TransformerMixin):\n",
    "    \n",
    "    def __init__(self, threshold=90.):\n",
    "        self.threshold = threshold\n",
    "    \n",
    "    \n",
    "    def fit(self, X, y = None  ):\n",
    "        \n",
    "        self.feature_names = X.columns\n",
    "        self.overfit = []\n",
    "        for i in X.columns:\n",
    "            counts = X[i].value_counts()\n",
    "            zeros = counts.iloc[0]\n",
    "            if zeros / len(X) * 100 >self.threshold:\n",
    "                self.overfit.append(i)\n",
    "        \n",
    "        return self\n",
    "    \n",
    "    def transform(self, X, y=None):\n",
    "        \n",
    "        X.drop(self.overfit,axis=1,inplace=True)\n",
    "        \n",
    "        return X\n",
    "\n",
    "\n"
   ]
  },
  {
   "cell_type": "code",
   "execution_count": 8,
   "metadata": {},
   "outputs": [
    {
     "data": {
      "text/plain": [
       "((1109, 77), (1109,), (279, 77), (279,))"
      ]
     },
     "execution_count": 8,
     "metadata": {},
     "output_type": "execute_result"
    }
   ],
   "source": [
    "X_train.shape, y_train.shape, X_test.shape, y_test.shape"
   ]
  },
  {
   "cell_type": "code",
   "execution_count": 52,
   "metadata": {},
   "outputs": [
    {
     "name": "stdout",
     "output_type": "stream",
     "text": [
      "Fitting 100 folds for each of 1 candidates, totalling 100 fits\n"
     ]
    },
    {
     "name": "stderr",
     "output_type": "stream",
     "text": [
      "[Parallel(n_jobs=-1)]: Using backend LokyBackend with 4 concurrent workers.\n",
      "[Parallel(n_jobs=-1)]: Done  10 tasks      | elapsed:    7.1s\n",
      "[Parallel(n_jobs=-1)]: Done  64 tasks      | elapsed:   18.9s\n",
      "[Parallel(n_jobs=-1)]: Done 100 out of 100 | elapsed:   27.0s finished\n"
     ]
    },
    {
     "data": {
      "text/plain": [
       "GridSearchCV(cv=<sklearn.model_selection._split.RepeatedKFold object at 0x7fd6d806c390>,\n",
       "       error_score='raise-deprecating',\n",
       "       estimator=Pipeline(memory=None,\n",
       "     steps=[('featuresinteractions', FeaturesInteractions(interaction1=['clash', 'covalent', 'vdw_clash', 'vdw', 'proximal', 'hbond', 'weak_hbond', 'xbond', 'ionic', 'metal_complex', 'aromatic', 'hydrophobic', 'carbonyl', 'polar', 'weak_polar'],\n",
       "           interaction2='van_der_waals_change')), ('skewtra...\n",
       "       reg_alpha=0, reg_lambda=1, scale_pos_weight=1, seed=None,\n",
       "       silent=True, subsample=1))]),\n",
       "       fit_params=None, iid='warn', n_jobs=-1,\n",
       "       param_grid={'xgbregressor__max_depth': [5], 'xgbregressor__gamma': [0.6], 'xgbregressor__min_child_weight': [15], 'xgbregressor__colsample_bytree': [0.4], 'xgbregressor__n_estimators': [100], 'xgbregressor__subsample': [0.6], 'xgbregressor__learning_rate': [0.05], 'xgbregressor__objective': ['reg:linear'], 'xgbregressor__n_jobs': [-1], 'xgbregressor__reg_alpha': [8], 'xgbregressor__random_state': [13]},\n",
       "       pre_dispatch='2*n_jobs', refit='neg_mean_squared_error',\n",
       "       return_train_score=True, scoring=['neg_mean_squared_error', 'r2'],\n",
       "       verbose=5)"
      ]
     },
     "execution_count": 52,
     "metadata": {},
     "output_type": "execute_result"
    }
   ],
   "source": [
    "#1)  ORIGINAL\n",
    "## Pipeline preprocessing\n",
    "interactions = FeaturesInteractions(interaction1=X_train.columns[:15].tolist(),interaction2=\"van_der_waals_change\")\n",
    "skewness = SkewTransformer(threshold=0.6,method='quantile')\n",
    "zeroth = ZeroThreshold(threshold=90.)\n",
    "\n",
    "\n",
    "#2)\n",
    "model_ = XGBRegressor()\n",
    "#3) Crear pipeline\n",
    "pipeline1 = make_pipeline(interactions,skewness,zeroth, model_)\n",
    "\n",
    "\n",
    "\n",
    "param_grid = {\n",
    "    'xgbregressor__max_depth': [5],\n",
    "    'xgbregressor__gamma': [0.6],\n",
    "    'xgbregressor__min_child_weight': [15],\n",
    "    'xgbregressor__colsample_bytree': [0.4],\n",
    "    'xgbregressor__n_estimators': [100],\n",
    "    'xgbregressor__subsample':[0.6],\n",
    "    'xgbregressor__learning_rate':[0.05],\n",
    "    'xgbregressor__objective':[\"reg:linear\"],\n",
    "    'xgbregressor__n_jobs':[-1],\n",
    "    'xgbregressor__reg_alpha':[8],\n",
    "    'xgbregressor__random_state':[13]}\n",
    "    \n",
    "cv = RepeatedKFold(n_splits=10,n_repeats=10,random_state=13)\n",
    "\n",
    "# Instantiate the grid search model\n",
    "grid1 = GridSearchCV(pipeline1, param_grid, verbose=5, n_jobs=-1,cv=cv,scoring=['neg_mean_squared_error','r2'],\n",
    "                        refit='neg_mean_squared_error',return_train_score=True)\n",
    "\n",
    "grid1.fit(X_train,y_train)"
   ]
  },
  {
   "cell_type": "code",
   "execution_count": 54,
   "metadata": {},
   "outputs": [
    {
     "name": "stdout",
     "output_type": "stream",
     "text": [
      "CV test RMSE 1.628222 +/- 0.793555\n",
      "CV train RMSE 1.203674 +/- 0.190291\n",
      "DIFF RMSE 0.4245483017836311\n",
      "CV test r2 0.244153 +/- 0.076445\n",
      "CV train r2 0.590098 +/- 0.006518\n",
      "0.3459456755434931\n",
      " {'xgbregressor__colsample_bytree': 0.4, 'xgbregressor__gamma': 0.6, 'xgbregressor__learning_rate': 0.05, 'xgbregressor__max_depth': 5, 'xgbregressor__min_child_weight': 15, 'xgbregressor__n_estimators': 100, 'xgbregressor__n_jobs': -1, 'xgbregressor__objective': 'reg:linear', 'xgbregressor__random_state': 13, 'xgbregressor__reg_alpha': 8, 'xgbregressor__subsample': 0.6}\n",
      "\n",
      "RMSE for test dataset: 1.63\n",
      "RMSE for train dataset: 1.2\n",
      "pearson corr  0.591582\n",
      "R2 test 0.32830559494034417\n",
      "R2 train 0.5936342543005289\n"
     ]
    }
   ],
   "source": [
    "# index of best scores\n",
    "rmse_bestCV_test_index = grid1.cv_results_['mean_test_neg_mean_squared_error'].argmax()\n",
    "rmse_bestCV_train_index = grid1.cv_results_['mean_train_neg_mean_squared_error'].argmax()\n",
    "r2_bestCV_test_index = grid1.cv_results_['mean_test_r2'].argmax()\n",
    "r2_bestCV_train_index = grid1.cv_results_['mean_train_r2'].argmax()\n",
    "# scores\n",
    "rmse_bestCV_test_score = grid1.cv_results_['mean_test_neg_mean_squared_error'][rmse_bestCV_test_index]\n",
    "rmse_bestCV_test_std = grid1.cv_results_['std_test_neg_mean_squared_error'][rmse_bestCV_test_index]\n",
    "rmse_bestCV_train_score = grid1.cv_results_['mean_train_neg_mean_squared_error'][rmse_bestCV_train_index]\n",
    "rmse_bestCV_train_std = grid1.cv_results_['std_train_neg_mean_squared_error'][rmse_bestCV_train_index]\n",
    "\n",
    "r2_bestCV_test_score = grid1.cv_results_['mean_test_r2'][r2_bestCV_test_index]\n",
    "r2_bestCV_test_std = grid1.cv_results_['std_test_r2'][r2_bestCV_test_index]\n",
    "r2_bestCV_train_score = grid1.cv_results_['mean_train_r2'][r2_bestCV_train_index]\n",
    "r2_bestCV_train_std = grid1.cv_results_['std_train_r2'][r2_bestCV_train_index]\n",
    "\n",
    "print('CV test RMSE {:f} +/- {:f}'.format(np.sqrt(-rmse_bestCV_test_score),np.sqrt(rmse_bestCV_test_std)))\n",
    "print('CV train RMSE {:f} +/- {:f}'.format(np.sqrt(-rmse_bestCV_train_score),np.sqrt(rmse_bestCV_train_std)))\n",
    "print('DIFF RMSE {}'.format(np.sqrt(-rmse_bestCV_test_score)-np.sqrt(-rmse_bestCV_train_score)))\n",
    "print('CV test r2 {:f} +/- {:f}'.format(r2_bestCV_test_score,r2_bestCV_test_std))\n",
    "print('CV train r2 {:f} +/- {:f}'.format(r2_bestCV_train_score,r2_bestCV_train_std))\n",
    "\n",
    "print(r2_bestCV_train_score-r2_bestCV_test_score)\n",
    "print(\"\",grid1.best_params_)\n",
    "y_test_pred = grid1.best_estimator_.predict(X_test)\n",
    "y_train_pred = grid1.best_estimator_.predict(X_train)\n",
    "print(\"\\nRMSE for test dataset: {}\".format(np.round(np.sqrt(mean_squared_error(y_test, y_test_pred)), 2)))\n",
    "print(\"RMSE for train dataset: {}\".format(np.round(np.sqrt(mean_squared_error(y_train, y_train_pred)), 2)))\n",
    "print(\"pearson corr  {:f}\".format(np.corrcoef(y_test_pred,y_test.values.ravel())[0][1]))\n",
    "print('R2 test',r2_score(y_test,y_test_pred))\n",
    "print('R2 train',r2_score(y_train,y_train_pred))"
   ]
  },
  {
   "cell_type": "code",
   "execution_count": 121,
   "metadata": {},
   "outputs": [],
   "source": [
    "XGBRegressor?"
   ]
  },
  {
   "cell_type": "code",
   "execution_count": 64,
   "metadata": {},
   "outputs": [],
   "source": [
    "CV test RMSE 1.650335 +/- 0.801954\n",
    "CV train RMSE 1.236560 +/- 0.197516\n",
    "DIFF RMSE 0.4137747464076824\n",
    "CV test r2 0.223925 +/- 0.070645\n",
    "CV train r2 0.567368 +/- 0.008590\n",
    "0.34344367329511466\n",
    " {'xgbregressor__colsample_bytree': 0.7, 'xgbregressor__gamma': 0.3, 'xgbregressor__learning_rate': 0.05, 'xgbregressor__max_depth': 6, 'xgbregressor__min_child_weight': 1, 'xgbregressor__n_estimators': 50, 'xgbregressor__n_jobs': -1, 'xgbregressor__objective': 'reg:linear', 'xgbregressor__random_state': 13, 'xgbregressor__reg_alpha': 5.5, 'xgbregressor__subsample': 0.5}\n",
    "\n",
    "RMSE for test dataset: 1.68\n",
    "RMSE for train dataset: 1.24\n",
    "pearson corr  0.577669\n",
    "R2 test 0.2887416177917681\n",
    "R2 train 0.5675458846465653"
   ]
  }
 ],
 "metadata": {
  "kernelspec": {
   "display_name": "Python 3",
   "language": "python",
   "name": "python3"
  },
  "language_info": {
   "codemirror_mode": {
    "name": "ipython",
    "version": 3
   },
   "file_extension": ".py",
   "mimetype": "text/x-python",
   "name": "python",
   "nbconvert_exporter": "python",
   "pygments_lexer": "ipython3",
   "version": "3.6.6"
  }
 },
 "nbformat": 4,
 "nbformat_minor": 2
}
