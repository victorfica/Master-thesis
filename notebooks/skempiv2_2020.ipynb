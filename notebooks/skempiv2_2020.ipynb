{
 "cells": [
  {
   "cell_type": "code",
   "execution_count": 1,
   "metadata": {
    "collapsed": true
   },
   "outputs": [],
   "source": [
    "import pandas as pd\n",
    "import math\n",
    "import numpy as np\n",
    "import seaborn as sns\n",
    "from scipy import stats\n",
    "%matplotlib inline"
   ]
  },
  {
   "cell_type": "code",
   "execution_count": 2,
   "metadata": {
    "collapsed": true
   },
   "outputs": [],
   "source": [
    "# def Kd_to_deltaG(Kd):\n",
    "#     if Kd > 0:\n",
    "#         deltaG = (math.log10(Kd)*(1.98*298.15))/1000\n",
    "#         return deltaG\n",
    "#     else:\n",
    "#         deltaG = 0\n",
    "#         return deltaG\n",
    "    \n"
   ]
  },
  {
   "cell_type": "code",
   "execution_count": 3,
   "metadata": {
    "collapsed": true
   },
   "outputs": [],
   "source": [
    "def Kd_2_dG(Kd):\n",
    "    deltaG = np.log(Kd)*(8.314/4184)*(298.15)\n",
    "    \n",
    "    return deltaG"
   ]
  },
  {
   "cell_type": "code",
   "execution_count": 29,
   "metadata": {
    "collapsed": true
   },
   "outputs": [],
   "source": [
    "df = pd.read_csv(\"../data/skempi_v2.csv\",sep=\";\",engine='python')"
   ]
  },
  {
   "cell_type": "code",
   "execution_count": 30,
   "metadata": {
    "collapsed": true
   },
   "outputs": [],
   "source": [
    "df['Affinity_mut (M)'] = df['Affinity_mut (M)'].str.replace(',','.')\n",
    "df['Affinity_wt (M)'] = df['Affinity_wt (M)'].str.replace(',','.')\n",
    "\n",
    "df['Affinity_mut (M)'] = df['Affinity_mut (M)'].str.replace('>','')\n",
    "df['Affinity_wt (M)']= df['Affinity_wt (M)'].str.replace('>','')\n",
    "\n",
    "\n",
    "#df['Affinity_mut (M)'] = df['Affinity_mut (M)'].str.replace('n.b','0')\n",
    "df['Affinity_mut (M)'] = df['Affinity_mut (M)'].str.replace('<','')\n",
    "df['Affinity_wt (M)']= df['Affinity_wt (M)'].str.replace('<','')\n",
    "\n",
    "df['Affinity_mut (M)'] = df['Affinity_mut (M)'].str.replace('~','')\n",
    "df['Affinity_wt (M)']= df['Affinity_wt (M)'].str.replace('~','')\n",
    "\n",
    "df = df.loc[-(df['Affinity_mut (M)'] == 'unf')]\n",
    "df = df.loc[-(df['Affinity_wt (M)'] == 'unf')]\n",
    "\n",
    "df = df.loc[-(df['Affinity_mut (M)'].str.startswith('n.b'))]\n",
    "df = df.loc[-(df['Affinity_wt (M)'].str.startswith('n.b'))]\n",
    "\n",
    "df['Affinity_mut (M)'] = df['Affinity_mut (M)'].astype(float)\n",
    "df['Affinity_wt (M)'] = df['Affinity_wt (M)'].astype(float)"
   ]
  },
  {
   "cell_type": "code",
   "execution_count": 31,
   "metadata": {
    "collapsed": true
   },
   "outputs": [],
   "source": [
    "#df2 = df.loc[-(df[\"Affinity_mut (M)\"] == 0.0)]"
   ]
  },
  {
   "cell_type": "code",
   "execution_count": 32,
   "metadata": {
    "collapsed": true,
    "scrolled": true
   },
   "outputs": [],
   "source": [
    "#df2.loc[df2['Mutation(s)_PDB'].str.split(',').str.len()==1]"
   ]
  },
  {
   "cell_type": "code",
   "execution_count": 33,
   "metadata": {
    "collapsed": true
   },
   "outputs": [],
   "source": [
    "#df2.loc[(df2.ddG.abs() > 6)]"
   ]
  },
  {
   "cell_type": "code",
   "execution_count": 34,
   "metadata": {},
   "outputs": [
    {
     "data": {
      "text/plain": [
       "array(['Pr/PI', nan, 'AB/AG', 'AB/AG,Pr/PI', 'TCR/pMHC'], dtype=object)"
      ]
     },
     "execution_count": 34,
     "metadata": {},
     "output_type": "execute_result"
    }
   ],
   "source": [
    "df['Hold_out_type'].unique()"
   ]
  },
  {
   "cell_type": "code",
   "execution_count": 35,
   "metadata": {},
   "outputs": [
    {
     "data": {
      "text/plain": [
       "(797, 29)"
      ]
     },
     "execution_count": 35,
     "metadata": {},
     "output_type": "execute_result"
    }
   ],
   "source": [
    "ab_data = df.loc[(df['Hold_out_type'] == 'AB/AG,Pr/PI') | (df['Hold_out_type'] == 'AB/AG')]\n",
    "ab_data_singleMut = ab_data.loc[ab_data['Mutation(s)_PDB'].str.split(',').str.len()==1].copy()\n",
    "ab_data_singleMut.shape"
   ]
  },
  {
   "cell_type": "code",
   "execution_count": 36,
   "metadata": {},
   "outputs": [
    {
     "data": {
      "text/plain": [
       "(797, 30)"
      ]
     },
     "execution_count": 36,
     "metadata": {},
     "output_type": "execute_result"
    }
   ],
   "source": [
    "ab_data_singleMut['ddG'] = ab_data_singleMut['Affinity_mut (M)'].apply(Kd_2_dG) - ab_data_singleMut['Affinity_wt (M)'].apply(Kd_2_dG)\n",
    "ab_data_singleMut.shape"
   ]
  },
  {
   "cell_type": "code",
   "execution_count": 37,
   "metadata": {},
   "outputs": [
    {
     "data": {
      "text/html": [
       "<div>\n",
       "<style scoped>\n",
       "    .dataframe tbody tr th:only-of-type {\n",
       "        vertical-align: middle;\n",
       "    }\n",
       "\n",
       "    .dataframe tbody tr th {\n",
       "        vertical-align: top;\n",
       "    }\n",
       "\n",
       "    .dataframe thead th {\n",
       "        text-align: right;\n",
       "    }\n",
       "</style>\n",
       "<table border=\"1\" class=\"dataframe\">\n",
       "  <thead>\n",
       "    <tr style=\"text-align: right;\">\n",
       "      <th></th>\n",
       "      <th>#Pdb</th>\n",
       "      <th>Mutation(s)_PDB</th>\n",
       "      <th>Mutation(s)_cleaned</th>\n",
       "      <th>iMutation_Location(s)</th>\n",
       "      <th>Hold_out_type</th>\n",
       "      <th>Hold_out_proteins</th>\n",
       "      <th>Affinity_mut (M)</th>\n",
       "      <th>Affinity_mut_parsed</th>\n",
       "      <th>Affinity_wt (M)</th>\n",
       "      <th>Affinity_wt_parsed</th>\n",
       "      <th>...</th>\n",
       "      <th>koff_wt (s^(-1))</th>\n",
       "      <th>koff_wt_parsed</th>\n",
       "      <th>dH_mut (kcal mol^(-1))</th>\n",
       "      <th>dH_wt (kcal mol^(-1))</th>\n",
       "      <th>dS_mut (cal mol^(-1) K^(-1))</th>\n",
       "      <th>dS_wt (cal mol^(-1) K^(-1))</th>\n",
       "      <th>Notes</th>\n",
       "      <th>Method</th>\n",
       "      <th>SKEMPI version</th>\n",
       "      <th>ddG</th>\n",
       "    </tr>\n",
       "  </thead>\n",
       "  <tbody>\n",
       "    <tr>\n",
       "      <td>282</td>\n",
       "      <td>1AHW_AB_C</td>\n",
       "      <td>YC156A</td>\n",
       "      <td>YC145A</td>\n",
       "      <td>COR</td>\n",
       "      <td>AB/AG</td>\n",
       "      <td>AB/AG</td>\n",
       "      <td>2.100000e-06</td>\n",
       "      <td>2.1E-06</td>\n",
       "      <td>3.400000e-09</td>\n",
       "      <td>3.4E-09</td>\n",
       "      <td>...</td>\n",
       "      <td>NaN</td>\n",
       "      <td>NaN</td>\n",
       "      <td>NaN</td>\n",
       "      <td>NaN</td>\n",
       "      <td>NaN</td>\n",
       "      <td>NaN</td>\n",
       "      <td>NaN</td>\n",
       "      <td>IASP</td>\n",
       "      <td>2</td>\n",
       "      <td>3.807047</td>\n",
       "    </tr>\n",
       "    <tr>\n",
       "      <td>283</td>\n",
       "      <td>1AHW_AB_C</td>\n",
       "      <td>YC157A</td>\n",
       "      <td>YC146A</td>\n",
       "      <td>SUP</td>\n",
       "      <td>AB/AG</td>\n",
       "      <td>AB/AG</td>\n",
       "      <td>1.400000e-10</td>\n",
       "      <td>1.4E-10</td>\n",
       "      <td>3.400000e-09</td>\n",
       "      <td>3.4E-09</td>\n",
       "      <td>...</td>\n",
       "      <td>NaN</td>\n",
       "      <td>NaN</td>\n",
       "      <td>NaN</td>\n",
       "      <td>NaN</td>\n",
       "      <td>NaN</td>\n",
       "      <td>NaN</td>\n",
       "      <td>NaN</td>\n",
       "      <td>IASP</td>\n",
       "      <td>1</td>\n",
       "      <td>-1.889856</td>\n",
       "    </tr>\n",
       "    <tr>\n",
       "      <td>285</td>\n",
       "      <td>1AHW_AB_C</td>\n",
       "      <td>TC167A</td>\n",
       "      <td>TC156A</td>\n",
       "      <td>COR</td>\n",
       "      <td>AB/AG</td>\n",
       "      <td>AB/AG</td>\n",
       "      <td>3.000000e-09</td>\n",
       "      <td>3,00E-09</td>\n",
       "      <td>3.400000e-09</td>\n",
       "      <td>3.4E-09</td>\n",
       "      <td>...</td>\n",
       "      <td>NaN</td>\n",
       "      <td>NaN</td>\n",
       "      <td>NaN</td>\n",
       "      <td>NaN</td>\n",
       "      <td>NaN</td>\n",
       "      <td>NaN</td>\n",
       "      <td>NaN</td>\n",
       "      <td>IASP</td>\n",
       "      <td>1</td>\n",
       "      <td>-0.074153</td>\n",
       "    </tr>\n",
       "    <tr>\n",
       "      <td>287</td>\n",
       "      <td>1AHW_AB_C</td>\n",
       "      <td>TC170A</td>\n",
       "      <td>TC159A</td>\n",
       "      <td>SUP</td>\n",
       "      <td>AB/AG</td>\n",
       "      <td>AB/AG</td>\n",
       "      <td>2.200000e-08</td>\n",
       "      <td>2.2E-08</td>\n",
       "      <td>3.400000e-09</td>\n",
       "      <td>3.4E-09</td>\n",
       "      <td>...</td>\n",
       "      <td>NaN</td>\n",
       "      <td>NaN</td>\n",
       "      <td>NaN</td>\n",
       "      <td>NaN</td>\n",
       "      <td>NaN</td>\n",
       "      <td>NaN</td>\n",
       "      <td>NaN</td>\n",
       "      <td>IASP</td>\n",
       "      <td>1</td>\n",
       "      <td>1.106266</td>\n",
       "    </tr>\n",
       "    <tr>\n",
       "      <td>288</td>\n",
       "      <td>1AHW_AB_C</td>\n",
       "      <td>LC176A</td>\n",
       "      <td>LC165A</td>\n",
       "      <td>RIM</td>\n",
       "      <td>AB/AG</td>\n",
       "      <td>AB/AG</td>\n",
       "      <td>1.800000e-08</td>\n",
       "      <td>1.8E-08</td>\n",
       "      <td>3.400000e-09</td>\n",
       "      <td>3.4E-09</td>\n",
       "      <td>...</td>\n",
       "      <td>NaN</td>\n",
       "      <td>NaN</td>\n",
       "      <td>NaN</td>\n",
       "      <td>NaN</td>\n",
       "      <td>NaN</td>\n",
       "      <td>NaN</td>\n",
       "      <td>NaN</td>\n",
       "      <td>IASP</td>\n",
       "      <td>1</td>\n",
       "      <td>0.987378</td>\n",
       "    </tr>\n",
       "    <tr>\n",
       "      <td>...</td>\n",
       "      <td>...</td>\n",
       "      <td>...</td>\n",
       "      <td>...</td>\n",
       "      <td>...</td>\n",
       "      <td>...</td>\n",
       "      <td>...</td>\n",
       "      <td>...</td>\n",
       "      <td>...</td>\n",
       "      <td>...</td>\n",
       "      <td>...</td>\n",
       "      <td>...</td>\n",
       "      <td>...</td>\n",
       "      <td>...</td>\n",
       "      <td>...</td>\n",
       "      <td>...</td>\n",
       "      <td>...</td>\n",
       "      <td>...</td>\n",
       "      <td>...</td>\n",
       "      <td>...</td>\n",
       "      <td>...</td>\n",
       "      <td>...</td>\n",
       "    </tr>\n",
       "    <tr>\n",
       "      <td>6773</td>\n",
       "      <td>3SE9_HL_G</td>\n",
       "      <td>EL96A</td>\n",
       "      <td>EL90A</td>\n",
       "      <td>COR</td>\n",
       "      <td>AB/AG</td>\n",
       "      <td>AB/AG</td>\n",
       "      <td>5.000000e-08</td>\n",
       "      <td>5,00E-08</td>\n",
       "      <td>2.500000e-08</td>\n",
       "      <td>2.5E-08</td>\n",
       "      <td>...</td>\n",
       "      <td>NaN</td>\n",
       "      <td>NaN</td>\n",
       "      <td>NaN</td>\n",
       "      <td>NaN</td>\n",
       "      <td>NaN</td>\n",
       "      <td>NaN</td>\n",
       "      <td>NaN</td>\n",
       "      <td>SPR</td>\n",
       "      <td>2</td>\n",
       "      <td>0.410656</td>\n",
       "    </tr>\n",
       "    <tr>\n",
       "      <td>6774</td>\n",
       "      <td>3SE9_HL_G</td>\n",
       "      <td>FL97A</td>\n",
       "      <td>FL91A</td>\n",
       "      <td>RIM</td>\n",
       "      <td>AB/AG</td>\n",
       "      <td>AB/AG</td>\n",
       "      <td>2.600000e-08</td>\n",
       "      <td>2.6E-08</td>\n",
       "      <td>2.500000e-08</td>\n",
       "      <td>2.5E-08</td>\n",
       "      <td>...</td>\n",
       "      <td>NaN</td>\n",
       "      <td>NaN</td>\n",
       "      <td>NaN</td>\n",
       "      <td>NaN</td>\n",
       "      <td>NaN</td>\n",
       "      <td>NaN</td>\n",
       "      <td>NaN</td>\n",
       "      <td>SPR</td>\n",
       "      <td>2</td>\n",
       "      <td>0.023236</td>\n",
       "    </tr>\n",
       "    <tr>\n",
       "      <td>7043</td>\n",
       "      <td>1YQV_HL_Y</td>\n",
       "      <td>RY45K</td>\n",
       "      <td>RY45K</td>\n",
       "      <td>COR</td>\n",
       "      <td>AB/AG</td>\n",
       "      <td>AB/AG,1UUZ_A_D</td>\n",
       "      <td>1.090000e-10</td>\n",
       "      <td>1.09E-10</td>\n",
       "      <td>3.720000e-12</td>\n",
       "      <td>3.72E-12</td>\n",
       "      <td>...</td>\n",
       "      <td>NaN</td>\n",
       "      <td>NaN</td>\n",
       "      <td>-14.0</td>\n",
       "      <td>-18.7</td>\n",
       "      <td>-38.869.257.951</td>\n",
       "      <td>-137.809.187.279</td>\n",
       "      <td>NaN</td>\n",
       "      <td>ITC</td>\n",
       "      <td>2</td>\n",
       "      <td>2.001080</td>\n",
       "    </tr>\n",
       "    <tr>\n",
       "      <td>7044</td>\n",
       "      <td>1YQV_HL_Y</td>\n",
       "      <td>RY45K</td>\n",
       "      <td>RY45K</td>\n",
       "      <td>COR</td>\n",
       "      <td>AB/AG</td>\n",
       "      <td>AB/AG,1UUZ_A_D</td>\n",
       "      <td>6.810000e-10</td>\n",
       "      <td>6.81E-10</td>\n",
       "      <td>2.320000e-11</td>\n",
       "      <td>2.32E-11</td>\n",
       "      <td>...</td>\n",
       "      <td>NaN</td>\n",
       "      <td>NaN</td>\n",
       "      <td>-19.3</td>\n",
       "      <td>-22.6</td>\n",
       "      <td>-228.187.919.463</td>\n",
       "      <td>-271.812.080.537</td>\n",
       "      <td>NaN</td>\n",
       "      <td>ITC</td>\n",
       "      <td>2</td>\n",
       "      <td>2.002138</td>\n",
       "    </tr>\n",
       "    <tr>\n",
       "      <td>7045</td>\n",
       "      <td>1YQV_HL_Y</td>\n",
       "      <td>RY45K</td>\n",
       "      <td>RY45K</td>\n",
       "      <td>COR</td>\n",
       "      <td>AB/AG</td>\n",
       "      <td>AB/AG,1UUZ_A_D</td>\n",
       "      <td>2.130000e-09</td>\n",
       "      <td>2.13E-09</td>\n",
       "      <td>1.350000e-10</td>\n",
       "      <td>1.35E-10</td>\n",
       "      <td>...</td>\n",
       "      <td>NaN</td>\n",
       "      <td>NaN</td>\n",
       "      <td>-25.5</td>\n",
       "      <td>-28.2</td>\n",
       "      <td>-425.806.451.613</td>\n",
       "      <td>-458.064.516.129</td>\n",
       "      <td>NaN</td>\n",
       "      <td>ITC</td>\n",
       "      <td>2</td>\n",
       "      <td>1.634340</td>\n",
       "    </tr>\n",
       "  </tbody>\n",
       "</table>\n",
       "<p>797 rows × 30 columns</p>\n",
       "</div>"
      ],
      "text/plain": [
       "           #Pdb Mutation(s)_PDB Mutation(s)_cleaned iMutation_Location(s)  \\\n",
       "282   1AHW_AB_C          YC156A              YC145A                   COR   \n",
       "283   1AHW_AB_C          YC157A              YC146A                   SUP   \n",
       "285   1AHW_AB_C          TC167A              TC156A                   COR   \n",
       "287   1AHW_AB_C          TC170A              TC159A                   SUP   \n",
       "288   1AHW_AB_C          LC176A              LC165A                   RIM   \n",
       "...         ...             ...                 ...                   ...   \n",
       "6773  3SE9_HL_G           EL96A               EL90A                   COR   \n",
       "6774  3SE9_HL_G           FL97A               FL91A                   RIM   \n",
       "7043  1YQV_HL_Y           RY45K               RY45K                   COR   \n",
       "7044  1YQV_HL_Y           RY45K               RY45K                   COR   \n",
       "7045  1YQV_HL_Y           RY45K               RY45K                   COR   \n",
       "\n",
       "     Hold_out_type Hold_out_proteins  Affinity_mut (M) Affinity_mut_parsed  \\\n",
       "282          AB/AG             AB/AG      2.100000e-06             2.1E-06   \n",
       "283          AB/AG             AB/AG      1.400000e-10             1.4E-10   \n",
       "285          AB/AG             AB/AG      3.000000e-09            3,00E-09   \n",
       "287          AB/AG             AB/AG      2.200000e-08             2.2E-08   \n",
       "288          AB/AG             AB/AG      1.800000e-08             1.8E-08   \n",
       "...            ...               ...               ...                 ...   \n",
       "6773         AB/AG             AB/AG      5.000000e-08            5,00E-08   \n",
       "6774         AB/AG             AB/AG      2.600000e-08             2.6E-08   \n",
       "7043         AB/AG    AB/AG,1UUZ_A_D      1.090000e-10            1.09E-10   \n",
       "7044         AB/AG    AB/AG,1UUZ_A_D      6.810000e-10            6.81E-10   \n",
       "7045         AB/AG    AB/AG,1UUZ_A_D      2.130000e-09            2.13E-09   \n",
       "\n",
       "      Affinity_wt (M) Affinity_wt_parsed  ... koff_wt (s^(-1)) koff_wt_parsed  \\\n",
       "282      3.400000e-09            3.4E-09  ...              NaN            NaN   \n",
       "283      3.400000e-09            3.4E-09  ...              NaN            NaN   \n",
       "285      3.400000e-09            3.4E-09  ...              NaN            NaN   \n",
       "287      3.400000e-09            3.4E-09  ...              NaN            NaN   \n",
       "288      3.400000e-09            3.4E-09  ...              NaN            NaN   \n",
       "...               ...                ...  ...              ...            ...   \n",
       "6773     2.500000e-08            2.5E-08  ...              NaN            NaN   \n",
       "6774     2.500000e-08            2.5E-08  ...              NaN            NaN   \n",
       "7043     3.720000e-12           3.72E-12  ...              NaN            NaN   \n",
       "7044     2.320000e-11           2.32E-11  ...              NaN            NaN   \n",
       "7045     1.350000e-10           1.35E-10  ...              NaN            NaN   \n",
       "\n",
       "     dH_mut (kcal mol^(-1)) dH_wt (kcal mol^(-1))  \\\n",
       "282                     NaN                   NaN   \n",
       "283                     NaN                   NaN   \n",
       "285                     NaN                   NaN   \n",
       "287                     NaN                   NaN   \n",
       "288                     NaN                   NaN   \n",
       "...                     ...                   ...   \n",
       "6773                    NaN                   NaN   \n",
       "6774                    NaN                   NaN   \n",
       "7043                  -14.0                 -18.7   \n",
       "7044                  -19.3                 -22.6   \n",
       "7045                  -25.5                 -28.2   \n",
       "\n",
       "     dS_mut (cal mol^(-1) K^(-1)) dS_wt (cal mol^(-1) K^(-1)) Notes Method  \\\n",
       "282                           NaN                         NaN   NaN   IASP   \n",
       "283                           NaN                         NaN   NaN   IASP   \n",
       "285                           NaN                         NaN   NaN   IASP   \n",
       "287                           NaN                         NaN   NaN   IASP   \n",
       "288                           NaN                         NaN   NaN   IASP   \n",
       "...                           ...                         ...   ...    ...   \n",
       "6773                          NaN                         NaN   NaN    SPR   \n",
       "6774                          NaN                         NaN   NaN    SPR   \n",
       "7043              -38.869.257.951            -137.809.187.279   NaN    ITC   \n",
       "7044             -228.187.919.463            -271.812.080.537   NaN    ITC   \n",
       "7045             -425.806.451.613            -458.064.516.129   NaN    ITC   \n",
       "\n",
       "     SKEMPI version       ddG  \n",
       "282               2  3.807047  \n",
       "283               1 -1.889856  \n",
       "285               1 -0.074153  \n",
       "287               1  1.106266  \n",
       "288               1  0.987378  \n",
       "...             ...       ...  \n",
       "6773              2  0.410656  \n",
       "6774              2  0.023236  \n",
       "7043              2  2.001080  \n",
       "7044              2  2.002138  \n",
       "7045              2  1.634340  \n",
       "\n",
       "[797 rows x 30 columns]"
      ]
     },
     "execution_count": 37,
     "metadata": {},
     "output_type": "execute_result"
    }
   ],
   "source": [
    "ab_data_singleMut"
   ]
  },
  {
   "cell_type": "code",
   "execution_count": 38,
   "metadata": {},
   "outputs": [],
   "source": [
    "ab_data_singleMut['chain'] = ab_data_singleMut[\"Mutation(s)_cleaned\"].str[1]\n",
    "ab_data_singleMut['partners'] = ab_data_singleMut[\"#Pdb\"].str.split('_',1,expand=True)[1]\n",
    "ab_data_singleMut['#Pdb'] = ab_data_singleMut[\"#Pdb\"].str.split('_',1,expand=True)[0]"
   ]
  },
  {
   "cell_type": "code",
   "execution_count": 39,
   "metadata": {},
   "outputs": [],
   "source": [
    "ab_data_singleMut['mutant'] = ab_data_singleMut[\"Mutation(s)_PDB\"].str[0]+\\\n",
    "                                ab_data_singleMut[\"Mutation(s)_PDB\"].str[2:]"
   ]
  },
  {
   "cell_type": "code",
   "execution_count": 40,
   "metadata": {},
   "outputs": [],
   "source": [
    "ab_data_singleMut.rename(columns={'#Pdb':'#PDB'},inplace=True)"
   ]
  },
  {
   "cell_type": "code",
   "execution_count": 41,
   "metadata": {},
   "outputs": [],
   "source": [
    "# ab_data_singleMut[\"pdb_mutation_cleaned\"] = ab_data_singleMut[\"#Pdb\"].str.split('_',1,expand=True)[0]+'.'+\\\n",
    "#                                     ab_data_singleMut[\"#Pdb\"].str.split('_',1,expand=True)[1]+\".\"+\\\n",
    "#                                     ab_data_singleMut[\"Mutation(s)_cleaned\"].str[1]+\\\n",
    "#                                     ab_data_singleMut[\"Mutation(s)_cleaned\"].str[0]+\\\n",
    "#                                     ab_data_singleMut[\"Mutation(s)_cleaned\"].str[2:]\n",
    "                \n",
    "# ab_data_singleMut[\"pdb_mutation_ori\"] = ab_data_singleMut[\"#Pdb\"].str.split('_',1,expand=True)[0]+'.'+\\\n",
    "#                                     ab_data_singleMut[\"#Pdb\"].str.split('_',1,expand=True)[1]+\".\"+\\\n",
    "#                                     ab_data_singleMut[\"Mutation(s)_PDB\"].str[1]+\\\n",
    "#                                     ab_data_singleMut[\"Mutation(s)_PDB\"].str[0]+\\\n",
    "#                                     ab_data_singleMut[\"Mutation(s)_PDB\"].str[2:]\n",
    "ab_data_singleMut['pdb_mutation'] = ab_data_singleMut['#PDB']+'.'+ab_data_singleMut['mutant']\n"
   ]
  },
  {
   "cell_type": "code",
   "execution_count": 42,
   "metadata": {},
   "outputs": [
    {
     "data": {
      "text/html": [
       "<div>\n",
       "<style scoped>\n",
       "    .dataframe tbody tr th:only-of-type {\n",
       "        vertical-align: middle;\n",
       "    }\n",
       "\n",
       "    .dataframe tbody tr th {\n",
       "        vertical-align: top;\n",
       "    }\n",
       "\n",
       "    .dataframe thead th {\n",
       "        text-align: right;\n",
       "    }\n",
       "</style>\n",
       "<table border=\"1\" class=\"dataframe\">\n",
       "  <thead>\n",
       "    <tr style=\"text-align: right;\">\n",
       "      <th></th>\n",
       "      <th>#PDB</th>\n",
       "      <th>Mutation(s)_PDB</th>\n",
       "      <th>Mutation(s)_cleaned</th>\n",
       "      <th>iMutation_Location(s)</th>\n",
       "      <th>Hold_out_type</th>\n",
       "      <th>Hold_out_proteins</th>\n",
       "      <th>Affinity_mut (M)</th>\n",
       "      <th>Affinity_mut_parsed</th>\n",
       "      <th>Affinity_wt (M)</th>\n",
       "      <th>Affinity_wt_parsed</th>\n",
       "      <th>...</th>\n",
       "      <th>dS_mut (cal mol^(-1) K^(-1))</th>\n",
       "      <th>dS_wt (cal mol^(-1) K^(-1))</th>\n",
       "      <th>Notes</th>\n",
       "      <th>Method</th>\n",
       "      <th>SKEMPI version</th>\n",
       "      <th>ddG</th>\n",
       "      <th>chain</th>\n",
       "      <th>partners</th>\n",
       "      <th>mutant</th>\n",
       "      <th>pdb_mutation</th>\n",
       "    </tr>\n",
       "  </thead>\n",
       "  <tbody>\n",
       "    <tr>\n",
       "      <td>282</td>\n",
       "      <td>1AHW</td>\n",
       "      <td>YC156A</td>\n",
       "      <td>YC145A</td>\n",
       "      <td>COR</td>\n",
       "      <td>AB/AG</td>\n",
       "      <td>AB/AG</td>\n",
       "      <td>2.100000e-06</td>\n",
       "      <td>2.1E-06</td>\n",
       "      <td>3.400000e-09</td>\n",
       "      <td>3.4E-09</td>\n",
       "      <td>...</td>\n",
       "      <td>NaN</td>\n",
       "      <td>NaN</td>\n",
       "      <td>NaN</td>\n",
       "      <td>IASP</td>\n",
       "      <td>2</td>\n",
       "      <td>3.807047</td>\n",
       "      <td>C</td>\n",
       "      <td>AB_C</td>\n",
       "      <td>Y156A</td>\n",
       "      <td>1AHW.Y156A</td>\n",
       "    </tr>\n",
       "    <tr>\n",
       "      <td>283</td>\n",
       "      <td>1AHW</td>\n",
       "      <td>YC157A</td>\n",
       "      <td>YC146A</td>\n",
       "      <td>SUP</td>\n",
       "      <td>AB/AG</td>\n",
       "      <td>AB/AG</td>\n",
       "      <td>1.400000e-10</td>\n",
       "      <td>1.4E-10</td>\n",
       "      <td>3.400000e-09</td>\n",
       "      <td>3.4E-09</td>\n",
       "      <td>...</td>\n",
       "      <td>NaN</td>\n",
       "      <td>NaN</td>\n",
       "      <td>NaN</td>\n",
       "      <td>IASP</td>\n",
       "      <td>1</td>\n",
       "      <td>-1.889856</td>\n",
       "      <td>C</td>\n",
       "      <td>AB_C</td>\n",
       "      <td>Y157A</td>\n",
       "      <td>1AHW.Y157A</td>\n",
       "    </tr>\n",
       "    <tr>\n",
       "      <td>285</td>\n",
       "      <td>1AHW</td>\n",
       "      <td>TC167A</td>\n",
       "      <td>TC156A</td>\n",
       "      <td>COR</td>\n",
       "      <td>AB/AG</td>\n",
       "      <td>AB/AG</td>\n",
       "      <td>3.000000e-09</td>\n",
       "      <td>3,00E-09</td>\n",
       "      <td>3.400000e-09</td>\n",
       "      <td>3.4E-09</td>\n",
       "      <td>...</td>\n",
       "      <td>NaN</td>\n",
       "      <td>NaN</td>\n",
       "      <td>NaN</td>\n",
       "      <td>IASP</td>\n",
       "      <td>1</td>\n",
       "      <td>-0.074153</td>\n",
       "      <td>C</td>\n",
       "      <td>AB_C</td>\n",
       "      <td>T167A</td>\n",
       "      <td>1AHW.T167A</td>\n",
       "    </tr>\n",
       "    <tr>\n",
       "      <td>287</td>\n",
       "      <td>1AHW</td>\n",
       "      <td>TC170A</td>\n",
       "      <td>TC159A</td>\n",
       "      <td>SUP</td>\n",
       "      <td>AB/AG</td>\n",
       "      <td>AB/AG</td>\n",
       "      <td>2.200000e-08</td>\n",
       "      <td>2.2E-08</td>\n",
       "      <td>3.400000e-09</td>\n",
       "      <td>3.4E-09</td>\n",
       "      <td>...</td>\n",
       "      <td>NaN</td>\n",
       "      <td>NaN</td>\n",
       "      <td>NaN</td>\n",
       "      <td>IASP</td>\n",
       "      <td>1</td>\n",
       "      <td>1.106266</td>\n",
       "      <td>C</td>\n",
       "      <td>AB_C</td>\n",
       "      <td>T170A</td>\n",
       "      <td>1AHW.T170A</td>\n",
       "    </tr>\n",
       "    <tr>\n",
       "      <td>288</td>\n",
       "      <td>1AHW</td>\n",
       "      <td>LC176A</td>\n",
       "      <td>LC165A</td>\n",
       "      <td>RIM</td>\n",
       "      <td>AB/AG</td>\n",
       "      <td>AB/AG</td>\n",
       "      <td>1.800000e-08</td>\n",
       "      <td>1.8E-08</td>\n",
       "      <td>3.400000e-09</td>\n",
       "      <td>3.4E-09</td>\n",
       "      <td>...</td>\n",
       "      <td>NaN</td>\n",
       "      <td>NaN</td>\n",
       "      <td>NaN</td>\n",
       "      <td>IASP</td>\n",
       "      <td>1</td>\n",
       "      <td>0.987378</td>\n",
       "      <td>C</td>\n",
       "      <td>AB_C</td>\n",
       "      <td>L176A</td>\n",
       "      <td>1AHW.L176A</td>\n",
       "    </tr>\n",
       "  </tbody>\n",
       "</table>\n",
       "<p>5 rows × 34 columns</p>\n",
       "</div>"
      ],
      "text/plain": [
       "     #PDB Mutation(s)_PDB Mutation(s)_cleaned iMutation_Location(s)  \\\n",
       "282  1AHW          YC156A              YC145A                   COR   \n",
       "283  1AHW          YC157A              YC146A                   SUP   \n",
       "285  1AHW          TC167A              TC156A                   COR   \n",
       "287  1AHW          TC170A              TC159A                   SUP   \n",
       "288  1AHW          LC176A              LC165A                   RIM   \n",
       "\n",
       "    Hold_out_type Hold_out_proteins  Affinity_mut (M) Affinity_mut_parsed  \\\n",
       "282         AB/AG             AB/AG      2.100000e-06             2.1E-06   \n",
       "283         AB/AG             AB/AG      1.400000e-10             1.4E-10   \n",
       "285         AB/AG             AB/AG      3.000000e-09            3,00E-09   \n",
       "287         AB/AG             AB/AG      2.200000e-08             2.2E-08   \n",
       "288         AB/AG             AB/AG      1.800000e-08             1.8E-08   \n",
       "\n",
       "     Affinity_wt (M) Affinity_wt_parsed  ... dS_mut (cal mol^(-1) K^(-1))  \\\n",
       "282     3.400000e-09            3.4E-09  ...                          NaN   \n",
       "283     3.400000e-09            3.4E-09  ...                          NaN   \n",
       "285     3.400000e-09            3.4E-09  ...                          NaN   \n",
       "287     3.400000e-09            3.4E-09  ...                          NaN   \n",
       "288     3.400000e-09            3.4E-09  ...                          NaN   \n",
       "\n",
       "    dS_wt (cal mol^(-1) K^(-1)) Notes Method SKEMPI version       ddG chain  \\\n",
       "282                         NaN   NaN   IASP              2  3.807047     C   \n",
       "283                         NaN   NaN   IASP              1 -1.889856     C   \n",
       "285                         NaN   NaN   IASP              1 -0.074153     C   \n",
       "287                         NaN   NaN   IASP              1  1.106266     C   \n",
       "288                         NaN   NaN   IASP              1  0.987378     C   \n",
       "\n",
       "    partners mutant pdb_mutation  \n",
       "282     AB_C  Y156A   1AHW.Y156A  \n",
       "283     AB_C  Y157A   1AHW.Y157A  \n",
       "285     AB_C  T167A   1AHW.T167A  \n",
       "287     AB_C  T170A   1AHW.T170A  \n",
       "288     AB_C  L176A   1AHW.L176A  \n",
       "\n",
       "[5 rows x 34 columns]"
      ]
     },
     "execution_count": 42,
     "metadata": {},
     "output_type": "execute_result"
    }
   ],
   "source": [
    "ab_data_singleMut.head()"
   ]
  },
  {
   "cell_type": "code",
   "execution_count": 43,
   "metadata": {},
   "outputs": [
    {
     "data": {
      "text/plain": [
       "((601, 34), (196, 34))"
      ]
     },
     "execution_count": 43,
     "metadata": {},
     "output_type": "execute_result"
    }
   ],
   "source": [
    "ab_data_singleMut_duplicated =  ab_data_singleMut.loc[ab_data_singleMut.duplicated(subset=['chain','pdb_mutation'],keep=False)]\n",
    "ab_data_singleMut_notduplicated = ab_data_singleMut.loc[-ab_data_singleMut.duplicated(subset=['chain','pdb_mutation'],keep=False)]\n",
    "ab_data_singleMut_notduplicated.shape,ab_data_singleMut_duplicated.shape"
   ]
  },
  {
   "cell_type": "code",
   "execution_count": 44,
   "metadata": {
    "collapsed": true
   },
   "outputs": [],
   "source": [
    "def filter_duplicated_bymethod(data):\n",
    "    if data.Method.unique().shape[0]>1:\n",
    "        data = data.loc[data['Method'].isin(['SPR','KinExA','IASP'])].iloc[[0]]\n",
    "    else:\n",
    "        data = data.loc[[data['ddG'].idxmin()]]\n",
    "    return data"
   ]
  },
  {
   "cell_type": "code",
   "execution_count": 45,
   "metadata": {},
   "outputs": [
    {
     "data": {
      "text/plain": [
       "(95, 34)"
      ]
     },
     "execution_count": 45,
     "metadata": {},
     "output_type": "execute_result"
    }
   ],
   "source": [
    "ab_data_singleMut_duplicated_filtered = ab_data_singleMut_duplicated.groupby(by=['chain','pdb_mutation'],group_keys=False).apply(filter_duplicated_bymethod)\n",
    "ab_data_singleMut_duplicated_filtered.shape"
   ]
  },
  {
   "cell_type": "code",
   "execution_count": 46,
   "metadata": {},
   "outputs": [
    {
     "data": {
      "text/plain": [
       "(696, 34)"
      ]
     },
     "execution_count": 46,
     "metadata": {},
     "output_type": "execute_result"
    }
   ],
   "source": [
    "final_skempi_ab = pd.concat([ab_data_singleMut_notduplicated,ab_data_singleMut_duplicated_filtered])\n",
    "final_skempi_ab.shape"
   ]
  },
  {
   "cell_type": "code",
   "execution_count": 47,
   "metadata": {},
   "outputs": [],
   "source": [
    "final_skempi_ab.to_csv('../data/skempi_ABlike_singleMut.Final.csv')"
   ]
  },
  {
   "cell_type": "code",
   "execution_count": null,
   "metadata": {
    "collapsed": true
   },
   "outputs": [],
   "source": []
  },
  {
   "cell_type": "code",
   "execution_count": 23,
   "metadata": {
    "collapsed": true
   },
   "outputs": [],
   "source": [
    "#ab_data_singleMut_filtered = ab_data_singleMut.loc[-(ab_data_singleMut[\"Affinity_mut (M)\"] == 0.0)]"
   ]
  },
  {
   "cell_type": "code",
   "execution_count": 21,
   "metadata": {
    "scrolled": true
   },
   "outputs": [],
   "source": [
    "#ab_data_singleMut_filtered.loc[(ab_data_singleMut_filtered.ddG.abs() > 6)]"
   ]
  },
  {
   "cell_type": "markdown",
   "metadata": {},
   "source": [
    "# check distributions"
   ]
  },
  {
   "cell_type": "code",
   "execution_count": 25,
   "metadata": {},
   "outputs": [
    {
     "name": "stderr",
     "output_type": "stream",
     "text": [
      "/home/vilion/miniconda3/envs/bio/lib/python3.6/site-packages/numpy/core/_methods.py:75: RuntimeWarning: invalid value encountered in reduce\n",
      "  ret = umr_sum(arr, axis, dtype, out, keepdims)\n"
     ]
    },
    {
     "data": {
      "image/png": "[encoded data removed]",
      "text/plain": [
       "<Figure size 432x288 with 1 Axes>"
      ]
     },
     "metadata": {
      "needs_background": "light"
     },
     "output_type": "display_data"
    }
   ],
   "source": [
    "g = sns.distplot(df['ddG'],bins=np.arange(-5,6.6,0.1))\n",
    "#g.set_xlim(0)"
   ]
  },
  {
   "cell_type": "code",
   "execution_count": 42,
   "metadata": {},
   "outputs": [
    {
     "data": {
      "text/plain": [
       "KstestResult(statistic=0.6015200903274733, pvalue=0.0)"
      ]
     },
     "execution_count": 42,
     "metadata": {},
     "output_type": "execute_result"
    }
   ],
   "source": [
    "stats.kstest(df['ddG'], \"f\", stats.f.fit(df['ddG']))"
   ]
  },
  {
   "cell_type": "code",
   "execution_count": 35,
   "metadata": {
    "collapsed": true
   },
   "outputs": [],
   "source": [
    "import pandas as pd\n",
    "import numpy as np\n",
    "import scipy\n",
    "from sklearn.preprocessing import StandardScaler\n",
    "import scipy.stats\n",
    "import matplotlib.pyplot as plt\n",
    "%matplotlib inline\n",
    "# Load data and select first column"
   ]
  },
  {
   "cell_type": "code",
   "execution_count": 36,
   "metadata": {
    "collapsed": true
   },
   "outputs": [],
   "source": [
    "df_final = pd.read_csv(\"../data/DF_train15_skempiAB_modeller_final.csv\",index_col=0)\n"
   ]
  },
  {
   "cell_type": "code",
   "execution_count": 37,
   "metadata": {
    "collapsed": true
   },
   "outputs": [],
   "source": [
    "y = df_final.ddG_exp.values\n",
    "size = len(y) "
   ]
  },
  {
   "cell_type": "code",
   "execution_count": 38,
   "metadata": {
    "collapsed": true
   },
   "outputs": [],
   "source": [
    "sc=StandardScaler() \n",
    "yy = y.reshape (-1,1)\n",
    "sc.fit(yy)\n",
    "y_std =sc.transform(yy)\n",
    "y_std = y_std.flatten()\n",
    "y_std\n",
    "del yy"
   ]
  },
  {
   "cell_type": "code",
   "execution_count": 39,
   "metadata": {},
   "outputs": [
    {
     "name": "stderr",
     "output_type": "stream",
     "text": [
      "/Users/vfica/miniconda3/envs/bio/lib/python3.6/site-packages/scipy/optimize/minpack.py:162: RuntimeWarning: The iteration is not making good progress, as measured by the \n",
      "  improvement from the last ten iterations.\n",
      "  warnings.warn(msg, RuntimeWarning)\n",
      "/Users/vfica/miniconda3/envs/bio/lib/python3.6/site-packages/scipy/stats/_distn_infrastructure.py:2316: RuntimeWarning: invalid value encountered in double_scalars\n",
      "  Lhat = muhat - Shat*mu\n",
      "/Users/vfica/miniconda3/envs/bio/lib/python3.6/site-packages/scipy/stats/_continuous_distns.py:1680: RuntimeWarning: divide by zero encountered in log\n",
      "  lPx = m/2 * np.log(m) + n/2 * np.log(n) + (n/2 - 1) * np.log(x)\n"
     ]
    },
    {
     "name": "stdout",
     "output_type": "stream",
     "text": [
      "\n",
      "Distributions sorted by goodness of fit:\n",
      "----------------------------------------\n",
      "   Distribution     chi_square  p_value\n",
      "1     johnsonsu     104.207123  0.00763\n",
      "13          nct     126.849814  0.00301\n",
      "12            t     126.852156  0.00301\n",
      "16       dgamma     156.908588  0.02284\n",
      "4   genlogistic     355.410753  0.00000\n",
      "14     logistic     362.930934  0.00000\n",
      "2         gamma     889.291003  0.00000\n",
      "0          beta     889.749458  0.00000\n",
      "3       lognorm     892.296653  0.00000\n",
      "9   weibull_max    1290.208058  0.00000\n",
      "8    genextreme    1290.239138  0.00000\n",
      "15     gumbel_r    2484.110600  0.00000\n",
      "6        triang    4662.818844  0.00000\n",
      "7       uniform   12838.922560  0.00000\n",
      "11      gilbrat   15058.222574  0.00000\n",
      "10            f   65303.714152  0.00000\n",
      "5      pearson3  142631.728223  0.00000\n"
     ]
    }
   ],
   "source": [
    "# Set up list of candidate distributions to use\n",
    "# See https://docs.scipy.org/doc/scipy/reference/stats.html for more\n",
    "\n",
    "dist_names = ['beta',\n",
    "              'johnsonsu',\n",
    "              'gamma',\n",
    "              'lognorm',\n",
    "              'genlogistic',\n",
    "              'pearson3',\n",
    "              'triang',\n",
    "              'uniform',\n",
    "              'genextreme', \n",
    "              'weibull_max',\n",
    "                'f',\n",
    "              'gilbrat',\n",
    "             't',\n",
    "            'nct',\n",
    "             'logistic',\n",
    "             'gumbel_r',\n",
    "             'dgamma']\n",
    "\n",
    "# Set up empty lists to stroe results\n",
    "chi_square = []\n",
    "p_values = []\n",
    "\n",
    "# Set up 50 bins for chi-square test\n",
    "# Observed data will be approximately evenly distrubuted aross all bins\n",
    "percentile_bins = np.linspace(0,100,51)\n",
    "percentile_cutoffs = np.percentile(y_std, percentile_bins)\n",
    "observed_frequency, bins = (np.histogram(y_std, bins=percentile_cutoffs))\n",
    "cum_observed_frequency = np.cumsum(observed_frequency)\n",
    "\n",
    "# Loop through candidate distributions\n",
    "\n",
    "for distribution in dist_names:\n",
    "    # Set up distribution and get fitted distribution parameters\n",
    "    dist = getattr(scipy.stats, distribution)\n",
    "    param = dist.fit(y_std)\n",
    "    \n",
    "    # Obtain the KS test P statistic, round it to 5 decimal places\n",
    "    p = scipy.stats.kstest(y_std, distribution, args=param)[1]\n",
    "    p = np.around(p, 5)\n",
    "    p_values.append(p)    \n",
    "    \n",
    "    # Get expected counts in percentile bins\n",
    "    # This is based on a 'cumulative distrubution function' (cdf)\n",
    "    cdf_fitted = dist.cdf(percentile_cutoffs, *param[:-2], loc=param[-2], \n",
    "                          scale=param[-1])\n",
    "    expected_frequency = []\n",
    "    for bin in range(len(percentile_bins)-1):\n",
    "        expected_cdf_area = cdf_fitted[bin+1] - cdf_fitted[bin]\n",
    "        expected_frequency.append(expected_cdf_area)\n",
    "    \n",
    "    # calculate chi-squared\n",
    "    expected_frequency = np.array(expected_frequency) * size\n",
    "    cum_expected_frequency = np.cumsum(expected_frequency)\n",
    "    ss = sum (((cum_expected_frequency - cum_observed_frequency) ** 2) / cum_observed_frequency)\n",
    "    chi_square.append(ss)\n",
    "        \n",
    "# Collate results and sort by goodness of fit (best at top)\n",
    "\n",
    "results = pd.DataFrame()\n",
    "results['Distribution'] = dist_names\n",
    "results['chi_square'] = chi_square\n",
    "results['p_value'] = p_values\n",
    "results.sort_values(['chi_square'], inplace=True)\n",
    "    \n",
    "# Report results\n",
    "\n",
    "print ('\\nDistributions sorted by goodness of fit:')\n",
    "print ('----------------------------------------')\n",
    "print (results)"
   ]
  }
 ],
 "metadata": {
  "kernelspec": {
   "display_name": "Python 3",
   "language": "python",
   "name": "python3"
  },
  "language_info": {
   "codemirror_mode": {
    "name": "ipython",
    "version": 3
   },
   "file_extension": ".py",
   "mimetype": "text/x-python",
   "name": "python",
   "nbconvert_exporter": "python",
   "pygments_lexer": "ipython3",
   "version": "3.6.7"
  }
 },
 "nbformat": 4,
 "nbformat_minor": 2
}
