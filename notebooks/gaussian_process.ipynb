{
 "cells": [
  {
   "cell_type": "code",
   "execution_count": 73,
   "metadata": {},
   "outputs": [],
   "source": [
    "import pandas as pd\n",
    "from pathlib import Path\n",
    "\n",
    "from sklearn.pipeline import make_pipeline\n",
    "from yellowbrick.model_selection import LearningCurve\n",
    "from yellowbrick.regressor import ResidualsPlot\n",
    "from yellowbrick.regressor import PredictionError\n",
    "\n",
    "from sklearn.gaussian_process.kernels import RBF,WhiteKernel,ConstantKernel\n",
    "from sklearn.gaussian_process import GaussianProcessRegressor\n",
    "from sklearn.feature_selection import VarianceThreshold\n",
    "from sklearn.model_selection import KFold\n",
    "\n",
    "from imblearn import over_sampling as ovs\n",
    "from sklearn.decomposition import PCA\n",
    "\n",
    "import matplotlib.pyplot as plt\n",
    "import seaborn as sns\n",
    "import numpy as np\n",
    "from sklearn.preprocessing import StandardScaler, RobustScaler, MinMaxScaler\n",
    "from sklearn.model_selection import cross_val_score\n",
    "from sklearn.metrics import mean_squared_error,mean_absolute_error,r2_score\n",
    "from sklearn import metrics\n",
    "from sklearn.externals import joblib\n",
    "from sklearn.model_selection import GridSearchCV,RepeatedKFold\n",
    "from sklearn.model_selection import train_test_split\n",
    "\n",
    "%matplotlib inline"
   ]
  },
  {
   "cell_type": "code",
   "execution_count": 74,
   "metadata": {
    "collapsed": true
   },
   "outputs": [],
   "source": [
    "ConstantKernel?"
   ]
  },
  {
   "cell_type": "code",
   "execution_count": 2,
   "metadata": {
    "collapsed": true
   },
   "outputs": [],
   "source": [
    "sns.set_context(context=\"paper\")\n"
   ]
  },
  {
   "cell_type": "code",
   "execution_count": 6,
   "metadata": {
    "collapsed": true
   },
   "outputs": [],
   "source": [
    "ABPRED_DIR = Path().cwd().parent\n",
    "\n",
    "#dataframe final\n",
    "df_final = pd.read_csv(\"../data/DF_contact400_energy_2019.f_corr.csv\",index_col=0)\n",
    "# Quitar modelos por homologia deltraining set\n",
    "#df_final_onlyHM = df_final.loc[df_final.index.str.startswith(\"HM\")]\n",
    "#df_final= df_final.loc[~df_final.index.str.startswith(\"HM\")]\n",
    "\n",
    "index_ddg8 = (df_final['ddG_exp']==8)\n",
    "df_final = df_final.loc[-index_ddg8]\n",
    "#testiar eliminando estructuras con ddg menor o igual a -4 kcal/mol , outliers\n",
    "index_ddg_4 =  (df_final['ddG_exp'] <= -4)\n",
    "df_final = df_final.loc[-index_ddg_4]\n",
    "\n",
    "\n",
    "pdb_names = df_final.index\n",
    "features_names = df_final.drop('ddG_exp',axis=1).columns\n"
   ]
  },
  {
   "cell_type": "code",
   "execution_count": 7,
   "metadata": {
    "collapsed": true
   },
   "outputs": [],
   "source": [
    "X = df_final.drop('ddG_exp',axis=1)\n",
    "y = df_final['ddG_exp']"
   ]
  },
  {
   "cell_type": "code",
   "execution_count": 8,
   "metadata": {},
   "outputs": [
    {
     "name": "stderr",
     "output_type": "stream",
     "text": [
      "/Users/vfica/miniconda3/envs/bio/lib/python3.6/site-packages/sklearn/model_selection/_split.py:2069: FutureWarning: From version 0.21, test_size will always complement train_size unless both are specified.\n",
      "  FutureWarning)\n"
     ]
    }
   ],
   "source": [
    "# split for final test\n",
    "X_train, X_test, y_train, y_test = train_test_split(X, y,train_size=0.8,random_state=13)\n"
   ]
  },
  {
   "cell_type": "code",
   "execution_count": 24,
   "metadata": {
    "collapsed": true
   },
   "outputs": [],
   "source": [
    "cross_val_score?"
   ]
  },
  {
   "cell_type": "code",
   "execution_count": 78,
   "metadata": {},
   "outputs": [
    {
     "name": "stderr",
     "output_type": "stream",
     "text": [
      "[Parallel(n_jobs=-1)]: Using backend LokyBackend with 16 concurrent workers.\n",
      "[Parallel(n_jobs=-1)]: Done  30 out of  50 | elapsed:   11.1s remaining:    7.4s\n",
      "[Parallel(n_jobs=-1)]: Done  41 out of  50 | elapsed:   14.5s remaining:    3.2s\n"
     ]
    },
    {
     "name": "stdout",
     "output_type": "stream",
     "text": [
      "0.21957338767309806 0.21334239279764433\n"
     ]
    },
    {
     "name": "stderr",
     "output_type": "stream",
     "text": [
      "[Parallel(n_jobs=-1)]: Done  50 out of  50 | elapsed:   16.5s finished\n"
     ]
    }
   ],
   "source": [
    "# Load a regression dataset\n",
    "\n",
    "selector = VarianceThreshold()\n",
    "scaler = MinMaxScaler()\n",
    "#scaler = StandardScaler()\n",
    "#2)\n",
    "kernel = 0.5 * RBF(length_scale=0.5, length_scale_bounds=(1e-2, 1e3)) + WhiteKernel(noise_level=1, noise_level_bounds=(1e-10, 1e+1)) + ConstantKernel()\n",
    "    \n",
    "    \n",
    "gr_model = GaussianProcessRegressor(random_state=1313,kernel=kernel,normalize_y=True)\n",
    "#3) Crear pipeline\n",
    "pipeline1 = make_pipeline(scaler,selector,gr_model)\n",
    "\n",
    "cv = RepeatedKFold(n_splits=10,n_repeats=5,random_state=13)\n",
    "# 5) hiperparametros a ajustar\n",
    "r2 = cross_val_score(X=X_train,y=y_train,estimator=pipeline1,n_jobs=-1,cv=cv,verbose=5)\n",
    "print(r2.mean(),r2.std())"
   ]
  },
  {
   "cell_type": "code",
   "execution_count": 63,
   "metadata": {},
   "outputs": [
    {
     "data": {
      "text/plain": [
       "array([ 0.24969224,  0.34808461,  0.49511477,  0.30057004,  0.39257468,\n",
       "       -0.19888877, -0.00784752,  0.2390412 ,  0.38914283,  0.0142972 ,\n",
       "        0.16544804,  0.17277347,  0.38672799,  0.46884781,  0.01699609,\n",
       "        0.33180147, -0.04166567,  0.52426623,  0.29227418,  0.078493  ,\n",
       "        0.14472702,  0.400538  , -0.01037986,  0.29931374, -0.18815049,\n",
       "        0.17493999,  0.32506785,  0.40520115,  0.41974362,  0.38395343,\n",
       "        0.1913373 ,  0.25841777,  0.34932472,  0.38571116,  0.40057936,\n",
       "       -0.55929095,  0.37501876,  0.37055611, -0.16660863,  0.34932892,\n",
       "        0.19085178,  0.28652937,  0.22922829,  0.43184138,  0.21809338,\n",
       "        0.2342773 ,  0.41722203,  0.19886964, -0.07335364,  0.04824408])"
      ]
     },
     "execution_count": 63,
     "metadata": {},
     "output_type": "execute_result"
    }
   ],
   "source": [
    "r2"
   ]
  },
  {
   "cell_type": "code",
   "execution_count": 12,
   "metadata": {},
   "outputs": [
    {
     "name": "stdout",
     "output_type": "stream",
     "text": [
      "CV test RMSE 10.112911 +/- 9.887791\n",
      "CV train RMSE 0.029923 +/- 0.019206\n",
      "CV test r2 -51.974290 +/- 51.329487\n",
      "CV train r2 0.999573 +/- 0.000178\n",
      "{'gaussianprocessregressor__n_restarts_optimizer': 1}\n",
      "\n",
      "RMSE for test dataset: 15.43\n",
      "RMSE for train dataset: 0.03\n",
      "pearson corr  -0.064155\n",
      "R2 test -116.53819209167602\n",
      "R2 train 0.9995261843324637\n"
     ]
    }
   ],
   "source": [
    "# index of best scores\n",
    "rmse_bestCV_test_index = grid1.cv_results_['mean_test_neg_mean_squared_error'].argmax()\n",
    "rmse_bestCV_train_index = grid1.cv_results_['mean_train_neg_mean_squared_error'].argmax()\n",
    "r2_bestCV_test_index = grid1.cv_results_['mean_test_r2'].argmax()\n",
    "r2_bestCV_train_index = grid1.cv_results_['mean_train_r2'].argmax()\n",
    "# scores\n",
    "rmse_bestCV_test_score = grid1.cv_results_['mean_test_neg_mean_squared_error'][rmse_bestCV_test_index]\n",
    "rmse_bestCV_test_std = grid1.cv_results_['std_test_neg_mean_squared_error'][rmse_bestCV_test_index]\n",
    "rmse_bestCV_train_score = grid1.cv_results_['mean_train_neg_mean_squared_error'][rmse_bestCV_train_index]\n",
    "rmse_bestCV_train_std = grid1.cv_results_['std_train_neg_mean_squared_error'][rmse_bestCV_train_index]\n",
    "\n",
    "r2_bestCV_test_score = grid1.cv_results_['mean_test_r2'][r2_bestCV_test_index]\n",
    "r2_bestCV_test_std = grid1.cv_results_['std_test_r2'][r2_bestCV_test_index]\n",
    "r2_bestCV_train_score = grid1.cv_results_['mean_train_r2'][r2_bestCV_train_index]\n",
    "r2_bestCV_train_std = grid1.cv_results_['std_train_r2'][r2_bestCV_train_index]\n",
    "\n",
    "print('CV test RMSE {:f} +/- {:f}'.format(np.sqrt(-rmse_bestCV_test_score),np.sqrt(rmse_bestCV_test_std)))\n",
    "print('CV train RMSE {:f} +/- {:f}'.format(np.sqrt(-rmse_bestCV_train_score),np.sqrt(rmse_bestCV_train_std)))\n",
    "print('CV test r2 {:f} +/- {:f}'.format(r2_bestCV_test_score,r2_bestCV_test_std))\n",
    "print('CV train r2 {:f} +/- {:f}'.format(r2_bestCV_train_score,r2_bestCV_train_std))\n",
    "\n",
    "print(grid1.best_params_)\n",
    "y_test_pred = grid1.best_estimator_.predict(X_test)\n",
    "y_train_pred = grid1.best_estimator_.predict(X_train)\n",
    "print(\"\\nRMSE for test dataset: {}\".format(np.round(np.sqrt(mean_squared_error(y_test, y_test_pred)), 2)))\n",
    "print(\"RMSE for train dataset: {}\".format(np.round(np.sqrt(mean_squared_error(y_train, y_train_pred)), 2)))\n",
    "print(\"pearson corr  {:f}\".format(np.corrcoef(y_test_pred,y_test)[0][1]))\n",
    "print('R2 test',grid1.score(X_test,y_test))\n",
    "print('R2 train',grid1.score(X_train,y_train))\n"
   ]
  }
 ],
 "metadata": {
  "kernelspec": {
   "display_name": "Python 3",
   "language": "python",
   "name": "python3"
  },
  "language_info": {
   "codemirror_mode": {
    "name": "ipython",
    "version": 3
   },
   "file_extension": ".py",
   "mimetype": "text/x-python",
   "name": "python",
   "nbconvert_exporter": "python",
   "pygments_lexer": "ipython3",
   "version": "3.6.7"
  }
 },
 "nbformat": 4,
 "nbformat_minor": 2
}
