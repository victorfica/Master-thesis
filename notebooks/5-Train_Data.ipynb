{
 "cells": [
  {
   "cell_type": "code",
   "execution_count": 1,
   "metadata": {},
   "outputs": [
    {
     "name": "stdout",
     "output_type": "stream",
     "text": [
      "/Users/vfica/Documents/GitHub/AbPred/AbPred/../libs/arpeggio\n"
     ]
    }
   ],
   "source": [
    "import pandas as pd\n",
    "import numpy as np\n",
    "import os\n",
    "from pathlib import Path\n",
    "import pickle\n",
    "from multiprocessing import Pool\n",
    "import time\n",
    "import sys\n",
    "\n",
    "ABPRED_DIR = Path.cwd().parent\n",
    "if ABPRED_DIR not in sys.path:\n",
    "    sys.path.append(str(ABPRED_DIR))\n",
    "    \n",
    "from AbPred.interface_contacts import InterfaceContacts\n",
    "from AbPred.features_ic import ArpeggioFeatures\n",
    "from AbPred.FoldX import FoldX\n",
    "from features3D.Structural import run_pops\n",
    "from features3D.Structural import POPS_parse2\n",
    "\n",
    "import prody"
   ]
  },
  {
   "cell_type": "code",
   "execution_count": 2,
   "metadata": {
    "collapsed": true
   },
   "outputs": [],
   "source": [
    "#Funcion para el sorting de paths por numero\n",
    "def extract_num(pdb):\n",
    "    return int(str(pdb.name).split(\".\")[2])\n",
    "def sort_repair(pdb):\n",
    "    return int(str(pdb.name).split(\".\")[2].split('_')[0])\n",
    "\n",
    "def sort_df(df, column_idx, key):\n",
    "    '''Takes dataframe, column index and custom function for sorting, \n",
    "    returns dataframe sorted by this column using this function'''\n",
    "    \n",
    "    col = df.ix[:,column_idx]\n",
    "    temp = np.array(col.values.tolist())\n",
    "    order = sorted(range(len(temp)), key=lambda j: key(temp[j]))\n",
    "    return df.ix[order]"
   ]
  },
  {
   "cell_type": "code",
   "execution_count": 3,
   "metadata": {
    "collapsed": true
   },
   "outputs": [],
   "source": [
    "CWD = Path.cwd()\n",
    "\n",
    "\n",
    "# PDBs structures\n",
    "PDBS_MUT = Path(\"../data/modelled_mutations/\")\n",
    "PDBS_WT = Path(\"../data/AB-Bind-Database-master/\")\n",
    "# Data \n",
    "ab_bind_mCSM_HM = pd.read_csv(\"../data/ab_bind_mCSM_HM.csv\",index_col=0)"
   ]
  },
  {
   "cell_type": "code",
   "execution_count": 4,
   "metadata": {
    "collapsed": true
   },
   "outputs": [],
   "source": [
    "ic_files = list(PDBS_MUT.glob(\"*.interface_contacts\"))\n",
    "pdb_files = list(PDBS_MUT.glob(\"*clean.pdb\"))\n",
    "\n",
    "ic_files.sort(key=sort_repair)\n",
    "pdb_files.sort(key=sort_repair)"
   ]
  },
  {
   "cell_type": "markdown",
   "metadata": {},
   "source": [
    "# Extract contact residue pairs from sift interface contacts"
   ]
  },
  {
   "cell_type": "code",
   "execution_count": 55,
   "metadata": {
    "scrolled": true
   },
   "outputs": [
    {
     "name": "stdout",
     "output_type": "stream",
     "text": [
      "../data/modelled_mutations/1AK4.mut.0_Repair.clean.interface_contacts ../data/modelled_mutations/1AK4.mut.0_Repair.clean.pdb\n",
      "../data/modelled_mutations/1AK4.mut.1_Repair.clean.interface_contacts ../data/modelled_mutations/1AK4.mut.1_Repair.clean.pdb\n",
      "../data/modelled_mutations/1AK4.mut.2_Repair.clean.interface_contacts ../data/modelled_mutations/1AK4.mut.2_Repair.clean.pdb\n",
      "../data/modelled_mutations/1AK4.mut.3_Repair.clean.interface_contacts ../data/modelled_mutations/1AK4.mut.3_Repair.clean.pdb\n",
      "../data/modelled_mutations/1AK4.mut.4_Repair.clean.interface_contacts ../data/modelled_mutations/1AK4.mut.4_Repair.clean.pdb\n",
      "../data/modelled_mutations/1AK4.mut.5_Repair.clean.interface_contacts ../data/modelled_mutations/1AK4.mut.5_Repair.clean.pdb\n",
      "../data/modelled_mutations/1AK4.mut.6_Repair.clean.interface_contacts ../data/modelled_mutations/1AK4.mut.6_Repair.clean.pdb\n",
      "../data/modelled_mutations/1AK4.mut.7_Repair.clean.interface_contacts ../data/modelled_mutations/1AK4.mut.7_Repair.clean.pdb\n",
      "../data/modelled_mutations/1AK4.mut.8_Repair.clean.interface_contacts ../data/modelled_mutations/1AK4.mut.8_Repair.clean.pdb\n",
      "../data/modelled_mutations/1AK4.mut.9_Repair.clean.interface_contacts ../data/modelled_mutations/1AK4.mut.9_Repair.clean.pdb\n",
      "../data/modelled_mutations/1AK4.mut.10_Repair.clean.interface_contacts ../data/modelled_mutations/1AK4.mut.10_Repair.clean.pdb\n",
      "../data/modelled_mutations/1AK4.mut.11_Repair.clean.interface_contacts ../data/modelled_mutations/1AK4.mut.11_Repair.clean.pdb\n",
      "../data/modelled_mutations/1AK4.mut.12_Repair.clean.interface_contacts ../data/modelled_mutations/1AK4.mut.12_Repair.clean.pdb\n",
      "../data/modelled_mutations/1AK4.mut.13_Repair.clean.interface_contacts ../data/modelled_mutations/1AK4.mut.13_Repair.clean.pdb\n",
      "../data/modelled_mutations/1AK4.mut.14_Repair.clean.interface_contacts ../data/modelled_mutations/1AK4.mut.14_Repair.clean.pdb\n",
      "../data/modelled_mutations/1AK4.mut.15_Repair.clean.interface_contacts ../data/modelled_mutations/1AK4.mut.15_Repair.clean.pdb\n",
      "../data/modelled_mutations/1BJ1.mut.16_Repair.clean.interface_contacts ../data/modelled_mutations/1BJ1.mut.16_Repair.clean.pdb\n",
      "../data/modelled_mutations/1BJ1.mut.17_Repair.clean.interface_contacts ../data/modelled_mutations/1BJ1.mut.17_Repair.clean.pdb\n",
      "../data/modelled_mutations/1BJ1.mut.18_Repair.clean.interface_contacts ../data/modelled_mutations/1BJ1.mut.18_Repair.clean.pdb\n",
      "../data/modelled_mutations/1BJ1.mut.19_Repair.clean.interface_contacts ../data/modelled_mutations/1BJ1.mut.19_Repair.clean.pdb\n",
      "../data/modelled_mutations/1BJ1.mut.20_Repair.clean.interface_contacts ../data/modelled_mutations/1BJ1.mut.20_Repair.clean.pdb\n",
      "../data/modelled_mutations/1BJ1.mut.21_Repair.clean.interface_contacts ../data/modelled_mutations/1BJ1.mut.21_Repair.clean.pdb\n",
      "../data/modelled_mutations/1BJ1.mut.22_Repair.clean.interface_contacts ../data/modelled_mutations/1BJ1.mut.22_Repair.clean.pdb\n",
      "../data/modelled_mutations/1BJ1.mut.23_Repair.clean.interface_contacts ../data/modelled_mutations/1BJ1.mut.23_Repair.clean.pdb\n",
      "../data/modelled_mutations/1BJ1.mut.24_Repair.clean.interface_contacts ../data/modelled_mutations/1BJ1.mut.24_Repair.clean.pdb\n",
      "../data/modelled_mutations/1BJ1.mut.25_Repair.clean.interface_contacts ../data/modelled_mutations/1BJ1.mut.25_Repair.clean.pdb\n",
      "../data/modelled_mutations/1BJ1.mut.26_Repair.clean.interface_contacts ../data/modelled_mutations/1BJ1.mut.26_Repair.clean.pdb\n",
      "../data/modelled_mutations/1BJ1.mut.27_Repair.clean.interface_contacts ../data/modelled_mutations/1BJ1.mut.27_Repair.clean.pdb\n",
      "../data/modelled_mutations/1BJ1.mut.28_Repair.clean.interface_contacts ../data/modelled_mutations/1BJ1.mut.28_Repair.clean.pdb\n",
      "../data/modelled_mutations/1BJ1.mut.29_Repair.clean.interface_contacts ../data/modelled_mutations/1BJ1.mut.29_Repair.clean.pdb\n",
      "../data/modelled_mutations/1BJ1.mut.30_Repair.clean.interface_contacts ../data/modelled_mutations/1BJ1.mut.30_Repair.clean.pdb\n",
      "../data/modelled_mutations/1BJ1.mut.31_Repair.clean.interface_contacts ../data/modelled_mutations/1BJ1.mut.31_Repair.clean.pdb\n",
      "../data/modelled_mutations/1BJ1.mut.32_Repair.clean.interface_contacts ../data/modelled_mutations/1BJ1.mut.32_Repair.clean.pdb\n",
      "../data/modelled_mutations/1BJ1.mut.33_Repair.clean.interface_contacts ../data/modelled_mutations/1BJ1.mut.33_Repair.clean.pdb\n",
      "../data/modelled_mutations/1BJ1.mut.34_Repair.clean.interface_contacts ../data/modelled_mutations/1BJ1.mut.34_Repair.clean.pdb\n",
      "../data/modelled_mutations/1CZ8.mut.35_Repair.clean.interface_contacts ../data/modelled_mutations/1CZ8.mut.35_Repair.clean.pdb\n",
      "../data/modelled_mutations/1CZ8.mut.36_Repair.clean.interface_contacts ../data/modelled_mutations/1CZ8.mut.36_Repair.clean.pdb\n",
      "../data/modelled_mutations/1CZ8.mut.37_Repair.clean.interface_contacts ../data/modelled_mutations/1CZ8.mut.37_Repair.clean.pdb\n",
      "../data/modelled_mutations/1CZ8.mut.38_Repair.clean.interface_contacts ../data/modelled_mutations/1CZ8.mut.38_Repair.clean.pdb\n",
      "../data/modelled_mutations/1CZ8.mut.39_Repair.clean.interface_contacts ../data/modelled_mutations/1CZ8.mut.39_Repair.clean.pdb\n",
      "../data/modelled_mutations/1CZ8.mut.40_Repair.clean.interface_contacts ../data/modelled_mutations/1CZ8.mut.40_Repair.clean.pdb\n",
      "../data/modelled_mutations/1CZ8.mut.41_Repair.clean.interface_contacts ../data/modelled_mutations/1CZ8.mut.41_Repair.clean.pdb\n",
      "../data/modelled_mutations/1CZ8.mut.42_Repair.clean.interface_contacts ../data/modelled_mutations/1CZ8.mut.42_Repair.clean.pdb\n",
      "../data/modelled_mutations/1CZ8.mut.43_Repair.clean.interface_contacts ../data/modelled_mutations/1CZ8.mut.43_Repair.clean.pdb\n",
      "../data/modelled_mutations/1CZ8.mut.44_Repair.clean.interface_contacts ../data/modelled_mutations/1CZ8.mut.44_Repair.clean.pdb\n",
      "../data/modelled_mutations/1CZ8.mut.45_Repair.clean.interface_contacts ../data/modelled_mutations/1CZ8.mut.45_Repair.clean.pdb\n",
      "../data/modelled_mutations/1CZ8.mut.46_Repair.clean.interface_contacts ../data/modelled_mutations/1CZ8.mut.46_Repair.clean.pdb\n",
      "../data/modelled_mutations/1CZ8.mut.47_Repair.clean.interface_contacts ../data/modelled_mutations/1CZ8.mut.47_Repair.clean.pdb\n",
      "../data/modelled_mutations/1CZ8.mut.48_Repair.clean.interface_contacts ../data/modelled_mutations/1CZ8.mut.48_Repair.clean.pdb\n",
      "../data/modelled_mutations/1CZ8.mut.49_Repair.clean.interface_contacts ../data/modelled_mutations/1CZ8.mut.49_Repair.clean.pdb\n",
      "../data/modelled_mutations/1CZ8.mut.50_Repair.clean.interface_contacts ../data/modelled_mutations/1CZ8.mut.50_Repair.clean.pdb\n",
      "../data/modelled_mutations/1CZ8.mut.51_Repair.clean.interface_contacts ../data/modelled_mutations/1CZ8.mut.51_Repair.clean.pdb\n",
      "../data/modelled_mutations/1CZ8.mut.52_Repair.clean.interface_contacts ../data/modelled_mutations/1CZ8.mut.52_Repair.clean.pdb\n",
      "../data/modelled_mutations/1CZ8.mut.53_Repair.clean.interface_contacts ../data/modelled_mutations/1CZ8.mut.53_Repair.clean.pdb\n",
      "../data/modelled_mutations/1DQJ.mut.54_Repair.clean.interface_contacts ../data/modelled_mutations/1DQJ.mut.54_Repair.clean.pdb\n",
      "../data/modelled_mutations/1DQJ.mut.55_Repair.clean.interface_contacts ../data/modelled_mutations/1DQJ.mut.55_Repair.clean.pdb\n",
      "../data/modelled_mutations/1DQJ.mut.56_Repair.clean.interface_contacts ../data/modelled_mutations/1DQJ.mut.56_Repair.clean.pdb\n",
      "../data/modelled_mutations/1DQJ.mut.57_Repair.clean.interface_contacts ../data/modelled_mutations/1DQJ.mut.57_Repair.clean.pdb\n",
      "../data/modelled_mutations/1DQJ.mut.58_Repair.clean.interface_contacts ../data/modelled_mutations/1DQJ.mut.58_Repair.clean.pdb\n",
      "../data/modelled_mutations/1DQJ.mut.59_Repair.clean.interface_contacts ../data/modelled_mutations/1DQJ.mut.59_Repair.clean.pdb\n",
      "../data/modelled_mutations/1DQJ.mut.60_Repair.clean.interface_contacts ../data/modelled_mutations/1DQJ.mut.60_Repair.clean.pdb\n",
      "../data/modelled_mutations/1DQJ.mut.61_Repair.clean.interface_contacts ../data/modelled_mutations/1DQJ.mut.61_Repair.clean.pdb\n",
      "../data/modelled_mutations/1DQJ.mut.62_Repair.clean.interface_contacts ../data/modelled_mutations/1DQJ.mut.62_Repair.clean.pdb\n",
      "../data/modelled_mutations/1DQJ.mut.63_Repair.clean.interface_contacts ../data/modelled_mutations/1DQJ.mut.63_Repair.clean.pdb\n",
      "../data/modelled_mutations/1DQJ.mut.64_Repair.clean.interface_contacts ../data/modelled_mutations/1DQJ.mut.64_Repair.clean.pdb\n"
     ]
    },
    {
     "name": "stdout",
     "output_type": "stream",
     "text": [
      "../data/modelled_mutations/1DQJ.mut.65_Repair.clean.interface_contacts ../data/modelled_mutations/1DQJ.mut.65_Repair.clean.pdb\n",
      "../data/modelled_mutations/1DQJ.mut.66_Repair.clean.interface_contacts ../data/modelled_mutations/1DQJ.mut.66_Repair.clean.pdb\n",
      "../data/modelled_mutations/1DQJ.mut.67_Repair.clean.interface_contacts ../data/modelled_mutations/1DQJ.mut.67_Repair.clean.pdb\n",
      "../data/modelled_mutations/1DQJ.mut.68_Repair.clean.interface_contacts ../data/modelled_mutations/1DQJ.mut.68_Repair.clean.pdb\n",
      "../data/modelled_mutations/1DQJ.mut.69_Repair.clean.interface_contacts ../data/modelled_mutations/1DQJ.mut.69_Repair.clean.pdb\n",
      "../data/modelled_mutations/1DQJ.mut.70_Repair.clean.interface_contacts ../data/modelled_mutations/1DQJ.mut.70_Repair.clean.pdb\n",
      "../data/modelled_mutations/1DQJ.mut.71_Repair.clean.interface_contacts ../data/modelled_mutations/1DQJ.mut.71_Repair.clean.pdb\n",
      "../data/modelled_mutations/1DQJ.mut.72_Repair.clean.interface_contacts ../data/modelled_mutations/1DQJ.mut.72_Repair.clean.pdb\n",
      "../data/modelled_mutations/1DQJ.mut.73_Repair.clean.interface_contacts ../data/modelled_mutations/1DQJ.mut.73_Repair.clean.pdb\n",
      "../data/modelled_mutations/1DQJ.mut.74_Repair.clean.interface_contacts ../data/modelled_mutations/1DQJ.mut.74_Repair.clean.pdb\n",
      "../data/modelled_mutations/1DVF.mut.75_Repair.clean.interface_contacts ../data/modelled_mutations/1DVF.mut.75_Repair.clean.pdb\n",
      "../data/modelled_mutations/1DVF.mut.76_Repair.clean.interface_contacts ../data/modelled_mutations/1DVF.mut.76_Repair.clean.pdb\n",
      "../data/modelled_mutations/1DVF.mut.77_Repair.clean.interface_contacts ../data/modelled_mutations/1DVF.mut.77_Repair.clean.pdb\n",
      "../data/modelled_mutations/1DVF.mut.78_Repair.clean.interface_contacts ../data/modelled_mutations/1DVF.mut.78_Repair.clean.pdb\n",
      "../data/modelled_mutations/1DVF.mut.79_Repair.clean.interface_contacts ../data/modelled_mutations/1DVF.mut.79_Repair.clean.pdb\n",
      "../data/modelled_mutations/1DVF.mut.80_Repair.clean.interface_contacts ../data/modelled_mutations/1DVF.mut.80_Repair.clean.pdb\n",
      "../data/modelled_mutations/1DVF.mut.81_Repair.clean.interface_contacts ../data/modelled_mutations/1DVF.mut.81_Repair.clean.pdb\n",
      "../data/modelled_mutations/1DVF.mut.82_Repair.clean.interface_contacts ../data/modelled_mutations/1DVF.mut.82_Repair.clean.pdb\n",
      "../data/modelled_mutations/1DVF.mut.83_Repair.clean.interface_contacts ../data/modelled_mutations/1DVF.mut.83_Repair.clean.pdb\n",
      "../data/modelled_mutations/1DVF.mut.84_Repair.clean.interface_contacts ../data/modelled_mutations/1DVF.mut.84_Repair.clean.pdb\n",
      "../data/modelled_mutations/1DVF.mut.85_Repair.clean.interface_contacts ../data/modelled_mutations/1DVF.mut.85_Repair.clean.pdb\n",
      "../data/modelled_mutations/1DVF.mut.86_Repair.clean.interface_contacts ../data/modelled_mutations/1DVF.mut.86_Repair.clean.pdb\n",
      "../data/modelled_mutations/1DVF.mut.87_Repair.clean.interface_contacts ../data/modelled_mutations/1DVF.mut.87_Repair.clean.pdb\n",
      "../data/modelled_mutations/1DVF.mut.88_Repair.clean.interface_contacts ../data/modelled_mutations/1DVF.mut.88_Repair.clean.pdb\n",
      "../data/modelled_mutations/1DVF.mut.89_Repair.clean.interface_contacts ../data/modelled_mutations/1DVF.mut.89_Repair.clean.pdb\n",
      "../data/modelled_mutations/1DVF.mut.90_Repair.clean.interface_contacts ../data/modelled_mutations/1DVF.mut.90_Repair.clean.pdb\n",
      "../data/modelled_mutations/1DVF.mut.91_Repair.clean.interface_contacts ../data/modelled_mutations/1DVF.mut.91_Repair.clean.pdb\n",
      "../data/modelled_mutations/1DVF.mut.92_Repair.clean.interface_contacts ../data/modelled_mutations/1DVF.mut.92_Repair.clean.pdb\n",
      "../data/modelled_mutations/1DVF.mut.93_Repair.clean.interface_contacts ../data/modelled_mutations/1DVF.mut.93_Repair.clean.pdb\n",
      "../data/modelled_mutations/1DVF.mut.94_Repair.clean.interface_contacts ../data/modelled_mutations/1DVF.mut.94_Repair.clean.pdb\n",
      "../data/modelled_mutations/1DVF.mut.95_Repair.clean.interface_contacts ../data/modelled_mutations/1DVF.mut.95_Repair.clean.pdb\n",
      "../data/modelled_mutations/1DVF.mut.96_Repair.clean.interface_contacts ../data/modelled_mutations/1DVF.mut.96_Repair.clean.pdb\n",
      "../data/modelled_mutations/1DVF.mut.97_Repair.clean.interface_contacts ../data/modelled_mutations/1DVF.mut.97_Repair.clean.pdb\n",
      "../data/modelled_mutations/1DVF.mut.98_Repair.clean.interface_contacts ../data/modelled_mutations/1DVF.mut.98_Repair.clean.pdb\n",
      "../data/modelled_mutations/1DVF.mut.99_Repair.clean.interface_contacts ../data/modelled_mutations/1DVF.mut.99_Repair.clean.pdb\n",
      "../data/modelled_mutations/1DVF.mut.100_Repair.clean.interface_contacts ../data/modelled_mutations/1DVF.mut.100_Repair.clean.pdb\n",
      "../data/modelled_mutations/1FFW.mut.101_Repair.clean.interface_contacts ../data/modelled_mutations/1FFW.mut.101_Repair.clean.pdb\n",
      "../data/modelled_mutations/1FFW.mut.102_Repair.clean.interface_contacts ../data/modelled_mutations/1FFW.mut.102_Repair.clean.pdb\n",
      "../data/modelled_mutations/1FFW.mut.103_Repair.clean.interface_contacts ../data/modelled_mutations/1FFW.mut.103_Repair.clean.pdb\n",
      "../data/modelled_mutations/1FFW.mut.104_Repair.clean.interface_contacts ../data/modelled_mutations/1FFW.mut.104_Repair.clean.pdb\n",
      "../data/modelled_mutations/1FFW.mut.105_Repair.clean.interface_contacts ../data/modelled_mutations/1FFW.mut.105_Repair.clean.pdb\n",
      "../data/modelled_mutations/1FFW.mut.106_Repair.clean.interface_contacts ../data/modelled_mutations/1FFW.mut.106_Repair.clean.pdb\n",
      "../data/modelled_mutations/1FFW.mut.107_Repair.clean.interface_contacts ../data/modelled_mutations/1FFW.mut.107_Repair.clean.pdb\n",
      "../data/modelled_mutations/1FFW.mut.108_Repair.clean.interface_contacts ../data/modelled_mutations/1FFW.mut.108_Repair.clean.pdb\n",
      "../data/modelled_mutations/1FFW.mut.109_Repair.clean.interface_contacts ../data/modelled_mutations/1FFW.mut.109_Repair.clean.pdb\n",
      "../data/modelled_mutations/1JRH.mut.110_Repair.clean.interface_contacts ../data/modelled_mutations/1JRH.mut.110_Repair.clean.pdb\n",
      "../data/modelled_mutations/1JRH.mut.111_Repair.clean.interface_contacts ../data/modelled_mutations/1JRH.mut.111_Repair.clean.pdb\n",
      "../data/modelled_mutations/1JTG.mut.112_Repair.clean.interface_contacts ../data/modelled_mutations/1JTG.mut.112_Repair.clean.pdb\n",
      "../data/modelled_mutations/1JTG.mut.113_Repair.clean.interface_contacts ../data/modelled_mutations/1JTG.mut.113_Repair.clean.pdb\n",
      "../data/modelled_mutations/1JTG.mut.114_Repair.clean.interface_contacts ../data/modelled_mutations/1JTG.mut.114_Repair.clean.pdb\n",
      "../data/modelled_mutations/1JTG.mut.115_Repair.clean.interface_contacts ../data/modelled_mutations/1JTG.mut.115_Repair.clean.pdb\n",
      "../data/modelled_mutations/1JTG.mut.116_Repair.clean.interface_contacts ../data/modelled_mutations/1JTG.mut.116_Repair.clean.pdb\n",
      "../data/modelled_mutations/1KTZ.mut.117_Repair.clean.interface_contacts ../data/modelled_mutations/1KTZ.mut.117_Repair.clean.pdb\n",
      "../data/modelled_mutations/1KTZ.mut.118_Repair.clean.interface_contacts ../data/modelled_mutations/1KTZ.mut.118_Repair.clean.pdb\n",
      "../data/modelled_mutations/1KTZ.mut.119_Repair.clean.interface_contacts ../data/modelled_mutations/1KTZ.mut.119_Repair.clean.pdb\n",
      "../data/modelled_mutations/1KTZ.mut.120_Repair.clean.interface_contacts ../data/modelled_mutations/1KTZ.mut.120_Repair.clean.pdb\n",
      "../data/modelled_mutations/1KTZ.mut.121_Repair.clean.interface_contacts ../data/modelled_mutations/1KTZ.mut.121_Repair.clean.pdb\n",
      "../data/modelled_mutations/1KTZ.mut.122_Repair.clean.interface_contacts ../data/modelled_mutations/1KTZ.mut.122_Repair.clean.pdb\n",
      "../data/modelled_mutations/1KTZ.mut.123_Repair.clean.interface_contacts ../data/modelled_mutations/1KTZ.mut.123_Repair.clean.pdb\n",
      "../data/modelled_mutations/1KTZ.mut.124_Repair.clean.interface_contacts ../data/modelled_mutations/1KTZ.mut.124_Repair.clean.pdb\n",
      "../data/modelled_mutations/1KTZ.mut.125_Repair.clean.interface_contacts ../data/modelled_mutations/1KTZ.mut.125_Repair.clean.pdb\n",
      "../data/modelled_mutations/1KTZ.mut.126_Repair.clean.interface_contacts ../data/modelled_mutations/1KTZ.mut.126_Repair.clean.pdb\n",
      "../data/modelled_mutations/1KTZ.mut.127_Repair.clean.interface_contacts ../data/modelled_mutations/1KTZ.mut.127_Repair.clean.pdb\n",
      "../data/modelled_mutations/1KTZ.mut.128_Repair.clean.interface_contacts ../data/modelled_mutations/1KTZ.mut.128_Repair.clean.pdb\n",
      "../data/modelled_mutations/1KTZ.mut.129_Repair.clean.interface_contacts ../data/modelled_mutations/1KTZ.mut.129_Repair.clean.pdb\n"
     ]
    },
    {
     "name": "stdout",
     "output_type": "stream",
     "text": [
      "../data/modelled_mutations/1KTZ.mut.130_Repair.clean.interface_contacts ../data/modelled_mutations/1KTZ.mut.130_Repair.clean.pdb\n",
      "../data/modelled_mutations/1KTZ.mut.131_Repair.clean.interface_contacts ../data/modelled_mutations/1KTZ.mut.131_Repair.clean.pdb\n",
      "../data/modelled_mutations/1KTZ.mut.132_Repair.clean.interface_contacts ../data/modelled_mutations/1KTZ.mut.132_Repair.clean.pdb\n",
      "../data/modelled_mutations/1KTZ.mut.133_Repair.clean.interface_contacts ../data/modelled_mutations/1KTZ.mut.133_Repair.clean.pdb\n",
      "../data/modelled_mutations/1KTZ.mut.134_Repair.clean.interface_contacts ../data/modelled_mutations/1KTZ.mut.134_Repair.clean.pdb\n",
      "../data/modelled_mutations/1KTZ.mut.135_Repair.clean.interface_contacts ../data/modelled_mutations/1KTZ.mut.135_Repair.clean.pdb\n",
      "../data/modelled_mutations/1KTZ.mut.136_Repair.clean.interface_contacts ../data/modelled_mutations/1KTZ.mut.136_Repair.clean.pdb\n",
      "../data/modelled_mutations/1KTZ.mut.137_Repair.clean.interface_contacts ../data/modelled_mutations/1KTZ.mut.137_Repair.clean.pdb\n",
      "../data/modelled_mutations/1KTZ.mut.138_Repair.clean.interface_contacts ../data/modelled_mutations/1KTZ.mut.138_Repair.clean.pdb\n",
      "../data/modelled_mutations/1MHP.mut.139_Repair.clean.interface_contacts ../data/modelled_mutations/1MHP.mut.139_Repair.clean.pdb\n",
      "../data/modelled_mutations/1MHP.mut.140_Repair.clean.interface_contacts ../data/modelled_mutations/1MHP.mut.140_Repair.clean.pdb\n",
      "../data/modelled_mutations/1MHP.mut.141_Repair.clean.interface_contacts ../data/modelled_mutations/1MHP.mut.141_Repair.clean.pdb\n",
      "../data/modelled_mutations/1MHP.mut.142_Repair.clean.interface_contacts ../data/modelled_mutations/1MHP.mut.142_Repair.clean.pdb\n",
      "../data/modelled_mutations/1MHP.mut.143_Repair.clean.interface_contacts ../data/modelled_mutations/1MHP.mut.143_Repair.clean.pdb\n",
      "../data/modelled_mutations/1MHP.mut.144_Repair.clean.interface_contacts ../data/modelled_mutations/1MHP.mut.144_Repair.clean.pdb\n",
      "../data/modelled_mutations/1MHP.mut.145_Repair.clean.interface_contacts ../data/modelled_mutations/1MHP.mut.145_Repair.clean.pdb\n",
      "../data/modelled_mutations/1MHP.mut.146_Repair.clean.interface_contacts ../data/modelled_mutations/1MHP.mut.146_Repair.clean.pdb\n",
      "../data/modelled_mutations/1MHP.mut.147_Repair.clean.interface_contacts ../data/modelled_mutations/1MHP.mut.147_Repair.clean.pdb\n",
      "../data/modelled_mutations/1MHP.mut.148_Repair.clean.interface_contacts ../data/modelled_mutations/1MHP.mut.148_Repair.clean.pdb\n",
      "../data/modelled_mutations/1MHP.mut.149_Repair.clean.interface_contacts ../data/modelled_mutations/1MHP.mut.149_Repair.clean.pdb\n",
      "../data/modelled_mutations/1MHP.mut.150_Repair.clean.interface_contacts ../data/modelled_mutations/1MHP.mut.150_Repair.clean.pdb\n",
      "../data/modelled_mutations/1MHP.mut.151_Repair.clean.interface_contacts ../data/modelled_mutations/1MHP.mut.151_Repair.clean.pdb\n",
      "../data/modelled_mutations/1MHP.mut.152_Repair.clean.interface_contacts ../data/modelled_mutations/1MHP.mut.152_Repair.clean.pdb\n",
      "../data/modelled_mutations/1MHP.mut.153_Repair.clean.interface_contacts ../data/modelled_mutations/1MHP.mut.153_Repair.clean.pdb\n",
      "../data/modelled_mutations/1MHP.mut.154_Repair.clean.interface_contacts ../data/modelled_mutations/1MHP.mut.154_Repair.clean.pdb\n",
      "../data/modelled_mutations/1MHP.mut.155_Repair.clean.interface_contacts ../data/modelled_mutations/1MHP.mut.155_Repair.clean.pdb\n",
      "../data/modelled_mutations/1MHP.mut.156_Repair.clean.interface_contacts ../data/modelled_mutations/1MHP.mut.156_Repair.clean.pdb\n",
      "../data/modelled_mutations/1MHP.mut.157_Repair.clean.interface_contacts ../data/modelled_mutations/1MHP.mut.157_Repair.clean.pdb\n",
      "../data/modelled_mutations/1MHP.mut.158_Repair.clean.interface_contacts ../data/modelled_mutations/1MHP.mut.158_Repair.clean.pdb\n",
      "../data/modelled_mutations/1MHP.mut.159_Repair.clean.interface_contacts ../data/modelled_mutations/1MHP.mut.159_Repair.clean.pdb\n",
      "../data/modelled_mutations/1MHP.mut.160_Repair.clean.interface_contacts ../data/modelled_mutations/1MHP.mut.160_Repair.clean.pdb\n",
      "../data/modelled_mutations/1MHP.mut.161_Repair.clean.interface_contacts ../data/modelled_mutations/1MHP.mut.161_Repair.clean.pdb\n",
      "../data/modelled_mutations/1MHP.mut.162_Repair.clean.interface_contacts ../data/modelled_mutations/1MHP.mut.162_Repair.clean.pdb\n",
      "../data/modelled_mutations/1MHP.mut.163_Repair.clean.interface_contacts ../data/modelled_mutations/1MHP.mut.163_Repair.clean.pdb\n",
      "../data/modelled_mutations/1MHP.mut.164_Repair.clean.interface_contacts ../data/modelled_mutations/1MHP.mut.164_Repair.clean.pdb\n",
      "../data/modelled_mutations/1MHP.mut.165_Repair.clean.interface_contacts ../data/modelled_mutations/1MHP.mut.165_Repair.clean.pdb\n",
      "../data/modelled_mutations/1MHP.mut.166_Repair.clean.interface_contacts ../data/modelled_mutations/1MHP.mut.166_Repair.clean.pdb\n",
      "../data/modelled_mutations/1MHP.mut.167_Repair.clean.interface_contacts ../data/modelled_mutations/1MHP.mut.167_Repair.clean.pdb\n",
      "../data/modelled_mutations/1MHP.mut.168_Repair.clean.interface_contacts ../data/modelled_mutations/1MHP.mut.168_Repair.clean.pdb\n",
      "../data/modelled_mutations/1MHP.mut.169_Repair.clean.interface_contacts ../data/modelled_mutations/1MHP.mut.169_Repair.clean.pdb\n",
      "../data/modelled_mutations/1MHP.mut.170_Repair.clean.interface_contacts ../data/modelled_mutations/1MHP.mut.170_Repair.clean.pdb\n",
      "../data/modelled_mutations/1MHP.mut.171_Repair.clean.interface_contacts ../data/modelled_mutations/1MHP.mut.171_Repair.clean.pdb\n",
      "../data/modelled_mutations/1MHP.mut.172_Repair.clean.interface_contacts ../data/modelled_mutations/1MHP.mut.172_Repair.clean.pdb\n",
      "../data/modelled_mutations/1MHP.mut.173_Repair.clean.interface_contacts ../data/modelled_mutations/1MHP.mut.173_Repair.clean.pdb\n",
      "../data/modelled_mutations/1MHP.mut.174_Repair.clean.interface_contacts ../data/modelled_mutations/1MHP.mut.174_Repair.clean.pdb\n",
      "../data/modelled_mutations/1MHP.mut.175_Repair.clean.interface_contacts ../data/modelled_mutations/1MHP.mut.175_Repair.clean.pdb\n",
      "../data/modelled_mutations/1MHP.mut.176_Repair.clean.interface_contacts ../data/modelled_mutations/1MHP.mut.176_Repair.clean.pdb\n",
      "../data/modelled_mutations/1MHP.mut.177_Repair.clean.interface_contacts ../data/modelled_mutations/1MHP.mut.177_Repair.clean.pdb\n",
      "../data/modelled_mutations/1MHP.mut.178_Repair.clean.interface_contacts ../data/modelled_mutations/1MHP.mut.178_Repair.clean.pdb\n",
      "../data/modelled_mutations/1MHP.mut.179_Repair.clean.interface_contacts ../data/modelled_mutations/1MHP.mut.179_Repair.clean.pdb\n",
      "../data/modelled_mutations/1MHP.mut.180_Repair.clean.interface_contacts ../data/modelled_mutations/1MHP.mut.180_Repair.clean.pdb\n",
      "../data/modelled_mutations/1MHP.mut.181_Repair.clean.interface_contacts ../data/modelled_mutations/1MHP.mut.181_Repair.clean.pdb\n",
      "../data/modelled_mutations/1MHP.mut.182_Repair.clean.interface_contacts ../data/modelled_mutations/1MHP.mut.182_Repair.clean.pdb\n",
      "../data/modelled_mutations/1MHP.mut.183_Repair.clean.interface_contacts ../data/modelled_mutations/1MHP.mut.183_Repair.clean.pdb\n",
      "../data/modelled_mutations/1MHP.mut.184_Repair.clean.interface_contacts ../data/modelled_mutations/1MHP.mut.184_Repair.clean.pdb\n",
      "../data/modelled_mutations/1MHP.mut.185_Repair.clean.interface_contacts ../data/modelled_mutations/1MHP.mut.185_Repair.clean.pdb\n",
      "../data/modelled_mutations/1MHP.mut.186_Repair.clean.interface_contacts ../data/modelled_mutations/1MHP.mut.186_Repair.clean.pdb\n",
      "../data/modelled_mutations/1MHP.mut.187_Repair.clean.interface_contacts ../data/modelled_mutations/1MHP.mut.187_Repair.clean.pdb\n",
      "../data/modelled_mutations/1MHP.mut.188_Repair.clean.interface_contacts ../data/modelled_mutations/1MHP.mut.188_Repair.clean.pdb\n",
      "../data/modelled_mutations/1MHP.mut.189_Repair.clean.interface_contacts ../data/modelled_mutations/1MHP.mut.189_Repair.clean.pdb\n",
      "../data/modelled_mutations/1MHP.mut.190_Repair.clean.interface_contacts ../data/modelled_mutations/1MHP.mut.190_Repair.clean.pdb\n",
      "../data/modelled_mutations/1MHP.mut.191_Repair.clean.interface_contacts ../data/modelled_mutations/1MHP.mut.191_Repair.clean.pdb\n",
      "../data/modelled_mutations/1MHP.mut.192_Repair.clean.interface_contacts ../data/modelled_mutations/1MHP.mut.192_Repair.clean.pdb\n",
      "../data/modelled_mutations/1MHP.mut.193_Repair.clean.interface_contacts ../data/modelled_mutations/1MHP.mut.193_Repair.clean.pdb\n"
     ]
    },
    {
     "name": "stdout",
     "output_type": "stream",
     "text": [
      "../data/modelled_mutations/1MHP.mut.194_Repair.clean.interface_contacts ../data/modelled_mutations/1MHP.mut.194_Repair.clean.pdb\n",
      "../data/modelled_mutations/1MHP.mut.195_Repair.clean.interface_contacts ../data/modelled_mutations/1MHP.mut.195_Repair.clean.pdb\n",
      "../data/modelled_mutations/1MHP.mut.196_Repair.clean.interface_contacts ../data/modelled_mutations/1MHP.mut.196_Repair.clean.pdb\n",
      "../data/modelled_mutations/1MHP.mut.197_Repair.clean.interface_contacts ../data/modelled_mutations/1MHP.mut.197_Repair.clean.pdb\n",
      "../data/modelled_mutations/1MHP.mut.198_Repair.clean.interface_contacts ../data/modelled_mutations/1MHP.mut.198_Repair.clean.pdb\n",
      "../data/modelled_mutations/1MHP.mut.199_Repair.clean.interface_contacts ../data/modelled_mutations/1MHP.mut.199_Repair.clean.pdb\n",
      "../data/modelled_mutations/1MHP.mut.200_Repair.clean.interface_contacts ../data/modelled_mutations/1MHP.mut.200_Repair.clean.pdb\n",
      "../data/modelled_mutations/1MHP.mut.201_Repair.clean.interface_contacts ../data/modelled_mutations/1MHP.mut.201_Repair.clean.pdb\n",
      "../data/modelled_mutations/1MHP.mut.202_Repair.clean.interface_contacts ../data/modelled_mutations/1MHP.mut.202_Repair.clean.pdb\n",
      "../data/modelled_mutations/1MHP.mut.203_Repair.clean.interface_contacts ../data/modelled_mutations/1MHP.mut.203_Repair.clean.pdb\n",
      "../data/modelled_mutations/1MHP.mut.204_Repair.clean.interface_contacts ../data/modelled_mutations/1MHP.mut.204_Repair.clean.pdb\n",
      "../data/modelled_mutations/1MHP.mut.205_Repair.clean.interface_contacts ../data/modelled_mutations/1MHP.mut.205_Repair.clean.pdb\n",
      "../data/modelled_mutations/1MHP.mut.206_Repair.clean.interface_contacts ../data/modelled_mutations/1MHP.mut.206_Repair.clean.pdb\n",
      "../data/modelled_mutations/1MLC.mut.207_Repair.clean.interface_contacts ../data/modelled_mutations/1MLC.mut.207_Repair.clean.pdb\n",
      "../data/modelled_mutations/1MLC.mut.208_Repair.clean.interface_contacts ../data/modelled_mutations/1MLC.mut.208_Repair.clean.pdb\n",
      "../data/modelled_mutations/1MLC.mut.209_Repair.clean.interface_contacts ../data/modelled_mutations/1MLC.mut.209_Repair.clean.pdb\n",
      "../data/modelled_mutations/1MLC.mut.210_Repair.clean.interface_contacts ../data/modelled_mutations/1MLC.mut.210_Repair.clean.pdb\n",
      "../data/modelled_mutations/1MLC.mut.211_Repair.clean.interface_contacts ../data/modelled_mutations/1MLC.mut.211_Repair.clean.pdb\n",
      "../data/modelled_mutations/1MLC.mut.212_Repair.clean.interface_contacts ../data/modelled_mutations/1MLC.mut.212_Repair.clean.pdb\n",
      "../data/modelled_mutations/1MLC.mut.213_Repair.clean.interface_contacts ../data/modelled_mutations/1MLC.mut.213_Repair.clean.pdb\n",
      "../data/modelled_mutations/1MLC.mut.214_Repair.clean.interface_contacts ../data/modelled_mutations/1MLC.mut.214_Repair.clean.pdb\n",
      "../data/modelled_mutations/1MLC.mut.215_Repair.clean.interface_contacts ../data/modelled_mutations/1MLC.mut.215_Repair.clean.pdb\n",
      "../data/modelled_mutations/1MLC.mut.216_Repair.clean.interface_contacts ../data/modelled_mutations/1MLC.mut.216_Repair.clean.pdb\n",
      "../data/modelled_mutations/1MLC.mut.217_Repair.clean.interface_contacts ../data/modelled_mutations/1MLC.mut.217_Repair.clean.pdb\n",
      "../data/modelled_mutations/1N8Z.mut.218_Repair.clean.interface_contacts ../data/modelled_mutations/1N8Z.mut.218_Repair.clean.pdb\n",
      "../data/modelled_mutations/1N8Z.mut.219_Repair.clean.interface_contacts ../data/modelled_mutations/1N8Z.mut.219_Repair.clean.pdb\n",
      "../data/modelled_mutations/1N8Z.mut.220_Repair.clean.interface_contacts ../data/modelled_mutations/1N8Z.mut.220_Repair.clean.pdb\n",
      "../data/modelled_mutations/1N8Z.mut.221_Repair.clean.interface_contacts ../data/modelled_mutations/1N8Z.mut.221_Repair.clean.pdb\n",
      "../data/modelled_mutations/1N8Z.mut.222_Repair.clean.interface_contacts ../data/modelled_mutations/1N8Z.mut.222_Repair.clean.pdb\n",
      "../data/modelled_mutations/1N8Z.mut.223_Repair.clean.interface_contacts ../data/modelled_mutations/1N8Z.mut.223_Repair.clean.pdb\n",
      "../data/modelled_mutations/1N8Z.mut.224_Repair.clean.interface_contacts ../data/modelled_mutations/1N8Z.mut.224_Repair.clean.pdb\n",
      "../data/modelled_mutations/1N8Z.mut.225_Repair.clean.interface_contacts ../data/modelled_mutations/1N8Z.mut.225_Repair.clean.pdb\n",
      "../data/modelled_mutations/1N8Z.mut.226_Repair.clean.interface_contacts ../data/modelled_mutations/1N8Z.mut.226_Repair.clean.pdb\n",
      "../data/modelled_mutations/1N8Z.mut.227_Repair.clean.interface_contacts ../data/modelled_mutations/1N8Z.mut.227_Repair.clean.pdb\n",
      "../data/modelled_mutations/1N8Z.mut.228_Repair.clean.interface_contacts ../data/modelled_mutations/1N8Z.mut.228_Repair.clean.pdb\n",
      "../data/modelled_mutations/1N8Z.mut.229_Repair.clean.interface_contacts ../data/modelled_mutations/1N8Z.mut.229_Repair.clean.pdb\n",
      "../data/modelled_mutations/1N8Z.mut.230_Repair.clean.interface_contacts ../data/modelled_mutations/1N8Z.mut.230_Repair.clean.pdb\n",
      "../data/modelled_mutations/1N8Z.mut.231_Repair.clean.interface_contacts ../data/modelled_mutations/1N8Z.mut.231_Repair.clean.pdb\n",
      "../data/modelled_mutations/1N8Z.mut.232_Repair.clean.interface_contacts ../data/modelled_mutations/1N8Z.mut.232_Repair.clean.pdb\n",
      "../data/modelled_mutations/1N8Z.mut.233_Repair.clean.interface_contacts ../data/modelled_mutations/1N8Z.mut.233_Repair.clean.pdb\n",
      "../data/modelled_mutations/1N8Z.mut.234_Repair.clean.interface_contacts ../data/modelled_mutations/1N8Z.mut.234_Repair.clean.pdb\n",
      "../data/modelled_mutations/1N8Z.mut.235_Repair.clean.interface_contacts ../data/modelled_mutations/1N8Z.mut.235_Repair.clean.pdb\n",
      "../data/modelled_mutations/1N8Z.mut.236_Repair.clean.interface_contacts ../data/modelled_mutations/1N8Z.mut.236_Repair.clean.pdb\n",
      "../data/modelled_mutations/1N8Z.mut.237_Repair.clean.interface_contacts ../data/modelled_mutations/1N8Z.mut.237_Repair.clean.pdb\n",
      "../data/modelled_mutations/1N8Z.mut.238_Repair.clean.interface_contacts ../data/modelled_mutations/1N8Z.mut.238_Repair.clean.pdb\n",
      "../data/modelled_mutations/1N8Z.mut.239_Repair.clean.interface_contacts ../data/modelled_mutations/1N8Z.mut.239_Repair.clean.pdb\n",
      "../data/modelled_mutations/1N8Z.mut.240_Repair.clean.interface_contacts ../data/modelled_mutations/1N8Z.mut.240_Repair.clean.pdb\n",
      "../data/modelled_mutations/1N8Z.mut.241_Repair.clean.interface_contacts ../data/modelled_mutations/1N8Z.mut.241_Repair.clean.pdb\n",
      "../data/modelled_mutations/1N8Z.mut.242_Repair.clean.interface_contacts ../data/modelled_mutations/1N8Z.mut.242_Repair.clean.pdb\n",
      "../data/modelled_mutations/1N8Z.mut.243_Repair.clean.interface_contacts ../data/modelled_mutations/1N8Z.mut.243_Repair.clean.pdb\n",
      "../data/modelled_mutations/1N8Z.mut.244_Repair.clean.interface_contacts ../data/modelled_mutations/1N8Z.mut.244_Repair.clean.pdb\n",
      "../data/modelled_mutations/1N8Z.mut.245_Repair.clean.interface_contacts ../data/modelled_mutations/1N8Z.mut.245_Repair.clean.pdb\n",
      "../data/modelled_mutations/1N8Z.mut.246_Repair.clean.interface_contacts ../data/modelled_mutations/1N8Z.mut.246_Repair.clean.pdb\n",
      "../data/modelled_mutations/1N8Z.mut.247_Repair.clean.interface_contacts ../data/modelled_mutations/1N8Z.mut.247_Repair.clean.pdb\n",
      "../data/modelled_mutations/1N8Z.mut.248_Repair.clean.interface_contacts ../data/modelled_mutations/1N8Z.mut.248_Repair.clean.pdb\n",
      "../data/modelled_mutations/1N8Z.mut.249_Repair.clean.interface_contacts ../data/modelled_mutations/1N8Z.mut.249_Repair.clean.pdb\n",
      "../data/modelled_mutations/1N8Z.mut.250_Repair.clean.interface_contacts ../data/modelled_mutations/1N8Z.mut.250_Repair.clean.pdb\n",
      "../data/modelled_mutations/1N8Z.mut.251_Repair.clean.interface_contacts ../data/modelled_mutations/1N8Z.mut.251_Repair.clean.pdb\n",
      "../data/modelled_mutations/1VFB.mut.252_Repair.clean.interface_contacts ../data/modelled_mutations/1VFB.mut.252_Repair.clean.pdb\n",
      "../data/modelled_mutations/1VFB.mut.253_Repair.clean.interface_contacts ../data/modelled_mutations/1VFB.mut.253_Repair.clean.pdb\n",
      "../data/modelled_mutations/1VFB.mut.254_Repair.clean.interface_contacts ../data/modelled_mutations/1VFB.mut.254_Repair.clean.pdb\n",
      "../data/modelled_mutations/1VFB.mut.255_Repair.clean.interface_contacts ../data/modelled_mutations/1VFB.mut.255_Repair.clean.pdb\n",
      "../data/modelled_mutations/1VFB.mut.256_Repair.clean.interface_contacts ../data/modelled_mutations/1VFB.mut.256_Repair.clean.pdb\n",
      "../data/modelled_mutations/1VFB.mut.257_Repair.clean.interface_contacts ../data/modelled_mutations/1VFB.mut.257_Repair.clean.pdb\n"
     ]
    },
    {
     "name": "stdout",
     "output_type": "stream",
     "text": [
      "../data/modelled_mutations/1VFB.mut.258_Repair.clean.interface_contacts ../data/modelled_mutations/1VFB.mut.258_Repair.clean.pdb\n",
      "../data/modelled_mutations/1VFB.mut.259_Repair.clean.interface_contacts ../data/modelled_mutations/1VFB.mut.259_Repair.clean.pdb\n",
      "../data/modelled_mutations/1VFB.mut.260_Repair.clean.interface_contacts ../data/modelled_mutations/1VFB.mut.260_Repair.clean.pdb\n",
      "../data/modelled_mutations/1VFB.mut.261_Repair.clean.interface_contacts ../data/modelled_mutations/1VFB.mut.261_Repair.clean.pdb\n",
      "../data/modelled_mutations/1VFB.mut.262_Repair.clean.interface_contacts ../data/modelled_mutations/1VFB.mut.262_Repair.clean.pdb\n",
      "../data/modelled_mutations/1VFB.mut.263_Repair.clean.interface_contacts ../data/modelled_mutations/1VFB.mut.263_Repair.clean.pdb\n",
      "../data/modelled_mutations/1VFB.mut.264_Repair.clean.interface_contacts ../data/modelled_mutations/1VFB.mut.264_Repair.clean.pdb\n",
      "../data/modelled_mutations/1VFB.mut.265_Repair.clean.interface_contacts ../data/modelled_mutations/1VFB.mut.265_Repair.clean.pdb\n",
      "../data/modelled_mutations/1VFB.mut.266_Repair.clean.interface_contacts ../data/modelled_mutations/1VFB.mut.266_Repair.clean.pdb\n",
      "../data/modelled_mutations/1VFB.mut.267_Repair.clean.interface_contacts ../data/modelled_mutations/1VFB.mut.267_Repair.clean.pdb\n",
      "../data/modelled_mutations/1VFB.mut.268_Repair.clean.interface_contacts ../data/modelled_mutations/1VFB.mut.268_Repair.clean.pdb\n",
      "../data/modelled_mutations/1VFB.mut.269_Repair.clean.interface_contacts ../data/modelled_mutations/1VFB.mut.269_Repair.clean.pdb\n",
      "../data/modelled_mutations/1VFB.mut.270_Repair.clean.interface_contacts ../data/modelled_mutations/1VFB.mut.270_Repair.clean.pdb\n",
      "../data/modelled_mutations/1VFB.mut.271_Repair.clean.interface_contacts ../data/modelled_mutations/1VFB.mut.271_Repair.clean.pdb\n",
      "../data/modelled_mutations/1VFB.mut.272_Repair.clean.interface_contacts ../data/modelled_mutations/1VFB.mut.272_Repair.clean.pdb\n",
      "../data/modelled_mutations/1VFB.mut.273_Repair.clean.interface_contacts ../data/modelled_mutations/1VFB.mut.273_Repair.clean.pdb\n",
      "../data/modelled_mutations/1VFB.mut.274_Repair.clean.interface_contacts ../data/modelled_mutations/1VFB.mut.274_Repair.clean.pdb\n",
      "../data/modelled_mutations/1VFB.mut.275_Repair.clean.interface_contacts ../data/modelled_mutations/1VFB.mut.275_Repair.clean.pdb\n",
      "../data/modelled_mutations/1VFB.mut.276_Repair.clean.interface_contacts ../data/modelled_mutations/1VFB.mut.276_Repair.clean.pdb\n",
      "../data/modelled_mutations/1VFB.mut.277_Repair.clean.interface_contacts ../data/modelled_mutations/1VFB.mut.277_Repair.clean.pdb\n",
      "../data/modelled_mutations/1VFB.mut.278_Repair.clean.interface_contacts ../data/modelled_mutations/1VFB.mut.278_Repair.clean.pdb\n",
      "../data/modelled_mutations/1VFB.mut.279_Repair.clean.interface_contacts ../data/modelled_mutations/1VFB.mut.279_Repair.clean.pdb\n",
      "../data/modelled_mutations/1VFB.mut.280_Repair.clean.interface_contacts ../data/modelled_mutations/1VFB.mut.280_Repair.clean.pdb\n",
      "../data/modelled_mutations/1VFB.mut.281_Repair.clean.interface_contacts ../data/modelled_mutations/1VFB.mut.281_Repair.clean.pdb\n",
      "../data/modelled_mutations/1VFB.mut.282_Repair.clean.interface_contacts ../data/modelled_mutations/1VFB.mut.282_Repair.clean.pdb\n",
      "../data/modelled_mutations/1VFB.mut.283_Repair.clean.interface_contacts ../data/modelled_mutations/1VFB.mut.283_Repair.clean.pdb\n",
      "../data/modelled_mutations/1VFB.mut.284_Repair.clean.interface_contacts ../data/modelled_mutations/1VFB.mut.284_Repair.clean.pdb\n",
      "../data/modelled_mutations/1VFB.mut.285_Repair.clean.interface_contacts ../data/modelled_mutations/1VFB.mut.285_Repair.clean.pdb\n",
      "../data/modelled_mutations/1VFB.mut.286_Repair.clean.interface_contacts ../data/modelled_mutations/1VFB.mut.286_Repair.clean.pdb\n",
      "../data/modelled_mutations/1VFB.mut.287_Repair.clean.interface_contacts ../data/modelled_mutations/1VFB.mut.287_Repair.clean.pdb\n",
      "../data/modelled_mutations/1VFB.mut.288_Repair.clean.interface_contacts ../data/modelled_mutations/1VFB.mut.288_Repair.clean.pdb\n",
      "../data/modelled_mutations/1VFB.mut.289_Repair.clean.interface_contacts ../data/modelled_mutations/1VFB.mut.289_Repair.clean.pdb\n",
      "../data/modelled_mutations/1VFB.mut.290_Repair.clean.interface_contacts ../data/modelled_mutations/1VFB.mut.290_Repair.clean.pdb\n",
      "../data/modelled_mutations/1VFB.mut.291_Repair.clean.interface_contacts ../data/modelled_mutations/1VFB.mut.291_Repair.clean.pdb\n",
      "../data/modelled_mutations/1VFB.mut.292_Repair.clean.interface_contacts ../data/modelled_mutations/1VFB.mut.292_Repair.clean.pdb\n",
      "../data/modelled_mutations/1YY9.mut.293_Repair.clean.interface_contacts ../data/modelled_mutations/1YY9.mut.293_Repair.clean.pdb\n",
      "../data/modelled_mutations/1YY9.mut.294_Repair.clean.interface_contacts ../data/modelled_mutations/1YY9.mut.294_Repair.clean.pdb\n",
      "../data/modelled_mutations/1YY9.mut.295_Repair.clean.interface_contacts ../data/modelled_mutations/1YY9.mut.295_Repair.clean.pdb\n",
      "../data/modelled_mutations/1YY9.mut.296_Repair.clean.interface_contacts ../data/modelled_mutations/1YY9.mut.296_Repair.clean.pdb\n",
      "../data/modelled_mutations/1YY9.mut.297_Repair.clean.interface_contacts ../data/modelled_mutations/1YY9.mut.297_Repair.clean.pdb\n",
      "../data/modelled_mutations/2JEL.mut.298_Repair.clean.interface_contacts ../data/modelled_mutations/2JEL.mut.298_Repair.clean.pdb\n",
      "../data/modelled_mutations/2JEL.mut.299_Repair.clean.interface_contacts ../data/modelled_mutations/2JEL.mut.299_Repair.clean.pdb\n",
      "../data/modelled_mutations/2JEL.mut.300_Repair.clean.interface_contacts ../data/modelled_mutations/2JEL.mut.300_Repair.clean.pdb\n",
      "../data/modelled_mutations/2JEL.mut.301_Repair.clean.interface_contacts ../data/modelled_mutations/2JEL.mut.301_Repair.clean.pdb\n",
      "../data/modelled_mutations/2JEL.mut.302_Repair.clean.interface_contacts ../data/modelled_mutations/2JEL.mut.302_Repair.clean.pdb\n",
      "../data/modelled_mutations/2JEL.mut.303_Repair.clean.interface_contacts ../data/modelled_mutations/2JEL.mut.303_Repair.clean.pdb\n",
      "../data/modelled_mutations/2JEL.mut.304_Repair.clean.interface_contacts ../data/modelled_mutations/2JEL.mut.304_Repair.clean.pdb\n",
      "../data/modelled_mutations/2JEL.mut.305_Repair.clean.interface_contacts ../data/modelled_mutations/2JEL.mut.305_Repair.clean.pdb\n",
      "../data/modelled_mutations/2JEL.mut.306_Repair.clean.interface_contacts ../data/modelled_mutations/2JEL.mut.306_Repair.clean.pdb\n",
      "../data/modelled_mutations/2JEL.mut.307_Repair.clean.interface_contacts ../data/modelled_mutations/2JEL.mut.307_Repair.clean.pdb\n",
      "../data/modelled_mutations/2JEL.mut.308_Repair.clean.interface_contacts ../data/modelled_mutations/2JEL.mut.308_Repair.clean.pdb\n",
      "../data/modelled_mutations/2JEL.mut.309_Repair.clean.interface_contacts ../data/modelled_mutations/2JEL.mut.309_Repair.clean.pdb\n",
      "../data/modelled_mutations/2JEL.mut.310_Repair.clean.interface_contacts ../data/modelled_mutations/2JEL.mut.310_Repair.clean.pdb\n",
      "../data/modelled_mutations/2JEL.mut.311_Repair.clean.interface_contacts ../data/modelled_mutations/2JEL.mut.311_Repair.clean.pdb\n",
      "../data/modelled_mutations/2JEL.mut.312_Repair.clean.interface_contacts ../data/modelled_mutations/2JEL.mut.312_Repair.clean.pdb\n",
      "../data/modelled_mutations/2JEL.mut.313_Repair.clean.interface_contacts ../data/modelled_mutations/2JEL.mut.313_Repair.clean.pdb\n",
      "../data/modelled_mutations/2JEL.mut.314_Repair.clean.interface_contacts ../data/modelled_mutations/2JEL.mut.314_Repair.clean.pdb\n",
      "../data/modelled_mutations/2JEL.mut.315_Repair.clean.interface_contacts ../data/modelled_mutations/2JEL.mut.315_Repair.clean.pdb\n",
      "../data/modelled_mutations/2JEL.mut.316_Repair.clean.interface_contacts ../data/modelled_mutations/2JEL.mut.316_Repair.clean.pdb\n",
      "../data/modelled_mutations/2JEL.mut.317_Repair.clean.interface_contacts ../data/modelled_mutations/2JEL.mut.317_Repair.clean.pdb\n",
      "../data/modelled_mutations/2JEL.mut.318_Repair.clean.interface_contacts ../data/modelled_mutations/2JEL.mut.318_Repair.clean.pdb\n",
      "../data/modelled_mutations/2JEL.mut.319_Repair.clean.interface_contacts ../data/modelled_mutations/2JEL.mut.319_Repair.clean.pdb\n",
      "../data/modelled_mutations/2JEL.mut.320_Repair.clean.interface_contacts ../data/modelled_mutations/2JEL.mut.320_Repair.clean.pdb\n",
      "../data/modelled_mutations/2JEL.mut.321_Repair.clean.interface_contacts ../data/modelled_mutations/2JEL.mut.321_Repair.clean.pdb\n"
     ]
    },
    {
     "name": "stdout",
     "output_type": "stream",
     "text": [
      "../data/modelled_mutations/2JEL.mut.322_Repair.clean.interface_contacts ../data/modelled_mutations/2JEL.mut.322_Repair.clean.pdb\n",
      "../data/modelled_mutations/2JEL.mut.323_Repair.clean.interface_contacts ../data/modelled_mutations/2JEL.mut.323_Repair.clean.pdb\n",
      "../data/modelled_mutations/2JEL.mut.324_Repair.clean.interface_contacts ../data/modelled_mutations/2JEL.mut.324_Repair.clean.pdb\n",
      "../data/modelled_mutations/2JEL.mut.325_Repair.clean.interface_contacts ../data/modelled_mutations/2JEL.mut.325_Repair.clean.pdb\n",
      "../data/modelled_mutations/2JEL.mut.326_Repair.clean.interface_contacts ../data/modelled_mutations/2JEL.mut.326_Repair.clean.pdb\n",
      "../data/modelled_mutations/2JEL.mut.327_Repair.clean.interface_contacts ../data/modelled_mutations/2JEL.mut.327_Repair.clean.pdb\n",
      "../data/modelled_mutations/2JEL.mut.328_Repair.clean.interface_contacts ../data/modelled_mutations/2JEL.mut.328_Repair.clean.pdb\n",
      "../data/modelled_mutations/2JEL.mut.329_Repair.clean.interface_contacts ../data/modelled_mutations/2JEL.mut.329_Repair.clean.pdb\n",
      "../data/modelled_mutations/2JEL.mut.330_Repair.clean.interface_contacts ../data/modelled_mutations/2JEL.mut.330_Repair.clean.pdb\n",
      "../data/modelled_mutations/2JEL.mut.331_Repair.clean.interface_contacts ../data/modelled_mutations/2JEL.mut.331_Repair.clean.pdb\n",
      "../data/modelled_mutations/2JEL.mut.332_Repair.clean.interface_contacts ../data/modelled_mutations/2JEL.mut.332_Repair.clean.pdb\n",
      "../data/modelled_mutations/2JEL.mut.333_Repair.clean.interface_contacts ../data/modelled_mutations/2JEL.mut.333_Repair.clean.pdb\n",
      "../data/modelled_mutations/2JEL.mut.334_Repair.clean.interface_contacts ../data/modelled_mutations/2JEL.mut.334_Repair.clean.pdb\n",
      "../data/modelled_mutations/2JEL.mut.335_Repair.clean.interface_contacts ../data/modelled_mutations/2JEL.mut.335_Repair.clean.pdb\n",
      "../data/modelled_mutations/2JEL.mut.336_Repair.clean.interface_contacts ../data/modelled_mutations/2JEL.mut.336_Repair.clean.pdb\n",
      "../data/modelled_mutations/2JEL.mut.337_Repair.clean.interface_contacts ../data/modelled_mutations/2JEL.mut.337_Repair.clean.pdb\n",
      "../data/modelled_mutations/2JEL.mut.338_Repair.clean.interface_contacts ../data/modelled_mutations/2JEL.mut.338_Repair.clean.pdb\n",
      "../data/modelled_mutations/2JEL.mut.339_Repair.clean.interface_contacts ../data/modelled_mutations/2JEL.mut.339_Repair.clean.pdb\n",
      "../data/modelled_mutations/2JEL.mut.340_Repair.clean.interface_contacts ../data/modelled_mutations/2JEL.mut.340_Repair.clean.pdb\n",
      "../data/modelled_mutations/2NYY.mut.341_Repair.clean.interface_contacts ../data/modelled_mutations/2NYY.mut.341_Repair.clean.pdb\n",
      "../data/modelled_mutations/2NYY.mut.342_Repair.clean.interface_contacts ../data/modelled_mutations/2NYY.mut.342_Repair.clean.pdb\n",
      "../data/modelled_mutations/2NYY.mut.343_Repair.clean.interface_contacts ../data/modelled_mutations/2NYY.mut.343_Repair.clean.pdb\n",
      "../data/modelled_mutations/2NYY.mut.344_Repair.clean.interface_contacts ../data/modelled_mutations/2NYY.mut.344_Repair.clean.pdb\n",
      "../data/modelled_mutations/2NYY.mut.345_Repair.clean.interface_contacts ../data/modelled_mutations/2NYY.mut.345_Repair.clean.pdb\n",
      "../data/modelled_mutations/2NYY.mut.346_Repair.clean.interface_contacts ../data/modelled_mutations/2NYY.mut.346_Repair.clean.pdb\n",
      "../data/modelled_mutations/2NYY.mut.347_Repair.clean.interface_contacts ../data/modelled_mutations/2NYY.mut.347_Repair.clean.pdb\n",
      "../data/modelled_mutations/2NYY.mut.348_Repair.clean.interface_contacts ../data/modelled_mutations/2NYY.mut.348_Repair.clean.pdb\n",
      "../data/modelled_mutations/2NYY.mut.349_Repair.clean.interface_contacts ../data/modelled_mutations/2NYY.mut.349_Repair.clean.pdb\n",
      "../data/modelled_mutations/2NYY.mut.350_Repair.clean.interface_contacts ../data/modelled_mutations/2NYY.mut.350_Repair.clean.pdb\n",
      "../data/modelled_mutations/2NYY.mut.351_Repair.clean.interface_contacts ../data/modelled_mutations/2NYY.mut.351_Repair.clean.pdb\n",
      "../data/modelled_mutations/2NYY.mut.352_Repair.clean.interface_contacts ../data/modelled_mutations/2NYY.mut.352_Repair.clean.pdb\n",
      "../data/modelled_mutations/2NYY.mut.353_Repair.clean.interface_contacts ../data/modelled_mutations/2NYY.mut.353_Repair.clean.pdb\n",
      "../data/modelled_mutations/2NYY.mut.354_Repair.clean.interface_contacts ../data/modelled_mutations/2NYY.mut.354_Repair.clean.pdb\n",
      "../data/modelled_mutations/2NYY.mut.355_Repair.clean.interface_contacts ../data/modelled_mutations/2NYY.mut.355_Repair.clean.pdb\n",
      "../data/modelled_mutations/2NYY.mut.356_Repair.clean.interface_contacts ../data/modelled_mutations/2NYY.mut.356_Repair.clean.pdb\n",
      "../data/modelled_mutations/2NYY.mut.357_Repair.clean.interface_contacts ../data/modelled_mutations/2NYY.mut.357_Repair.clean.pdb\n",
      "../data/modelled_mutations/2NYY.mut.358_Repair.clean.interface_contacts ../data/modelled_mutations/2NYY.mut.358_Repair.clean.pdb\n",
      "../data/modelled_mutations/2NYY.mut.359_Repair.clean.interface_contacts ../data/modelled_mutations/2NYY.mut.359_Repair.clean.pdb\n",
      "../data/modelled_mutations/2NYY.mut.360_Repair.clean.interface_contacts ../data/modelled_mutations/2NYY.mut.360_Repair.clean.pdb\n",
      "../data/modelled_mutations/2NYY.mut.361_Repair.clean.interface_contacts ../data/modelled_mutations/2NYY.mut.361_Repair.clean.pdb\n",
      "../data/modelled_mutations/2NYY.mut.362_Repair.clean.interface_contacts ../data/modelled_mutations/2NYY.mut.362_Repair.clean.pdb\n",
      "../data/modelled_mutations/2NYY.mut.363_Repair.clean.interface_contacts ../data/modelled_mutations/2NYY.mut.363_Repair.clean.pdb\n",
      "../data/modelled_mutations/2NYY.mut.364_Repair.clean.interface_contacts ../data/modelled_mutations/2NYY.mut.364_Repair.clean.pdb\n",
      "../data/modelled_mutations/2NYY.mut.365_Repair.clean.interface_contacts ../data/modelled_mutations/2NYY.mut.365_Repair.clean.pdb\n",
      "../data/modelled_mutations/2NYY.mut.366_Repair.clean.interface_contacts ../data/modelled_mutations/2NYY.mut.366_Repair.clean.pdb\n",
      "../data/modelled_mutations/2NYY.mut.367_Repair.clean.interface_contacts ../data/modelled_mutations/2NYY.mut.367_Repair.clean.pdb\n",
      "../data/modelled_mutations/2NYY.mut.368_Repair.clean.interface_contacts ../data/modelled_mutations/2NYY.mut.368_Repair.clean.pdb\n",
      "../data/modelled_mutations/2NZ9.mut.369_Repair.clean.interface_contacts ../data/modelled_mutations/2NZ9.mut.369_Repair.clean.pdb\n",
      "../data/modelled_mutations/2NZ9.mut.370_Repair.clean.interface_contacts ../data/modelled_mutations/2NZ9.mut.370_Repair.clean.pdb\n",
      "../data/modelled_mutations/2NZ9.mut.371_Repair.clean.interface_contacts ../data/modelled_mutations/2NZ9.mut.371_Repair.clean.pdb\n",
      "../data/modelled_mutations/2NZ9.mut.372_Repair.clean.interface_contacts ../data/modelled_mutations/2NZ9.mut.372_Repair.clean.pdb\n",
      "../data/modelled_mutations/2NZ9.mut.373_Repair.clean.interface_contacts ../data/modelled_mutations/2NZ9.mut.373_Repair.clean.pdb\n",
      "../data/modelled_mutations/2NZ9.mut.374_Repair.clean.interface_contacts ../data/modelled_mutations/2NZ9.mut.374_Repair.clean.pdb\n",
      "../data/modelled_mutations/2NZ9.mut.375_Repair.clean.interface_contacts ../data/modelled_mutations/2NZ9.mut.375_Repair.clean.pdb\n",
      "../data/modelled_mutations/2NZ9.mut.376_Repair.clean.interface_contacts ../data/modelled_mutations/2NZ9.mut.376_Repair.clean.pdb\n",
      "../data/modelled_mutations/2NZ9.mut.377_Repair.clean.interface_contacts ../data/modelled_mutations/2NZ9.mut.377_Repair.clean.pdb\n",
      "../data/modelled_mutations/2NZ9.mut.378_Repair.clean.interface_contacts ../data/modelled_mutations/2NZ9.mut.378_Repair.clean.pdb\n",
      "../data/modelled_mutations/2NZ9.mut.379_Repair.clean.interface_contacts ../data/modelled_mutations/2NZ9.mut.379_Repair.clean.pdb\n",
      "../data/modelled_mutations/2NZ9.mut.380_Repair.clean.interface_contacts ../data/modelled_mutations/2NZ9.mut.380_Repair.clean.pdb\n",
      "../data/modelled_mutations/2NZ9.mut.381_Repair.clean.interface_contacts ../data/modelled_mutations/2NZ9.mut.381_Repair.clean.pdb\n",
      "../data/modelled_mutations/2NZ9.mut.382_Repair.clean.interface_contacts ../data/modelled_mutations/2NZ9.mut.382_Repair.clean.pdb\n",
      "../data/modelled_mutations/2NZ9.mut.383_Repair.clean.interface_contacts ../data/modelled_mutations/2NZ9.mut.383_Repair.clean.pdb\n",
      "../data/modelled_mutations/2NZ9.mut.384_Repair.clean.interface_contacts ../data/modelled_mutations/2NZ9.mut.384_Repair.clean.pdb\n",
      "../data/modelled_mutations/2NZ9.mut.385_Repair.clean.interface_contacts ../data/modelled_mutations/2NZ9.mut.385_Repair.clean.pdb\n"
     ]
    },
    {
     "name": "stdout",
     "output_type": "stream",
     "text": [
      "../data/modelled_mutations/2NZ9.mut.386_Repair.clean.interface_contacts ../data/modelled_mutations/2NZ9.mut.386_Repair.clean.pdb\n",
      "../data/modelled_mutations/2NZ9.mut.387_Repair.clean.interface_contacts ../data/modelled_mutations/2NZ9.mut.387_Repair.clean.pdb\n",
      "../data/modelled_mutations/3BDY.mut.388_Repair.clean.interface_contacts ../data/modelled_mutations/3BDY.mut.388_Repair.clean.pdb\n",
      "../data/modelled_mutations/3BDY.mut.389_Repair.clean.interface_contacts ../data/modelled_mutations/3BDY.mut.389_Repair.clean.pdb\n",
      "../data/modelled_mutations/3BDY.mut.390_Repair.clean.interface_contacts ../data/modelled_mutations/3BDY.mut.390_Repair.clean.pdb\n",
      "../data/modelled_mutations/3BDY.mut.391_Repair.clean.interface_contacts ../data/modelled_mutations/3BDY.mut.391_Repair.clean.pdb\n",
      "../data/modelled_mutations/3BDY.mut.392_Repair.clean.interface_contacts ../data/modelled_mutations/3BDY.mut.392_Repair.clean.pdb\n",
      "../data/modelled_mutations/3BDY.mut.393_Repair.clean.interface_contacts ../data/modelled_mutations/3BDY.mut.393_Repair.clean.pdb\n",
      "../data/modelled_mutations/3BDY.mut.394_Repair.clean.interface_contacts ../data/modelled_mutations/3BDY.mut.394_Repair.clean.pdb\n",
      "../data/modelled_mutations/3BDY.mut.395_Repair.clean.interface_contacts ../data/modelled_mutations/3BDY.mut.395_Repair.clean.pdb\n",
      "../data/modelled_mutations/3BDY.mut.396_Repair.clean.interface_contacts ../data/modelled_mutations/3BDY.mut.396_Repair.clean.pdb\n",
      "../data/modelled_mutations/3BDY.mut.397_Repair.clean.interface_contacts ../data/modelled_mutations/3BDY.mut.397_Repair.clean.pdb\n",
      "../data/modelled_mutations/3BDY.mut.398_Repair.clean.interface_contacts ../data/modelled_mutations/3BDY.mut.398_Repair.clean.pdb\n",
      "../data/modelled_mutations/3BDY.mut.399_Repair.clean.interface_contacts ../data/modelled_mutations/3BDY.mut.399_Repair.clean.pdb\n",
      "../data/modelled_mutations/3BDY.mut.400_Repair.clean.interface_contacts ../data/modelled_mutations/3BDY.mut.400_Repair.clean.pdb\n",
      "../data/modelled_mutations/3BDY.mut.401_Repair.clean.interface_contacts ../data/modelled_mutations/3BDY.mut.401_Repair.clean.pdb\n",
      "../data/modelled_mutations/3BDY.mut.402_Repair.clean.interface_contacts ../data/modelled_mutations/3BDY.mut.402_Repair.clean.pdb\n",
      "../data/modelled_mutations/3BDY.mut.403_Repair.clean.interface_contacts ../data/modelled_mutations/3BDY.mut.403_Repair.clean.pdb\n",
      "../data/modelled_mutations/3BDY.mut.404_Repair.clean.interface_contacts ../data/modelled_mutations/3BDY.mut.404_Repair.clean.pdb\n",
      "../data/modelled_mutations/3BDY.mut.405_Repair.clean.interface_contacts ../data/modelled_mutations/3BDY.mut.405_Repair.clean.pdb\n",
      "../data/modelled_mutations/3BDY.mut.406_Repair.clean.interface_contacts ../data/modelled_mutations/3BDY.mut.406_Repair.clean.pdb\n",
      "../data/modelled_mutations/3BDY.mut.407_Repair.clean.interface_contacts ../data/modelled_mutations/3BDY.mut.407_Repair.clean.pdb\n",
      "../data/modelled_mutations/3BDY.mut.408_Repair.clean.interface_contacts ../data/modelled_mutations/3BDY.mut.408_Repair.clean.pdb\n",
      "../data/modelled_mutations/3BDY.mut.409_Repair.clean.interface_contacts ../data/modelled_mutations/3BDY.mut.409_Repair.clean.pdb\n",
      "../data/modelled_mutations/3BDY.mut.410_Repair.clean.interface_contacts ../data/modelled_mutations/3BDY.mut.410_Repair.clean.pdb\n",
      "../data/modelled_mutations/3BDY.mut.411_Repair.clean.interface_contacts ../data/modelled_mutations/3BDY.mut.411_Repair.clean.pdb\n",
      "../data/modelled_mutations/3BDY.mut.412_Repair.clean.interface_contacts ../data/modelled_mutations/3BDY.mut.412_Repair.clean.pdb\n",
      "../data/modelled_mutations/3BDY.mut.413_Repair.clean.interface_contacts ../data/modelled_mutations/3BDY.mut.413_Repair.clean.pdb\n",
      "../data/modelled_mutations/3BDY.mut.414_Repair.clean.interface_contacts ../data/modelled_mutations/3BDY.mut.414_Repair.clean.pdb\n",
      "../data/modelled_mutations/3BDY.mut.415_Repair.clean.interface_contacts ../data/modelled_mutations/3BDY.mut.415_Repair.clean.pdb\n",
      "../data/modelled_mutations/3BDY.mut.416_Repair.clean.interface_contacts ../data/modelled_mutations/3BDY.mut.416_Repair.clean.pdb\n",
      "../data/modelled_mutations/3BDY.mut.417_Repair.clean.interface_contacts ../data/modelled_mutations/3BDY.mut.417_Repair.clean.pdb\n",
      "../data/modelled_mutations/3BDY.mut.418_Repair.clean.interface_contacts ../data/modelled_mutations/3BDY.mut.418_Repair.clean.pdb\n",
      "../data/modelled_mutations/3BDY.mut.419_Repair.clean.interface_contacts ../data/modelled_mutations/3BDY.mut.419_Repair.clean.pdb\n",
      "../data/modelled_mutations/3BDY.mut.420_Repair.clean.interface_contacts ../data/modelled_mutations/3BDY.mut.420_Repair.clean.pdb\n",
      "../data/modelled_mutations/3BDY.mut.421_Repair.clean.interface_contacts ../data/modelled_mutations/3BDY.mut.421_Repair.clean.pdb\n",
      "../data/modelled_mutations/3BE1.mut.422_Repair.clean.interface_contacts ../data/modelled_mutations/3BE1.mut.422_Repair.clean.pdb\n",
      "../data/modelled_mutations/3BE1.mut.423_Repair.clean.interface_contacts ../data/modelled_mutations/3BE1.mut.423_Repair.clean.pdb\n",
      "../data/modelled_mutations/3BE1.mut.424_Repair.clean.interface_contacts ../data/modelled_mutations/3BE1.mut.424_Repair.clean.pdb\n",
      "../data/modelled_mutations/3BE1.mut.425_Repair.clean.interface_contacts ../data/modelled_mutations/3BE1.mut.425_Repair.clean.pdb\n",
      "../data/modelled_mutations/3BE1.mut.426_Repair.clean.interface_contacts ../data/modelled_mutations/3BE1.mut.426_Repair.clean.pdb\n",
      "../data/modelled_mutations/3BE1.mut.427_Repair.clean.interface_contacts ../data/modelled_mutations/3BE1.mut.427_Repair.clean.pdb\n",
      "../data/modelled_mutations/3BE1.mut.428_Repair.clean.interface_contacts ../data/modelled_mutations/3BE1.mut.428_Repair.clean.pdb\n",
      "../data/modelled_mutations/3BE1.mut.429_Repair.clean.interface_contacts ../data/modelled_mutations/3BE1.mut.429_Repair.clean.pdb\n",
      "../data/modelled_mutations/3BE1.mut.430_Repair.clean.interface_contacts ../data/modelled_mutations/3BE1.mut.430_Repair.clean.pdb\n",
      "../data/modelled_mutations/3BE1.mut.431_Repair.clean.interface_contacts ../data/modelled_mutations/3BE1.mut.431_Repair.clean.pdb\n",
      "../data/modelled_mutations/3BE1.mut.432_Repair.clean.interface_contacts ../data/modelled_mutations/3BE1.mut.432_Repair.clean.pdb\n",
      "../data/modelled_mutations/3BE1.mut.433_Repair.clean.interface_contacts ../data/modelled_mutations/3BE1.mut.433_Repair.clean.pdb\n",
      "../data/modelled_mutations/3BE1.mut.434_Repair.clean.interface_contacts ../data/modelled_mutations/3BE1.mut.434_Repair.clean.pdb\n",
      "../data/modelled_mutations/3BE1.mut.435_Repair.clean.interface_contacts ../data/modelled_mutations/3BE1.mut.435_Repair.clean.pdb\n",
      "../data/modelled_mutations/3BE1.mut.436_Repair.clean.interface_contacts ../data/modelled_mutations/3BE1.mut.436_Repair.clean.pdb\n",
      "../data/modelled_mutations/3BE1.mut.437_Repair.clean.interface_contacts ../data/modelled_mutations/3BE1.mut.437_Repair.clean.pdb\n",
      "../data/modelled_mutations/3BE1.mut.438_Repair.clean.interface_contacts ../data/modelled_mutations/3BE1.mut.438_Repair.clean.pdb\n",
      "../data/modelled_mutations/3BE1.mut.439_Repair.clean.interface_contacts ../data/modelled_mutations/3BE1.mut.439_Repair.clean.pdb\n",
      "../data/modelled_mutations/3BE1.mut.440_Repair.clean.interface_contacts ../data/modelled_mutations/3BE1.mut.440_Repair.clean.pdb\n",
      "../data/modelled_mutations/3BE1.mut.441_Repair.clean.interface_contacts ../data/modelled_mutations/3BE1.mut.441_Repair.clean.pdb\n",
      "../data/modelled_mutations/3BE1.mut.442_Repair.clean.interface_contacts ../data/modelled_mutations/3BE1.mut.442_Repair.clean.pdb\n",
      "../data/modelled_mutations/3BE1.mut.443_Repair.clean.interface_contacts ../data/modelled_mutations/3BE1.mut.443_Repair.clean.pdb\n",
      "../data/modelled_mutations/3BE1.mut.444_Repair.clean.interface_contacts ../data/modelled_mutations/3BE1.mut.444_Repair.clean.pdb\n",
      "../data/modelled_mutations/3BE1.mut.445_Repair.clean.interface_contacts ../data/modelled_mutations/3BE1.mut.445_Repair.clean.pdb\n",
      "../data/modelled_mutations/3BE1.mut.446_Repair.clean.interface_contacts ../data/modelled_mutations/3BE1.mut.446_Repair.clean.pdb\n",
      "../data/modelled_mutations/3BE1.mut.447_Repair.clean.interface_contacts ../data/modelled_mutations/3BE1.mut.447_Repair.clean.pdb\n",
      "../data/modelled_mutations/3BE1.mut.448_Repair.clean.interface_contacts ../data/modelled_mutations/3BE1.mut.448_Repair.clean.pdb\n",
      "../data/modelled_mutations/3BE1.mut.449_Repair.clean.interface_contacts ../data/modelled_mutations/3BE1.mut.449_Repair.clean.pdb\n"
     ]
    },
    {
     "name": "stdout",
     "output_type": "stream",
     "text": [
      "../data/modelled_mutations/3BE1.mut.450_Repair.clean.interface_contacts ../data/modelled_mutations/3BE1.mut.450_Repair.clean.pdb\n",
      "../data/modelled_mutations/3BE1.mut.451_Repair.clean.interface_contacts ../data/modelled_mutations/3BE1.mut.451_Repair.clean.pdb\n",
      "../data/modelled_mutations/3BE1.mut.452_Repair.clean.interface_contacts ../data/modelled_mutations/3BE1.mut.452_Repair.clean.pdb\n",
      "../data/modelled_mutations/3BE1.mut.453_Repair.clean.interface_contacts ../data/modelled_mutations/3BE1.mut.453_Repair.clean.pdb\n",
      "../data/modelled_mutations/3BE1.mut.454_Repair.clean.interface_contacts ../data/modelled_mutations/3BE1.mut.454_Repair.clean.pdb\n",
      "../data/modelled_mutations/3BE1.mut.455_Repair.clean.interface_contacts ../data/modelled_mutations/3BE1.mut.455_Repair.clean.pdb\n",
      "../data/modelled_mutations/3BN9.mut.456_Repair.clean.interface_contacts ../data/modelled_mutations/3BN9.mut.456_Repair.clean.pdb\n",
      "../data/modelled_mutations/3BN9.mut.457_Repair.clean.interface_contacts ../data/modelled_mutations/3BN9.mut.457_Repair.clean.pdb\n",
      "../data/modelled_mutations/3BN9.mut.458_Repair.clean.interface_contacts ../data/modelled_mutations/3BN9.mut.458_Repair.clean.pdb\n",
      "../data/modelled_mutations/3BN9.mut.459_Repair.clean.interface_contacts ../data/modelled_mutations/3BN9.mut.459_Repair.clean.pdb\n",
      "../data/modelled_mutations/3BN9.mut.460_Repair.clean.interface_contacts ../data/modelled_mutations/3BN9.mut.460_Repair.clean.pdb\n",
      "../data/modelled_mutations/3BN9.mut.461_Repair.clean.interface_contacts ../data/modelled_mutations/3BN9.mut.461_Repair.clean.pdb\n",
      "../data/modelled_mutations/3BN9.mut.462_Repair.clean.interface_contacts ../data/modelled_mutations/3BN9.mut.462_Repair.clean.pdb\n",
      "../data/modelled_mutations/3BN9.mut.463_Repair.clean.interface_contacts ../data/modelled_mutations/3BN9.mut.463_Repair.clean.pdb\n",
      "../data/modelled_mutations/3BN9.mut.464_Repair.clean.interface_contacts ../data/modelled_mutations/3BN9.mut.464_Repair.clean.pdb\n",
      "../data/modelled_mutations/3BN9.mut.465_Repair.clean.interface_contacts ../data/modelled_mutations/3BN9.mut.465_Repair.clean.pdb\n",
      "../data/modelled_mutations/3BN9.mut.466_Repair.clean.interface_contacts ../data/modelled_mutations/3BN9.mut.466_Repair.clean.pdb\n",
      "../data/modelled_mutations/3BN9.mut.467_Repair.clean.interface_contacts ../data/modelled_mutations/3BN9.mut.467_Repair.clean.pdb\n",
      "../data/modelled_mutations/3BN9.mut.468_Repair.clean.interface_contacts ../data/modelled_mutations/3BN9.mut.468_Repair.clean.pdb\n",
      "../data/modelled_mutations/3BN9.mut.469_Repair.clean.interface_contacts ../data/modelled_mutations/3BN9.mut.469_Repair.clean.pdb\n",
      "../data/modelled_mutations/3BN9.mut.470_Repair.clean.interface_contacts ../data/modelled_mutations/3BN9.mut.470_Repair.clean.pdb\n",
      "../data/modelled_mutations/3BN9.mut.471_Repair.clean.interface_contacts ../data/modelled_mutations/3BN9.mut.471_Repair.clean.pdb\n",
      "../data/modelled_mutations/3BN9.mut.472_Repair.clean.interface_contacts ../data/modelled_mutations/3BN9.mut.472_Repair.clean.pdb\n",
      "../data/modelled_mutations/3BN9.mut.473_Repair.clean.interface_contacts ../data/modelled_mutations/3BN9.mut.473_Repair.clean.pdb\n",
      "../data/modelled_mutations/3BN9.mut.474_Repair.clean.interface_contacts ../data/modelled_mutations/3BN9.mut.474_Repair.clean.pdb\n",
      "../data/modelled_mutations/3BN9.mut.475_Repair.clean.interface_contacts ../data/modelled_mutations/3BN9.mut.475_Repair.clean.pdb\n",
      "../data/modelled_mutations/3BN9.mut.476_Repair.clean.interface_contacts ../data/modelled_mutations/3BN9.mut.476_Repair.clean.pdb\n",
      "../data/modelled_mutations/3BN9.mut.477_Repair.clean.interface_contacts ../data/modelled_mutations/3BN9.mut.477_Repair.clean.pdb\n",
      "../data/modelled_mutations/3BN9.mut.478_Repair.clean.interface_contacts ../data/modelled_mutations/3BN9.mut.478_Repair.clean.pdb\n",
      "../data/modelled_mutations/3BN9.mut.479_Repair.clean.interface_contacts ../data/modelled_mutations/3BN9.mut.479_Repair.clean.pdb\n",
      "../data/modelled_mutations/3BN9.mut.480_Repair.clean.interface_contacts ../data/modelled_mutations/3BN9.mut.480_Repair.clean.pdb\n",
      "../data/modelled_mutations/3BN9.mut.481_Repair.clean.interface_contacts ../data/modelled_mutations/3BN9.mut.481_Repair.clean.pdb\n",
      "../data/modelled_mutations/3BN9.mut.482_Repair.clean.interface_contacts ../data/modelled_mutations/3BN9.mut.482_Repair.clean.pdb\n",
      "../data/modelled_mutations/3BN9.mut.483_Repair.clean.interface_contacts ../data/modelled_mutations/3BN9.mut.483_Repair.clean.pdb\n",
      "../data/modelled_mutations/3BN9.mut.484_Repair.clean.interface_contacts ../data/modelled_mutations/3BN9.mut.484_Repair.clean.pdb\n",
      "../data/modelled_mutations/3BN9.mut.485_Repair.clean.interface_contacts ../data/modelled_mutations/3BN9.mut.485_Repair.clean.pdb\n",
      "../data/modelled_mutations/3BN9.mut.486_Repair.clean.interface_contacts ../data/modelled_mutations/3BN9.mut.486_Repair.clean.pdb\n",
      "../data/modelled_mutations/3BN9.mut.487_Repair.clean.interface_contacts ../data/modelled_mutations/3BN9.mut.487_Repair.clean.pdb\n",
      "../data/modelled_mutations/3BN9.mut.488_Repair.clean.interface_contacts ../data/modelled_mutations/3BN9.mut.488_Repair.clean.pdb\n",
      "../data/modelled_mutations/3BN9.mut.489_Repair.clean.interface_contacts ../data/modelled_mutations/3BN9.mut.489_Repair.clean.pdb\n",
      "../data/modelled_mutations/3BN9.mut.490_Repair.clean.interface_contacts ../data/modelled_mutations/3BN9.mut.490_Repair.clean.pdb\n",
      "../data/modelled_mutations/3HFM.mut.491_Repair.clean.interface_contacts ../data/modelled_mutations/3HFM.mut.491_Repair.clean.pdb\n",
      "../data/modelled_mutations/3HFM.mut.492_Repair.clean.interface_contacts ../data/modelled_mutations/3HFM.mut.492_Repair.clean.pdb\n",
      "../data/modelled_mutations/3HFM.mut.493_Repair.clean.interface_contacts ../data/modelled_mutations/3HFM.mut.493_Repair.clean.pdb\n",
      "../data/modelled_mutations/3HFM.mut.494_Repair.clean.interface_contacts ../data/modelled_mutations/3HFM.mut.494_Repair.clean.pdb\n",
      "../data/modelled_mutations/3HFM.mut.495_Repair.clean.interface_contacts ../data/modelled_mutations/3HFM.mut.495_Repair.clean.pdb\n",
      "../data/modelled_mutations/3HFM.mut.496_Repair.clean.interface_contacts ../data/modelled_mutations/3HFM.mut.496_Repair.clean.pdb\n",
      "../data/modelled_mutations/3HFM.mut.497_Repair.clean.interface_contacts ../data/modelled_mutations/3HFM.mut.497_Repair.clean.pdb\n",
      "../data/modelled_mutations/3HFM.mut.498_Repair.clean.interface_contacts ../data/modelled_mutations/3HFM.mut.498_Repair.clean.pdb\n",
      "../data/modelled_mutations/3HFM.mut.499_Repair.clean.interface_contacts ../data/modelled_mutations/3HFM.mut.499_Repair.clean.pdb\n",
      "../data/modelled_mutations/3HFM.mut.500_Repair.clean.interface_contacts ../data/modelled_mutations/3HFM.mut.500_Repair.clean.pdb\n",
      "../data/modelled_mutations/3HFM.mut.501_Repair.clean.interface_contacts ../data/modelled_mutations/3HFM.mut.501_Repair.clean.pdb\n",
      "../data/modelled_mutations/3HFM.mut.502_Repair.clean.interface_contacts ../data/modelled_mutations/3HFM.mut.502_Repair.clean.pdb\n",
      "../data/modelled_mutations/3HFM.mut.503_Repair.clean.interface_contacts ../data/modelled_mutations/3HFM.mut.503_Repair.clean.pdb\n",
      "../data/modelled_mutations/3HFM.mut.504_Repair.clean.interface_contacts ../data/modelled_mutations/3HFM.mut.504_Repair.clean.pdb\n",
      "../data/modelled_mutations/3HFM.mut.505_Repair.clean.interface_contacts ../data/modelled_mutations/3HFM.mut.505_Repair.clean.pdb\n",
      "../data/modelled_mutations/3HFM.mut.506_Repair.clean.interface_contacts ../data/modelled_mutations/3HFM.mut.506_Repair.clean.pdb\n",
      "../data/modelled_mutations/3HFM.mut.507_Repair.clean.interface_contacts ../data/modelled_mutations/3HFM.mut.507_Repair.clean.pdb\n",
      "../data/modelled_mutations/3HFM.mut.508_Repair.clean.interface_contacts ../data/modelled_mutations/3HFM.mut.508_Repair.clean.pdb\n",
      "../data/modelled_mutations/3HFM.mut.509_Repair.clean.interface_contacts ../data/modelled_mutations/3HFM.mut.509_Repair.clean.pdb\n",
      "../data/modelled_mutations/3HFM.mut.510_Repair.clean.interface_contacts ../data/modelled_mutations/3HFM.mut.510_Repair.clean.pdb\n",
      "../data/modelled_mutations/3HFM.mut.511_Repair.clean.interface_contacts ../data/modelled_mutations/3HFM.mut.511_Repair.clean.pdb\n",
      "../data/modelled_mutations/3HFM.mut.512_Repair.clean.interface_contacts ../data/modelled_mutations/3HFM.mut.512_Repair.clean.pdb\n",
      "../data/modelled_mutations/3K2M.mut.513_Repair.clean.interface_contacts ../data/modelled_mutations/3K2M.mut.513_Repair.clean.pdb\n"
     ]
    },
    {
     "name": "stdout",
     "output_type": "stream",
     "text": [
      "../data/modelled_mutations/3K2M.mut.514_Repair.clean.interface_contacts ../data/modelled_mutations/3K2M.mut.514_Repair.clean.pdb\n",
      "../data/modelled_mutations/3K2M.mut.515_Repair.clean.interface_contacts ../data/modelled_mutations/3K2M.mut.515_Repair.clean.pdb\n",
      "../data/modelled_mutations/3K2M.mut.516_Repair.clean.interface_contacts ../data/modelled_mutations/3K2M.mut.516_Repair.clean.pdb\n",
      "../data/modelled_mutations/3K2M.mut.517_Repair.clean.interface_contacts ../data/modelled_mutations/3K2M.mut.517_Repair.clean.pdb\n",
      "../data/modelled_mutations/3K2M.mut.518_Repair.clean.interface_contacts ../data/modelled_mutations/3K2M.mut.518_Repair.clean.pdb\n",
      "../data/modelled_mutations/3K2M.mut.519_Repair.clean.interface_contacts ../data/modelled_mutations/3K2M.mut.519_Repair.clean.pdb\n",
      "../data/modelled_mutations/3NGB.mut.520_Repair.clean.interface_contacts ../data/modelled_mutations/3NGB.mut.520_Repair.clean.pdb\n",
      "../data/modelled_mutations/3NGB.mut.521_Repair.clean.interface_contacts ../data/modelled_mutations/3NGB.mut.521_Repair.clean.pdb\n",
      "../data/modelled_mutations/3NGB.mut.522_Repair.clean.interface_contacts ../data/modelled_mutations/3NGB.mut.522_Repair.clean.pdb\n",
      "../data/modelled_mutations/3NGB.mut.523_Repair.clean.interface_contacts ../data/modelled_mutations/3NGB.mut.523_Repair.clean.pdb\n",
      "../data/modelled_mutations/3NGB.mut.524_Repair.clean.interface_contacts ../data/modelled_mutations/3NGB.mut.524_Repair.clean.pdb\n",
      "../data/modelled_mutations/3NGB.mut.525_Repair.clean.interface_contacts ../data/modelled_mutations/3NGB.mut.525_Repair.clean.pdb\n",
      "../data/modelled_mutations/3NGB.mut.526_Repair.clean.interface_contacts ../data/modelled_mutations/3NGB.mut.526_Repair.clean.pdb\n",
      "../data/modelled_mutations/3NGB.mut.527_Repair.clean.interface_contacts ../data/modelled_mutations/3NGB.mut.527_Repair.clean.pdb\n",
      "../data/modelled_mutations/3NGB.mut.528_Repair.clean.interface_contacts ../data/modelled_mutations/3NGB.mut.528_Repair.clean.pdb\n",
      "../data/modelled_mutations/3NGB.mut.529_Repair.clean.interface_contacts ../data/modelled_mutations/3NGB.mut.529_Repair.clean.pdb\n",
      "../data/modelled_mutations/3NGB.mut.530_Repair.clean.interface_contacts ../data/modelled_mutations/3NGB.mut.530_Repair.clean.pdb\n",
      "../data/modelled_mutations/3NPS.mut.531_Repair.clean.interface_contacts ../data/modelled_mutations/3NPS.mut.531_Repair.clean.pdb\n",
      "../data/modelled_mutations/3NPS.mut.532_Repair.clean.interface_contacts ../data/modelled_mutations/3NPS.mut.532_Repair.clean.pdb\n",
      "../data/modelled_mutations/3NPS.mut.533_Repair.clean.interface_contacts ../data/modelled_mutations/3NPS.mut.533_Repair.clean.pdb\n",
      "../data/modelled_mutations/3NPS.mut.534_Repair.clean.interface_contacts ../data/modelled_mutations/3NPS.mut.534_Repair.clean.pdb\n",
      "../data/modelled_mutations/3NPS.mut.535_Repair.clean.interface_contacts ../data/modelled_mutations/3NPS.mut.535_Repair.clean.pdb\n",
      "../data/modelled_mutations/3NPS.mut.536_Repair.clean.interface_contacts ../data/modelled_mutations/3NPS.mut.536_Repair.clean.pdb\n",
      "../data/modelled_mutations/3NPS.mut.537_Repair.clean.interface_contacts ../data/modelled_mutations/3NPS.mut.537_Repair.clean.pdb\n",
      "../data/modelled_mutations/3NPS.mut.538_Repair.clean.interface_contacts ../data/modelled_mutations/3NPS.mut.538_Repair.clean.pdb\n",
      "../data/modelled_mutations/3NPS.mut.539_Repair.clean.interface_contacts ../data/modelled_mutations/3NPS.mut.539_Repair.clean.pdb\n",
      "../data/modelled_mutations/3NPS.mut.540_Repair.clean.interface_contacts ../data/modelled_mutations/3NPS.mut.540_Repair.clean.pdb\n",
      "../data/modelled_mutations/3NPS.mut.541_Repair.clean.interface_contacts ../data/modelled_mutations/3NPS.mut.541_Repair.clean.pdb\n",
      "../data/modelled_mutations/3NPS.mut.542_Repair.clean.interface_contacts ../data/modelled_mutations/3NPS.mut.542_Repair.clean.pdb\n",
      "../data/modelled_mutations/3NPS.mut.543_Repair.clean.interface_contacts ../data/modelled_mutations/3NPS.mut.543_Repair.clean.pdb\n",
      "../data/modelled_mutations/3NPS.mut.544_Repair.clean.interface_contacts ../data/modelled_mutations/3NPS.mut.544_Repair.clean.pdb\n",
      "../data/modelled_mutations/3NPS.mut.545_Repair.clean.interface_contacts ../data/modelled_mutations/3NPS.mut.545_Repair.clean.pdb\n",
      "../data/modelled_mutations/3NPS.mut.546_Repair.clean.interface_contacts ../data/modelled_mutations/3NPS.mut.546_Repair.clean.pdb\n",
      "../data/modelled_mutations/3NPS.mut.547_Repair.clean.interface_contacts ../data/modelled_mutations/3NPS.mut.547_Repair.clean.pdb\n",
      "../data/modelled_mutations/3NPS.mut.548_Repair.clean.interface_contacts ../data/modelled_mutations/3NPS.mut.548_Repair.clean.pdb\n",
      "../data/modelled_mutations/3NPS.mut.549_Repair.clean.interface_contacts ../data/modelled_mutations/3NPS.mut.549_Repair.clean.pdb\n",
      "../data/modelled_mutations/3NPS.mut.550_Repair.clean.interface_contacts ../data/modelled_mutations/3NPS.mut.550_Repair.clean.pdb\n",
      "../data/modelled_mutations/3NPS.mut.551_Repair.clean.interface_contacts ../data/modelled_mutations/3NPS.mut.551_Repair.clean.pdb\n",
      "../data/modelled_mutations/3NPS.mut.552_Repair.clean.interface_contacts ../data/modelled_mutations/3NPS.mut.552_Repair.clean.pdb\n",
      "../data/modelled_mutations/3NPS.mut.553_Repair.clean.interface_contacts ../data/modelled_mutations/3NPS.mut.553_Repair.clean.pdb\n",
      "../data/modelled_mutations/3NPS.mut.554_Repair.clean.interface_contacts ../data/modelled_mutations/3NPS.mut.554_Repair.clean.pdb\n",
      "../data/modelled_mutations/3NPS.mut.555_Repair.clean.interface_contacts ../data/modelled_mutations/3NPS.mut.555_Repair.clean.pdb\n",
      "../data/modelled_mutations/3NPS.mut.556_Repair.clean.interface_contacts ../data/modelled_mutations/3NPS.mut.556_Repair.clean.pdb\n",
      "../data/modelled_mutations/3NPS.mut.557_Repair.clean.interface_contacts ../data/modelled_mutations/3NPS.mut.557_Repair.clean.pdb\n",
      "../data/modelled_mutations/HM_1KTZ.mut.558_Repair.clean.interface_contacts ../data/modelled_mutations/HM_1KTZ.mut.558_Repair.clean.pdb\n",
      "../data/modelled_mutations/HM_1KTZ.mut.559_Repair.clean.interface_contacts ../data/modelled_mutations/HM_1KTZ.mut.559_Repair.clean.pdb\n",
      "../data/modelled_mutations/HM_1KTZ.mut.560_Repair.clean.interface_contacts ../data/modelled_mutations/HM_1KTZ.mut.560_Repair.clean.pdb\n",
      "../data/modelled_mutations/HM_1KTZ.mut.561_Repair.clean.interface_contacts ../data/modelled_mutations/HM_1KTZ.mut.561_Repair.clean.pdb\n",
      "../data/modelled_mutations/HM_1KTZ.mut.562_Repair.clean.interface_contacts ../data/modelled_mutations/HM_1KTZ.mut.562_Repair.clean.pdb\n",
      "../data/modelled_mutations/HM_1KTZ.mut.563_Repair.clean.interface_contacts ../data/modelled_mutations/HM_1KTZ.mut.563_Repair.clean.pdb\n",
      "../data/modelled_mutations/HM_1KTZ.mut.564_Repair.clean.interface_contacts ../data/modelled_mutations/HM_1KTZ.mut.564_Repair.clean.pdb\n",
      "../data/modelled_mutations/HM_1KTZ.mut.565_Repair.clean.interface_contacts ../data/modelled_mutations/HM_1KTZ.mut.565_Repair.clean.pdb\n",
      "../data/modelled_mutations/HM_1KTZ.mut.566_Repair.clean.interface_contacts ../data/modelled_mutations/HM_1KTZ.mut.566_Repair.clean.pdb\n",
      "../data/modelled_mutations/HM_1KTZ.mut.567_Repair.clean.interface_contacts ../data/modelled_mutations/HM_1KTZ.mut.567_Repair.clean.pdb\n",
      "../data/modelled_mutations/HM_1KTZ.mut.568_Repair.clean.interface_contacts ../data/modelled_mutations/HM_1KTZ.mut.568_Repair.clean.pdb\n",
      "../data/modelled_mutations/HM_1KTZ.mut.569_Repair.clean.interface_contacts ../data/modelled_mutations/HM_1KTZ.mut.569_Repair.clean.pdb\n",
      "../data/modelled_mutations/HM_1KTZ.mut.570_Repair.clean.interface_contacts ../data/modelled_mutations/HM_1KTZ.mut.570_Repair.clean.pdb\n",
      "../data/modelled_mutations/HM_1KTZ.mut.571_Repair.clean.interface_contacts ../data/modelled_mutations/HM_1KTZ.mut.571_Repair.clean.pdb\n",
      "../data/modelled_mutations/HM_1KTZ.mut.572_Repair.clean.interface_contacts ../data/modelled_mutations/HM_1KTZ.mut.572_Repair.clean.pdb\n",
      "../data/modelled_mutations/HM_1KTZ.mut.573_Repair.clean.interface_contacts ../data/modelled_mutations/HM_1KTZ.mut.573_Repair.clean.pdb\n",
      "../data/modelled_mutations/HM_1KTZ.mut.574_Repair.clean.interface_contacts ../data/modelled_mutations/HM_1KTZ.mut.574_Repair.clean.pdb\n",
      "../data/modelled_mutations/HM_1KTZ.mut.575_Repair.clean.interface_contacts ../data/modelled_mutations/HM_1KTZ.mut.575_Repair.clean.pdb\n",
      "../data/modelled_mutations/HM_1KTZ.mut.576_Repair.clean.interface_contacts ../data/modelled_mutations/HM_1KTZ.mut.576_Repair.clean.pdb\n",
      "../data/modelled_mutations/HM_1KTZ.mut.577_Repair.clean.interface_contacts ../data/modelled_mutations/HM_1KTZ.mut.577_Repair.clean.pdb\n"
     ]
    },
    {
     "name": "stdout",
     "output_type": "stream",
     "text": [
      "../data/modelled_mutations/HM_1KTZ.mut.578_Repair.clean.interface_contacts ../data/modelled_mutations/HM_1KTZ.mut.578_Repair.clean.pdb\n",
      "../data/modelled_mutations/HM_1KTZ.mut.579_Repair.clean.interface_contacts ../data/modelled_mutations/HM_1KTZ.mut.579_Repair.clean.pdb\n",
      "../data/modelled_mutations/HM_1YY9.mut.580_Repair.clean.interface_contacts ../data/modelled_mutations/HM_1YY9.mut.580_Repair.clean.pdb\n",
      "../data/modelled_mutations/HM_1YY9.mut.581_Repair.clean.interface_contacts ../data/modelled_mutations/HM_1YY9.mut.581_Repair.clean.pdb\n",
      "../data/modelled_mutations/HM_1YY9.mut.582_Repair.clean.interface_contacts ../data/modelled_mutations/HM_1YY9.mut.582_Repair.clean.pdb\n",
      "../data/modelled_mutations/HM_1YY9.mut.583_Repair.clean.interface_contacts ../data/modelled_mutations/HM_1YY9.mut.583_Repair.clean.pdb\n",
      "../data/modelled_mutations/HM_1YY9.mut.584_Repair.clean.interface_contacts ../data/modelled_mutations/HM_1YY9.mut.584_Repair.clean.pdb\n",
      "../data/modelled_mutations/HM_1YY9.mut.585_Repair.clean.interface_contacts ../data/modelled_mutations/HM_1YY9.mut.585_Repair.clean.pdb\n",
      "../data/modelled_mutations/HM_1YY9.mut.586_Repair.clean.interface_contacts ../data/modelled_mutations/HM_1YY9.mut.586_Repair.clean.pdb\n",
      "../data/modelled_mutations/HM_1YY9.mut.587_Repair.clean.interface_contacts ../data/modelled_mutations/HM_1YY9.mut.587_Repair.clean.pdb\n",
      "../data/modelled_mutations/HM_1YY9.mut.588_Repair.clean.interface_contacts ../data/modelled_mutations/HM_1YY9.mut.588_Repair.clean.pdb\n",
      "../data/modelled_mutations/HM_1YY9.mut.589_Repair.clean.interface_contacts ../data/modelled_mutations/HM_1YY9.mut.589_Repair.clean.pdb\n",
      "../data/modelled_mutations/HM_1YY9.mut.590_Repair.clean.interface_contacts ../data/modelled_mutations/HM_1YY9.mut.590_Repair.clean.pdb\n",
      "../data/modelled_mutations/HM_1YY9.mut.591_Repair.clean.interface_contacts ../data/modelled_mutations/HM_1YY9.mut.591_Repair.clean.pdb\n",
      "../data/modelled_mutations/HM_1YY9.mut.592_Repair.clean.interface_contacts ../data/modelled_mutations/HM_1YY9.mut.592_Repair.clean.pdb\n",
      "../data/modelled_mutations/HM_1YY9.mut.593_Repair.clean.interface_contacts ../data/modelled_mutations/HM_1YY9.mut.593_Repair.clean.pdb\n",
      "../data/modelled_mutations/HM_1YY9.mut.594_Repair.clean.interface_contacts ../data/modelled_mutations/HM_1YY9.mut.594_Repair.clean.pdb\n",
      "../data/modelled_mutations/HM_1YY9.mut.595_Repair.clean.interface_contacts ../data/modelled_mutations/HM_1YY9.mut.595_Repair.clean.pdb\n",
      "../data/modelled_mutations/HM_2NYY.mut.596_Repair.clean.interface_contacts ../data/modelled_mutations/HM_2NYY.mut.596_Repair.clean.pdb\n",
      "../data/modelled_mutations/HM_2NYY.mut.597_Repair.clean.interface_contacts ../data/modelled_mutations/HM_2NYY.mut.597_Repair.clean.pdb\n",
      "../data/modelled_mutations/HM_2NYY.mut.598_Repair.clean.interface_contacts ../data/modelled_mutations/HM_2NYY.mut.598_Repair.clean.pdb\n",
      "../data/modelled_mutations/HM_2NYY.mut.599_Repair.clean.interface_contacts ../data/modelled_mutations/HM_2NYY.mut.599_Repair.clean.pdb\n",
      "../data/modelled_mutations/HM_2NYY.mut.600_Repair.clean.interface_contacts ../data/modelled_mutations/HM_2NYY.mut.600_Repair.clean.pdb\n",
      "../data/modelled_mutations/HM_2NYY.mut.601_Repair.clean.interface_contacts ../data/modelled_mutations/HM_2NYY.mut.601_Repair.clean.pdb\n",
      "../data/modelled_mutations/HM_2NYY.mut.602_Repair.clean.interface_contacts ../data/modelled_mutations/HM_2NYY.mut.602_Repair.clean.pdb\n",
      "../data/modelled_mutations/HM_2NYY.mut.603_Repair.clean.interface_contacts ../data/modelled_mutations/HM_2NYY.mut.603_Repair.clean.pdb\n",
      "../data/modelled_mutations/HM_2NYY.mut.604_Repair.clean.interface_contacts ../data/modelled_mutations/HM_2NYY.mut.604_Repair.clean.pdb\n",
      "../data/modelled_mutations/HM_2NYY.mut.605_Repair.clean.interface_contacts ../data/modelled_mutations/HM_2NYY.mut.605_Repair.clean.pdb\n",
      "../data/modelled_mutations/HM_2NYY.mut.606_Repair.clean.interface_contacts ../data/modelled_mutations/HM_2NYY.mut.606_Repair.clean.pdb\n",
      "../data/modelled_mutations/HM_2NYY.mut.607_Repair.clean.interface_contacts ../data/modelled_mutations/HM_2NYY.mut.607_Repair.clean.pdb\n",
      "../data/modelled_mutations/HM_2NYY.mut.608_Repair.clean.interface_contacts ../data/modelled_mutations/HM_2NYY.mut.608_Repair.clean.pdb\n",
      "../data/modelled_mutations/HM_2NYY.mut.609_Repair.clean.interface_contacts ../data/modelled_mutations/HM_2NYY.mut.609_Repair.clean.pdb\n",
      "../data/modelled_mutations/HM_2NYY.mut.610_Repair.clean.interface_contacts ../data/modelled_mutations/HM_2NYY.mut.610_Repair.clean.pdb\n",
      "../data/modelled_mutations/HM_2NYY.mut.611_Repair.clean.interface_contacts ../data/modelled_mutations/HM_2NYY.mut.611_Repair.clean.pdb\n",
      "../data/modelled_mutations/HM_2NYY.mut.612_Repair.clean.interface_contacts ../data/modelled_mutations/HM_2NYY.mut.612_Repair.clean.pdb\n",
      "../data/modelled_mutations/HM_2NYY.mut.613_Repair.clean.interface_contacts ../data/modelled_mutations/HM_2NYY.mut.613_Repair.clean.pdb\n",
      "../data/modelled_mutations/HM_2NYY.mut.614_Repair.clean.interface_contacts ../data/modelled_mutations/HM_2NYY.mut.614_Repair.clean.pdb\n",
      "../data/modelled_mutations/HM_2NYY.mut.615_Repair.clean.interface_contacts ../data/modelled_mutations/HM_2NYY.mut.615_Repair.clean.pdb\n",
      "../data/modelled_mutations/HM_2NYY.mut.616_Repair.clean.interface_contacts ../data/modelled_mutations/HM_2NYY.mut.616_Repair.clean.pdb\n",
      "../data/modelled_mutations/HM_2NYY.mut.617_Repair.clean.interface_contacts ../data/modelled_mutations/HM_2NYY.mut.617_Repair.clean.pdb\n",
      "../data/modelled_mutations/HM_2NYY.mut.618_Repair.clean.interface_contacts ../data/modelled_mutations/HM_2NYY.mut.618_Repair.clean.pdb\n",
      "../data/modelled_mutations/HM_2NYY.mut.619_Repair.clean.interface_contacts ../data/modelled_mutations/HM_2NYY.mut.619_Repair.clean.pdb\n",
      "../data/modelled_mutations/HM_2NYY.mut.620_Repair.clean.interface_contacts ../data/modelled_mutations/HM_2NYY.mut.620_Repair.clean.pdb\n",
      "../data/modelled_mutations/HM_2NZ9.mut.621_Repair.clean.interface_contacts ../data/modelled_mutations/HM_2NZ9.mut.621_Repair.clean.pdb\n",
      "../data/modelled_mutations/HM_2NZ9.mut.622_Repair.clean.interface_contacts ../data/modelled_mutations/HM_2NZ9.mut.622_Repair.clean.pdb\n",
      "../data/modelled_mutations/HM_2NZ9.mut.623_Repair.clean.interface_contacts ../data/modelled_mutations/HM_2NZ9.mut.623_Repair.clean.pdb\n",
      "../data/modelled_mutations/HM_2NZ9.mut.624_Repair.clean.interface_contacts ../data/modelled_mutations/HM_2NZ9.mut.624_Repair.clean.pdb\n",
      "../data/modelled_mutations/HM_2NZ9.mut.625_Repair.clean.interface_contacts ../data/modelled_mutations/HM_2NZ9.mut.625_Repair.clean.pdb\n",
      "../data/modelled_mutations/HM_2NZ9.mut.626_Repair.clean.interface_contacts ../data/modelled_mutations/HM_2NZ9.mut.626_Repair.clean.pdb\n",
      "../data/modelled_mutations/HM_2NZ9.mut.627_Repair.clean.interface_contacts ../data/modelled_mutations/HM_2NZ9.mut.627_Repair.clean.pdb\n",
      "../data/modelled_mutations/HM_2NZ9.mut.628_Repair.clean.interface_contacts ../data/modelled_mutations/HM_2NZ9.mut.628_Repair.clean.pdb\n",
      "../data/modelled_mutations/HM_2NZ9.mut.629_Repair.clean.interface_contacts ../data/modelled_mutations/HM_2NZ9.mut.629_Repair.clean.pdb\n",
      "../data/modelled_mutations/HM_2NZ9.mut.630_Repair.clean.interface_contacts ../data/modelled_mutations/HM_2NZ9.mut.630_Repair.clean.pdb\n",
      "../data/modelled_mutations/HM_2NZ9.mut.631_Repair.clean.interface_contacts ../data/modelled_mutations/HM_2NZ9.mut.631_Repair.clean.pdb\n",
      "../data/modelled_mutations/HM_2NZ9.mut.632_Repair.clean.interface_contacts ../data/modelled_mutations/HM_2NZ9.mut.632_Repair.clean.pdb\n",
      "../data/modelled_mutations/HM_2NZ9.mut.633_Repair.clean.interface_contacts ../data/modelled_mutations/HM_2NZ9.mut.633_Repair.clean.pdb\n",
      "../data/modelled_mutations/HM_2NZ9.mut.634_Repair.clean.interface_contacts ../data/modelled_mutations/HM_2NZ9.mut.634_Repair.clean.pdb\n",
      "../data/modelled_mutations/HM_2NZ9.mut.635_Repair.clean.interface_contacts ../data/modelled_mutations/HM_2NZ9.mut.635_Repair.clean.pdb\n",
      "../data/modelled_mutations/HM_2NZ9.mut.636_Repair.clean.interface_contacts ../data/modelled_mutations/HM_2NZ9.mut.636_Repair.clean.pdb\n",
      "../data/modelled_mutations/HM_3BN9.mut.637_Repair.clean.interface_contacts ../data/modelled_mutations/HM_3BN9.mut.637_Repair.clean.pdb\n",
      "../data/modelled_mutations/HM_3BN9.mut.638_Repair.clean.interface_contacts ../data/modelled_mutations/HM_3BN9.mut.638_Repair.clean.pdb\n"
     ]
    },
    {
     "name": "stdout",
     "output_type": "stream",
     "text": [
      "../data/modelled_mutations/HM_3BN9.mut.639_Repair.clean.interface_contacts ../data/modelled_mutations/HM_3BN9.mut.639_Repair.clean.pdb\n",
      "../data/modelled_mutations/HM_3BN9.mut.640_Repair.clean.interface_contacts ../data/modelled_mutations/HM_3BN9.mut.640_Repair.clean.pdb\n",
      "../data/modelled_mutations/HM_3BN9.mut.641_Repair.clean.interface_contacts ../data/modelled_mutations/HM_3BN9.mut.641_Repair.clean.pdb\n",
      "../data/modelled_mutations/HM_3BN9.mut.642_Repair.clean.interface_contacts ../data/modelled_mutations/HM_3BN9.mut.642_Repair.clean.pdb\n",
      "../data/modelled_mutations/HM_3BN9.mut.643_Repair.clean.interface_contacts ../data/modelled_mutations/HM_3BN9.mut.643_Repair.clean.pdb\n",
      "../data/modelled_mutations/HM_3BN9.mut.644_Repair.clean.interface_contacts ../data/modelled_mutations/HM_3BN9.mut.644_Repair.clean.pdb\n"
     ]
    }
   ],
   "source": [
    "features = np.empty((len(pdb_files),15))\n",
    "for i,(ic,pdb) in enumerate(zip(ic_files,pdb_files)):\n",
    "    print(ic,pdb)\n",
    "    ic_features = ArpeggioFeatures(level_sift=\"normal\")\n",
    "    ic_features.parse_contactdata(icfile=ic)\n",
    "    ic_features.parse_pdbdata(pdbfile=pdb)\n",
    "    \n",
    "    contacts = ic_features.get_features()\n",
    "    \n",
    "    \n",
    "    features[i] = contacts"
   ]
  },
  {
   "cell_type": "code",
   "execution_count": 70,
   "metadata": {
    "collapsed": true
   },
   "outputs": [],
   "source": [
    "DF_contact_mut = pd.DataFrame(features, index=[pdb.name for pdb in pdb_files],columns=DF_contact_deprecated.columns[:15].str[:-2])"
   ]
  },
  {
   "cell_type": "code",
   "execution_count": 73,
   "metadata": {
    "collapsed": true
   },
   "outputs": [],
   "source": [
    "DF_contact_mut.to_csv(\"../data/DF_contact15_mut_2019.csv\",)"
   ]
  },
  {
   "cell_type": "code",
   "execution_count": 4,
   "metadata": {
    "collapsed": true
   },
   "outputs": [],
   "source": [
    "DF_contact_mut = pd.read_csv(\"../data/DF_contact_mut_2019.csv\",index_col=0)\n",
    "#DF_contact_deprecated = pd.read_csv(\"../data/DF_mutated_features300.v2.csv\",index_col=0)"
   ]
  },
  {
   "cell_type": "code",
   "execution_count": 23,
   "metadata": {
    "collapsed": true
   },
   "outputs": [],
   "source": [
    "DF_contact_mut.columns =  DF_contact_deprecated.drop(\"ddG(kcal/mol)\",axis=1).columns\n",
    "DF_contact_mut.to_csv(\"../data/DF_contact300_mut_2019.csv\")"
   ]
  },
  {
   "cell_type": "markdown",
   "metadata": {},
   "source": [
    "# Energetic data\n",
    "## Mutants"
   ]
  },
  {
   "cell_type": "code",
   "execution_count": 21,
   "metadata": {},
   "outputs": [
    {
     "name": "stdout",
     "output_type": "stream",
     "text": [
      "foldx bin folder already in PATH\n",
      "foldx bin folder already in PATH\n",
      "foldx bin folder already in PATH\n",
      "foldx bin folder already in PATH\n",
      "foldx bin folder already in PATH\n",
      "foldx bin folder already in PATH\n",
      "foldx bin folder already in PATH\n",
      "foldx bin folder already in PATH\n",
      "foldx bin folder already in PATH\n",
      "foldx bin folder already in PATH\n",
      "foldx bin folder already in PATH\n",
      "foldx bin folder already in PATH\n",
      "foldx bin folder already in PATH\n",
      "foldx bin folder already in PATH\n",
      "foldx bin folder already in PATH\n",
      "foldx bin folder already in PATH\n",
      "foldx bin folder already in PATH\n",
      "foldx bin folder already in PATH\n",
      "foldx bin folder already in PATH\n",
      "foldx bin folder already in PATH\n",
      "foldx bin folder already in PATH\n",
      "foldx bin folder already in PATH\n",
      "foldx bin folder already in PATH\n",
      "foldx bin folder already in PATH\n",
      "foldx bin folder already in PATH\n",
      "foldx bin folder already in PATH\n",
      "foldx bin folder already in PATH\n",
      "foldx bin folder already in PATH\n",
      "foldx bin folder already in PATH\n",
      "foldx bin folder already in PATH\n",
      "foldx bin folder already in PATH\n",
      "foldx bin folder already in PATH\n",
      "foldx bin folder already in PATH\n",
      "foldx bin folder already in PATH\n",
      "foldx bin folder already in PATH\n",
      "foldx bin folder already in PATH\n",
      "foldx bin folder already in PATH\n",
      "foldx bin folder already in PATH\n",
      "foldx bin folder already in PATH\n",
      "foldx bin folder already in PATH\n",
      "foldx bin folder already in PATH\n",
      "foldx bin folder already in PATH\n",
      "foldx bin folder already in PATH\n",
      "foldx bin folder already in PATH\n",
      "foldx bin folder already in PATH\n",
      "foldx bin folder already in PATH\n",
      "foldx bin folder already in PATH\n",
      "foldx bin folder already in PATH\n",
      "foldx bin folder already in PATH\n",
      "foldx bin folder already in PATH\n",
      "foldx bin folder already in PATH\n",
      "foldx bin folder already in PATH\n",
      "foldx bin folder already in PATH\n",
      "foldx bin folder already in PATH\n",
      "foldx bin folder already in PATH\n",
      "foldx bin folder already in PATH\n",
      "foldx bin folder already in PATH\n",
      "foldx bin folder already in PATH\n",
      "foldx bin folder already in PATH\n",
      "foldx bin folder already in PATH\n",
      "foldx bin folder already in PATH\n",
      "foldx bin folder already in PATH\n",
      "foldx bin folder already in PATH\n",
      "foldx bin folder already in PATH\n",
      "foldx bin folder already in PATH\n",
      "foldx bin folder already in PATH\n",
      "foldx bin folder already in PATH\n",
      "foldx bin folder already in PATH\n",
      "foldx bin folder already in PATH\n",
      "foldx bin folder already in PATH\n",
      "foldx bin folder already in PATH\n",
      "foldx bin folder already in PATH\n",
      "foldx bin folder already in PATH\n",
      "foldx bin folder already in PATH\n",
      "foldx bin folder already in PATH\n",
      "foldx bin folder already in PATH\n",
      "foldx bin folder already in PATH\n",
      "foldx bin folder already in PATH\n",
      "foldx bin folder already in PATH\n",
      "foldx bin folder already in PATH\n",
      "foldx bin folder already in PATH\n",
      "foldx bin folder already in PATH\n",
      "foldx bin folder already in PATH\n",
      "foldx bin folder already in PATH\n",
      "foldx bin folder already in PATH\n",
      "foldx bin folder already in PATH\n",
      "foldx bin folder already in PATH\n",
      "foldx bin folder already in PATH\n",
      "foldx bin folder already in PATH\n",
      "foldx bin folder already in PATH\n",
      "foldx bin folder already in PATH\n",
      "foldx bin folder already in PATH\n",
      "foldx bin folder already in PATH\n",
      "foldx bin folder already in PATH\n",
      "foldx bin folder already in PATH\n",
      "foldx bin folder already in PATH\n",
      "foldx bin folder already in PATH\n",
      "foldx bin folder already in PATH\n",
      "foldx bin folder already in PATH\n",
      "foldx bin folder already in PATH\n",
      "foldx bin folder already in PATH\n",
      "foldx bin folder already in PATH\n",
      "foldx bin folder already in PATH\n",
      "foldx bin folder already in PATH\n",
      "foldx bin folder already in PATH\n",
      "foldx bin folder already in PATH\n",
      "foldx bin folder already in PATH\n",
      "foldx bin folder already in PATH\n",
      "foldx bin folder already in PATH\n",
      "foldx bin folder already in PATH\n",
      "foldx bin folder already in PATH\n",
      "foldx bin folder already in PATH\n",
      "foldx bin folder already in PATH\n",
      "foldx bin folder already in PATH\n",
      "foldx bin folder already in PATH\n",
      "foldx bin folder already in PATH\n",
      "foldx bin folder already in PATH\n",
      "foldx bin folder already in PATH\n",
      "foldx bin folder already in PATH\n",
      "foldx bin folder already in PATH\n",
      "foldx bin folder already in PATH\n",
      "foldx bin folder already in PATH\n",
      "foldx bin folder already in PATH\n",
      "foldx bin folder already in PATH\n",
      "foldx bin folder already in PATH\n",
      "foldx bin folder already in PATH\n",
      "foldx bin folder already in PATH\n",
      "foldx bin folder already in PATH\n",
      "foldx bin folder already in PATH\n",
      "foldx bin folder already in PATH\n",
      "foldx bin folder already in PATH\n",
      "foldx bin folder already in PATH\n",
      "foldx bin folder already in PATH\n",
      "foldx bin folder already in PATH\n",
      "foldx bin folder already in PATH\n",
      "foldx bin folder already in PATH\n",
      "foldx bin folder already in PATH\n",
      "foldx bin folder already in PATH\n",
      "foldx bin folder already in PATH\n",
      "foldx bin folder already in PATH\n",
      "foldx bin folder already in PATH\n",
      "foldx bin folder already in PATH\n",
      "foldx bin folder already in PATH\n",
      "foldx bin folder already in PATH\n",
      "foldx bin folder already in PATH\n",
      "foldx bin folder already in PATH\n",
      "foldx bin folder already in PATH\n",
      "foldx bin folder already in PATH\n",
      "foldx bin folder already in PATH\n",
      "foldx bin folder already in PATH\n",
      "foldx bin folder already in PATH\n",
      "foldx bin folder already in PATH\n",
      "foldx bin folder already in PATH\n",
      "foldx bin folder already in PATH\n",
      "foldx bin folder already in PATH\n",
      "foldx bin folder already in PATH\n",
      "foldx bin folder already in PATH\n",
      "foldx bin folder already in PATH\n",
      "foldx bin folder already in PATH\n",
      "foldx bin folder already in PATH\n",
      "foldx bin folder already in PATH\n",
      "foldx bin folder already in PATH\n",
      "foldx bin folder already in PATH\n",
      "foldx bin folder already in PATH\n",
      "foldx bin folder already in PATH\n",
      "foldx bin folder already in PATH\n",
      "foldx bin folder already in PATH\n",
      "foldx bin folder already in PATH\n",
      "foldx bin folder already in PATH\n",
      "foldx bin folder already in PATH\n",
      "foldx bin folder already in PATH\n",
      "foldx bin folder already in PATH\n",
      "foldx bin folder already in PATH\n",
      "foldx bin folder already in PATH\n",
      "foldx bin folder already in PATH\n",
      "foldx bin folder already in PATH\n",
      "foldx bin folder already in PATH\n",
      "foldx bin folder already in PATH\n",
      "foldx bin folder already in PATH\n",
      "foldx bin folder already in PATH\n",
      "foldx bin folder already in PATH\n",
      "foldx bin folder already in PATH\n",
      "foldx bin folder already in PATH\n",
      "foldx bin folder already in PATH\n",
      "foldx bin folder already in PATH\n",
      "foldx bin folder already in PATH\n",
      "foldx bin folder already in PATH\n",
      "foldx bin folder already in PATH\n",
      "foldx bin folder already in PATH\n",
      "foldx bin folder already in PATH\n",
      "foldx bin folder already in PATH\n",
      "foldx bin folder already in PATH\n",
      "foldx bin folder already in PATH\n",
      "foldx bin folder already in PATH\n",
      "foldx bin folder already in PATH\n",
      "foldx bin folder already in PATH\n",
      "foldx bin folder already in PATH\n",
      "foldx bin folder already in PATH\n",
      "foldx bin folder already in PATH\n",
      "foldx bin folder already in PATH\n",
      "foldx bin folder already in PATH\n",
      "foldx bin folder already in PATH\n",
      "foldx bin folder already in PATH\n",
      "foldx bin folder already in PATH\n",
      "foldx bin folder already in PATH\n",
      "foldx bin folder already in PATH\n",
      "foldx bin folder already in PATH\n",
      "foldx bin folder already in PATH\n",
      "foldx bin folder already in PATH\n",
      "foldx bin folder already in PATH\n",
      "foldx bin folder already in PATH\n",
      "foldx bin folder already in PATH\n",
      "foldx bin folder already in PATH\n",
      "foldx bin folder already in PATH\n",
      "foldx bin folder already in PATH\n",
      "foldx bin folder already in PATH\n",
      "foldx bin folder already in PATH\n",
      "foldx bin folder already in PATH\n",
      "foldx bin folder already in PATH\n",
      "foldx bin folder already in PATH\n",
      "foldx bin folder already in PATH\n",
      "foldx bin folder already in PATH\n",
      "foldx bin folder already in PATH\n",
      "foldx bin folder already in PATH\n",
      "foldx bin folder already in PATH\n",
      "foldx bin folder already in PATH\n",
      "foldx bin folder already in PATH\n",
      "foldx bin folder already in PATH\n",
      "foldx bin folder already in PATH\n",
      "foldx bin folder already in PATH\n",
      "foldx bin folder already in PATH\n",
      "foldx bin folder already in PATH\n",
      "foldx bin folder already in PATH\n",
      "foldx bin folder already in PATH\n",
      "foldx bin folder already in PATH\n",
      "foldx bin folder already in PATH\n",
      "foldx bin folder already in PATH\n",
      "foldx bin folder already in PATH\n",
      "foldx bin folder already in PATH\n",
      "foldx bin folder already in PATH\n",
      "foldx bin folder already in PATH\n",
      "foldx bin folder already in PATH\n",
      "foldx bin folder already in PATH\n",
      "foldx bin folder already in PATH\n",
      "foldx bin folder already in PATH\n",
      "foldx bin folder already in PATH\n",
      "foldx bin folder already in PATH\n",
      "foldx bin folder already in PATH\n",
      "foldx bin folder already in PATH\n"
     ]
    },
    {
     "name": "stdout",
     "output_type": "stream",
     "text": [
      "foldx bin folder already in PATH\n",
      "foldx bin folder already in PATH\n",
      "foldx bin folder already in PATH\n",
      "foldx bin folder already in PATH\n",
      "foldx bin folder already in PATH\n",
      "foldx bin folder already in PATH\n",
      "foldx bin folder already in PATH\n",
      "foldx bin folder already in PATH\n",
      "foldx bin folder already in PATH\n",
      "foldx bin folder already in PATH\n",
      "foldx bin folder already in PATH\n",
      "foldx bin folder already in PATH\n",
      "foldx bin folder already in PATH\n",
      "foldx bin folder already in PATH\n",
      "foldx bin folder already in PATH\n",
      "foldx bin folder already in PATH\n",
      "foldx bin folder already in PATH\n",
      "foldx bin folder already in PATH\n",
      "foldx bin folder already in PATH\n",
      "foldx bin folder already in PATH\n",
      "foldx bin folder already in PATH\n",
      "foldx bin folder already in PATH\n",
      "foldx bin folder already in PATH\n",
      "foldx bin folder already in PATH\n",
      "foldx bin folder already in PATH\n",
      "foldx bin folder already in PATH\n",
      "foldx bin folder already in PATH\n",
      "foldx bin folder already in PATH\n",
      "foldx bin folder already in PATH\n",
      "foldx bin folder already in PATH\n",
      "foldx bin folder already in PATH\n",
      "foldx bin folder already in PATH\n",
      "foldx bin folder already in PATH\n",
      "foldx bin folder already in PATH\n",
      "foldx bin folder already in PATH\n",
      "foldx bin folder already in PATH\n",
      "foldx bin folder already in PATH\n",
      "foldx bin folder already in PATH\n",
      "foldx bin folder already in PATH\n",
      "foldx bin folder already in PATH\n",
      "foldx bin folder already in PATH\n",
      "foldx bin folder already in PATH\n",
      "foldx bin folder already in PATH\n",
      "foldx bin folder already in PATH\n",
      "foldx bin folder already in PATH\n",
      "foldx bin folder already in PATH\n",
      "foldx bin folder already in PATH\n",
      "foldx bin folder already in PATH\n",
      "foldx bin folder already in PATH\n",
      "foldx bin folder already in PATH\n",
      "foldx bin folder already in PATH\n",
      "foldx bin folder already in PATH\n",
      "foldx bin folder already in PATH\n",
      "foldx bin folder already in PATH\n",
      "foldx bin folder already in PATH\n",
      "foldx bin folder already in PATH\n",
      "foldx bin folder already in PATH\n",
      "foldx bin folder already in PATH\n",
      "foldx bin folder already in PATH\n",
      "foldx bin folder already in PATH\n",
      "foldx bin folder already in PATH\n",
      "foldx bin folder already in PATH\n",
      "foldx bin folder already in PATH\n",
      "foldx bin folder already in PATH\n",
      "foldx bin folder already in PATH\n",
      "foldx bin folder already in PATH\n",
      "foldx bin folder already in PATH\n",
      "foldx bin folder already in PATH\n",
      "foldx bin folder already in PATH\n",
      "foldx bin folder already in PATH\n",
      "foldx bin folder already in PATH\n",
      "foldx bin folder already in PATH\n",
      "foldx bin folder already in PATH\n",
      "foldx bin folder already in PATH\n",
      "foldx bin folder already in PATH\n",
      "foldx bin folder already in PATH\n",
      "foldx bin folder already in PATH\n",
      "foldx bin folder already in PATH\n",
      "foldx bin folder already in PATH\n",
      "foldx bin folder already in PATH\n",
      "foldx bin folder already in PATH\n",
      "foldx bin folder already in PATH\n",
      "foldx bin folder already in PATH\n",
      "foldx bin folder already in PATH\n",
      "foldx bin folder already in PATH\n",
      "foldx bin folder already in PATH\n",
      "foldx bin folder already in PATH\n",
      "foldx bin folder already in PATH\n",
      "foldx bin folder already in PATH\n",
      "foldx bin folder already in PATH\n",
      "foldx bin folder already in PATH\n",
      "foldx bin folder already in PATH\n",
      "foldx bin folder already in PATH\n",
      "foldx bin folder already in PATH\n",
      "foldx bin folder already in PATH\n",
      "foldx bin folder already in PATH\n",
      "foldx bin folder already in PATH\n",
      "foldx bin folder already in PATH\n",
      "foldx bin folder already in PATH\n",
      "foldx bin folder already in PATH\n",
      "foldx bin folder already in PATH\n",
      "foldx bin folder already in PATH\n",
      "foldx bin folder already in PATH\n",
      "foldx bin folder already in PATH\n",
      "foldx bin folder already in PATH\n",
      "foldx bin folder already in PATH\n",
      "foldx bin folder already in PATH\n",
      "foldx bin folder already in PATH\n",
      "foldx bin folder already in PATH\n",
      "foldx bin folder already in PATH\n",
      "foldx bin folder already in PATH\n",
      "foldx bin folder already in PATH\n",
      "foldx bin folder already in PATH\n",
      "foldx bin folder already in PATH\n",
      "foldx bin folder already in PATH\n",
      "foldx bin folder already in PATH\n",
      "foldx bin folder already in PATH\n",
      "foldx bin folder already in PATH\n",
      "foldx bin folder already in PATH\n",
      "foldx bin folder already in PATH\n",
      "foldx bin folder already in PATH\n",
      "foldx bin folder already in PATH\n",
      "foldx bin folder already in PATH\n",
      "foldx bin folder already in PATH\n",
      "foldx bin folder already in PATH\n",
      "foldx bin folder already in PATH\n",
      "foldx bin folder already in PATH\n",
      "foldx bin folder already in PATH\n",
      "foldx bin folder already in PATH\n",
      "foldx bin folder already in PATH\n",
      "foldx bin folder already in PATH\n",
      "foldx bin folder already in PATH\n",
      "foldx bin folder already in PATH\n",
      "foldx bin folder already in PATH\n",
      "foldx bin folder already in PATH\n",
      "foldx bin folder already in PATH\n",
      "foldx bin folder already in PATH\n",
      "foldx bin folder already in PATH\n",
      "foldx bin folder already in PATH\n",
      "foldx bin folder already in PATH\n",
      "foldx bin folder already in PATH\n",
      "foldx bin folder already in PATH\n",
      "foldx bin folder already in PATH\n",
      "foldx bin folder already in PATH\n",
      "foldx bin folder already in PATH\n",
      "foldx bin folder already in PATH\n",
      "foldx bin folder already in PATH\n",
      "foldx bin folder already in PATH\n",
      "foldx bin folder already in PATH\n",
      "foldx bin folder already in PATH\n",
      "foldx bin folder already in PATH\n",
      "foldx bin folder already in PATH\n",
      "foldx bin folder already in PATH\n",
      "foldx bin folder already in PATH\n",
      "foldx bin folder already in PATH\n",
      "foldx bin folder already in PATH\n",
      "foldx bin folder already in PATH\n",
      "foldx bin folder already in PATH\n",
      "foldx bin folder already in PATH\n",
      "foldx bin folder already in PATH\n",
      "foldx bin folder already in PATH\n",
      "foldx bin folder already in PATH\n",
      "foldx bin folder already in PATH\n",
      "foldx bin folder already in PATH\n",
      "foldx bin folder already in PATH\n",
      "foldx bin folder already in PATH\n",
      "foldx bin folder already in PATH\n",
      "foldx bin folder already in PATH\n",
      "foldx bin folder already in PATH\n",
      "foldx bin folder already in PATH\n",
      "foldx bin folder already in PATH\n",
      "foldx bin folder already in PATH\n",
      "foldx bin folder already in PATH\n",
      "foldx bin folder already in PATH\n",
      "foldx bin folder already in PATH\n",
      "foldx bin folder already in PATH\n",
      "foldx bin folder already in PATH\n",
      "foldx bin folder already in PATH\n",
      "foldx bin folder already in PATH\n",
      "foldx bin folder already in PATH\n",
      "foldx bin folder already in PATH\n",
      "foldx bin folder already in PATH\n",
      "foldx bin folder already in PATH\n",
      "foldx bin folder already in PATH\n",
      "foldx bin folder already in PATH\n",
      "foldx bin folder already in PATH\n",
      "foldx bin folder already in PATH\n",
      "foldx bin folder already in PATH\n",
      "foldx bin folder already in PATH\n",
      "foldx bin folder already in PATH\n",
      "foldx bin folder already in PATH\n",
      "foldx bin folder already in PATH\n",
      "foldx bin folder already in PATH\n",
      "foldx bin folder already in PATH\n",
      "foldx bin folder already in PATH\n",
      "foldx bin folder already in PATH\n",
      "foldx bin folder already in PATH\n",
      "foldx bin folder already in PATH\n",
      "foldx bin folder already in PATH\n",
      "foldx bin folder already in PATH\n",
      "foldx bin folder already in PATH\n",
      "foldx bin folder already in PATH\n",
      "foldx bin folder already in PATH\n",
      "foldx bin folder already in PATH\n",
      "foldx bin folder already in PATH\n",
      "foldx bin folder already in PATH\n",
      "foldx bin folder already in PATH\n",
      "foldx bin folder already in PATH\n",
      "foldx bin folder already in PATH\n",
      "foldx bin folder already in PATH\n",
      "foldx bin folder already in PATH\n",
      "foldx bin folder already in PATH\n",
      "foldx bin folder already in PATH\n",
      "foldx bin folder already in PATH\n",
      "foldx bin folder already in PATH\n",
      "foldx bin folder already in PATH\n",
      "foldx bin folder already in PATH\n",
      "foldx bin folder already in PATH\n",
      "foldx bin folder already in PATH\n",
      "foldx bin folder already in PATH\n",
      "foldx bin folder already in PATH\n",
      "foldx bin folder already in PATH\n",
      "foldx bin folder already in PATH\n",
      "foldx bin folder already in PATH\n",
      "foldx bin folder already in PATH\n",
      "foldx bin folder already in PATH\n",
      "foldx bin folder already in PATH\n",
      "foldx bin folder already in PATH\n",
      "foldx bin folder already in PATH\n",
      "foldx bin folder already in PATH\n",
      "foldx bin folder already in PATH\n",
      "foldx bin folder already in PATH\n",
      "foldx bin folder already in PATH\n",
      "foldx bin folder already in PATH\n",
      "foldx bin folder already in PATH\n",
      "foldx bin folder already in PATH\n",
      "foldx bin folder already in PATH\n",
      "foldx bin folder already in PATH\n",
      "foldx bin folder already in PATH\n",
      "foldx bin folder already in PATH\n",
      "foldx bin folder already in PATH\n",
      "foldx bin folder already in PATH\n",
      "foldx bin folder already in PATH\n",
      "foldx bin folder already in PATH\n",
      "foldx bin folder already in PATH\n",
      "foldx bin folder already in PATH\n",
      "foldx bin folder already in PATH\n",
      "foldx bin folder already in PATH\n",
      "foldx bin folder already in PATH\n"
     ]
    },
    {
     "name": "stdout",
     "output_type": "stream",
     "text": [
      "foldx bin folder already in PATH\n",
      "foldx bin folder already in PATH\n",
      "foldx bin folder already in PATH\n",
      "foldx bin folder already in PATH\n",
      "foldx bin folder already in PATH\n",
      "foldx bin folder already in PATH\n",
      "foldx bin folder already in PATH\n",
      "foldx bin folder already in PATH\n",
      "foldx bin folder already in PATH\n",
      "foldx bin folder already in PATH\n",
      "foldx bin folder already in PATH\n",
      "foldx bin folder already in PATH\n",
      "foldx bin folder already in PATH\n",
      "foldx bin folder already in PATH\n",
      "foldx bin folder already in PATH\n",
      "foldx bin folder already in PATH\n",
      "foldx bin folder already in PATH\n",
      "foldx bin folder already in PATH\n",
      "foldx bin folder already in PATH\n",
      "foldx bin folder already in PATH\n",
      "foldx bin folder already in PATH\n",
      "foldx bin folder already in PATH\n",
      "foldx bin folder already in PATH\n",
      "foldx bin folder already in PATH\n",
      "foldx bin folder already in PATH\n",
      "foldx bin folder already in PATH\n",
      "foldx bin folder already in PATH\n",
      "foldx bin folder already in PATH\n",
      "foldx bin folder already in PATH\n",
      "foldx bin folder already in PATH\n",
      "foldx bin folder already in PATH\n",
      "foldx bin folder already in PATH\n",
      "foldx bin folder already in PATH\n",
      "foldx bin folder already in PATH\n",
      "foldx bin folder already in PATH\n",
      "foldx bin folder already in PATH\n",
      "foldx bin folder already in PATH\n",
      "foldx bin folder already in PATH\n",
      "foldx bin folder already in PATH\n",
      "foldx bin folder already in PATH\n",
      "foldx bin folder already in PATH\n",
      "foldx bin folder already in PATH\n",
      "foldx bin folder already in PATH\n",
      "foldx bin folder already in PATH\n",
      "foldx bin folder already in PATH\n",
      "foldx bin folder already in PATH\n",
      "foldx bin folder already in PATH\n",
      "foldx bin folder already in PATH\n",
      "foldx bin folder already in PATH\n",
      "foldx bin folder already in PATH\n",
      "foldx bin folder already in PATH\n",
      "foldx bin folder already in PATH\n",
      "foldx bin folder already in PATH\n",
      "foldx bin folder already in PATH\n",
      "foldx bin folder already in PATH\n",
      "foldx bin folder already in PATH\n",
      "foldx bin folder already in PATH\n",
      "foldx bin folder already in PATH\n",
      "foldx bin folder already in PATH\n",
      "foldx bin folder already in PATH\n",
      "foldx bin folder already in PATH\n",
      "foldx bin folder already in PATH\n",
      "foldx bin folder already in PATH\n",
      "foldx bin folder already in PATH\n",
      "foldx bin folder already in PATH\n",
      "foldx bin folder already in PATH\n",
      "foldx bin folder already in PATH\n",
      "foldx bin folder already in PATH\n",
      "foldx bin folder already in PATH\n",
      "foldx bin folder already in PATH\n",
      "foldx bin folder already in PATH\n",
      "foldx bin folder already in PATH\n",
      "foldx bin folder already in PATH\n",
      "foldx bin folder already in PATH\n",
      "foldx bin folder already in PATH\n",
      "foldx bin folder already in PATH\n",
      "foldx bin folder already in PATH\n",
      "foldx bin folder already in PATH\n",
      "foldx bin folder already in PATH\n",
      "foldx bin folder already in PATH\n",
      "foldx bin folder already in PATH\n",
      "foldx bin folder already in PATH\n",
      "foldx bin folder already in PATH\n",
      "foldx bin folder already in PATH\n",
      "foldx bin folder already in PATH\n",
      "foldx bin folder already in PATH\n",
      "foldx bin folder already in PATH\n",
      "foldx bin folder already in PATH\n",
      "foldx bin folder already in PATH\n",
      "foldx bin folder already in PATH\n",
      "foldx bin folder already in PATH\n",
      "foldx bin folder already in PATH\n",
      "foldx bin folder already in PATH\n",
      "foldx bin folder already in PATH\n",
      "foldx bin folder already in PATH\n",
      "foldx bin folder already in PATH\n",
      "foldx bin folder already in PATH\n",
      "foldx bin folder already in PATH\n",
      "foldx bin folder already in PATH\n",
      "foldx bin folder already in PATH\n",
      "foldx bin folder already in PATH\n",
      "foldx bin folder already in PATH\n",
      "foldx bin folder already in PATH\n",
      "foldx bin folder already in PATH\n",
      "foldx bin folder already in PATH\n",
      "foldx bin folder already in PATH\n",
      "foldx bin folder already in PATH\n",
      "foldx bin folder already in PATH\n",
      "foldx bin folder already in PATH\n",
      "foldx bin folder already in PATH\n",
      "foldx bin folder already in PATH\n",
      "foldx bin folder already in PATH\n",
      "foldx bin folder already in PATH\n",
      "foldx bin folder already in PATH\n",
      "foldx bin folder already in PATH\n",
      "foldx bin folder already in PATH\n",
      "foldx bin folder already in PATH\n",
      "foldx bin folder already in PATH\n",
      "foldx bin folder already in PATH\n",
      "foldx bin folder already in PATH\n",
      "foldx bin folder already in PATH\n",
      "foldx bin folder already in PATH\n",
      "foldx bin folder already in PATH\n",
      "foldx bin folder already in PATH\n",
      "foldx bin folder already in PATH\n",
      "foldx bin folder already in PATH\n",
      "foldx bin folder already in PATH\n",
      "foldx bin folder already in PATH\n",
      "foldx bin folder already in PATH\n",
      "foldx bin folder already in PATH\n",
      "foldx bin folder already in PATH\n",
      "foldx bin folder already in PATH\n",
      "foldx bin folder already in PATH\n",
      "foldx bin folder already in PATH\n",
      "foldx bin folder already in PATH\n",
      "foldx bin folder already in PATH\n",
      "foldx bin folder already in PATH\n",
      "foldx bin folder already in PATH\n",
      "foldx bin folder already in PATH\n",
      "foldx bin folder already in PATH\n",
      "foldx bin folder already in PATH\n",
      "foldx bin folder already in PATH\n",
      "foldx bin folder already in PATH\n",
      "foldx bin folder already in PATH\n",
      "foldx bin folder already in PATH\n",
      "foldx bin folder already in PATH\n",
      "foldx bin folder already in PATH\n"
     ]
    }
   ],
   "source": [
    "energetic_features = np.empty((len(pdb_files),29))\n",
    "\n",
    "try:\n",
    "    os.chdir(PDBS_MUT)\n",
    "    \n",
    "    for i,pdb in enumerate(pdb_files):\n",
    "        partners = ab_bind_mCSM_HM[\"Partners(A_B)\"].iloc[i]\n",
    "        foldx = FoldX(verbose=False)\n",
    "        result_analyse = foldx.analyse_complex(pdb_file=pdb.name, partners=partners)\n",
    "        energetic_features[i] = result_analyse\n",
    "finally:\n",
    "    os.chdir(CWD)\n"
   ]
  },
  {
   "cell_type": "code",
   "execution_count": 43,
   "metadata": {
    "collapsed": true
   },
   "outputs": [],
   "source": [
    "DF_energetic_mut = pd.DataFrame(energetic_features,index=[pdb.name for pdb in pdb_files])\n",
    "DF_energetic_mut.to_csv(\"../data/DF_energetic_mut.csv\")"
   ]
  },
  {
   "cell_type": "markdown",
   "metadata": {},
   "source": [
    "## Wildtype"
   ]
  },
  {
   "cell_type": "code",
   "execution_count": 55,
   "metadata": {
    "collapsed": true
   },
   "outputs": [],
   "source": [
    "pdb_partner = (ab_bind_mCSM_HM[\"#PDB\"]+\"/\"+ab_bind_mCSM_HM[\"Partners(A_B)\"]).unique()\n"
   ]
  },
  {
   "cell_type": "code",
   "execution_count": 45,
   "metadata": {
    "collapsed": true
   },
   "outputs": [],
   "source": [
    "pdbwt_files = list(PDBS_WT.glob(\"*clean.pdb\"))\n"
   ]
  },
  {
   "cell_type": "code",
   "execution_count": 48,
   "metadata": {
    "scrolled": true
   },
   "outputs": [
    {
     "name": "stdout",
     "output_type": "stream",
     "text": [
      "foldx bin folder already in PATH\n",
      "foldx bin folder already in PATH\n",
      "foldx bin folder already in PATH\n",
      "foldx bin folder already in PATH\n",
      "foldx bin folder already in PATH\n",
      "foldx bin folder already in PATH\n",
      "foldx bin folder already in PATH\n",
      "foldx bin folder already in PATH\n",
      "foldx bin folder already in PATH\n",
      "foldx bin folder already in PATH\n",
      "foldx bin folder already in PATH\n",
      "foldx bin folder already in PATH\n",
      "foldx bin folder already in PATH\n",
      "foldx bin folder already in PATH\n",
      "foldx bin folder already in PATH\n",
      "foldx bin folder already in PATH\n",
      "foldx bin folder already in PATH\n",
      "foldx bin folder already in PATH\n",
      "foldx bin folder already in PATH\n",
      "foldx bin folder already in PATH\n",
      "foldx bin folder already in PATH\n",
      "foldx bin folder already in PATH\n",
      "foldx bin folder already in PATH\n",
      "foldx bin folder already in PATH\n",
      "foldx bin folder already in PATH\n",
      "foldx bin folder already in PATH\n",
      "foldx bin folder already in PATH\n",
      "foldx bin folder already in PATH\n",
      "foldx bin folder already in PATH\n"
     ]
    }
   ],
   "source": [
    "energetic_features_wt = np.empty((len(pdbwt_files),29))\n",
    "\n",
    "try:\n",
    "    os.chdir(PDBS_WT)\n",
    "    \n",
    "    for i,pdb in enumerate(pdbwt_files):\n",
    "        partners = pdb_partner[i].split(\"/\")[1]\n",
    "        foldx = FoldX(verbose=False)\n",
    "        result_analyse = foldx.analyse_complex(pdb_file=pdb.name, partners=partners)\n",
    "        energetic_features_wt[i] = result_analyse\n",
    "finally:\n",
    "    os.chdir(CWD)"
   ]
  },
  {
   "cell_type": "code",
   "execution_count": 53,
   "metadata": {
    "scrolled": true
   },
   "outputs": [
    {
     "data": {
      "text/html": [
       "<div>\n",
       "<style scoped>\n",
       "    .dataframe tbody tr th:only-of-type {\n",
       "        vertical-align: middle;\n",
       "    }\n",
       "\n",
       "    .dataframe tbody tr th {\n",
       "        vertical-align: top;\n",
       "    }\n",
       "\n",
       "    .dataframe thead th {\n",
       "        text-align: right;\n",
       "    }\n",
       "</style>\n",
       "<table border=\"1\" class=\"dataframe\">\n",
       "  <thead>\n",
       "    <tr style=\"text-align: right;\">\n",
       "      <th></th>\n",
       "      <th>intraclashes_energy_1_wt</th>\n",
       "      <th>intraclashes_energy_2_wt</th>\n",
       "      <th>dg_wt</th>\n",
       "      <th>backbone_hbond_wt</th>\n",
       "      <th>sidechain_hbond_wt</th>\n",
       "      <th>van_der_waals_wt</th>\n",
       "      <th>electrostatics_wt</th>\n",
       "      <th>solvation_polar_wt</th>\n",
       "      <th>solvation_hydrophobic_wt</th>\n",
       "      <th>van_der_waals_clashes_wt</th>\n",
       "      <th>...</th>\n",
       "      <th>disulfide_wt</th>\n",
       "      <th>electrostatic_kon_wt</th>\n",
       "      <th>partial_covalent_bonds_wt</th>\n",
       "      <th>energy_ionisation_wt</th>\n",
       "      <th>entropy_complex_wt</th>\n",
       "      <th>number_of_residues</th>\n",
       "      <th>interface_residues_wt</th>\n",
       "      <th>interface_residues_clashing_wt</th>\n",
       "      <th>interface_residues_vdw_clashing_wt</th>\n",
       "      <th>interface_residues_bb_clashing_wt</th>\n",
       "    </tr>\n",
       "  </thead>\n",
       "  <tbody>\n",
       "    <tr>\n",
       "      <th>1AK4_Repair.clean.pdb</th>\n",
       "      <td>14.6025</td>\n",
       "      <td>15.6655</td>\n",
       "      <td>-10.5068</td>\n",
       "      <td>-4.26711</td>\n",
       "      <td>-2.29253</td>\n",
       "      <td>-9.04837</td>\n",
       "      <td>-0.060860</td>\n",
       "      <td>10.1766</td>\n",
       "      <td>-11.7670</td>\n",
       "      <td>0.255299</td>\n",
       "      <td>...</td>\n",
       "      <td>0.000000e+00</td>\n",
       "      <td>-0.062112</td>\n",
       "      <td>0.0</td>\n",
       "      <td>0.046189</td>\n",
       "      <td>2.384</td>\n",
       "      <td>310.0</td>\n",
       "      <td>27.0</td>\n",
       "      <td>0.0</td>\n",
       "      <td>0.0</td>\n",
       "      <td>0.0</td>\n",
       "    </tr>\n",
       "    <tr>\n",
       "      <th>1BJ1_Repair.clean.pdb</th>\n",
       "      <td>42.0816</td>\n",
       "      <td>18.0966</td>\n",
       "      <td>-16.5198</td>\n",
       "      <td>-7.82241</td>\n",
       "      <td>-8.75508</td>\n",
       "      <td>-21.46970</td>\n",
       "      <td>0.468553</td>\n",
       "      <td>28.3970</td>\n",
       "      <td>-25.6889</td>\n",
       "      <td>3.084950</td>\n",
       "      <td>...</td>\n",
       "      <td>3.552710e-15</td>\n",
       "      <td>0.016842</td>\n",
       "      <td>0.0</td>\n",
       "      <td>0.626911</td>\n",
       "      <td>2.384</td>\n",
       "      <td>625.0</td>\n",
       "      <td>45.0</td>\n",
       "      <td>1.0</td>\n",
       "      <td>1.0</td>\n",
       "      <td>0.0</td>\n",
       "    </tr>\n",
       "    <tr>\n",
       "      <th>1CZ8_Repair.clean.pdb</th>\n",
       "      <td>53.0228</td>\n",
       "      <td>30.5299</td>\n",
       "      <td>-19.6294</td>\n",
       "      <td>-7.10730</td>\n",
       "      <td>-9.64162</td>\n",
       "      <td>-21.57260</td>\n",
       "      <td>-0.270424</td>\n",
       "      <td>27.9310</td>\n",
       "      <td>-26.7726</td>\n",
       "      <td>3.251170</td>\n",
       "      <td>...</td>\n",
       "      <td>7.105430e-15</td>\n",
       "      <td>0.036776</td>\n",
       "      <td>0.0</td>\n",
       "      <td>0.845845</td>\n",
       "      <td>2.384</td>\n",
       "      <td>625.0</td>\n",
       "      <td>45.0</td>\n",
       "      <td>0.0</td>\n",
       "      <td>0.0</td>\n",
       "      <td>0.0</td>\n",
       "    </tr>\n",
       "    <tr>\n",
       "      <th>1DQJ_Repair.clean.pdb</th>\n",
       "      <td>12.1431</td>\n",
       "      <td>58.2003</td>\n",
       "      <td>-14.2882</td>\n",
       "      <td>-5.68295</td>\n",
       "      <td>-13.46190</td>\n",
       "      <td>-17.04650</td>\n",
       "      <td>-0.974404</td>\n",
       "      <td>27.0135</td>\n",
       "      <td>-17.6052</td>\n",
       "      <td>3.392920</td>\n",
       "      <td>...</td>\n",
       "      <td>0.000000e+00</td>\n",
       "      <td>-0.209894</td>\n",
       "      <td>0.0</td>\n",
       "      <td>0.023300</td>\n",
       "      <td>2.384</td>\n",
       "      <td>564.0</td>\n",
       "      <td>46.0</td>\n",
       "      <td>1.0</td>\n",
       "      <td>1.0</td>\n",
       "      <td>0.0</td>\n",
       "    </tr>\n",
       "    <tr>\n",
       "      <th>1DVF_Repair.clean.pdb</th>\n",
       "      <td>31.1138</td>\n",
       "      <td>32.5842</td>\n",
       "      <td>-16.1541</td>\n",
       "      <td>-3.50252</td>\n",
       "      <td>-11.33610</td>\n",
       "      <td>-13.95620</td>\n",
       "      <td>-2.960550</td>\n",
       "      <td>22.4190</td>\n",
       "      <td>-14.6385</td>\n",
       "      <td>0.778548</td>\n",
       "      <td>...</td>\n",
       "      <td>1.776360e-15</td>\n",
       "      <td>-0.935374</td>\n",
       "      <td>0.0</td>\n",
       "      <td>0.043189</td>\n",
       "      <td>2.384</td>\n",
       "      <td>451.0</td>\n",
       "      <td>44.0</td>\n",
       "      <td>0.0</td>\n",
       "      <td>0.0</td>\n",
       "      <td>0.0</td>\n",
       "    </tr>\n",
       "  </tbody>\n",
       "</table>\n",
       "<p>5 rows × 29 columns</p>\n",
       "</div>"
      ],
      "text/plain": [
       "                       intraclashes_energy_1_wt  intraclashes_energy_2_wt  \\\n",
       "1AK4_Repair.clean.pdb                   14.6025                   15.6655   \n",
       "1BJ1_Repair.clean.pdb                   42.0816                   18.0966   \n",
       "1CZ8_Repair.clean.pdb                   53.0228                   30.5299   \n",
       "1DQJ_Repair.clean.pdb                   12.1431                   58.2003   \n",
       "1DVF_Repair.clean.pdb                   31.1138                   32.5842   \n",
       "\n",
       "                         dg_wt  backbone_hbond_wt  sidechain_hbond_wt  \\\n",
       "1AK4_Repair.clean.pdb -10.5068           -4.26711            -2.29253   \n",
       "1BJ1_Repair.clean.pdb -16.5198           -7.82241            -8.75508   \n",
       "1CZ8_Repair.clean.pdb -19.6294           -7.10730            -9.64162   \n",
       "1DQJ_Repair.clean.pdb -14.2882           -5.68295           -13.46190   \n",
       "1DVF_Repair.clean.pdb -16.1541           -3.50252           -11.33610   \n",
       "\n",
       "                       van_der_waals_wt  electrostatics_wt  \\\n",
       "1AK4_Repair.clean.pdb          -9.04837          -0.060860   \n",
       "1BJ1_Repair.clean.pdb         -21.46970           0.468553   \n",
       "1CZ8_Repair.clean.pdb         -21.57260          -0.270424   \n",
       "1DQJ_Repair.clean.pdb         -17.04650          -0.974404   \n",
       "1DVF_Repair.clean.pdb         -13.95620          -2.960550   \n",
       "\n",
       "                       solvation_polar_wt  solvation_hydrophobic_wt  \\\n",
       "1AK4_Repair.clean.pdb             10.1766                  -11.7670   \n",
       "1BJ1_Repair.clean.pdb             28.3970                  -25.6889   \n",
       "1CZ8_Repair.clean.pdb             27.9310                  -26.7726   \n",
       "1DQJ_Repair.clean.pdb             27.0135                  -17.6052   \n",
       "1DVF_Repair.clean.pdb             22.4190                  -14.6385   \n",
       "\n",
       "                       van_der_waals_clashes_wt  \\\n",
       "1AK4_Repair.clean.pdb                  0.255299   \n",
       "1BJ1_Repair.clean.pdb                  3.084950   \n",
       "1CZ8_Repair.clean.pdb                  3.251170   \n",
       "1DQJ_Repair.clean.pdb                  3.392920   \n",
       "1DVF_Repair.clean.pdb                  0.778548   \n",
       "\n",
       "                                     ...                  disulfide_wt  \\\n",
       "1AK4_Repair.clean.pdb                ...                  0.000000e+00   \n",
       "1BJ1_Repair.clean.pdb                ...                  3.552710e-15   \n",
       "1CZ8_Repair.clean.pdb                ...                  7.105430e-15   \n",
       "1DQJ_Repair.clean.pdb                ...                  0.000000e+00   \n",
       "1DVF_Repair.clean.pdb                ...                  1.776360e-15   \n",
       "\n",
       "                       electrostatic_kon_wt  partial_covalent_bonds_wt  \\\n",
       "1AK4_Repair.clean.pdb             -0.062112                        0.0   \n",
       "1BJ1_Repair.clean.pdb              0.016842                        0.0   \n",
       "1CZ8_Repair.clean.pdb              0.036776                        0.0   \n",
       "1DQJ_Repair.clean.pdb             -0.209894                        0.0   \n",
       "1DVF_Repair.clean.pdb             -0.935374                        0.0   \n",
       "\n",
       "                       energy_ionisation_wt  entropy_complex_wt  \\\n",
       "1AK4_Repair.clean.pdb              0.046189               2.384   \n",
       "1BJ1_Repair.clean.pdb              0.626911               2.384   \n",
       "1CZ8_Repair.clean.pdb              0.845845               2.384   \n",
       "1DQJ_Repair.clean.pdb              0.023300               2.384   \n",
       "1DVF_Repair.clean.pdb              0.043189               2.384   \n",
       "\n",
       "                       number_of_residues  interface_residues_wt  \\\n",
       "1AK4_Repair.clean.pdb               310.0                   27.0   \n",
       "1BJ1_Repair.clean.pdb               625.0                   45.0   \n",
       "1CZ8_Repair.clean.pdb               625.0                   45.0   \n",
       "1DQJ_Repair.clean.pdb               564.0                   46.0   \n",
       "1DVF_Repair.clean.pdb               451.0                   44.0   \n",
       "\n",
       "                       interface_residues_clashing_wt  \\\n",
       "1AK4_Repair.clean.pdb                             0.0   \n",
       "1BJ1_Repair.clean.pdb                             1.0   \n",
       "1CZ8_Repair.clean.pdb                             0.0   \n",
       "1DQJ_Repair.clean.pdb                             1.0   \n",
       "1DVF_Repair.clean.pdb                             0.0   \n",
       "\n",
       "                       interface_residues_vdw_clashing_wt  \\\n",
       "1AK4_Repair.clean.pdb                                 0.0   \n",
       "1BJ1_Repair.clean.pdb                                 1.0   \n",
       "1CZ8_Repair.clean.pdb                                 0.0   \n",
       "1DQJ_Repair.clean.pdb                                 1.0   \n",
       "1DVF_Repair.clean.pdb                                 0.0   \n",
       "\n",
       "                       interface_residues_bb_clashing_wt  \n",
       "1AK4_Repair.clean.pdb                                0.0  \n",
       "1BJ1_Repair.clean.pdb                                0.0  \n",
       "1CZ8_Repair.clean.pdb                                0.0  \n",
       "1DQJ_Repair.clean.pdb                                0.0  \n",
       "1DVF_Repair.clean.pdb                                0.0  \n",
       "\n",
       "[5 rows x 29 columns]"
      ]
     },
     "execution_count": 53,
     "metadata": {},
     "output_type": "execute_result"
    }
   ],
   "source": [
    "DF_energetic_wt = pd.DataFrame(energetic_features_wt,index=[pdb.name for pdb in pdbwt_files])\n",
    "DF_energetic_wt.head()"
   ]
  },
  {
   "cell_type": "code",
   "execution_count": 54,
   "metadata": {
    "collapsed": true
   },
   "outputs": [],
   "source": [
    "DF_energetic_wt.to_csv(\"../data/DF_energetic_wt.csv\")"
   ]
  },
  {
   "cell_type": "markdown",
   "metadata": {},
   "source": [
    "## Energetic features wt and mut, merge dataframes"
   ]
  },
  {
   "cell_type": "code",
   "execution_count": 15,
   "metadata": {
    "collapsed": true
   },
   "outputs": [],
   "source": [
    "from AbPred.FoldX import names_stability_complex_mut,names_stability_complex_wt\n",
    "\n",
    "DF_energetic_mut = pd.read_csv(\"../data/DF_energetic_mut.csv\",index_col=0)\n",
    "DF_energetic_wt = pd.read_csv(\"../data/DF_energetic_wt.csv\",index_col=0)"
   ]
  },
  {
   "cell_type": "code",
   "execution_count": 16,
   "metadata": {
    "collapsed": true
   },
   "outputs": [],
   "source": [
    "DF_energetic_mut.columns = names_stability_complex_mut\n",
    "DF_energetic_wt.columns = names_stability_complex_wt"
   ]
  },
  {
   "cell_type": "code",
   "execution_count": 17,
   "metadata": {
    "collapsed": true
   },
   "outputs": [],
   "source": [
    "pdbmut_index_code = DF_energetic_mut.index.str.split(\".\",expand=True).get_level_values(0)\n"
   ]
  },
  {
   "cell_type": "code",
   "execution_count": 18,
   "metadata": {
    "collapsed": true
   },
   "outputs": [],
   "source": [
    "DF_energetic_mut['codes'] = pdbmut_index_code\n",
    "DF_energetic_mut.reset_index(inplace=True)\n",
    "DF_energetic_mut.set_index('codes',inplace=True)"
   ]
  },
  {
   "cell_type": "code",
   "execution_count": 19,
   "metadata": {
    "collapsed": true,
    "scrolled": true
   },
   "outputs": [],
   "source": [
    "DF_energetic_wt['codes'] = DF_energetic_wt.index.str[:-17]\n",
    "DF_energetic_wt.reset_index(inplace=True)\n",
    "DF_energetic_wt.set_index('codes',inplace=True)"
   ]
  },
  {
   "cell_type": "code",
   "execution_count": 20,
   "metadata": {
    "collapsed": true
   },
   "outputs": [],
   "source": [
    "DF_energetic_wt_mut = DF_energetic_mut.merge(DF_energetic_wt,on='codes')"
   ]
  },
  {
   "cell_type": "code",
   "execution_count": 21,
   "metadata": {
    "collapsed": true
   },
   "outputs": [],
   "source": [
    "def convert_features_to_differences(df, keep_mut=False):\n",
    "    \"\"\"Convert `_wt` and `_mut` columns into `_wt` and `_change` columns.\n",
    "    Create a new set of features (ending in `_change`) that describe the difference between values\n",
    "    of the wildtype (features ending in `_wt`) and mutant (features ending in `_mut`) features.\n",
    "    If `keep_mut` is `False`, removes all mutant features (features ending in `_mut`).\n",
    "    \"\"\"\n",
    "    column_list = []\n",
    "    for column_name, column in df.iteritems():\n",
    "        if ('_mut' in column_name and column_name.replace('_mut', '_wt') in df.columns and\n",
    "                df[column_name].dtype != object):\n",
    "            if keep_mut:\n",
    "                column_list.append(column)\n",
    "            new_column = column - df[column_name.replace('_mut', '_wt')]\n",
    "            if 'secondary_structure' in column_name:\n",
    "                new_column = new_column.apply(lambda x: 1 if x else 0)\n",
    "            new_column.name = column_name.replace('_mut', '_change')\n",
    "            column_list.append(new_column)\n",
    "        else:\n",
    "            column_list.append(column)\n",
    "    new_df = pd.concat(column_list, axis=1)\n",
    "    return new_df"
   ]
  },
  {
   "cell_type": "code",
   "execution_count": 24,
   "metadata": {
    "collapsed": true
   },
   "outputs": [],
   "source": [
    "DF_energetic_changes =  convert_features_to_differences(DF_energetic_wt_mut,keep_mut=False)"
   ]
  },
  {
   "cell_type": "code",
   "execution_count": 25,
   "metadata": {},
   "outputs": [
    {
     "data": {
      "text/html": [
       "<div>\n",
       "<style scoped>\n",
       "    .dataframe tbody tr th:only-of-type {\n",
       "        vertical-align: middle;\n",
       "    }\n",
       "\n",
       "    .dataframe tbody tr th {\n",
       "        vertical-align: top;\n",
       "    }\n",
       "\n",
       "    .dataframe thead th {\n",
       "        text-align: right;\n",
       "    }\n",
       "</style>\n",
       "<table border=\"1\" class=\"dataframe\">\n",
       "  <thead>\n",
       "    <tr style=\"text-align: right;\">\n",
       "      <th></th>\n",
       "      <th>index_x</th>\n",
       "      <th>intraclashes_energy_1_change</th>\n",
       "      <th>intraclashes_energy_2_change</th>\n",
       "      <th>dg_change</th>\n",
       "      <th>backbone_hbond_change</th>\n",
       "      <th>sidechain_hbond_change</th>\n",
       "      <th>van_der_waals_change</th>\n",
       "      <th>electrostatics_change</th>\n",
       "      <th>solvation_polar_change</th>\n",
       "      <th>solvation_hydrophobic_change</th>\n",
       "      <th>...</th>\n",
       "      <th>disulfide_wt</th>\n",
       "      <th>electrostatic_kon_wt</th>\n",
       "      <th>partial_covalent_bonds_wt</th>\n",
       "      <th>energy_ionisation_wt</th>\n",
       "      <th>entropy_complex_wt</th>\n",
       "      <th>number_of_residues_y</th>\n",
       "      <th>interface_residues_wt</th>\n",
       "      <th>interface_residues_clashing_wt</th>\n",
       "      <th>interface_residues_vdw_clashing_wt</th>\n",
       "      <th>interface_residues_bb_clashing_wt</th>\n",
       "    </tr>\n",
       "    <tr>\n",
       "      <th>codes</th>\n",
       "      <th></th>\n",
       "      <th></th>\n",
       "      <th></th>\n",
       "      <th></th>\n",
       "      <th></th>\n",
       "      <th></th>\n",
       "      <th></th>\n",
       "      <th></th>\n",
       "      <th></th>\n",
       "      <th></th>\n",
       "      <th></th>\n",
       "      <th></th>\n",
       "      <th></th>\n",
       "      <th></th>\n",
       "      <th></th>\n",
       "      <th></th>\n",
       "      <th></th>\n",
       "      <th></th>\n",
       "      <th></th>\n",
       "      <th></th>\n",
       "      <th></th>\n",
       "    </tr>\n",
       "  </thead>\n",
       "  <tbody>\n",
       "    <tr>\n",
       "      <th>1AK4</th>\n",
       "      <td>1AK4.mut.0_Repair.clean.pdb</td>\n",
       "      <td>0.0193</td>\n",
       "      <td>0.5289</td>\n",
       "      <td>-0.20980</td>\n",
       "      <td>-0.76375</td>\n",
       "      <td>-0.75498</td>\n",
       "      <td>0.27807</td>\n",
       "      <td>0.020227</td>\n",
       "      <td>-0.04380</td>\n",
       "      <td>0.6526</td>\n",
       "      <td>...</td>\n",
       "      <td>0.000000e+00</td>\n",
       "      <td>-0.062112</td>\n",
       "      <td>0.0</td>\n",
       "      <td>4.618880e-02</td>\n",
       "      <td>2.384</td>\n",
       "      <td>310.0</td>\n",
       "      <td>27.0</td>\n",
       "      <td>0.0</td>\n",
       "      <td>0.0</td>\n",
       "      <td>0.0</td>\n",
       "    </tr>\n",
       "    <tr>\n",
       "      <th>1AK4</th>\n",
       "      <td>1AK4.mut.1_Repair.clean.pdb</td>\n",
       "      <td>-0.5220</td>\n",
       "      <td>-0.4267</td>\n",
       "      <td>0.46860</td>\n",
       "      <td>-0.08139</td>\n",
       "      <td>-0.00885</td>\n",
       "      <td>-1.08933</td>\n",
       "      <td>0.077503</td>\n",
       "      <td>1.00890</td>\n",
       "      <td>-1.7812</td>\n",
       "      <td>...</td>\n",
       "      <td>0.000000e+00</td>\n",
       "      <td>-0.062112</td>\n",
       "      <td>0.0</td>\n",
       "      <td>4.618880e-02</td>\n",
       "      <td>2.384</td>\n",
       "      <td>310.0</td>\n",
       "      <td>27.0</td>\n",
       "      <td>0.0</td>\n",
       "      <td>0.0</td>\n",
       "      <td>0.0</td>\n",
       "    </tr>\n",
       "    <tr>\n",
       "      <th>1AK4</th>\n",
       "      <td>1AK4.mut.2_Repair.clean.pdb</td>\n",
       "      <td>0.0001</td>\n",
       "      <td>0.5379</td>\n",
       "      <td>0.89199</td>\n",
       "      <td>0.00000</td>\n",
       "      <td>0.00000</td>\n",
       "      <td>0.26879</td>\n",
       "      <td>0.028546</td>\n",
       "      <td>-0.05080</td>\n",
       "      <td>0.5681</td>\n",
       "      <td>...</td>\n",
       "      <td>0.000000e+00</td>\n",
       "      <td>-0.062112</td>\n",
       "      <td>0.0</td>\n",
       "      <td>4.618880e-02</td>\n",
       "      <td>2.384</td>\n",
       "      <td>310.0</td>\n",
       "      <td>27.0</td>\n",
       "      <td>0.0</td>\n",
       "      <td>0.0</td>\n",
       "      <td>0.0</td>\n",
       "    </tr>\n",
       "    <tr>\n",
       "      <th>1AK4</th>\n",
       "      <td>1AK4.mut.3_Repair.clean.pdb</td>\n",
       "      <td>0.1572</td>\n",
       "      <td>0.8809</td>\n",
       "      <td>-0.31530</td>\n",
       "      <td>0.10004</td>\n",
       "      <td>0.13391</td>\n",
       "      <td>-0.49034</td>\n",
       "      <td>0.034455</td>\n",
       "      <td>0.10690</td>\n",
       "      <td>-1.0400</td>\n",
       "      <td>...</td>\n",
       "      <td>0.000000e+00</td>\n",
       "      <td>-0.062112</td>\n",
       "      <td>0.0</td>\n",
       "      <td>4.618880e-02</td>\n",
       "      <td>2.384</td>\n",
       "      <td>310.0</td>\n",
       "      <td>27.0</td>\n",
       "      <td>0.0</td>\n",
       "      <td>0.0</td>\n",
       "      <td>0.0</td>\n",
       "    </tr>\n",
       "    <tr>\n",
       "      <th>1AK4</th>\n",
       "      <td>1AK4.mut.4_Repair.clean.pdb</td>\n",
       "      <td>-0.0359</td>\n",
       "      <td>1.9644</td>\n",
       "      <td>-0.49220</td>\n",
       "      <td>0.06054</td>\n",
       "      <td>0.00815</td>\n",
       "      <td>-0.25590</td>\n",
       "      <td>0.043309</td>\n",
       "      <td>0.18120</td>\n",
       "      <td>-0.3107</td>\n",
       "      <td>...</td>\n",
       "      <td>0.000000e+00</td>\n",
       "      <td>-0.062112</td>\n",
       "      <td>0.0</td>\n",
       "      <td>4.618880e-02</td>\n",
       "      <td>2.384</td>\n",
       "      <td>310.0</td>\n",
       "      <td>27.0</td>\n",
       "      <td>0.0</td>\n",
       "      <td>0.0</td>\n",
       "      <td>0.0</td>\n",
       "    </tr>\n",
       "    <tr>\n",
       "      <th>1AK4</th>\n",
       "      <td>1AK4.mut.5_Repair.clean.pdb</td>\n",
       "      <td>-0.0032</td>\n",
       "      <td>1.4557</td>\n",
       "      <td>-1.91970</td>\n",
       "      <td>-0.88607</td>\n",
       "      <td>-0.96859</td>\n",
       "      <td>-0.89736</td>\n",
       "      <td>0.014497</td>\n",
       "      <td>1.06720</td>\n",
       "      <td>-0.9940</td>\n",
       "      <td>...</td>\n",
       "      <td>0.000000e+00</td>\n",
       "      <td>-0.062112</td>\n",
       "      <td>0.0</td>\n",
       "      <td>4.618880e-02</td>\n",
       "      <td>2.384</td>\n",
       "      <td>310.0</td>\n",
       "      <td>27.0</td>\n",
       "      <td>0.0</td>\n",
       "      <td>0.0</td>\n",
       "      <td>0.0</td>\n",
       "    </tr>\n",
       "    <tr>\n",
       "      <th>1AK4</th>\n",
       "      <td>1AK4.mut.6_Repair.clean.pdb</td>\n",
       "      <td>-0.7722</td>\n",
       "      <td>0.5944</td>\n",
       "      <td>0.40670</td>\n",
       "      <td>0.51328</td>\n",
       "      <td>0.42397</td>\n",
       "      <td>0.60805</td>\n",
       "      <td>0.036729</td>\n",
       "      <td>-0.77534</td>\n",
       "      <td>0.7029</td>\n",
       "      <td>...</td>\n",
       "      <td>0.000000e+00</td>\n",
       "      <td>-0.062112</td>\n",
       "      <td>0.0</td>\n",
       "      <td>4.618880e-02</td>\n",
       "      <td>2.384</td>\n",
       "      <td>310.0</td>\n",
       "      <td>27.0</td>\n",
       "      <td>0.0</td>\n",
       "      <td>0.0</td>\n",
       "      <td>0.0</td>\n",
       "    </tr>\n",
       "    <tr>\n",
       "      <th>1AK4</th>\n",
       "      <td>1AK4.mut.7_Repair.clean.pdb</td>\n",
       "      <td>-0.7674</td>\n",
       "      <td>0.3209</td>\n",
       "      <td>-0.23320</td>\n",
       "      <td>-0.15660</td>\n",
       "      <td>-0.20282</td>\n",
       "      <td>0.19283</td>\n",
       "      <td>0.089985</td>\n",
       "      <td>-0.30600</td>\n",
       "      <td>0.2096</td>\n",
       "      <td>...</td>\n",
       "      <td>0.000000e+00</td>\n",
       "      <td>-0.062112</td>\n",
       "      <td>0.0</td>\n",
       "      <td>4.618880e-02</td>\n",
       "      <td>2.384</td>\n",
       "      <td>310.0</td>\n",
       "      <td>27.0</td>\n",
       "      <td>0.0</td>\n",
       "      <td>0.0</td>\n",
       "      <td>0.0</td>\n",
       "    </tr>\n",
       "    <tr>\n",
       "      <th>1AK4</th>\n",
       "      <td>1AK4.mut.8_Repair.clean.pdb</td>\n",
       "      <td>-0.7976</td>\n",
       "      <td>0.0057</td>\n",
       "      <td>-0.55120</td>\n",
       "      <td>-1.05625</td>\n",
       "      <td>-1.15463</td>\n",
       "      <td>-0.12916</td>\n",
       "      <td>0.109411</td>\n",
       "      <td>0.42350</td>\n",
       "      <td>0.0192</td>\n",
       "      <td>...</td>\n",
       "      <td>0.000000e+00</td>\n",
       "      <td>-0.062112</td>\n",
       "      <td>0.0</td>\n",
       "      <td>4.618880e-02</td>\n",
       "      <td>2.384</td>\n",
       "      <td>310.0</td>\n",
       "      <td>27.0</td>\n",
       "      <td>0.0</td>\n",
       "      <td>0.0</td>\n",
       "      <td>0.0</td>\n",
       "    </tr>\n",
       "    <tr>\n",
       "      <th>1AK4</th>\n",
       "      <td>1AK4.mut.9_Repair.clean.pdb</td>\n",
       "      <td>0.0058</td>\n",
       "      <td>0.5850</td>\n",
       "      <td>0.22410</td>\n",
       "      <td>0.02883</td>\n",
       "      <td>0.02787</td>\n",
       "      <td>0.09027</td>\n",
       "      <td>0.008072</td>\n",
       "      <td>-0.12030</td>\n",
       "      <td>0.0769</td>\n",
       "      <td>...</td>\n",
       "      <td>0.000000e+00</td>\n",
       "      <td>-0.062112</td>\n",
       "      <td>0.0</td>\n",
       "      <td>4.618880e-02</td>\n",
       "      <td>2.384</td>\n",
       "      <td>310.0</td>\n",
       "      <td>27.0</td>\n",
       "      <td>0.0</td>\n",
       "      <td>0.0</td>\n",
       "      <td>0.0</td>\n",
       "    </tr>\n",
       "    <tr>\n",
       "      <th>1AK4</th>\n",
       "      <td>1AK4.mut.10_Repair.clean.pdb</td>\n",
       "      <td>0.0002</td>\n",
       "      <td>0.5959</td>\n",
       "      <td>0.06070</td>\n",
       "      <td>0.00482</td>\n",
       "      <td>0.00386</td>\n",
       "      <td>-0.00691</td>\n",
       "      <td>0.009699</td>\n",
       "      <td>0.02370</td>\n",
       "      <td>-0.0162</td>\n",
       "      <td>...</td>\n",
       "      <td>0.000000e+00</td>\n",
       "      <td>-0.062112</td>\n",
       "      <td>0.0</td>\n",
       "      <td>4.618880e-02</td>\n",
       "      <td>2.384</td>\n",
       "      <td>310.0</td>\n",
       "      <td>27.0</td>\n",
       "      <td>0.0</td>\n",
       "      <td>0.0</td>\n",
       "      <td>0.0</td>\n",
       "    </tr>\n",
       "    <tr>\n",
       "      <th>1AK4</th>\n",
       "      <td>1AK4.mut.11_Repair.clean.pdb</td>\n",
       "      <td>0.0051</td>\n",
       "      <td>0.6132</td>\n",
       "      <td>-1.54600</td>\n",
       "      <td>-0.84320</td>\n",
       "      <td>-0.86469</td>\n",
       "      <td>-0.43384</td>\n",
       "      <td>0.033540</td>\n",
       "      <td>0.58870</td>\n",
       "      <td>-0.4919</td>\n",
       "      <td>...</td>\n",
       "      <td>0.000000e+00</td>\n",
       "      <td>-0.062112</td>\n",
       "      <td>0.0</td>\n",
       "      <td>4.618880e-02</td>\n",
       "      <td>2.384</td>\n",
       "      <td>310.0</td>\n",
       "      <td>27.0</td>\n",
       "      <td>0.0</td>\n",
       "      <td>0.0</td>\n",
       "      <td>0.0</td>\n",
       "    </tr>\n",
       "    <tr>\n",
       "      <th>1AK4</th>\n",
       "      <td>1AK4.mut.12_Repair.clean.pdb</td>\n",
       "      <td>0.0110</td>\n",
       "      <td>0.6533</td>\n",
       "      <td>2.19129</td>\n",
       "      <td>-0.28503</td>\n",
       "      <td>-0.22156</td>\n",
       "      <td>0.35610</td>\n",
       "      <td>0.030777</td>\n",
       "      <td>0.71920</td>\n",
       "      <td>0.9178</td>\n",
       "      <td>...</td>\n",
       "      <td>0.000000e+00</td>\n",
       "      <td>-0.062112</td>\n",
       "      <td>0.0</td>\n",
       "      <td>4.618880e-02</td>\n",
       "      <td>2.384</td>\n",
       "      <td>310.0</td>\n",
       "      <td>27.0</td>\n",
       "      <td>0.0</td>\n",
       "      <td>0.0</td>\n",
       "      <td>0.0</td>\n",
       "    </tr>\n",
       "    <tr>\n",
       "      <th>1AK4</th>\n",
       "      <td>1AK4.mut.13_Repair.clean.pdb</td>\n",
       "      <td>0.3746</td>\n",
       "      <td>0.7911</td>\n",
       "      <td>3.17031</td>\n",
       "      <td>-0.32013</td>\n",
       "      <td>-0.26152</td>\n",
       "      <td>-0.44650</td>\n",
       "      <td>0.000492</td>\n",
       "      <td>0.90260</td>\n",
       "      <td>-0.6943</td>\n",
       "      <td>...</td>\n",
       "      <td>0.000000e+00</td>\n",
       "      <td>-0.062112</td>\n",
       "      <td>0.0</td>\n",
       "      <td>4.618880e-02</td>\n",
       "      <td>2.384</td>\n",
       "      <td>310.0</td>\n",
       "      <td>27.0</td>\n",
       "      <td>0.0</td>\n",
       "      <td>0.0</td>\n",
       "      <td>0.0</td>\n",
       "    </tr>\n",
       "    <tr>\n",
       "      <th>1AK4</th>\n",
       "      <td>1AK4.mut.14_Repair.clean.pdb</td>\n",
       "      <td>0.0456</td>\n",
       "      <td>0.0203</td>\n",
       "      <td>1.34278</td>\n",
       "      <td>0.01544</td>\n",
       "      <td>0.01545</td>\n",
       "      <td>0.35825</td>\n",
       "      <td>0.000423</td>\n",
       "      <td>0.23640</td>\n",
       "      <td>0.7605</td>\n",
       "      <td>...</td>\n",
       "      <td>0.000000e+00</td>\n",
       "      <td>-0.062112</td>\n",
       "      <td>0.0</td>\n",
       "      <td>4.618880e-02</td>\n",
       "      <td>2.384</td>\n",
       "      <td>310.0</td>\n",
       "      <td>27.0</td>\n",
       "      <td>0.0</td>\n",
       "      <td>0.0</td>\n",
       "      <td>0.0</td>\n",
       "    </tr>\n",
       "    <tr>\n",
       "      <th>1AK4</th>\n",
       "      <td>1AK4.mut.15_Repair.clean.pdb</td>\n",
       "      <td>0.0193</td>\n",
       "      <td>0.4110</td>\n",
       "      <td>-1.21270</td>\n",
       "      <td>-0.88622</td>\n",
       "      <td>-0.88959</td>\n",
       "      <td>-0.05406</td>\n",
       "      <td>0.045683</td>\n",
       "      <td>0.26700</td>\n",
       "      <td>0.1340</td>\n",
       "      <td>...</td>\n",
       "      <td>0.000000e+00</td>\n",
       "      <td>-0.062112</td>\n",
       "      <td>0.0</td>\n",
       "      <td>4.618880e-02</td>\n",
       "      <td>2.384</td>\n",
       "      <td>310.0</td>\n",
       "      <td>27.0</td>\n",
       "      <td>0.0</td>\n",
       "      <td>0.0</td>\n",
       "      <td>0.0</td>\n",
       "    </tr>\n",
       "    <tr>\n",
       "      <th>1BJ1</th>\n",
       "      <td>1BJ1.mut.16_Repair.clean.pdb</td>\n",
       "      <td>-0.4588</td>\n",
       "      <td>-0.0914</td>\n",
       "      <td>0.75330</td>\n",
       "      <td>0.03360</td>\n",
       "      <td>0.02351</td>\n",
       "      <td>0.14820</td>\n",
       "      <td>-0.004485</td>\n",
       "      <td>-0.18540</td>\n",
       "      <td>0.1208</td>\n",
       "      <td>...</td>\n",
       "      <td>3.552710e-15</td>\n",
       "      <td>0.016842</td>\n",
       "      <td>0.0</td>\n",
       "      <td>6.269110e-01</td>\n",
       "      <td>2.384</td>\n",
       "      <td>625.0</td>\n",
       "      <td>45.0</td>\n",
       "      <td>1.0</td>\n",
       "      <td>1.0</td>\n",
       "      <td>0.0</td>\n",
       "    </tr>\n",
       "    <tr>\n",
       "      <th>1BJ1</th>\n",
       "      <td>1BJ1.mut.17_Repair.clean.pdb</td>\n",
       "      <td>-0.0337</td>\n",
       "      <td>-1.1895</td>\n",
       "      <td>-0.20240</td>\n",
       "      <td>-0.09025</td>\n",
       "      <td>-0.02843</td>\n",
       "      <td>0.26350</td>\n",
       "      <td>-0.003274</td>\n",
       "      <td>-0.50320</td>\n",
       "      <td>0.2071</td>\n",
       "      <td>...</td>\n",
       "      <td>3.552710e-15</td>\n",
       "      <td>0.016842</td>\n",
       "      <td>0.0</td>\n",
       "      <td>6.269110e-01</td>\n",
       "      <td>2.384</td>\n",
       "      <td>625.0</td>\n",
       "      <td>45.0</td>\n",
       "      <td>1.0</td>\n",
       "      <td>1.0</td>\n",
       "      <td>0.0</td>\n",
       "    </tr>\n",
       "    <tr>\n",
       "      <th>1BJ1</th>\n",
       "      <td>1BJ1.mut.18_Repair.clean.pdb</td>\n",
       "      <td>-0.0539</td>\n",
       "      <td>-0.8996</td>\n",
       "      <td>-0.06340</td>\n",
       "      <td>0.04341</td>\n",
       "      <td>-0.04987</td>\n",
       "      <td>0.33710</td>\n",
       "      <td>0.178305</td>\n",
       "      <td>-0.77120</td>\n",
       "      <td>0.3286</td>\n",
       "      <td>...</td>\n",
       "      <td>3.552710e-15</td>\n",
       "      <td>0.016842</td>\n",
       "      <td>0.0</td>\n",
       "      <td>6.269110e-01</td>\n",
       "      <td>2.384</td>\n",
       "      <td>625.0</td>\n",
       "      <td>45.0</td>\n",
       "      <td>1.0</td>\n",
       "      <td>1.0</td>\n",
       "      <td>0.0</td>\n",
       "    </tr>\n",
       "    <tr>\n",
       "      <th>1BJ1</th>\n",
       "      <td>1BJ1.mut.19_Repair.clean.pdb</td>\n",
       "      <td>0.0846</td>\n",
       "      <td>2.3333</td>\n",
       "      <td>3.55780</td>\n",
       "      <td>0.01704</td>\n",
       "      <td>0.19247</td>\n",
       "      <td>-0.15760</td>\n",
       "      <td>0.030096</td>\n",
       "      <td>-0.22840</td>\n",
       "      <td>-0.5883</td>\n",
       "      <td>...</td>\n",
       "      <td>3.552710e-15</td>\n",
       "      <td>0.016842</td>\n",
       "      <td>0.0</td>\n",
       "      <td>6.269110e-01</td>\n",
       "      <td>2.384</td>\n",
       "      <td>625.0</td>\n",
       "      <td>45.0</td>\n",
       "      <td>1.0</td>\n",
       "      <td>1.0</td>\n",
       "      <td>0.0</td>\n",
       "    </tr>\n",
       "    <tr>\n",
       "      <th>1BJ1</th>\n",
       "      <td>1BJ1.mut.20_Repair.clean.pdb</td>\n",
       "      <td>-0.1592</td>\n",
       "      <td>2.0726</td>\n",
       "      <td>8.22620</td>\n",
       "      <td>1.12750</td>\n",
       "      <td>2.54452</td>\n",
       "      <td>0.07380</td>\n",
       "      <td>-0.310982</td>\n",
       "      <td>-0.77760</td>\n",
       "      <td>-0.5008</td>\n",
       "      <td>...</td>\n",
       "      <td>3.552710e-15</td>\n",
       "      <td>0.016842</td>\n",
       "      <td>0.0</td>\n",
       "      <td>6.269110e-01</td>\n",
       "      <td>2.384</td>\n",
       "      <td>625.0</td>\n",
       "      <td>45.0</td>\n",
       "      <td>1.0</td>\n",
       "      <td>1.0</td>\n",
       "      <td>0.0</td>\n",
       "    </tr>\n",
       "    <tr>\n",
       "      <th>1BJ1</th>\n",
       "      <td>1BJ1.mut.21_Repair.clean.pdb</td>\n",
       "      <td>-0.0466</td>\n",
       "      <td>-1.2120</td>\n",
       "      <td>1.48920</td>\n",
       "      <td>0.02152</td>\n",
       "      <td>1.75388</td>\n",
       "      <td>0.28470</td>\n",
       "      <td>0.033724</td>\n",
       "      <td>-0.70810</td>\n",
       "      <td>0.2447</td>\n",
       "      <td>...</td>\n",
       "      <td>3.552710e-15</td>\n",
       "      <td>0.016842</td>\n",
       "      <td>0.0</td>\n",
       "      <td>6.269110e-01</td>\n",
       "      <td>2.384</td>\n",
       "      <td>625.0</td>\n",
       "      <td>45.0</td>\n",
       "      <td>1.0</td>\n",
       "      <td>1.0</td>\n",
       "      <td>0.0</td>\n",
       "    </tr>\n",
       "    <tr>\n",
       "      <th>1BJ1</th>\n",
       "      <td>1BJ1.mut.22_Repair.clean.pdb</td>\n",
       "      <td>-0.0562</td>\n",
       "      <td>-0.4116</td>\n",
       "      <td>2.70490</td>\n",
       "      <td>2.37423</td>\n",
       "      <td>3.51022</td>\n",
       "      <td>1.47960</td>\n",
       "      <td>-0.756313</td>\n",
       "      <td>-2.40520</td>\n",
       "      <td>1.6355</td>\n",
       "      <td>...</td>\n",
       "      <td>3.552710e-15</td>\n",
       "      <td>0.016842</td>\n",
       "      <td>0.0</td>\n",
       "      <td>6.269110e-01</td>\n",
       "      <td>2.384</td>\n",
       "      <td>625.0</td>\n",
       "      <td>45.0</td>\n",
       "      <td>1.0</td>\n",
       "      <td>1.0</td>\n",
       "      <td>0.0</td>\n",
       "    </tr>\n",
       "    <tr>\n",
       "      <th>1BJ1</th>\n",
       "      <td>1BJ1.mut.23_Repair.clean.pdb</td>\n",
       "      <td>-0.0399</td>\n",
       "      <td>-0.1010</td>\n",
       "      <td>0.17840</td>\n",
       "      <td>-0.07694</td>\n",
       "      <td>-0.05167</td>\n",
       "      <td>0.03120</td>\n",
       "      <td>-0.015862</td>\n",
       "      <td>-0.06550</td>\n",
       "      <td>0.0105</td>\n",
       "      <td>...</td>\n",
       "      <td>3.552710e-15</td>\n",
       "      <td>0.016842</td>\n",
       "      <td>0.0</td>\n",
       "      <td>6.269110e-01</td>\n",
       "      <td>2.384</td>\n",
       "      <td>625.0</td>\n",
       "      <td>45.0</td>\n",
       "      <td>1.0</td>\n",
       "      <td>1.0</td>\n",
       "      <td>0.0</td>\n",
       "    </tr>\n",
       "    <tr>\n",
       "      <th>1BJ1</th>\n",
       "      <td>1BJ1.mut.24_Repair.clean.pdb</td>\n",
       "      <td>-0.0168</td>\n",
       "      <td>-0.2867</td>\n",
       "      <td>0.65410</td>\n",
       "      <td>-0.02808</td>\n",
       "      <td>0.03038</td>\n",
       "      <td>0.01900</td>\n",
       "      <td>0.003387</td>\n",
       "      <td>0.12950</td>\n",
       "      <td>0.2325</td>\n",
       "      <td>...</td>\n",
       "      <td>3.552710e-15</td>\n",
       "      <td>0.016842</td>\n",
       "      <td>0.0</td>\n",
       "      <td>6.269110e-01</td>\n",
       "      <td>2.384</td>\n",
       "      <td>625.0</td>\n",
       "      <td>45.0</td>\n",
       "      <td>1.0</td>\n",
       "      <td>1.0</td>\n",
       "      <td>0.0</td>\n",
       "    </tr>\n",
       "    <tr>\n",
       "      <th>1BJ1</th>\n",
       "      <td>1BJ1.mut.25_Repair.clean.pdb</td>\n",
       "      <td>-0.5809</td>\n",
       "      <td>-0.9732</td>\n",
       "      <td>0.48720</td>\n",
       "      <td>-0.15858</td>\n",
       "      <td>-0.05595</td>\n",
       "      <td>0.47590</td>\n",
       "      <td>-0.003408</td>\n",
       "      <td>-0.55250</td>\n",
       "      <td>0.8669</td>\n",
       "      <td>...</td>\n",
       "      <td>3.552710e-15</td>\n",
       "      <td>0.016842</td>\n",
       "      <td>0.0</td>\n",
       "      <td>6.269110e-01</td>\n",
       "      <td>2.384</td>\n",
       "      <td>625.0</td>\n",
       "      <td>45.0</td>\n",
       "      <td>1.0</td>\n",
       "      <td>1.0</td>\n",
       "      <td>0.0</td>\n",
       "    </tr>\n",
       "    <tr>\n",
       "      <th>1BJ1</th>\n",
       "      <td>1BJ1.mut.26_Repair.clean.pdb</td>\n",
       "      <td>-0.3509</td>\n",
       "      <td>-0.2208</td>\n",
       "      <td>0.09790</td>\n",
       "      <td>-0.13790</td>\n",
       "      <td>0.18967</td>\n",
       "      <td>0.39660</td>\n",
       "      <td>-0.030657</td>\n",
       "      <td>-0.51180</td>\n",
       "      <td>0.4730</td>\n",
       "      <td>...</td>\n",
       "      <td>3.552710e-15</td>\n",
       "      <td>0.016842</td>\n",
       "      <td>0.0</td>\n",
       "      <td>6.269110e-01</td>\n",
       "      <td>2.384</td>\n",
       "      <td>625.0</td>\n",
       "      <td>45.0</td>\n",
       "      <td>1.0</td>\n",
       "      <td>1.0</td>\n",
       "      <td>0.0</td>\n",
       "    </tr>\n",
       "    <tr>\n",
       "      <th>1BJ1</th>\n",
       "      <td>1BJ1.mut.27_Repair.clean.pdb</td>\n",
       "      <td>-0.0509</td>\n",
       "      <td>-0.0640</td>\n",
       "      <td>-0.44510</td>\n",
       "      <td>-0.03988</td>\n",
       "      <td>0.20615</td>\n",
       "      <td>0.71080</td>\n",
       "      <td>-0.018094</td>\n",
       "      <td>-1.33700</td>\n",
       "      <td>0.5751</td>\n",
       "      <td>...</td>\n",
       "      <td>3.552710e-15</td>\n",
       "      <td>0.016842</td>\n",
       "      <td>0.0</td>\n",
       "      <td>6.269110e-01</td>\n",
       "      <td>2.384</td>\n",
       "      <td>625.0</td>\n",
       "      <td>45.0</td>\n",
       "      <td>1.0</td>\n",
       "      <td>1.0</td>\n",
       "      <td>0.0</td>\n",
       "    </tr>\n",
       "    <tr>\n",
       "      <th>1BJ1</th>\n",
       "      <td>1BJ1.mut.28_Repair.clean.pdb</td>\n",
       "      <td>-0.1893</td>\n",
       "      <td>-0.2789</td>\n",
       "      <td>0.64480</td>\n",
       "      <td>-0.09287</td>\n",
       "      <td>1.15792</td>\n",
       "      <td>0.56770</td>\n",
       "      <td>0.037193</td>\n",
       "      <td>-0.26830</td>\n",
       "      <td>1.0452</td>\n",
       "      <td>...</td>\n",
       "      <td>3.552710e-15</td>\n",
       "      <td>0.016842</td>\n",
       "      <td>0.0</td>\n",
       "      <td>6.269110e-01</td>\n",
       "      <td>2.384</td>\n",
       "      <td>625.0</td>\n",
       "      <td>45.0</td>\n",
       "      <td>1.0</td>\n",
       "      <td>1.0</td>\n",
       "      <td>0.0</td>\n",
       "    </tr>\n",
       "    <tr>\n",
       "      <th>1BJ1</th>\n",
       "      <td>1BJ1.mut.29_Repair.clean.pdb</td>\n",
       "      <td>-0.0337</td>\n",
       "      <td>-0.1937</td>\n",
       "      <td>0.45120</td>\n",
       "      <td>0.08270</td>\n",
       "      <td>0.01751</td>\n",
       "      <td>0.10870</td>\n",
       "      <td>0.048775</td>\n",
       "      <td>-0.08350</td>\n",
       "      <td>0.1722</td>\n",
       "      <td>...</td>\n",
       "      <td>3.552710e-15</td>\n",
       "      <td>0.016842</td>\n",
       "      <td>0.0</td>\n",
       "      <td>6.269110e-01</td>\n",
       "      <td>2.384</td>\n",
       "      <td>625.0</td>\n",
       "      <td>45.0</td>\n",
       "      <td>1.0</td>\n",
       "      <td>1.0</td>\n",
       "      <td>0.0</td>\n",
       "    </tr>\n",
       "    <tr>\n",
       "      <th>...</th>\n",
       "      <td>...</td>\n",
       "      <td>...</td>\n",
       "      <td>...</td>\n",
       "      <td>...</td>\n",
       "      <td>...</td>\n",
       "      <td>...</td>\n",
       "      <td>...</td>\n",
       "      <td>...</td>\n",
       "      <td>...</td>\n",
       "      <td>...</td>\n",
       "      <td>...</td>\n",
       "      <td>...</td>\n",
       "      <td>...</td>\n",
       "      <td>...</td>\n",
       "      <td>...</td>\n",
       "      <td>...</td>\n",
       "      <td>...</td>\n",
       "      <td>...</td>\n",
       "      <td>...</td>\n",
       "      <td>...</td>\n",
       "      <td>...</td>\n",
       "    </tr>\n",
       "    <tr>\n",
       "      <th>HM_2NYY</th>\n",
       "      <td>HM_2NYY.mut.615_Repair.clean.pdb</td>\n",
       "      <td>24.4140</td>\n",
       "      <td>-0.8737</td>\n",
       "      <td>-1.66950</td>\n",
       "      <td>-0.72071</td>\n",
       "      <td>-2.04580</td>\n",
       "      <td>-0.44500</td>\n",
       "      <td>-0.078460</td>\n",
       "      <td>0.81750</td>\n",
       "      <td>-0.2699</td>\n",
       "      <td>...</td>\n",
       "      <td>3.552710e-15</td>\n",
       "      <td>-0.587126</td>\n",
       "      <td>0.0</td>\n",
       "      <td>1.110220e-15</td>\n",
       "      <td>2.384</td>\n",
       "      <td>1727.0</td>\n",
       "      <td>52.0</td>\n",
       "      <td>0.0</td>\n",
       "      <td>0.0</td>\n",
       "      <td>0.0</td>\n",
       "    </tr>\n",
       "    <tr>\n",
       "      <th>HM_2NYY</th>\n",
       "      <td>HM_2NYY.mut.616_Repair.clean.pdb</td>\n",
       "      <td>0.5350</td>\n",
       "      <td>0.1094</td>\n",
       "      <td>-0.02500</td>\n",
       "      <td>-0.29993</td>\n",
       "      <td>-0.50230</td>\n",
       "      <td>0.53610</td>\n",
       "      <td>0.666880</td>\n",
       "      <td>-1.65980</td>\n",
       "      <td>0.9792</td>\n",
       "      <td>...</td>\n",
       "      <td>3.552710e-15</td>\n",
       "      <td>-0.587126</td>\n",
       "      <td>0.0</td>\n",
       "      <td>1.110220e-15</td>\n",
       "      <td>2.384</td>\n",
       "      <td>1727.0</td>\n",
       "      <td>52.0</td>\n",
       "      <td>0.0</td>\n",
       "      <td>0.0</td>\n",
       "      <td>0.0</td>\n",
       "    </tr>\n",
       "    <tr>\n",
       "      <th>HM_2NYY</th>\n",
       "      <td>HM_2NYY.mut.617_Repair.clean.pdb</td>\n",
       "      <td>2.6870</td>\n",
       "      <td>-1.7982</td>\n",
       "      <td>-1.31680</td>\n",
       "      <td>-1.50655</td>\n",
       "      <td>0.02420</td>\n",
       "      <td>-0.79320</td>\n",
       "      <td>-0.306880</td>\n",
       "      <td>0.55740</td>\n",
       "      <td>-0.9865</td>\n",
       "      <td>...</td>\n",
       "      <td>3.552710e-15</td>\n",
       "      <td>-0.587126</td>\n",
       "      <td>0.0</td>\n",
       "      <td>1.110220e-15</td>\n",
       "      <td>2.384</td>\n",
       "      <td>1727.0</td>\n",
       "      <td>52.0</td>\n",
       "      <td>0.0</td>\n",
       "      <td>0.0</td>\n",
       "      <td>0.0</td>\n",
       "    </tr>\n",
       "    <tr>\n",
       "      <th>HM_2NYY</th>\n",
       "      <td>HM_2NYY.mut.618_Repair.clean.pdb</td>\n",
       "      <td>0.0190</td>\n",
       "      <td>-0.3487</td>\n",
       "      <td>-1.48990</td>\n",
       "      <td>-0.75398</td>\n",
       "      <td>-0.11250</td>\n",
       "      <td>0.70410</td>\n",
       "      <td>-0.068840</td>\n",
       "      <td>-1.38460</td>\n",
       "      <td>0.8286</td>\n",
       "      <td>...</td>\n",
       "      <td>3.552710e-15</td>\n",
       "      <td>-0.587126</td>\n",
       "      <td>0.0</td>\n",
       "      <td>1.110220e-15</td>\n",
       "      <td>2.384</td>\n",
       "      <td>1727.0</td>\n",
       "      <td>52.0</td>\n",
       "      <td>0.0</td>\n",
       "      <td>0.0</td>\n",
       "      <td>0.0</td>\n",
       "    </tr>\n",
       "    <tr>\n",
       "      <th>HM_2NYY</th>\n",
       "      <td>HM_2NYY.mut.619_Repair.clean.pdb</td>\n",
       "      <td>3.5920</td>\n",
       "      <td>1.0330</td>\n",
       "      <td>-0.29020</td>\n",
       "      <td>0.02750</td>\n",
       "      <td>-1.03740</td>\n",
       "      <td>0.24950</td>\n",
       "      <td>-0.016460</td>\n",
       "      <td>-0.55800</td>\n",
       "      <td>0.5099</td>\n",
       "      <td>...</td>\n",
       "      <td>3.552710e-15</td>\n",
       "      <td>-0.587126</td>\n",
       "      <td>0.0</td>\n",
       "      <td>1.110220e-15</td>\n",
       "      <td>2.384</td>\n",
       "      <td>1727.0</td>\n",
       "      <td>52.0</td>\n",
       "      <td>0.0</td>\n",
       "      <td>0.0</td>\n",
       "      <td>0.0</td>\n",
       "    </tr>\n",
       "    <tr>\n",
       "      <th>HM_2NYY</th>\n",
       "      <td>HM_2NYY.mut.620_Repair.clean.pdb</td>\n",
       "      <td>10.6230</td>\n",
       "      <td>1.7240</td>\n",
       "      <td>-2.53430</td>\n",
       "      <td>-2.90564</td>\n",
       "      <td>-0.45900</td>\n",
       "      <td>-1.72120</td>\n",
       "      <td>-1.493820</td>\n",
       "      <td>1.10260</td>\n",
       "      <td>-2.0382</td>\n",
       "      <td>...</td>\n",
       "      <td>3.552710e-15</td>\n",
       "      <td>-0.587126</td>\n",
       "      <td>0.0</td>\n",
       "      <td>1.110220e-15</td>\n",
       "      <td>2.384</td>\n",
       "      <td>1727.0</td>\n",
       "      <td>52.0</td>\n",
       "      <td>0.0</td>\n",
       "      <td>0.0</td>\n",
       "      <td>0.0</td>\n",
       "    </tr>\n",
       "    <tr>\n",
       "      <th>HM_2NZ9</th>\n",
       "      <td>HM_2NZ9.mut.621_Repair.clean.pdb</td>\n",
       "      <td>0.0470</td>\n",
       "      <td>-0.3629</td>\n",
       "      <td>-1.97410</td>\n",
       "      <td>-0.03084</td>\n",
       "      <td>1.07860</td>\n",
       "      <td>1.12510</td>\n",
       "      <td>1.081905</td>\n",
       "      <td>-3.55940</td>\n",
       "      <td>0.5614</td>\n",
       "      <td>...</td>\n",
       "      <td>-1.776360e-15</td>\n",
       "      <td>-0.373984</td>\n",
       "      <td>0.0</td>\n",
       "      <td>1.028820e-02</td>\n",
       "      <td>2.384</td>\n",
       "      <td>1727.0</td>\n",
       "      <td>50.0</td>\n",
       "      <td>1.0</td>\n",
       "      <td>1.0</td>\n",
       "      <td>0.0</td>\n",
       "    </tr>\n",
       "    <tr>\n",
       "      <th>HM_2NZ9</th>\n",
       "      <td>HM_2NZ9.mut.622_Repair.clean.pdb</td>\n",
       "      <td>-0.0700</td>\n",
       "      <td>0.9537</td>\n",
       "      <td>-4.37890</td>\n",
       "      <td>-1.86946</td>\n",
       "      <td>1.75280</td>\n",
       "      <td>0.03040</td>\n",
       "      <td>-1.037400</td>\n",
       "      <td>-0.47620</td>\n",
       "      <td>-0.1058</td>\n",
       "      <td>...</td>\n",
       "      <td>-1.776360e-15</td>\n",
       "      <td>-0.373984</td>\n",
       "      <td>0.0</td>\n",
       "      <td>1.028820e-02</td>\n",
       "      <td>2.384</td>\n",
       "      <td>1727.0</td>\n",
       "      <td>50.0</td>\n",
       "      <td>1.0</td>\n",
       "      <td>1.0</td>\n",
       "      <td>0.0</td>\n",
       "    </tr>\n",
       "    <tr>\n",
       "      <th>HM_2NZ9</th>\n",
       "      <td>HM_2NZ9.mut.623_Repair.clean.pdb</td>\n",
       "      <td>-0.6230</td>\n",
       "      <td>-3.4769</td>\n",
       "      <td>1.38530</td>\n",
       "      <td>0.23165</td>\n",
       "      <td>6.01820</td>\n",
       "      <td>1.59060</td>\n",
       "      <td>-0.517060</td>\n",
       "      <td>-4.01900</td>\n",
       "      <td>1.5152</td>\n",
       "      <td>...</td>\n",
       "      <td>-1.776360e-15</td>\n",
       "      <td>-0.373984</td>\n",
       "      <td>0.0</td>\n",
       "      <td>1.028820e-02</td>\n",
       "      <td>2.384</td>\n",
       "      <td>1727.0</td>\n",
       "      <td>50.0</td>\n",
       "      <td>1.0</td>\n",
       "      <td>1.0</td>\n",
       "      <td>0.0</td>\n",
       "    </tr>\n",
       "    <tr>\n",
       "      <th>HM_2NZ9</th>\n",
       "      <td>HM_2NZ9.mut.624_Repair.clean.pdb</td>\n",
       "      <td>-0.2460</td>\n",
       "      <td>-0.4157</td>\n",
       "      <td>1.31450</td>\n",
       "      <td>-0.02181</td>\n",
       "      <td>-0.06960</td>\n",
       "      <td>0.97150</td>\n",
       "      <td>-0.099740</td>\n",
       "      <td>-0.66120</td>\n",
       "      <td>1.5561</td>\n",
       "      <td>...</td>\n",
       "      <td>-1.776360e-15</td>\n",
       "      <td>-0.373984</td>\n",
       "      <td>0.0</td>\n",
       "      <td>1.028820e-02</td>\n",
       "      <td>2.384</td>\n",
       "      <td>1727.0</td>\n",
       "      <td>50.0</td>\n",
       "      <td>1.0</td>\n",
       "      <td>1.0</td>\n",
       "      <td>0.0</td>\n",
       "    </tr>\n",
       "    <tr>\n",
       "      <th>HM_2NZ9</th>\n",
       "      <td>HM_2NZ9.mut.625_Repair.clean.pdb</td>\n",
       "      <td>-1.9640</td>\n",
       "      <td>0.6691</td>\n",
       "      <td>0.32430</td>\n",
       "      <td>-0.29988</td>\n",
       "      <td>2.64820</td>\n",
       "      <td>0.53060</td>\n",
       "      <td>-0.334340</td>\n",
       "      <td>-1.02000</td>\n",
       "      <td>0.7976</td>\n",
       "      <td>...</td>\n",
       "      <td>-1.776360e-15</td>\n",
       "      <td>-0.373984</td>\n",
       "      <td>0.0</td>\n",
       "      <td>1.028820e-02</td>\n",
       "      <td>2.384</td>\n",
       "      <td>1727.0</td>\n",
       "      <td>50.0</td>\n",
       "      <td>1.0</td>\n",
       "      <td>1.0</td>\n",
       "      <td>0.0</td>\n",
       "    </tr>\n",
       "    <tr>\n",
       "      <th>HM_2NZ9</th>\n",
       "      <td>HM_2NZ9.mut.626_Repair.clean.pdb</td>\n",
       "      <td>-3.1140</td>\n",
       "      <td>1.2579</td>\n",
       "      <td>0.37890</td>\n",
       "      <td>-0.15633</td>\n",
       "      <td>0.30000</td>\n",
       "      <td>0.06660</td>\n",
       "      <td>0.372460</td>\n",
       "      <td>-0.15490</td>\n",
       "      <td>0.0936</td>\n",
       "      <td>...</td>\n",
       "      <td>-1.776360e-15</td>\n",
       "      <td>-0.373984</td>\n",
       "      <td>0.0</td>\n",
       "      <td>1.028820e-02</td>\n",
       "      <td>2.384</td>\n",
       "      <td>1727.0</td>\n",
       "      <td>50.0</td>\n",
       "      <td>1.0</td>\n",
       "      <td>1.0</td>\n",
       "      <td>0.0</td>\n",
       "    </tr>\n",
       "    <tr>\n",
       "      <th>HM_2NZ9</th>\n",
       "      <td>HM_2NZ9.mut.627_Repair.clean.pdb</td>\n",
       "      <td>-1.3470</td>\n",
       "      <td>-1.1027</td>\n",
       "      <td>-0.19770</td>\n",
       "      <td>-0.12463</td>\n",
       "      <td>-0.26710</td>\n",
       "      <td>-0.07720</td>\n",
       "      <td>-0.209940</td>\n",
       "      <td>0.44170</td>\n",
       "      <td>0.0144</td>\n",
       "      <td>...</td>\n",
       "      <td>-1.776360e-15</td>\n",
       "      <td>-0.373984</td>\n",
       "      <td>0.0</td>\n",
       "      <td>1.028820e-02</td>\n",
       "      <td>2.384</td>\n",
       "      <td>1727.0</td>\n",
       "      <td>50.0</td>\n",
       "      <td>1.0</td>\n",
       "      <td>1.0</td>\n",
       "      <td>0.0</td>\n",
       "    </tr>\n",
       "    <tr>\n",
       "      <th>HM_2NZ9</th>\n",
       "      <td>HM_2NZ9.mut.628_Repair.clean.pdb</td>\n",
       "      <td>-2.4130</td>\n",
       "      <td>-0.2273</td>\n",
       "      <td>0.15700</td>\n",
       "      <td>-1.64609</td>\n",
       "      <td>-1.45000</td>\n",
       "      <td>0.19680</td>\n",
       "      <td>-0.609760</td>\n",
       "      <td>1.09530</td>\n",
       "      <td>1.5298</td>\n",
       "      <td>...</td>\n",
       "      <td>-1.776360e-15</td>\n",
       "      <td>-0.373984</td>\n",
       "      <td>0.0</td>\n",
       "      <td>1.028820e-02</td>\n",
       "      <td>2.384</td>\n",
       "      <td>1727.0</td>\n",
       "      <td>50.0</td>\n",
       "      <td>1.0</td>\n",
       "      <td>1.0</td>\n",
       "      <td>0.0</td>\n",
       "    </tr>\n",
       "    <tr>\n",
       "      <th>HM_2NZ9</th>\n",
       "      <td>HM_2NZ9.mut.629_Repair.clean.pdb</td>\n",
       "      <td>-2.6670</td>\n",
       "      <td>-1.0775</td>\n",
       "      <td>1.69130</td>\n",
       "      <td>0.59406</td>\n",
       "      <td>0.67840</td>\n",
       "      <td>0.32380</td>\n",
       "      <td>-0.073650</td>\n",
       "      <td>-0.29910</td>\n",
       "      <td>0.3477</td>\n",
       "      <td>...</td>\n",
       "      <td>-1.776360e-15</td>\n",
       "      <td>-0.373984</td>\n",
       "      <td>0.0</td>\n",
       "      <td>1.028820e-02</td>\n",
       "      <td>2.384</td>\n",
       "      <td>1727.0</td>\n",
       "      <td>50.0</td>\n",
       "      <td>1.0</td>\n",
       "      <td>1.0</td>\n",
       "      <td>0.0</td>\n",
       "    </tr>\n",
       "    <tr>\n",
       "      <th>HM_2NZ9</th>\n",
       "      <td>HM_2NZ9.mut.630_Repair.clean.pdb</td>\n",
       "      <td>1.8840</td>\n",
       "      <td>1.5282</td>\n",
       "      <td>-0.39370</td>\n",
       "      <td>-0.22201</td>\n",
       "      <td>-1.54640</td>\n",
       "      <td>-0.15390</td>\n",
       "      <td>-0.157540</td>\n",
       "      <td>0.01270</td>\n",
       "      <td>-0.1186</td>\n",
       "      <td>...</td>\n",
       "      <td>-1.776360e-15</td>\n",
       "      <td>-0.373984</td>\n",
       "      <td>0.0</td>\n",
       "      <td>1.028820e-02</td>\n",
       "      <td>2.384</td>\n",
       "      <td>1727.0</td>\n",
       "      <td>50.0</td>\n",
       "      <td>1.0</td>\n",
       "      <td>1.0</td>\n",
       "      <td>0.0</td>\n",
       "    </tr>\n",
       "    <tr>\n",
       "      <th>HM_2NZ9</th>\n",
       "      <td>HM_2NZ9.mut.631_Repair.clean.pdb</td>\n",
       "      <td>-0.4300</td>\n",
       "      <td>2.0046</td>\n",
       "      <td>1.87140</td>\n",
       "      <td>0.02028</td>\n",
       "      <td>-0.17320</td>\n",
       "      <td>0.24220</td>\n",
       "      <td>-0.508370</td>\n",
       "      <td>-0.16330</td>\n",
       "      <td>0.5856</td>\n",
       "      <td>...</td>\n",
       "      <td>-1.776360e-15</td>\n",
       "      <td>-0.373984</td>\n",
       "      <td>0.0</td>\n",
       "      <td>1.028820e-02</td>\n",
       "      <td>2.384</td>\n",
       "      <td>1727.0</td>\n",
       "      <td>50.0</td>\n",
       "      <td>1.0</td>\n",
       "      <td>1.0</td>\n",
       "      <td>0.0</td>\n",
       "    </tr>\n",
       "    <tr>\n",
       "      <th>HM_2NZ9</th>\n",
       "      <td>HM_2NZ9.mut.632_Repair.clean.pdb</td>\n",
       "      <td>-0.1120</td>\n",
       "      <td>-0.1585</td>\n",
       "      <td>0.70290</td>\n",
       "      <td>0.59885</td>\n",
       "      <td>0.37500</td>\n",
       "      <td>0.33340</td>\n",
       "      <td>-0.020770</td>\n",
       "      <td>-0.64460</td>\n",
       "      <td>0.0108</td>\n",
       "      <td>...</td>\n",
       "      <td>-1.776360e-15</td>\n",
       "      <td>-0.373984</td>\n",
       "      <td>0.0</td>\n",
       "      <td>1.028820e-02</td>\n",
       "      <td>2.384</td>\n",
       "      <td>1727.0</td>\n",
       "      <td>50.0</td>\n",
       "      <td>1.0</td>\n",
       "      <td>1.0</td>\n",
       "      <td>0.0</td>\n",
       "    </tr>\n",
       "    <tr>\n",
       "      <th>HM_2NZ9</th>\n",
       "      <td>HM_2NZ9.mut.633_Repair.clean.pdb</td>\n",
       "      <td>2.6990</td>\n",
       "      <td>2.2325</td>\n",
       "      <td>-1.45750</td>\n",
       "      <td>-0.00790</td>\n",
       "      <td>3.21920</td>\n",
       "      <td>2.75310</td>\n",
       "      <td>1.815056</td>\n",
       "      <td>-5.25780</td>\n",
       "      <td>2.1516</td>\n",
       "      <td>...</td>\n",
       "      <td>-1.776360e-15</td>\n",
       "      <td>-0.373984</td>\n",
       "      <td>0.0</td>\n",
       "      <td>1.028820e-02</td>\n",
       "      <td>2.384</td>\n",
       "      <td>1727.0</td>\n",
       "      <td>50.0</td>\n",
       "      <td>1.0</td>\n",
       "      <td>1.0</td>\n",
       "      <td>0.0</td>\n",
       "    </tr>\n",
       "    <tr>\n",
       "      <th>HM_2NZ9</th>\n",
       "      <td>HM_2NZ9.mut.634_Repair.clean.pdb</td>\n",
       "      <td>-2.9720</td>\n",
       "      <td>1.8557</td>\n",
       "      <td>-4.89990</td>\n",
       "      <td>-1.68516</td>\n",
       "      <td>-0.36450</td>\n",
       "      <td>0.16360</td>\n",
       "      <td>0.367710</td>\n",
       "      <td>-1.20490</td>\n",
       "      <td>-0.0408</td>\n",
       "      <td>...</td>\n",
       "      <td>-1.776360e-15</td>\n",
       "      <td>-0.373984</td>\n",
       "      <td>0.0</td>\n",
       "      <td>1.028820e-02</td>\n",
       "      <td>2.384</td>\n",
       "      <td>1727.0</td>\n",
       "      <td>50.0</td>\n",
       "      <td>1.0</td>\n",
       "      <td>1.0</td>\n",
       "      <td>0.0</td>\n",
       "    </tr>\n",
       "    <tr>\n",
       "      <th>HM_2NZ9</th>\n",
       "      <td>HM_2NZ9.mut.635_Repair.clean.pdb</td>\n",
       "      <td>-1.9400</td>\n",
       "      <td>0.1104</td>\n",
       "      <td>1.37620</td>\n",
       "      <td>-0.17971</td>\n",
       "      <td>1.12550</td>\n",
       "      <td>-0.16330</td>\n",
       "      <td>-0.360270</td>\n",
       "      <td>0.78500</td>\n",
       "      <td>-0.3531</td>\n",
       "      <td>...</td>\n",
       "      <td>-1.776360e-15</td>\n",
       "      <td>-0.373984</td>\n",
       "      <td>0.0</td>\n",
       "      <td>1.028820e-02</td>\n",
       "      <td>2.384</td>\n",
       "      <td>1727.0</td>\n",
       "      <td>50.0</td>\n",
       "      <td>1.0</td>\n",
       "      <td>1.0</td>\n",
       "      <td>0.0</td>\n",
       "    </tr>\n",
       "    <tr>\n",
       "      <th>HM_2NZ9</th>\n",
       "      <td>HM_2NZ9.mut.636_Repair.clean.pdb</td>\n",
       "      <td>-0.9740</td>\n",
       "      <td>1.0719</td>\n",
       "      <td>0.27940</td>\n",
       "      <td>-0.24506</td>\n",
       "      <td>-0.27430</td>\n",
       "      <td>-0.08440</td>\n",
       "      <td>-0.069950</td>\n",
       "      <td>0.26340</td>\n",
       "      <td>-0.0576</td>\n",
       "      <td>...</td>\n",
       "      <td>-1.776360e-15</td>\n",
       "      <td>-0.373984</td>\n",
       "      <td>0.0</td>\n",
       "      <td>1.028820e-02</td>\n",
       "      <td>2.384</td>\n",
       "      <td>1727.0</td>\n",
       "      <td>50.0</td>\n",
       "      <td>1.0</td>\n",
       "      <td>1.0</td>\n",
       "      <td>0.0</td>\n",
       "    </tr>\n",
       "    <tr>\n",
       "      <th>HM_3BN9</th>\n",
       "      <td>HM_3BN9.mut.637_Repair.clean.pdb</td>\n",
       "      <td>-0.0419</td>\n",
       "      <td>-5.2792</td>\n",
       "      <td>0.85640</td>\n",
       "      <td>-0.00021</td>\n",
       "      <td>1.57510</td>\n",
       "      <td>0.30530</td>\n",
       "      <td>0.111500</td>\n",
       "      <td>-0.31410</td>\n",
       "      <td>0.3773</td>\n",
       "      <td>...</td>\n",
       "      <td>-3.552710e-15</td>\n",
       "      <td>-1.078560</td>\n",
       "      <td>0.0</td>\n",
       "      <td>6.382330e-03</td>\n",
       "      <td>2.384</td>\n",
       "      <td>681.0</td>\n",
       "      <td>54.0</td>\n",
       "      <td>0.0</td>\n",
       "      <td>0.0</td>\n",
       "      <td>0.0</td>\n",
       "    </tr>\n",
       "    <tr>\n",
       "      <th>HM_3BN9</th>\n",
       "      <td>HM_3BN9.mut.638_Repair.clean.pdb</td>\n",
       "      <td>-0.1480</td>\n",
       "      <td>-2.6324</td>\n",
       "      <td>0.44110</td>\n",
       "      <td>1.23806</td>\n",
       "      <td>3.09190</td>\n",
       "      <td>0.63340</td>\n",
       "      <td>0.063680</td>\n",
       "      <td>-2.03250</td>\n",
       "      <td>-0.0553</td>\n",
       "      <td>...</td>\n",
       "      <td>-3.552710e-15</td>\n",
       "      <td>-1.078560</td>\n",
       "      <td>0.0</td>\n",
       "      <td>6.382330e-03</td>\n",
       "      <td>2.384</td>\n",
       "      <td>681.0</td>\n",
       "      <td>54.0</td>\n",
       "      <td>0.0</td>\n",
       "      <td>0.0</td>\n",
       "      <td>0.0</td>\n",
       "    </tr>\n",
       "    <tr>\n",
       "      <th>HM_3BN9</th>\n",
       "      <td>HM_3BN9.mut.639_Repair.clean.pdb</td>\n",
       "      <td>0.0879</td>\n",
       "      <td>-0.0316</td>\n",
       "      <td>1.38440</td>\n",
       "      <td>0.47257</td>\n",
       "      <td>1.90770</td>\n",
       "      <td>0.41510</td>\n",
       "      <td>0.073710</td>\n",
       "      <td>-0.89350</td>\n",
       "      <td>0.2774</td>\n",
       "      <td>...</td>\n",
       "      <td>-3.552710e-15</td>\n",
       "      <td>-1.078560</td>\n",
       "      <td>0.0</td>\n",
       "      <td>6.382330e-03</td>\n",
       "      <td>2.384</td>\n",
       "      <td>681.0</td>\n",
       "      <td>54.0</td>\n",
       "      <td>0.0</td>\n",
       "      <td>0.0</td>\n",
       "      <td>0.0</td>\n",
       "    </tr>\n",
       "    <tr>\n",
       "      <th>HM_3BN9</th>\n",
       "      <td>HM_3BN9.mut.640_Repair.clean.pdb</td>\n",
       "      <td>1.0514</td>\n",
       "      <td>-0.2860</td>\n",
       "      <td>0.97800</td>\n",
       "      <td>0.01447</td>\n",
       "      <td>1.35500</td>\n",
       "      <td>-0.34120</td>\n",
       "      <td>0.008720</td>\n",
       "      <td>0.88520</td>\n",
       "      <td>-0.2993</td>\n",
       "      <td>...</td>\n",
       "      <td>-3.552710e-15</td>\n",
       "      <td>-1.078560</td>\n",
       "      <td>0.0</td>\n",
       "      <td>6.382330e-03</td>\n",
       "      <td>2.384</td>\n",
       "      <td>681.0</td>\n",
       "      <td>54.0</td>\n",
       "      <td>0.0</td>\n",
       "      <td>0.0</td>\n",
       "      <td>0.0</td>\n",
       "    </tr>\n",
       "    <tr>\n",
       "      <th>HM_3BN9</th>\n",
       "      <td>HM_3BN9.mut.641_Repair.clean.pdb</td>\n",
       "      <td>0.0110</td>\n",
       "      <td>-4.3353</td>\n",
       "      <td>0.80670</td>\n",
       "      <td>-0.00559</td>\n",
       "      <td>3.04170</td>\n",
       "      <td>0.28240</td>\n",
       "      <td>0.008650</td>\n",
       "      <td>-0.56220</td>\n",
       "      <td>0.3290</td>\n",
       "      <td>...</td>\n",
       "      <td>-3.552710e-15</td>\n",
       "      <td>-1.078560</td>\n",
       "      <td>0.0</td>\n",
       "      <td>6.382330e-03</td>\n",
       "      <td>2.384</td>\n",
       "      <td>681.0</td>\n",
       "      <td>54.0</td>\n",
       "      <td>0.0</td>\n",
       "      <td>0.0</td>\n",
       "      <td>0.0</td>\n",
       "    </tr>\n",
       "    <tr>\n",
       "      <th>HM_3BN9</th>\n",
       "      <td>HM_3BN9.mut.642_Repair.clean.pdb</td>\n",
       "      <td>-0.0084</td>\n",
       "      <td>-6.3485</td>\n",
       "      <td>0.50920</td>\n",
       "      <td>0.00097</td>\n",
       "      <td>1.56930</td>\n",
       "      <td>0.06610</td>\n",
       "      <td>0.169770</td>\n",
       "      <td>-0.15470</td>\n",
       "      <td>0.0342</td>\n",
       "      <td>...</td>\n",
       "      <td>-3.552710e-15</td>\n",
       "      <td>-1.078560</td>\n",
       "      <td>0.0</td>\n",
       "      <td>6.382330e-03</td>\n",
       "      <td>2.384</td>\n",
       "      <td>681.0</td>\n",
       "      <td>54.0</td>\n",
       "      <td>0.0</td>\n",
       "      <td>0.0</td>\n",
       "      <td>0.0</td>\n",
       "    </tr>\n",
       "    <tr>\n",
       "      <th>HM_3BN9</th>\n",
       "      <td>HM_3BN9.mut.643_Repair.clean.pdb</td>\n",
       "      <td>0.0421</td>\n",
       "      <td>-6.3742</td>\n",
       "      <td>0.60460</td>\n",
       "      <td>0.00016</td>\n",
       "      <td>1.26810</td>\n",
       "      <td>0.09070</td>\n",
       "      <td>0.002000</td>\n",
       "      <td>-0.23970</td>\n",
       "      <td>0.0625</td>\n",
       "      <td>...</td>\n",
       "      <td>-3.552710e-15</td>\n",
       "      <td>-1.078560</td>\n",
       "      <td>0.0</td>\n",
       "      <td>6.382330e-03</td>\n",
       "      <td>2.384</td>\n",
       "      <td>681.0</td>\n",
       "      <td>54.0</td>\n",
       "      <td>0.0</td>\n",
       "      <td>0.0</td>\n",
       "      <td>0.0</td>\n",
       "    </tr>\n",
       "    <tr>\n",
       "      <th>HM_3BN9</th>\n",
       "      <td>HM_3BN9.mut.644_Repair.clean.pdb</td>\n",
       "      <td>-0.0377</td>\n",
       "      <td>-6.7222</td>\n",
       "      <td>1.65640</td>\n",
       "      <td>-0.00052</td>\n",
       "      <td>-0.02070</td>\n",
       "      <td>1.04020</td>\n",
       "      <td>0.288670</td>\n",
       "      <td>-0.53870</td>\n",
       "      <td>1.7487</td>\n",
       "      <td>...</td>\n",
       "      <td>-3.552710e-15</td>\n",
       "      <td>-1.078560</td>\n",
       "      <td>0.0</td>\n",
       "      <td>6.382330e-03</td>\n",
       "      <td>2.384</td>\n",
       "      <td>681.0</td>\n",
       "      <td>54.0</td>\n",
       "      <td>0.0</td>\n",
       "      <td>0.0</td>\n",
       "      <td>0.0</td>\n",
       "    </tr>\n",
       "  </tbody>\n",
       "</table>\n",
       "<p>645 rows × 60 columns</p>\n",
       "</div>"
      ],
      "text/plain": [
       "                                  index_x  intraclashes_energy_1_change  \\\n",
       "codes                                                                     \n",
       "1AK4          1AK4.mut.0_Repair.clean.pdb                        0.0193   \n",
       "1AK4          1AK4.mut.1_Repair.clean.pdb                       -0.5220   \n",
       "1AK4          1AK4.mut.2_Repair.clean.pdb                        0.0001   \n",
       "1AK4          1AK4.mut.3_Repair.clean.pdb                        0.1572   \n",
       "1AK4          1AK4.mut.4_Repair.clean.pdb                       -0.0359   \n",
       "1AK4          1AK4.mut.5_Repair.clean.pdb                       -0.0032   \n",
       "1AK4          1AK4.mut.6_Repair.clean.pdb                       -0.7722   \n",
       "1AK4          1AK4.mut.7_Repair.clean.pdb                       -0.7674   \n",
       "1AK4          1AK4.mut.8_Repair.clean.pdb                       -0.7976   \n",
       "1AK4          1AK4.mut.9_Repair.clean.pdb                        0.0058   \n",
       "1AK4         1AK4.mut.10_Repair.clean.pdb                        0.0002   \n",
       "1AK4         1AK4.mut.11_Repair.clean.pdb                        0.0051   \n",
       "1AK4         1AK4.mut.12_Repair.clean.pdb                        0.0110   \n",
       "1AK4         1AK4.mut.13_Repair.clean.pdb                        0.3746   \n",
       "1AK4         1AK4.mut.14_Repair.clean.pdb                        0.0456   \n",
       "1AK4         1AK4.mut.15_Repair.clean.pdb                        0.0193   \n",
       "1BJ1         1BJ1.mut.16_Repair.clean.pdb                       -0.4588   \n",
       "1BJ1         1BJ1.mut.17_Repair.clean.pdb                       -0.0337   \n",
       "1BJ1         1BJ1.mut.18_Repair.clean.pdb                       -0.0539   \n",
       "1BJ1         1BJ1.mut.19_Repair.clean.pdb                        0.0846   \n",
       "1BJ1         1BJ1.mut.20_Repair.clean.pdb                       -0.1592   \n",
       "1BJ1         1BJ1.mut.21_Repair.clean.pdb                       -0.0466   \n",
       "1BJ1         1BJ1.mut.22_Repair.clean.pdb                       -0.0562   \n",
       "1BJ1         1BJ1.mut.23_Repair.clean.pdb                       -0.0399   \n",
       "1BJ1         1BJ1.mut.24_Repair.clean.pdb                       -0.0168   \n",
       "1BJ1         1BJ1.mut.25_Repair.clean.pdb                       -0.5809   \n",
       "1BJ1         1BJ1.mut.26_Repair.clean.pdb                       -0.3509   \n",
       "1BJ1         1BJ1.mut.27_Repair.clean.pdb                       -0.0509   \n",
       "1BJ1         1BJ1.mut.28_Repair.clean.pdb                       -0.1893   \n",
       "1BJ1         1BJ1.mut.29_Repair.clean.pdb                       -0.0337   \n",
       "...                                   ...                           ...   \n",
       "HM_2NYY  HM_2NYY.mut.615_Repair.clean.pdb                       24.4140   \n",
       "HM_2NYY  HM_2NYY.mut.616_Repair.clean.pdb                        0.5350   \n",
       "HM_2NYY  HM_2NYY.mut.617_Repair.clean.pdb                        2.6870   \n",
       "HM_2NYY  HM_2NYY.mut.618_Repair.clean.pdb                        0.0190   \n",
       "HM_2NYY  HM_2NYY.mut.619_Repair.clean.pdb                        3.5920   \n",
       "HM_2NYY  HM_2NYY.mut.620_Repair.clean.pdb                       10.6230   \n",
       "HM_2NZ9  HM_2NZ9.mut.621_Repair.clean.pdb                        0.0470   \n",
       "HM_2NZ9  HM_2NZ9.mut.622_Repair.clean.pdb                       -0.0700   \n",
       "HM_2NZ9  HM_2NZ9.mut.623_Repair.clean.pdb                       -0.6230   \n",
       "HM_2NZ9  HM_2NZ9.mut.624_Repair.clean.pdb                       -0.2460   \n",
       "HM_2NZ9  HM_2NZ9.mut.625_Repair.clean.pdb                       -1.9640   \n",
       "HM_2NZ9  HM_2NZ9.mut.626_Repair.clean.pdb                       -3.1140   \n",
       "HM_2NZ9  HM_2NZ9.mut.627_Repair.clean.pdb                       -1.3470   \n",
       "HM_2NZ9  HM_2NZ9.mut.628_Repair.clean.pdb                       -2.4130   \n",
       "HM_2NZ9  HM_2NZ9.mut.629_Repair.clean.pdb                       -2.6670   \n",
       "HM_2NZ9  HM_2NZ9.mut.630_Repair.clean.pdb                        1.8840   \n",
       "HM_2NZ9  HM_2NZ9.mut.631_Repair.clean.pdb                       -0.4300   \n",
       "HM_2NZ9  HM_2NZ9.mut.632_Repair.clean.pdb                       -0.1120   \n",
       "HM_2NZ9  HM_2NZ9.mut.633_Repair.clean.pdb                        2.6990   \n",
       "HM_2NZ9  HM_2NZ9.mut.634_Repair.clean.pdb                       -2.9720   \n",
       "HM_2NZ9  HM_2NZ9.mut.635_Repair.clean.pdb                       -1.9400   \n",
       "HM_2NZ9  HM_2NZ9.mut.636_Repair.clean.pdb                       -0.9740   \n",
       "HM_3BN9  HM_3BN9.mut.637_Repair.clean.pdb                       -0.0419   \n",
       "HM_3BN9  HM_3BN9.mut.638_Repair.clean.pdb                       -0.1480   \n",
       "HM_3BN9  HM_3BN9.mut.639_Repair.clean.pdb                        0.0879   \n",
       "HM_3BN9  HM_3BN9.mut.640_Repair.clean.pdb                        1.0514   \n",
       "HM_3BN9  HM_3BN9.mut.641_Repair.clean.pdb                        0.0110   \n",
       "HM_3BN9  HM_3BN9.mut.642_Repair.clean.pdb                       -0.0084   \n",
       "HM_3BN9  HM_3BN9.mut.643_Repair.clean.pdb                        0.0421   \n",
       "HM_3BN9  HM_3BN9.mut.644_Repair.clean.pdb                       -0.0377   \n",
       "\n",
       "         intraclashes_energy_2_change  dg_change  backbone_hbond_change  \\\n",
       "codes                                                                     \n",
       "1AK4                           0.5289   -0.20980               -0.76375   \n",
       "1AK4                          -0.4267    0.46860               -0.08139   \n",
       "1AK4                           0.5379    0.89199                0.00000   \n",
       "1AK4                           0.8809   -0.31530                0.10004   \n",
       "1AK4                           1.9644   -0.49220                0.06054   \n",
       "1AK4                           1.4557   -1.91970               -0.88607   \n",
       "1AK4                           0.5944    0.40670                0.51328   \n",
       "1AK4                           0.3209   -0.23320               -0.15660   \n",
       "1AK4                           0.0057   -0.55120               -1.05625   \n",
       "1AK4                           0.5850    0.22410                0.02883   \n",
       "1AK4                           0.5959    0.06070                0.00482   \n",
       "1AK4                           0.6132   -1.54600               -0.84320   \n",
       "1AK4                           0.6533    2.19129               -0.28503   \n",
       "1AK4                           0.7911    3.17031               -0.32013   \n",
       "1AK4                           0.0203    1.34278                0.01544   \n",
       "1AK4                           0.4110   -1.21270               -0.88622   \n",
       "1BJ1                          -0.0914    0.75330                0.03360   \n",
       "1BJ1                          -1.1895   -0.20240               -0.09025   \n",
       "1BJ1                          -0.8996   -0.06340                0.04341   \n",
       "1BJ1                           2.3333    3.55780                0.01704   \n",
       "1BJ1                           2.0726    8.22620                1.12750   \n",
       "1BJ1                          -1.2120    1.48920                0.02152   \n",
       "1BJ1                          -0.4116    2.70490                2.37423   \n",
       "1BJ1                          -0.1010    0.17840               -0.07694   \n",
       "1BJ1                          -0.2867    0.65410               -0.02808   \n",
       "1BJ1                          -0.9732    0.48720               -0.15858   \n",
       "1BJ1                          -0.2208    0.09790               -0.13790   \n",
       "1BJ1                          -0.0640   -0.44510               -0.03988   \n",
       "1BJ1                          -0.2789    0.64480               -0.09287   \n",
       "1BJ1                          -0.1937    0.45120                0.08270   \n",
       "...                               ...        ...                    ...   \n",
       "HM_2NYY                       -0.8737   -1.66950               -0.72071   \n",
       "HM_2NYY                        0.1094   -0.02500               -0.29993   \n",
       "HM_2NYY                       -1.7982   -1.31680               -1.50655   \n",
       "HM_2NYY                       -0.3487   -1.48990               -0.75398   \n",
       "HM_2NYY                        1.0330   -0.29020                0.02750   \n",
       "HM_2NYY                        1.7240   -2.53430               -2.90564   \n",
       "HM_2NZ9                       -0.3629   -1.97410               -0.03084   \n",
       "HM_2NZ9                        0.9537   -4.37890               -1.86946   \n",
       "HM_2NZ9                       -3.4769    1.38530                0.23165   \n",
       "HM_2NZ9                       -0.4157    1.31450               -0.02181   \n",
       "HM_2NZ9                        0.6691    0.32430               -0.29988   \n",
       "HM_2NZ9                        1.2579    0.37890               -0.15633   \n",
       "HM_2NZ9                       -1.1027   -0.19770               -0.12463   \n",
       "HM_2NZ9                       -0.2273    0.15700               -1.64609   \n",
       "HM_2NZ9                       -1.0775    1.69130                0.59406   \n",
       "HM_2NZ9                        1.5282   -0.39370               -0.22201   \n",
       "HM_2NZ9                        2.0046    1.87140                0.02028   \n",
       "HM_2NZ9                       -0.1585    0.70290                0.59885   \n",
       "HM_2NZ9                        2.2325   -1.45750               -0.00790   \n",
       "HM_2NZ9                        1.8557   -4.89990               -1.68516   \n",
       "HM_2NZ9                        0.1104    1.37620               -0.17971   \n",
       "HM_2NZ9                        1.0719    0.27940               -0.24506   \n",
       "HM_3BN9                       -5.2792    0.85640               -0.00021   \n",
       "HM_3BN9                       -2.6324    0.44110                1.23806   \n",
       "HM_3BN9                       -0.0316    1.38440                0.47257   \n",
       "HM_3BN9                       -0.2860    0.97800                0.01447   \n",
       "HM_3BN9                       -4.3353    0.80670               -0.00559   \n",
       "HM_3BN9                       -6.3485    0.50920                0.00097   \n",
       "HM_3BN9                       -6.3742    0.60460                0.00016   \n",
       "HM_3BN9                       -6.7222    1.65640               -0.00052   \n",
       "\n",
       "         sidechain_hbond_change  van_der_waals_change  electrostatics_change  \\\n",
       "codes                                                                          \n",
       "1AK4                   -0.75498               0.27807               0.020227   \n",
       "1AK4                   -0.00885              -1.08933               0.077503   \n",
       "1AK4                    0.00000               0.26879               0.028546   \n",
       "1AK4                    0.13391              -0.49034               0.034455   \n",
       "1AK4                    0.00815              -0.25590               0.043309   \n",
       "1AK4                   -0.96859              -0.89736               0.014497   \n",
       "1AK4                    0.42397               0.60805               0.036729   \n",
       "1AK4                   -0.20282               0.19283               0.089985   \n",
       "1AK4                   -1.15463              -0.12916               0.109411   \n",
       "1AK4                    0.02787               0.09027               0.008072   \n",
       "1AK4                    0.00386              -0.00691               0.009699   \n",
       "1AK4                   -0.86469              -0.43384               0.033540   \n",
       "1AK4                   -0.22156               0.35610               0.030777   \n",
       "1AK4                   -0.26152              -0.44650               0.000492   \n",
       "1AK4                    0.01545               0.35825               0.000423   \n",
       "1AK4                   -0.88959              -0.05406               0.045683   \n",
       "1BJ1                    0.02351               0.14820              -0.004485   \n",
       "1BJ1                   -0.02843               0.26350              -0.003274   \n",
       "1BJ1                   -0.04987               0.33710               0.178305   \n",
       "1BJ1                    0.19247              -0.15760               0.030096   \n",
       "1BJ1                    2.54452               0.07380              -0.310982   \n",
       "1BJ1                    1.75388               0.28470               0.033724   \n",
       "1BJ1                    3.51022               1.47960              -0.756313   \n",
       "1BJ1                   -0.05167               0.03120              -0.015862   \n",
       "1BJ1                    0.03038               0.01900               0.003387   \n",
       "1BJ1                   -0.05595               0.47590              -0.003408   \n",
       "1BJ1                    0.18967               0.39660              -0.030657   \n",
       "1BJ1                    0.20615               0.71080              -0.018094   \n",
       "1BJ1                    1.15792               0.56770               0.037193   \n",
       "1BJ1                    0.01751               0.10870               0.048775   \n",
       "...                         ...                   ...                    ...   \n",
       "HM_2NYY                -2.04580              -0.44500              -0.078460   \n",
       "HM_2NYY                -0.50230               0.53610               0.666880   \n",
       "HM_2NYY                 0.02420              -0.79320              -0.306880   \n",
       "HM_2NYY                -0.11250               0.70410              -0.068840   \n",
       "HM_2NYY                -1.03740               0.24950              -0.016460   \n",
       "HM_2NYY                -0.45900              -1.72120              -1.493820   \n",
       "HM_2NZ9                 1.07860               1.12510               1.081905   \n",
       "HM_2NZ9                 1.75280               0.03040              -1.037400   \n",
       "HM_2NZ9                 6.01820               1.59060              -0.517060   \n",
       "HM_2NZ9                -0.06960               0.97150              -0.099740   \n",
       "HM_2NZ9                 2.64820               0.53060              -0.334340   \n",
       "HM_2NZ9                 0.30000               0.06660               0.372460   \n",
       "HM_2NZ9                -0.26710              -0.07720              -0.209940   \n",
       "HM_2NZ9                -1.45000               0.19680              -0.609760   \n",
       "HM_2NZ9                 0.67840               0.32380              -0.073650   \n",
       "HM_2NZ9                -1.54640              -0.15390              -0.157540   \n",
       "HM_2NZ9                -0.17320               0.24220              -0.508370   \n",
       "HM_2NZ9                 0.37500               0.33340              -0.020770   \n",
       "HM_2NZ9                 3.21920               2.75310               1.815056   \n",
       "HM_2NZ9                -0.36450               0.16360               0.367710   \n",
       "HM_2NZ9                 1.12550              -0.16330              -0.360270   \n",
       "HM_2NZ9                -0.27430              -0.08440              -0.069950   \n",
       "HM_3BN9                 1.57510               0.30530               0.111500   \n",
       "HM_3BN9                 3.09190               0.63340               0.063680   \n",
       "HM_3BN9                 1.90770               0.41510               0.073710   \n",
       "HM_3BN9                 1.35500              -0.34120               0.008720   \n",
       "HM_3BN9                 3.04170               0.28240               0.008650   \n",
       "HM_3BN9                 1.56930               0.06610               0.169770   \n",
       "HM_3BN9                 1.26810               0.09070               0.002000   \n",
       "HM_3BN9                -0.02070               1.04020               0.288670   \n",
       "\n",
       "         solvation_polar_change  solvation_hydrophobic_change  \\\n",
       "codes                                                           \n",
       "1AK4                   -0.04380                        0.6526   \n",
       "1AK4                    1.00890                       -1.7812   \n",
       "1AK4                   -0.05080                        0.5681   \n",
       "1AK4                    0.10690                       -1.0400   \n",
       "1AK4                    0.18120                       -0.3107   \n",
       "1AK4                    1.06720                       -0.9940   \n",
       "1AK4                   -0.77534                        0.7029   \n",
       "1AK4                   -0.30600                        0.2096   \n",
       "1AK4                    0.42350                        0.0192   \n",
       "1AK4                   -0.12030                        0.0769   \n",
       "1AK4                    0.02370                       -0.0162   \n",
       "1AK4                    0.58870                       -0.4919   \n",
       "1AK4                    0.71920                        0.9178   \n",
       "1AK4                    0.90260                       -0.6943   \n",
       "1AK4                    0.23640                        0.7605   \n",
       "1AK4                    0.26700                        0.1340   \n",
       "1BJ1                   -0.18540                        0.1208   \n",
       "1BJ1                   -0.50320                        0.2071   \n",
       "1BJ1                   -0.77120                        0.3286   \n",
       "1BJ1                   -0.22840                       -0.5883   \n",
       "1BJ1                   -0.77760                       -0.5008   \n",
       "1BJ1                   -0.70810                        0.2447   \n",
       "1BJ1                   -2.40520                        1.6355   \n",
       "1BJ1                   -0.06550                        0.0105   \n",
       "1BJ1                    0.12950                        0.2325   \n",
       "1BJ1                   -0.55250                        0.8669   \n",
       "1BJ1                   -0.51180                        0.4730   \n",
       "1BJ1                   -1.33700                        0.5751   \n",
       "1BJ1                   -0.26830                        1.0452   \n",
       "1BJ1                   -0.08350                        0.1722   \n",
       "...                         ...                           ...   \n",
       "HM_2NYY                 0.81750                       -0.2699   \n",
       "HM_2NYY                -1.65980                        0.9792   \n",
       "HM_2NYY                 0.55740                       -0.9865   \n",
       "HM_2NYY                -1.38460                        0.8286   \n",
       "HM_2NYY                -0.55800                        0.5099   \n",
       "HM_2NYY                 1.10260                       -2.0382   \n",
       "HM_2NZ9                -3.55940                        0.5614   \n",
       "HM_2NZ9                -0.47620                       -0.1058   \n",
       "HM_2NZ9                -4.01900                        1.5152   \n",
       "HM_2NZ9                -0.66120                        1.5561   \n",
       "HM_2NZ9                -1.02000                        0.7976   \n",
       "HM_2NZ9                -0.15490                        0.0936   \n",
       "HM_2NZ9                 0.44170                        0.0144   \n",
       "HM_2NZ9                 1.09530                        1.5298   \n",
       "HM_2NZ9                -0.29910                        0.3477   \n",
       "HM_2NZ9                 0.01270                       -0.1186   \n",
       "HM_2NZ9                -0.16330                        0.5856   \n",
       "HM_2NZ9                -0.64460                        0.0108   \n",
       "HM_2NZ9                -5.25780                        2.1516   \n",
       "HM_2NZ9                -1.20490                       -0.0408   \n",
       "HM_2NZ9                 0.78500                       -0.3531   \n",
       "HM_2NZ9                 0.26340                       -0.0576   \n",
       "HM_3BN9                -0.31410                        0.3773   \n",
       "HM_3BN9                -2.03250                       -0.0553   \n",
       "HM_3BN9                -0.89350                        0.2774   \n",
       "HM_3BN9                 0.88520                       -0.2993   \n",
       "HM_3BN9                -0.56220                        0.3290   \n",
       "HM_3BN9                -0.15470                        0.0342   \n",
       "HM_3BN9                -0.23970                        0.0625   \n",
       "HM_3BN9                -0.53870                        1.7487   \n",
       "\n",
       "                       ...                  disulfide_wt  \\\n",
       "codes                  ...                                 \n",
       "1AK4                   ...                  0.000000e+00   \n",
       "1AK4                   ...                  0.000000e+00   \n",
       "1AK4                   ...                  0.000000e+00   \n",
       "1AK4                   ...                  0.000000e+00   \n",
       "1AK4                   ...                  0.000000e+00   \n",
       "1AK4                   ...                  0.000000e+00   \n",
       "1AK4                   ...                  0.000000e+00   \n",
       "1AK4                   ...                  0.000000e+00   \n",
       "1AK4                   ...                  0.000000e+00   \n",
       "1AK4                   ...                  0.000000e+00   \n",
       "1AK4                   ...                  0.000000e+00   \n",
       "1AK4                   ...                  0.000000e+00   \n",
       "1AK4                   ...                  0.000000e+00   \n",
       "1AK4                   ...                  0.000000e+00   \n",
       "1AK4                   ...                  0.000000e+00   \n",
       "1AK4                   ...                  0.000000e+00   \n",
       "1BJ1                   ...                  3.552710e-15   \n",
       "1BJ1                   ...                  3.552710e-15   \n",
       "1BJ1                   ...                  3.552710e-15   \n",
       "1BJ1                   ...                  3.552710e-15   \n",
       "1BJ1                   ...                  3.552710e-15   \n",
       "1BJ1                   ...                  3.552710e-15   \n",
       "1BJ1                   ...                  3.552710e-15   \n",
       "1BJ1                   ...                  3.552710e-15   \n",
       "1BJ1                   ...                  3.552710e-15   \n",
       "1BJ1                   ...                  3.552710e-15   \n",
       "1BJ1                   ...                  3.552710e-15   \n",
       "1BJ1                   ...                  3.552710e-15   \n",
       "1BJ1                   ...                  3.552710e-15   \n",
       "1BJ1                   ...                  3.552710e-15   \n",
       "...                    ...                           ...   \n",
       "HM_2NYY                ...                  3.552710e-15   \n",
       "HM_2NYY                ...                  3.552710e-15   \n",
       "HM_2NYY                ...                  3.552710e-15   \n",
       "HM_2NYY                ...                  3.552710e-15   \n",
       "HM_2NYY                ...                  3.552710e-15   \n",
       "HM_2NYY                ...                  3.552710e-15   \n",
       "HM_2NZ9                ...                 -1.776360e-15   \n",
       "HM_2NZ9                ...                 -1.776360e-15   \n",
       "HM_2NZ9                ...                 -1.776360e-15   \n",
       "HM_2NZ9                ...                 -1.776360e-15   \n",
       "HM_2NZ9                ...                 -1.776360e-15   \n",
       "HM_2NZ9                ...                 -1.776360e-15   \n",
       "HM_2NZ9                ...                 -1.776360e-15   \n",
       "HM_2NZ9                ...                 -1.776360e-15   \n",
       "HM_2NZ9                ...                 -1.776360e-15   \n",
       "HM_2NZ9                ...                 -1.776360e-15   \n",
       "HM_2NZ9                ...                 -1.776360e-15   \n",
       "HM_2NZ9                ...                 -1.776360e-15   \n",
       "HM_2NZ9                ...                 -1.776360e-15   \n",
       "HM_2NZ9                ...                 -1.776360e-15   \n",
       "HM_2NZ9                ...                 -1.776360e-15   \n",
       "HM_2NZ9                ...                 -1.776360e-15   \n",
       "HM_3BN9                ...                 -3.552710e-15   \n",
       "HM_3BN9                ...                 -3.552710e-15   \n",
       "HM_3BN9                ...                 -3.552710e-15   \n",
       "HM_3BN9                ...                 -3.552710e-15   \n",
       "HM_3BN9                ...                 -3.552710e-15   \n",
       "HM_3BN9                ...                 -3.552710e-15   \n",
       "HM_3BN9                ...                 -3.552710e-15   \n",
       "HM_3BN9                ...                 -3.552710e-15   \n",
       "\n",
       "         electrostatic_kon_wt  partial_covalent_bonds_wt  \\\n",
       "codes                                                      \n",
       "1AK4                -0.062112                        0.0   \n",
       "1AK4                -0.062112                        0.0   \n",
       "1AK4                -0.062112                        0.0   \n",
       "1AK4                -0.062112                        0.0   \n",
       "1AK4                -0.062112                        0.0   \n",
       "1AK4                -0.062112                        0.0   \n",
       "1AK4                -0.062112                        0.0   \n",
       "1AK4                -0.062112                        0.0   \n",
       "1AK4                -0.062112                        0.0   \n",
       "1AK4                -0.062112                        0.0   \n",
       "1AK4                -0.062112                        0.0   \n",
       "1AK4                -0.062112                        0.0   \n",
       "1AK4                -0.062112                        0.0   \n",
       "1AK4                -0.062112                        0.0   \n",
       "1AK4                -0.062112                        0.0   \n",
       "1AK4                -0.062112                        0.0   \n",
       "1BJ1                 0.016842                        0.0   \n",
       "1BJ1                 0.016842                        0.0   \n",
       "1BJ1                 0.016842                        0.0   \n",
       "1BJ1                 0.016842                        0.0   \n",
       "1BJ1                 0.016842                        0.0   \n",
       "1BJ1                 0.016842                        0.0   \n",
       "1BJ1                 0.016842                        0.0   \n",
       "1BJ1                 0.016842                        0.0   \n",
       "1BJ1                 0.016842                        0.0   \n",
       "1BJ1                 0.016842                        0.0   \n",
       "1BJ1                 0.016842                        0.0   \n",
       "1BJ1                 0.016842                        0.0   \n",
       "1BJ1                 0.016842                        0.0   \n",
       "1BJ1                 0.016842                        0.0   \n",
       "...                       ...                        ...   \n",
       "HM_2NYY             -0.587126                        0.0   \n",
       "HM_2NYY             -0.587126                        0.0   \n",
       "HM_2NYY             -0.587126                        0.0   \n",
       "HM_2NYY             -0.587126                        0.0   \n",
       "HM_2NYY             -0.587126                        0.0   \n",
       "HM_2NYY             -0.587126                        0.0   \n",
       "HM_2NZ9             -0.373984                        0.0   \n",
       "HM_2NZ9             -0.373984                        0.0   \n",
       "HM_2NZ9             -0.373984                        0.0   \n",
       "HM_2NZ9             -0.373984                        0.0   \n",
       "HM_2NZ9             -0.373984                        0.0   \n",
       "HM_2NZ9             -0.373984                        0.0   \n",
       "HM_2NZ9             -0.373984                        0.0   \n",
       "HM_2NZ9             -0.373984                        0.0   \n",
       "HM_2NZ9             -0.373984                        0.0   \n",
       "HM_2NZ9             -0.373984                        0.0   \n",
       "HM_2NZ9             -0.373984                        0.0   \n",
       "HM_2NZ9             -0.373984                        0.0   \n",
       "HM_2NZ9             -0.373984                        0.0   \n",
       "HM_2NZ9             -0.373984                        0.0   \n",
       "HM_2NZ9             -0.373984                        0.0   \n",
       "HM_2NZ9             -0.373984                        0.0   \n",
       "HM_3BN9             -1.078560                        0.0   \n",
       "HM_3BN9             -1.078560                        0.0   \n",
       "HM_3BN9             -1.078560                        0.0   \n",
       "HM_3BN9             -1.078560                        0.0   \n",
       "HM_3BN9             -1.078560                        0.0   \n",
       "HM_3BN9             -1.078560                        0.0   \n",
       "HM_3BN9             -1.078560                        0.0   \n",
       "HM_3BN9             -1.078560                        0.0   \n",
       "\n",
       "         energy_ionisation_wt  entropy_complex_wt  number_of_residues_y  \\\n",
       "codes                                                                     \n",
       "1AK4             4.618880e-02               2.384                 310.0   \n",
       "1AK4             4.618880e-02               2.384                 310.0   \n",
       "1AK4             4.618880e-02               2.384                 310.0   \n",
       "1AK4             4.618880e-02               2.384                 310.0   \n",
       "1AK4             4.618880e-02               2.384                 310.0   \n",
       "1AK4             4.618880e-02               2.384                 310.0   \n",
       "1AK4             4.618880e-02               2.384                 310.0   \n",
       "1AK4             4.618880e-02               2.384                 310.0   \n",
       "1AK4             4.618880e-02               2.384                 310.0   \n",
       "1AK4             4.618880e-02               2.384                 310.0   \n",
       "1AK4             4.618880e-02               2.384                 310.0   \n",
       "1AK4             4.618880e-02               2.384                 310.0   \n",
       "1AK4             4.618880e-02               2.384                 310.0   \n",
       "1AK4             4.618880e-02               2.384                 310.0   \n",
       "1AK4             4.618880e-02               2.384                 310.0   \n",
       "1AK4             4.618880e-02               2.384                 310.0   \n",
       "1BJ1             6.269110e-01               2.384                 625.0   \n",
       "1BJ1             6.269110e-01               2.384                 625.0   \n",
       "1BJ1             6.269110e-01               2.384                 625.0   \n",
       "1BJ1             6.269110e-01               2.384                 625.0   \n",
       "1BJ1             6.269110e-01               2.384                 625.0   \n",
       "1BJ1             6.269110e-01               2.384                 625.0   \n",
       "1BJ1             6.269110e-01               2.384                 625.0   \n",
       "1BJ1             6.269110e-01               2.384                 625.0   \n",
       "1BJ1             6.269110e-01               2.384                 625.0   \n",
       "1BJ1             6.269110e-01               2.384                 625.0   \n",
       "1BJ1             6.269110e-01               2.384                 625.0   \n",
       "1BJ1             6.269110e-01               2.384                 625.0   \n",
       "1BJ1             6.269110e-01               2.384                 625.0   \n",
       "1BJ1             6.269110e-01               2.384                 625.0   \n",
       "...                       ...                 ...                   ...   \n",
       "HM_2NYY          1.110220e-15               2.384                1727.0   \n",
       "HM_2NYY          1.110220e-15               2.384                1727.0   \n",
       "HM_2NYY          1.110220e-15               2.384                1727.0   \n",
       "HM_2NYY          1.110220e-15               2.384                1727.0   \n",
       "HM_2NYY          1.110220e-15               2.384                1727.0   \n",
       "HM_2NYY          1.110220e-15               2.384                1727.0   \n",
       "HM_2NZ9          1.028820e-02               2.384                1727.0   \n",
       "HM_2NZ9          1.028820e-02               2.384                1727.0   \n",
       "HM_2NZ9          1.028820e-02               2.384                1727.0   \n",
       "HM_2NZ9          1.028820e-02               2.384                1727.0   \n",
       "HM_2NZ9          1.028820e-02               2.384                1727.0   \n",
       "HM_2NZ9          1.028820e-02               2.384                1727.0   \n",
       "HM_2NZ9          1.028820e-02               2.384                1727.0   \n",
       "HM_2NZ9          1.028820e-02               2.384                1727.0   \n",
       "HM_2NZ9          1.028820e-02               2.384                1727.0   \n",
       "HM_2NZ9          1.028820e-02               2.384                1727.0   \n",
       "HM_2NZ9          1.028820e-02               2.384                1727.0   \n",
       "HM_2NZ9          1.028820e-02               2.384                1727.0   \n",
       "HM_2NZ9          1.028820e-02               2.384                1727.0   \n",
       "HM_2NZ9          1.028820e-02               2.384                1727.0   \n",
       "HM_2NZ9          1.028820e-02               2.384                1727.0   \n",
       "HM_2NZ9          1.028820e-02               2.384                1727.0   \n",
       "HM_3BN9          6.382330e-03               2.384                 681.0   \n",
       "HM_3BN9          6.382330e-03               2.384                 681.0   \n",
       "HM_3BN9          6.382330e-03               2.384                 681.0   \n",
       "HM_3BN9          6.382330e-03               2.384                 681.0   \n",
       "HM_3BN9          6.382330e-03               2.384                 681.0   \n",
       "HM_3BN9          6.382330e-03               2.384                 681.0   \n",
       "HM_3BN9          6.382330e-03               2.384                 681.0   \n",
       "HM_3BN9          6.382330e-03               2.384                 681.0   \n",
       "\n",
       "         interface_residues_wt  interface_residues_clashing_wt  \\\n",
       "codes                                                            \n",
       "1AK4                      27.0                             0.0   \n",
       "1AK4                      27.0                             0.0   \n",
       "1AK4                      27.0                             0.0   \n",
       "1AK4                      27.0                             0.0   \n",
       "1AK4                      27.0                             0.0   \n",
       "1AK4                      27.0                             0.0   \n",
       "1AK4                      27.0                             0.0   \n",
       "1AK4                      27.0                             0.0   \n",
       "1AK4                      27.0                             0.0   \n",
       "1AK4                      27.0                             0.0   \n",
       "1AK4                      27.0                             0.0   \n",
       "1AK4                      27.0                             0.0   \n",
       "1AK4                      27.0                             0.0   \n",
       "1AK4                      27.0                             0.0   \n",
       "1AK4                      27.0                             0.0   \n",
       "1AK4                      27.0                             0.0   \n",
       "1BJ1                      45.0                             1.0   \n",
       "1BJ1                      45.0                             1.0   \n",
       "1BJ1                      45.0                             1.0   \n",
       "1BJ1                      45.0                             1.0   \n",
       "1BJ1                      45.0                             1.0   \n",
       "1BJ1                      45.0                             1.0   \n",
       "1BJ1                      45.0                             1.0   \n",
       "1BJ1                      45.0                             1.0   \n",
       "1BJ1                      45.0                             1.0   \n",
       "1BJ1                      45.0                             1.0   \n",
       "1BJ1                      45.0                             1.0   \n",
       "1BJ1                      45.0                             1.0   \n",
       "1BJ1                      45.0                             1.0   \n",
       "1BJ1                      45.0                             1.0   \n",
       "...                        ...                             ...   \n",
       "HM_2NYY                   52.0                             0.0   \n",
       "HM_2NYY                   52.0                             0.0   \n",
       "HM_2NYY                   52.0                             0.0   \n",
       "HM_2NYY                   52.0                             0.0   \n",
       "HM_2NYY                   52.0                             0.0   \n",
       "HM_2NYY                   52.0                             0.0   \n",
       "HM_2NZ9                   50.0                             1.0   \n",
       "HM_2NZ9                   50.0                             1.0   \n",
       "HM_2NZ9                   50.0                             1.0   \n",
       "HM_2NZ9                   50.0                             1.0   \n",
       "HM_2NZ9                   50.0                             1.0   \n",
       "HM_2NZ9                   50.0                             1.0   \n",
       "HM_2NZ9                   50.0                             1.0   \n",
       "HM_2NZ9                   50.0                             1.0   \n",
       "HM_2NZ9                   50.0                             1.0   \n",
       "HM_2NZ9                   50.0                             1.0   \n",
       "HM_2NZ9                   50.0                             1.0   \n",
       "HM_2NZ9                   50.0                             1.0   \n",
       "HM_2NZ9                   50.0                             1.0   \n",
       "HM_2NZ9                   50.0                             1.0   \n",
       "HM_2NZ9                   50.0                             1.0   \n",
       "HM_2NZ9                   50.0                             1.0   \n",
       "HM_3BN9                   54.0                             0.0   \n",
       "HM_3BN9                   54.0                             0.0   \n",
       "HM_3BN9                   54.0                             0.0   \n",
       "HM_3BN9                   54.0                             0.0   \n",
       "HM_3BN9                   54.0                             0.0   \n",
       "HM_3BN9                   54.0                             0.0   \n",
       "HM_3BN9                   54.0                             0.0   \n",
       "HM_3BN9                   54.0                             0.0   \n",
       "\n",
       "         interface_residues_vdw_clashing_wt  interface_residues_bb_clashing_wt  \n",
       "codes                                                                           \n",
       "1AK4                                    0.0                                0.0  \n",
       "1AK4                                    0.0                                0.0  \n",
       "1AK4                                    0.0                                0.0  \n",
       "1AK4                                    0.0                                0.0  \n",
       "1AK4                                    0.0                                0.0  \n",
       "1AK4                                    0.0                                0.0  \n",
       "1AK4                                    0.0                                0.0  \n",
       "1AK4                                    0.0                                0.0  \n",
       "1AK4                                    0.0                                0.0  \n",
       "1AK4                                    0.0                                0.0  \n",
       "1AK4                                    0.0                                0.0  \n",
       "1AK4                                    0.0                                0.0  \n",
       "1AK4                                    0.0                                0.0  \n",
       "1AK4                                    0.0                                0.0  \n",
       "1AK4                                    0.0                                0.0  \n",
       "1AK4                                    0.0                                0.0  \n",
       "1BJ1                                    1.0                                0.0  \n",
       "1BJ1                                    1.0                                0.0  \n",
       "1BJ1                                    1.0                                0.0  \n",
       "1BJ1                                    1.0                                0.0  \n",
       "1BJ1                                    1.0                                0.0  \n",
       "1BJ1                                    1.0                                0.0  \n",
       "1BJ1                                    1.0                                0.0  \n",
       "1BJ1                                    1.0                                0.0  \n",
       "1BJ1                                    1.0                                0.0  \n",
       "1BJ1                                    1.0                                0.0  \n",
       "1BJ1                                    1.0                                0.0  \n",
       "1BJ1                                    1.0                                0.0  \n",
       "1BJ1                                    1.0                                0.0  \n",
       "1BJ1                                    1.0                                0.0  \n",
       "...                                     ...                                ...  \n",
       "HM_2NYY                                 0.0                                0.0  \n",
       "HM_2NYY                                 0.0                                0.0  \n",
       "HM_2NYY                                 0.0                                0.0  \n",
       "HM_2NYY                                 0.0                                0.0  \n",
       "HM_2NYY                                 0.0                                0.0  \n",
       "HM_2NYY                                 0.0                                0.0  \n",
       "HM_2NZ9                                 1.0                                0.0  \n",
       "HM_2NZ9                                 1.0                                0.0  \n",
       "HM_2NZ9                                 1.0                                0.0  \n",
       "HM_2NZ9                                 1.0                                0.0  \n",
       "HM_2NZ9                                 1.0                                0.0  \n",
       "HM_2NZ9                                 1.0                                0.0  \n",
       "HM_2NZ9                                 1.0                                0.0  \n",
       "HM_2NZ9                                 1.0                                0.0  \n",
       "HM_2NZ9                                 1.0                                0.0  \n",
       "HM_2NZ9                                 1.0                                0.0  \n",
       "HM_2NZ9                                 1.0                                0.0  \n",
       "HM_2NZ9                                 1.0                                0.0  \n",
       "HM_2NZ9                                 1.0                                0.0  \n",
       "HM_2NZ9                                 1.0                                0.0  \n",
       "HM_2NZ9                                 1.0                                0.0  \n",
       "HM_2NZ9                                 1.0                                0.0  \n",
       "HM_3BN9                                 0.0                                0.0  \n",
       "HM_3BN9                                 0.0                                0.0  \n",
       "HM_3BN9                                 0.0                                0.0  \n",
       "HM_3BN9                                 0.0                                0.0  \n",
       "HM_3BN9                                 0.0                                0.0  \n",
       "HM_3BN9                                 0.0                                0.0  \n",
       "HM_3BN9                                 0.0                                0.0  \n",
       "HM_3BN9                                 0.0                                0.0  \n",
       "\n",
       "[645 rows x 60 columns]"
      ]
     },
     "execution_count": 25,
     "metadata": {},
     "output_type": "execute_result"
    }
   ],
   "source": [
    "DF_energetic_changes"
   ]
  },
  {
   "cell_type": "markdown",
   "metadata": {},
   "source": [
    "# POPS interface asa,  mutant and wt"
   ]
  },
  {
   "cell_type": "code",
   "execution_count": 6,
   "metadata": {
    "collapsed": true
   },
   "outputs": [],
   "source": [
    "def get_pdb_chain(pdb,partner,outdir):\n",
    "    protein = prody.parsePDB(pdb,chain=partner)\n",
    "    pdbwrited = prody.writePDB(str(outdir.resolve())+\"/\"+\"%s_%s\" % (pdb.name[:-4], partner), protein)\n",
    "    print(\"writing %s_%s\" % (pdb.name[:-4], partner))\n",
    "    return pdbwrited"
   ]
  },
  {
   "cell_type": "code",
   "execution_count": 23,
   "metadata": {
    "scrolled": true
   },
   "outputs": [
    {
     "name": "stderr",
     "output_type": "stream",
     "text": [
      "@> 1266 atoms and 1 coordinate set(s) were parsed in 0.02s.\n",
      "@> 1129 atoms and 1 coordinate set(s) were parsed in 0.02s.\n"
     ]
    },
    {
     "name": "stdout",
     "output_type": "stream",
     "text": [
      "writing 1AK4.mut.0_Repair.clean_A\n",
      "writing 1AK4.mut.0_Repair.clean_D\n"
     ]
    },
    {
     "name": "stderr",
     "output_type": "stream",
     "text": [
      "@> 1266 atoms and 1 coordinate set(s) were parsed in 0.02s.\n",
      "@> 1132 atoms and 1 coordinate set(s) were parsed in 0.02s.\n"
     ]
    },
    {
     "name": "stdout",
     "output_type": "stream",
     "text": [
      "writing 1AK4.mut.1_Repair.clean_A\n",
      "writing 1AK4.mut.1_Repair.clean_D\n"
     ]
    },
    {
     "name": "stderr",
     "output_type": "stream",
     "text": [
      "@> 1266 atoms and 1 coordinate set(s) were parsed in 0.03s.\n",
      "@> 1129 atoms and 1 coordinate set(s) were parsed in 0.02s.\n"
     ]
    },
    {
     "name": "stdout",
     "output_type": "stream",
     "text": [
      "writing 1AK4.mut.2_Repair.clean_A\n",
      "writing 1AK4.mut.2_Repair.clean_D\n"
     ]
    },
    {
     "name": "stderr",
     "output_type": "stream",
     "text": [
      "@> 1266 atoms and 1 coordinate set(s) were parsed in 0.02s.\n",
      "@> 1132 atoms and 1 coordinate set(s) were parsed in 0.02s.\n"
     ]
    },
    {
     "name": "stdout",
     "output_type": "stream",
     "text": [
      "writing 1AK4.mut.3_Repair.clean_A\n",
      "writing 1AK4.mut.3_Repair.clean_D\n"
     ]
    },
    {
     "name": "stderr",
     "output_type": "stream",
     "text": [
      "@> 1266 atoms and 1 coordinate set(s) were parsed in 0.03s.\n",
      "@> 1131 atoms and 1 coordinate set(s) were parsed in 0.02s.\n"
     ]
    },
    {
     "name": "stdout",
     "output_type": "stream",
     "text": [
      "writing 1AK4.mut.4_Repair.clean_A\n",
      "writing 1AK4.mut.4_Repair.clean_D\n"
     ]
    },
    {
     "name": "stderr",
     "output_type": "stream",
     "text": [
      "@> 1266 atoms and 1 coordinate set(s) were parsed in 0.02s.\n",
      "@> 1133 atoms and 1 coordinate set(s) were parsed in 0.02s.\n"
     ]
    },
    {
     "name": "stdout",
     "output_type": "stream",
     "text": [
      "writing 1AK4.mut.5_Repair.clean_A\n",
      "writing 1AK4.mut.5_Repair.clean_D\n"
     ]
    },
    {
     "name": "stderr",
     "output_type": "stream",
     "text": [
      "@> 1266 atoms and 1 coordinate set(s) were parsed in 0.02s.\n",
      "@> 1125 atoms and 1 coordinate set(s) were parsed in 0.03s.\n"
     ]
    },
    {
     "name": "stdout",
     "output_type": "stream",
     "text": [
      "writing 1AK4.mut.6_Repair.clean_A\n",
      "writing 1AK4.mut.6_Repair.clean_D\n"
     ]
    },
    {
     "name": "stderr",
     "output_type": "stream",
     "text": [
      "@> 1266 atoms and 1 coordinate set(s) were parsed in 0.02s.\n",
      "@> 1129 atoms and 1 coordinate set(s) were parsed in 0.02s.\n"
     ]
    },
    {
     "name": "stdout",
     "output_type": "stream",
     "text": [
      "writing 1AK4.mut.7_Repair.clean_A\n",
      "writing 1AK4.mut.7_Repair.clean_D\n"
     ]
    },
    {
     "name": "stderr",
     "output_type": "stream",
     "text": [
      "@> 1266 atoms and 1 coordinate set(s) were parsed in 0.02s.\n",
      "@> 1131 atoms and 1 coordinate set(s) were parsed in 0.02s.\n"
     ]
    },
    {
     "name": "stdout",
     "output_type": "stream",
     "text": [
      "writing 1AK4.mut.8_Repair.clean_A\n",
      "writing 1AK4.mut.8_Repair.clean_D\n"
     ]
    },
    {
     "name": "stderr",
     "output_type": "stream",
     "text": [
      "@> 1266 atoms and 1 coordinate set(s) were parsed in 0.02s.\n",
      "@> 1127 atoms and 1 coordinate set(s) were parsed in 0.02s.\n"
     ]
    },
    {
     "name": "stdout",
     "output_type": "stream",
     "text": [
      "writing 1AK4.mut.9_Repair.clean_A\n",
      "writing 1AK4.mut.9_Repair.clean_D\n"
     ]
    },
    {
     "name": "stderr",
     "output_type": "stream",
     "text": [
      "@> 1266 atoms and 1 coordinate set(s) were parsed in 0.02s.\n",
      "@> 1129 atoms and 1 coordinate set(s) were parsed in 0.02s.\n"
     ]
    },
    {
     "name": "stdout",
     "output_type": "stream",
     "text": [
      "writing 1AK4.mut.10_Repair.clean_A\n",
      "writing 1AK4.mut.10_Repair.clean_D\n"
     ]
    },
    {
     "name": "stderr",
     "output_type": "stream",
     "text": [
      "@> 1266 atoms and 1 coordinate set(s) were parsed in 0.02s.\n",
      "@> 1128 atoms and 1 coordinate set(s) were parsed in 0.02s.\n"
     ]
    },
    {
     "name": "stdout",
     "output_type": "stream",
     "text": [
      "writing 1AK4.mut.11_Repair.clean_A\n",
      "writing 1AK4.mut.11_Repair.clean_D\n"
     ]
    },
    {
     "name": "stderr",
     "output_type": "stream",
     "text": [
      "@> 1266 atoms and 1 coordinate set(s) were parsed in 0.02s.\n",
      "@> 1128 atoms and 1 coordinate set(s) were parsed in 0.02s.\n"
     ]
    },
    {
     "name": "stdout",
     "output_type": "stream",
     "text": [
      "writing 1AK4.mut.12_Repair.clean_A\n",
      "writing 1AK4.mut.12_Repair.clean_D\n"
     ]
    },
    {
     "name": "stderr",
     "output_type": "stream",
     "text": [
      "@> 1266 atoms and 1 coordinate set(s) were parsed in 0.02s.\n",
      "@> 1130 atoms and 1 coordinate set(s) were parsed in 0.02s.\n"
     ]
    },
    {
     "name": "stdout",
     "output_type": "stream",
     "text": [
      "writing 1AK4.mut.13_Repair.clean_A\n",
      "writing 1AK4.mut.13_Repair.clean_D\n"
     ]
    },
    {
     "name": "stderr",
     "output_type": "stream",
     "text": [
      "@> 1266 atoms and 1 coordinate set(s) were parsed in 0.02s.\n",
      "@> 1128 atoms and 1 coordinate set(s) were parsed in 0.02s.\n"
     ]
    },
    {
     "name": "stdout",
     "output_type": "stream",
     "text": [
      "writing 1AK4.mut.14_Repair.clean_A\n",
      "writing 1AK4.mut.14_Repair.clean_D\n"
     ]
    },
    {
     "name": "stderr",
     "output_type": "stream",
     "text": [
      "@> 1266 atoms and 1 coordinate set(s) were parsed in 0.02s.\n",
      "@> 1128 atoms and 1 coordinate set(s) were parsed in 0.02s.\n"
     ]
    },
    {
     "name": "stdout",
     "output_type": "stream",
     "text": [
      "writing 1AK4.mut.15_Repair.clean_A\n",
      "writing 1AK4.mut.15_Repair.clean_D\n"
     ]
    },
    {
     "name": "stderr",
     "output_type": "stream",
     "text": [
      "@> 3309 atoms and 1 coordinate set(s) were parsed in 0.04s.\n",
      "@> 1518 atoms and 1 coordinate set(s) were parsed in 0.02s.\n"
     ]
    },
    {
     "name": "stdout",
     "output_type": "stream",
     "text": [
      "writing 1BJ1.mut.16_Repair.clean_HL\n",
      "writing 1BJ1.mut.16_Repair.clean_VW\n"
     ]
    },
    {
     "name": "stderr",
     "output_type": "stream",
     "text": [
      "@> 3309 atoms and 1 coordinate set(s) were parsed in 0.04s.\n",
      "@> 1517 atoms and 1 coordinate set(s) were parsed in 0.03s.\n"
     ]
    },
    {
     "name": "stdout",
     "output_type": "stream",
     "text": [
      "writing 1BJ1.mut.17_Repair.clean_HL\n",
      "writing 1BJ1.mut.17_Repair.clean_VW\n"
     ]
    },
    {
     "name": "stderr",
     "output_type": "stream",
     "text": [
      "@> 3309 atoms and 1 coordinate set(s) were parsed in 0.04s.\n",
      "@> 1520 atoms and 1 coordinate set(s) were parsed in 0.02s.\n"
     ]
    },
    {
     "name": "stdout",
     "output_type": "stream",
     "text": [
      "writing 1BJ1.mut.18_Repair.clean_HL\n",
      "writing 1BJ1.mut.18_Repair.clean_VW\n"
     ]
    },
    {
     "name": "stderr",
     "output_type": "stream",
     "text": [
      "@> 3309 atoms and 1 coordinate set(s) were parsed in 0.04s.\n",
      "@> 1525 atoms and 1 coordinate set(s) were parsed in 0.02s.\n"
     ]
    },
    {
     "name": "stdout",
     "output_type": "stream",
     "text": [
      "writing 1BJ1.mut.19_Repair.clean_HL\n",
      "writing 1BJ1.mut.19_Repair.clean_VW\n"
     ]
    },
    {
     "name": "stderr",
     "output_type": "stream",
     "text": [
      "@> 3309 atoms and 1 coordinate set(s) were parsed in 0.04s.\n",
      "@> 1525 atoms and 1 coordinate set(s) were parsed in 0.02s.\n"
     ]
    },
    {
     "name": "stdout",
     "output_type": "stream",
     "text": [
      "writing 1BJ1.mut.20_Repair.clean_HL\n",
      "writing 1BJ1.mut.20_Repair.clean_VW\n"
     ]
    },
    {
     "name": "stderr",
     "output_type": "stream",
     "text": [
      "@> 3309 atoms and 1 coordinate set(s) were parsed in 0.04s.\n",
      "@> 1519 atoms and 1 coordinate set(s) were parsed in 0.03s.\n"
     ]
    },
    {
     "name": "stdout",
     "output_type": "stream",
     "text": [
      "writing 1BJ1.mut.21_Repair.clean_HL\n",
      "writing 1BJ1.mut.21_Repair.clean_VW\n"
     ]
    },
    {
     "name": "stderr",
     "output_type": "stream",
     "text": [
      "@> 3309 atoms and 1 coordinate set(s) were parsed in 0.05s.\n",
      "@> 1519 atoms and 1 coordinate set(s) were parsed in 0.02s.\n"
     ]
    },
    {
     "name": "stdout",
     "output_type": "stream",
     "text": [
      "writing 1BJ1.mut.22_Repair.clean_HL\n",
      "writing 1BJ1.mut.22_Repair.clean_VW\n"
     ]
    },
    {
     "name": "stderr",
     "output_type": "stream",
     "text": [
      "@> 3309 atoms and 1 coordinate set(s) were parsed in 0.04s.\n",
      "@> 1521 atoms and 1 coordinate set(s) were parsed in 0.03s.\n"
     ]
    },
    {
     "name": "stdout",
     "output_type": "stream",
     "text": [
      "writing 1BJ1.mut.23_Repair.clean_HL\n",
      "writing 1BJ1.mut.23_Repair.clean_VW\n"
     ]
    },
    {
     "name": "stderr",
     "output_type": "stream",
     "text": [
      "@> 3309 atoms and 1 coordinate set(s) were parsed in 0.04s.\n",
      "@> 1521 atoms and 1 coordinate set(s) were parsed in 0.02s.\n"
     ]
    },
    {
     "name": "stdout",
     "output_type": "stream",
     "text": [
      "writing 1BJ1.mut.24_Repair.clean_HL\n",
      "writing 1BJ1.mut.24_Repair.clean_VW\n"
     ]
    },
    {
     "name": "stderr",
     "output_type": "stream",
     "text": [
      "@> 3309 atoms and 1 coordinate set(s) were parsed in 0.04s.\n",
      "@> 1521 atoms and 1 coordinate set(s) were parsed in 0.03s.\n"
     ]
    },
    {
     "name": "stdout",
     "output_type": "stream",
     "text": [
      "writing 1BJ1.mut.25_Repair.clean_HL\n",
      "writing 1BJ1.mut.25_Repair.clean_VW\n"
     ]
    },
    {
     "name": "stderr",
     "output_type": "stream",
     "text": [
      "@> 3309 atoms and 1 coordinate set(s) were parsed in 0.07s.\n",
      "@> 1520 atoms and 1 coordinate set(s) were parsed in 0.02s.\n"
     ]
    },
    {
     "name": "stdout",
     "output_type": "stream",
     "text": [
      "writing 1BJ1.mut.26_Repair.clean_HL\n",
      "writing 1BJ1.mut.26_Repair.clean_VW\n"
     ]
    },
    {
     "name": "stderr",
     "output_type": "stream",
     "text": [
      "@> 3309 atoms and 1 coordinate set(s) were parsed in 0.04s.\n",
      "@> 1520 atoms and 1 coordinate set(s) were parsed in 0.02s.\n"
     ]
    },
    {
     "name": "stdout",
     "output_type": "stream",
     "text": [
      "writing 1BJ1.mut.27_Repair.clean_HL\n",
      "writing 1BJ1.mut.27_Repair.clean_VW\n"
     ]
    },
    {
     "name": "stderr",
     "output_type": "stream",
     "text": [
      "@> 3309 atoms and 1 coordinate set(s) were parsed in 0.05s.\n",
      "@> 1521 atoms and 1 coordinate set(s) were parsed in 0.02s.\n"
     ]
    },
    {
     "name": "stdout",
     "output_type": "stream",
     "text": [
      "writing 1BJ1.mut.28_Repair.clean_HL\n",
      "writing 1BJ1.mut.28_Repair.clean_VW\n"
     ]
    },
    {
     "name": "stderr",
     "output_type": "stream",
     "text": [
      "@> 3309 atoms and 1 coordinate set(s) were parsed in 0.04s.\n",
      "@> 1521 atoms and 1 coordinate set(s) were parsed in 0.02s.\n"
     ]
    },
    {
     "name": "stdout",
     "output_type": "stream",
     "text": [
      "writing 1BJ1.mut.29_Repair.clean_HL\n",
      "writing 1BJ1.mut.29_Repair.clean_VW\n"
     ]
    },
    {
     "name": "stderr",
     "output_type": "stream",
     "text": [
      "@> 3309 atoms and 1 coordinate set(s) were parsed in 0.04s.\n",
      "@> 1520 atoms and 1 coordinate set(s) were parsed in 0.02s.\n"
     ]
    },
    {
     "name": "stdout",
     "output_type": "stream",
     "text": [
      "writing 1BJ1.mut.30_Repair.clean_HL\n",
      "writing 1BJ1.mut.30_Repair.clean_VW\n"
     ]
    },
    {
     "name": "stderr",
     "output_type": "stream",
     "text": [
      "@> 3309 atoms and 1 coordinate set(s) were parsed in 0.04s.\n",
      "@> 1520 atoms and 1 coordinate set(s) were parsed in 0.02s.\n"
     ]
    },
    {
     "name": "stdout",
     "output_type": "stream",
     "text": [
      "writing 1BJ1.mut.31_Repair.clean_HL\n",
      "writing 1BJ1.mut.31_Repair.clean_VW\n"
     ]
    },
    {
     "name": "stderr",
     "output_type": "stream",
     "text": [
      "@> 3309 atoms and 1 coordinate set(s) were parsed in 0.04s.\n",
      "@> 1520 atoms and 1 coordinate set(s) were parsed in 0.02s.\n"
     ]
    },
    {
     "name": "stdout",
     "output_type": "stream",
     "text": [
      "writing 1BJ1.mut.32_Repair.clean_HL\n",
      "writing 1BJ1.mut.32_Repair.clean_VW\n"
     ]
    },
    {
     "name": "stderr",
     "output_type": "stream",
     "text": [
      "@> 3309 atoms and 1 coordinate set(s) were parsed in 0.04s.\n",
      "@> 1518 atoms and 1 coordinate set(s) were parsed in 0.03s.\n"
     ]
    },
    {
     "name": "stdout",
     "output_type": "stream",
     "text": [
      "writing 1BJ1.mut.33_Repair.clean_HL\n",
      "writing 1BJ1.mut.33_Repair.clean_VW\n"
     ]
    },
    {
     "name": "stderr",
     "output_type": "stream",
     "text": [
      "@> 3309 atoms and 1 coordinate set(s) were parsed in 0.04s.\n",
      "@> 1517 atoms and 1 coordinate set(s) were parsed in 0.03s.\n"
     ]
    },
    {
     "name": "stdout",
     "output_type": "stream",
     "text": [
      "writing 1BJ1.mut.34_Repair.clean_HL\n",
      "writing 1BJ1.mut.34_Repair.clean_VW\n"
     ]
    },
    {
     "name": "stderr",
     "output_type": "stream",
     "text": [
      "@> 3315 atoms and 1 coordinate set(s) were parsed in 0.04s.\n",
      "@> 1518 atoms and 1 coordinate set(s) were parsed in 0.02s.\n"
     ]
    },
    {
     "name": "stdout",
     "output_type": "stream",
     "text": [
      "writing 1CZ8.mut.35_Repair.clean_HL\n",
      "writing 1CZ8.mut.35_Repair.clean_VW\n"
     ]
    },
    {
     "name": "stderr",
     "output_type": "stream",
     "text": [
      "@> 3315 atoms and 1 coordinate set(s) were parsed in 0.05s.\n",
      "@> 1517 atoms and 1 coordinate set(s) were parsed in 0.02s.\n"
     ]
    },
    {
     "name": "stdout",
     "output_type": "stream",
     "text": [
      "writing 1CZ8.mut.36_Repair.clean_HL\n",
      "writing 1CZ8.mut.36_Repair.clean_VW\n"
     ]
    },
    {
     "name": "stderr",
     "output_type": "stream",
     "text": [
      "@> 3315 atoms and 1 coordinate set(s) were parsed in 0.05s.\n",
      "@> 1520 atoms and 1 coordinate set(s) were parsed in 0.02s.\n"
     ]
    },
    {
     "name": "stdout",
     "output_type": "stream",
     "text": [
      "writing 1CZ8.mut.37_Repair.clean_HL\n",
      "writing 1CZ8.mut.37_Repair.clean_VW\n"
     ]
    },
    {
     "name": "stderr",
     "output_type": "stream",
     "text": [
      "@> 3315 atoms and 1 coordinate set(s) were parsed in 0.04s.\n",
      "@> 1525 atoms and 1 coordinate set(s) were parsed in 0.02s.\n"
     ]
    },
    {
     "name": "stdout",
     "output_type": "stream",
     "text": [
      "writing 1CZ8.mut.38_Repair.clean_HL\n",
      "writing 1CZ8.mut.38_Repair.clean_VW\n"
     ]
    },
    {
     "name": "stderr",
     "output_type": "stream",
     "text": [
      "@> 3315 atoms and 1 coordinate set(s) were parsed in 0.04s.\n",
      "@> 1525 atoms and 1 coordinate set(s) were parsed in 0.02s.\n"
     ]
    },
    {
     "name": "stdout",
     "output_type": "stream",
     "text": [
      "writing 1CZ8.mut.39_Repair.clean_HL\n",
      "writing 1CZ8.mut.39_Repair.clean_VW\n"
     ]
    },
    {
     "name": "stderr",
     "output_type": "stream",
     "text": [
      "@> 3315 atoms and 1 coordinate set(s) were parsed in 0.04s.\n",
      "@> 1519 atoms and 1 coordinate set(s) were parsed in 0.03s.\n"
     ]
    },
    {
     "name": "stdout",
     "output_type": "stream",
     "text": [
      "writing 1CZ8.mut.40_Repair.clean_HL\n",
      "writing 1CZ8.mut.40_Repair.clean_VW\n"
     ]
    },
    {
     "name": "stderr",
     "output_type": "stream",
     "text": [
      "@> 3315 atoms and 1 coordinate set(s) were parsed in 0.04s.\n",
      "@> 1519 atoms and 1 coordinate set(s) were parsed in 0.02s.\n"
     ]
    },
    {
     "name": "stdout",
     "output_type": "stream",
     "text": [
      "writing 1CZ8.mut.41_Repair.clean_HL\n",
      "writing 1CZ8.mut.41_Repair.clean_VW\n"
     ]
    },
    {
     "name": "stderr",
     "output_type": "stream",
     "text": [
      "@> 3315 atoms and 1 coordinate set(s) were parsed in 0.04s.\n",
      "@> 1521 atoms and 1 coordinate set(s) were parsed in 0.02s.\n"
     ]
    },
    {
     "name": "stdout",
     "output_type": "stream",
     "text": [
      "writing 1CZ8.mut.42_Repair.clean_HL\n",
      "writing 1CZ8.mut.42_Repair.clean_VW\n"
     ]
    },
    {
     "name": "stderr",
     "output_type": "stream",
     "text": [
      "@> 3315 atoms and 1 coordinate set(s) were parsed in 0.04s.\n",
      "@> 1521 atoms and 1 coordinate set(s) were parsed in 0.03s.\n"
     ]
    },
    {
     "name": "stdout",
     "output_type": "stream",
     "text": [
      "writing 1CZ8.mut.43_Repair.clean_HL\n",
      "writing 1CZ8.mut.43_Repair.clean_VW\n"
     ]
    },
    {
     "name": "stderr",
     "output_type": "stream",
     "text": [
      "@> 3315 atoms and 1 coordinate set(s) were parsed in 0.04s.\n",
      "@> 1521 atoms and 1 coordinate set(s) were parsed in 0.02s.\n"
     ]
    },
    {
     "name": "stdout",
     "output_type": "stream",
     "text": [
      "writing 1CZ8.mut.44_Repair.clean_HL\n",
      "writing 1CZ8.mut.44_Repair.clean_VW\n"
     ]
    },
    {
     "name": "stderr",
     "output_type": "stream",
     "text": [
      "@> 3315 atoms and 1 coordinate set(s) were parsed in 0.04s.\n",
      "@> 1520 atoms and 1 coordinate set(s) were parsed in 0.03s.\n"
     ]
    },
    {
     "name": "stdout",
     "output_type": "stream",
     "text": [
      "writing 1CZ8.mut.45_Repair.clean_HL\n",
      "writing 1CZ8.mut.45_Repair.clean_VW\n"
     ]
    },
    {
     "name": "stderr",
     "output_type": "stream",
     "text": [
      "@> 3315 atoms and 1 coordinate set(s) were parsed in 0.04s.\n",
      "@> 1520 atoms and 1 coordinate set(s) were parsed in 0.03s.\n"
     ]
    },
    {
     "name": "stdout",
     "output_type": "stream",
     "text": [
      "writing 1CZ8.mut.46_Repair.clean_HL\n",
      "writing 1CZ8.mut.46_Repair.clean_VW\n"
     ]
    },
    {
     "name": "stderr",
     "output_type": "stream",
     "text": [
      "@> 3315 atoms and 1 coordinate set(s) were parsed in 0.04s.\n",
      "@> 1521 atoms and 1 coordinate set(s) were parsed in 0.02s.\n"
     ]
    },
    {
     "name": "stdout",
     "output_type": "stream",
     "text": [
      "writing 1CZ8.mut.47_Repair.clean_HL\n",
      "writing 1CZ8.mut.47_Repair.clean_VW\n"
     ]
    },
    {
     "name": "stderr",
     "output_type": "stream",
     "text": [
      "@> 3315 atoms and 1 coordinate set(s) were parsed in 0.04s.\n",
      "@> 1521 atoms and 1 coordinate set(s) were parsed in 0.02s.\n"
     ]
    },
    {
     "name": "stdout",
     "output_type": "stream",
     "text": [
      "writing 1CZ8.mut.48_Repair.clean_HL\n",
      "writing 1CZ8.mut.48_Repair.clean_VW\n"
     ]
    },
    {
     "name": "stderr",
     "output_type": "stream",
     "text": [
      "@> 3315 atoms and 1 coordinate set(s) were parsed in 0.04s.\n",
      "@> 1520 atoms and 1 coordinate set(s) were parsed in 0.02s.\n"
     ]
    },
    {
     "name": "stdout",
     "output_type": "stream",
     "text": [
      "writing 1CZ8.mut.49_Repair.clean_HL\n",
      "writing 1CZ8.mut.49_Repair.clean_VW\n"
     ]
    },
    {
     "name": "stderr",
     "output_type": "stream",
     "text": [
      "@> 3315 atoms and 1 coordinate set(s) were parsed in 0.04s.\n",
      "@> 1520 atoms and 1 coordinate set(s) were parsed in 0.02s.\n"
     ]
    },
    {
     "name": "stdout",
     "output_type": "stream",
     "text": [
      "writing 1CZ8.mut.50_Repair.clean_HL\n",
      "writing 1CZ8.mut.50_Repair.clean_VW\n"
     ]
    },
    {
     "name": "stderr",
     "output_type": "stream",
     "text": [
      "@> 3315 atoms and 1 coordinate set(s) were parsed in 0.04s.\n",
      "@> 1520 atoms and 1 coordinate set(s) were parsed in 0.02s.\n"
     ]
    },
    {
     "name": "stdout",
     "output_type": "stream",
     "text": [
      "writing 1CZ8.mut.51_Repair.clean_HL\n",
      "writing 1CZ8.mut.51_Repair.clean_VW\n"
     ]
    },
    {
     "name": "stderr",
     "output_type": "stream",
     "text": [
      "@> 3315 atoms and 1 coordinate set(s) were parsed in 0.05s.\n",
      "@> 1518 atoms and 1 coordinate set(s) were parsed in 0.02s.\n"
     ]
    },
    {
     "name": "stdout",
     "output_type": "stream",
     "text": [
      "writing 1CZ8.mut.52_Repair.clean_HL\n",
      "writing 1CZ8.mut.52_Repair.clean_VW\n"
     ]
    },
    {
     "name": "stderr",
     "output_type": "stream",
     "text": [
      "@> 3315 atoms and 1 coordinate set(s) were parsed in 0.04s.\n",
      "@> 1517 atoms and 1 coordinate set(s) were parsed in 0.02s.\n"
     ]
    },
    {
     "name": "stdout",
     "output_type": "stream",
     "text": [
      "writing 1CZ8.mut.53_Repair.clean_HL\n",
      "writing 1CZ8.mut.53_Repair.clean_VW\n"
     ]
    },
    {
     "name": "stderr",
     "output_type": "stream",
     "text": [
      "@> 998 atoms and 1 coordinate set(s) were parsed in 0.02s.\n",
      "@> 3244 atoms and 1 coordinate set(s) were parsed in 0.04s.\n"
     ]
    },
    {
     "name": "stdout",
     "output_type": "stream",
     "text": [
      "writing 1DQJ.mut.54_Repair.clean_C\n",
      "writing 1DQJ.mut.54_Repair.clean_HL\n"
     ]
    },
    {
     "name": "stderr",
     "output_type": "stream",
     "text": [
      "@> 997 atoms and 1 coordinate set(s) were parsed in 0.02s.\n",
      "@> 3244 atoms and 1 coordinate set(s) were parsed in 0.04s.\n"
     ]
    },
    {
     "name": "stdout",
     "output_type": "stream",
     "text": [
      "writing 1DQJ.mut.55_Repair.clean_C\n",
      "writing 1DQJ.mut.55_Repair.clean_HL\n"
     ]
    },
    {
     "name": "stderr",
     "output_type": "stream",
     "text": [
      "@> 997 atoms and 1 coordinate set(s) were parsed in 0.02s.\n",
      "@> 3244 atoms and 1 coordinate set(s) were parsed in 0.04s.\n"
     ]
    },
    {
     "name": "stdout",
     "output_type": "stream",
     "text": [
      "writing 1DQJ.mut.56_Repair.clean_C\n",
      "writing 1DQJ.mut.56_Repair.clean_HL\n"
     ]
    },
    {
     "name": "stderr",
     "output_type": "stream",
     "text": [
      "@> 998 atoms and 1 coordinate set(s) were parsed in 0.02s.\n",
      "@> 3244 atoms and 1 coordinate set(s) were parsed in 0.04s.\n"
     ]
    },
    {
     "name": "stdout",
     "output_type": "stream",
     "text": [
      "writing 1DQJ.mut.57_Repair.clean_C\n",
      "writing 1DQJ.mut.57_Repair.clean_HL\n"
     ]
    },
    {
     "name": "stderr",
     "output_type": "stream",
     "text": [
      "@> 998 atoms and 1 coordinate set(s) were parsed in 0.02s.\n",
      "@> 3244 atoms and 1 coordinate set(s) were parsed in 0.04s.\n"
     ]
    },
    {
     "name": "stdout",
     "output_type": "stream",
     "text": [
      "writing 1DQJ.mut.58_Repair.clean_C\n",
      "writing 1DQJ.mut.58_Repair.clean_HL\n"
     ]
    },
    {
     "name": "stderr",
     "output_type": "stream",
     "text": [
      "@> 995 atoms and 1 coordinate set(s) were parsed in 0.03s.\n",
      "@> 3244 atoms and 1 coordinate set(s) were parsed in 0.04s.\n"
     ]
    },
    {
     "name": "stdout",
     "output_type": "stream",
     "text": [
      "writing 1DQJ.mut.59_Repair.clean_C\n",
      "writing 1DQJ.mut.59_Repair.clean_HL\n"
     ]
    },
    {
     "name": "stderr",
     "output_type": "stream",
     "text": [
      "@> 1000 atoms and 1 coordinate set(s) were parsed in 0.02s.\n",
      "@> 3244 atoms and 1 coordinate set(s) were parsed in 0.04s.\n"
     ]
    },
    {
     "name": "stdout",
     "output_type": "stream",
     "text": [
      "writing 1DQJ.mut.60_Repair.clean_C\n",
      "writing 1DQJ.mut.60_Repair.clean_HL\n"
     ]
    },
    {
     "name": "stderr",
     "output_type": "stream",
     "text": [
      "@> 999 atoms and 1 coordinate set(s) were parsed in 0.02s.\n",
      "@> 3244 atoms and 1 coordinate set(s) were parsed in 0.04s.\n"
     ]
    },
    {
     "name": "stdout",
     "output_type": "stream",
     "text": [
      "writing 1DQJ.mut.61_Repair.clean_C\n",
      "writing 1DQJ.mut.61_Repair.clean_HL\n"
     ]
    },
    {
     "name": "stderr",
     "output_type": "stream",
     "text": [
      "@> 992 atoms and 1 coordinate set(s) were parsed in 0.02s.\n",
      "@> 3244 atoms and 1 coordinate set(s) were parsed in 0.04s.\n"
     ]
    },
    {
     "name": "stdout",
     "output_type": "stream",
     "text": [
      "writing 1DQJ.mut.62_Repair.clean_C\n",
      "writing 1DQJ.mut.62_Repair.clean_HL\n"
     ]
    },
    {
     "name": "stderr",
     "output_type": "stream",
     "text": [
      "@> 992 atoms and 1 coordinate set(s) were parsed in 0.02s.\n",
      "@> 3244 atoms and 1 coordinate set(s) were parsed in 0.04s.\n"
     ]
    },
    {
     "name": "stdout",
     "output_type": "stream",
     "text": [
      "writing 1DQJ.mut.63_Repair.clean_C\n",
      "writing 1DQJ.mut.63_Repair.clean_HL\n"
     ]
    },
    {
     "name": "stderr",
     "output_type": "stream",
     "text": [
      "@> 994 atoms and 1 coordinate set(s) were parsed in 0.02s.\n",
      "@> 3244 atoms and 1 coordinate set(s) were parsed in 0.04s.\n"
     ]
    },
    {
     "name": "stdout",
     "output_type": "stream",
     "text": [
      "writing 1DQJ.mut.64_Repair.clean_C\n",
      "writing 1DQJ.mut.64_Repair.clean_HL\n"
     ]
    },
    {
     "name": "stderr",
     "output_type": "stream",
     "text": [
      "@> 1001 atoms and 1 coordinate set(s) were parsed in 0.02s.\n",
      "@> 3241 atoms and 1 coordinate set(s) were parsed in 0.04s.\n"
     ]
    },
    {
     "name": "stdout",
     "output_type": "stream",
     "text": [
      "writing 1DQJ.mut.65_Repair.clean_C\n",
      "writing 1DQJ.mut.65_Repair.clean_HL\n"
     ]
    },
    {
     "name": "stderr",
     "output_type": "stream",
     "text": [
      "@> 1001 atoms and 1 coordinate set(s) were parsed in 0.02s.\n",
      "@> 3235 atoms and 1 coordinate set(s) were parsed in 0.04s.\n"
     ]
    },
    {
     "name": "stdout",
     "output_type": "stream",
     "text": [
      "writing 1DQJ.mut.66_Repair.clean_C\n",
      "writing 1DQJ.mut.66_Repair.clean_HL\n"
     ]
    },
    {
     "name": "stderr",
     "output_type": "stream",
     "text": [
      "@> 1001 atoms and 1 coordinate set(s) were parsed in 0.02s.\n",
      "@> 3237 atoms and 1 coordinate set(s) were parsed in 0.04s.\n"
     ]
    },
    {
     "name": "stdout",
     "output_type": "stream",
     "text": [
      "writing 1DQJ.mut.67_Repair.clean_C\n",
      "writing 1DQJ.mut.67_Repair.clean_HL\n"
     ]
    },
    {
     "name": "stderr",
     "output_type": "stream",
     "text": [
      "@> 1001 atoms and 1 coordinate set(s) were parsed in 0.02s.\n",
      "@> 3237 atoms and 1 coordinate set(s) were parsed in 0.04s.\n"
     ]
    },
    {
     "name": "stdout",
     "output_type": "stream",
     "text": [
      "writing 1DQJ.mut.68_Repair.clean_C\n",
      "writing 1DQJ.mut.68_Repair.clean_HL\n"
     ]
    },
    {
     "name": "stderr",
     "output_type": "stream",
     "text": [
      "@> 1001 atoms and 1 coordinate set(s) were parsed in 0.02s.\n",
      "@> 3237 atoms and 1 coordinate set(s) were parsed in 0.05s.\n"
     ]
    },
    {
     "name": "stdout",
     "output_type": "stream",
     "text": [
      "writing 1DQJ.mut.69_Repair.clean_C\n",
      "writing 1DQJ.mut.69_Repair.clean_HL\n"
     ]
    },
    {
     "name": "stderr",
     "output_type": "stream",
     "text": [
      "@> 1001 atoms and 1 coordinate set(s) were parsed in 0.02s.\n",
      "@> 3241 atoms and 1 coordinate set(s) were parsed in 0.04s.\n"
     ]
    },
    {
     "name": "stdout",
     "output_type": "stream",
     "text": [
      "writing 1DQJ.mut.70_Repair.clean_C\n",
      "writing 1DQJ.mut.70_Repair.clean_HL\n"
     ]
    },
    {
     "name": "stderr",
     "output_type": "stream",
     "text": [
      "@> 1001 atoms and 1 coordinate set(s) were parsed in 0.02s.\n",
      "@> 3241 atoms and 1 coordinate set(s) were parsed in 0.04s.\n"
     ]
    },
    {
     "name": "stdout",
     "output_type": "stream",
     "text": [
      "writing 1DQJ.mut.71_Repair.clean_C\n",
      "writing 1DQJ.mut.71_Repair.clean_HL\n"
     ]
    },
    {
     "name": "stderr",
     "output_type": "stream",
     "text": [
      "@> 1001 atoms and 1 coordinate set(s) were parsed in 0.02s.\n",
      "@> 3243 atoms and 1 coordinate set(s) were parsed in 0.04s.\n"
     ]
    },
    {
     "name": "stdout",
     "output_type": "stream",
     "text": [
      "writing 1DQJ.mut.72_Repair.clean_C\n",
      "writing 1DQJ.mut.72_Repair.clean_HL\n"
     ]
    },
    {
     "name": "stderr",
     "output_type": "stream",
     "text": [
      "@> 1001 atoms and 1 coordinate set(s) were parsed in 0.02s.\n",
      "@> 3237 atoms and 1 coordinate set(s) were parsed in 0.04s.\n"
     ]
    },
    {
     "name": "stdout",
     "output_type": "stream",
     "text": [
      "writing 1DQJ.mut.73_Repair.clean_C\n",
      "writing 1DQJ.mut.73_Repair.clean_HL\n"
     ]
    },
    {
     "name": "stderr",
     "output_type": "stream",
     "text": [
      "@> 1001 atoms and 1 coordinate set(s) were parsed in 0.02s.\n",
      "@> 3237 atoms and 1 coordinate set(s) were parsed in 0.04s.\n"
     ]
    },
    {
     "name": "stdout",
     "output_type": "stream",
     "text": [
      "writing 1DQJ.mut.74_Repair.clean_C\n",
      "writing 1DQJ.mut.74_Repair.clean_HL\n"
     ]
    },
    {
     "name": "stderr",
     "output_type": "stream",
     "text": [
      "@> 1725 atoms and 1 coordinate set(s) were parsed in 0.02s.\n",
      "@> 1765 atoms and 1 coordinate set(s) were parsed in 0.02s.\n"
     ]
    },
    {
     "name": "stdout",
     "output_type": "stream",
     "text": [
      "writing 1DVF.mut.75_Repair.clean_AB\n",
      "writing 1DVF.mut.75_Repair.clean_CD\n"
     ]
    },
    {
     "name": "stderr",
     "output_type": "stream",
     "text": [
      "@> 1729 atoms and 1 coordinate set(s) were parsed in 0.03s.\n",
      "@> 1765 atoms and 1 coordinate set(s) were parsed in 0.02s.\n"
     ]
    },
    {
     "name": "stdout",
     "output_type": "stream",
     "text": [
      "writing 1DVF.mut.76_Repair.clean_AB\n",
      "writing 1DVF.mut.76_Repair.clean_CD\n"
     ]
    },
    {
     "name": "stderr",
     "output_type": "stream",
     "text": [
      "@> 1721 atoms and 1 coordinate set(s) were parsed in 0.02s.\n",
      "@> 1765 atoms and 1 coordinate set(s) were parsed in 0.03s.\n"
     ]
    },
    {
     "name": "stdout",
     "output_type": "stream",
     "text": [
      "writing 1DVF.mut.77_Repair.clean_AB\n",
      "writing 1DVF.mut.77_Repair.clean_CD\n"
     ]
    },
    {
     "name": "stderr",
     "output_type": "stream",
     "text": [
      "@> 1723 atoms and 1 coordinate set(s) were parsed in 0.03s.\n",
      "@> 1765 atoms and 1 coordinate set(s) were parsed in 0.02s.\n"
     ]
    },
    {
     "name": "stdout",
     "output_type": "stream",
     "text": [
      "writing 1DVF.mut.78_Repair.clean_AB\n",
      "writing 1DVF.mut.78_Repair.clean_CD\n"
     ]
    },
    {
     "name": "stderr",
     "output_type": "stream",
     "text": [
      "@> 1723 atoms and 1 coordinate set(s) were parsed in 0.02s.\n",
      "@> 1765 atoms and 1 coordinate set(s) were parsed in 0.02s.\n"
     ]
    },
    {
     "name": "stdout",
     "output_type": "stream",
     "text": [
      "writing 1DVF.mut.79_Repair.clean_AB\n",
      "writing 1DVF.mut.79_Repair.clean_CD\n"
     ]
    },
    {
     "name": "stderr",
     "output_type": "stream",
     "text": [
      "@> 1723 atoms and 1 coordinate set(s) were parsed in 0.02s.\n",
      "@> 1765 atoms and 1 coordinate set(s) were parsed in 0.03s.\n"
     ]
    },
    {
     "name": "stdout",
     "output_type": "stream",
     "text": [
      "writing 1DVF.mut.80_Repair.clean_AB\n",
      "writing 1DVF.mut.80_Repair.clean_CD\n"
     ]
    },
    {
     "name": "stderr",
     "output_type": "stream",
     "text": [
      "@> 1723 atoms and 1 coordinate set(s) were parsed in 0.02s.\n",
      "@> 1765 atoms and 1 coordinate set(s) were parsed in 0.02s.\n"
     ]
    },
    {
     "name": "stdout",
     "output_type": "stream",
     "text": [
      "writing 1DVF.mut.81_Repair.clean_AB\n",
      "writing 1DVF.mut.81_Repair.clean_CD\n"
     ]
    },
    {
     "name": "stderr",
     "output_type": "stream",
     "text": [
      "@> 1727 atoms and 1 coordinate set(s) were parsed in 0.02s.\n",
      "@> 1765 atoms and 1 coordinate set(s) were parsed in 0.02s.\n"
     ]
    },
    {
     "name": "stdout",
     "output_type": "stream",
     "text": [
      "writing 1DVF.mut.82_Repair.clean_AB\n",
      "writing 1DVF.mut.82_Repair.clean_CD\n"
     ]
    },
    {
     "name": "stderr",
     "output_type": "stream",
     "text": [
      "@> 1727 atoms and 1 coordinate set(s) were parsed in 0.03s.\n",
      "@> 1765 atoms and 1 coordinate set(s) were parsed in 0.02s.\n"
     ]
    },
    {
     "name": "stdout",
     "output_type": "stream",
     "text": [
      "writing 1DVF.mut.83_Repair.clean_AB\n",
      "writing 1DVF.mut.83_Repair.clean_CD\n"
     ]
    },
    {
     "name": "stderr",
     "output_type": "stream",
     "text": [
      "@> 1727 atoms and 1 coordinate set(s) were parsed in 0.02s.\n",
      "@> 1765 atoms and 1 coordinate set(s) were parsed in 0.02s.\n"
     ]
    },
    {
     "name": "stdout",
     "output_type": "stream",
     "text": [
      "writing 1DVF.mut.84_Repair.clean_AB\n",
      "writing 1DVF.mut.84_Repair.clean_CD\n"
     ]
    },
    {
     "name": "stderr",
     "output_type": "stream",
     "text": [
      "@> 1726 atoms and 1 coordinate set(s) were parsed in 0.03s.\n",
      "@> 1765 atoms and 1 coordinate set(s) were parsed in 0.02s.\n"
     ]
    },
    {
     "name": "stdout",
     "output_type": "stream",
     "text": [
      "writing 1DVF.mut.85_Repair.clean_AB\n",
      "writing 1DVF.mut.85_Repair.clean_CD\n"
     ]
    },
    {
     "name": "stderr",
     "output_type": "stream",
     "text": [
      "@> 1727 atoms and 1 coordinate set(s) were parsed in 0.03s.\n",
      "@> 1765 atoms and 1 coordinate set(s) were parsed in 0.02s.\n"
     ]
    },
    {
     "name": "stdout",
     "output_type": "stream",
     "text": [
      "writing 1DVF.mut.86_Repair.clean_AB\n",
      "writing 1DVF.mut.86_Repair.clean_CD\n"
     ]
    },
    {
     "name": "stderr",
     "output_type": "stream",
     "text": [
      "@> 1724 atoms and 1 coordinate set(s) were parsed in 0.03s.\n",
      "@> 1765 atoms and 1 coordinate set(s) were parsed in 0.02s.\n"
     ]
    },
    {
     "name": "stdout",
     "output_type": "stream",
     "text": [
      "writing 1DVF.mut.87_Repair.clean_AB\n",
      "writing 1DVF.mut.87_Repair.clean_CD\n"
     ]
    },
    {
     "name": "stderr",
     "output_type": "stream",
     "text": [
      "@> 1728 atoms and 1 coordinate set(s) were parsed in 0.03s.\n",
      "@> 1765 atoms and 1 coordinate set(s) were parsed in 0.02s.\n"
     ]
    },
    {
     "name": "stdout",
     "output_type": "stream",
     "text": [
      "writing 1DVF.mut.88_Repair.clean_AB\n",
      "writing 1DVF.mut.88_Repair.clean_CD\n"
     ]
    },
    {
     "name": "stderr",
     "output_type": "stream",
     "text": [
      "@> 1721 atoms and 1 coordinate set(s) were parsed in 0.03s.\n",
      "@> 1765 atoms and 1 coordinate set(s) were parsed in 0.02s.\n"
     ]
    },
    {
     "name": "stdout",
     "output_type": "stream",
     "text": [
      "writing 1DVF.mut.89_Repair.clean_AB\n",
      "writing 1DVF.mut.89_Repair.clean_CD\n"
     ]
    },
    {
     "name": "stderr",
     "output_type": "stream",
     "text": [
      "@> 1729 atoms and 1 coordinate set(s) were parsed in 0.03s.\n",
      "@> 1765 atoms and 1 coordinate set(s) were parsed in 0.03s.\n"
     ]
    },
    {
     "name": "stdout",
     "output_type": "stream",
     "text": [
      "writing 1DVF.mut.90_Repair.clean_AB\n",
      "writing 1DVF.mut.90_Repair.clean_CD\n"
     ]
    },
    {
     "name": "stderr",
     "output_type": "stream",
     "text": [
      "@> 1723 atoms and 1 coordinate set(s) were parsed in 0.02s.\n",
      "@> 1765 atoms and 1 coordinate set(s) were parsed in 0.02s.\n"
     ]
    },
    {
     "name": "stdout",
     "output_type": "stream",
     "text": [
      "writing 1DVF.mut.91_Repair.clean_AB\n",
      "writing 1DVF.mut.91_Repair.clean_CD\n"
     ]
    },
    {
     "name": "stderr",
     "output_type": "stream",
     "text": [
      "@> 1730 atoms and 1 coordinate set(s) were parsed in 0.02s.\n",
      "@> 1758 atoms and 1 coordinate set(s) were parsed in 0.02s.\n"
     ]
    },
    {
     "name": "stdout",
     "output_type": "stream",
     "text": [
      "writing 1DVF.mut.92_Repair.clean_AB\n",
      "writing 1DVF.mut.92_Repair.clean_CD\n"
     ]
    },
    {
     "name": "stderr",
     "output_type": "stream",
     "text": [
      "@> 1730 atoms and 1 coordinate set(s) were parsed in 0.02s.\n",
      "@> 1762 atoms and 1 coordinate set(s) were parsed in 0.02s.\n"
     ]
    },
    {
     "name": "stdout",
     "output_type": "stream",
     "text": [
      "writing 1DVF.mut.93_Repair.clean_AB\n",
      "writing 1DVF.mut.93_Repair.clean_CD\n"
     ]
    },
    {
     "name": "stderr",
     "output_type": "stream",
     "text": [
      "@> 1730 atoms and 1 coordinate set(s) were parsed in 0.02s.\n",
      "@> 1760 atoms and 1 coordinate set(s) were parsed in 0.02s.\n"
     ]
    },
    {
     "name": "stdout",
     "output_type": "stream",
     "text": [
      "writing 1DVF.mut.94_Repair.clean_AB\n",
      "writing 1DVF.mut.94_Repair.clean_CD\n"
     ]
    },
    {
     "name": "stderr",
     "output_type": "stream",
     "text": [
      "@> 1730 atoms and 1 coordinate set(s) were parsed in 0.03s.\n",
      "@> 1762 atoms and 1 coordinate set(s) were parsed in 0.02s.\n"
     ]
    },
    {
     "name": "stdout",
     "output_type": "stream",
     "text": [
      "writing 1DVF.mut.95_Repair.clean_AB\n",
      "writing 1DVF.mut.95_Repair.clean_CD\n"
     ]
    },
    {
     "name": "stderr",
     "output_type": "stream",
     "text": [
      "@> 1730 atoms and 1 coordinate set(s) were parsed in 0.02s.\n",
      "@> 1761 atoms and 1 coordinate set(s) were parsed in 0.02s.\n"
     ]
    },
    {
     "name": "stdout",
     "output_type": "stream",
     "text": [
      "writing 1DVF.mut.96_Repair.clean_AB\n",
      "writing 1DVF.mut.96_Repair.clean_CD\n"
     ]
    },
    {
     "name": "stderr",
     "output_type": "stream",
     "text": [
      "@> 1730 atoms and 1 coordinate set(s) were parsed in 0.02s.\n",
      "@> 1762 atoms and 1 coordinate set(s) were parsed in 0.02s.\n"
     ]
    },
    {
     "name": "stdout",
     "output_type": "stream",
     "text": [
      "writing 1DVF.mut.97_Repair.clean_AB\n",
      "writing 1DVF.mut.97_Repair.clean_CD\n"
     ]
    },
    {
     "name": "stderr",
     "output_type": "stream",
     "text": [
      "@> 1730 atoms and 1 coordinate set(s) were parsed in 0.02s.\n",
      "@> 1761 atoms and 1 coordinate set(s) were parsed in 0.02s.\n"
     ]
    },
    {
     "name": "stdout",
     "output_type": "stream",
     "text": [
      "writing 1DVF.mut.98_Repair.clean_AB\n",
      "writing 1DVF.mut.98_Repair.clean_CD\n"
     ]
    },
    {
     "name": "stderr",
     "output_type": "stream",
     "text": [
      "@> 1730 atoms and 1 coordinate set(s) were parsed in 0.03s.\n",
      "@> 1759 atoms and 1 coordinate set(s) were parsed in 0.02s.\n"
     ]
    },
    {
     "name": "stdout",
     "output_type": "stream",
     "text": [
      "writing 1DVF.mut.99_Repair.clean_AB\n",
      "writing 1DVF.mut.99_Repair.clean_CD\n"
     ]
    },
    {
     "name": "stderr",
     "output_type": "stream",
     "text": [
      "@> 1730 atoms and 1 coordinate set(s) were parsed in 0.02s.\n",
      "@> 1758 atoms and 1 coordinate set(s) were parsed in 0.02s.\n"
     ]
    },
    {
     "name": "stdout",
     "output_type": "stream",
     "text": [
      "writing 1DVF.mut.100_Repair.clean_AB\n",
      "writing 1DVF.mut.100_Repair.clean_CD\n"
     ]
    },
    {
     "name": "stderr",
     "output_type": "stream",
     "text": [
      "@> 981 atoms and 1 coordinate set(s) were parsed in 0.01s.\n",
      "@> 514 atoms and 1 coordinate set(s) were parsed in 0.01s.\n"
     ]
    },
    {
     "name": "stdout",
     "output_type": "stream",
     "text": [
      "writing 1FFW.mut.101_Repair.clean_A\n",
      "writing 1FFW.mut.101_Repair.clean_B\n"
     ]
    },
    {
     "name": "stderr",
     "output_type": "stream",
     "text": [
      "@> 980 atoms and 1 coordinate set(s) were parsed in 0.01s.\n",
      "@> 514 atoms and 1 coordinate set(s) were parsed in 0.01s.\n"
     ]
    },
    {
     "name": "stdout",
     "output_type": "stream",
     "text": [
      "writing 1FFW.mut.102_Repair.clean_A\n",
      "writing 1FFW.mut.102_Repair.clean_B\n"
     ]
    },
    {
     "name": "stderr",
     "output_type": "stream",
     "text": [
      "@> 979 atoms and 1 coordinate set(s) were parsed in 0.01s.\n",
      "@> 514 atoms and 1 coordinate set(s) were parsed in 0.01s.\n"
     ]
    },
    {
     "name": "stdout",
     "output_type": "stream",
     "text": [
      "writing 1FFW.mut.103_Repair.clean_A\n",
      "writing 1FFW.mut.103_Repair.clean_B\n"
     ]
    },
    {
     "name": "stderr",
     "output_type": "stream",
     "text": [
      "@> 979 atoms and 1 coordinate set(s) were parsed in 0.01s.\n",
      "@> 514 atoms and 1 coordinate set(s) were parsed in 0.01s.\n"
     ]
    },
    {
     "name": "stdout",
     "output_type": "stream",
     "text": [
      "writing 1FFW.mut.104_Repair.clean_A\n",
      "writing 1FFW.mut.104_Repair.clean_B\n"
     ]
    },
    {
     "name": "stderr",
     "output_type": "stream",
     "text": [
      "@> 975 atoms and 1 coordinate set(s) were parsed in 0.02s.\n",
      "@> 514 atoms and 1 coordinate set(s) were parsed in 0.01s.\n"
     ]
    },
    {
     "name": "stdout",
     "output_type": "stream",
     "text": [
      "writing 1FFW.mut.105_Repair.clean_A\n",
      "writing 1FFW.mut.105_Repair.clean_B\n"
     ]
    },
    {
     "name": "stderr",
     "output_type": "stream",
     "text": [
      "@> 980 atoms and 1 coordinate set(s) were parsed in 0.02s.\n",
      "@> 514 atoms and 1 coordinate set(s) were parsed in 0.01s.\n"
     ]
    },
    {
     "name": "stdout",
     "output_type": "stream",
     "text": [
      "writing 1FFW.mut.106_Repair.clean_A\n",
      "writing 1FFW.mut.106_Repair.clean_B\n"
     ]
    },
    {
     "name": "stderr",
     "output_type": "stream",
     "text": [
      "@> 980 atoms and 1 coordinate set(s) were parsed in 0.01s.\n",
      "@> 514 atoms and 1 coordinate set(s) were parsed in 0.01s.\n"
     ]
    },
    {
     "name": "stdout",
     "output_type": "stream",
     "text": [
      "writing 1FFW.mut.107_Repair.clean_A\n",
      "writing 1FFW.mut.107_Repair.clean_B\n"
     ]
    },
    {
     "name": "stderr",
     "output_type": "stream",
     "text": [
      "@> 980 atoms and 1 coordinate set(s) were parsed in 0.01s.\n",
      "@> 514 atoms and 1 coordinate set(s) were parsed in 0.01s.\n"
     ]
    },
    {
     "name": "stdout",
     "output_type": "stream",
     "text": [
      "writing 1FFW.mut.108_Repair.clean_A\n",
      "writing 1FFW.mut.108_Repair.clean_B\n"
     ]
    },
    {
     "name": "stderr",
     "output_type": "stream",
     "text": [
      "@> 981 atoms and 1 coordinate set(s) were parsed in 0.01s.\n",
      "@> 514 atoms and 1 coordinate set(s) were parsed in 0.01s.\n"
     ]
    },
    {
     "name": "stdout",
     "output_type": "stream",
     "text": [
      "writing 1FFW.mut.109_Repair.clean_A\n",
      "writing 1FFW.mut.109_Repair.clean_B\n"
     ]
    },
    {
     "name": "stderr",
     "output_type": "stream",
     "text": [
      "@> 2676 atoms and 1 coordinate set(s) were parsed in 0.04s.\n",
      "@> 762 atoms and 1 coordinate set(s) were parsed in 0.02s.\n"
     ]
    },
    {
     "name": "stdout",
     "output_type": "stream",
     "text": [
      "writing 1JRH.mut.110_Repair.clean_HL\n",
      "writing 1JRH.mut.110_Repair.clean_I\n"
     ]
    },
    {
     "name": "stderr",
     "output_type": "stream",
     "text": [
      "@> 2676 atoms and 1 coordinate set(s) were parsed in 0.03s.\n",
      "@> 762 atoms and 1 coordinate set(s) were parsed in 0.01s.\n"
     ]
    },
    {
     "name": "stdout",
     "output_type": "stream",
     "text": [
      "writing 1JRH.mut.111_Repair.clean_HL\n",
      "writing 1JRH.mut.111_Repair.clean_I\n"
     ]
    },
    {
     "name": "stderr",
     "output_type": "stream",
     "text": [
      "@> 2018 atoms and 1 coordinate set(s) were parsed in 0.03s.\n",
      "@> 1235 atoms and 1 coordinate set(s) were parsed in 0.02s.\n"
     ]
    },
    {
     "name": "stdout",
     "output_type": "stream",
     "text": [
      "writing 1JTG.mut.112_Repair.clean_A\n",
      "writing 1JTG.mut.112_Repair.clean_B\n"
     ]
    },
    {
     "name": "stderr",
     "output_type": "stream",
     "text": [
      "@> 2016 atoms and 1 coordinate set(s) were parsed in 0.02s.\n",
      "@> 1235 atoms and 1 coordinate set(s) were parsed in 0.02s.\n"
     ]
    },
    {
     "name": "stdout",
     "output_type": "stream",
     "text": [
      "writing 1JTG.mut.113_Repair.clean_A\n",
      "writing 1JTG.mut.113_Repair.clean_B\n"
     ]
    },
    {
     "name": "stderr",
     "output_type": "stream",
     "text": [
      "@> 2021 atoms and 1 coordinate set(s) were parsed in 0.03s.\n",
      "@> 1235 atoms and 1 coordinate set(s) were parsed in 0.02s.\n"
     ]
    },
    {
     "name": "stdout",
     "output_type": "stream",
     "text": [
      "writing 1JTG.mut.114_Repair.clean_A\n",
      "writing 1JTG.mut.114_Repair.clean_B\n"
     ]
    },
    {
     "name": "stderr",
     "output_type": "stream",
     "text": [
      "@> 2021 atoms and 1 coordinate set(s) were parsed in 0.03s.\n",
      "@> 1235 atoms and 1 coordinate set(s) were parsed in 0.02s.\n"
     ]
    },
    {
     "name": "stdout",
     "output_type": "stream",
     "text": [
      "writing 1JTG.mut.115_Repair.clean_A\n",
      "writing 1JTG.mut.115_Repair.clean_B\n"
     ]
    },
    {
     "name": "stderr",
     "output_type": "stream",
     "text": [
      "@> 2022 atoms and 1 coordinate set(s) were parsed in 0.03s.\n",
      "@> 1232 atoms and 1 coordinate set(s) were parsed in 0.02s.\n"
     ]
    },
    {
     "name": "stdout",
     "output_type": "stream",
     "text": [
      "writing 1JTG.mut.116_Repair.clean_A\n",
      "writing 1JTG.mut.116_Repair.clean_B\n"
     ]
    },
    {
     "name": "stderr",
     "output_type": "stream",
     "text": [
      "@> 653 atoms and 1 coordinate set(s) were parsed in 0.01s.\n",
      "@> 838 atoms and 1 coordinate set(s) were parsed in 0.01s.\n"
     ]
    },
    {
     "name": "stdout",
     "output_type": "stream",
     "text": [
      "writing 1KTZ.mut.117_Repair.clean_A\n",
      "writing 1KTZ.mut.117_Repair.clean_B\n"
     ]
    },
    {
     "name": "stderr",
     "output_type": "stream",
     "text": [
      "@> 653 atoms and 1 coordinate set(s) were parsed in 0.01s.\n",
      "@> 838 atoms and 1 coordinate set(s) were parsed in 0.01s.\n"
     ]
    },
    {
     "name": "stdout",
     "output_type": "stream",
     "text": [
      "writing 1KTZ.mut.118_Repair.clean_A\n",
      "writing 1KTZ.mut.118_Repair.clean_B\n"
     ]
    },
    {
     "name": "stderr",
     "output_type": "stream",
     "text": [
      "@> 653 atoms and 1 coordinate set(s) were parsed in 0.01s.\n",
      "@> 841 atoms and 1 coordinate set(s) were parsed in 0.01s.\n"
     ]
    },
    {
     "name": "stdout",
     "output_type": "stream",
     "text": [
      "writing 1KTZ.mut.119_Repair.clean_A\n",
      "writing 1KTZ.mut.119_Repair.clean_B\n"
     ]
    },
    {
     "name": "stderr",
     "output_type": "stream",
     "text": [
      "@> 653 atoms and 1 coordinate set(s) were parsed in 0.01s.\n",
      "@> 837 atoms and 1 coordinate set(s) were parsed in 0.01s.\n"
     ]
    },
    {
     "name": "stdout",
     "output_type": "stream",
     "text": [
      "writing 1KTZ.mut.120_Repair.clean_A\n",
      "writing 1KTZ.mut.120_Repair.clean_B\n"
     ]
    },
    {
     "name": "stderr",
     "output_type": "stream",
     "text": [
      "@> 653 atoms and 1 coordinate set(s) were parsed in 0.01s.\n",
      "@> 841 atoms and 1 coordinate set(s) were parsed in 0.01s.\n"
     ]
    },
    {
     "name": "stdout",
     "output_type": "stream",
     "text": [
      "writing 1KTZ.mut.121_Repair.clean_A\n",
      "writing 1KTZ.mut.121_Repair.clean_B\n"
     ]
    },
    {
     "name": "stderr",
     "output_type": "stream",
     "text": [
      "@> 653 atoms and 1 coordinate set(s) were parsed in 0.01s.\n",
      "@> 837 atoms and 1 coordinate set(s) were parsed in 0.01s.\n"
     ]
    },
    {
     "name": "stdout",
     "output_type": "stream",
     "text": [
      "writing 1KTZ.mut.122_Repair.clean_A\n",
      "writing 1KTZ.mut.122_Repair.clean_B\n"
     ]
    },
    {
     "name": "stderr",
     "output_type": "stream",
     "text": [
      "@> 653 atoms and 1 coordinate set(s) were parsed in 0.01s.\n",
      "@> 837 atoms and 1 coordinate set(s) were parsed in 0.01s.\n"
     ]
    },
    {
     "name": "stdout",
     "output_type": "stream",
     "text": [
      "writing 1KTZ.mut.123_Repair.clean_A\n",
      "writing 1KTZ.mut.123_Repair.clean_B\n"
     ]
    },
    {
     "name": "stderr",
     "output_type": "stream",
     "text": [
      "@> 653 atoms and 1 coordinate set(s) were parsed in 0.01s.\n",
      "@> 835 atoms and 1 coordinate set(s) were parsed in 0.01s.\n"
     ]
    },
    {
     "name": "stdout",
     "output_type": "stream",
     "text": [
      "writing 1KTZ.mut.124_Repair.clean_A\n",
      "writing 1KTZ.mut.124_Repair.clean_B\n"
     ]
    },
    {
     "name": "stderr",
     "output_type": "stream",
     "text": [
      "@> 653 atoms and 1 coordinate set(s) were parsed in 0.01s.\n",
      "@> 835 atoms and 1 coordinate set(s) were parsed in 0.01s.\n"
     ]
    },
    {
     "name": "stdout",
     "output_type": "stream",
     "text": [
      "writing 1KTZ.mut.125_Repair.clean_A\n",
      "writing 1KTZ.mut.125_Repair.clean_B\n"
     ]
    },
    {
     "name": "stderr",
     "output_type": "stream",
     "text": [
      "@> 653 atoms and 1 coordinate set(s) were parsed in 0.01s.\n",
      "@> 836 atoms and 1 coordinate set(s) were parsed in 0.01s.\n"
     ]
    },
    {
     "name": "stdout",
     "output_type": "stream",
     "text": [
      "writing 1KTZ.mut.126_Repair.clean_A\n",
      "writing 1KTZ.mut.126_Repair.clean_B\n"
     ]
    },
    {
     "name": "stderr",
     "output_type": "stream",
     "text": [
      "@> 653 atoms and 1 coordinate set(s) were parsed in 0.01s.\n",
      "@> 838 atoms and 1 coordinate set(s) were parsed in 0.01s.\n"
     ]
    },
    {
     "name": "stdout",
     "output_type": "stream",
     "text": [
      "writing 1KTZ.mut.127_Repair.clean_A\n",
      "writing 1KTZ.mut.127_Repair.clean_B\n"
     ]
    },
    {
     "name": "stderr",
     "output_type": "stream",
     "text": [
      "@> 653 atoms and 1 coordinate set(s) were parsed in 0.01s.\n",
      "@> 838 atoms and 1 coordinate set(s) were parsed in 0.01s.\n"
     ]
    },
    {
     "name": "stdout",
     "output_type": "stream",
     "text": [
      "writing 1KTZ.mut.128_Repair.clean_A\n",
      "writing 1KTZ.mut.128_Repair.clean_B\n"
     ]
    },
    {
     "name": "stderr",
     "output_type": "stream",
     "text": [
      "@> 653 atoms and 1 coordinate set(s) were parsed in 0.01s.\n",
      "@> 838 atoms and 1 coordinate set(s) were parsed in 0.01s.\n"
     ]
    },
    {
     "name": "stdout",
     "output_type": "stream",
     "text": [
      "writing 1KTZ.mut.129_Repair.clean_A\n",
      "writing 1KTZ.mut.129_Repair.clean_B\n"
     ]
    },
    {
     "name": "stderr",
     "output_type": "stream",
     "text": [
      "@> 653 atoms and 1 coordinate set(s) were parsed in 0.01s.\n",
      "@> 838 atoms and 1 coordinate set(s) were parsed in 0.02s.\n"
     ]
    },
    {
     "name": "stdout",
     "output_type": "stream",
     "text": [
      "writing 1KTZ.mut.130_Repair.clean_A\n",
      "writing 1KTZ.mut.130_Repair.clean_B\n"
     ]
    },
    {
     "name": "stderr",
     "output_type": "stream",
     "text": [
      "@> 653 atoms and 1 coordinate set(s) were parsed in 0.01s.\n",
      "@> 838 atoms and 1 coordinate set(s) were parsed in 0.01s.\n"
     ]
    },
    {
     "name": "stdout",
     "output_type": "stream",
     "text": [
      "writing 1KTZ.mut.131_Repair.clean_A\n",
      "writing 1KTZ.mut.131_Repair.clean_B\n"
     ]
    },
    {
     "name": "stderr",
     "output_type": "stream",
     "text": [
      "@> 653 atoms and 1 coordinate set(s) were parsed in 0.01s.\n",
      "@> 838 atoms and 1 coordinate set(s) were parsed in 0.01s.\n"
     ]
    },
    {
     "name": "stdout",
     "output_type": "stream",
     "text": [
      "writing 1KTZ.mut.132_Repair.clean_A\n",
      "writing 1KTZ.mut.132_Repair.clean_B\n"
     ]
    },
    {
     "name": "stderr",
     "output_type": "stream",
     "text": [
      "@> 653 atoms and 1 coordinate set(s) were parsed in 0.01s.\n",
      "@> 840 atoms and 1 coordinate set(s) were parsed in 0.01s.\n"
     ]
    },
    {
     "name": "stdout",
     "output_type": "stream",
     "text": [
      "writing 1KTZ.mut.133_Repair.clean_A\n",
      "writing 1KTZ.mut.133_Repair.clean_B\n"
     ]
    },
    {
     "name": "stderr",
     "output_type": "stream",
     "text": [
      "@> 653 atoms and 1 coordinate set(s) were parsed in 0.01s.\n",
      "@> 840 atoms and 1 coordinate set(s) were parsed in 0.01s.\n"
     ]
    },
    {
     "name": "stdout",
     "output_type": "stream",
     "text": [
      "writing 1KTZ.mut.134_Repair.clean_A\n",
      "writing 1KTZ.mut.134_Repair.clean_B\n"
     ]
    },
    {
     "name": "stderr",
     "output_type": "stream",
     "text": [
      "@> 653 atoms and 1 coordinate set(s) were parsed in 0.01s.\n",
      "@> 843 atoms and 1 coordinate set(s) were parsed in 0.01s.\n"
     ]
    },
    {
     "name": "stdout",
     "output_type": "stream",
     "text": [
      "writing 1KTZ.mut.135_Repair.clean_A\n",
      "writing 1KTZ.mut.135_Repair.clean_B\n"
     ]
    },
    {
     "name": "stderr",
     "output_type": "stream",
     "text": [
      "@> 653 atoms and 1 coordinate set(s) were parsed in 0.01s.\n",
      "@> 839 atoms and 1 coordinate set(s) were parsed in 0.01s.\n"
     ]
    },
    {
     "name": "stdout",
     "output_type": "stream",
     "text": [
      "writing 1KTZ.mut.136_Repair.clean_A\n",
      "writing 1KTZ.mut.136_Repair.clean_B\n"
     ]
    },
    {
     "name": "stderr",
     "output_type": "stream",
     "text": [
      "@> 653 atoms and 1 coordinate set(s) were parsed in 0.01s.\n",
      "@> 839 atoms and 1 coordinate set(s) were parsed in 0.02s.\n"
     ]
    },
    {
     "name": "stdout",
     "output_type": "stream",
     "text": [
      "writing 1KTZ.mut.137_Repair.clean_A\n",
      "writing 1KTZ.mut.137_Repair.clean_B\n"
     ]
    },
    {
     "name": "stderr",
     "output_type": "stream",
     "text": [
      "@> 653 atoms and 1 coordinate set(s) were parsed in 0.01s.\n",
      "@> 839 atoms and 1 coordinate set(s) were parsed in 0.01s.\n"
     ]
    },
    {
     "name": "stdout",
     "output_type": "stream",
     "text": [
      "writing 1KTZ.mut.138_Repair.clean_A\n",
      "writing 1KTZ.mut.138_Repair.clean_B\n"
     ]
    },
    {
     "name": "stderr",
     "output_type": "stream",
     "text": [
      "@> 1454 atoms and 1 coordinate set(s) were parsed in 0.02s.\n",
      "@> 3265 atoms and 1 coordinate set(s) were parsed in 0.05s.\n"
     ]
    },
    {
     "name": "stdout",
     "output_type": "stream",
     "text": [
      "writing 1MHP.mut.139_Repair.clean_A\n",
      "writing 1MHP.mut.139_Repair.clean_HL\n"
     ]
    },
    {
     "name": "stderr",
     "output_type": "stream",
     "text": [
      "@> 1454 atoms and 1 coordinate set(s) were parsed in 0.02s.\n",
      "@> 3263 atoms and 1 coordinate set(s) were parsed in 0.04s.\n"
     ]
    },
    {
     "name": "stdout",
     "output_type": "stream",
     "text": [
      "writing 1MHP.mut.140_Repair.clean_A\n",
      "writing 1MHP.mut.140_Repair.clean_HL\n"
     ]
    },
    {
     "name": "stderr",
     "output_type": "stream",
     "text": [
      "@> 1454 atoms and 1 coordinate set(s) were parsed in 0.02s.\n",
      "@> 3269 atoms and 1 coordinate set(s) were parsed in 0.04s.\n"
     ]
    },
    {
     "name": "stdout",
     "output_type": "stream",
     "text": [
      "writing 1MHP.mut.141_Repair.clean_A\n",
      "writing 1MHP.mut.141_Repair.clean_HL\n"
     ]
    },
    {
     "name": "stderr",
     "output_type": "stream",
     "text": [
      "@> 1454 atoms and 1 coordinate set(s) were parsed in 0.02s.\n",
      "@> 3266 atoms and 1 coordinate set(s) were parsed in 0.04s.\n"
     ]
    },
    {
     "name": "stdout",
     "output_type": "stream",
     "text": [
      "writing 1MHP.mut.142_Repair.clean_A\n",
      "writing 1MHP.mut.142_Repair.clean_HL\n"
     ]
    },
    {
     "name": "stderr",
     "output_type": "stream",
     "text": [
      "@> 1454 atoms and 1 coordinate set(s) were parsed in 0.02s.\n",
      "@> 3266 atoms and 1 coordinate set(s) were parsed in 0.04s.\n"
     ]
    },
    {
     "name": "stdout",
     "output_type": "stream",
     "text": [
      "writing 1MHP.mut.143_Repair.clean_A\n",
      "writing 1MHP.mut.143_Repair.clean_HL\n"
     ]
    },
    {
     "name": "stderr",
     "output_type": "stream",
     "text": [
      "@> 1454 atoms and 1 coordinate set(s) were parsed in 0.02s.\n",
      "@> 3266 atoms and 1 coordinate set(s) were parsed in 0.04s.\n"
     ]
    },
    {
     "name": "stdout",
     "output_type": "stream",
     "text": [
      "writing 1MHP.mut.144_Repair.clean_A\n",
      "writing 1MHP.mut.144_Repair.clean_HL\n"
     ]
    },
    {
     "name": "stderr",
     "output_type": "stream",
     "text": [
      "@> 1454 atoms and 1 coordinate set(s) were parsed in 0.02s.\n",
      "@> 3264 atoms and 1 coordinate set(s) were parsed in 0.04s.\n"
     ]
    },
    {
     "name": "stdout",
     "output_type": "stream",
     "text": [
      "writing 1MHP.mut.145_Repair.clean_A\n",
      "writing 1MHP.mut.145_Repair.clean_HL\n"
     ]
    },
    {
     "name": "stderr",
     "output_type": "stream",
     "text": [
      "@> 1454 atoms and 1 coordinate set(s) were parsed in 0.02s.\n",
      "@> 3265 atoms and 1 coordinate set(s) were parsed in 0.04s.\n"
     ]
    },
    {
     "name": "stdout",
     "output_type": "stream",
     "text": [
      "writing 1MHP.mut.146_Repair.clean_A\n",
      "writing 1MHP.mut.146_Repair.clean_HL\n"
     ]
    },
    {
     "name": "stderr",
     "output_type": "stream",
     "text": [
      "@> 1454 atoms and 1 coordinate set(s) were parsed in 0.02s.\n",
      "@> 3264 atoms and 1 coordinate set(s) were parsed in 0.04s.\n"
     ]
    },
    {
     "name": "stdout",
     "output_type": "stream",
     "text": [
      "writing 1MHP.mut.147_Repair.clean_A\n",
      "writing 1MHP.mut.147_Repair.clean_HL\n"
     ]
    },
    {
     "name": "stderr",
     "output_type": "stream",
     "text": [
      "@> 1454 atoms and 1 coordinate set(s) were parsed in 0.02s.\n",
      "@> 3263 atoms and 1 coordinate set(s) were parsed in 0.04s.\n"
     ]
    },
    {
     "name": "stdout",
     "output_type": "stream",
     "text": [
      "writing 1MHP.mut.148_Repair.clean_A\n",
      "writing 1MHP.mut.148_Repair.clean_HL\n"
     ]
    },
    {
     "name": "stderr",
     "output_type": "stream",
     "text": [
      "@> 1454 atoms and 1 coordinate set(s) were parsed in 0.02s.\n",
      "@> 3266 atoms and 1 coordinate set(s) were parsed in 0.04s.\n"
     ]
    },
    {
     "name": "stdout",
     "output_type": "stream",
     "text": [
      "writing 1MHP.mut.149_Repair.clean_A\n",
      "writing 1MHP.mut.149_Repair.clean_HL\n"
     ]
    },
    {
     "name": "stderr",
     "output_type": "stream",
     "text": [
      "@> 1454 atoms and 1 coordinate set(s) were parsed in 0.02s.\n",
      "@> 3267 atoms and 1 coordinate set(s) were parsed in 0.04s.\n"
     ]
    },
    {
     "name": "stdout",
     "output_type": "stream",
     "text": [
      "writing 1MHP.mut.150_Repair.clean_A\n",
      "writing 1MHP.mut.150_Repair.clean_HL\n"
     ]
    },
    {
     "name": "stderr",
     "output_type": "stream",
     "text": [
      "@> 1454 atoms and 1 coordinate set(s) were parsed in 0.02s.\n",
      "@> 3264 atoms and 1 coordinate set(s) were parsed in 0.04s.\n"
     ]
    },
    {
     "name": "stdout",
     "output_type": "stream",
     "text": [
      "writing 1MHP.mut.151_Repair.clean_A\n",
      "writing 1MHP.mut.151_Repair.clean_HL\n"
     ]
    },
    {
     "name": "stderr",
     "output_type": "stream",
     "text": [
      "@> 1454 atoms and 1 coordinate set(s) were parsed in 0.03s.\n",
      "@> 3272 atoms and 1 coordinate set(s) were parsed in 0.05s.\n"
     ]
    },
    {
     "name": "stdout",
     "output_type": "stream",
     "text": [
      "writing 1MHP.mut.152_Repair.clean_A\n",
      "writing 1MHP.mut.152_Repair.clean_HL\n"
     ]
    },
    {
     "name": "stderr",
     "output_type": "stream",
     "text": [
      "@> 1454 atoms and 1 coordinate set(s) were parsed in 0.02s.\n",
      "@> 3266 atoms and 1 coordinate set(s) were parsed in 0.05s.\n"
     ]
    },
    {
     "name": "stdout",
     "output_type": "stream",
     "text": [
      "writing 1MHP.mut.153_Repair.clean_A\n",
      "writing 1MHP.mut.153_Repair.clean_HL\n"
     ]
    },
    {
     "name": "stderr",
     "output_type": "stream",
     "text": [
      "@> 1454 atoms and 1 coordinate set(s) were parsed in 0.03s.\n",
      "@> 3266 atoms and 1 coordinate set(s) were parsed in 0.05s.\n"
     ]
    },
    {
     "name": "stdout",
     "output_type": "stream",
     "text": [
      "writing 1MHP.mut.154_Repair.clean_A\n",
      "writing 1MHP.mut.154_Repair.clean_HL\n"
     ]
    },
    {
     "name": "stderr",
     "output_type": "stream",
     "text": [
      "@> 1454 atoms and 1 coordinate set(s) were parsed in 0.03s.\n",
      "@> 3266 atoms and 1 coordinate set(s) were parsed in 0.04s.\n"
     ]
    },
    {
     "name": "stdout",
     "output_type": "stream",
     "text": [
      "writing 1MHP.mut.155_Repair.clean_A\n",
      "writing 1MHP.mut.155_Repair.clean_HL\n"
     ]
    },
    {
     "name": "stderr",
     "output_type": "stream",
     "text": [
      "@> 1454 atoms and 1 coordinate set(s) were parsed in 0.02s.\n",
      "@> 3265 atoms and 1 coordinate set(s) were parsed in 0.04s.\n"
     ]
    },
    {
     "name": "stdout",
     "output_type": "stream",
     "text": [
      "writing 1MHP.mut.156_Repair.clean_A\n",
      "writing 1MHP.mut.156_Repair.clean_HL\n"
     ]
    },
    {
     "name": "stderr",
     "output_type": "stream",
     "text": [
      "@> 1454 atoms and 1 coordinate set(s) were parsed in 0.06s.\n"
     ]
    },
    {
     "name": "stdout",
     "output_type": "stream",
     "text": [
      "writing 1MHP.mut.157_Repair.clean_A\n"
     ]
    },
    {
     "name": "stderr",
     "output_type": "stream",
     "text": [
      "@> 3270 atoms and 1 coordinate set(s) were parsed in 0.09s.\n"
     ]
    },
    {
     "name": "stdout",
     "output_type": "stream",
     "text": [
      "writing 1MHP.mut.157_Repair.clean_HL\n"
     ]
    },
    {
     "name": "stderr",
     "output_type": "stream",
     "text": [
      "@> 1454 atoms and 1 coordinate set(s) were parsed in 0.03s.\n",
      "@> 3264 atoms and 1 coordinate set(s) were parsed in 0.05s.\n"
     ]
    },
    {
     "name": "stdout",
     "output_type": "stream",
     "text": [
      "writing 1MHP.mut.158_Repair.clean_A\n",
      "writing 1MHP.mut.158_Repair.clean_HL\n"
     ]
    },
    {
     "name": "stderr",
     "output_type": "stream",
     "text": [
      "@> 1454 atoms and 1 coordinate set(s) were parsed in 0.02s.\n",
      "@> 3261 atoms and 1 coordinate set(s) were parsed in 0.04s.\n"
     ]
    },
    {
     "name": "stdout",
     "output_type": "stream",
     "text": [
      "writing 1MHP.mut.159_Repair.clean_A\n",
      "writing 1MHP.mut.159_Repair.clean_HL\n"
     ]
    },
    {
     "name": "stderr",
     "output_type": "stream",
     "text": [
      "@> 1454 atoms and 1 coordinate set(s) were parsed in 0.02s.\n",
      "@> 3262 atoms and 1 coordinate set(s) were parsed in 0.04s.\n"
     ]
    },
    {
     "name": "stdout",
     "output_type": "stream",
     "text": [
      "writing 1MHP.mut.160_Repair.clean_A\n",
      "writing 1MHP.mut.160_Repair.clean_HL\n"
     ]
    },
    {
     "name": "stderr",
     "output_type": "stream",
     "text": [
      "@> 1454 atoms and 1 coordinate set(s) were parsed in 0.02s.\n",
      "@> 3261 atoms and 1 coordinate set(s) were parsed in 0.04s.\n"
     ]
    },
    {
     "name": "stdout",
     "output_type": "stream",
     "text": [
      "writing 1MHP.mut.161_Repair.clean_A\n",
      "writing 1MHP.mut.161_Repair.clean_HL\n"
     ]
    },
    {
     "name": "stderr",
     "output_type": "stream",
     "text": [
      "@> 1454 atoms and 1 coordinate set(s) were parsed in 0.03s.\n"
     ]
    },
    {
     "name": "stdout",
     "output_type": "stream",
     "text": [
      "writing 1MHP.mut.162_Repair.clean_A\n"
     ]
    },
    {
     "name": "stderr",
     "output_type": "stream",
     "text": [
      "@> 3262 atoms and 1 coordinate set(s) were parsed in 0.16s.\n"
     ]
    },
    {
     "name": "stdout",
     "output_type": "stream",
     "text": [
      "writing 1MHP.mut.162_Repair.clean_HL\n"
     ]
    },
    {
     "name": "stderr",
     "output_type": "stream",
     "text": [
      "@> 1454 atoms and 1 coordinate set(s) were parsed in 0.06s.\n"
     ]
    },
    {
     "name": "stdout",
     "output_type": "stream",
     "text": [
      "writing 1MHP.mut.163_Repair.clean_A\n"
     ]
    },
    {
     "name": "stderr",
     "output_type": "stream",
     "text": [
      "@> 3262 atoms and 1 coordinate set(s) were parsed in 0.09s.\n"
     ]
    },
    {
     "name": "stdout",
     "output_type": "stream",
     "text": [
      "writing 1MHP.mut.163_Repair.clean_HL\n"
     ]
    },
    {
     "name": "stderr",
     "output_type": "stream",
     "text": [
      "@> 1454 atoms and 1 coordinate set(s) were parsed in 0.03s.\n",
      "@> 3260 atoms and 1 coordinate set(s) were parsed in 0.04s.\n"
     ]
    },
    {
     "name": "stdout",
     "output_type": "stream",
     "text": [
      "writing 1MHP.mut.164_Repair.clean_A\n",
      "writing 1MHP.mut.164_Repair.clean_HL\n"
     ]
    },
    {
     "name": "stderr",
     "output_type": "stream",
     "text": [
      "@> 1454 atoms and 1 coordinate set(s) were parsed in 0.04s.\n",
      "@> 3261 atoms and 1 coordinate set(s) were parsed in 0.04s.\n"
     ]
    },
    {
     "name": "stdout",
     "output_type": "stream",
     "text": [
      "writing 1MHP.mut.165_Repair.clean_A\n",
      "writing 1MHP.mut.165_Repair.clean_HL\n"
     ]
    },
    {
     "name": "stderr",
     "output_type": "stream",
     "text": [
      "@> 1454 atoms and 1 coordinate set(s) were parsed in 0.03s.\n",
      "@> 3265 atoms and 1 coordinate set(s) were parsed in 0.05s.\n"
     ]
    },
    {
     "name": "stdout",
     "output_type": "stream",
     "text": [
      "writing 1MHP.mut.166_Repair.clean_A\n",
      "writing 1MHP.mut.166_Repair.clean_HL\n"
     ]
    },
    {
     "name": "stderr",
     "output_type": "stream",
     "text": [
      "@> 1454 atoms and 1 coordinate set(s) were parsed in 0.02s.\n",
      "@> 3263 atoms and 1 coordinate set(s) were parsed in 0.04s.\n"
     ]
    },
    {
     "name": "stdout",
     "output_type": "stream",
     "text": [
      "writing 1MHP.mut.167_Repair.clean_A\n",
      "writing 1MHP.mut.167_Repair.clean_HL\n"
     ]
    },
    {
     "name": "stderr",
     "output_type": "stream",
     "text": [
      "@> 1454 atoms and 1 coordinate set(s) were parsed in 0.02s.\n",
      "@> 3264 atoms and 1 coordinate set(s) were parsed in 0.05s.\n"
     ]
    },
    {
     "name": "stdout",
     "output_type": "stream",
     "text": [
      "writing 1MHP.mut.168_Repair.clean_A\n",
      "writing 1MHP.mut.168_Repair.clean_HL\n"
     ]
    },
    {
     "name": "stderr",
     "output_type": "stream",
     "text": [
      "@> 1454 atoms and 1 coordinate set(s) were parsed in 0.02s.\n",
      "@> 3263 atoms and 1 coordinate set(s) were parsed in 0.04s.\n"
     ]
    },
    {
     "name": "stdout",
     "output_type": "stream",
     "text": [
      "writing 1MHP.mut.169_Repair.clean_A\n",
      "writing 1MHP.mut.169_Repair.clean_HL\n"
     ]
    },
    {
     "name": "stderr",
     "output_type": "stream",
     "text": [
      "@> 1454 atoms and 1 coordinate set(s) were parsed in 0.03s.\n",
      "@> 3263 atoms and 1 coordinate set(s) were parsed in 0.04s.\n"
     ]
    },
    {
     "name": "stdout",
     "output_type": "stream",
     "text": [
      "writing 1MHP.mut.170_Repair.clean_A\n",
      "writing 1MHP.mut.170_Repair.clean_HL\n"
     ]
    },
    {
     "name": "stderr",
     "output_type": "stream",
     "text": [
      "@> 1454 atoms and 1 coordinate set(s) were parsed in 0.02s.\n",
      "@> 3264 atoms and 1 coordinate set(s) were parsed in 0.04s.\n"
     ]
    },
    {
     "name": "stdout",
     "output_type": "stream",
     "text": [
      "writing 1MHP.mut.171_Repair.clean_A\n",
      "writing 1MHP.mut.171_Repair.clean_HL\n"
     ]
    },
    {
     "name": "stderr",
     "output_type": "stream",
     "text": [
      "@> 1454 atoms and 1 coordinate set(s) were parsed in 0.02s.\n",
      "@> 3262 atoms and 1 coordinate set(s) were parsed in 0.04s.\n"
     ]
    },
    {
     "name": "stdout",
     "output_type": "stream",
     "text": [
      "writing 1MHP.mut.172_Repair.clean_A\n",
      "writing 1MHP.mut.172_Repair.clean_HL\n"
     ]
    },
    {
     "name": "stderr",
     "output_type": "stream",
     "text": [
      "@> 1454 atoms and 1 coordinate set(s) were parsed in 0.02s.\n",
      "@> 3264 atoms and 1 coordinate set(s) were parsed in 0.04s.\n"
     ]
    },
    {
     "name": "stdout",
     "output_type": "stream",
     "text": [
      "writing 1MHP.mut.173_Repair.clean_A\n",
      "writing 1MHP.mut.173_Repair.clean_HL\n"
     ]
    },
    {
     "name": "stderr",
     "output_type": "stream",
     "text": [
      "@> 1454 atoms and 1 coordinate set(s) were parsed in 0.02s.\n",
      "@> 3264 atoms and 1 coordinate set(s) were parsed in 0.06s.\n"
     ]
    },
    {
     "name": "stdout",
     "output_type": "stream",
     "text": [
      "writing 1MHP.mut.174_Repair.clean_A\n",
      "writing 1MHP.mut.174_Repair.clean_HL\n"
     ]
    },
    {
     "name": "stderr",
     "output_type": "stream",
     "text": [
      "@> 1454 atoms and 1 coordinate set(s) were parsed in 0.02s.\n",
      "@> 3262 atoms and 1 coordinate set(s) were parsed in 0.04s.\n"
     ]
    },
    {
     "name": "stdout",
     "output_type": "stream",
     "text": [
      "writing 1MHP.mut.175_Repair.clean_A\n",
      "writing 1MHP.mut.175_Repair.clean_HL\n"
     ]
    },
    {
     "name": "stderr",
     "output_type": "stream",
     "text": [
      "@> 1454 atoms and 1 coordinate set(s) were parsed in 0.02s.\n",
      "@> 3259 atoms and 1 coordinate set(s) were parsed in 0.04s.\n"
     ]
    },
    {
     "name": "stdout",
     "output_type": "stream",
     "text": [
      "writing 1MHP.mut.176_Repair.clean_A\n",
      "writing 1MHP.mut.176_Repair.clean_HL\n"
     ]
    },
    {
     "name": "stderr",
     "output_type": "stream",
     "text": [
      "@> 1454 atoms and 1 coordinate set(s) were parsed in 0.02s.\n",
      "@> 3259 atoms and 1 coordinate set(s) were parsed in 0.05s.\n"
     ]
    },
    {
     "name": "stdout",
     "output_type": "stream",
     "text": [
      "writing 1MHP.mut.177_Repair.clean_A\n",
      "writing 1MHP.mut.177_Repair.clean_HL\n"
     ]
    },
    {
     "name": "stderr",
     "output_type": "stream",
     "text": [
      "@> 1454 atoms and 1 coordinate set(s) were parsed in 0.02s.\n",
      "@> 3264 atoms and 1 coordinate set(s) were parsed in 0.04s.\n"
     ]
    },
    {
     "name": "stdout",
     "output_type": "stream",
     "text": [
      "writing 1MHP.mut.178_Repair.clean_A\n",
      "writing 1MHP.mut.178_Repair.clean_HL\n"
     ]
    },
    {
     "name": "stderr",
     "output_type": "stream",
     "text": [
      "@> 1454 atoms and 1 coordinate set(s) were parsed in 0.02s.\n",
      "@> 3259 atoms and 1 coordinate set(s) were parsed in 0.04s.\n"
     ]
    },
    {
     "name": "stdout",
     "output_type": "stream",
     "text": [
      "writing 1MHP.mut.179_Repair.clean_A\n",
      "writing 1MHP.mut.179_Repair.clean_HL\n"
     ]
    },
    {
     "name": "stderr",
     "output_type": "stream",
     "text": [
      "@> 1454 atoms and 1 coordinate set(s) were parsed in 0.02s.\n",
      "@> 3267 atoms and 1 coordinate set(s) were parsed in 0.04s.\n"
     ]
    },
    {
     "name": "stdout",
     "output_type": "stream",
     "text": [
      "writing 1MHP.mut.180_Repair.clean_A\n",
      "writing 1MHP.mut.180_Repair.clean_HL\n"
     ]
    },
    {
     "name": "stderr",
     "output_type": "stream",
     "text": [
      "@> 1454 atoms and 1 coordinate set(s) were parsed in 0.03s.\n",
      "@> 3264 atoms and 1 coordinate set(s) were parsed in 0.04s.\n"
     ]
    },
    {
     "name": "stdout",
     "output_type": "stream",
     "text": [
      "writing 1MHP.mut.181_Repair.clean_A\n",
      "writing 1MHP.mut.181_Repair.clean_HL\n"
     ]
    },
    {
     "name": "stderr",
     "output_type": "stream",
     "text": [
      "@> 1454 atoms and 1 coordinate set(s) were parsed in 0.02s.\n",
      "@> 3261 atoms and 1 coordinate set(s) were parsed in 0.04s.\n"
     ]
    },
    {
     "name": "stdout",
     "output_type": "stream",
     "text": [
      "writing 1MHP.mut.182_Repair.clean_A\n",
      "writing 1MHP.mut.182_Repair.clean_HL\n"
     ]
    },
    {
     "name": "stderr",
     "output_type": "stream",
     "text": [
      "@> 1454 atoms and 1 coordinate set(s) were parsed in 0.02s.\n",
      "@> 3263 atoms and 1 coordinate set(s) were parsed in 0.04s.\n"
     ]
    },
    {
     "name": "stdout",
     "output_type": "stream",
     "text": [
      "writing 1MHP.mut.183_Repair.clean_A\n",
      "writing 1MHP.mut.183_Repair.clean_HL\n"
     ]
    },
    {
     "name": "stderr",
     "output_type": "stream",
     "text": [
      "@> 1454 atoms and 1 coordinate set(s) were parsed in 0.02s.\n",
      "@> 3266 atoms and 1 coordinate set(s) were parsed in 0.04s.\n"
     ]
    },
    {
     "name": "stdout",
     "output_type": "stream",
     "text": [
      "writing 1MHP.mut.184_Repair.clean_A\n",
      "writing 1MHP.mut.184_Repair.clean_HL\n"
     ]
    },
    {
     "name": "stderr",
     "output_type": "stream",
     "text": [
      "@> 1454 atoms and 1 coordinate set(s) were parsed in 0.02s.\n",
      "@> 3265 atoms and 1 coordinate set(s) were parsed in 0.05s.\n"
     ]
    },
    {
     "name": "stdout",
     "output_type": "stream",
     "text": [
      "writing 1MHP.mut.185_Repair.clean_A\n",
      "writing 1MHP.mut.185_Repair.clean_HL\n"
     ]
    },
    {
     "name": "stderr",
     "output_type": "stream",
     "text": [
      "@> 1454 atoms and 1 coordinate set(s) were parsed in 0.02s.\n",
      "@> 3263 atoms and 1 coordinate set(s) were parsed in 0.04s.\n"
     ]
    },
    {
     "name": "stdout",
     "output_type": "stream",
     "text": [
      "writing 1MHP.mut.186_Repair.clean_A\n",
      "writing 1MHP.mut.186_Repair.clean_HL\n"
     ]
    },
    {
     "name": "stderr",
     "output_type": "stream",
     "text": [
      "@> 1454 atoms and 1 coordinate set(s) were parsed in 0.02s.\n",
      "@> 3268 atoms and 1 coordinate set(s) were parsed in 0.04s.\n"
     ]
    },
    {
     "name": "stdout",
     "output_type": "stream",
     "text": [
      "writing 1MHP.mut.187_Repair.clean_A\n",
      "writing 1MHP.mut.187_Repair.clean_HL\n"
     ]
    },
    {
     "name": "stderr",
     "output_type": "stream",
     "text": [
      "@> 1454 atoms and 1 coordinate set(s) were parsed in 0.02s.\n",
      "@> 3266 atoms and 1 coordinate set(s) were parsed in 0.04s.\n"
     ]
    },
    {
     "name": "stdout",
     "output_type": "stream",
     "text": [
      "writing 1MHP.mut.188_Repair.clean_A\n",
      "writing 1MHP.mut.188_Repair.clean_HL\n"
     ]
    },
    {
     "name": "stderr",
     "output_type": "stream",
     "text": [
      "@> 1454 atoms and 1 coordinate set(s) were parsed in 0.02s.\n",
      "@> 3263 atoms and 1 coordinate set(s) were parsed in 0.04s.\n"
     ]
    },
    {
     "name": "stdout",
     "output_type": "stream",
     "text": [
      "writing 1MHP.mut.189_Repair.clean_A\n",
      "writing 1MHP.mut.189_Repair.clean_HL\n"
     ]
    },
    {
     "name": "stderr",
     "output_type": "stream",
     "text": [
      "@> 1454 atoms and 1 coordinate set(s) were parsed in 0.02s.\n",
      "@> 3261 atoms and 1 coordinate set(s) were parsed in 0.04s.\n"
     ]
    },
    {
     "name": "stdout",
     "output_type": "stream",
     "text": [
      "writing 1MHP.mut.190_Repair.clean_A\n",
      "writing 1MHP.mut.190_Repair.clean_HL\n"
     ]
    },
    {
     "name": "stderr",
     "output_type": "stream",
     "text": [
      "@> 1454 atoms and 1 coordinate set(s) were parsed in 0.02s.\n",
      "@> 3268 atoms and 1 coordinate set(s) were parsed in 0.04s.\n"
     ]
    },
    {
     "name": "stdout",
     "output_type": "stream",
     "text": [
      "writing 1MHP.mut.191_Repair.clean_A\n",
      "writing 1MHP.mut.191_Repair.clean_HL\n"
     ]
    },
    {
     "name": "stderr",
     "output_type": "stream",
     "text": [
      "@> 1454 atoms and 1 coordinate set(s) were parsed in 0.02s.\n",
      "@> 3266 atoms and 1 coordinate set(s) were parsed in 0.04s.\n"
     ]
    },
    {
     "name": "stdout",
     "output_type": "stream",
     "text": [
      "writing 1MHP.mut.192_Repair.clean_A\n",
      "writing 1MHP.mut.192_Repair.clean_HL\n"
     ]
    },
    {
     "name": "stderr",
     "output_type": "stream",
     "text": [
      "@> 1454 atoms and 1 coordinate set(s) were parsed in 0.02s.\n",
      "@> 3262 atoms and 1 coordinate set(s) were parsed in 0.04s.\n"
     ]
    },
    {
     "name": "stdout",
     "output_type": "stream",
     "text": [
      "writing 1MHP.mut.193_Repair.clean_A\n",
      "writing 1MHP.mut.193_Repair.clean_HL\n"
     ]
    },
    {
     "name": "stderr",
     "output_type": "stream",
     "text": [
      "@> 1454 atoms and 1 coordinate set(s) were parsed in 0.02s.\n",
      "@> 3263 atoms and 1 coordinate set(s) were parsed in 0.04s.\n"
     ]
    },
    {
     "name": "stdout",
     "output_type": "stream",
     "text": [
      "writing 1MHP.mut.194_Repair.clean_A\n",
      "writing 1MHP.mut.194_Repair.clean_HL\n"
     ]
    },
    {
     "name": "stderr",
     "output_type": "stream",
     "text": [
      "@> 1454 atoms and 1 coordinate set(s) were parsed in 0.02s.\n",
      "@> 3263 atoms and 1 coordinate set(s) were parsed in 0.04s.\n"
     ]
    },
    {
     "name": "stdout",
     "output_type": "stream",
     "text": [
      "writing 1MHP.mut.195_Repair.clean_A\n",
      "writing 1MHP.mut.195_Repair.clean_HL\n"
     ]
    },
    {
     "name": "stderr",
     "output_type": "stream",
     "text": [
      "@> 1454 atoms and 1 coordinate set(s) were parsed in 0.03s.\n",
      "@> 3265 atoms and 1 coordinate set(s) were parsed in 0.05s.\n"
     ]
    },
    {
     "name": "stdout",
     "output_type": "stream",
     "text": [
      "writing 1MHP.mut.196_Repair.clean_A\n",
      "writing 1MHP.mut.196_Repair.clean_HL\n"
     ]
    },
    {
     "name": "stderr",
     "output_type": "stream",
     "text": [
      "@> 1454 atoms and 1 coordinate set(s) were parsed in 0.03s.\n",
      "@> 3266 atoms and 1 coordinate set(s) were parsed in 0.04s.\n"
     ]
    },
    {
     "name": "stdout",
     "output_type": "stream",
     "text": [
      "writing 1MHP.mut.197_Repair.clean_A\n",
      "writing 1MHP.mut.197_Repair.clean_HL\n"
     ]
    },
    {
     "name": "stderr",
     "output_type": "stream",
     "text": [
      "@> 1454 atoms and 1 coordinate set(s) were parsed in 0.03s.\n"
     ]
    },
    {
     "name": "stdout",
     "output_type": "stream",
     "text": [
      "writing 1MHP.mut.198_Repair.clean_A\n"
     ]
    },
    {
     "name": "stderr",
     "output_type": "stream",
     "text": [
      "@> 3262 atoms and 1 coordinate set(s) were parsed in 0.08s.\n"
     ]
    },
    {
     "name": "stdout",
     "output_type": "stream",
     "text": [
      "writing 1MHP.mut.198_Repair.clean_HL\n"
     ]
    },
    {
     "name": "stderr",
     "output_type": "stream",
     "text": [
      "@> 1454 atoms and 1 coordinate set(s) were parsed in 0.04s.\n"
     ]
    },
    {
     "name": "stdout",
     "output_type": "stream",
     "text": [
      "writing 1MHP.mut.199_Repair.clean_A\n"
     ]
    },
    {
     "name": "stderr",
     "output_type": "stream",
     "text": [
      "@> 3267 atoms and 1 coordinate set(s) were parsed in 0.09s.\n"
     ]
    },
    {
     "name": "stdout",
     "output_type": "stream",
     "text": [
      "writing 1MHP.mut.199_Repair.clean_HL\n"
     ]
    },
    {
     "name": "stderr",
     "output_type": "stream",
     "text": [
      "@> 1454 atoms and 1 coordinate set(s) were parsed in 0.04s.\n",
      "@> 3265 atoms and 1 coordinate set(s) were parsed in 0.05s.\n"
     ]
    },
    {
     "name": "stdout",
     "output_type": "stream",
     "text": [
      "writing 1MHP.mut.200_Repair.clean_A\n",
      "writing 1MHP.mut.200_Repair.clean_HL\n"
     ]
    },
    {
     "name": "stderr",
     "output_type": "stream",
     "text": [
      "@> 1454 atoms and 1 coordinate set(s) were parsed in 0.02s.\n",
      "@> 3265 atoms and 1 coordinate set(s) were parsed in 0.05s.\n"
     ]
    },
    {
     "name": "stdout",
     "output_type": "stream",
     "text": [
      "writing 1MHP.mut.201_Repair.clean_A\n",
      "writing 1MHP.mut.201_Repair.clean_HL\n"
     ]
    },
    {
     "name": "stderr",
     "output_type": "stream",
     "text": [
      "@> 1454 atoms and 1 coordinate set(s) were parsed in 0.02s.\n",
      "@> 3265 atoms and 1 coordinate set(s) were parsed in 0.04s.\n"
     ]
    },
    {
     "name": "stdout",
     "output_type": "stream",
     "text": [
      "writing 1MHP.mut.202_Repair.clean_A\n",
      "writing 1MHP.mut.202_Repair.clean_HL\n"
     ]
    },
    {
     "name": "stderr",
     "output_type": "stream",
     "text": [
      "@> 1454 atoms and 1 coordinate set(s) were parsed in 0.02s.\n",
      "@> 3267 atoms and 1 coordinate set(s) were parsed in 0.04s.\n"
     ]
    },
    {
     "name": "stdout",
     "output_type": "stream",
     "text": [
      "writing 1MHP.mut.203_Repair.clean_A\n",
      "writing 1MHP.mut.203_Repair.clean_HL\n"
     ]
    },
    {
     "name": "stderr",
     "output_type": "stream",
     "text": [
      "@> 1454 atoms and 1 coordinate set(s) were parsed in 0.02s.\n",
      "@> 3263 atoms and 1 coordinate set(s) were parsed in 0.04s.\n"
     ]
    },
    {
     "name": "stdout",
     "output_type": "stream",
     "text": [
      "writing 1MHP.mut.204_Repair.clean_A\n",
      "writing 1MHP.mut.204_Repair.clean_HL\n"
     ]
    },
    {
     "name": "stderr",
     "output_type": "stream",
     "text": [
      "@> 1454 atoms and 1 coordinate set(s) were parsed in 0.02s.\n",
      "@> 3270 atoms and 1 coordinate set(s) were parsed in 0.04s.\n"
     ]
    },
    {
     "name": "stdout",
     "output_type": "stream",
     "text": [
      "writing 1MHP.mut.205_Repair.clean_A\n",
      "writing 1MHP.mut.205_Repair.clean_HL\n"
     ]
    },
    {
     "name": "stderr",
     "output_type": "stream",
     "text": [
      "@> 1454 atoms and 1 coordinate set(s) were parsed in 0.02s.\n",
      "@> 3257 atoms and 1 coordinate set(s) were parsed in 0.04s.\n"
     ]
    },
    {
     "name": "stdout",
     "output_type": "stream",
     "text": [
      "writing 1MHP.mut.206_Repair.clean_A\n",
      "writing 1MHP.mut.206_Repair.clean_HL\n"
     ]
    },
    {
     "name": "stderr",
     "output_type": "stream",
     "text": [
      "@> 1001 atoms and 1 coordinate set(s) were parsed in 0.02s.\n",
      "@> 3289 atoms and 1 coordinate set(s) were parsed in 0.04s.\n"
     ]
    },
    {
     "name": "stdout",
     "output_type": "stream",
     "text": [
      "writing 1MLC.mut.207_Repair.clean_E\n",
      "writing 1MLC.mut.207_Repair.clean_HL\n"
     ]
    },
    {
     "name": "stderr",
     "output_type": "stream",
     "text": [
      "@> 1001 atoms and 1 coordinate set(s) were parsed in 0.02s.\n",
      "@> 3289 atoms and 1 coordinate set(s) were parsed in 0.04s.\n"
     ]
    },
    {
     "name": "stdout",
     "output_type": "stream",
     "text": [
      "writing 1MLC.mut.208_Repair.clean_E\n",
      "writing 1MLC.mut.208_Repair.clean_HL\n"
     ]
    },
    {
     "name": "stderr",
     "output_type": "stream",
     "text": [
      "@> 1001 atoms and 1 coordinate set(s) were parsed in 0.02s.\n",
      "@> 3291 atoms and 1 coordinate set(s) were parsed in 0.04s.\n"
     ]
    },
    {
     "name": "stdout",
     "output_type": "stream",
     "text": [
      "writing 1MLC.mut.209_Repair.clean_E\n",
      "writing 1MLC.mut.209_Repair.clean_HL\n"
     ]
    },
    {
     "name": "stderr",
     "output_type": "stream",
     "text": [
      "@> 1001 atoms and 1 coordinate set(s) were parsed in 0.02s.\n",
      "@> 3291 atoms and 1 coordinate set(s) were parsed in 0.04s.\n"
     ]
    },
    {
     "name": "stdout",
     "output_type": "stream",
     "text": [
      "writing 1MLC.mut.210_Repair.clean_E\n",
      "writing 1MLC.mut.210_Repair.clean_HL\n"
     ]
    },
    {
     "name": "stderr",
     "output_type": "stream",
     "text": [
      "@> 1001 atoms and 1 coordinate set(s) were parsed in 0.03s.\n",
      "@> 3288 atoms and 1 coordinate set(s) were parsed in 0.05s.\n"
     ]
    },
    {
     "name": "stdout",
     "output_type": "stream",
     "text": [
      "writing 1MLC.mut.211_Repair.clean_E\n",
      "writing 1MLC.mut.211_Repair.clean_HL\n"
     ]
    },
    {
     "name": "stderr",
     "output_type": "stream",
     "text": [
      "@> 1001 atoms and 1 coordinate set(s) were parsed in 0.02s.\n",
      "@> 3290 atoms and 1 coordinate set(s) were parsed in 0.05s.\n"
     ]
    },
    {
     "name": "stdout",
     "output_type": "stream",
     "text": [
      "writing 1MLC.mut.212_Repair.clean_E\n",
      "writing 1MLC.mut.212_Repair.clean_HL\n"
     ]
    },
    {
     "name": "stderr",
     "output_type": "stream",
     "text": [
      "@> 1001 atoms and 1 coordinate set(s) were parsed in 0.02s.\n",
      "@> 3297 atoms and 1 coordinate set(s) were parsed in 0.05s.\n"
     ]
    },
    {
     "name": "stdout",
     "output_type": "stream",
     "text": [
      "writing 1MLC.mut.213_Repair.clean_E\n",
      "writing 1MLC.mut.213_Repair.clean_HL\n"
     ]
    },
    {
     "name": "stderr",
     "output_type": "stream",
     "text": [
      "@> 1001 atoms and 1 coordinate set(s) were parsed in 0.02s.\n",
      "@> 3291 atoms and 1 coordinate set(s) were parsed in 0.04s.\n"
     ]
    },
    {
     "name": "stdout",
     "output_type": "stream",
     "text": [
      "writing 1MLC.mut.214_Repair.clean_E\n",
      "writing 1MLC.mut.214_Repair.clean_HL\n"
     ]
    },
    {
     "name": "stderr",
     "output_type": "stream",
     "text": [
      "@> 1001 atoms and 1 coordinate set(s) were parsed in 0.02s.\n",
      "@> 3286 atoms and 1 coordinate set(s) were parsed in 0.04s.\n"
     ]
    },
    {
     "name": "stdout",
     "output_type": "stream",
     "text": [
      "writing 1MLC.mut.215_Repair.clean_E\n",
      "writing 1MLC.mut.215_Repair.clean_HL\n"
     ]
    },
    {
     "name": "stderr",
     "output_type": "stream",
     "text": [
      "@> 1001 atoms and 1 coordinate set(s) were parsed in 0.02s.\n",
      "@> 3294 atoms and 1 coordinate set(s) were parsed in 0.04s.\n"
     ]
    },
    {
     "name": "stdout",
     "output_type": "stream",
     "text": [
      "writing 1MLC.mut.216_Repair.clean_E\n",
      "writing 1MLC.mut.216_Repair.clean_HL\n"
     ]
    },
    {
     "name": "stderr",
     "output_type": "stream",
     "text": [
      "@> 1001 atoms and 1 coordinate set(s) were parsed in 0.02s.\n",
      "@> 3287 atoms and 1 coordinate set(s) were parsed in 0.04s.\n"
     ]
    },
    {
     "name": "stdout",
     "output_type": "stream",
     "text": [
      "writing 1MLC.mut.217_Repair.clean_E\n",
      "writing 1MLC.mut.217_Repair.clean_HL\n"
     ]
    },
    {
     "name": "stderr",
     "output_type": "stream",
     "text": [
      "@> 4491 atoms and 1 coordinate set(s) were parsed in 0.06s.\n",
      "@> 3297 atoms and 1 coordinate set(s) were parsed in 0.04s.\n"
     ]
    },
    {
     "name": "stdout",
     "output_type": "stream",
     "text": [
      "writing 1N8Z.mut.218_Repair.clean_C\n",
      "writing 1N8Z.mut.218_Repair.clean_HL\n"
     ]
    },
    {
     "name": "stderr",
     "output_type": "stream",
     "text": [
      "@> 4491 atoms and 1 coordinate set(s) were parsed in 0.06s.\n",
      "@> 3297 atoms and 1 coordinate set(s) were parsed in 0.04s.\n"
     ]
    },
    {
     "name": "stdout",
     "output_type": "stream",
     "text": [
      "writing 1N8Z.mut.219_Repair.clean_C\n",
      "writing 1N8Z.mut.219_Repair.clean_HL\n"
     ]
    },
    {
     "name": "stderr",
     "output_type": "stream",
     "text": [
      "@> 4491 atoms and 1 coordinate set(s) were parsed in 0.05s.\n",
      "@> 3306 atoms and 1 coordinate set(s) were parsed in 0.04s.\n"
     ]
    },
    {
     "name": "stdout",
     "output_type": "stream",
     "text": [
      "writing 1N8Z.mut.220_Repair.clean_C\n",
      "writing 1N8Z.mut.220_Repair.clean_HL\n"
     ]
    },
    {
     "name": "stderr",
     "output_type": "stream",
     "text": [
      "@> 4491 atoms and 1 coordinate set(s) were parsed in 0.06s.\n",
      "@> 3294 atoms and 1 coordinate set(s) were parsed in 0.05s.\n"
     ]
    },
    {
     "name": "stdout",
     "output_type": "stream",
     "text": [
      "writing 1N8Z.mut.221_Repair.clean_C\n",
      "writing 1N8Z.mut.221_Repair.clean_HL\n"
     ]
    },
    {
     "name": "stderr",
     "output_type": "stream",
     "text": [
      "@> 4491 atoms and 1 coordinate set(s) were parsed in 0.05s.\n",
      "@> 3296 atoms and 1 coordinate set(s) were parsed in 0.04s.\n"
     ]
    },
    {
     "name": "stdout",
     "output_type": "stream",
     "text": [
      "writing 1N8Z.mut.222_Repair.clean_C\n",
      "writing 1N8Z.mut.222_Repair.clean_HL\n"
     ]
    },
    {
     "name": "stderr",
     "output_type": "stream",
     "text": [
      "@> 4491 atoms and 1 coordinate set(s) were parsed in 0.05s.\n",
      "@> 3297 atoms and 1 coordinate set(s) were parsed in 0.05s.\n"
     ]
    },
    {
     "name": "stdout",
     "output_type": "stream",
     "text": [
      "writing 1N8Z.mut.223_Repair.clean_C\n",
      "writing 1N8Z.mut.223_Repair.clean_HL\n"
     ]
    },
    {
     "name": "stderr",
     "output_type": "stream",
     "text": [
      "@> 4491 atoms and 1 coordinate set(s) were parsed in 0.06s.\n",
      "@> 3294 atoms and 1 coordinate set(s) were parsed in 0.04s.\n"
     ]
    },
    {
     "name": "stdout",
     "output_type": "stream",
     "text": [
      "writing 1N8Z.mut.224_Repair.clean_C\n",
      "writing 1N8Z.mut.224_Repair.clean_HL\n"
     ]
    },
    {
     "name": "stderr",
     "output_type": "stream",
     "text": [
      "@> 4491 atoms and 1 coordinate set(s) were parsed in 0.05s.\n",
      "@> 3298 atoms and 1 coordinate set(s) were parsed in 0.05s.\n"
     ]
    },
    {
     "name": "stdout",
     "output_type": "stream",
     "text": [
      "writing 1N8Z.mut.225_Repair.clean_C\n",
      "writing 1N8Z.mut.225_Repair.clean_HL\n"
     ]
    },
    {
     "name": "stderr",
     "output_type": "stream",
     "text": [
      "@> 4491 atoms and 1 coordinate set(s) were parsed in 0.06s.\n",
      "@> 3298 atoms and 1 coordinate set(s) were parsed in 0.04s.\n"
     ]
    },
    {
     "name": "stdout",
     "output_type": "stream",
     "text": [
      "writing 1N8Z.mut.226_Repair.clean_C\n",
      "writing 1N8Z.mut.226_Repair.clean_HL\n"
     ]
    },
    {
     "name": "stderr",
     "output_type": "stream",
     "text": [
      "@> 4491 atoms and 1 coordinate set(s) were parsed in 0.05s.\n",
      "@> 3291 atoms and 1 coordinate set(s) were parsed in 0.06s.\n"
     ]
    },
    {
     "name": "stdout",
     "output_type": "stream",
     "text": [
      "writing 1N8Z.mut.227_Repair.clean_C\n",
      "writing 1N8Z.mut.227_Repair.clean_HL\n"
     ]
    },
    {
     "name": "stderr",
     "output_type": "stream",
     "text": [
      "@> 4491 atoms and 1 coordinate set(s) were parsed in 0.05s.\n",
      "@> 3293 atoms and 1 coordinate set(s) were parsed in 0.04s.\n"
     ]
    },
    {
     "name": "stdout",
     "output_type": "stream",
     "text": [
      "writing 1N8Z.mut.228_Repair.clean_C\n",
      "writing 1N8Z.mut.228_Repair.clean_HL\n"
     ]
    },
    {
     "name": "stderr",
     "output_type": "stream",
     "text": [
      "@> 4491 atoms and 1 coordinate set(s) were parsed in 0.06s.\n",
      "@> 3299 atoms and 1 coordinate set(s) were parsed in 0.04s.\n"
     ]
    },
    {
     "name": "stdout",
     "output_type": "stream",
     "text": [
      "writing 1N8Z.mut.229_Repair.clean_C\n",
      "writing 1N8Z.mut.229_Repair.clean_HL\n"
     ]
    },
    {
     "name": "stderr",
     "output_type": "stream",
     "text": [
      "@> 4491 atoms and 1 coordinate set(s) were parsed in 0.06s.\n",
      "@> 3299 atoms and 1 coordinate set(s) were parsed in 0.04s.\n"
     ]
    },
    {
     "name": "stdout",
     "output_type": "stream",
     "text": [
      "writing 1N8Z.mut.230_Repair.clean_C\n",
      "writing 1N8Z.mut.230_Repair.clean_HL\n"
     ]
    },
    {
     "name": "stderr",
     "output_type": "stream",
     "text": [
      "@> 4491 atoms and 1 coordinate set(s) were parsed in 0.05s.\n",
      "@> 3295 atoms and 1 coordinate set(s) were parsed in 0.04s.\n"
     ]
    },
    {
     "name": "stdout",
     "output_type": "stream",
     "text": [
      "writing 1N8Z.mut.231_Repair.clean_C\n",
      "writing 1N8Z.mut.231_Repair.clean_HL\n"
     ]
    },
    {
     "name": "stderr",
     "output_type": "stream",
     "text": [
      "@> 4491 atoms and 1 coordinate set(s) were parsed in 0.05s.\n",
      "@> 3293 atoms and 1 coordinate set(s) were parsed in 0.04s.\n"
     ]
    },
    {
     "name": "stdout",
     "output_type": "stream",
     "text": [
      "writing 1N8Z.mut.232_Repair.clean_C\n",
      "writing 1N8Z.mut.232_Repair.clean_HL\n"
     ]
    },
    {
     "name": "stderr",
     "output_type": "stream",
     "text": [
      "@> 4491 atoms and 1 coordinate set(s) were parsed in 0.06s.\n",
      "@> 3293 atoms and 1 coordinate set(s) were parsed in 0.04s.\n"
     ]
    },
    {
     "name": "stdout",
     "output_type": "stream",
     "text": [
      "writing 1N8Z.mut.233_Repair.clean_C\n",
      "writing 1N8Z.mut.233_Repair.clean_HL\n"
     ]
    },
    {
     "name": "stderr",
     "output_type": "stream",
     "text": [
      "@> 4491 atoms and 1 coordinate set(s) were parsed in 0.05s.\n",
      "@> 3293 atoms and 1 coordinate set(s) were parsed in 0.04s.\n"
     ]
    },
    {
     "name": "stdout",
     "output_type": "stream",
     "text": [
      "writing 1N8Z.mut.234_Repair.clean_C\n",
      "writing 1N8Z.mut.234_Repair.clean_HL\n"
     ]
    },
    {
     "name": "stderr",
     "output_type": "stream",
     "text": [
      "@> 4491 atoms and 1 coordinate set(s) were parsed in 0.05s.\n",
      "@> 3300 atoms and 1 coordinate set(s) were parsed in 0.05s.\n"
     ]
    },
    {
     "name": "stdout",
     "output_type": "stream",
     "text": [
      "writing 1N8Z.mut.235_Repair.clean_C\n",
      "writing 1N8Z.mut.235_Repair.clean_HL\n"
     ]
    },
    {
     "name": "stderr",
     "output_type": "stream",
     "text": [
      "@> 4491 atoms and 1 coordinate set(s) were parsed in 0.06s.\n",
      "@> 3297 atoms and 1 coordinate set(s) were parsed in 0.05s.\n"
     ]
    },
    {
     "name": "stdout",
     "output_type": "stream",
     "text": [
      "writing 1N8Z.mut.236_Repair.clean_C\n",
      "writing 1N8Z.mut.236_Repair.clean_HL\n"
     ]
    },
    {
     "name": "stderr",
     "output_type": "stream",
     "text": [
      "@> 4491 atoms and 1 coordinate set(s) were parsed in 0.06s.\n",
      "@> 3295 atoms and 1 coordinate set(s) were parsed in 0.04s.\n"
     ]
    },
    {
     "name": "stdout",
     "output_type": "stream",
     "text": [
      "writing 1N8Z.mut.237_Repair.clean_C\n",
      "writing 1N8Z.mut.237_Repair.clean_HL\n"
     ]
    },
    {
     "name": "stderr",
     "output_type": "stream",
     "text": [
      "@> 4491 atoms and 1 coordinate set(s) were parsed in 0.05s.\n"
     ]
    },
    {
     "name": "stdout",
     "output_type": "stream",
     "text": [
      "writing 1N8Z.mut.238_Repair.clean_C\n"
     ]
    },
    {
     "name": "stderr",
     "output_type": "stream",
     "text": [
      "@> 3301 atoms and 1 coordinate set(s) were parsed in 0.04s.\n"
     ]
    },
    {
     "name": "stdout",
     "output_type": "stream",
     "text": [
      "writing 1N8Z.mut.238_Repair.clean_HL\n"
     ]
    },
    {
     "name": "stderr",
     "output_type": "stream",
     "text": [
      "@> 4491 atoms and 1 coordinate set(s) were parsed in 0.05s.\n",
      "@> 3301 atoms and 1 coordinate set(s) were parsed in 0.05s.\n"
     ]
    },
    {
     "name": "stdout",
     "output_type": "stream",
     "text": [
      "writing 1N8Z.mut.239_Repair.clean_C\n",
      "writing 1N8Z.mut.239_Repair.clean_HL\n"
     ]
    },
    {
     "name": "stderr",
     "output_type": "stream",
     "text": [
      "@> 4491 atoms and 1 coordinate set(s) were parsed in 0.05s.\n",
      "@> 3297 atoms and 1 coordinate set(s) were parsed in 0.04s.\n"
     ]
    },
    {
     "name": "stdout",
     "output_type": "stream",
     "text": [
      "writing 1N8Z.mut.240_Repair.clean_C\n",
      "writing 1N8Z.mut.240_Repair.clean_HL\n"
     ]
    },
    {
     "name": "stderr",
     "output_type": "stream",
     "text": [
      "@> 4491 atoms and 1 coordinate set(s) were parsed in 0.06s.\n",
      "@> 3298 atoms and 1 coordinate set(s) were parsed in 0.04s.\n"
     ]
    },
    {
     "name": "stdout",
     "output_type": "stream",
     "text": [
      "writing 1N8Z.mut.241_Repair.clean_C\n",
      "writing 1N8Z.mut.241_Repair.clean_HL\n"
     ]
    },
    {
     "name": "stderr",
     "output_type": "stream",
     "text": [
      "@> 4491 atoms and 1 coordinate set(s) were parsed in 0.06s.\n",
      "@> 3293 atoms and 1 coordinate set(s) were parsed in 0.04s.\n"
     ]
    },
    {
     "name": "stdout",
     "output_type": "stream",
     "text": [
      "writing 1N8Z.mut.242_Repair.clean_C\n",
      "writing 1N8Z.mut.242_Repair.clean_HL\n"
     ]
    },
    {
     "name": "stderr",
     "output_type": "stream",
     "text": [
      "@> 4491 atoms and 1 coordinate set(s) were parsed in 0.06s.\n",
      "@> 3299 atoms and 1 coordinate set(s) were parsed in 0.04s.\n"
     ]
    },
    {
     "name": "stdout",
     "output_type": "stream",
     "text": [
      "writing 1N8Z.mut.243_Repair.clean_C\n",
      "writing 1N8Z.mut.243_Repair.clean_HL\n"
     ]
    },
    {
     "name": "stderr",
     "output_type": "stream",
     "text": [
      "@> 4491 atoms and 1 coordinate set(s) were parsed in 0.06s.\n"
     ]
    },
    {
     "name": "stdout",
     "output_type": "stream",
     "text": [
      "writing 1N8Z.mut.244_Repair.clean_C\n"
     ]
    },
    {
     "name": "stderr",
     "output_type": "stream",
     "text": [
      "@> 3299 atoms and 1 coordinate set(s) were parsed in 0.06s.\n"
     ]
    },
    {
     "name": "stdout",
     "output_type": "stream",
     "text": [
      "writing 1N8Z.mut.244_Repair.clean_HL\n"
     ]
    },
    {
     "name": "stderr",
     "output_type": "stream",
     "text": [
      "@> 4491 atoms and 1 coordinate set(s) were parsed in 0.09s.\n",
      "@> 3298 atoms and 1 coordinate set(s) were parsed in 0.04s.\n"
     ]
    },
    {
     "name": "stdout",
     "output_type": "stream",
     "text": [
      "writing 1N8Z.mut.245_Repair.clean_C\n",
      "writing 1N8Z.mut.245_Repair.clean_HL\n"
     ]
    },
    {
     "name": "stderr",
     "output_type": "stream",
     "text": [
      "@> 4491 atoms and 1 coordinate set(s) were parsed in 0.05s.\n",
      "@> 3298 atoms and 1 coordinate set(s) were parsed in 0.04s.\n"
     ]
    },
    {
     "name": "stdout",
     "output_type": "stream",
     "text": [
      "writing 1N8Z.mut.246_Repair.clean_C\n",
      "writing 1N8Z.mut.246_Repair.clean_HL\n"
     ]
    },
    {
     "name": "stderr",
     "output_type": "stream",
     "text": [
      "@> 4491 atoms and 1 coordinate set(s) were parsed in 0.05s.\n",
      "@> 3298 atoms and 1 coordinate set(s) were parsed in 0.04s.\n"
     ]
    },
    {
     "name": "stdout",
     "output_type": "stream",
     "text": [
      "writing 1N8Z.mut.247_Repair.clean_C\n",
      "writing 1N8Z.mut.247_Repair.clean_HL\n"
     ]
    },
    {
     "name": "stderr",
     "output_type": "stream",
     "text": [
      "@> 4491 atoms and 1 coordinate set(s) were parsed in 0.06s.\n",
      "@> 3299 atoms and 1 coordinate set(s) were parsed in 0.04s.\n"
     ]
    },
    {
     "name": "stdout",
     "output_type": "stream",
     "text": [
      "writing 1N8Z.mut.248_Repair.clean_C\n",
      "writing 1N8Z.mut.248_Repair.clean_HL\n"
     ]
    },
    {
     "name": "stderr",
     "output_type": "stream",
     "text": [
      "@> 4491 atoms and 1 coordinate set(s) were parsed in 0.06s.\n",
      "@> 3293 atoms and 1 coordinate set(s) were parsed in 0.04s.\n"
     ]
    },
    {
     "name": "stdout",
     "output_type": "stream",
     "text": [
      "writing 1N8Z.mut.249_Repair.clean_C\n",
      "writing 1N8Z.mut.249_Repair.clean_HL\n"
     ]
    },
    {
     "name": "stderr",
     "output_type": "stream",
     "text": [
      "@> 4491 atoms and 1 coordinate set(s) were parsed in 0.05s.\n",
      "@> 3293 atoms and 1 coordinate set(s) were parsed in 0.04s.\n"
     ]
    },
    {
     "name": "stdout",
     "output_type": "stream",
     "text": [
      "writing 1N8Z.mut.250_Repair.clean_C\n",
      "writing 1N8Z.mut.250_Repair.clean_HL\n"
     ]
    },
    {
     "name": "stderr",
     "output_type": "stream",
     "text": [
      "@> 4491 atoms and 1 coordinate set(s) were parsed in 0.05s.\n",
      "@> 3299 atoms and 1 coordinate set(s) were parsed in 0.05s.\n"
     ]
    },
    {
     "name": "stdout",
     "output_type": "stream",
     "text": [
      "writing 1N8Z.mut.251_Repair.clean_C\n",
      "writing 1N8Z.mut.251_Repair.clean_HL\n"
     ]
    },
    {
     "name": "stderr",
     "output_type": "stream",
     "text": [
      "@> 998 atoms and 1 coordinate set(s) were parsed in 0.01s.\n",
      "@> 1730 atoms and 1 coordinate set(s) were parsed in 0.02s.\n"
     ]
    },
    {
     "name": "stdout",
     "output_type": "stream",
     "text": [
      "writing 1VFB.mut.252_Repair.clean_C\n",
      "writing 1VFB.mut.252_Repair.clean_HL\n"
     ]
    },
    {
     "name": "stderr",
     "output_type": "stream",
     "text": [
      "@> 998 atoms and 1 coordinate set(s) were parsed in 0.01s.\n",
      "@> 1730 atoms and 1 coordinate set(s) were parsed in 0.02s.\n"
     ]
    },
    {
     "name": "stdout",
     "output_type": "stream",
     "text": [
      "writing 1VFB.mut.253_Repair.clean_C\n",
      "writing 1VFB.mut.253_Repair.clean_HL\n"
     ]
    },
    {
     "name": "stderr",
     "output_type": "stream",
     "text": [
      "@> 998 atoms and 1 coordinate set(s) were parsed in 0.02s.\n",
      "@> 1730 atoms and 1 coordinate set(s) were parsed in 0.02s.\n"
     ]
    },
    {
     "name": "stdout",
     "output_type": "stream",
     "text": [
      "writing 1VFB.mut.254_Repair.clean_C\n",
      "writing 1VFB.mut.254_Repair.clean_HL\n"
     ]
    },
    {
     "name": "stderr",
     "output_type": "stream",
     "text": [
      "@> 997 atoms and 1 coordinate set(s) were parsed in 0.01s.\n",
      "@> 1730 atoms and 1 coordinate set(s) were parsed in 0.02s.\n"
     ]
    },
    {
     "name": "stdout",
     "output_type": "stream",
     "text": [
      "writing 1VFB.mut.255_Repair.clean_C\n",
      "writing 1VFB.mut.255_Repair.clean_HL\n"
     ]
    },
    {
     "name": "stderr",
     "output_type": "stream",
     "text": [
      "@> 998 atoms and 1 coordinate set(s) were parsed in 0.01s.\n",
      "@> 1730 atoms and 1 coordinate set(s) were parsed in 0.02s.\n"
     ]
    },
    {
     "name": "stdout",
     "output_type": "stream",
     "text": [
      "writing 1VFB.mut.256_Repair.clean_C\n",
      "writing 1VFB.mut.256_Repair.clean_HL\n"
     ]
    },
    {
     "name": "stderr",
     "output_type": "stream",
     "text": [
      "@> 998 atoms and 1 coordinate set(s) were parsed in 0.02s.\n",
      "@> 1730 atoms and 1 coordinate set(s) were parsed in 0.02s.\n"
     ]
    },
    {
     "name": "stdout",
     "output_type": "stream",
     "text": [
      "writing 1VFB.mut.257_Repair.clean_C\n",
      "writing 1VFB.mut.257_Repair.clean_HL\n"
     ]
    },
    {
     "name": "stderr",
     "output_type": "stream",
     "text": [
      "@> 997 atoms and 1 coordinate set(s) were parsed in 0.02s.\n",
      "@> 1730 atoms and 1 coordinate set(s) were parsed in 0.02s.\n"
     ]
    },
    {
     "name": "stdout",
     "output_type": "stream",
     "text": [
      "writing 1VFB.mut.258_Repair.clean_C\n",
      "writing 1VFB.mut.258_Repair.clean_HL\n"
     ]
    },
    {
     "name": "stderr",
     "output_type": "stream",
     "text": [
      "@> 995 atoms and 1 coordinate set(s) were parsed in 0.02s.\n",
      "@> 1730 atoms and 1 coordinate set(s) were parsed in 0.02s.\n"
     ]
    },
    {
     "name": "stdout",
     "output_type": "stream",
     "text": [
      "writing 1VFB.mut.259_Repair.clean_C\n",
      "writing 1VFB.mut.259_Repair.clean_HL\n"
     ]
    },
    {
     "name": "stderr",
     "output_type": "stream",
     "text": [
      "@> 1000 atoms and 1 coordinate set(s) were parsed in 0.01s.\n",
      "@> 1730 atoms and 1 coordinate set(s) were parsed in 0.02s.\n"
     ]
    },
    {
     "name": "stdout",
     "output_type": "stream",
     "text": [
      "writing 1VFB.mut.260_Repair.clean_C\n",
      "writing 1VFB.mut.260_Repair.clean_HL\n"
     ]
    },
    {
     "name": "stderr",
     "output_type": "stream",
     "text": [
      "@> 999 atoms and 1 coordinate set(s) were parsed in 0.01s.\n",
      "@> 1730 atoms and 1 coordinate set(s) were parsed in 0.02s.\n"
     ]
    },
    {
     "name": "stdout",
     "output_type": "stream",
     "text": [
      "writing 1VFB.mut.261_Repair.clean_C\n",
      "writing 1VFB.mut.261_Repair.clean_HL\n"
     ]
    },
    {
     "name": "stderr",
     "output_type": "stream",
     "text": [
      "@> 999 atoms and 1 coordinate set(s) were parsed in 0.02s.\n",
      "@> 1730 atoms and 1 coordinate set(s) were parsed in 0.02s.\n"
     ]
    },
    {
     "name": "stdout",
     "output_type": "stream",
     "text": [
      "writing 1VFB.mut.262_Repair.clean_C\n",
      "writing 1VFB.mut.262_Repair.clean_HL\n"
     ]
    },
    {
     "name": "stderr",
     "output_type": "stream",
     "text": [
      "@> 994 atoms and 1 coordinate set(s) were parsed in 0.02s.\n",
      "@> 1730 atoms and 1 coordinate set(s) were parsed in 0.02s.\n"
     ]
    },
    {
     "name": "stdout",
     "output_type": "stream",
     "text": [
      "writing 1VFB.mut.263_Repair.clean_C\n",
      "writing 1VFB.mut.263_Repair.clean_HL\n"
     ]
    },
    {
     "name": "stderr",
     "output_type": "stream",
     "text": [
      "@> 1001 atoms and 1 coordinate set(s) were parsed in 0.02s.\n",
      "@> 1727 atoms and 1 coordinate set(s) were parsed in 0.02s.\n"
     ]
    },
    {
     "name": "stdout",
     "output_type": "stream",
     "text": [
      "writing 1VFB.mut.264_Repair.clean_C\n",
      "writing 1VFB.mut.264_Repair.clean_HL\n"
     ]
    },
    {
     "name": "stderr",
     "output_type": "stream",
     "text": [
      "@> 1001 atoms and 1 coordinate set(s) were parsed in 0.02s.\n",
      "@> 1727 atoms and 1 coordinate set(s) were parsed in 0.03s.\n"
     ]
    },
    {
     "name": "stdout",
     "output_type": "stream",
     "text": [
      "writing 1VFB.mut.265_Repair.clean_C\n",
      "writing 1VFB.mut.265_Repair.clean_HL\n"
     ]
    },
    {
     "name": "stderr",
     "output_type": "stream",
     "text": [
      "@> 1001 atoms and 1 coordinate set(s) were parsed in 0.02s.\n",
      "@> 1731 atoms and 1 coordinate set(s) were parsed in 0.02s.\n"
     ]
    },
    {
     "name": "stdout",
     "output_type": "stream",
     "text": [
      "writing 1VFB.mut.266_Repair.clean_C\n",
      "writing 1VFB.mut.266_Repair.clean_HL\n"
     ]
    },
    {
     "name": "stderr",
     "output_type": "stream",
     "text": [
      "@> 1001 atoms and 1 coordinate set(s) were parsed in 0.02s.\n",
      "@> 1730 atoms and 1 coordinate set(s) were parsed in 0.02s.\n"
     ]
    },
    {
     "name": "stdout",
     "output_type": "stream",
     "text": [
      "writing 1VFB.mut.267_Repair.clean_C\n",
      "writing 1VFB.mut.267_Repair.clean_HL\n"
     ]
    },
    {
     "name": "stderr",
     "output_type": "stream",
     "text": [
      "@> 1001 atoms and 1 coordinate set(s) were parsed in 0.01s.\n",
      "@> 1731 atoms and 1 coordinate set(s) were parsed in 0.02s.\n"
     ]
    },
    {
     "name": "stdout",
     "output_type": "stream",
     "text": [
      "writing 1VFB.mut.268_Repair.clean_C\n",
      "writing 1VFB.mut.268_Repair.clean_HL\n"
     ]
    },
    {
     "name": "stderr",
     "output_type": "stream",
     "text": [
      "@> 1001 atoms and 1 coordinate set(s) were parsed in 0.01s.\n",
      "@> 1735 atoms and 1 coordinate set(s) were parsed in 0.02s.\n"
     ]
    },
    {
     "name": "stdout",
     "output_type": "stream",
     "text": [
      "writing 1VFB.mut.269_Repair.clean_C\n",
      "writing 1VFB.mut.269_Repair.clean_HL\n"
     ]
    },
    {
     "name": "stderr",
     "output_type": "stream",
     "text": [
      "@> 1001 atoms and 1 coordinate set(s) were parsed in 0.01s.\n",
      "@> 1740 atoms and 1 coordinate set(s) were parsed in 0.02s.\n"
     ]
    },
    {
     "name": "stdout",
     "output_type": "stream",
     "text": [
      "writing 1VFB.mut.270_Repair.clean_C\n",
      "writing 1VFB.mut.270_Repair.clean_HL\n"
     ]
    },
    {
     "name": "stderr",
     "output_type": "stream",
     "text": [
      "@> 1001 atoms and 1 coordinate set(s) were parsed in 0.03s.\n",
      "@> 1733 atoms and 1 coordinate set(s) were parsed in 0.05s.\n"
     ]
    },
    {
     "name": "stdout",
     "output_type": "stream",
     "text": [
      "writing 1VFB.mut.271_Repair.clean_C\n",
      "writing 1VFB.mut.271_Repair.clean_HL\n"
     ]
    },
    {
     "name": "stderr",
     "output_type": "stream",
     "text": [
      "@> 1001 atoms and 1 coordinate set(s) were parsed in 0.03s.\n",
      "@> 1731 atoms and 1 coordinate set(s) were parsed in 0.02s.\n"
     ]
    },
    {
     "name": "stdout",
     "output_type": "stream",
     "text": [
      "writing 1VFB.mut.272_Repair.clean_C\n",
      "writing 1VFB.mut.272_Repair.clean_HL\n"
     ]
    },
    {
     "name": "stderr",
     "output_type": "stream",
     "text": [
      "@> 1001 atoms and 1 coordinate set(s) were parsed in 0.01s.\n",
      "@> 1732 atoms and 1 coordinate set(s) were parsed in 0.02s.\n"
     ]
    },
    {
     "name": "stdout",
     "output_type": "stream",
     "text": [
      "writing 1VFB.mut.273_Repair.clean_C\n",
      "writing 1VFB.mut.273_Repair.clean_HL\n"
     ]
    },
    {
     "name": "stderr",
     "output_type": "stream",
     "text": [
      "@> 1001 atoms and 1 coordinate set(s) were parsed in 0.01s.\n",
      "@> 1733 atoms and 1 coordinate set(s) were parsed in 0.02s.\n"
     ]
    },
    {
     "name": "stdout",
     "output_type": "stream",
     "text": [
      "writing 1VFB.mut.274_Repair.clean_C\n",
      "writing 1VFB.mut.274_Repair.clean_HL\n"
     ]
    },
    {
     "name": "stderr",
     "output_type": "stream",
     "text": [
      "@> 1001 atoms and 1 coordinate set(s) were parsed in 0.01s.\n",
      "@> 1732 atoms and 1 coordinate set(s) were parsed in 0.02s.\n"
     ]
    },
    {
     "name": "stdout",
     "output_type": "stream",
     "text": [
      "writing 1VFB.mut.275_Repair.clean_C\n",
      "writing 1VFB.mut.275_Repair.clean_HL\n"
     ]
    },
    {
     "name": "stderr",
     "output_type": "stream",
     "text": [
      "@> 1001 atoms and 1 coordinate set(s) were parsed in 0.02s.\n",
      "@> 1733 atoms and 1 coordinate set(s) were parsed in 0.02s.\n"
     ]
    },
    {
     "name": "stdout",
     "output_type": "stream",
     "text": [
      "writing 1VFB.mut.276_Repair.clean_C\n",
      "writing 1VFB.mut.276_Repair.clean_HL\n"
     ]
    },
    {
     "name": "stderr",
     "output_type": "stream",
     "text": [
      "@> 1001 atoms and 1 coordinate set(s) were parsed in 0.01s.\n",
      "@> 1721 atoms and 1 coordinate set(s) were parsed in 0.02s.\n"
     ]
    },
    {
     "name": "stdout",
     "output_type": "stream",
     "text": [
      "writing 1VFB.mut.277_Repair.clean_C\n",
      "writing 1VFB.mut.277_Repair.clean_HL\n"
     ]
    },
    {
     "name": "stderr",
     "output_type": "stream",
     "text": [
      "@> 1001 atoms and 1 coordinate set(s) were parsed in 0.02s.\n",
      "@> 1723 atoms and 1 coordinate set(s) were parsed in 0.02s.\n"
     ]
    },
    {
     "name": "stdout",
     "output_type": "stream",
     "text": [
      "writing 1VFB.mut.278_Repair.clean_C\n",
      "writing 1VFB.mut.278_Repair.clean_HL\n"
     ]
    },
    {
     "name": "stderr",
     "output_type": "stream",
     "text": [
      "@> 1001 atoms and 1 coordinate set(s) were parsed in 0.01s.\n",
      "@> 1729 atoms and 1 coordinate set(s) were parsed in 0.02s.\n"
     ]
    },
    {
     "name": "stdout",
     "output_type": "stream",
     "text": [
      "writing 1VFB.mut.279_Repair.clean_C\n",
      "writing 1VFB.mut.279_Repair.clean_HL\n"
     ]
    },
    {
     "name": "stderr",
     "output_type": "stream",
     "text": [
      "@> 1001 atoms and 1 coordinate set(s) were parsed in 0.01s.\n",
      "@> 1723 atoms and 1 coordinate set(s) were parsed in 0.03s.\n"
     ]
    },
    {
     "name": "stdout",
     "output_type": "stream",
     "text": [
      "writing 1VFB.mut.280_Repair.clean_C\n",
      "writing 1VFB.mut.280_Repair.clean_HL\n"
     ]
    },
    {
     "name": "stderr",
     "output_type": "stream",
     "text": [
      "@> 1001 atoms and 1 coordinate set(s) were parsed in 0.01s.\n",
      "@> 1727 atoms and 1 coordinate set(s) were parsed in 0.02s.\n"
     ]
    },
    {
     "name": "stdout",
     "output_type": "stream",
     "text": [
      "writing 1VFB.mut.281_Repair.clean_C\n",
      "writing 1VFB.mut.281_Repair.clean_HL\n"
     ]
    },
    {
     "name": "stderr",
     "output_type": "stream",
     "text": [
      "@> 1001 atoms and 1 coordinate set(s) were parsed in 0.01s.\n",
      "@> 1730 atoms and 1 coordinate set(s) were parsed in 0.02s.\n"
     ]
    },
    {
     "name": "stdout",
     "output_type": "stream",
     "text": [
      "writing 1VFB.mut.282_Repair.clean_C\n",
      "writing 1VFB.mut.282_Repair.clean_HL\n"
     ]
    },
    {
     "name": "stderr",
     "output_type": "stream",
     "text": [
      "@> 1001 atoms and 1 coordinate set(s) were parsed in 0.02s.\n",
      "@> 1731 atoms and 1 coordinate set(s) were parsed in 0.04s.\n"
     ]
    },
    {
     "name": "stdout",
     "output_type": "stream",
     "text": [
      "writing 1VFB.mut.283_Repair.clean_C\n",
      "writing 1VFB.mut.283_Repair.clean_HL\n"
     ]
    },
    {
     "name": "stderr",
     "output_type": "stream",
     "text": [
      "@> 1001 atoms and 1 coordinate set(s) were parsed in 0.01s.\n",
      "@> 1736 atoms and 1 coordinate set(s) were parsed in 0.02s.\n"
     ]
    },
    {
     "name": "stdout",
     "output_type": "stream",
     "text": [
      "writing 1VFB.mut.284_Repair.clean_C\n",
      "writing 1VFB.mut.284_Repair.clean_HL\n"
     ]
    },
    {
     "name": "stderr",
     "output_type": "stream",
     "text": [
      "@> 1001 atoms and 1 coordinate set(s) were parsed in 0.02s.\n",
      "@> 1734 atoms and 1 coordinate set(s) were parsed in 0.02s.\n"
     ]
    },
    {
     "name": "stdout",
     "output_type": "stream",
     "text": [
      "writing 1VFB.mut.285_Repair.clean_C\n",
      "writing 1VFB.mut.285_Repair.clean_HL\n"
     ]
    },
    {
     "name": "stderr",
     "output_type": "stream",
     "text": [
      "@> 1001 atoms and 1 coordinate set(s) were parsed in 0.02s.\n",
      "@> 1734 atoms and 1 coordinate set(s) were parsed in 0.02s.\n"
     ]
    },
    {
     "name": "stdout",
     "output_type": "stream",
     "text": [
      "writing 1VFB.mut.286_Repair.clean_C\n",
      "writing 1VFB.mut.286_Repair.clean_HL\n"
     ]
    },
    {
     "name": "stderr",
     "output_type": "stream",
     "text": [
      "@> 1001 atoms and 1 coordinate set(s) were parsed in 0.02s.\n",
      "@> 1721 atoms and 1 coordinate set(s) were parsed in 0.02s.\n"
     ]
    },
    {
     "name": "stdout",
     "output_type": "stream",
     "text": [
      "writing 1VFB.mut.287_Repair.clean_C\n",
      "writing 1VFB.mut.287_Repair.clean_HL\n"
     ]
    },
    {
     "name": "stderr",
     "output_type": "stream",
     "text": [
      "@> 1001 atoms and 1 coordinate set(s) were parsed in 0.02s.\n",
      "@> 1723 atoms and 1 coordinate set(s) were parsed in 0.02s.\n"
     ]
    },
    {
     "name": "stdout",
     "output_type": "stream",
     "text": [
      "writing 1VFB.mut.288_Repair.clean_C\n",
      "writing 1VFB.mut.288_Repair.clean_HL\n"
     ]
    },
    {
     "name": "stderr",
     "output_type": "stream",
     "text": [
      "@> 1001 atoms and 1 coordinate set(s) were parsed in 0.01s.\n",
      "@> 1732 atoms and 1 coordinate set(s) were parsed in 0.02s.\n"
     ]
    },
    {
     "name": "stdout",
     "output_type": "stream",
     "text": [
      "writing 1VFB.mut.289_Repair.clean_C\n",
      "writing 1VFB.mut.289_Repair.clean_HL\n"
     ]
    },
    {
     "name": "stderr",
     "output_type": "stream",
     "text": [
      "@> 1001 atoms and 1 coordinate set(s) were parsed in 0.02s.\n",
      "@> 1723 atoms and 1 coordinate set(s) were parsed in 0.02s.\n"
     ]
    },
    {
     "name": "stdout",
     "output_type": "stream",
     "text": [
      "writing 1VFB.mut.290_Repair.clean_C\n",
      "writing 1VFB.mut.290_Repair.clean_HL\n"
     ]
    },
    {
     "name": "stderr",
     "output_type": "stream",
     "text": [
      "@> 1001 atoms and 1 coordinate set(s) were parsed in 0.01s.\n",
      "@> 1727 atoms and 1 coordinate set(s) were parsed in 0.02s.\n"
     ]
    },
    {
     "name": "stdout",
     "output_type": "stream",
     "text": [
      "writing 1VFB.mut.291_Repair.clean_C\n",
      "writing 1VFB.mut.291_Repair.clean_HL\n"
     ]
    },
    {
     "name": "stderr",
     "output_type": "stream",
     "text": [
      "@> 1001 atoms and 1 coordinate set(s) were parsed in 0.01s.\n",
      "@> 1729 atoms and 1 coordinate set(s) were parsed in 0.02s.\n"
     ]
    },
    {
     "name": "stdout",
     "output_type": "stream",
     "text": [
      "writing 1VFB.mut.292_Repair.clean_C\n",
      "writing 1VFB.mut.292_Repair.clean_HL\n"
     ]
    },
    {
     "name": "stderr",
     "output_type": "stream",
     "text": [
      "@> 4722 atoms and 1 coordinate set(s) were parsed in 0.06s.\n",
      "@> 3294 atoms and 1 coordinate set(s) were parsed in 0.05s.\n"
     ]
    },
    {
     "name": "stdout",
     "output_type": "stream",
     "text": [
      "writing 1YY9.mut.293_Repair.clean_A\n",
      "writing 1YY9.mut.293_Repair.clean_HL\n"
     ]
    },
    {
     "name": "stderr",
     "output_type": "stream",
     "text": [
      "@> 4722 atoms and 1 coordinate set(s) were parsed in 0.06s.\n",
      "@> 3299 atoms and 1 coordinate set(s) were parsed in 0.05s.\n"
     ]
    },
    {
     "name": "stdout",
     "output_type": "stream",
     "text": [
      "writing 1YY9.mut.294_Repair.clean_A\n",
      "writing 1YY9.mut.294_Repair.clean_HL\n"
     ]
    },
    {
     "name": "stderr",
     "output_type": "stream",
     "text": [
      "@> 4722 atoms and 1 coordinate set(s) were parsed in 0.06s.\n",
      "@> 3294 atoms and 1 coordinate set(s) were parsed in 0.05s.\n"
     ]
    },
    {
     "name": "stdout",
     "output_type": "stream",
     "text": [
      "writing 1YY9.mut.295_Repair.clean_A\n",
      "writing 1YY9.mut.295_Repair.clean_HL\n"
     ]
    },
    {
     "name": "stderr",
     "output_type": "stream",
     "text": [
      "@> 4722 atoms and 1 coordinate set(s) were parsed in 0.06s.\n",
      "@> 3299 atoms and 1 coordinate set(s) were parsed in 0.05s.\n"
     ]
    },
    {
     "name": "stdout",
     "output_type": "stream",
     "text": [
      "writing 1YY9.mut.296_Repair.clean_A\n",
      "writing 1YY9.mut.296_Repair.clean_HL\n"
     ]
    },
    {
     "name": "stderr",
     "output_type": "stream",
     "text": [
      "@> 4722 atoms and 1 coordinate set(s) were parsed in 0.06s.\n",
      "@> 3299 atoms and 1 coordinate set(s) were parsed in 0.05s.\n"
     ]
    },
    {
     "name": "stdout",
     "output_type": "stream",
     "text": [
      "writing 1YY9.mut.297_Repair.clean_A\n",
      "writing 1YY9.mut.297_Repair.clean_HL\n"
     ]
    },
    {
     "name": "stderr",
     "output_type": "stream",
     "text": [
      "@> 3301 atoms and 1 coordinate set(s) were parsed in 0.04s.\n",
      "@> 641 atoms and 1 coordinate set(s) were parsed in 0.01s.\n"
     ]
    },
    {
     "name": "stdout",
     "output_type": "stream",
     "text": [
      "writing 2JEL.mut.298_Repair.clean_HL\n",
      "writing 2JEL.mut.298_Repair.clean_P\n"
     ]
    },
    {
     "name": "stderr",
     "output_type": "stream",
     "text": [
      "@> 3301 atoms and 1 coordinate set(s) were parsed in 0.04s.\n",
      "@> 641 atoms and 1 coordinate set(s) were parsed in 0.01s.\n"
     ]
    },
    {
     "name": "stdout",
     "output_type": "stream",
     "text": [
      "writing 2JEL.mut.299_Repair.clean_HL\n",
      "writing 2JEL.mut.299_Repair.clean_P\n"
     ]
    },
    {
     "name": "stderr",
     "output_type": "stream",
     "text": [
      "@> 3301 atoms and 1 coordinate set(s) were parsed in 0.04s.\n",
      "@> 639 atoms and 1 coordinate set(s) were parsed in 0.02s.\n"
     ]
    },
    {
     "name": "stdout",
     "output_type": "stream",
     "text": [
      "writing 2JEL.mut.300_Repair.clean_HL\n",
      "writing 2JEL.mut.300_Repair.clean_P\n"
     ]
    },
    {
     "name": "stderr",
     "output_type": "stream",
     "text": [
      "@> 3301 atoms and 1 coordinate set(s) were parsed in 0.04s.\n",
      "@> 640 atoms and 1 coordinate set(s) were parsed in 0.01s.\n"
     ]
    },
    {
     "name": "stdout",
     "output_type": "stream",
     "text": [
      "writing 2JEL.mut.301_Repair.clean_HL\n",
      "writing 2JEL.mut.301_Repair.clean_P\n"
     ]
    },
    {
     "name": "stderr",
     "output_type": "stream",
     "text": [
      "@> 3301 atoms and 1 coordinate set(s) were parsed in 0.05s.\n",
      "@> 640 atoms and 1 coordinate set(s) were parsed in 0.01s.\n"
     ]
    },
    {
     "name": "stdout",
     "output_type": "stream",
     "text": [
      "writing 2JEL.mut.302_Repair.clean_HL\n",
      "writing 2JEL.mut.302_Repair.clean_P\n"
     ]
    },
    {
     "name": "stderr",
     "output_type": "stream",
     "text": [
      "@> 3301 atoms and 1 coordinate set(s) were parsed in 0.04s.\n",
      "@> 636 atoms and 1 coordinate set(s) were parsed in 0.01s.\n"
     ]
    },
    {
     "name": "stdout",
     "output_type": "stream",
     "text": [
      "writing 2JEL.mut.303_Repair.clean_HL\n",
      "writing 2JEL.mut.303_Repair.clean_P\n"
     ]
    },
    {
     "name": "stderr",
     "output_type": "stream",
     "text": [
      "@> 3301 atoms and 1 coordinate set(s) were parsed in 0.04s.\n",
      "@> 636 atoms and 1 coordinate set(s) were parsed in 0.01s.\n"
     ]
    },
    {
     "name": "stdout",
     "output_type": "stream",
     "text": [
      "writing 2JEL.mut.304_Repair.clean_HL\n",
      "writing 2JEL.mut.304_Repair.clean_P\n"
     ]
    },
    {
     "name": "stderr",
     "output_type": "stream",
     "text": [
      "@> 3301 atoms and 1 coordinate set(s) were parsed in 0.04s.\n",
      "@> 640 atoms and 1 coordinate set(s) were parsed in 0.01s.\n"
     ]
    },
    {
     "name": "stdout",
     "output_type": "stream",
     "text": [
      "writing 2JEL.mut.305_Repair.clean_HL\n",
      "writing 2JEL.mut.305_Repair.clean_P\n"
     ]
    },
    {
     "name": "stderr",
     "output_type": "stream",
     "text": [
      "@> 3301 atoms and 1 coordinate set(s) were parsed in 0.04s.\n",
      "@> 642 atoms and 1 coordinate set(s) were parsed in 0.01s.\n"
     ]
    },
    {
     "name": "stdout",
     "output_type": "stream",
     "text": [
      "writing 2JEL.mut.306_Repair.clean_HL\n",
      "writing 2JEL.mut.306_Repair.clean_P\n"
     ]
    },
    {
     "name": "stderr",
     "output_type": "stream",
     "text": [
      "@> 3301 atoms and 1 coordinate set(s) were parsed in 0.04s.\n",
      "@> 636 atoms and 1 coordinate set(s) were parsed in 0.02s.\n"
     ]
    },
    {
     "name": "stdout",
     "output_type": "stream",
     "text": [
      "writing 2JEL.mut.307_Repair.clean_HL\n",
      "writing 2JEL.mut.307_Repair.clean_P\n"
     ]
    },
    {
     "name": "stderr",
     "output_type": "stream",
     "text": [
      "@> 3301 atoms and 1 coordinate set(s) were parsed in 0.04s.\n",
      "@> 636 atoms and 1 coordinate set(s) were parsed in 0.01s.\n"
     ]
    },
    {
     "name": "stdout",
     "output_type": "stream",
     "text": [
      "writing 2JEL.mut.308_Repair.clean_HL\n",
      "writing 2JEL.mut.308_Repair.clean_P\n"
     ]
    },
    {
     "name": "stderr",
     "output_type": "stream",
     "text": [
      "@> 3301 atoms and 1 coordinate set(s) were parsed in 0.04s.\n",
      "@> 639 atoms and 1 coordinate set(s) were parsed in 0.01s.\n"
     ]
    },
    {
     "name": "stdout",
     "output_type": "stream",
     "text": [
      "writing 2JEL.mut.309_Repair.clean_HL\n",
      "writing 2JEL.mut.309_Repair.clean_P\n"
     ]
    },
    {
     "name": "stderr",
     "output_type": "stream",
     "text": [
      "@> 3301 atoms and 1 coordinate set(s) were parsed in 0.04s.\n",
      "@> 640 atoms and 1 coordinate set(s) were parsed in 0.01s.\n"
     ]
    },
    {
     "name": "stdout",
     "output_type": "stream",
     "text": [
      "writing 2JEL.mut.310_Repair.clean_HL\n",
      "writing 2JEL.mut.310_Repair.clean_P\n"
     ]
    },
    {
     "name": "stderr",
     "output_type": "stream",
     "text": [
      "@> 3301 atoms and 1 coordinate set(s) were parsed in 0.04s.\n",
      "@> 640 atoms and 1 coordinate set(s) were parsed in 0.01s.\n"
     ]
    },
    {
     "name": "stdout",
     "output_type": "stream",
     "text": [
      "writing 2JEL.mut.311_Repair.clean_HL\n",
      "writing 2JEL.mut.311_Repair.clean_P\n"
     ]
    },
    {
     "name": "stderr",
     "output_type": "stream",
     "text": [
      "@> 3301 atoms and 1 coordinate set(s) were parsed in 0.04s.\n",
      "@> 643 atoms and 1 coordinate set(s) were parsed in 0.01s.\n"
     ]
    },
    {
     "name": "stdout",
     "output_type": "stream",
     "text": [
      "writing 2JEL.mut.312_Repair.clean_HL\n",
      "writing 2JEL.mut.312_Repair.clean_P\n"
     ]
    },
    {
     "name": "stderr",
     "output_type": "stream",
     "text": [
      "@> 3301 atoms and 1 coordinate set(s) were parsed in 0.04s.\n",
      "@> 641 atoms and 1 coordinate set(s) were parsed in 0.01s.\n"
     ]
    },
    {
     "name": "stdout",
     "output_type": "stream",
     "text": [
      "writing 2JEL.mut.313_Repair.clean_HL\n",
      "writing 2JEL.mut.313_Repair.clean_P\n"
     ]
    },
    {
     "name": "stderr",
     "output_type": "stream",
     "text": [
      "@> 3301 atoms and 1 coordinate set(s) were parsed in 0.04s.\n",
      "@> 635 atoms and 1 coordinate set(s) were parsed in 0.01s.\n"
     ]
    },
    {
     "name": "stdout",
     "output_type": "stream",
     "text": [
      "writing 2JEL.mut.314_Repair.clean_HL\n",
      "writing 2JEL.mut.314_Repair.clean_P\n"
     ]
    },
    {
     "name": "stderr",
     "output_type": "stream",
     "text": [
      "@> 3301 atoms and 1 coordinate set(s) were parsed in 0.04s.\n",
      "@> 638 atoms and 1 coordinate set(s) were parsed in 0.01s.\n"
     ]
    },
    {
     "name": "stdout",
     "output_type": "stream",
     "text": [
      "writing 2JEL.mut.315_Repair.clean_HL\n",
      "writing 2JEL.mut.315_Repair.clean_P\n"
     ]
    },
    {
     "name": "stderr",
     "output_type": "stream",
     "text": [
      "@> 3301 atoms and 1 coordinate set(s) were parsed in 0.04s.\n",
      "@> 640 atoms and 1 coordinate set(s) were parsed in 0.01s.\n"
     ]
    },
    {
     "name": "stdout",
     "output_type": "stream",
     "text": [
      "writing 2JEL.mut.316_Repair.clean_HL\n",
      "writing 2JEL.mut.316_Repair.clean_P\n"
     ]
    },
    {
     "name": "stderr",
     "output_type": "stream",
     "text": [
      "@> 3301 atoms and 1 coordinate set(s) were parsed in 0.04s.\n",
      "@> 640 atoms and 1 coordinate set(s) were parsed in 0.01s.\n"
     ]
    },
    {
     "name": "stdout",
     "output_type": "stream",
     "text": [
      "writing 2JEL.mut.317_Repair.clean_HL\n",
      "writing 2JEL.mut.317_Repair.clean_P\n"
     ]
    },
    {
     "name": "stderr",
     "output_type": "stream",
     "text": [
      "@> 3301 atoms and 1 coordinate set(s) were parsed in 0.05s.\n",
      "@> 640 atoms and 1 coordinate set(s) were parsed in 0.01s.\n"
     ]
    },
    {
     "name": "stdout",
     "output_type": "stream",
     "text": [
      "writing 2JEL.mut.318_Repair.clean_HL\n",
      "writing 2JEL.mut.318_Repair.clean_P\n"
     ]
    },
    {
     "name": "stderr",
     "output_type": "stream",
     "text": [
      "@> 3301 atoms and 1 coordinate set(s) were parsed in 0.05s.\n",
      "@> 642 atoms and 1 coordinate set(s) were parsed in 0.02s.\n"
     ]
    },
    {
     "name": "stdout",
     "output_type": "stream",
     "text": [
      "writing 2JEL.mut.319_Repair.clean_HL\n",
      "writing 2JEL.mut.319_Repair.clean_P\n"
     ]
    },
    {
     "name": "stderr",
     "output_type": "stream",
     "text": [
      "@> 3301 atoms and 1 coordinate set(s) were parsed in 0.04s.\n",
      "@> 640 atoms and 1 coordinate set(s) were parsed in 0.01s.\n"
     ]
    },
    {
     "name": "stdout",
     "output_type": "stream",
     "text": [
      "writing 2JEL.mut.320_Repair.clean_HL\n",
      "writing 2JEL.mut.320_Repair.clean_P\n"
     ]
    },
    {
     "name": "stderr",
     "output_type": "stream",
     "text": [
      "@> 3301 atoms and 1 coordinate set(s) were parsed in 0.04s.\n",
      "@> 640 atoms and 1 coordinate set(s) were parsed in 0.01s.\n"
     ]
    },
    {
     "name": "stdout",
     "output_type": "stream",
     "text": [
      "writing 2JEL.mut.321_Repair.clean_HL\n",
      "writing 2JEL.mut.321_Repair.clean_P\n"
     ]
    },
    {
     "name": "stderr",
     "output_type": "stream",
     "text": [
      "@> 3301 atoms and 1 coordinate set(s) were parsed in 0.04s.\n",
      "@> 639 atoms and 1 coordinate set(s) were parsed in 0.02s.\n"
     ]
    },
    {
     "name": "stdout",
     "output_type": "stream",
     "text": [
      "writing 2JEL.mut.322_Repair.clean_HL\n",
      "writing 2JEL.mut.322_Repair.clean_P\n"
     ]
    },
    {
     "name": "stderr",
     "output_type": "stream",
     "text": [
      "@> 3301 atoms and 1 coordinate set(s) were parsed in 0.04s.\n",
      "@> 642 atoms and 1 coordinate set(s) were parsed in 0.01s.\n"
     ]
    },
    {
     "name": "stdout",
     "output_type": "stream",
     "text": [
      "writing 2JEL.mut.323_Repair.clean_HL\n",
      "writing 2JEL.mut.323_Repair.clean_P\n"
     ]
    },
    {
     "name": "stderr",
     "output_type": "stream",
     "text": [
      "@> 3301 atoms and 1 coordinate set(s) were parsed in 0.04s.\n",
      "@> 640 atoms and 1 coordinate set(s) were parsed in 0.03s.\n"
     ]
    },
    {
     "name": "stdout",
     "output_type": "stream",
     "text": [
      "writing 2JEL.mut.324_Repair.clean_HL\n",
      "writing 2JEL.mut.324_Repair.clean_P\n"
     ]
    },
    {
     "name": "stderr",
     "output_type": "stream",
     "text": [
      "@> 3301 atoms and 1 coordinate set(s) were parsed in 0.07s.\n"
     ]
    },
    {
     "name": "stdout",
     "output_type": "stream",
     "text": [
      "writing 2JEL.mut.325_Repair.clean_HL\n"
     ]
    },
    {
     "name": "stderr",
     "output_type": "stream",
     "text": [
      "@> 640 atoms and 1 coordinate set(s) were parsed in 0.07s.\n"
     ]
    },
    {
     "name": "stdout",
     "output_type": "stream",
     "text": [
      "writing 2JEL.mut.325_Repair.clean_P\n"
     ]
    },
    {
     "name": "stderr",
     "output_type": "stream",
     "text": [
      "@> 3301 atoms and 1 coordinate set(s) were parsed in 0.06s.\n"
     ]
    },
    {
     "name": "stdout",
     "output_type": "stream",
     "text": [
      "writing 2JEL.mut.326_Repair.clean_HL\n"
     ]
    },
    {
     "name": "stderr",
     "output_type": "stream",
     "text": [
      "@> 640 atoms and 1 coordinate set(s) were parsed in 0.07s.\n"
     ]
    },
    {
     "name": "stdout",
     "output_type": "stream",
     "text": [
      "writing 2JEL.mut.326_Repair.clean_P\n"
     ]
    },
    {
     "name": "stderr",
     "output_type": "stream",
     "text": [
      "@> 3301 atoms and 1 coordinate set(s) were parsed in 0.04s.\n",
      "@> 640 atoms and 1 coordinate set(s) were parsed in 0.01s.\n"
     ]
    },
    {
     "name": "stdout",
     "output_type": "stream",
     "text": [
      "writing 2JEL.mut.327_Repair.clean_HL\n",
      "writing 2JEL.mut.327_Repair.clean_P\n"
     ]
    },
    {
     "name": "stderr",
     "output_type": "stream",
     "text": [
      "@> 3301 atoms and 1 coordinate set(s) were parsed in 0.04s.\n",
      "@> 633 atoms and 1 coordinate set(s) were parsed in 0.01s.\n"
     ]
    },
    {
     "name": "stdout",
     "output_type": "stream",
     "text": [
      "writing 2JEL.mut.328_Repair.clean_HL\n",
      "writing 2JEL.mut.328_Repair.clean_P\n"
     ]
    },
    {
     "name": "stderr",
     "output_type": "stream",
     "text": [
      "@> 3301 atoms and 1 coordinate set(s) were parsed in 0.04s.\n",
      "@> 638 atoms and 1 coordinate set(s) were parsed in 0.01s.\n"
     ]
    },
    {
     "name": "stdout",
     "output_type": "stream",
     "text": [
      "writing 2JEL.mut.329_Repair.clean_HL\n",
      "writing 2JEL.mut.329_Repair.clean_P\n"
     ]
    },
    {
     "name": "stderr",
     "output_type": "stream",
     "text": [
      "@> 3301 atoms and 1 coordinate set(s) were parsed in 0.04s.\n",
      "@> 640 atoms and 1 coordinate set(s) were parsed in 0.02s.\n"
     ]
    },
    {
     "name": "stdout",
     "output_type": "stream",
     "text": [
      "writing 2JEL.mut.330_Repair.clean_HL\n",
      "writing 2JEL.mut.330_Repair.clean_P\n"
     ]
    },
    {
     "name": "stderr",
     "output_type": "stream",
     "text": [
      "@> 3301 atoms and 1 coordinate set(s) were parsed in 0.04s.\n",
      "@> 640 atoms and 1 coordinate set(s) were parsed in 0.01s.\n"
     ]
    },
    {
     "name": "stdout",
     "output_type": "stream",
     "text": [
      "writing 2JEL.mut.331_Repair.clean_HL\n",
      "writing 2JEL.mut.331_Repair.clean_P\n"
     ]
    },
    {
     "name": "stderr",
     "output_type": "stream",
     "text": [
      "@> 3301 atoms and 1 coordinate set(s) were parsed in 0.04s.\n",
      "@> 640 atoms and 1 coordinate set(s) were parsed in 0.01s.\n"
     ]
    },
    {
     "name": "stdout",
     "output_type": "stream",
     "text": [
      "writing 2JEL.mut.332_Repair.clean_HL\n",
      "writing 2JEL.mut.332_Repair.clean_P\n"
     ]
    },
    {
     "name": "stderr",
     "output_type": "stream",
     "text": [
      "@> 3301 atoms and 1 coordinate set(s) were parsed in 0.05s.\n",
      "@> 641 atoms and 1 coordinate set(s) were parsed in 0.01s.\n"
     ]
    },
    {
     "name": "stdout",
     "output_type": "stream",
     "text": [
      "writing 2JEL.mut.333_Repair.clean_HL\n",
      "writing 2JEL.mut.333_Repair.clean_P\n"
     ]
    },
    {
     "name": "stderr",
     "output_type": "stream",
     "text": [
      "@> 3301 atoms and 1 coordinate set(s) were parsed in 0.10s.\n"
     ]
    },
    {
     "name": "stdout",
     "output_type": "stream",
     "text": [
      "writing 2JEL.mut.334_Repair.clean_HL\n"
     ]
    },
    {
     "name": "stderr",
     "output_type": "stream",
     "text": [
      "@> 642 atoms and 1 coordinate set(s) were parsed in 0.03s.\n"
     ]
    },
    {
     "name": "stdout",
     "output_type": "stream",
     "text": [
      "writing 2JEL.mut.334_Repair.clean_P\n"
     ]
    },
    {
     "name": "stderr",
     "output_type": "stream",
     "text": [
      "@> 3301 atoms and 1 coordinate set(s) were parsed in 0.12s.\n"
     ]
    },
    {
     "name": "stdout",
     "output_type": "stream",
     "text": [
      "writing 2JEL.mut.335_Repair.clean_HL\n"
     ]
    },
    {
     "name": "stderr",
     "output_type": "stream",
     "text": [
      "@> 642 atoms and 1 coordinate set(s) were parsed in 0.03s.\n"
     ]
    },
    {
     "name": "stdout",
     "output_type": "stream",
     "text": [
      "writing 2JEL.mut.335_Repair.clean_P\n"
     ]
    },
    {
     "name": "stderr",
     "output_type": "stream",
     "text": [
      "@> 3301 atoms and 1 coordinate set(s) were parsed in 0.11s.\n",
      "@> 638 atoms and 1 coordinate set(s) were parsed in 0.02s.\n"
     ]
    },
    {
     "name": "stdout",
     "output_type": "stream",
     "text": [
      "writing 2JEL.mut.336_Repair.clean_HL\n",
      "writing 2JEL.mut.336_Repair.clean_P\n"
     ]
    },
    {
     "name": "stderr",
     "output_type": "stream",
     "text": [
      "@> 3301 atoms and 1 coordinate set(s) were parsed in 0.15s.\n",
      "@> 641 atoms and 1 coordinate set(s) were parsed in 0.01s.\n"
     ]
    },
    {
     "name": "stdout",
     "output_type": "stream",
     "text": [
      "writing 2JEL.mut.337_Repair.clean_HL\n",
      "writing 2JEL.mut.337_Repair.clean_P\n"
     ]
    },
    {
     "name": "stderr",
     "output_type": "stream",
     "text": [
      "@> 3301 atoms and 1 coordinate set(s) were parsed in 0.04s.\n",
      "@> 641 atoms and 1 coordinate set(s) were parsed in 0.01s.\n"
     ]
    },
    {
     "name": "stdout",
     "output_type": "stream",
     "text": [
      "writing 2JEL.mut.338_Repair.clean_HL\n",
      "writing 2JEL.mut.338_Repair.clean_P\n"
     ]
    },
    {
     "name": "stderr",
     "output_type": "stream",
     "text": [
      "@> 3301 atoms and 1 coordinate set(s) were parsed in 0.10s.\n"
     ]
    },
    {
     "name": "stdout",
     "output_type": "stream",
     "text": [
      "writing 2JEL.mut.339_Repair.clean_HL\n"
     ]
    },
    {
     "name": "stderr",
     "output_type": "stream",
     "text": [
      "@> 639 atoms and 1 coordinate set(s) were parsed in 0.10s.\n"
     ]
    },
    {
     "name": "stdout",
     "output_type": "stream",
     "text": [
      "writing 2JEL.mut.339_Repair.clean_P\n"
     ]
    },
    {
     "name": "stderr",
     "output_type": "stream",
     "text": [
      "@> 3301 atoms and 1 coordinate set(s) were parsed in 0.04s.\n",
      "@> 644 atoms and 1 coordinate set(s) were parsed in 0.01s.\n"
     ]
    },
    {
     "name": "stdout",
     "output_type": "stream",
     "text": [
      "writing 2JEL.mut.340_Repair.clean_HL\n",
      "writing 2JEL.mut.340_Repair.clean_P\n"
     ]
    },
    {
     "name": "stderr",
     "output_type": "stream",
     "text": [
      "@> 10329 atoms and 1 coordinate set(s) were parsed in 0.13s.\n"
     ]
    },
    {
     "name": "stdout",
     "output_type": "stream",
     "text": [
      "writing 2NYY.mut.341_Repair.clean_A\n"
     ]
    },
    {
     "name": "stderr",
     "output_type": "stream",
     "text": [
      "@> 3310 atoms and 1 coordinate set(s) were parsed in 0.06s.\n"
     ]
    },
    {
     "name": "stdout",
     "output_type": "stream",
     "text": [
      "writing 2NYY.mut.341_Repair.clean_HL\n"
     ]
    },
    {
     "name": "stderr",
     "output_type": "stream",
     "text": [
      "@> 10329 atoms and 1 coordinate set(s) were parsed in 0.12s.\n"
     ]
    },
    {
     "name": "stdout",
     "output_type": "stream",
     "text": [
      "writing 2NYY.mut.342_Repair.clean_A\n"
     ]
    },
    {
     "name": "stderr",
     "output_type": "stream",
     "text": [
      "@> 3310 atoms and 1 coordinate set(s) were parsed in 0.06s.\n"
     ]
    },
    {
     "name": "stdout",
     "output_type": "stream",
     "text": [
      "writing 2NYY.mut.342_Repair.clean_HL\n"
     ]
    },
    {
     "name": "stderr",
     "output_type": "stream",
     "text": [
      "@> 10328 atoms and 1 coordinate set(s) were parsed in 0.12s.\n"
     ]
    },
    {
     "name": "stdout",
     "output_type": "stream",
     "text": [
      "writing 2NYY.mut.343_Repair.clean_A\n"
     ]
    },
    {
     "name": "stderr",
     "output_type": "stream",
     "text": [
      "@> 3310 atoms and 1 coordinate set(s) were parsed in 0.06s.\n"
     ]
    },
    {
     "name": "stdout",
     "output_type": "stream",
     "text": [
      "writing 2NYY.mut.343_Repair.clean_HL\n"
     ]
    },
    {
     "name": "stderr",
     "output_type": "stream",
     "text": [
      "@> 10326 atoms and 1 coordinate set(s) were parsed in 0.13s.\n"
     ]
    },
    {
     "name": "stdout",
     "output_type": "stream",
     "text": [
      "writing 2NYY.mut.344_Repair.clean_A\n"
     ]
    },
    {
     "name": "stderr",
     "output_type": "stream",
     "text": [
      "@> 3310 atoms and 1 coordinate set(s) were parsed in 0.06s.\n"
     ]
    },
    {
     "name": "stdout",
     "output_type": "stream",
     "text": [
      "writing 2NYY.mut.344_Repair.clean_HL\n"
     ]
    },
    {
     "name": "stderr",
     "output_type": "stream",
     "text": [
      "@> 10326 atoms and 1 coordinate set(s) were parsed in 0.12s.\n"
     ]
    },
    {
     "name": "stdout",
     "output_type": "stream",
     "text": [
      "writing 2NYY.mut.345_Repair.clean_A\n"
     ]
    },
    {
     "name": "stderr",
     "output_type": "stream",
     "text": [
      "@> 3310 atoms and 1 coordinate set(s) were parsed in 0.05s.\n"
     ]
    },
    {
     "name": "stdout",
     "output_type": "stream",
     "text": [
      "writing 2NYY.mut.345_Repair.clean_HL\n"
     ]
    },
    {
     "name": "stderr",
     "output_type": "stream",
     "text": [
      "@> 10327 atoms and 1 coordinate set(s) were parsed in 0.12s.\n"
     ]
    },
    {
     "name": "stdout",
     "output_type": "stream",
     "text": [
      "writing 2NYY.mut.346_Repair.clean_A\n"
     ]
    },
    {
     "name": "stderr",
     "output_type": "stream",
     "text": [
      "@> 3310 atoms and 1 coordinate set(s) were parsed in 0.06s.\n"
     ]
    },
    {
     "name": "stdout",
     "output_type": "stream",
     "text": [
      "writing 2NYY.mut.346_Repair.clean_HL\n"
     ]
    },
    {
     "name": "stderr",
     "output_type": "stream",
     "text": [
      "@> 10329 atoms and 1 coordinate set(s) were parsed in 0.12s.\n"
     ]
    },
    {
     "name": "stdout",
     "output_type": "stream",
     "text": [
      "writing 2NYY.mut.347_Repair.clean_A\n"
     ]
    },
    {
     "name": "stderr",
     "output_type": "stream",
     "text": [
      "@> 3310 atoms and 1 coordinate set(s) were parsed in 0.06s.\n"
     ]
    },
    {
     "name": "stdout",
     "output_type": "stream",
     "text": [
      "writing 2NYY.mut.347_Repair.clean_HL\n"
     ]
    },
    {
     "name": "stderr",
     "output_type": "stream",
     "text": [
      "@> 10328 atoms and 1 coordinate set(s) were parsed in 0.12s.\n"
     ]
    },
    {
     "name": "stdout",
     "output_type": "stream",
     "text": [
      "writing 2NYY.mut.348_Repair.clean_A\n"
     ]
    },
    {
     "name": "stderr",
     "output_type": "stream",
     "text": [
      "@> 3310 atoms and 1 coordinate set(s) were parsed in 0.06s.\n"
     ]
    },
    {
     "name": "stdout",
     "output_type": "stream",
     "text": [
      "writing 2NYY.mut.348_Repair.clean_HL\n"
     ]
    },
    {
     "name": "stderr",
     "output_type": "stream",
     "text": [
      "@> 10328 atoms and 1 coordinate set(s) were parsed in 0.12s.\n"
     ]
    },
    {
     "name": "stdout",
     "output_type": "stream",
     "text": [
      "writing 2NYY.mut.349_Repair.clean_A\n"
     ]
    },
    {
     "name": "stderr",
     "output_type": "stream",
     "text": [
      "@> 3310 atoms and 1 coordinate set(s) were parsed in 0.05s.\n"
     ]
    },
    {
     "name": "stdout",
     "output_type": "stream",
     "text": [
      "writing 2NYY.mut.349_Repair.clean_HL\n"
     ]
    },
    {
     "name": "stderr",
     "output_type": "stream",
     "text": [
      "@> 10328 atoms and 1 coordinate set(s) were parsed in 0.12s.\n"
     ]
    },
    {
     "name": "stdout",
     "output_type": "stream",
     "text": [
      "writing 2NYY.mut.350_Repair.clean_A\n"
     ]
    },
    {
     "name": "stderr",
     "output_type": "stream",
     "text": [
      "@> 3310 atoms and 1 coordinate set(s) were parsed in 0.06s.\n"
     ]
    },
    {
     "name": "stdout",
     "output_type": "stream",
     "text": [
      "writing 2NYY.mut.350_Repair.clean_HL\n"
     ]
    },
    {
     "name": "stderr",
     "output_type": "stream",
     "text": [
      "@> 10329 atoms and 1 coordinate set(s) were parsed in 0.12s.\n"
     ]
    },
    {
     "name": "stdout",
     "output_type": "stream",
     "text": [
      "writing 2NYY.mut.351_Repair.clean_A\n"
     ]
    },
    {
     "name": "stderr",
     "output_type": "stream",
     "text": [
      "@> 3310 atoms and 1 coordinate set(s) were parsed in 0.07s.\n"
     ]
    },
    {
     "name": "stdout",
     "output_type": "stream",
     "text": [
      "writing 2NYY.mut.351_Repair.clean_HL\n"
     ]
    },
    {
     "name": "stderr",
     "output_type": "stream",
     "text": [
      "@> 10329 atoms and 1 coordinate set(s) were parsed in 0.12s.\n"
     ]
    },
    {
     "name": "stdout",
     "output_type": "stream",
     "text": [
      "writing 2NYY.mut.352_Repair.clean_A\n"
     ]
    },
    {
     "name": "stderr",
     "output_type": "stream",
     "text": [
      "@> 3310 atoms and 1 coordinate set(s) were parsed in 0.06s.\n"
     ]
    },
    {
     "name": "stdout",
     "output_type": "stream",
     "text": [
      "writing 2NYY.mut.352_Repair.clean_HL\n"
     ]
    },
    {
     "name": "stderr",
     "output_type": "stream",
     "text": [
      "@> 10329 atoms and 1 coordinate set(s) were parsed in 0.13s.\n"
     ]
    },
    {
     "name": "stdout",
     "output_type": "stream",
     "text": [
      "writing 2NYY.mut.353_Repair.clean_A\n"
     ]
    },
    {
     "name": "stderr",
     "output_type": "stream",
     "text": [
      "@> 3310 atoms and 1 coordinate set(s) were parsed in 0.05s.\n"
     ]
    },
    {
     "name": "stdout",
     "output_type": "stream",
     "text": [
      "writing 2NYY.mut.353_Repair.clean_HL\n"
     ]
    },
    {
     "name": "stderr",
     "output_type": "stream",
     "text": [
      "@> 10328 atoms and 1 coordinate set(s) were parsed in 0.12s.\n"
     ]
    },
    {
     "name": "stdout",
     "output_type": "stream",
     "text": [
      "writing 2NYY.mut.354_Repair.clean_A\n"
     ]
    },
    {
     "name": "stderr",
     "output_type": "stream",
     "text": [
      "@> 3310 atoms and 1 coordinate set(s) were parsed in 0.06s.\n"
     ]
    },
    {
     "name": "stdout",
     "output_type": "stream",
     "text": [
      "writing 2NYY.mut.354_Repair.clean_HL\n"
     ]
    },
    {
     "name": "stderr",
     "output_type": "stream",
     "text": [
      "@> 10326 atoms and 1 coordinate set(s) were parsed in 0.12s.\n"
     ]
    },
    {
     "name": "stdout",
     "output_type": "stream",
     "text": [
      "writing 2NYY.mut.355_Repair.clean_A\n"
     ]
    },
    {
     "name": "stderr",
     "output_type": "stream",
     "text": [
      "@> 3310 atoms and 1 coordinate set(s) were parsed in 0.06s.\n"
     ]
    },
    {
     "name": "stdout",
     "output_type": "stream",
     "text": [
      "writing 2NYY.mut.355_Repair.clean_HL\n"
     ]
    },
    {
     "name": "stderr",
     "output_type": "stream",
     "text": [
      "@> 10326 atoms and 1 coordinate set(s) were parsed in 0.25s.\n"
     ]
    },
    {
     "name": "stdout",
     "output_type": "stream",
     "text": [
      "writing 2NYY.mut.356_Repair.clean_A\n"
     ]
    },
    {
     "name": "stderr",
     "output_type": "stream",
     "text": [
      "@> 3310 atoms and 1 coordinate set(s) were parsed in 0.06s.\n"
     ]
    },
    {
     "name": "stdout",
     "output_type": "stream",
     "text": [
      "writing 2NYY.mut.356_Repair.clean_HL\n"
     ]
    },
    {
     "name": "stderr",
     "output_type": "stream",
     "text": [
      "@> 10331 atoms and 1 coordinate set(s) were parsed in 0.13s.\n"
     ]
    },
    {
     "name": "stdout",
     "output_type": "stream",
     "text": [
      "writing 2NYY.mut.357_Repair.clean_A\n"
     ]
    },
    {
     "name": "stderr",
     "output_type": "stream",
     "text": [
      "@> 3310 atoms and 1 coordinate set(s) were parsed in 0.05s.\n"
     ]
    },
    {
     "name": "stdout",
     "output_type": "stream",
     "text": [
      "writing 2NYY.mut.357_Repair.clean_HL\n"
     ]
    },
    {
     "name": "stderr",
     "output_type": "stream",
     "text": [
      "@> 10331 atoms and 1 coordinate set(s) were parsed in 0.12s.\n"
     ]
    },
    {
     "name": "stdout",
     "output_type": "stream",
     "text": [
      "writing 2NYY.mut.358_Repair.clean_A\n"
     ]
    },
    {
     "name": "stderr",
     "output_type": "stream",
     "text": [
      "@> 3310 atoms and 1 coordinate set(s) were parsed in 0.05s.\n"
     ]
    },
    {
     "name": "stdout",
     "output_type": "stream",
     "text": [
      "writing 2NYY.mut.358_Repair.clean_HL\n"
     ]
    },
    {
     "name": "stderr",
     "output_type": "stream",
     "text": [
      "@> 10330 atoms and 1 coordinate set(s) were parsed in 0.12s.\n"
     ]
    },
    {
     "name": "stdout",
     "output_type": "stream",
     "text": [
      "writing 2NYY.mut.359_Repair.clean_A\n"
     ]
    },
    {
     "name": "stderr",
     "output_type": "stream",
     "text": [
      "@> 3310 atoms and 1 coordinate set(s) were parsed in 0.06s.\n"
     ]
    },
    {
     "name": "stdout",
     "output_type": "stream",
     "text": [
      "writing 2NYY.mut.359_Repair.clean_HL\n"
     ]
    },
    {
     "name": "stderr",
     "output_type": "stream",
     "text": [
      "@> 10332 atoms and 1 coordinate set(s) were parsed in 0.17s.\n"
     ]
    },
    {
     "name": "stdout",
     "output_type": "stream",
     "text": [
      "writing 2NYY.mut.360_Repair.clean_A\n"
     ]
    },
    {
     "name": "stderr",
     "output_type": "stream",
     "text": [
      "@> 3312 atoms and 1 coordinate set(s) were parsed in 0.06s.\n"
     ]
    },
    {
     "name": "stdout",
     "output_type": "stream",
     "text": [
      "writing 2NYY.mut.360_Repair.clean_HL\n"
     ]
    },
    {
     "name": "stderr",
     "output_type": "stream",
     "text": [
      "@> 10332 atoms and 1 coordinate set(s) were parsed in 0.12s.\n"
     ]
    },
    {
     "name": "stdout",
     "output_type": "stream",
     "text": [
      "writing 2NYY.mut.361_Repair.clean_A\n"
     ]
    },
    {
     "name": "stderr",
     "output_type": "stream",
     "text": [
      "@> 3311 atoms and 1 coordinate set(s) were parsed in 0.06s.\n"
     ]
    },
    {
     "name": "stdout",
     "output_type": "stream",
     "text": [
      "writing 2NYY.mut.361_Repair.clean_HL\n"
     ]
    },
    {
     "name": "stderr",
     "output_type": "stream",
     "text": [
      "@> 10332 atoms and 1 coordinate set(s) were parsed in 0.12s.\n"
     ]
    },
    {
     "name": "stdout",
     "output_type": "stream",
     "text": [
      "writing 2NYY.mut.362_Repair.clean_A\n"
     ]
    },
    {
     "name": "stderr",
     "output_type": "stream",
     "text": [
      "@> 3306 atoms and 1 coordinate set(s) were parsed in 0.06s.\n"
     ]
    },
    {
     "name": "stdout",
     "output_type": "stream",
     "text": [
      "writing 2NYY.mut.362_Repair.clean_HL\n"
     ]
    },
    {
     "name": "stderr",
     "output_type": "stream",
     "text": [
      "@> 10332 atoms and 1 coordinate set(s) were parsed in 0.12s.\n"
     ]
    },
    {
     "name": "stdout",
     "output_type": "stream",
     "text": [
      "writing 2NYY.mut.363_Repair.clean_A\n"
     ]
    },
    {
     "name": "stderr",
     "output_type": "stream",
     "text": [
      "@> 3307 atoms and 1 coordinate set(s) were parsed in 0.05s.\n"
     ]
    },
    {
     "name": "stdout",
     "output_type": "stream",
     "text": [
      "writing 2NYY.mut.363_Repair.clean_HL\n"
     ]
    },
    {
     "name": "stderr",
     "output_type": "stream",
     "text": [
      "@> 10332 atoms and 1 coordinate set(s) were parsed in 0.12s.\n"
     ]
    },
    {
     "name": "stdout",
     "output_type": "stream",
     "text": [
      "writing 2NYY.mut.364_Repair.clean_A\n"
     ]
    },
    {
     "name": "stderr",
     "output_type": "stream",
     "text": [
      "@> 3307 atoms and 1 coordinate set(s) were parsed in 0.05s.\n"
     ]
    },
    {
     "name": "stdout",
     "output_type": "stream",
     "text": [
      "writing 2NYY.mut.364_Repair.clean_HL\n"
     ]
    },
    {
     "name": "stderr",
     "output_type": "stream",
     "text": [
      "@> 10332 atoms and 1 coordinate set(s) were parsed in 0.12s.\n"
     ]
    },
    {
     "name": "stdout",
     "output_type": "stream",
     "text": [
      "writing 2NYY.mut.365_Repair.clean_A\n"
     ]
    },
    {
     "name": "stderr",
     "output_type": "stream",
     "text": [
      "@> 3314 atoms and 1 coordinate set(s) were parsed in 0.06s.\n"
     ]
    },
    {
     "name": "stdout",
     "output_type": "stream",
     "text": [
      "writing 2NYY.mut.365_Repair.clean_HL\n"
     ]
    },
    {
     "name": "stderr",
     "output_type": "stream",
     "text": [
      "@> 10332 atoms and 1 coordinate set(s) were parsed in 0.12s.\n"
     ]
    },
    {
     "name": "stdout",
     "output_type": "stream",
     "text": [
      "writing 2NYY.mut.366_Repair.clean_A\n"
     ]
    },
    {
     "name": "stderr",
     "output_type": "stream",
     "text": [
      "@> 3311 atoms and 1 coordinate set(s) were parsed in 0.06s.\n"
     ]
    },
    {
     "name": "stdout",
     "output_type": "stream",
     "text": [
      "writing 2NYY.mut.366_Repair.clean_HL\n"
     ]
    },
    {
     "name": "stderr",
     "output_type": "stream",
     "text": [
      "@> 10332 atoms and 1 coordinate set(s) were parsed in 0.12s.\n"
     ]
    },
    {
     "name": "stdout",
     "output_type": "stream",
     "text": [
      "writing 2NYY.mut.367_Repair.clean_A\n"
     ]
    },
    {
     "name": "stderr",
     "output_type": "stream",
     "text": [
      "@> 3313 atoms and 1 coordinate set(s) were parsed in 0.05s.\n"
     ]
    },
    {
     "name": "stdout",
     "output_type": "stream",
     "text": [
      "writing 2NYY.mut.367_Repair.clean_HL\n"
     ]
    },
    {
     "name": "stderr",
     "output_type": "stream",
     "text": [
      "@> 10332 atoms and 1 coordinate set(s) were parsed in 0.12s.\n"
     ]
    },
    {
     "name": "stdout",
     "output_type": "stream",
     "text": [
      "writing 2NYY.mut.368_Repair.clean_A\n"
     ]
    },
    {
     "name": "stderr",
     "output_type": "stream",
     "text": [
      "@> 3312 atoms and 1 coordinate set(s) were parsed in 0.05s.\n"
     ]
    },
    {
     "name": "stdout",
     "output_type": "stream",
     "text": [
      "writing 2NYY.mut.368_Repair.clean_HL\n"
     ]
    },
    {
     "name": "stderr",
     "output_type": "stream",
     "text": [
      "@> 10329 atoms and 1 coordinate set(s) were parsed in 0.12s.\n"
     ]
    },
    {
     "name": "stdout",
     "output_type": "stream",
     "text": [
      "writing 2NZ9.mut.369_Repair.clean_A\n"
     ]
    },
    {
     "name": "stderr",
     "output_type": "stream",
     "text": [
      "@> 3305 atoms and 1 coordinate set(s) were parsed in 0.05s.\n"
     ]
    },
    {
     "name": "stdout",
     "output_type": "stream",
     "text": [
      "writing 2NZ9.mut.369_Repair.clean_HL\n"
     ]
    },
    {
     "name": "stderr",
     "output_type": "stream",
     "text": [
      "@> 10329 atoms and 1 coordinate set(s) were parsed in 0.17s.\n"
     ]
    },
    {
     "name": "stdout",
     "output_type": "stream",
     "text": [
      "writing 2NZ9.mut.370_Repair.clean_A\n"
     ]
    },
    {
     "name": "stderr",
     "output_type": "stream",
     "text": [
      "@> 3305 atoms and 1 coordinate set(s) were parsed in 0.05s.\n"
     ]
    },
    {
     "name": "stdout",
     "output_type": "stream",
     "text": [
      "writing 2NZ9.mut.370_Repair.clean_HL\n"
     ]
    },
    {
     "name": "stderr",
     "output_type": "stream",
     "text": [
      "@> 10328 atoms and 1 coordinate set(s) were parsed in 0.17s.\n"
     ]
    },
    {
     "name": "stdout",
     "output_type": "stream",
     "text": [
      "writing 2NZ9.mut.371_Repair.clean_A\n"
     ]
    },
    {
     "name": "stderr",
     "output_type": "stream",
     "text": [
      "@> 3305 atoms and 1 coordinate set(s) were parsed in 0.06s.\n"
     ]
    },
    {
     "name": "stdout",
     "output_type": "stream",
     "text": [
      "writing 2NZ9.mut.371_Repair.clean_HL\n"
     ]
    },
    {
     "name": "stderr",
     "output_type": "stream",
     "text": [
      "@> 10326 atoms and 1 coordinate set(s) were parsed in 0.12s.\n"
     ]
    },
    {
     "name": "stdout",
     "output_type": "stream",
     "text": [
      "writing 2NZ9.mut.372_Repair.clean_A\n"
     ]
    },
    {
     "name": "stderr",
     "output_type": "stream",
     "text": [
      "@> 3305 atoms and 1 coordinate set(s) were parsed in 0.06s.\n"
     ]
    },
    {
     "name": "stdout",
     "output_type": "stream",
     "text": [
      "writing 2NZ9.mut.372_Repair.clean_HL\n"
     ]
    },
    {
     "name": "stderr",
     "output_type": "stream",
     "text": [
      "@> 10326 atoms and 1 coordinate set(s) were parsed in 0.12s.\n"
     ]
    },
    {
     "name": "stdout",
     "output_type": "stream",
     "text": [
      "writing 2NZ9.mut.373_Repair.clean_A\n"
     ]
    },
    {
     "name": "stderr",
     "output_type": "stream",
     "text": [
      "@> 3305 atoms and 1 coordinate set(s) were parsed in 0.16s.\n"
     ]
    },
    {
     "name": "stdout",
     "output_type": "stream",
     "text": [
      "writing 2NZ9.mut.373_Repair.clean_HL\n"
     ]
    },
    {
     "name": "stderr",
     "output_type": "stream",
     "text": [
      "@> 10327 atoms and 1 coordinate set(s) were parsed in 0.13s.\n"
     ]
    },
    {
     "name": "stdout",
     "output_type": "stream",
     "text": [
      "writing 2NZ9.mut.374_Repair.clean_A\n"
     ]
    },
    {
     "name": "stderr",
     "output_type": "stream",
     "text": [
      "@> 3305 atoms and 1 coordinate set(s) were parsed in 0.06s.\n"
     ]
    },
    {
     "name": "stdout",
     "output_type": "stream",
     "text": [
      "writing 2NZ9.mut.374_Repair.clean_HL\n"
     ]
    },
    {
     "name": "stderr",
     "output_type": "stream",
     "text": [
      "@> 10329 atoms and 1 coordinate set(s) were parsed in 0.12s.\n"
     ]
    },
    {
     "name": "stdout",
     "output_type": "stream",
     "text": [
      "writing 2NZ9.mut.375_Repair.clean_A\n"
     ]
    },
    {
     "name": "stderr",
     "output_type": "stream",
     "text": [
      "@> 3305 atoms and 1 coordinate set(s) were parsed in 0.05s.\n"
     ]
    },
    {
     "name": "stdout",
     "output_type": "stream",
     "text": [
      "writing 2NZ9.mut.375_Repair.clean_HL\n"
     ]
    },
    {
     "name": "stderr",
     "output_type": "stream",
     "text": [
      "@> 10328 atoms and 1 coordinate set(s) were parsed in 0.12s.\n"
     ]
    },
    {
     "name": "stdout",
     "output_type": "stream",
     "text": [
      "writing 2NZ9.mut.376_Repair.clean_A\n"
     ]
    },
    {
     "name": "stderr",
     "output_type": "stream",
     "text": [
      "@> 3305 atoms and 1 coordinate set(s) were parsed in 0.05s.\n"
     ]
    },
    {
     "name": "stdout",
     "output_type": "stream",
     "text": [
      "writing 2NZ9.mut.376_Repair.clean_HL\n"
     ]
    },
    {
     "name": "stderr",
     "output_type": "stream",
     "text": [
      "@> 10328 atoms and 1 coordinate set(s) were parsed in 0.12s.\n"
     ]
    },
    {
     "name": "stdout",
     "output_type": "stream",
     "text": [
      "writing 2NZ9.mut.377_Repair.clean_A\n"
     ]
    },
    {
     "name": "stderr",
     "output_type": "stream",
     "text": [
      "@> 3305 atoms and 1 coordinate set(s) were parsed in 0.06s.\n"
     ]
    },
    {
     "name": "stdout",
     "output_type": "stream",
     "text": [
      "writing 2NZ9.mut.377_Repair.clean_HL\n"
     ]
    },
    {
     "name": "stderr",
     "output_type": "stream",
     "text": [
      "@> 10328 atoms and 1 coordinate set(s) were parsed in 0.12s.\n"
     ]
    },
    {
     "name": "stdout",
     "output_type": "stream",
     "text": [
      "writing 2NZ9.mut.378_Repair.clean_A\n"
     ]
    },
    {
     "name": "stderr",
     "output_type": "stream",
     "text": [
      "@> 3305 atoms and 1 coordinate set(s) were parsed in 0.06s.\n"
     ]
    },
    {
     "name": "stdout",
     "output_type": "stream",
     "text": [
      "writing 2NZ9.mut.378_Repair.clean_HL\n"
     ]
    },
    {
     "name": "stderr",
     "output_type": "stream",
     "text": [
      "@> 10329 atoms and 1 coordinate set(s) were parsed in 0.12s.\n"
     ]
    },
    {
     "name": "stdout",
     "output_type": "stream",
     "text": [
      "writing 2NZ9.mut.379_Repair.clean_A\n"
     ]
    },
    {
     "name": "stderr",
     "output_type": "stream",
     "text": [
      "@> 3305 atoms and 1 coordinate set(s) were parsed in 0.06s.\n"
     ]
    },
    {
     "name": "stdout",
     "output_type": "stream",
     "text": [
      "writing 2NZ9.mut.379_Repair.clean_HL\n"
     ]
    },
    {
     "name": "stderr",
     "output_type": "stream",
     "text": [
      "@> 10329 atoms and 1 coordinate set(s) were parsed in 0.12s.\n"
     ]
    },
    {
     "name": "stdout",
     "output_type": "stream",
     "text": [
      "writing 2NZ9.mut.380_Repair.clean_A\n"
     ]
    },
    {
     "name": "stderr",
     "output_type": "stream",
     "text": [
      "@> 3305 atoms and 1 coordinate set(s) were parsed in 0.06s.\n"
     ]
    },
    {
     "name": "stdout",
     "output_type": "stream",
     "text": [
      "writing 2NZ9.mut.380_Repair.clean_HL\n"
     ]
    },
    {
     "name": "stderr",
     "output_type": "stream",
     "text": [
      "@> 10329 atoms and 1 coordinate set(s) were parsed in 0.12s.\n"
     ]
    },
    {
     "name": "stdout",
     "output_type": "stream",
     "text": [
      "writing 2NZ9.mut.381_Repair.clean_A\n"
     ]
    },
    {
     "name": "stderr",
     "output_type": "stream",
     "text": [
      "@> 3305 atoms and 1 coordinate set(s) were parsed in 0.06s.\n"
     ]
    },
    {
     "name": "stdout",
     "output_type": "stream",
     "text": [
      "writing 2NZ9.mut.381_Repair.clean_HL\n"
     ]
    },
    {
     "name": "stderr",
     "output_type": "stream",
     "text": [
      "@> 10328 atoms and 1 coordinate set(s) were parsed in 0.12s.\n"
     ]
    },
    {
     "name": "stdout",
     "output_type": "stream",
     "text": [
      "writing 2NZ9.mut.382_Repair.clean_A\n"
     ]
    },
    {
     "name": "stderr",
     "output_type": "stream",
     "text": [
      "@> 3305 atoms and 1 coordinate set(s) were parsed in 0.06s.\n"
     ]
    },
    {
     "name": "stdout",
     "output_type": "stream",
     "text": [
      "writing 2NZ9.mut.382_Repair.clean_HL\n"
     ]
    },
    {
     "name": "stderr",
     "output_type": "stream",
     "text": [
      "@> 10326 atoms and 1 coordinate set(s) were parsed in 0.12s.\n"
     ]
    },
    {
     "name": "stdout",
     "output_type": "stream",
     "text": [
      "writing 2NZ9.mut.383_Repair.clean_A\n"
     ]
    },
    {
     "name": "stderr",
     "output_type": "stream",
     "text": [
      "@> 3305 atoms and 1 coordinate set(s) were parsed in 0.05s.\n"
     ]
    },
    {
     "name": "stdout",
     "output_type": "stream",
     "text": [
      "writing 2NZ9.mut.383_Repair.clean_HL\n"
     ]
    },
    {
     "name": "stderr",
     "output_type": "stream",
     "text": [
      "@> 10326 atoms and 1 coordinate set(s) were parsed in 0.12s.\n"
     ]
    },
    {
     "name": "stdout",
     "output_type": "stream",
     "text": [
      "writing 2NZ9.mut.384_Repair.clean_A\n"
     ]
    },
    {
     "name": "stderr",
     "output_type": "stream",
     "text": [
      "@> 3305 atoms and 1 coordinate set(s) were parsed in 0.05s.\n"
     ]
    },
    {
     "name": "stdout",
     "output_type": "stream",
     "text": [
      "writing 2NZ9.mut.384_Repair.clean_HL\n"
     ]
    },
    {
     "name": "stderr",
     "output_type": "stream",
     "text": [
      "@> 10331 atoms and 1 coordinate set(s) were parsed in 0.12s.\n"
     ]
    },
    {
     "name": "stdout",
     "output_type": "stream",
     "text": [
      "writing 2NZ9.mut.385_Repair.clean_A\n"
     ]
    },
    {
     "name": "stderr",
     "output_type": "stream",
     "text": [
      "@> 3305 atoms and 1 coordinate set(s) were parsed in 0.06s.\n"
     ]
    },
    {
     "name": "stdout",
     "output_type": "stream",
     "text": [
      "writing 2NZ9.mut.385_Repair.clean_HL\n"
     ]
    },
    {
     "name": "stderr",
     "output_type": "stream",
     "text": [
      "@> 10331 atoms and 1 coordinate set(s) were parsed in 0.13s.\n"
     ]
    },
    {
     "name": "stdout",
     "output_type": "stream",
     "text": [
      "writing 2NZ9.mut.386_Repair.clean_A\n"
     ]
    },
    {
     "name": "stderr",
     "output_type": "stream",
     "text": [
      "@> 3305 atoms and 1 coordinate set(s) were parsed in 0.05s.\n"
     ]
    },
    {
     "name": "stdout",
     "output_type": "stream",
     "text": [
      "writing 2NZ9.mut.386_Repair.clean_HL\n"
     ]
    },
    {
     "name": "stderr",
     "output_type": "stream",
     "text": [
      "@> 10330 atoms and 1 coordinate set(s) were parsed in 0.12s.\n"
     ]
    },
    {
     "name": "stdout",
     "output_type": "stream",
     "text": [
      "writing 2NZ9.mut.387_Repair.clean_A\n"
     ]
    },
    {
     "name": "stderr",
     "output_type": "stream",
     "text": [
      "@> 3305 atoms and 1 coordinate set(s) were parsed in 0.05s.\n"
     ]
    },
    {
     "name": "stdout",
     "output_type": "stream",
     "text": [
      "writing 2NZ9.mut.387_Repair.clean_HL\n"
     ]
    },
    {
     "name": "stderr",
     "output_type": "stream",
     "text": [
      "@> 3301 atoms and 1 coordinate set(s) were parsed in 0.04s.\n",
      "@> 771 atoms and 1 coordinate set(s) were parsed in 0.02s.\n"
     ]
    },
    {
     "name": "stdout",
     "output_type": "stream",
     "text": [
      "writing 3BDY.mut.388_Repair.clean_HL\n",
      "writing 3BDY.mut.388_Repair.clean_V\n"
     ]
    },
    {
     "name": "stderr",
     "output_type": "stream",
     "text": [
      "@> 3301 atoms and 1 coordinate set(s) were parsed in 0.04s.\n",
      "@> 771 atoms and 1 coordinate set(s) were parsed in 0.01s.\n"
     ]
    },
    {
     "name": "stdout",
     "output_type": "stream",
     "text": [
      "writing 3BDY.mut.389_Repair.clean_HL\n",
      "writing 3BDY.mut.389_Repair.clean_V\n"
     ]
    },
    {
     "name": "stderr",
     "output_type": "stream",
     "text": [
      "@> 3298 atoms and 1 coordinate set(s) were parsed in 0.04s.\n",
      "@> 771 atoms and 1 coordinate set(s) were parsed in 0.01s.\n"
     ]
    },
    {
     "name": "stdout",
     "output_type": "stream",
     "text": [
      "writing 3BDY.mut.390_Repair.clean_HL\n",
      "writing 3BDY.mut.390_Repair.clean_V\n"
     ]
    },
    {
     "name": "stderr",
     "output_type": "stream",
     "text": [
      "@> 3305 atoms and 1 coordinate set(s) were parsed in 0.04s.\n",
      "@> 771 atoms and 1 coordinate set(s) were parsed in 0.01s.\n"
     ]
    },
    {
     "name": "stdout",
     "output_type": "stream",
     "text": [
      "writing 3BDY.mut.391_Repair.clean_HL\n",
      "writing 3BDY.mut.391_Repair.clean_V\n"
     ]
    },
    {
     "name": "stderr",
     "output_type": "stream",
     "text": [
      "@> 3305 atoms and 1 coordinate set(s) were parsed in 0.04s.\n",
      "@> 771 atoms and 1 coordinate set(s) were parsed in 0.01s.\n"
     ]
    },
    {
     "name": "stdout",
     "output_type": "stream",
     "text": [
      "writing 3BDY.mut.392_Repair.clean_HL\n",
      "writing 3BDY.mut.392_Repair.clean_V\n"
     ]
    },
    {
     "name": "stderr",
     "output_type": "stream",
     "text": [
      "@> 3305 atoms and 1 coordinate set(s) were parsed in 0.04s.\n",
      "@> 771 atoms and 1 coordinate set(s) were parsed in 0.01s.\n"
     ]
    },
    {
     "name": "stdout",
     "output_type": "stream",
     "text": [
      "writing 3BDY.mut.393_Repair.clean_HL\n",
      "writing 3BDY.mut.393_Repair.clean_V\n"
     ]
    },
    {
     "name": "stderr",
     "output_type": "stream",
     "text": [
      "@> 3300 atoms and 1 coordinate set(s) were parsed in 0.04s.\n",
      "@> 771 atoms and 1 coordinate set(s) were parsed in 0.01s.\n"
     ]
    },
    {
     "name": "stdout",
     "output_type": "stream",
     "text": [
      "writing 3BDY.mut.394_Repair.clean_HL\n",
      "writing 3BDY.mut.394_Repair.clean_V\n"
     ]
    },
    {
     "name": "stderr",
     "output_type": "stream",
     "text": [
      "@> 3301 atoms and 1 coordinate set(s) were parsed in 0.04s.\n",
      "@> 771 atoms and 1 coordinate set(s) were parsed in 0.02s.\n"
     ]
    },
    {
     "name": "stdout",
     "output_type": "stream",
     "text": [
      "writing 3BDY.mut.395_Repair.clean_HL\n",
      "writing 3BDY.mut.395_Repair.clean_V\n"
     ]
    },
    {
     "name": "stderr",
     "output_type": "stream",
     "text": [
      "@> 3298 atoms and 1 coordinate set(s) were parsed in 0.04s.\n",
      "@> 771 atoms and 1 coordinate set(s) were parsed in 0.02s.\n"
     ]
    },
    {
     "name": "stdout",
     "output_type": "stream",
     "text": [
      "writing 3BDY.mut.396_Repair.clean_HL\n",
      "writing 3BDY.mut.396_Repair.clean_V\n"
     ]
    },
    {
     "name": "stderr",
     "output_type": "stream",
     "text": [
      "@> 3298 atoms and 1 coordinate set(s) were parsed in 0.04s.\n",
      "@> 771 atoms and 1 coordinate set(s) were parsed in 0.01s.\n"
     ]
    },
    {
     "name": "stdout",
     "output_type": "stream",
     "text": [
      "writing 3BDY.mut.397_Repair.clean_HL\n",
      "writing 3BDY.mut.397_Repair.clean_V\n"
     ]
    },
    {
     "name": "stderr",
     "output_type": "stream",
     "text": [
      "@> 3302 atoms and 1 coordinate set(s) were parsed in 0.04s.\n",
      "@> 771 atoms and 1 coordinate set(s) were parsed in 0.01s.\n"
     ]
    },
    {
     "name": "stdout",
     "output_type": "stream",
     "text": [
      "writing 3BDY.mut.398_Repair.clean_HL\n",
      "writing 3BDY.mut.398_Repair.clean_V\n"
     ]
    },
    {
     "name": "stderr",
     "output_type": "stream",
     "text": [
      "@> 3302 atoms and 1 coordinate set(s) were parsed in 0.04s.\n",
      "@> 771 atoms and 1 coordinate set(s) were parsed in 0.01s.\n"
     ]
    },
    {
     "name": "stdout",
     "output_type": "stream",
     "text": [
      "writing 3BDY.mut.399_Repair.clean_HL\n",
      "writing 3BDY.mut.399_Repair.clean_V\n"
     ]
    },
    {
     "name": "stderr",
     "output_type": "stream",
     "text": [
      "@> 3295 atoms and 1 coordinate set(s) were parsed in 0.04s.\n",
      "@> 771 atoms and 1 coordinate set(s) were parsed in 0.02s.\n"
     ]
    },
    {
     "name": "stdout",
     "output_type": "stream",
     "text": [
      "writing 3BDY.mut.400_Repair.clean_HL\n",
      "writing 3BDY.mut.400_Repair.clean_V\n"
     ]
    },
    {
     "name": "stderr",
     "output_type": "stream",
     "text": [
      "@> 3297 atoms and 1 coordinate set(s) were parsed in 0.04s.\n",
      "@> 771 atoms and 1 coordinate set(s) were parsed in 0.01s.\n"
     ]
    },
    {
     "name": "stdout",
     "output_type": "stream",
     "text": [
      "writing 3BDY.mut.401_Repair.clean_HL\n",
      "writing 3BDY.mut.401_Repair.clean_V\n"
     ]
    },
    {
     "name": "stderr",
     "output_type": "stream",
     "text": [
      "@> 3297 atoms and 1 coordinate set(s) were parsed in 0.04s.\n",
      "@> 771 atoms and 1 coordinate set(s) were parsed in 0.02s.\n"
     ]
    },
    {
     "name": "stdout",
     "output_type": "stream",
     "text": [
      "writing 3BDY.mut.402_Repair.clean_HL\n",
      "writing 3BDY.mut.402_Repair.clean_V\n"
     ]
    },
    {
     "name": "stderr",
     "output_type": "stream",
     "text": [
      "@> 3297 atoms and 1 coordinate set(s) were parsed in 0.04s.\n",
      "@> 771 atoms and 1 coordinate set(s) were parsed in 0.01s.\n"
     ]
    },
    {
     "name": "stdout",
     "output_type": "stream",
     "text": [
      "writing 3BDY.mut.403_Repair.clean_HL\n",
      "writing 3BDY.mut.403_Repair.clean_V\n"
     ]
    },
    {
     "name": "stderr",
     "output_type": "stream",
     "text": [
      "@> 3297 atoms and 1 coordinate set(s) were parsed in 0.04s.\n",
      "@> 771 atoms and 1 coordinate set(s) were parsed in 0.01s.\n"
     ]
    },
    {
     "name": "stdout",
     "output_type": "stream",
     "text": [
      "writing 3BDY.mut.404_Repair.clean_HL\n",
      "writing 3BDY.mut.404_Repair.clean_V\n"
     ]
    },
    {
     "name": "stderr",
     "output_type": "stream",
     "text": [
      "@> 3301 atoms and 1 coordinate set(s) were parsed in 0.04s.\n",
      "@> 771 atoms and 1 coordinate set(s) were parsed in 0.02s.\n"
     ]
    },
    {
     "name": "stdout",
     "output_type": "stream",
     "text": [
      "writing 3BDY.mut.405_Repair.clean_HL\n",
      "writing 3BDY.mut.405_Repair.clean_V\n"
     ]
    },
    {
     "name": "stderr",
     "output_type": "stream",
     "text": [
      "@> 3305 atoms and 1 coordinate set(s) were parsed in 0.04s.\n",
      "@> 771 atoms and 1 coordinate set(s) were parsed in 0.01s.\n"
     ]
    },
    {
     "name": "stdout",
     "output_type": "stream",
     "text": [
      "writing 3BDY.mut.406_Repair.clean_HL\n",
      "writing 3BDY.mut.406_Repair.clean_V\n"
     ]
    },
    {
     "name": "stderr",
     "output_type": "stream",
     "text": [
      "@> 3305 atoms and 1 coordinate set(s) were parsed in 0.04s.\n",
      "@> 771 atoms and 1 coordinate set(s) were parsed in 0.01s.\n"
     ]
    },
    {
     "name": "stdout",
     "output_type": "stream",
     "text": [
      "writing 3BDY.mut.407_Repair.clean_HL\n",
      "writing 3BDY.mut.407_Repair.clean_V\n"
     ]
    },
    {
     "name": "stderr",
     "output_type": "stream",
     "text": [
      "@> 3299 atoms and 1 coordinate set(s) were parsed in 0.04s.\n",
      "@> 771 atoms and 1 coordinate set(s) were parsed in 0.01s.\n"
     ]
    },
    {
     "name": "stdout",
     "output_type": "stream",
     "text": [
      "writing 3BDY.mut.408_Repair.clean_HL\n",
      "writing 3BDY.mut.408_Repair.clean_V\n"
     ]
    },
    {
     "name": "stderr",
     "output_type": "stream",
     "text": [
      "@> 3301 atoms and 1 coordinate set(s) were parsed in 0.04s.\n",
      "@> 771 atoms and 1 coordinate set(s) were parsed in 0.01s.\n"
     ]
    },
    {
     "name": "stdout",
     "output_type": "stream",
     "text": [
      "writing 3BDY.mut.409_Repair.clean_HL\n",
      "writing 3BDY.mut.409_Repair.clean_V\n"
     ]
    },
    {
     "name": "stderr",
     "output_type": "stream",
     "text": [
      "@> 3301 atoms and 1 coordinate set(s) were parsed in 0.04s.\n",
      "@> 771 atoms and 1 coordinate set(s) were parsed in 0.01s.\n"
     ]
    },
    {
     "name": "stdout",
     "output_type": "stream",
     "text": [
      "writing 3BDY.mut.410_Repair.clean_HL\n",
      "writing 3BDY.mut.410_Repair.clean_V\n"
     ]
    },
    {
     "name": "stderr",
     "output_type": "stream",
     "text": [
      "@> 3302 atoms and 1 coordinate set(s) were parsed in 0.04s.\n",
      "@> 771 atoms and 1 coordinate set(s) were parsed in 0.02s.\n"
     ]
    },
    {
     "name": "stdout",
     "output_type": "stream",
     "text": [
      "writing 3BDY.mut.411_Repair.clean_HL\n",
      "writing 3BDY.mut.411_Repair.clean_V\n"
     ]
    },
    {
     "name": "stderr",
     "output_type": "stream",
     "text": [
      "@> 3298 atoms and 1 coordinate set(s) were parsed in 0.04s.\n",
      "@> 771 atoms and 1 coordinate set(s) were parsed in 0.02s.\n"
     ]
    },
    {
     "name": "stdout",
     "output_type": "stream",
     "text": [
      "writing 3BDY.mut.412_Repair.clean_HL\n",
      "writing 3BDY.mut.412_Repair.clean_V\n"
     ]
    },
    {
     "name": "stderr",
     "output_type": "stream",
     "text": [
      "@> 3303 atoms and 1 coordinate set(s) were parsed in 0.04s.\n",
      "@> 771 atoms and 1 coordinate set(s) were parsed in 0.01s.\n"
     ]
    },
    {
     "name": "stdout",
     "output_type": "stream",
     "text": [
      "writing 3BDY.mut.413_Repair.clean_HL\n",
      "writing 3BDY.mut.413_Repair.clean_V\n"
     ]
    },
    {
     "name": "stderr",
     "output_type": "stream",
     "text": [
      "@> 3303 atoms and 1 coordinate set(s) were parsed in 0.04s.\n",
      "@> 771 atoms and 1 coordinate set(s) were parsed in 0.01s.\n"
     ]
    },
    {
     "name": "stdout",
     "output_type": "stream",
     "text": [
      "writing 3BDY.mut.414_Repair.clean_HL\n",
      "writing 3BDY.mut.414_Repair.clean_V\n"
     ]
    },
    {
     "name": "stderr",
     "output_type": "stream",
     "text": [
      "@> 3303 atoms and 1 coordinate set(s) were parsed in 0.04s.\n",
      "@> 771 atoms and 1 coordinate set(s) were parsed in 0.02s.\n"
     ]
    },
    {
     "name": "stdout",
     "output_type": "stream",
     "text": [
      "writing 3BDY.mut.415_Repair.clean_HL\n",
      "writing 3BDY.mut.415_Repair.clean_V\n"
     ]
    },
    {
     "name": "stderr",
     "output_type": "stream",
     "text": [
      "@> 3302 atoms and 1 coordinate set(s) were parsed in 0.04s.\n",
      "@> 771 atoms and 1 coordinate set(s) were parsed in 0.02s.\n"
     ]
    },
    {
     "name": "stdout",
     "output_type": "stream",
     "text": [
      "writing 3BDY.mut.416_Repair.clean_HL\n",
      "writing 3BDY.mut.416_Repair.clean_V\n"
     ]
    },
    {
     "name": "stderr",
     "output_type": "stream",
     "text": [
      "@> 3302 atoms and 1 coordinate set(s) were parsed in 0.04s.\n",
      "@> 771 atoms and 1 coordinate set(s) were parsed in 0.01s.\n"
     ]
    },
    {
     "name": "stdout",
     "output_type": "stream",
     "text": [
      "writing 3BDY.mut.417_Repair.clean_HL\n",
      "writing 3BDY.mut.417_Repair.clean_V\n"
     ]
    },
    {
     "name": "stderr",
     "output_type": "stream",
     "text": [
      "@> 3295 atoms and 1 coordinate set(s) were parsed in 0.04s.\n",
      "@> 771 atoms and 1 coordinate set(s) were parsed in 0.02s.\n"
     ]
    },
    {
     "name": "stdout",
     "output_type": "stream",
     "text": [
      "writing 3BDY.mut.418_Repair.clean_HL\n",
      "writing 3BDY.mut.418_Repair.clean_V\n"
     ]
    },
    {
     "name": "stderr",
     "output_type": "stream",
     "text": [
      "@> 3297 atoms and 1 coordinate set(s) were parsed in 0.04s.\n",
      "@> 771 atoms and 1 coordinate set(s) were parsed in 0.01s.\n"
     ]
    },
    {
     "name": "stdout",
     "output_type": "stream",
     "text": [
      "writing 3BDY.mut.419_Repair.clean_HL\n",
      "writing 3BDY.mut.419_Repair.clean_V\n"
     ]
    },
    {
     "name": "stderr",
     "output_type": "stream",
     "text": [
      "@> 3297 atoms and 1 coordinate set(s) were parsed in 0.04s.\n",
      "@> 771 atoms and 1 coordinate set(s) were parsed in 0.01s.\n"
     ]
    },
    {
     "name": "stdout",
     "output_type": "stream",
     "text": [
      "writing 3BDY.mut.420_Repair.clean_HL\n",
      "writing 3BDY.mut.420_Repair.clean_V\n"
     ]
    },
    {
     "name": "stderr",
     "output_type": "stream",
     "text": [
      "@> 3297 atoms and 1 coordinate set(s) were parsed in 0.04s.\n",
      "@> 771 atoms and 1 coordinate set(s) were parsed in 0.01s.\n"
     ]
    },
    {
     "name": "stdout",
     "output_type": "stream",
     "text": [
      "writing 3BDY.mut.421_Repair.clean_HL\n",
      "writing 3BDY.mut.421_Repair.clean_V\n"
     ]
    },
    {
     "name": "stderr",
     "output_type": "stream",
     "text": [
      "@> 4502 atoms and 1 coordinate set(s) were parsed in 0.06s.\n",
      "@> 3274 atoms and 1 coordinate set(s) were parsed in 0.04s.\n"
     ]
    },
    {
     "name": "stdout",
     "output_type": "stream",
     "text": [
      "writing 3BE1.mut.422_Repair.clean_A\n",
      "writing 3BE1.mut.422_Repair.clean_HL\n"
     ]
    },
    {
     "name": "stderr",
     "output_type": "stream",
     "text": [
      "@> 4502 atoms and 1 coordinate set(s) were parsed in 0.05s.\n",
      "@> 3274 atoms and 1 coordinate set(s) were parsed in 0.04s.\n"
     ]
    },
    {
     "name": "stdout",
     "output_type": "stream",
     "text": [
      "writing 3BE1.mut.423_Repair.clean_A\n",
      "writing 3BE1.mut.423_Repair.clean_HL\n"
     ]
    },
    {
     "name": "stderr",
     "output_type": "stream",
     "text": [
      "@> 4502 atoms and 1 coordinate set(s) were parsed in 0.05s.\n",
      "@> 3271 atoms and 1 coordinate set(s) were parsed in 0.04s.\n"
     ]
    },
    {
     "name": "stdout",
     "output_type": "stream",
     "text": [
      "writing 3BE1.mut.424_Repair.clean_A\n",
      "writing 3BE1.mut.424_Repair.clean_HL\n"
     ]
    },
    {
     "name": "stderr",
     "output_type": "stream",
     "text": [
      "@> 4502 atoms and 1 coordinate set(s) were parsed in 0.06s.\n",
      "@> 3278 atoms and 1 coordinate set(s) were parsed in 0.04s.\n"
     ]
    },
    {
     "name": "stdout",
     "output_type": "stream",
     "text": [
      "writing 3BE1.mut.425_Repair.clean_A\n",
      "writing 3BE1.mut.425_Repair.clean_HL\n"
     ]
    },
    {
     "name": "stderr",
     "output_type": "stream",
     "text": [
      "@> 4502 atoms and 1 coordinate set(s) were parsed in 0.06s.\n",
      "@> 3278 atoms and 1 coordinate set(s) were parsed in 0.05s.\n"
     ]
    },
    {
     "name": "stdout",
     "output_type": "stream",
     "text": [
      "writing 3BE1.mut.426_Repair.clean_A\n",
      "writing 3BE1.mut.426_Repair.clean_HL\n"
     ]
    },
    {
     "name": "stderr",
     "output_type": "stream",
     "text": [
      "@> 4502 atoms and 1 coordinate set(s) were parsed in 0.06s.\n",
      "@> 3278 atoms and 1 coordinate set(s) were parsed in 0.04s.\n"
     ]
    },
    {
     "name": "stdout",
     "output_type": "stream",
     "text": [
      "writing 3BE1.mut.427_Repair.clean_A\n",
      "writing 3BE1.mut.427_Repair.clean_HL\n"
     ]
    },
    {
     "name": "stderr",
     "output_type": "stream",
     "text": [
      "@> 4502 atoms and 1 coordinate set(s) were parsed in 0.05s.\n",
      "@> 3273 atoms and 1 coordinate set(s) were parsed in 0.04s.\n"
     ]
    },
    {
     "name": "stdout",
     "output_type": "stream",
     "text": [
      "writing 3BE1.mut.428_Repair.clean_A\n",
      "writing 3BE1.mut.428_Repair.clean_HL\n"
     ]
    },
    {
     "name": "stderr",
     "output_type": "stream",
     "text": [
      "@> 4502 atoms and 1 coordinate set(s) were parsed in 0.05s.\n",
      "@> 3274 atoms and 1 coordinate set(s) were parsed in 0.04s.\n"
     ]
    },
    {
     "name": "stdout",
     "output_type": "stream",
     "text": [
      "writing 3BE1.mut.429_Repair.clean_A\n",
      "writing 3BE1.mut.429_Repair.clean_HL\n"
     ]
    },
    {
     "name": "stderr",
     "output_type": "stream",
     "text": [
      "@> 4502 atoms and 1 coordinate set(s) were parsed in 0.05s.\n",
      "@> 3271 atoms and 1 coordinate set(s) were parsed in 0.04s.\n"
     ]
    },
    {
     "name": "stdout",
     "output_type": "stream",
     "text": [
      "writing 3BE1.mut.430_Repair.clean_A\n",
      "writing 3BE1.mut.430_Repair.clean_HL\n"
     ]
    },
    {
     "name": "stderr",
     "output_type": "stream",
     "text": [
      "@> 4502 atoms and 1 coordinate set(s) were parsed in 0.05s.\n",
      "@> 3271 atoms and 1 coordinate set(s) were parsed in 0.04s.\n"
     ]
    },
    {
     "name": "stdout",
     "output_type": "stream",
     "text": [
      "writing 3BE1.mut.431_Repair.clean_A\n",
      "writing 3BE1.mut.431_Repair.clean_HL\n"
     ]
    },
    {
     "name": "stderr",
     "output_type": "stream",
     "text": [
      "@> 4502 atoms and 1 coordinate set(s) were parsed in 0.06s.\n",
      "@> 3275 atoms and 1 coordinate set(s) were parsed in 0.05s.\n"
     ]
    },
    {
     "name": "stdout",
     "output_type": "stream",
     "text": [
      "writing 3BE1.mut.432_Repair.clean_A\n",
      "writing 3BE1.mut.432_Repair.clean_HL\n"
     ]
    },
    {
     "name": "stderr",
     "output_type": "stream",
     "text": [
      "@> 4502 atoms and 1 coordinate set(s) were parsed in 0.05s.\n",
      "@> 3275 atoms and 1 coordinate set(s) were parsed in 0.04s.\n"
     ]
    },
    {
     "name": "stdout",
     "output_type": "stream",
     "text": [
      "writing 3BE1.mut.433_Repair.clean_A\n",
      "writing 3BE1.mut.433_Repair.clean_HL\n"
     ]
    },
    {
     "name": "stderr",
     "output_type": "stream",
     "text": [
      "@> 4502 atoms and 1 coordinate set(s) were parsed in 0.06s.\n",
      "@> 3268 atoms and 1 coordinate set(s) were parsed in 0.04s.\n"
     ]
    },
    {
     "name": "stdout",
     "output_type": "stream",
     "text": [
      "writing 3BE1.mut.434_Repair.clean_A\n",
      "writing 3BE1.mut.434_Repair.clean_HL\n"
     ]
    },
    {
     "name": "stderr",
     "output_type": "stream",
     "text": [
      "@> 4502 atoms and 1 coordinate set(s) were parsed in 0.06s.\n",
      "@> 3270 atoms and 1 coordinate set(s) were parsed in 0.04s.\n"
     ]
    },
    {
     "name": "stdout",
     "output_type": "stream",
     "text": [
      "writing 3BE1.mut.435_Repair.clean_A\n",
      "writing 3BE1.mut.435_Repair.clean_HL\n"
     ]
    },
    {
     "name": "stderr",
     "output_type": "stream",
     "text": [
      "@> 4502 atoms and 1 coordinate set(s) were parsed in 0.06s.\n",
      "@> 3270 atoms and 1 coordinate set(s) were parsed in 0.04s.\n"
     ]
    },
    {
     "name": "stdout",
     "output_type": "stream",
     "text": [
      "writing 3BE1.mut.436_Repair.clean_A\n",
      "writing 3BE1.mut.436_Repair.clean_HL\n"
     ]
    },
    {
     "name": "stderr",
     "output_type": "stream",
     "text": [
      "@> 4502 atoms and 1 coordinate set(s) were parsed in 0.06s.\n",
      "@> 3270 atoms and 1 coordinate set(s) were parsed in 0.04s.\n"
     ]
    },
    {
     "name": "stdout",
     "output_type": "stream",
     "text": [
      "writing 3BE1.mut.437_Repair.clean_A\n",
      "writing 3BE1.mut.437_Repair.clean_HL\n"
     ]
    },
    {
     "name": "stderr",
     "output_type": "stream",
     "text": [
      "@> 4502 atoms and 1 coordinate set(s) were parsed in 0.05s.\n",
      "@> 3270 atoms and 1 coordinate set(s) were parsed in 0.04s.\n"
     ]
    },
    {
     "name": "stdout",
     "output_type": "stream",
     "text": [
      "writing 3BE1.mut.438_Repair.clean_A\n",
      "writing 3BE1.mut.438_Repair.clean_HL\n"
     ]
    },
    {
     "name": "stderr",
     "output_type": "stream",
     "text": [
      "@> 4502 atoms and 1 coordinate set(s) were parsed in 0.05s.\n",
      "@> 3274 atoms and 1 coordinate set(s) were parsed in 0.04s.\n"
     ]
    },
    {
     "name": "stdout",
     "output_type": "stream",
     "text": [
      "writing 3BE1.mut.439_Repair.clean_A\n",
      "writing 3BE1.mut.439_Repair.clean_HL\n"
     ]
    },
    {
     "name": "stderr",
     "output_type": "stream",
     "text": [
      "@> 4502 atoms and 1 coordinate set(s) were parsed in 0.05s.\n",
      "@> 3278 atoms and 1 coordinate set(s) were parsed in 0.04s.\n"
     ]
    },
    {
     "name": "stdout",
     "output_type": "stream",
     "text": [
      "writing 3BE1.mut.440_Repair.clean_A\n",
      "writing 3BE1.mut.440_Repair.clean_HL\n"
     ]
    },
    {
     "name": "stderr",
     "output_type": "stream",
     "text": [
      "@> 4502 atoms and 1 coordinate set(s) were parsed in 0.06s.\n",
      "@> 3278 atoms and 1 coordinate set(s) were parsed in 0.05s.\n"
     ]
    },
    {
     "name": "stdout",
     "output_type": "stream",
     "text": [
      "writing 3BE1.mut.441_Repair.clean_A\n",
      "writing 3BE1.mut.441_Repair.clean_HL\n"
     ]
    },
    {
     "name": "stderr",
     "output_type": "stream",
     "text": [
      "@> 4502 atoms and 1 coordinate set(s) were parsed in 0.05s.\n",
      "@> 3272 atoms and 1 coordinate set(s) were parsed in 0.04s.\n"
     ]
    },
    {
     "name": "stdout",
     "output_type": "stream",
     "text": [
      "writing 3BE1.mut.442_Repair.clean_A\n",
      "writing 3BE1.mut.442_Repair.clean_HL\n"
     ]
    },
    {
     "name": "stderr",
     "output_type": "stream",
     "text": [
      "@> 4502 atoms and 1 coordinate set(s) were parsed in 0.05s.\n",
      "@> 3274 atoms and 1 coordinate set(s) were parsed in 0.04s.\n"
     ]
    },
    {
     "name": "stdout",
     "output_type": "stream",
     "text": [
      "writing 3BE1.mut.443_Repair.clean_A\n",
      "writing 3BE1.mut.443_Repair.clean_HL\n"
     ]
    },
    {
     "name": "stderr",
     "output_type": "stream",
     "text": [
      "@> 4502 atoms and 1 coordinate set(s) were parsed in 0.06s.\n",
      "@> 3274 atoms and 1 coordinate set(s) were parsed in 0.04s.\n"
     ]
    },
    {
     "name": "stdout",
     "output_type": "stream",
     "text": [
      "writing 3BE1.mut.444_Repair.clean_A\n",
      "writing 3BE1.mut.444_Repair.clean_HL\n"
     ]
    },
    {
     "name": "stderr",
     "output_type": "stream",
     "text": [
      "@> 4502 atoms and 1 coordinate set(s) were parsed in 0.06s.\n",
      "@> 3275 atoms and 1 coordinate set(s) were parsed in 0.04s.\n"
     ]
    },
    {
     "name": "stdout",
     "output_type": "stream",
     "text": [
      "writing 3BE1.mut.445_Repair.clean_A\n",
      "writing 3BE1.mut.445_Repair.clean_HL\n"
     ]
    },
    {
     "name": "stderr",
     "output_type": "stream",
     "text": [
      "@> 4502 atoms and 1 coordinate set(s) were parsed in 0.06s.\n",
      "@> 3271 atoms and 1 coordinate set(s) were parsed in 0.04s.\n"
     ]
    },
    {
     "name": "stdout",
     "output_type": "stream",
     "text": [
      "writing 3BE1.mut.446_Repair.clean_A\n",
      "writing 3BE1.mut.446_Repair.clean_HL\n"
     ]
    },
    {
     "name": "stderr",
     "output_type": "stream",
     "text": [
      "@> 4502 atoms and 1 coordinate set(s) were parsed in 0.05s.\n",
      "@> 3276 atoms and 1 coordinate set(s) were parsed in 0.04s.\n"
     ]
    },
    {
     "name": "stdout",
     "output_type": "stream",
     "text": [
      "writing 3BE1.mut.447_Repair.clean_A\n",
      "writing 3BE1.mut.447_Repair.clean_HL\n"
     ]
    },
    {
     "name": "stderr",
     "output_type": "stream",
     "text": [
      "@> 4502 atoms and 1 coordinate set(s) were parsed in 0.06s.\n",
      "@> 3276 atoms and 1 coordinate set(s) were parsed in 0.04s.\n"
     ]
    },
    {
     "name": "stdout",
     "output_type": "stream",
     "text": [
      "writing 3BE1.mut.448_Repair.clean_A\n",
      "writing 3BE1.mut.448_Repair.clean_HL\n"
     ]
    },
    {
     "name": "stderr",
     "output_type": "stream",
     "text": [
      "@> 4502 atoms and 1 coordinate set(s) were parsed in 0.05s.\n",
      "@> 3276 atoms and 1 coordinate set(s) were parsed in 0.04s.\n"
     ]
    },
    {
     "name": "stdout",
     "output_type": "stream",
     "text": [
      "writing 3BE1.mut.449_Repair.clean_A\n",
      "writing 3BE1.mut.449_Repair.clean_HL\n"
     ]
    },
    {
     "name": "stderr",
     "output_type": "stream",
     "text": [
      "@> 4502 atoms and 1 coordinate set(s) were parsed in 0.06s.\n",
      "@> 3275 atoms and 1 coordinate set(s) were parsed in 0.04s.\n"
     ]
    },
    {
     "name": "stdout",
     "output_type": "stream",
     "text": [
      "writing 3BE1.mut.450_Repair.clean_A\n",
      "writing 3BE1.mut.450_Repair.clean_HL\n"
     ]
    },
    {
     "name": "stderr",
     "output_type": "stream",
     "text": [
      "@> 4502 atoms and 1 coordinate set(s) were parsed in 0.06s.\n",
      "@> 3275 atoms and 1 coordinate set(s) were parsed in 0.04s.\n"
     ]
    },
    {
     "name": "stdout",
     "output_type": "stream",
     "text": [
      "writing 3BE1.mut.451_Repair.clean_A\n",
      "writing 3BE1.mut.451_Repair.clean_HL\n"
     ]
    },
    {
     "name": "stderr",
     "output_type": "stream",
     "text": [
      "@> 4502 atoms and 1 coordinate set(s) were parsed in 0.05s.\n",
      "@> 3268 atoms and 1 coordinate set(s) were parsed in 0.05s.\n"
     ]
    },
    {
     "name": "stdout",
     "output_type": "stream",
     "text": [
      "writing 3BE1.mut.452_Repair.clean_A\n",
      "writing 3BE1.mut.452_Repair.clean_HL\n"
     ]
    },
    {
     "name": "stderr",
     "output_type": "stream",
     "text": [
      "@> 4502 atoms and 1 coordinate set(s) were parsed in 0.06s.\n",
      "@> 3270 atoms and 1 coordinate set(s) were parsed in 0.04s.\n"
     ]
    },
    {
     "name": "stdout",
     "output_type": "stream",
     "text": [
      "writing 3BE1.mut.453_Repair.clean_A\n",
      "writing 3BE1.mut.453_Repair.clean_HL\n"
     ]
    },
    {
     "name": "stderr",
     "output_type": "stream",
     "text": [
      "@> 4502 atoms and 1 coordinate set(s) were parsed in 0.06s.\n"
     ]
    },
    {
     "name": "stdout",
     "output_type": "stream",
     "text": [
      "writing 3BE1.mut.454_Repair.clean_A\n"
     ]
    },
    {
     "name": "stderr",
     "output_type": "stream",
     "text": [
      "@> 3270 atoms and 1 coordinate set(s) were parsed in 0.06s.\n"
     ]
    },
    {
     "name": "stdout",
     "output_type": "stream",
     "text": [
      "writing 3BE1.mut.454_Repair.clean_HL\n"
     ]
    },
    {
     "name": "stderr",
     "output_type": "stream",
     "text": [
      "@> 4502 atoms and 1 coordinate set(s) were parsed in 0.08s.\n"
     ]
    },
    {
     "name": "stdout",
     "output_type": "stream",
     "text": [
      "writing 3BE1.mut.455_Repair.clean_A\n"
     ]
    },
    {
     "name": "stderr",
     "output_type": "stream",
     "text": [
      "@> 3270 atoms and 1 coordinate set(s) were parsed in 0.08s.\n"
     ]
    },
    {
     "name": "stdout",
     "output_type": "stream",
     "text": [
      "writing 3BE1.mut.455_Repair.clean_HL\n"
     ]
    },
    {
     "name": "stderr",
     "output_type": "stream",
     "text": [
      "@> 1861 atoms and 1 coordinate set(s) were parsed in 0.04s.\n",
      "@> 3283 atoms and 1 coordinate set(s) were parsed in 0.05s.\n"
     ]
    },
    {
     "name": "stdout",
     "output_type": "stream",
     "text": [
      "writing 3BN9.mut.456_Repair.clean_A\n",
      "writing 3BN9.mut.456_Repair.clean_HL\n"
     ]
    },
    {
     "name": "stderr",
     "output_type": "stream",
     "text": [
      "@> 1861 atoms and 1 coordinate set(s) were parsed in 0.03s.\n",
      "@> 3283 atoms and 1 coordinate set(s) were parsed in 0.04s.\n"
     ]
    },
    {
     "name": "stdout",
     "output_type": "stream",
     "text": [
      "writing 3BN9.mut.457_Repair.clean_A\n",
      "writing 3BN9.mut.457_Repair.clean_HL\n"
     ]
    },
    {
     "name": "stderr",
     "output_type": "stream",
     "text": [
      "@> 1861 atoms and 1 coordinate set(s) were parsed in 0.03s.\n",
      "@> 3283 atoms and 1 coordinate set(s) were parsed in 0.04s.\n"
     ]
    },
    {
     "name": "stdout",
     "output_type": "stream",
     "text": [
      "writing 3BN9.mut.458_Repair.clean_A\n",
      "writing 3BN9.mut.458_Repair.clean_HL\n"
     ]
    },
    {
     "name": "stderr",
     "output_type": "stream",
     "text": [
      "@> 1861 atoms and 1 coordinate set(s) were parsed in 0.03s.\n",
      "@> 3283 atoms and 1 coordinate set(s) were parsed in 0.05s.\n"
     ]
    },
    {
     "name": "stdout",
     "output_type": "stream",
     "text": [
      "writing 3BN9.mut.459_Repair.clean_A\n",
      "writing 3BN9.mut.459_Repair.clean_HL\n"
     ]
    },
    {
     "name": "stderr",
     "output_type": "stream",
     "text": [
      "@> 1860 atoms and 1 coordinate set(s) were parsed in 0.03s.\n",
      "@> 3283 atoms and 1 coordinate set(s) were parsed in 0.04s.\n"
     ]
    },
    {
     "name": "stdout",
     "output_type": "stream",
     "text": [
      "writing 3BN9.mut.460_Repair.clean_A\n",
      "writing 3BN9.mut.460_Repair.clean_HL\n"
     ]
    },
    {
     "name": "stderr",
     "output_type": "stream",
     "text": [
      "@> 1858 atoms and 1 coordinate set(s) were parsed in 0.03s.\n",
      "@> 3283 atoms and 1 coordinate set(s) were parsed in 0.04s.\n"
     ]
    },
    {
     "name": "stdout",
     "output_type": "stream",
     "text": [
      "writing 3BN9.mut.461_Repair.clean_A\n",
      "writing 3BN9.mut.461_Repair.clean_HL\n"
     ]
    },
    {
     "name": "stderr",
     "output_type": "stream",
     "text": [
      "@> 1858 atoms and 1 coordinate set(s) were parsed in 0.03s.\n",
      "@> 3283 atoms and 1 coordinate set(s) were parsed in 0.04s.\n"
     ]
    },
    {
     "name": "stdout",
     "output_type": "stream",
     "text": [
      "writing 3BN9.mut.462_Repair.clean_A\n",
      "writing 3BN9.mut.462_Repair.clean_HL\n"
     ]
    },
    {
     "name": "stderr",
     "output_type": "stream",
     "text": [
      "@> 1858 atoms and 1 coordinate set(s) were parsed in 0.03s.\n",
      "@> 3283 atoms and 1 coordinate set(s) were parsed in 0.04s.\n"
     ]
    },
    {
     "name": "stdout",
     "output_type": "stream",
     "text": [
      "writing 3BN9.mut.463_Repair.clean_A\n",
      "writing 3BN9.mut.463_Repair.clean_HL\n"
     ]
    },
    {
     "name": "stderr",
     "output_type": "stream",
     "text": [
      "@> 1859 atoms and 1 coordinate set(s) were parsed in 0.03s.\n",
      "@> 3283 atoms and 1 coordinate set(s) were parsed in 0.04s.\n"
     ]
    },
    {
     "name": "stdout",
     "output_type": "stream",
     "text": [
      "writing 3BN9.mut.464_Repair.clean_A\n",
      "writing 3BN9.mut.464_Repair.clean_HL\n"
     ]
    },
    {
     "name": "stderr",
     "output_type": "stream",
     "text": [
      "@> 1861 atoms and 1 coordinate set(s) were parsed in 0.03s.\n",
      "@> 3283 atoms and 1 coordinate set(s) were parsed in 0.04s.\n"
     ]
    },
    {
     "name": "stdout",
     "output_type": "stream",
     "text": [
      "writing 3BN9.mut.465_Repair.clean_A\n",
      "writing 3BN9.mut.465_Repair.clean_HL\n"
     ]
    },
    {
     "name": "stderr",
     "output_type": "stream",
     "text": [
      "@> 1861 atoms and 1 coordinate set(s) were parsed in 0.03s.\n",
      "@> 3283 atoms and 1 coordinate set(s) were parsed in 0.05s.\n"
     ]
    },
    {
     "name": "stdout",
     "output_type": "stream",
     "text": [
      "writing 3BN9.mut.466_Repair.clean_A\n",
      "writing 3BN9.mut.466_Repair.clean_HL\n"
     ]
    },
    {
     "name": "stderr",
     "output_type": "stream",
     "text": [
      "@> 1860 atoms and 1 coordinate set(s) were parsed in 0.03s.\n",
      "@> 3283 atoms and 1 coordinate set(s) were parsed in 0.04s.\n"
     ]
    },
    {
     "name": "stdout",
     "output_type": "stream",
     "text": [
      "writing 3BN9.mut.467_Repair.clean_A\n",
      "writing 3BN9.mut.467_Repair.clean_HL\n"
     ]
    },
    {
     "name": "stderr",
     "output_type": "stream",
     "text": [
      "@> 1861 atoms and 1 coordinate set(s) were parsed in 0.03s.\n",
      "@> 3283 atoms and 1 coordinate set(s) were parsed in 0.04s.\n"
     ]
    },
    {
     "name": "stdout",
     "output_type": "stream",
     "text": [
      "writing 3BN9.mut.468_Repair.clean_A\n",
      "writing 3BN9.mut.468_Repair.clean_HL\n"
     ]
    },
    {
     "name": "stderr",
     "output_type": "stream",
     "text": [
      "@> 1861 atoms and 1 coordinate set(s) were parsed in 0.03s.\n",
      "@> 3283 atoms and 1 coordinate set(s) were parsed in 0.04s.\n"
     ]
    },
    {
     "name": "stdout",
     "output_type": "stream",
     "text": [
      "writing 3BN9.mut.469_Repair.clean_A\n",
      "writing 3BN9.mut.469_Repair.clean_HL\n"
     ]
    },
    {
     "name": "stderr",
     "output_type": "stream",
     "text": [
      "@> 1860 atoms and 1 coordinate set(s) were parsed in 0.03s.\n",
      "@> 3283 atoms and 1 coordinate set(s) were parsed in 0.04s.\n"
     ]
    },
    {
     "name": "stdout",
     "output_type": "stream",
     "text": [
      "writing 3BN9.mut.470_Repair.clean_A\n",
      "writing 3BN9.mut.470_Repair.clean_HL\n"
     ]
    },
    {
     "name": "stderr",
     "output_type": "stream",
     "text": [
      "@> 1860 atoms and 1 coordinate set(s) were parsed in 0.03s.\n",
      "@> 3283 atoms and 1 coordinate set(s) were parsed in 0.04s.\n"
     ]
    },
    {
     "name": "stdout",
     "output_type": "stream",
     "text": [
      "writing 3BN9.mut.471_Repair.clean_A\n",
      "writing 3BN9.mut.471_Repair.clean_HL\n"
     ]
    },
    {
     "name": "stderr",
     "output_type": "stream",
     "text": [
      "@> 1860 atoms and 1 coordinate set(s) were parsed in 0.03s.\n",
      "@> 3283 atoms and 1 coordinate set(s) were parsed in 0.04s.\n"
     ]
    },
    {
     "name": "stdout",
     "output_type": "stream",
     "text": [
      "writing 3BN9.mut.472_Repair.clean_A\n",
      "writing 3BN9.mut.472_Repair.clean_HL\n"
     ]
    },
    {
     "name": "stderr",
     "output_type": "stream",
     "text": [
      "@> 1860 atoms and 1 coordinate set(s) were parsed in 0.02s.\n",
      "@> 3283 atoms and 1 coordinate set(s) were parsed in 0.04s.\n"
     ]
    },
    {
     "name": "stdout",
     "output_type": "stream",
     "text": [
      "writing 3BN9.mut.473_Repair.clean_A\n",
      "writing 3BN9.mut.473_Repair.clean_HL\n"
     ]
    },
    {
     "name": "stderr",
     "output_type": "stream",
     "text": [
      "@> 1860 atoms and 1 coordinate set(s) were parsed in 0.03s.\n",
      "@> 3283 atoms and 1 coordinate set(s) were parsed in 0.04s.\n"
     ]
    },
    {
     "name": "stdout",
     "output_type": "stream",
     "text": [
      "writing 3BN9.mut.474_Repair.clean_A\n",
      "writing 3BN9.mut.474_Repair.clean_HL\n"
     ]
    },
    {
     "name": "stderr",
     "output_type": "stream",
     "text": [
      "@> 1858 atoms and 1 coordinate set(s) were parsed in 0.03s.\n",
      "@> 3283 atoms and 1 coordinate set(s) were parsed in 0.04s.\n"
     ]
    },
    {
     "name": "stdout",
     "output_type": "stream",
     "text": [
      "writing 3BN9.mut.475_Repair.clean_A\n",
      "writing 3BN9.mut.475_Repair.clean_HL\n"
     ]
    },
    {
     "name": "stderr",
     "output_type": "stream",
     "text": [
      "@> 1858 atoms and 1 coordinate set(s) were parsed in 0.03s.\n",
      "@> 3283 atoms and 1 coordinate set(s) were parsed in 0.04s.\n"
     ]
    },
    {
     "name": "stdout",
     "output_type": "stream",
     "text": [
      "writing 3BN9.mut.476_Repair.clean_A\n",
      "writing 3BN9.mut.476_Repair.clean_HL\n"
     ]
    },
    {
     "name": "stderr",
     "output_type": "stream",
     "text": [
      "@> 1858 atoms and 1 coordinate set(s) were parsed in 0.03s.\n",
      "@> 3283 atoms and 1 coordinate set(s) were parsed in 0.04s.\n"
     ]
    },
    {
     "name": "stdout",
     "output_type": "stream",
     "text": [
      "writing 3BN9.mut.477_Repair.clean_A\n",
      "writing 3BN9.mut.477_Repair.clean_HL\n"
     ]
    },
    {
     "name": "stderr",
     "output_type": "stream",
     "text": [
      "@> 1858 atoms and 1 coordinate set(s) were parsed in 0.03s.\n",
      "@> 3283 atoms and 1 coordinate set(s) were parsed in 0.04s.\n"
     ]
    },
    {
     "name": "stdout",
     "output_type": "stream",
     "text": [
      "writing 3BN9.mut.478_Repair.clean_A\n",
      "writing 3BN9.mut.478_Repair.clean_HL\n"
     ]
    },
    {
     "name": "stderr",
     "output_type": "stream",
     "text": [
      "@> 1862 atoms and 1 coordinate set(s) were parsed in 0.03s.\n",
      "@> 3283 atoms and 1 coordinate set(s) were parsed in 0.04s.\n"
     ]
    },
    {
     "name": "stdout",
     "output_type": "stream",
     "text": [
      "writing 3BN9.mut.479_Repair.clean_A\n",
      "writing 3BN9.mut.479_Repair.clean_HL\n"
     ]
    },
    {
     "name": "stderr",
     "output_type": "stream",
     "text": [
      "@> 1862 atoms and 1 coordinate set(s) were parsed in 0.03s.\n",
      "@> 3283 atoms and 1 coordinate set(s) were parsed in 0.04s.\n"
     ]
    },
    {
     "name": "stdout",
     "output_type": "stream",
     "text": [
      "writing 3BN9.mut.480_Repair.clean_A\n",
      "writing 3BN9.mut.480_Repair.clean_HL\n"
     ]
    },
    {
     "name": "stderr",
     "output_type": "stream",
     "text": [
      "@> 1857 atoms and 1 coordinate set(s) were parsed in 0.03s.\n",
      "@> 3283 atoms and 1 coordinate set(s) were parsed in 0.04s.\n"
     ]
    },
    {
     "name": "stdout",
     "output_type": "stream",
     "text": [
      "writing 3BN9.mut.481_Repair.clean_A\n",
      "writing 3BN9.mut.481_Repair.clean_HL\n"
     ]
    },
    {
     "name": "stderr",
     "output_type": "stream",
     "text": [
      "@> 1857 atoms and 1 coordinate set(s) were parsed in 0.03s.\n",
      "@> 3283 atoms and 1 coordinate set(s) were parsed in 0.04s.\n"
     ]
    },
    {
     "name": "stdout",
     "output_type": "stream",
     "text": [
      "writing 3BN9.mut.482_Repair.clean_A\n",
      "writing 3BN9.mut.482_Repair.clean_HL\n"
     ]
    },
    {
     "name": "stderr",
     "output_type": "stream",
     "text": [
      "@> 1864 atoms and 1 coordinate set(s) were parsed in 0.03s.\n",
      "@> 3286 atoms and 1 coordinate set(s) were parsed in 0.04s.\n"
     ]
    },
    {
     "name": "stdout",
     "output_type": "stream",
     "text": [
      "writing 3BN9.mut.483_Repair.clean_A\n",
      "writing 3BN9.mut.483_Repair.clean_HL\n"
     ]
    },
    {
     "name": "stderr",
     "output_type": "stream",
     "text": [
      "@> 1864 atoms and 1 coordinate set(s) were parsed in 0.03s.\n",
      "@> 3281 atoms and 1 coordinate set(s) were parsed in 0.04s.\n"
     ]
    },
    {
     "name": "stdout",
     "output_type": "stream",
     "text": [
      "writing 3BN9.mut.484_Repair.clean_A\n",
      "writing 3BN9.mut.484_Repair.clean_HL\n"
     ]
    },
    {
     "name": "stderr",
     "output_type": "stream",
     "text": [
      "@> 1864 atoms and 1 coordinate set(s) were parsed in 0.03s.\n",
      "@> 3281 atoms and 1 coordinate set(s) were parsed in 0.04s.\n"
     ]
    },
    {
     "name": "stdout",
     "output_type": "stream",
     "text": [
      "writing 3BN9.mut.485_Repair.clean_A\n",
      "writing 3BN9.mut.485_Repair.clean_HL\n"
     ]
    },
    {
     "name": "stderr",
     "output_type": "stream",
     "text": [
      "@> 1864 atoms and 1 coordinate set(s) were parsed in 0.03s.\n",
      "@> 3285 atoms and 1 coordinate set(s) were parsed in 0.04s.\n"
     ]
    },
    {
     "name": "stdout",
     "output_type": "stream",
     "text": [
      "writing 3BN9.mut.486_Repair.clean_A\n",
      "writing 3BN9.mut.486_Repair.clean_HL\n"
     ]
    },
    {
     "name": "stderr",
     "output_type": "stream",
     "text": [
      "@> 1864 atoms and 1 coordinate set(s) were parsed in 0.03s.\n",
      "@> 3287 atoms and 1 coordinate set(s) were parsed in 0.05s.\n"
     ]
    },
    {
     "name": "stdout",
     "output_type": "stream",
     "text": [
      "writing 3BN9.mut.487_Repair.clean_A\n",
      "writing 3BN9.mut.487_Repair.clean_HL\n"
     ]
    },
    {
     "name": "stderr",
     "output_type": "stream",
     "text": [
      "@> 1864 atoms and 1 coordinate set(s) were parsed in 0.03s.\n",
      "@> 3285 atoms and 1 coordinate set(s) were parsed in 0.04s.\n"
     ]
    },
    {
     "name": "stdout",
     "output_type": "stream",
     "text": [
      "writing 3BN9.mut.488_Repair.clean_A\n",
      "writing 3BN9.mut.488_Repair.clean_HL\n"
     ]
    },
    {
     "name": "stderr",
     "output_type": "stream",
     "text": [
      "@> 1864 atoms and 1 coordinate set(s) were parsed in 0.03s.\n",
      "@> 3287 atoms and 1 coordinate set(s) were parsed in 0.04s.\n"
     ]
    },
    {
     "name": "stdout",
     "output_type": "stream",
     "text": [
      "writing 3BN9.mut.489_Repair.clean_A\n",
      "writing 3BN9.mut.489_Repair.clean_HL\n"
     ]
    },
    {
     "name": "stderr",
     "output_type": "stream",
     "text": [
      "@> 1864 atoms and 1 coordinate set(s) were parsed in 0.03s.\n",
      "@> 3277 atoms and 1 coordinate set(s) were parsed in 0.04s.\n"
     ]
    },
    {
     "name": "stdout",
     "output_type": "stream",
     "text": [
      "writing 3BN9.mut.490_Repair.clean_A\n",
      "writing 3BN9.mut.490_Repair.clean_HL\n"
     ]
    },
    {
     "name": "stderr",
     "output_type": "stream",
     "text": [
      "@> 3294 atoms and 1 coordinate set(s) were parsed in 0.05s.\n",
      "@> 1001 atoms and 1 coordinate set(s) were parsed in 0.02s.\n"
     ]
    },
    {
     "name": "stdout",
     "output_type": "stream",
     "text": [
      "writing 3HFM.mut.491_Repair.clean_HL\n",
      "writing 3HFM.mut.491_Repair.clean_Y\n"
     ]
    },
    {
     "name": "stderr",
     "output_type": "stream",
     "text": [
      "@> 3300 atoms and 1 coordinate set(s) were parsed in 0.04s.\n",
      "@> 1001 atoms and 1 coordinate set(s) were parsed in 0.02s.\n"
     ]
    },
    {
     "name": "stdout",
     "output_type": "stream",
     "text": [
      "writing 3HFM.mut.492_Repair.clean_HL\n",
      "writing 3HFM.mut.492_Repair.clean_Y\n"
     ]
    },
    {
     "name": "stderr",
     "output_type": "stream",
     "text": [
      "@> 3292 atoms and 1 coordinate set(s) were parsed in 0.04s.\n",
      "@> 1001 atoms and 1 coordinate set(s) were parsed in 0.02s.\n"
     ]
    },
    {
     "name": "stdout",
     "output_type": "stream",
     "text": [
      "writing 3HFM.mut.493_Repair.clean_HL\n",
      "writing 3HFM.mut.493_Repair.clean_Y\n"
     ]
    },
    {
     "name": "stderr",
     "output_type": "stream",
     "text": [
      "@> 3295 atoms and 1 coordinate set(s) were parsed in 0.04s.\n",
      "@> 1001 atoms and 1 coordinate set(s) were parsed in 0.02s.\n"
     ]
    },
    {
     "name": "stdout",
     "output_type": "stream",
     "text": [
      "writing 3HFM.mut.494_Repair.clean_HL\n",
      "writing 3HFM.mut.494_Repair.clean_Y\n"
     ]
    },
    {
     "name": "stderr",
     "output_type": "stream",
     "text": [
      "@> 3294 atoms and 1 coordinate set(s) were parsed in 0.04s.\n",
      "@> 1001 atoms and 1 coordinate set(s) were parsed in 0.02s.\n"
     ]
    },
    {
     "name": "stdout",
     "output_type": "stream",
     "text": [
      "writing 3HFM.mut.495_Repair.clean_HL\n",
      "writing 3HFM.mut.495_Repair.clean_Y\n"
     ]
    },
    {
     "name": "stderr",
     "output_type": "stream",
     "text": [
      "@> 3288 atoms and 1 coordinate set(s) were parsed in 0.04s.\n",
      "@> 1001 atoms and 1 coordinate set(s) were parsed in 0.02s.\n"
     ]
    },
    {
     "name": "stdout",
     "output_type": "stream",
     "text": [
      "writing 3HFM.mut.496_Repair.clean_HL\n",
      "writing 3HFM.mut.496_Repair.clean_Y\n"
     ]
    },
    {
     "name": "stderr",
     "output_type": "stream",
     "text": [
      "@> 3288 atoms and 1 coordinate set(s) were parsed in 0.04s.\n",
      "@> 1001 atoms and 1 coordinate set(s) were parsed in 0.02s.\n"
     ]
    },
    {
     "name": "stdout",
     "output_type": "stream",
     "text": [
      "writing 3HFM.mut.497_Repair.clean_HL\n",
      "writing 3HFM.mut.497_Repair.clean_Y\n"
     ]
    },
    {
     "name": "stderr",
     "output_type": "stream",
     "text": [
      "@> 3292 atoms and 1 coordinate set(s) were parsed in 0.05s.\n",
      "@> 1001 atoms and 1 coordinate set(s) were parsed in 0.02s.\n"
     ]
    },
    {
     "name": "stdout",
     "output_type": "stream",
     "text": [
      "writing 3HFM.mut.498_Repair.clean_HL\n",
      "writing 3HFM.mut.498_Repair.clean_Y\n"
     ]
    },
    {
     "name": "stderr",
     "output_type": "stream",
     "text": [
      "@> 3295 atoms and 1 coordinate set(s) were parsed in 0.04s.\n",
      "@> 1001 atoms and 1 coordinate set(s) were parsed in 0.02s.\n"
     ]
    },
    {
     "name": "stdout",
     "output_type": "stream",
     "text": [
      "writing 3HFM.mut.499_Repair.clean_HL\n",
      "writing 3HFM.mut.499_Repair.clean_Y\n"
     ]
    },
    {
     "name": "stderr",
     "output_type": "stream",
     "text": [
      "@> 3296 atoms and 1 coordinate set(s) were parsed in 0.04s.\n",
      "@> 1001 atoms and 1 coordinate set(s) were parsed in 0.02s.\n"
     ]
    },
    {
     "name": "stdout",
     "output_type": "stream",
     "text": [
      "writing 3HFM.mut.500_Repair.clean_HL\n",
      "writing 3HFM.mut.500_Repair.clean_Y\n"
     ]
    },
    {
     "name": "stderr",
     "output_type": "stream",
     "text": [
      "@> 3292 atoms and 1 coordinate set(s) were parsed in 0.04s.\n",
      "@> 1001 atoms and 1 coordinate set(s) were parsed in 0.03s.\n"
     ]
    },
    {
     "name": "stdout",
     "output_type": "stream",
     "text": [
      "writing 3HFM.mut.501_Repair.clean_HL\n",
      "writing 3HFM.mut.501_Repair.clean_Y\n"
     ]
    },
    {
     "name": "stderr",
     "output_type": "stream",
     "text": [
      "@> 3291 atoms and 1 coordinate set(s) were parsed in 0.08s.\n",
      "@> 1001 atoms and 1 coordinate set(s) were parsed in 0.03s.\n"
     ]
    },
    {
     "name": "stdout",
     "output_type": "stream",
     "text": [
      "writing 3HFM.mut.502_Repair.clean_HL\n",
      "writing 3HFM.mut.502_Repair.clean_Y\n"
     ]
    },
    {
     "name": "stderr",
     "output_type": "stream",
     "text": [
      "@> 3288 atoms and 1 coordinate set(s) were parsed in 0.05s.\n",
      "@> 1001 atoms and 1 coordinate set(s) were parsed in 0.02s.\n"
     ]
    },
    {
     "name": "stdout",
     "output_type": "stream",
     "text": [
      "writing 3HFM.mut.503_Repair.clean_HL\n",
      "writing 3HFM.mut.503_Repair.clean_Y\n"
     ]
    },
    {
     "name": "stderr",
     "output_type": "stream",
     "text": [
      "@> 3294 atoms and 1 coordinate set(s) were parsed in 0.04s.\n",
      "@> 1001 atoms and 1 coordinate set(s) were parsed in 0.02s.\n"
     ]
    },
    {
     "name": "stdout",
     "output_type": "stream",
     "text": [
      "writing 3HFM.mut.504_Repair.clean_HL\n",
      "writing 3HFM.mut.504_Repair.clean_Y\n"
     ]
    },
    {
     "name": "stderr",
     "output_type": "stream",
     "text": [
      "@> 3291 atoms and 1 coordinate set(s) were parsed in 0.04s.\n",
      "@> 1001 atoms and 1 coordinate set(s) were parsed in 0.02s.\n"
     ]
    },
    {
     "name": "stdout",
     "output_type": "stream",
     "text": [
      "writing 3HFM.mut.505_Repair.clean_HL\n",
      "writing 3HFM.mut.505_Repair.clean_Y\n"
     ]
    },
    {
     "name": "stderr",
     "output_type": "stream",
     "text": [
      "@> 3288 atoms and 1 coordinate set(s) were parsed in 0.04s.\n",
      "@> 1001 atoms and 1 coordinate set(s) were parsed in 0.02s.\n"
     ]
    },
    {
     "name": "stdout",
     "output_type": "stream",
     "text": [
      "writing 3HFM.mut.506_Repair.clean_HL\n",
      "writing 3HFM.mut.506_Repair.clean_Y\n"
     ]
    },
    {
     "name": "stderr",
     "output_type": "stream",
     "text": [
      "@> 3294 atoms and 1 coordinate set(s) were parsed in 0.04s.\n",
      "@> 1001 atoms and 1 coordinate set(s) were parsed in 0.02s.\n"
     ]
    },
    {
     "name": "stdout",
     "output_type": "stream",
     "text": [
      "writing 3HFM.mut.507_Repair.clean_HL\n",
      "writing 3HFM.mut.507_Repair.clean_Y\n"
     ]
    },
    {
     "name": "stderr",
     "output_type": "stream",
     "text": [
      "@> 3295 atoms and 1 coordinate set(s) were parsed in 0.04s.\n",
      "@> 997 atoms and 1 coordinate set(s) were parsed in 0.02s.\n"
     ]
    },
    {
     "name": "stdout",
     "output_type": "stream",
     "text": [
      "writing 3HFM.mut.508_Repair.clean_HL\n",
      "writing 3HFM.mut.508_Repair.clean_Y\n"
     ]
    },
    {
     "name": "stderr",
     "output_type": "stream",
     "text": [
      "@> 3295 atoms and 1 coordinate set(s) were parsed in 0.04s.\n",
      "@> 997 atoms and 1 coordinate set(s) were parsed in 0.02s.\n"
     ]
    },
    {
     "name": "stdout",
     "output_type": "stream",
     "text": [
      "writing 3HFM.mut.509_Repair.clean_HL\n",
      "writing 3HFM.mut.509_Repair.clean_Y\n"
     ]
    },
    {
     "name": "stderr",
     "output_type": "stream",
     "text": [
      "@> 3295 atoms and 1 coordinate set(s) were parsed in 0.04s.\n",
      "@> 1000 atoms and 1 coordinate set(s) were parsed in 0.02s.\n"
     ]
    },
    {
     "name": "stdout",
     "output_type": "stream",
     "text": [
      "writing 3HFM.mut.510_Repair.clean_HL\n",
      "writing 3HFM.mut.510_Repair.clean_Y\n"
     ]
    },
    {
     "name": "stderr",
     "output_type": "stream",
     "text": [
      "@> 3295 atoms and 1 coordinate set(s) were parsed in 0.04s.\n",
      "@> 995 atoms and 1 coordinate set(s) were parsed in 0.02s.\n"
     ]
    },
    {
     "name": "stdout",
     "output_type": "stream",
     "text": [
      "writing 3HFM.mut.511_Repair.clean_HL\n",
      "writing 3HFM.mut.511_Repair.clean_Y\n"
     ]
    },
    {
     "name": "stderr",
     "output_type": "stream",
     "text": [
      "@> 3295 atoms and 1 coordinate set(s) were parsed in 0.04s.\n",
      "@> 994 atoms and 1 coordinate set(s) were parsed in 0.02s.\n"
     ]
    },
    {
     "name": "stdout",
     "output_type": "stream",
     "text": [
      "writing 3HFM.mut.512_Repair.clean_HL\n",
      "writing 3HFM.mut.512_Repair.clean_Y\n"
     ]
    },
    {
     "name": "stderr",
     "output_type": "stream",
     "text": [
      "@> 797 atoms and 1 coordinate set(s) were parsed in 0.01s.\n",
      "@> 758 atoms and 1 coordinate set(s) were parsed in 0.01s.\n"
     ]
    },
    {
     "name": "stdout",
     "output_type": "stream",
     "text": [
      "writing 3K2M.mut.513_Repair.clean_A\n",
      "writing 3K2M.mut.513_Repair.clean_D\n"
     ]
    },
    {
     "name": "stderr",
     "output_type": "stream",
     "text": [
      "@> 797 atoms and 1 coordinate set(s) were parsed in 0.01s.\n",
      "@> 759 atoms and 1 coordinate set(s) were parsed in 0.01s.\n"
     ]
    },
    {
     "name": "stdout",
     "output_type": "stream",
     "text": [
      "writing 3K2M.mut.514_Repair.clean_A\n",
      "writing 3K2M.mut.514_Repair.clean_D\n"
     ]
    },
    {
     "name": "stderr",
     "output_type": "stream",
     "text": [
      "@> 797 atoms and 1 coordinate set(s) were parsed in 0.01s.\n",
      "@> 756 atoms and 1 coordinate set(s) were parsed in 0.01s.\n"
     ]
    },
    {
     "name": "stdout",
     "output_type": "stream",
     "text": [
      "writing 3K2M.mut.515_Repair.clean_A\n",
      "writing 3K2M.mut.515_Repair.clean_D\n"
     ]
    },
    {
     "name": "stderr",
     "output_type": "stream",
     "text": [
      "@> 797 atoms and 1 coordinate set(s) were parsed in 0.01s.\n",
      "@> 753 atoms and 1 coordinate set(s) were parsed in 0.01s.\n"
     ]
    },
    {
     "name": "stdout",
     "output_type": "stream",
     "text": [
      "writing 3K2M.mut.516_Repair.clean_A\n",
      "writing 3K2M.mut.516_Repair.clean_D\n"
     ]
    },
    {
     "name": "stderr",
     "output_type": "stream",
     "text": [
      "@> 797 atoms and 1 coordinate set(s) were parsed in 0.01s.\n",
      "@> 755 atoms and 1 coordinate set(s) were parsed in 0.01s.\n"
     ]
    },
    {
     "name": "stdout",
     "output_type": "stream",
     "text": [
      "writing 3K2M.mut.517_Repair.clean_A\n",
      "writing 3K2M.mut.517_Repair.clean_D\n"
     ]
    },
    {
     "name": "stderr",
     "output_type": "stream",
     "text": [
      "@> 797 atoms and 1 coordinate set(s) were parsed in 0.01s.\n",
      "@> 755 atoms and 1 coordinate set(s) were parsed in 0.01s.\n"
     ]
    },
    {
     "name": "stdout",
     "output_type": "stream",
     "text": [
      "writing 3K2M.mut.518_Repair.clean_A\n",
      "writing 3K2M.mut.518_Repair.clean_D\n"
     ]
    },
    {
     "name": "stderr",
     "output_type": "stream",
     "text": [
      "@> 797 atoms and 1 coordinate set(s) were parsed in 0.01s.\n",
      "@> 755 atoms and 1 coordinate set(s) were parsed in 0.01s.\n"
     ]
    },
    {
     "name": "stdout",
     "output_type": "stream",
     "text": [
      "writing 3K2M.mut.519_Repair.clean_A\n",
      "writing 3K2M.mut.519_Repair.clean_D\n"
     ]
    },
    {
     "name": "stderr",
     "output_type": "stream",
     "text": [
      "@> 2714 atoms and 1 coordinate set(s) were parsed in 0.04s.\n",
      "@> 3324 atoms and 1 coordinate set(s) were parsed in 0.04s.\n"
     ]
    },
    {
     "name": "stdout",
     "output_type": "stream",
     "text": [
      "writing 3NGB.mut.520_Repair.clean_G\n",
      "writing 3NGB.mut.520_Repair.clean_HL\n"
     ]
    },
    {
     "name": "stderr",
     "output_type": "stream",
     "text": [
      "@> 2714 atoms and 1 coordinate set(s) were parsed in 0.04s.\n",
      "@> 3327 atoms and 1 coordinate set(s) were parsed in 0.05s.\n"
     ]
    },
    {
     "name": "stdout",
     "output_type": "stream",
     "text": [
      "writing 3NGB.mut.521_Repair.clean_G\n",
      "writing 3NGB.mut.521_Repair.clean_HL\n"
     ]
    },
    {
     "name": "stderr",
     "output_type": "stream",
     "text": [
      "@> 2714 atoms and 1 coordinate set(s) were parsed in 0.03s.\n",
      "@> 3324 atoms and 1 coordinate set(s) were parsed in 0.04s.\n"
     ]
    },
    {
     "name": "stdout",
     "output_type": "stream",
     "text": [
      "writing 3NGB.mut.522_Repair.clean_G\n",
      "writing 3NGB.mut.522_Repair.clean_HL\n"
     ]
    },
    {
     "name": "stderr",
     "output_type": "stream",
     "text": [
      "@> 2714 atoms and 1 coordinate set(s) were parsed in 0.03s.\n",
      "@> 3324 atoms and 1 coordinate set(s) were parsed in 0.04s.\n"
     ]
    },
    {
     "name": "stdout",
     "output_type": "stream",
     "text": [
      "writing 3NGB.mut.523_Repair.clean_G\n",
      "writing 3NGB.mut.523_Repair.clean_HL\n"
     ]
    },
    {
     "name": "stderr",
     "output_type": "stream",
     "text": [
      "@> 2714 atoms and 1 coordinate set(s) were parsed in 0.04s.\n",
      "@> 3327 atoms and 1 coordinate set(s) were parsed in 0.04s.\n"
     ]
    },
    {
     "name": "stdout",
     "output_type": "stream",
     "text": [
      "writing 3NGB.mut.524_Repair.clean_G\n",
      "writing 3NGB.mut.524_Repair.clean_HL\n"
     ]
    },
    {
     "name": "stderr",
     "output_type": "stream",
     "text": [
      "@> 2714 atoms and 1 coordinate set(s) were parsed in 0.04s.\n",
      "@> 3322 atoms and 1 coordinate set(s) were parsed in 0.04s.\n"
     ]
    },
    {
     "name": "stdout",
     "output_type": "stream",
     "text": [
      "writing 3NGB.mut.525_Repair.clean_G\n",
      "writing 3NGB.mut.525_Repair.clean_HL\n"
     ]
    },
    {
     "name": "stderr",
     "output_type": "stream",
     "text": [
      "@> 2714 atoms and 1 coordinate set(s) were parsed in 0.03s.\n",
      "@> 3323 atoms and 1 coordinate set(s) were parsed in 0.04s.\n"
     ]
    },
    {
     "name": "stdout",
     "output_type": "stream",
     "text": [
      "writing 3NGB.mut.526_Repair.clean_G\n",
      "writing 3NGB.mut.526_Repair.clean_HL\n"
     ]
    },
    {
     "name": "stderr",
     "output_type": "stream",
     "text": [
      "@> 2714 atoms and 1 coordinate set(s) were parsed in 0.04s.\n",
      "@> 3330 atoms and 1 coordinate set(s) were parsed in 0.04s.\n"
     ]
    },
    {
     "name": "stdout",
     "output_type": "stream",
     "text": [
      "writing 3NGB.mut.527_Repair.clean_G\n",
      "writing 3NGB.mut.527_Repair.clean_HL\n"
     ]
    },
    {
     "name": "stderr",
     "output_type": "stream",
     "text": [
      "@> 2714 atoms and 1 coordinate set(s) were parsed in 0.03s.\n",
      "@> 3325 atoms and 1 coordinate set(s) were parsed in 0.04s.\n"
     ]
    },
    {
     "name": "stdout",
     "output_type": "stream",
     "text": [
      "writing 3NGB.mut.528_Repair.clean_G\n",
      "writing 3NGB.mut.528_Repair.clean_HL\n"
     ]
    },
    {
     "name": "stderr",
     "output_type": "stream",
     "text": [
      "@> 2714 atoms and 1 coordinate set(s) were parsed in 0.04s.\n",
      "@> 3325 atoms and 1 coordinate set(s) were parsed in 0.04s.\n"
     ]
    },
    {
     "name": "stdout",
     "output_type": "stream",
     "text": [
      "writing 3NGB.mut.529_Repair.clean_G\n",
      "writing 3NGB.mut.529_Repair.clean_HL\n"
     ]
    },
    {
     "name": "stderr",
     "output_type": "stream",
     "text": [
      "@> 2714 atoms and 1 coordinate set(s) were parsed in 0.04s.\n",
      "@> 3319 atoms and 1 coordinate set(s) were parsed in 0.04s.\n"
     ]
    },
    {
     "name": "stdout",
     "output_type": "stream",
     "text": [
      "writing 3NGB.mut.530_Repair.clean_G\n",
      "writing 3NGB.mut.530_Repair.clean_HL\n"
     ]
    },
    {
     "name": "stderr",
     "output_type": "stream",
     "text": [
      "@> 1861 atoms and 1 coordinate set(s) were parsed in 0.03s.\n",
      "@> 3296 atoms and 1 coordinate set(s) were parsed in 0.04s.\n"
     ]
    },
    {
     "name": "stdout",
     "output_type": "stream",
     "text": [
      "writing 3NPS.mut.531_Repair.clean_A\n",
      "writing 3NPS.mut.531_Repair.clean_BC\n"
     ]
    },
    {
     "name": "stderr",
     "output_type": "stream",
     "text": [
      "@> 1861 atoms and 1 coordinate set(s) were parsed in 0.03s.\n",
      "@> 3296 atoms and 1 coordinate set(s) were parsed in 0.04s.\n"
     ]
    },
    {
     "name": "stdout",
     "output_type": "stream",
     "text": [
      "writing 3NPS.mut.532_Repair.clean_A\n",
      "writing 3NPS.mut.532_Repair.clean_BC\n"
     ]
    },
    {
     "name": "stderr",
     "output_type": "stream",
     "text": [
      "@> 1861 atoms and 1 coordinate set(s) were parsed in 0.03s.\n",
      "@> 3296 atoms and 1 coordinate set(s) were parsed in 0.04s.\n"
     ]
    },
    {
     "name": "stdout",
     "output_type": "stream",
     "text": [
      "writing 3NPS.mut.533_Repair.clean_A\n",
      "writing 3NPS.mut.533_Repair.clean_BC\n"
     ]
    },
    {
     "name": "stderr",
     "output_type": "stream",
     "text": [
      "@> 1861 atoms and 1 coordinate set(s) were parsed in 0.03s.\n",
      "@> 3296 atoms and 1 coordinate set(s) were parsed in 0.04s.\n"
     ]
    },
    {
     "name": "stdout",
     "output_type": "stream",
     "text": [
      "writing 3NPS.mut.534_Repair.clean_A\n",
      "writing 3NPS.mut.534_Repair.clean_BC\n"
     ]
    },
    {
     "name": "stderr",
     "output_type": "stream",
     "text": [
      "@> 1860 atoms and 1 coordinate set(s) were parsed in 0.03s.\n",
      "@> 3296 atoms and 1 coordinate set(s) were parsed in 0.05s.\n"
     ]
    },
    {
     "name": "stdout",
     "output_type": "stream",
     "text": [
      "writing 3NPS.mut.535_Repair.clean_A\n",
      "writing 3NPS.mut.535_Repair.clean_BC\n"
     ]
    },
    {
     "name": "stderr",
     "output_type": "stream",
     "text": [
      "@> 1858 atoms and 1 coordinate set(s) were parsed in 0.03s.\n",
      "@> 3296 atoms and 1 coordinate set(s) were parsed in 0.04s.\n"
     ]
    },
    {
     "name": "stdout",
     "output_type": "stream",
     "text": [
      "writing 3NPS.mut.536_Repair.clean_A\n",
      "writing 3NPS.mut.536_Repair.clean_BC\n"
     ]
    },
    {
     "name": "stderr",
     "output_type": "stream",
     "text": [
      "@> 1858 atoms and 1 coordinate set(s) were parsed in 0.03s.\n",
      "@> 3296 atoms and 1 coordinate set(s) were parsed in 0.04s.\n"
     ]
    },
    {
     "name": "stdout",
     "output_type": "stream",
     "text": [
      "writing 3NPS.mut.537_Repair.clean_A\n",
      "writing 3NPS.mut.537_Repair.clean_BC\n"
     ]
    },
    {
     "name": "stderr",
     "output_type": "stream",
     "text": [
      "@> 1858 atoms and 1 coordinate set(s) were parsed in 0.03s.\n",
      "@> 3296 atoms and 1 coordinate set(s) were parsed in 0.04s.\n"
     ]
    },
    {
     "name": "stdout",
     "output_type": "stream",
     "text": [
      "writing 3NPS.mut.538_Repair.clean_A\n",
      "writing 3NPS.mut.538_Repair.clean_BC\n"
     ]
    },
    {
     "name": "stderr",
     "output_type": "stream",
     "text": [
      "@> 1859 atoms and 1 coordinate set(s) were parsed in 0.03s.\n",
      "@> 3296 atoms and 1 coordinate set(s) were parsed in 0.04s.\n"
     ]
    },
    {
     "name": "stdout",
     "output_type": "stream",
     "text": [
      "writing 3NPS.mut.539_Repair.clean_A\n",
      "writing 3NPS.mut.539_Repair.clean_BC\n"
     ]
    },
    {
     "name": "stderr",
     "output_type": "stream",
     "text": [
      "@> 1861 atoms and 1 coordinate set(s) were parsed in 0.03s.\n",
      "@> 3296 atoms and 1 coordinate set(s) were parsed in 0.04s.\n"
     ]
    },
    {
     "name": "stdout",
     "output_type": "stream",
     "text": [
      "writing 3NPS.mut.540_Repair.clean_A\n",
      "writing 3NPS.mut.540_Repair.clean_BC\n"
     ]
    },
    {
     "name": "stderr",
     "output_type": "stream",
     "text": [
      "@> 1861 atoms and 1 coordinate set(s) were parsed in 0.03s.\n",
      "@> 3296 atoms and 1 coordinate set(s) were parsed in 0.04s.\n"
     ]
    },
    {
     "name": "stdout",
     "output_type": "stream",
     "text": [
      "writing 3NPS.mut.541_Repair.clean_A\n",
      "writing 3NPS.mut.541_Repair.clean_BC\n"
     ]
    },
    {
     "name": "stderr",
     "output_type": "stream",
     "text": [
      "@> 1860 atoms and 1 coordinate set(s) were parsed in 0.03s.\n",
      "@> 3296 atoms and 1 coordinate set(s) were parsed in 0.04s.\n"
     ]
    },
    {
     "name": "stdout",
     "output_type": "stream",
     "text": [
      "writing 3NPS.mut.542_Repair.clean_A\n",
      "writing 3NPS.mut.542_Repair.clean_BC\n"
     ]
    },
    {
     "name": "stderr",
     "output_type": "stream",
     "text": [
      "@> 1861 atoms and 1 coordinate set(s) were parsed in 0.03s.\n",
      "@> 3296 atoms and 1 coordinate set(s) were parsed in 0.04s.\n"
     ]
    },
    {
     "name": "stdout",
     "output_type": "stream",
     "text": [
      "writing 3NPS.mut.543_Repair.clean_A\n",
      "writing 3NPS.mut.543_Repair.clean_BC\n"
     ]
    },
    {
     "name": "stderr",
     "output_type": "stream",
     "text": [
      "@> 1861 atoms and 1 coordinate set(s) were parsed in 0.02s.\n",
      "@> 3296 atoms and 1 coordinate set(s) were parsed in 0.04s.\n"
     ]
    },
    {
     "name": "stdout",
     "output_type": "stream",
     "text": [
      "writing 3NPS.mut.544_Repair.clean_A\n",
      "writing 3NPS.mut.544_Repair.clean_BC\n"
     ]
    },
    {
     "name": "stderr",
     "output_type": "stream",
     "text": [
      "@> 1860 atoms and 1 coordinate set(s) were parsed in 0.03s.\n",
      "@> 3296 atoms and 1 coordinate set(s) were parsed in 0.04s.\n"
     ]
    },
    {
     "name": "stdout",
     "output_type": "stream",
     "text": [
      "writing 3NPS.mut.545_Repair.clean_A\n",
      "writing 3NPS.mut.545_Repair.clean_BC\n"
     ]
    },
    {
     "name": "stderr",
     "output_type": "stream",
     "text": [
      "@> 1860 atoms and 1 coordinate set(s) were parsed in 0.02s.\n",
      "@> 3296 atoms and 1 coordinate set(s) were parsed in 0.04s.\n"
     ]
    },
    {
     "name": "stdout",
     "output_type": "stream",
     "text": [
      "writing 3NPS.mut.546_Repair.clean_A\n",
      "writing 3NPS.mut.546_Repair.clean_BC\n"
     ]
    },
    {
     "name": "stderr",
     "output_type": "stream",
     "text": [
      "@> 1860 atoms and 1 coordinate set(s) were parsed in 0.03s.\n",
      "@> 3296 atoms and 1 coordinate set(s) were parsed in 0.04s.\n"
     ]
    },
    {
     "name": "stdout",
     "output_type": "stream",
     "text": [
      "writing 3NPS.mut.547_Repair.clean_A\n",
      "writing 3NPS.mut.547_Repair.clean_BC\n"
     ]
    },
    {
     "name": "stderr",
     "output_type": "stream",
     "text": [
      "@> 1860 atoms and 1 coordinate set(s) were parsed in 0.03s.\n",
      "@> 3296 atoms and 1 coordinate set(s) were parsed in 0.04s.\n"
     ]
    },
    {
     "name": "stdout",
     "output_type": "stream",
     "text": [
      "writing 3NPS.mut.548_Repair.clean_A\n",
      "writing 3NPS.mut.548_Repair.clean_BC\n"
     ]
    },
    {
     "name": "stderr",
     "output_type": "stream",
     "text": [
      "@> 1860 atoms and 1 coordinate set(s) were parsed in 0.03s.\n",
      "@> 3296 atoms and 1 coordinate set(s) were parsed in 0.04s.\n"
     ]
    },
    {
     "name": "stdout",
     "output_type": "stream",
     "text": [
      "writing 3NPS.mut.549_Repair.clean_A\n",
      "writing 3NPS.mut.549_Repair.clean_BC\n"
     ]
    },
    {
     "name": "stderr",
     "output_type": "stream",
     "text": [
      "@> 1858 atoms and 1 coordinate set(s) were parsed in 0.03s.\n",
      "@> 3296 atoms and 1 coordinate set(s) were parsed in 0.04s.\n"
     ]
    },
    {
     "name": "stdout",
     "output_type": "stream",
     "text": [
      "writing 3NPS.mut.550_Repair.clean_A\n",
      "writing 3NPS.mut.550_Repair.clean_BC\n"
     ]
    },
    {
     "name": "stderr",
     "output_type": "stream",
     "text": [
      "@> 1858 atoms and 1 coordinate set(s) were parsed in 0.03s.\n",
      "@> 3296 atoms and 1 coordinate set(s) were parsed in 0.04s.\n"
     ]
    },
    {
     "name": "stdout",
     "output_type": "stream",
     "text": [
      "writing 3NPS.mut.551_Repair.clean_A\n",
      "writing 3NPS.mut.551_Repair.clean_BC\n"
     ]
    },
    {
     "name": "stderr",
     "output_type": "stream",
     "text": [
      "@> 1858 atoms and 1 coordinate set(s) were parsed in 0.03s.\n",
      "@> 3296 atoms and 1 coordinate set(s) were parsed in 0.04s.\n"
     ]
    },
    {
     "name": "stdout",
     "output_type": "stream",
     "text": [
      "writing 3NPS.mut.552_Repair.clean_A\n",
      "writing 3NPS.mut.552_Repair.clean_BC\n"
     ]
    },
    {
     "name": "stderr",
     "output_type": "stream",
     "text": [
      "@> 1858 atoms and 1 coordinate set(s) were parsed in 0.03s.\n",
      "@> 3296 atoms and 1 coordinate set(s) were parsed in 0.04s.\n"
     ]
    },
    {
     "name": "stdout",
     "output_type": "stream",
     "text": [
      "writing 3NPS.mut.553_Repair.clean_A\n",
      "writing 3NPS.mut.553_Repair.clean_BC\n"
     ]
    },
    {
     "name": "stderr",
     "output_type": "stream",
     "text": [
      "@> 1862 atoms and 1 coordinate set(s) were parsed in 0.03s.\n",
      "@> 3296 atoms and 1 coordinate set(s) were parsed in 0.04s.\n"
     ]
    },
    {
     "name": "stdout",
     "output_type": "stream",
     "text": [
      "writing 3NPS.mut.554_Repair.clean_A\n",
      "writing 3NPS.mut.554_Repair.clean_BC\n"
     ]
    },
    {
     "name": "stderr",
     "output_type": "stream",
     "text": [
      "@> 1862 atoms and 1 coordinate set(s) were parsed in 0.03s.\n",
      "@> 3296 atoms and 1 coordinate set(s) were parsed in 0.04s.\n"
     ]
    },
    {
     "name": "stdout",
     "output_type": "stream",
     "text": [
      "writing 3NPS.mut.555_Repair.clean_A\n",
      "writing 3NPS.mut.555_Repair.clean_BC\n"
     ]
    },
    {
     "name": "stderr",
     "output_type": "stream",
     "text": [
      "@> 1857 atoms and 1 coordinate set(s) were parsed in 0.03s.\n",
      "@> 3296 atoms and 1 coordinate set(s) were parsed in 0.04s.\n"
     ]
    },
    {
     "name": "stdout",
     "output_type": "stream",
     "text": [
      "writing 3NPS.mut.556_Repair.clean_A\n",
      "writing 3NPS.mut.556_Repair.clean_BC\n"
     ]
    },
    {
     "name": "stderr",
     "output_type": "stream",
     "text": [
      "@> 1857 atoms and 1 coordinate set(s) were parsed in 0.03s.\n",
      "@> 3296 atoms and 1 coordinate set(s) were parsed in 0.04s.\n"
     ]
    },
    {
     "name": "stdout",
     "output_type": "stream",
     "text": [
      "writing 3NPS.mut.557_Repair.clean_A\n",
      "writing 3NPS.mut.557_Repair.clean_BC\n"
     ]
    },
    {
     "name": "stderr",
     "output_type": "stream",
     "text": [
      "@> 642 atoms and 1 coordinate set(s) were parsed in 0.01s.\n",
      "@> 838 atoms and 1 coordinate set(s) were parsed in 0.01s.\n"
     ]
    },
    {
     "name": "stdout",
     "output_type": "stream",
     "text": [
      "writing HM_1KTZ.mut.558_Repair.clean_A\n",
      "writing HM_1KTZ.mut.558_Repair.clean_B\n"
     ]
    },
    {
     "name": "stderr",
     "output_type": "stream",
     "text": [
      "@> 642 atoms and 1 coordinate set(s) were parsed in 0.01s.\n",
      "@> 838 atoms and 1 coordinate set(s) were parsed in 0.01s.\n"
     ]
    },
    {
     "name": "stdout",
     "output_type": "stream",
     "text": [
      "writing HM_1KTZ.mut.559_Repair.clean_A\n",
      "writing HM_1KTZ.mut.559_Repair.clean_B\n"
     ]
    },
    {
     "name": "stderr",
     "output_type": "stream",
     "text": [
      "@> 642 atoms and 1 coordinate set(s) were parsed in 0.01s.\n",
      "@> 841 atoms and 1 coordinate set(s) were parsed in 0.01s.\n"
     ]
    },
    {
     "name": "stdout",
     "output_type": "stream",
     "text": [
      "writing HM_1KTZ.mut.560_Repair.clean_A\n",
      "writing HM_1KTZ.mut.560_Repair.clean_B\n"
     ]
    },
    {
     "name": "stderr",
     "output_type": "stream",
     "text": [
      "@> 642 atoms and 1 coordinate set(s) were parsed in 0.01s.\n",
      "@> 837 atoms and 1 coordinate set(s) were parsed in 0.01s.\n"
     ]
    },
    {
     "name": "stdout",
     "output_type": "stream",
     "text": [
      "writing HM_1KTZ.mut.561_Repair.clean_A\n",
      "writing HM_1KTZ.mut.561_Repair.clean_B\n"
     ]
    },
    {
     "name": "stderr",
     "output_type": "stream",
     "text": [
      "@> 642 atoms and 1 coordinate set(s) were parsed in 0.01s.\n",
      "@> 841 atoms and 1 coordinate set(s) were parsed in 0.01s.\n"
     ]
    },
    {
     "name": "stdout",
     "output_type": "stream",
     "text": [
      "writing HM_1KTZ.mut.562_Repair.clean_A\n",
      "writing HM_1KTZ.mut.562_Repair.clean_B\n"
     ]
    },
    {
     "name": "stderr",
     "output_type": "stream",
     "text": [
      "@> 642 atoms and 1 coordinate set(s) were parsed in 0.01s.\n",
      "@> 837 atoms and 1 coordinate set(s) were parsed in 0.01s.\n"
     ]
    },
    {
     "name": "stdout",
     "output_type": "stream",
     "text": [
      "writing HM_1KTZ.mut.563_Repair.clean_A\n",
      "writing HM_1KTZ.mut.563_Repair.clean_B\n"
     ]
    },
    {
     "name": "stderr",
     "output_type": "stream",
     "text": [
      "@> 642 atoms and 1 coordinate set(s) were parsed in 0.01s.\n",
      "@> 837 atoms and 1 coordinate set(s) were parsed in 0.01s.\n"
     ]
    },
    {
     "name": "stdout",
     "output_type": "stream",
     "text": [
      "writing HM_1KTZ.mut.564_Repair.clean_A\n",
      "writing HM_1KTZ.mut.564_Repair.clean_B\n"
     ]
    },
    {
     "name": "stderr",
     "output_type": "stream",
     "text": [
      "@> 642 atoms and 1 coordinate set(s) were parsed in 0.01s.\n",
      "@> 835 atoms and 1 coordinate set(s) were parsed in 0.01s.\n"
     ]
    },
    {
     "name": "stdout",
     "output_type": "stream",
     "text": [
      "writing HM_1KTZ.mut.565_Repair.clean_A\n",
      "writing HM_1KTZ.mut.565_Repair.clean_B\n"
     ]
    },
    {
     "name": "stderr",
     "output_type": "stream",
     "text": [
      "@> 642 atoms and 1 coordinate set(s) were parsed in 0.01s.\n",
      "@> 835 atoms and 1 coordinate set(s) were parsed in 0.01s.\n"
     ]
    },
    {
     "name": "stdout",
     "output_type": "stream",
     "text": [
      "writing HM_1KTZ.mut.566_Repair.clean_A\n",
      "writing HM_1KTZ.mut.566_Repair.clean_B\n"
     ]
    },
    {
     "name": "stderr",
     "output_type": "stream",
     "text": [
      "@> 642 atoms and 1 coordinate set(s) were parsed in 0.01s.\n",
      "@> 836 atoms and 1 coordinate set(s) were parsed in 0.01s.\n"
     ]
    },
    {
     "name": "stdout",
     "output_type": "stream",
     "text": [
      "writing HM_1KTZ.mut.567_Repair.clean_A\n",
      "writing HM_1KTZ.mut.567_Repair.clean_B\n"
     ]
    },
    {
     "name": "stderr",
     "output_type": "stream",
     "text": [
      "@> 642 atoms and 1 coordinate set(s) were parsed in 0.01s.\n",
      "@> 838 atoms and 1 coordinate set(s) were parsed in 0.01s.\n"
     ]
    },
    {
     "name": "stdout",
     "output_type": "stream",
     "text": [
      "writing HM_1KTZ.mut.568_Repair.clean_A\n",
      "writing HM_1KTZ.mut.568_Repair.clean_B\n"
     ]
    },
    {
     "name": "stderr",
     "output_type": "stream",
     "text": [
      "@> 642 atoms and 1 coordinate set(s) were parsed in 0.01s.\n",
      "@> 838 atoms and 1 coordinate set(s) were parsed in 0.01s.\n"
     ]
    },
    {
     "name": "stdout",
     "output_type": "stream",
     "text": [
      "writing HM_1KTZ.mut.569_Repair.clean_A\n",
      "writing HM_1KTZ.mut.569_Repair.clean_B\n"
     ]
    },
    {
     "name": "stderr",
     "output_type": "stream",
     "text": [
      "@> 642 atoms and 1 coordinate set(s) were parsed in 0.01s.\n",
      "@> 838 atoms and 1 coordinate set(s) were parsed in 0.01s.\n"
     ]
    },
    {
     "name": "stdout",
     "output_type": "stream",
     "text": [
      "writing HM_1KTZ.mut.570_Repair.clean_A\n",
      "writing HM_1KTZ.mut.570_Repair.clean_B\n"
     ]
    },
    {
     "name": "stderr",
     "output_type": "stream",
     "text": [
      "@> 642 atoms and 1 coordinate set(s) were parsed in 0.01s.\n",
      "@> 838 atoms and 1 coordinate set(s) were parsed in 0.01s.\n"
     ]
    },
    {
     "name": "stdout",
     "output_type": "stream",
     "text": [
      "writing HM_1KTZ.mut.571_Repair.clean_A\n",
      "writing HM_1KTZ.mut.571_Repair.clean_B\n"
     ]
    },
    {
     "name": "stderr",
     "output_type": "stream",
     "text": [
      "@> 642 atoms and 1 coordinate set(s) were parsed in 0.01s.\n",
      "@> 838 atoms and 1 coordinate set(s) were parsed in 0.01s.\n"
     ]
    },
    {
     "name": "stdout",
     "output_type": "stream",
     "text": [
      "writing HM_1KTZ.mut.572_Repair.clean_A\n",
      "writing HM_1KTZ.mut.572_Repair.clean_B\n"
     ]
    },
    {
     "name": "stderr",
     "output_type": "stream",
     "text": [
      "@> 642 atoms and 1 coordinate set(s) were parsed in 0.01s.\n",
      "@> 838 atoms and 1 coordinate set(s) were parsed in 0.01s.\n"
     ]
    },
    {
     "name": "stdout",
     "output_type": "stream",
     "text": [
      "writing HM_1KTZ.mut.573_Repair.clean_A\n",
      "writing HM_1KTZ.mut.573_Repair.clean_B\n"
     ]
    },
    {
     "name": "stderr",
     "output_type": "stream",
     "text": [
      "@> 642 atoms and 1 coordinate set(s) were parsed in 0.02s.\n",
      "@> 840 atoms and 1 coordinate set(s) were parsed in 0.01s.\n"
     ]
    },
    {
     "name": "stdout",
     "output_type": "stream",
     "text": [
      "writing HM_1KTZ.mut.574_Repair.clean_A\n",
      "writing HM_1KTZ.mut.574_Repair.clean_B\n"
     ]
    },
    {
     "name": "stderr",
     "output_type": "stream",
     "text": [
      "@> 642 atoms and 1 coordinate set(s) were parsed in 0.01s.\n",
      "@> 840 atoms and 1 coordinate set(s) were parsed in 0.01s.\n"
     ]
    },
    {
     "name": "stdout",
     "output_type": "stream",
     "text": [
      "writing HM_1KTZ.mut.575_Repair.clean_A\n",
      "writing HM_1KTZ.mut.575_Repair.clean_B\n"
     ]
    },
    {
     "name": "stderr",
     "output_type": "stream",
     "text": [
      "@> 642 atoms and 1 coordinate set(s) were parsed in 0.01s.\n",
      "@> 843 atoms and 1 coordinate set(s) were parsed in 0.01s.\n"
     ]
    },
    {
     "name": "stdout",
     "output_type": "stream",
     "text": [
      "writing HM_1KTZ.mut.576_Repair.clean_A\n",
      "writing HM_1KTZ.mut.576_Repair.clean_B\n"
     ]
    },
    {
     "name": "stderr",
     "output_type": "stream",
     "text": [
      "@> 642 atoms and 1 coordinate set(s) were parsed in 0.01s.\n",
      "@> 839 atoms and 1 coordinate set(s) were parsed in 0.01s.\n"
     ]
    },
    {
     "name": "stdout",
     "output_type": "stream",
     "text": [
      "writing HM_1KTZ.mut.577_Repair.clean_A\n",
      "writing HM_1KTZ.mut.577_Repair.clean_B\n"
     ]
    },
    {
     "name": "stderr",
     "output_type": "stream",
     "text": [
      "@> 642 atoms and 1 coordinate set(s) were parsed in 0.01s.\n",
      "@> 839 atoms and 1 coordinate set(s) were parsed in 0.01s.\n"
     ]
    },
    {
     "name": "stdout",
     "output_type": "stream",
     "text": [
      "writing HM_1KTZ.mut.578_Repair.clean_A\n",
      "writing HM_1KTZ.mut.578_Repair.clean_B\n"
     ]
    },
    {
     "name": "stderr",
     "output_type": "stream",
     "text": [
      "@> 642 atoms and 1 coordinate set(s) were parsed in 0.01s.\n",
      "@> 839 atoms and 1 coordinate set(s) were parsed in 0.01s.\n"
     ]
    },
    {
     "name": "stdout",
     "output_type": "stream",
     "text": [
      "writing HM_1KTZ.mut.579_Repair.clean_A\n",
      "writing HM_1KTZ.mut.579_Repair.clean_B\n"
     ]
    },
    {
     "name": "stderr",
     "output_type": "stream",
     "text": [
      "@> 1556 atoms and 1 coordinate set(s) were parsed in 0.02s.\n",
      "@> 1760 atoms and 1 coordinate set(s) were parsed in 0.02s.\n"
     ]
    },
    {
     "name": "stdout",
     "output_type": "stream",
     "text": [
      "writing HM_1YY9.mut.580_Repair.clean_A\n",
      "writing HM_1YY9.mut.580_Repair.clean_HL\n"
     ]
    },
    {
     "name": "stderr",
     "output_type": "stream",
     "text": [
      "@> 1556 atoms and 1 coordinate set(s) were parsed in 0.02s.\n",
      "@> 1755 atoms and 1 coordinate set(s) were parsed in 0.02s.\n"
     ]
    },
    {
     "name": "stdout",
     "output_type": "stream",
     "text": [
      "writing HM_1YY9.mut.581_Repair.clean_A\n",
      "writing HM_1YY9.mut.581_Repair.clean_HL\n"
     ]
    },
    {
     "name": "stderr",
     "output_type": "stream",
     "text": [
      "@> 1556 atoms and 1 coordinate set(s) were parsed in 0.02s.\n",
      "@> 1747 atoms and 1 coordinate set(s) were parsed in 0.02s.\n"
     ]
    },
    {
     "name": "stdout",
     "output_type": "stream",
     "text": [
      "writing HM_1YY9.mut.582_Repair.clean_A\n",
      "writing HM_1YY9.mut.582_Repair.clean_HL\n"
     ]
    },
    {
     "name": "stderr",
     "output_type": "stream",
     "text": [
      "@> 1556 atoms and 1 coordinate set(s) were parsed in 0.02s.\n",
      "@> 1748 atoms and 1 coordinate set(s) were parsed in 0.02s.\n"
     ]
    },
    {
     "name": "stdout",
     "output_type": "stream",
     "text": [
      "writing HM_1YY9.mut.583_Repair.clean_A\n",
      "writing HM_1YY9.mut.583_Repair.clean_HL\n"
     ]
    },
    {
     "name": "stderr",
     "output_type": "stream",
     "text": [
      "@> 1556 atoms and 1 coordinate set(s) were parsed in 0.02s.\n",
      "@> 1756 atoms and 1 coordinate set(s) were parsed in 0.02s.\n"
     ]
    },
    {
     "name": "stdout",
     "output_type": "stream",
     "text": [
      "writing HM_1YY9.mut.584_Repair.clean_A\n",
      "writing HM_1YY9.mut.584_Repair.clean_HL\n"
     ]
    },
    {
     "name": "stderr",
     "output_type": "stream",
     "text": [
      "@> 1556 atoms and 1 coordinate set(s) were parsed in 0.02s.\n",
      "@> 1748 atoms and 1 coordinate set(s) were parsed in 0.02s.\n"
     ]
    },
    {
     "name": "stdout",
     "output_type": "stream",
     "text": [
      "writing HM_1YY9.mut.585_Repair.clean_A\n",
      "writing HM_1YY9.mut.585_Repair.clean_HL\n"
     ]
    },
    {
     "name": "stderr",
     "output_type": "stream",
     "text": [
      "@> 1556 atoms and 1 coordinate set(s) were parsed in 0.02s.\n",
      "@> 1751 atoms and 1 coordinate set(s) were parsed in 0.02s.\n"
     ]
    },
    {
     "name": "stdout",
     "output_type": "stream",
     "text": [
      "writing HM_1YY9.mut.586_Repair.clean_A\n",
      "writing HM_1YY9.mut.586_Repair.clean_HL\n"
     ]
    },
    {
     "name": "stderr",
     "output_type": "stream",
     "text": [
      "@> 1556 atoms and 1 coordinate set(s) were parsed in 0.02s.\n",
      "@> 1752 atoms and 1 coordinate set(s) were parsed in 0.02s.\n"
     ]
    },
    {
     "name": "stdout",
     "output_type": "stream",
     "text": [
      "writing HM_1YY9.mut.587_Repair.clean_A\n",
      "writing HM_1YY9.mut.587_Repair.clean_HL\n"
     ]
    },
    {
     "name": "stderr",
     "output_type": "stream",
     "text": [
      "@> 1556 atoms and 1 coordinate set(s) were parsed in 0.02s.\n",
      "@> 1753 atoms and 1 coordinate set(s) were parsed in 0.02s.\n"
     ]
    },
    {
     "name": "stdout",
     "output_type": "stream",
     "text": [
      "writing HM_1YY9.mut.588_Repair.clean_A\n",
      "writing HM_1YY9.mut.588_Repair.clean_HL\n"
     ]
    },
    {
     "name": "stderr",
     "output_type": "stream",
     "text": [
      "@> 1556 atoms and 1 coordinate set(s) were parsed in 0.02s.\n",
      "@> 1750 atoms and 1 coordinate set(s) were parsed in 0.02s.\n"
     ]
    },
    {
     "name": "stdout",
     "output_type": "stream",
     "text": [
      "writing HM_1YY9.mut.589_Repair.clean_A\n",
      "writing HM_1YY9.mut.589_Repair.clean_HL\n"
     ]
    },
    {
     "name": "stderr",
     "output_type": "stream",
     "text": [
      "@> 1556 atoms and 1 coordinate set(s) were parsed in 0.02s.\n",
      "@> 1753 atoms and 1 coordinate set(s) were parsed in 0.02s.\n"
     ]
    },
    {
     "name": "stdout",
     "output_type": "stream",
     "text": [
      "writing HM_1YY9.mut.590_Repair.clean_A\n",
      "writing HM_1YY9.mut.590_Repair.clean_HL\n"
     ]
    },
    {
     "name": "stderr",
     "output_type": "stream",
     "text": [
      "@> 1556 atoms and 1 coordinate set(s) were parsed in 0.02s.\n",
      "@> 1759 atoms and 1 coordinate set(s) were parsed in 0.02s.\n"
     ]
    },
    {
     "name": "stdout",
     "output_type": "stream",
     "text": [
      "writing HM_1YY9.mut.591_Repair.clean_A\n",
      "writing HM_1YY9.mut.591_Repair.clean_HL\n"
     ]
    },
    {
     "name": "stderr",
     "output_type": "stream",
     "text": [
      "@> 1556 atoms and 1 coordinate set(s) were parsed in 0.02s.\n",
      "@> 1754 atoms and 1 coordinate set(s) were parsed in 0.02s.\n"
     ]
    },
    {
     "name": "stdout",
     "output_type": "stream",
     "text": [
      "writing HM_1YY9.mut.592_Repair.clean_A\n",
      "writing HM_1YY9.mut.592_Repair.clean_HL\n"
     ]
    },
    {
     "name": "stderr",
     "output_type": "stream",
     "text": [
      "@> 1556 atoms and 1 coordinate set(s) were parsed in 0.02s.\n",
      "@> 1750 atoms and 1 coordinate set(s) were parsed in 0.02s.\n"
     ]
    },
    {
     "name": "stdout",
     "output_type": "stream",
     "text": [
      "writing HM_1YY9.mut.593_Repair.clean_A\n",
      "writing HM_1YY9.mut.593_Repair.clean_HL\n"
     ]
    },
    {
     "name": "stderr",
     "output_type": "stream",
     "text": [
      "@> 1556 atoms and 1 coordinate set(s) were parsed in 0.02s.\n",
      "@> 1752 atoms and 1 coordinate set(s) were parsed in 0.02s.\n"
     ]
    },
    {
     "name": "stdout",
     "output_type": "stream",
     "text": [
      "writing HM_1YY9.mut.594_Repair.clean_A\n",
      "writing HM_1YY9.mut.594_Repair.clean_HL\n"
     ]
    },
    {
     "name": "stderr",
     "output_type": "stream",
     "text": [
      "@> 1556 atoms and 1 coordinate set(s) were parsed in 0.02s.\n",
      "@> 1750 atoms and 1 coordinate set(s) were parsed in 0.02s.\n"
     ]
    },
    {
     "name": "stdout",
     "output_type": "stream",
     "text": [
      "writing HM_1YY9.mut.595_Repair.clean_A\n",
      "writing HM_1YY9.mut.595_Repair.clean_HL\n"
     ]
    },
    {
     "name": "stderr",
     "output_type": "stream",
     "text": [
      "@> 10531 atoms and 1 coordinate set(s) were parsed in 0.12s.\n"
     ]
    },
    {
     "name": "stdout",
     "output_type": "stream",
     "text": [
      "writing HM_2NYY.mut.596_Repair.clean_A\n"
     ]
    },
    {
     "name": "stderr",
     "output_type": "stream",
     "text": [
      "@> 3310 atoms and 1 coordinate set(s) were parsed in 0.06s.\n"
     ]
    },
    {
     "name": "stdout",
     "output_type": "stream",
     "text": [
      "writing HM_2NYY.mut.596_Repair.clean_HL\n"
     ]
    },
    {
     "name": "stderr",
     "output_type": "stream",
     "text": [
      "@> 10531 atoms and 1 coordinate set(s) were parsed in 0.12s.\n"
     ]
    },
    {
     "name": "stdout",
     "output_type": "stream",
     "text": [
      "writing HM_2NYY.mut.597_Repair.clean_A\n"
     ]
    },
    {
     "name": "stderr",
     "output_type": "stream",
     "text": [
      "@> 3310 atoms and 1 coordinate set(s) were parsed in 0.06s.\n"
     ]
    },
    {
     "name": "stdout",
     "output_type": "stream",
     "text": [
      "writing HM_2NYY.mut.597_Repair.clean_HL\n"
     ]
    },
    {
     "name": "stderr",
     "output_type": "stream",
     "text": [
      "@> 10530 atoms and 1 coordinate set(s) were parsed in 0.12s.\n"
     ]
    },
    {
     "name": "stdout",
     "output_type": "stream",
     "text": [
      "writing HM_2NYY.mut.598_Repair.clean_A\n"
     ]
    },
    {
     "name": "stderr",
     "output_type": "stream",
     "text": [
      "@> 3310 atoms and 1 coordinate set(s) were parsed in 0.06s.\n"
     ]
    },
    {
     "name": "stdout",
     "output_type": "stream",
     "text": [
      "writing HM_2NYY.mut.598_Repair.clean_HL\n"
     ]
    },
    {
     "name": "stderr",
     "output_type": "stream",
     "text": [
      "@> 10528 atoms and 1 coordinate set(s) were parsed in 0.12s.\n"
     ]
    },
    {
     "name": "stdout",
     "output_type": "stream",
     "text": [
      "writing HM_2NYY.mut.599_Repair.clean_A\n"
     ]
    },
    {
     "name": "stderr",
     "output_type": "stream",
     "text": [
      "@> 3310 atoms and 1 coordinate set(s) were parsed in 0.06s.\n"
     ]
    },
    {
     "name": "stdout",
     "output_type": "stream",
     "text": [
      "writing HM_2NYY.mut.599_Repair.clean_HL\n"
     ]
    },
    {
     "name": "stderr",
     "output_type": "stream",
     "text": [
      "@> 10531 atoms and 1 coordinate set(s) were parsed in 0.13s.\n"
     ]
    },
    {
     "name": "stdout",
     "output_type": "stream",
     "text": [
      "writing HM_2NYY.mut.600_Repair.clean_A\n"
     ]
    },
    {
     "name": "stderr",
     "output_type": "stream",
     "text": [
      "@> 3310 atoms and 1 coordinate set(s) were parsed in 0.05s.\n"
     ]
    },
    {
     "name": "stdout",
     "output_type": "stream",
     "text": [
      "writing HM_2NYY.mut.600_Repair.clean_HL\n"
     ]
    },
    {
     "name": "stderr",
     "output_type": "stream",
     "text": [
      "@> 10530 atoms and 1 coordinate set(s) were parsed in 0.12s.\n"
     ]
    },
    {
     "name": "stdout",
     "output_type": "stream",
     "text": [
      "writing HM_2NYY.mut.601_Repair.clean_A\n"
     ]
    },
    {
     "name": "stderr",
     "output_type": "stream",
     "text": [
      "@> 3310 atoms and 1 coordinate set(s) were parsed in 0.06s.\n"
     ]
    },
    {
     "name": "stdout",
     "output_type": "stream",
     "text": [
      "writing HM_2NYY.mut.601_Repair.clean_HL\n"
     ]
    },
    {
     "name": "stderr",
     "output_type": "stream",
     "text": [
      "@> 10530 atoms and 1 coordinate set(s) were parsed in 0.12s.\n"
     ]
    },
    {
     "name": "stdout",
     "output_type": "stream",
     "text": [
      "writing HM_2NYY.mut.602_Repair.clean_A\n"
     ]
    },
    {
     "name": "stderr",
     "output_type": "stream",
     "text": [
      "@> 3310 atoms and 1 coordinate set(s) were parsed in 0.06s.\n"
     ]
    },
    {
     "name": "stdout",
     "output_type": "stream",
     "text": [
      "writing HM_2NYY.mut.602_Repair.clean_HL\n"
     ]
    },
    {
     "name": "stderr",
     "output_type": "stream",
     "text": [
      "@> 10531 atoms and 1 coordinate set(s) were parsed in 0.12s.\n"
     ]
    },
    {
     "name": "stdout",
     "output_type": "stream",
     "text": [
      "writing HM_2NYY.mut.603_Repair.clean_A\n"
     ]
    },
    {
     "name": "stderr",
     "output_type": "stream",
     "text": [
      "@> 3310 atoms and 1 coordinate set(s) were parsed in 0.06s.\n"
     ]
    },
    {
     "name": "stdout",
     "output_type": "stream",
     "text": [
      "writing HM_2NYY.mut.603_Repair.clean_HL\n"
     ]
    },
    {
     "name": "stderr",
     "output_type": "stream",
     "text": [
      "@> 10531 atoms and 1 coordinate set(s) were parsed in 0.12s.\n"
     ]
    },
    {
     "name": "stdout",
     "output_type": "stream",
     "text": [
      "writing HM_2NYY.mut.604_Repair.clean_A\n"
     ]
    },
    {
     "name": "stderr",
     "output_type": "stream",
     "text": [
      "@> 3310 atoms and 1 coordinate set(s) were parsed in 0.06s.\n"
     ]
    },
    {
     "name": "stdout",
     "output_type": "stream",
     "text": [
      "writing HM_2NYY.mut.604_Repair.clean_HL\n"
     ]
    },
    {
     "name": "stderr",
     "output_type": "stream",
     "text": [
      "@> 10531 atoms and 1 coordinate set(s) were parsed in 0.12s.\n"
     ]
    },
    {
     "name": "stdout",
     "output_type": "stream",
     "text": [
      "writing HM_2NYY.mut.605_Repair.clean_A\n"
     ]
    },
    {
     "name": "stderr",
     "output_type": "stream",
     "text": [
      "@> 3310 atoms and 1 coordinate set(s) were parsed in 0.06s.\n"
     ]
    },
    {
     "name": "stdout",
     "output_type": "stream",
     "text": [
      "writing HM_2NYY.mut.605_Repair.clean_HL\n"
     ]
    },
    {
     "name": "stderr",
     "output_type": "stream",
     "text": [
      "@> 10532 atoms and 1 coordinate set(s) were parsed in 0.12s.\n"
     ]
    },
    {
     "name": "stdout",
     "output_type": "stream",
     "text": [
      "writing HM_2NYY.mut.606_Repair.clean_A\n"
     ]
    },
    {
     "name": "stderr",
     "output_type": "stream",
     "text": [
      "@> 3310 atoms and 1 coordinate set(s) were parsed in 0.06s.\n"
     ]
    },
    {
     "name": "stdout",
     "output_type": "stream",
     "text": [
      "writing HM_2NYY.mut.606_Repair.clean_HL\n"
     ]
    },
    {
     "name": "stderr",
     "output_type": "stream",
     "text": [
      "@> 10528 atoms and 1 coordinate set(s) were parsed in 0.12s.\n"
     ]
    },
    {
     "name": "stdout",
     "output_type": "stream",
     "text": [
      "writing HM_2NYY.mut.607_Repair.clean_A\n"
     ]
    },
    {
     "name": "stderr",
     "output_type": "stream",
     "text": [
      "@> 3310 atoms and 1 coordinate set(s) were parsed in 0.06s.\n"
     ]
    },
    {
     "name": "stdout",
     "output_type": "stream",
     "text": [
      "writing HM_2NYY.mut.607_Repair.clean_HL\n"
     ]
    },
    {
     "name": "stderr",
     "output_type": "stream",
     "text": [
      "@> 10528 atoms and 1 coordinate set(s) were parsed in 0.12s.\n"
     ]
    },
    {
     "name": "stdout",
     "output_type": "stream",
     "text": [
      "writing HM_2NYY.mut.608_Repair.clean_A\n"
     ]
    },
    {
     "name": "stderr",
     "output_type": "stream",
     "text": [
      "@> 3310 atoms and 1 coordinate set(s) were parsed in 0.06s.\n"
     ]
    },
    {
     "name": "stdout",
     "output_type": "stream",
     "text": [
      "writing HM_2NYY.mut.608_Repair.clean_HL\n"
     ]
    },
    {
     "name": "stderr",
     "output_type": "stream",
     "text": [
      "@> 10528 atoms and 1 coordinate set(s) were parsed in 0.12s.\n"
     ]
    },
    {
     "name": "stdout",
     "output_type": "stream",
     "text": [
      "writing HM_2NYY.mut.609_Repair.clean_A\n"
     ]
    },
    {
     "name": "stderr",
     "output_type": "stream",
     "text": [
      "@> 3310 atoms and 1 coordinate set(s) were parsed in 0.05s.\n"
     ]
    },
    {
     "name": "stdout",
     "output_type": "stream",
     "text": [
      "writing HM_2NYY.mut.609_Repair.clean_HL\n"
     ]
    },
    {
     "name": "stderr",
     "output_type": "stream",
     "text": [
      "@> 10533 atoms and 1 coordinate set(s) were parsed in 0.12s.\n"
     ]
    },
    {
     "name": "stdout",
     "output_type": "stream",
     "text": [
      "writing HM_2NYY.mut.610_Repair.clean_A\n"
     ]
    },
    {
     "name": "stderr",
     "output_type": "stream",
     "text": [
      "@> 3310 atoms and 1 coordinate set(s) were parsed in 0.08s.\n"
     ]
    },
    {
     "name": "stdout",
     "output_type": "stream",
     "text": [
      "writing HM_2NYY.mut.610_Repair.clean_HL\n"
     ]
    },
    {
     "name": "stderr",
     "output_type": "stream",
     "text": [
      "@> 10532 atoms and 1 coordinate set(s) were parsed in 0.12s.\n"
     ]
    },
    {
     "name": "stdout",
     "output_type": "stream",
     "text": [
      "writing HM_2NYY.mut.611_Repair.clean_A\n"
     ]
    },
    {
     "name": "stderr",
     "output_type": "stream",
     "text": [
      "@> 3310 atoms and 1 coordinate set(s) were parsed in 0.05s.\n"
     ]
    },
    {
     "name": "stdout",
     "output_type": "stream",
     "text": [
      "writing HM_2NYY.mut.611_Repair.clean_HL\n"
     ]
    },
    {
     "name": "stderr",
     "output_type": "stream",
     "text": [
      "@> 10534 atoms and 1 coordinate set(s) were parsed in 0.12s.\n"
     ]
    },
    {
     "name": "stdout",
     "output_type": "stream",
     "text": [
      "writing HM_2NYY.mut.612_Repair.clean_A\n"
     ]
    },
    {
     "name": "stderr",
     "output_type": "stream",
     "text": [
      "@> 3312 atoms and 1 coordinate set(s) were parsed in 0.06s.\n"
     ]
    },
    {
     "name": "stdout",
     "output_type": "stream",
     "text": [
      "writing HM_2NYY.mut.612_Repair.clean_HL\n"
     ]
    },
    {
     "name": "stderr",
     "output_type": "stream",
     "text": [
      "@> 10534 atoms and 1 coordinate set(s) were parsed in 0.12s.\n"
     ]
    },
    {
     "name": "stdout",
     "output_type": "stream",
     "text": [
      "writing HM_2NYY.mut.613_Repair.clean_A\n"
     ]
    },
    {
     "name": "stderr",
     "output_type": "stream",
     "text": [
      "@> 3311 atoms and 1 coordinate set(s) were parsed in 0.05s.\n"
     ]
    },
    {
     "name": "stdout",
     "output_type": "stream",
     "text": [
      "writing HM_2NYY.mut.613_Repair.clean_HL\n"
     ]
    },
    {
     "name": "stderr",
     "output_type": "stream",
     "text": [
      "@> 10534 atoms and 1 coordinate set(s) were parsed in 0.12s.\n"
     ]
    },
    {
     "name": "stdout",
     "output_type": "stream",
     "text": [
      "writing HM_2NYY.mut.614_Repair.clean_A\n"
     ]
    },
    {
     "name": "stderr",
     "output_type": "stream",
     "text": [
      "@> 3306 atoms and 1 coordinate set(s) were parsed in 0.06s.\n"
     ]
    },
    {
     "name": "stdout",
     "output_type": "stream",
     "text": [
      "writing HM_2NYY.mut.614_Repair.clean_HL\n"
     ]
    },
    {
     "name": "stderr",
     "output_type": "stream",
     "text": [
      "@> 10534 atoms and 1 coordinate set(s) were parsed in 0.12s.\n"
     ]
    },
    {
     "name": "stdout",
     "output_type": "stream",
     "text": [
      "writing HM_2NYY.mut.615_Repair.clean_A\n"
     ]
    },
    {
     "name": "stderr",
     "output_type": "stream",
     "text": [
      "@> 3307 atoms and 1 coordinate set(s) were parsed in 0.06s.\n"
     ]
    },
    {
     "name": "stdout",
     "output_type": "stream",
     "text": [
      "writing HM_2NYY.mut.615_Repair.clean_HL\n"
     ]
    },
    {
     "name": "stderr",
     "output_type": "stream",
     "text": [
      "@> 10534 atoms and 1 coordinate set(s) were parsed in 0.12s.\n"
     ]
    },
    {
     "name": "stdout",
     "output_type": "stream",
     "text": [
      "writing HM_2NYY.mut.616_Repair.clean_A\n"
     ]
    },
    {
     "name": "stderr",
     "output_type": "stream",
     "text": [
      "@> 3307 atoms and 1 coordinate set(s) were parsed in 0.06s.\n"
     ]
    },
    {
     "name": "stdout",
     "output_type": "stream",
     "text": [
      "writing HM_2NYY.mut.616_Repair.clean_HL\n"
     ]
    },
    {
     "name": "stderr",
     "output_type": "stream",
     "text": [
      "@> 10534 atoms and 1 coordinate set(s) were parsed in 0.12s.\n"
     ]
    },
    {
     "name": "stdout",
     "output_type": "stream",
     "text": [
      "writing HM_2NYY.mut.617_Repair.clean_A\n"
     ]
    },
    {
     "name": "stderr",
     "output_type": "stream",
     "text": [
      "@> 3314 atoms and 1 coordinate set(s) were parsed in 0.05s.\n"
     ]
    },
    {
     "name": "stdout",
     "output_type": "stream",
     "text": [
      "writing HM_2NYY.mut.617_Repair.clean_HL\n"
     ]
    },
    {
     "name": "stderr",
     "output_type": "stream",
     "text": [
      "@> 10534 atoms and 1 coordinate set(s) were parsed in 0.12s.\n"
     ]
    },
    {
     "name": "stdout",
     "output_type": "stream",
     "text": [
      "writing HM_2NYY.mut.618_Repair.clean_A\n"
     ]
    },
    {
     "name": "stderr",
     "output_type": "stream",
     "text": [
      "@> 3311 atoms and 1 coordinate set(s) were parsed in 0.06s.\n"
     ]
    },
    {
     "name": "stdout",
     "output_type": "stream",
     "text": [
      "writing HM_2NYY.mut.618_Repair.clean_HL\n"
     ]
    },
    {
     "name": "stderr",
     "output_type": "stream",
     "text": [
      "@> 10534 atoms and 1 coordinate set(s) were parsed in 0.13s.\n"
     ]
    },
    {
     "name": "stdout",
     "output_type": "stream",
     "text": [
      "writing HM_2NYY.mut.619_Repair.clean_A\n"
     ]
    },
    {
     "name": "stderr",
     "output_type": "stream",
     "text": [
      "@> 3313 atoms and 1 coordinate set(s) were parsed in 0.06s.\n"
     ]
    },
    {
     "name": "stdout",
     "output_type": "stream",
     "text": [
      "writing HM_2NYY.mut.619_Repair.clean_HL\n"
     ]
    },
    {
     "name": "stderr",
     "output_type": "stream",
     "text": [
      "@> 10534 atoms and 1 coordinate set(s) were parsed in 0.12s.\n"
     ]
    },
    {
     "name": "stdout",
     "output_type": "stream",
     "text": [
      "writing HM_2NYY.mut.620_Repair.clean_A\n"
     ]
    },
    {
     "name": "stderr",
     "output_type": "stream",
     "text": [
      "@> 3312 atoms and 1 coordinate set(s) were parsed in 0.06s.\n"
     ]
    },
    {
     "name": "stdout",
     "output_type": "stream",
     "text": [
      "writing HM_2NYY.mut.620_Repair.clean_HL\n"
     ]
    },
    {
     "name": "stderr",
     "output_type": "stream",
     "text": [
      "@> 10531 atoms and 1 coordinate set(s) were parsed in 0.12s.\n"
     ]
    },
    {
     "name": "stdout",
     "output_type": "stream",
     "text": [
      "writing HM_2NZ9.mut.621_Repair.clean_A\n"
     ]
    },
    {
     "name": "stderr",
     "output_type": "stream",
     "text": [
      "@> 3305 atoms and 1 coordinate set(s) were parsed in 0.05s.\n"
     ]
    },
    {
     "name": "stdout",
     "output_type": "stream",
     "text": [
      "writing HM_2NZ9.mut.621_Repair.clean_HL\n"
     ]
    },
    {
     "name": "stderr",
     "output_type": "stream",
     "text": [
      "@> 10531 atoms and 1 coordinate set(s) were parsed in 0.12s.\n"
     ]
    },
    {
     "name": "stdout",
     "output_type": "stream",
     "text": [
      "writing HM_2NZ9.mut.622_Repair.clean_A\n"
     ]
    },
    {
     "name": "stderr",
     "output_type": "stream",
     "text": [
      "@> 3305 atoms and 1 coordinate set(s) were parsed in 0.05s.\n"
     ]
    },
    {
     "name": "stdout",
     "output_type": "stream",
     "text": [
      "writing HM_2NZ9.mut.622_Repair.clean_HL\n"
     ]
    },
    {
     "name": "stderr",
     "output_type": "stream",
     "text": [
      "@> 10530 atoms and 1 coordinate set(s) were parsed in 0.12s.\n"
     ]
    },
    {
     "name": "stdout",
     "output_type": "stream",
     "text": [
      "writing HM_2NZ9.mut.623_Repair.clean_A\n"
     ]
    },
    {
     "name": "stderr",
     "output_type": "stream",
     "text": [
      "@> 3305 atoms and 1 coordinate set(s) were parsed in 0.06s.\n"
     ]
    },
    {
     "name": "stdout",
     "output_type": "stream",
     "text": [
      "writing HM_2NZ9.mut.623_Repair.clean_HL\n"
     ]
    },
    {
     "name": "stderr",
     "output_type": "stream",
     "text": [
      "@> 10528 atoms and 1 coordinate set(s) were parsed in 0.12s.\n"
     ]
    },
    {
     "name": "stdout",
     "output_type": "stream",
     "text": [
      "writing HM_2NZ9.mut.624_Repair.clean_A\n"
     ]
    },
    {
     "name": "stderr",
     "output_type": "stream",
     "text": [
      "@> 3305 atoms and 1 coordinate set(s) were parsed in 0.05s.\n"
     ]
    },
    {
     "name": "stdout",
     "output_type": "stream",
     "text": [
      "writing HM_2NZ9.mut.624_Repair.clean_HL\n"
     ]
    },
    {
     "name": "stderr",
     "output_type": "stream",
     "text": [
      "@> 10531 atoms and 1 coordinate set(s) were parsed in 0.12s.\n"
     ]
    },
    {
     "name": "stdout",
     "output_type": "stream",
     "text": [
      "writing HM_2NZ9.mut.625_Repair.clean_A\n"
     ]
    },
    {
     "name": "stderr",
     "output_type": "stream",
     "text": [
      "@> 3305 atoms and 1 coordinate set(s) were parsed in 0.06s.\n"
     ]
    },
    {
     "name": "stdout",
     "output_type": "stream",
     "text": [
      "writing HM_2NZ9.mut.625_Repair.clean_HL\n"
     ]
    },
    {
     "name": "stderr",
     "output_type": "stream",
     "text": [
      "@> 10530 atoms and 1 coordinate set(s) were parsed in 0.12s.\n"
     ]
    },
    {
     "name": "stdout",
     "output_type": "stream",
     "text": [
      "writing HM_2NZ9.mut.626_Repair.clean_A\n"
     ]
    },
    {
     "name": "stderr",
     "output_type": "stream",
     "text": [
      "@> 3305 atoms and 1 coordinate set(s) were parsed in 0.06s.\n"
     ]
    },
    {
     "name": "stdout",
     "output_type": "stream",
     "text": [
      "writing HM_2NZ9.mut.626_Repair.clean_HL\n"
     ]
    },
    {
     "name": "stderr",
     "output_type": "stream",
     "text": [
      "@> 10530 atoms and 1 coordinate set(s) were parsed in 0.12s.\n"
     ]
    },
    {
     "name": "stdout",
     "output_type": "stream",
     "text": [
      "writing HM_2NZ9.mut.627_Repair.clean_A\n"
     ]
    },
    {
     "name": "stderr",
     "output_type": "stream",
     "text": [
      "@> 3305 atoms and 1 coordinate set(s) were parsed in 0.05s.\n"
     ]
    },
    {
     "name": "stdout",
     "output_type": "stream",
     "text": [
      "writing HM_2NZ9.mut.627_Repair.clean_HL\n"
     ]
    },
    {
     "name": "stderr",
     "output_type": "stream",
     "text": [
      "@> 10531 atoms and 1 coordinate set(s) were parsed in 0.12s.\n"
     ]
    },
    {
     "name": "stdout",
     "output_type": "stream",
     "text": [
      "writing HM_2NZ9.mut.628_Repair.clean_A\n"
     ]
    },
    {
     "name": "stderr",
     "output_type": "stream",
     "text": [
      "@> 3305 atoms and 1 coordinate set(s) were parsed in 0.05s.\n"
     ]
    },
    {
     "name": "stdout",
     "output_type": "stream",
     "text": [
      "writing HM_2NZ9.mut.628_Repair.clean_HL\n"
     ]
    },
    {
     "name": "stderr",
     "output_type": "stream",
     "text": [
      "@> 10531 atoms and 1 coordinate set(s) were parsed in 0.12s.\n"
     ]
    },
    {
     "name": "stdout",
     "output_type": "stream",
     "text": [
      "writing HM_2NZ9.mut.629_Repair.clean_A\n"
     ]
    },
    {
     "name": "stderr",
     "output_type": "stream",
     "text": [
      "@> 3305 atoms and 1 coordinate set(s) were parsed in 0.06s.\n"
     ]
    },
    {
     "name": "stdout",
     "output_type": "stream",
     "text": [
      "writing HM_2NZ9.mut.629_Repair.clean_HL\n"
     ]
    },
    {
     "name": "stderr",
     "output_type": "stream",
     "text": [
      "@> 10531 atoms and 1 coordinate set(s) were parsed in 0.12s.\n"
     ]
    },
    {
     "name": "stdout",
     "output_type": "stream",
     "text": [
      "writing HM_2NZ9.mut.630_Repair.clean_A\n"
     ]
    },
    {
     "name": "stderr",
     "output_type": "stream",
     "text": [
      "@> 3305 atoms and 1 coordinate set(s) were parsed in 0.05s.\n"
     ]
    },
    {
     "name": "stdout",
     "output_type": "stream",
     "text": [
      "writing HM_2NZ9.mut.630_Repair.clean_HL\n"
     ]
    },
    {
     "name": "stderr",
     "output_type": "stream",
     "text": [
      "@> 10532 atoms and 1 coordinate set(s) were parsed in 0.12s.\n"
     ]
    },
    {
     "name": "stdout",
     "output_type": "stream",
     "text": [
      "writing HM_2NZ9.mut.631_Repair.clean_A\n"
     ]
    },
    {
     "name": "stderr",
     "output_type": "stream",
     "text": [
      "@> 3305 atoms and 1 coordinate set(s) were parsed in 0.05s.\n"
     ]
    },
    {
     "name": "stdout",
     "output_type": "stream",
     "text": [
      "writing HM_2NZ9.mut.631_Repair.clean_HL\n"
     ]
    },
    {
     "name": "stderr",
     "output_type": "stream",
     "text": [
      "@> 10528 atoms and 1 coordinate set(s) were parsed in 0.12s.\n"
     ]
    },
    {
     "name": "stdout",
     "output_type": "stream",
     "text": [
      "writing HM_2NZ9.mut.632_Repair.clean_A\n"
     ]
    },
    {
     "name": "stderr",
     "output_type": "stream",
     "text": [
      "@> 3305 atoms and 1 coordinate set(s) were parsed in 0.06s.\n"
     ]
    },
    {
     "name": "stdout",
     "output_type": "stream",
     "text": [
      "writing HM_2NZ9.mut.632_Repair.clean_HL\n"
     ]
    },
    {
     "name": "stderr",
     "output_type": "stream",
     "text": [
      "@> 10528 atoms and 1 coordinate set(s) were parsed in 0.12s.\n"
     ]
    },
    {
     "name": "stdout",
     "output_type": "stream",
     "text": [
      "writing HM_2NZ9.mut.633_Repair.clean_A\n"
     ]
    },
    {
     "name": "stderr",
     "output_type": "stream",
     "text": [
      "@> 3305 atoms and 1 coordinate set(s) were parsed in 0.06s.\n"
     ]
    },
    {
     "name": "stdout",
     "output_type": "stream",
     "text": [
      "writing HM_2NZ9.mut.633_Repair.clean_HL\n"
     ]
    },
    {
     "name": "stderr",
     "output_type": "stream",
     "text": [
      "@> 10528 atoms and 1 coordinate set(s) were parsed in 0.12s.\n"
     ]
    },
    {
     "name": "stdout",
     "output_type": "stream",
     "text": [
      "writing HM_2NZ9.mut.634_Repair.clean_A\n"
     ]
    },
    {
     "name": "stderr",
     "output_type": "stream",
     "text": [
      "@> 3305 atoms and 1 coordinate set(s) were parsed in 0.06s.\n"
     ]
    },
    {
     "name": "stdout",
     "output_type": "stream",
     "text": [
      "writing HM_2NZ9.mut.634_Repair.clean_HL\n"
     ]
    },
    {
     "name": "stderr",
     "output_type": "stream",
     "text": [
      "@> 10533 atoms and 1 coordinate set(s) were parsed in 0.12s.\n"
     ]
    },
    {
     "name": "stdout",
     "output_type": "stream",
     "text": [
      "writing HM_2NZ9.mut.635_Repair.clean_A\n"
     ]
    },
    {
     "name": "stderr",
     "output_type": "stream",
     "text": [
      "@> 3305 atoms and 1 coordinate set(s) were parsed in 0.05s.\n"
     ]
    },
    {
     "name": "stdout",
     "output_type": "stream",
     "text": [
      "writing HM_2NZ9.mut.635_Repair.clean_HL\n"
     ]
    },
    {
     "name": "stderr",
     "output_type": "stream",
     "text": [
      "@> 10532 atoms and 1 coordinate set(s) were parsed in 0.12s.\n"
     ]
    },
    {
     "name": "stdout",
     "output_type": "stream",
     "text": [
      "writing HM_2NZ9.mut.636_Repair.clean_A\n"
     ]
    },
    {
     "name": "stderr",
     "output_type": "stream",
     "text": [
      "@> 3305 atoms and 1 coordinate set(s) were parsed in 0.05s.\n"
     ]
    },
    {
     "name": "stdout",
     "output_type": "stream",
     "text": [
      "writing HM_2NZ9.mut.636_Repair.clean_HL\n"
     ]
    },
    {
     "name": "stderr",
     "output_type": "stream",
     "text": [
      "@> 1855 atoms and 1 coordinate set(s) were parsed in 0.03s.\n",
      "@> 3286 atoms and 1 coordinate set(s) were parsed in 0.04s.\n"
     ]
    },
    {
     "name": "stdout",
     "output_type": "stream",
     "text": [
      "writing HM_3BN9.mut.637_Repair.clean_A\n",
      "writing HM_3BN9.mut.637_Repair.clean_HL\n"
     ]
    },
    {
     "name": "stderr",
     "output_type": "stream",
     "text": [
      "@> 1855 atoms and 1 coordinate set(s) were parsed in 0.03s.\n",
      "@> 3281 atoms and 1 coordinate set(s) were parsed in 0.04s.\n"
     ]
    },
    {
     "name": "stdout",
     "output_type": "stream",
     "text": [
      "writing HM_3BN9.mut.638_Repair.clean_A\n",
      "writing HM_3BN9.mut.638_Repair.clean_HL\n"
     ]
    },
    {
     "name": "stderr",
     "output_type": "stream",
     "text": [
      "@> 1855 atoms and 1 coordinate set(s) were parsed in 0.03s.\n",
      "@> 3281 atoms and 1 coordinate set(s) were parsed in 0.04s.\n"
     ]
    },
    {
     "name": "stdout",
     "output_type": "stream",
     "text": [
      "writing HM_3BN9.mut.639_Repair.clean_A\n",
      "writing HM_3BN9.mut.639_Repair.clean_HL\n"
     ]
    },
    {
     "name": "stderr",
     "output_type": "stream",
     "text": [
      "@> 1855 atoms and 1 coordinate set(s) were parsed in 0.03s.\n",
      "@> 3285 atoms and 1 coordinate set(s) were parsed in 0.05s.\n"
     ]
    },
    {
     "name": "stdout",
     "output_type": "stream",
     "text": [
      "writing HM_3BN9.mut.640_Repair.clean_A\n",
      "writing HM_3BN9.mut.640_Repair.clean_HL\n"
     ]
    },
    {
     "name": "stderr",
     "output_type": "stream",
     "text": [
      "@> 1855 atoms and 1 coordinate set(s) were parsed in 0.03s.\n",
      "@> 3287 atoms and 1 coordinate set(s) were parsed in 0.04s.\n"
     ]
    },
    {
     "name": "stdout",
     "output_type": "stream",
     "text": [
      "writing HM_3BN9.mut.641_Repair.clean_A\n",
      "writing HM_3BN9.mut.641_Repair.clean_HL\n"
     ]
    },
    {
     "name": "stderr",
     "output_type": "stream",
     "text": [
      "@> 1855 atoms and 1 coordinate set(s) were parsed in 0.03s.\n",
      "@> 3285 atoms and 1 coordinate set(s) were parsed in 0.04s.\n"
     ]
    },
    {
     "name": "stdout",
     "output_type": "stream",
     "text": [
      "writing HM_3BN9.mut.642_Repair.clean_A\n",
      "writing HM_3BN9.mut.642_Repair.clean_HL\n"
     ]
    },
    {
     "name": "stderr",
     "output_type": "stream",
     "text": [
      "@> 1855 atoms and 1 coordinate set(s) were parsed in 0.03s.\n",
      "@> 3287 atoms and 1 coordinate set(s) were parsed in 0.04s.\n"
     ]
    },
    {
     "name": "stdout",
     "output_type": "stream",
     "text": [
      "writing HM_3BN9.mut.643_Repair.clean_A\n",
      "writing HM_3BN9.mut.643_Repair.clean_HL\n"
     ]
    },
    {
     "name": "stderr",
     "output_type": "stream",
     "text": [
      "@> 1855 atoms and 1 coordinate set(s) were parsed in 0.03s.\n",
      "@> 3277 atoms and 1 coordinate set(s) were parsed in 0.04s.\n"
     ]
    },
    {
     "name": "stdout",
     "output_type": "stream",
     "text": [
      "writing HM_3BN9.mut.644_Repair.clean_A\n",
      "writing HM_3BN9.mut.644_Repair.clean_HL\n"
     ]
    }
   ],
   "source": [
    "# MUtant interface sasas calculate as (TA + TB - T) / 2.0.\n",
    "# When T=total sas complex, TA= total sasa partner A , TB=total sasa partner B.\n",
    "\n",
    "outfolder = Path('popout')\n",
    "if not outfolder.exists():\n",
    "    outfolder.mkdir()\n",
    "complexMUT_sasas = list()\n",
    "partnerA_MUT_sasas = list()\n",
    "partnerB_MUT_sasas = list()\n",
    "for i,pdb in enumerate(pdb_files):\n",
    "    \n",
    "    pp = ab_bind_mCSM_HM[\"Partners(A_B)\"].iloc[i]\n",
    "    \n",
    "    # Calculate sasa for complex\n",
    "    asa_data = run_pops(str(pdb.resolve()), outdir=outfolder, mode='total')\n",
    "    pops_complex = POPS_parse2(asa_data, mode='total') \n",
    "    complexMUT_sasas.append(list(pops_complex.values()))\n",
    "    \n",
    "    # Calculate sasa for partner A\n",
    "    pdbA = get_pdb_chain(pdb.resolve(),partner=pp.split(\"_\")[0],outdir=outfolder)\n",
    "    asa_data = run_pops(pdbA, outdir=outfolder, mode='total')\n",
    "    pops_A = POPS_parse2(asa_data, mode='total') \n",
    "    partnerA_MUT_sasas.append(list(pops_A.values()))\n",
    "    \n",
    "    # Calculate sasa for partner B\n",
    "    pdbB = get_pdb_chain(pdb.resolve(),partner=pp.split(\"_\")[1],outdir=outfolder)\n",
    "    asa_data = run_pops(pdbB, outdir=outfolder, mode='total')\n",
    "    pops_B = POPS_parse2(asa_data, mode='total') \n",
    "    partnerB_MUT_sasas.append(list(pops_B.values()))\n",
    "\n",
    "    \n",
    "    \n",
    "    "
   ]
  },
  {
   "cell_type": "code",
   "execution_count": 24,
   "metadata": {
    "collapsed": true
   },
   "outputs": [],
   "source": [
    "\n",
    "complexMUT_sasas = [list(p) for p in complexMUT_sasas]\n",
    "partnerA_MUT_sasas = [list(p) for p in partnerA_MUT_sasas]\n",
    "partnerB_MUT_sasas = [list(p) for p in partnerB_MUT_sasas]\n",
    "# To numpy arrays\n",
    "complexMUT_sasas = np.asarray(complexMUT_sasas)\n",
    "partnerA_MUT_sasas = np.asarray(partnerA_MUT_sasas)\n",
    "partnerB_MUT_sasas = np.asarray(partnerB_MUT_sasas)"
   ]
  },
  {
   "cell_type": "code",
   "execution_count": 25,
   "metadata": {
    "collapsed": true
   },
   "outputs": [],
   "source": [
    "# Phil, Phob, Total , interface sasa\n",
    "interface_asa_MUT = ((partnerA_MUT_sasas + partnerB_MUT_sasas) - complexMUT_sasas)/2"
   ]
  },
  {
   "cell_type": "code",
   "execution_count": 26,
   "metadata": {},
   "outputs": [
    {
     "data": {
      "text/plain": [
       "(645, 3)"
      ]
     },
     "execution_count": 26,
     "metadata": {},
     "output_type": "execute_result"
    }
   ],
   "source": [
    "interface_asa_MUT.shape"
   ]
  },
  {
   "cell_type": "code",
   "execution_count": 27,
   "metadata": {
    "collapsed": true,
    "scrolled": true
   },
   "outputs": [],
   "source": [
    "# Pandas dataframe\n",
    "interface_asa_MUT_df = pd.DataFrame(interface_asa_MUT,columns=[\"if_phil\",\"if_phob\",\"if_total\"],index=[pdb.name for pdb in pdb_files])"
   ]
  },
  {
   "cell_type": "code",
   "execution_count": 39,
   "metadata": {
    "collapsed": true,
    "scrolled": true
   },
   "outputs": [],
   "source": [
    "interface_asa_MUT_df[\"sasa_phil_mut\"] = complexMUT_sasas.T[0]\n",
    "interface_asa_MUT_df[\"sasa_phob_mut\"] = complexMUT_sasas.T[1]\n",
    "interface_asa_MUT_df[\"sasa_total_mut\"] = complexMUT_sasas.T[2]\n"
   ]
  },
  {
   "cell_type": "code",
   "execution_count": 22,
   "metadata": {
    "collapsed": true
   },
   "outputs": [],
   "source": [
    "interface_asa_MUT_df.to_csv(\"../data/sasa_mut.csv\")"
   ]
  },
  {
   "cell_type": "markdown",
   "metadata": {},
   "source": [
    "### WT asa"
   ]
  },
  {
   "cell_type": "code",
   "execution_count": 5,
   "metadata": {
    "collapsed": true
   },
   "outputs": [],
   "source": [
    "# WT sasa\n",
    "pdbwt_files = list(PDBS_WT.glob(\"*clean.pdb\"))"
   ]
  },
  {
   "cell_type": "code",
   "execution_count": 9,
   "metadata": {
    "collapsed": true
   },
   "outputs": [],
   "source": [
    "outfolder = Path('popout')\n",
    "if not outfolder.exists():\n",
    "    outfolder.mkdir()\n",
    "complexWT_sasas = list()\n",
    "for pdb in pdbwt_files:\n",
    "        \n",
    "    # Calculate sasa for complex\n",
    "    asa_data = run_pops(str(pdb.resolve()), outdir=outfolder, mode='total')\n",
    "    pops_complex = POPS_parse2(asa_data, mode='total') \n",
    "    complexWT_sasas.append(list(pops_complex.values()))"
   ]
  },
  {
   "cell_type": "code",
   "execution_count": 10,
   "metadata": {
    "collapsed": true
   },
   "outputs": [],
   "source": [
    "complexWT_sasas = np.asarray(complexWT_sasas)"
   ]
  },
  {
   "cell_type": "code",
   "execution_count": 12,
   "metadata": {
    "collapsed": true
   },
   "outputs": [],
   "source": [
    "asa_WT_df = pd.DataFrame(complexWT_sasas,columns=[\"sasa_phil_wt\",\"sasa_phob_wt\",\"sasa_wt\"],index=[pdb.name for pdb in pdbwt_files])"
   ]
  },
  {
   "cell_type": "markdown",
   "metadata": {},
   "source": [
    "### merge data"
   ]
  },
  {
   "cell_type": "code",
   "execution_count": 23,
   "metadata": {
    "collapsed": true
   },
   "outputs": [],
   "source": [
    "interface_asa_MUT_df = pd.read_csv(\"../data/sasa_mut.csv\",index_col=0)"
   ]
  },
  {
   "cell_type": "code",
   "execution_count": 16,
   "metadata": {
    "collapsed": true
   },
   "outputs": [],
   "source": [
    "interface_mut_index_code = interface_asa_MUT_df.index.str.split(\".\",expand=True).get_level_values(0)\n"
   ]
  },
  {
   "cell_type": "code",
   "execution_count": 18,
   "metadata": {
    "collapsed": true
   },
   "outputs": [],
   "source": [
    "# set new index equal to pdb code name\n",
    "interface_asa_MUT_df['codes'] = interface_mut_index_code\n",
    "interface_asa_MUT_df.reset_index(inplace=True)\n",
    "interface_asa_MUT_df.set_index('codes',inplace=True)"
   ]
  },
  {
   "cell_type": "code",
   "execution_count": 19,
   "metadata": {
    "collapsed": true
   },
   "outputs": [],
   "source": [
    "# set new index equal to pdb code name\n",
    "asa_WT_df['codes'] = asa_WT_df.index.str[:-17]\n",
    "asa_WT_df.reset_index(inplace=True)\n",
    "asa_WT_df.set_index('codes',inplace=True)"
   ]
  },
  {
   "cell_type": "code",
   "execution_count": 20,
   "metadata": {
    "collapsed": true
   },
   "outputs": [],
   "source": [
    "DF_sasa_wt_mut = interface_asa_MUT_df.merge(asa_WT_df,on='codes')\n",
    "DF_sasa_wt_mut = DF_sasa_wt_mut.set_index(\"index_x\").drop(\"index_y\",axis=1)\n",
    "DF_sasa_wt_mut.index.name = None"
   ]
  },
  {
   "cell_type": "code",
   "execution_count": 24,
   "metadata": {
    "collapsed": true
   },
   "outputs": [],
   "source": [
    "DF_sasa_wt_mut.to_csv(\"../data/sasa_mut_wt.csv\")"
   ]
  },
  {
   "cell_type": "markdown",
   "metadata": {},
   "source": [
    "### merge with contact energy data"
   ]
  },
  {
   "cell_type": "code",
   "execution_count": 39,
   "metadata": {
    "collapsed": true
   },
   "outputs": [],
   "source": [
    "# 15 contact data\n",
    "DF_contact15energy = pd.read_csv(\"../data/DF_contact15_energy_2019.csv\",index_col=0)\n",
    "DF_contact15energy_sasa = DF_contact15energy.drop(\"ddG_exp\",axis=1).join(DF_sasa_wt_mut).join(DF_contact15energy[\"ddG_exp\"])\n",
    "DF_contact15energy_sasa.to_csv(\"../data/DF_contact15_energy_sasa.csv\")"
   ]
  },
  {
   "cell_type": "code",
   "execution_count": 85,
   "metadata": {
    "collapsed": true
   },
   "outputs": [],
   "source": [
    "DF_contact_energy_sasa = DF_tomerge.join(DF_sasa_wt_mut)"
   ]
  },
  {
   "cell_type": "code",
   "execution_count": 87,
   "metadata": {
    "collapsed": true,
    "scrolled": true
   },
   "outputs": [],
   "source": [
    "DF_contact_energy_sasa.to_csv(\"../data/DF_contact400_energy_sasa_2019.csv\")"
   ]
  },
  {
   "cell_type": "markdown",
   "metadata": {},
   "source": [
    "# final dataframe"
   ]
  },
  {
   "cell_type": "code",
   "execution_count": 5,
   "metadata": {
    "collapsed": true
   },
   "outputs": [],
   "source": []
  },
  {
   "cell_type": "code",
   "execution_count": 82,
   "metadata": {
    "collapsed": true
   },
   "outputs": [],
   "source": [
    "DF_energetic_changes.reset_index(drop=True,inplace=True)\n",
    "DF_energetic_changes.drop([\"index_y\",'number_of_residues_y'],axis=1,inplace=True)\n",
    "DF_energetic_changes.set_index('index_x',inplace=True)\n",
    "DF_energetic_changes.index.name = None"
   ]
  },
  {
   "cell_type": "code",
   "execution_count": 83,
   "metadata": {
    "collapsed": true
   },
   "outputs": [],
   "source": [
    "DF_contact_energy = DF_contact_mut.join(DF_energetic_changes)"
   ]
  },
  {
   "cell_type": "code",
   "execution_count": 6,
   "metadata": {
    "collapsed": true
   },
   "outputs": [],
   "source": [
    "DF_contact15['ddG_exp'] = -ab_bind_mCSM_HM[\"ddG(kcal/mol)\"].values.astype(float)"
   ]
  },
  {
   "cell_type": "code",
   "execution_count": 7,
   "metadata": {
    "collapsed": true
   },
   "outputs": [],
   "source": [
    "DF_contact_energy.to_csv(\"../data/DF_contact15_energy_2019.csv\")"
   ]
  },
  {
   "cell_type": "code",
   "execution_count": 86,
   "metadata": {
    "scrolled": true
   },
   "outputs": [
    {
     "data": {
      "text/html": [
       "<div>\n",
       "<style scoped>\n",
       "    .dataframe tbody tr th:only-of-type {\n",
       "        vertical-align: middle;\n",
       "    }\n",
       "\n",
       "    .dataframe tbody tr th {\n",
       "        vertical-align: top;\n",
       "    }\n",
       "\n",
       "    .dataframe thead th {\n",
       "        text-align: right;\n",
       "    }\n",
       "</style>\n",
       "<table border=\"1\" class=\"dataframe\">\n",
       "  <thead>\n",
       "    <tr style=\"text-align: right;\">\n",
       "      <th></th>\n",
       "      <th>clash</th>\n",
       "      <th>covalent</th>\n",
       "      <th>vdw_clash</th>\n",
       "      <th>vdw</th>\n",
       "      <th>proximal</th>\n",
       "      <th>hbond</th>\n",
       "      <th>weak_hbond</th>\n",
       "      <th>xbond</th>\n",
       "      <th>ionic</th>\n",
       "      <th>metal_complex</th>\n",
       "      <th>...</th>\n",
       "      <th>disulfide_wt</th>\n",
       "      <th>electrostatic_kon_wt</th>\n",
       "      <th>partial_covalent_bonds_wt</th>\n",
       "      <th>energy_ionisation_wt</th>\n",
       "      <th>entropy_complex_wt</th>\n",
       "      <th>interface_residues_wt</th>\n",
       "      <th>interface_residues_clashing_wt</th>\n",
       "      <th>interface_residues_vdw_clashing_wt</th>\n",
       "      <th>interface_residues_bb_clashing_wt</th>\n",
       "      <th>ddG_exp</th>\n",
       "    </tr>\n",
       "  </thead>\n",
       "  <tbody>\n",
       "    <tr>\n",
       "      <th>1AK4.mut.0_Repair.clean.pdb</th>\n",
       "      <td>0.0</td>\n",
       "      <td>0.0</td>\n",
       "      <td>10.0</td>\n",
       "      <td>3.0</td>\n",
       "      <td>292.0</td>\n",
       "      <td>8.0</td>\n",
       "      <td>2.0</td>\n",
       "      <td>0.0</td>\n",
       "      <td>0.0</td>\n",
       "      <td>0.0</td>\n",
       "      <td>...</td>\n",
       "      <td>0.000000e+00</td>\n",
       "      <td>-0.062112</td>\n",
       "      <td>0.0</td>\n",
       "      <td>4.618880e-02</td>\n",
       "      <td>2.384</td>\n",
       "      <td>27.0</td>\n",
       "      <td>0.0</td>\n",
       "      <td>0.0</td>\n",
       "      <td>0.0</td>\n",
       "      <td>2.49</td>\n",
       "    </tr>\n",
       "    <tr>\n",
       "      <th>1AK4.mut.1_Repair.clean.pdb</th>\n",
       "      <td>0.0</td>\n",
       "      <td>0.0</td>\n",
       "      <td>12.0</td>\n",
       "      <td>6.0</td>\n",
       "      <td>333.0</td>\n",
       "      <td>7.0</td>\n",
       "      <td>4.0</td>\n",
       "      <td>0.0</td>\n",
       "      <td>0.0</td>\n",
       "      <td>0.0</td>\n",
       "      <td>...</td>\n",
       "      <td>0.000000e+00</td>\n",
       "      <td>-0.062112</td>\n",
       "      <td>0.0</td>\n",
       "      <td>4.618880e-02</td>\n",
       "      <td>2.384</td>\n",
       "      <td>27.0</td>\n",
       "      <td>0.0</td>\n",
       "      <td>0.0</td>\n",
       "      <td>0.0</td>\n",
       "      <td>0.60</td>\n",
       "    </tr>\n",
       "    <tr>\n",
       "      <th>1AK4.mut.2_Repair.clean.pdb</th>\n",
       "      <td>0.0</td>\n",
       "      <td>0.0</td>\n",
       "      <td>9.0</td>\n",
       "      <td>4.0</td>\n",
       "      <td>298.0</td>\n",
       "      <td>7.0</td>\n",
       "      <td>3.0</td>\n",
       "      <td>0.0</td>\n",
       "      <td>0.0</td>\n",
       "      <td>0.0</td>\n",
       "      <td>...</td>\n",
       "      <td>0.000000e+00</td>\n",
       "      <td>-0.062112</td>\n",
       "      <td>0.0</td>\n",
       "      <td>4.618880e-02</td>\n",
       "      <td>2.384</td>\n",
       "      <td>27.0</td>\n",
       "      <td>0.0</td>\n",
       "      <td>0.0</td>\n",
       "      <td>0.0</td>\n",
       "      <td>0.41</td>\n",
       "    </tr>\n",
       "    <tr>\n",
       "      <th>1AK4.mut.3_Repair.clean.pdb</th>\n",
       "      <td>0.0</td>\n",
       "      <td>0.0</td>\n",
       "      <td>9.0</td>\n",
       "      <td>6.0</td>\n",
       "      <td>309.0</td>\n",
       "      <td>7.0</td>\n",
       "      <td>3.0</td>\n",
       "      <td>0.0</td>\n",
       "      <td>0.0</td>\n",
       "      <td>0.0</td>\n",
       "      <td>...</td>\n",
       "      <td>0.000000e+00</td>\n",
       "      <td>-0.062112</td>\n",
       "      <td>0.0</td>\n",
       "      <td>4.618880e-02</td>\n",
       "      <td>2.384</td>\n",
       "      <td>27.0</td>\n",
       "      <td>0.0</td>\n",
       "      <td>0.0</td>\n",
       "      <td>0.0</td>\n",
       "      <td>0.19</td>\n",
       "    </tr>\n",
       "    <tr>\n",
       "      <th>1AK4.mut.4_Repair.clean.pdb</th>\n",
       "      <td>0.0</td>\n",
       "      <td>0.0</td>\n",
       "      <td>9.0</td>\n",
       "      <td>7.0</td>\n",
       "      <td>301.0</td>\n",
       "      <td>7.0</td>\n",
       "      <td>3.0</td>\n",
       "      <td>0.0</td>\n",
       "      <td>0.0</td>\n",
       "      <td>0.0</td>\n",
       "      <td>...</td>\n",
       "      <td>0.000000e+00</td>\n",
       "      <td>-0.062112</td>\n",
       "      <td>0.0</td>\n",
       "      <td>4.618880e-02</td>\n",
       "      <td>2.384</td>\n",
       "      <td>27.0</td>\n",
       "      <td>0.0</td>\n",
       "      <td>0.0</td>\n",
       "      <td>0.0</td>\n",
       "      <td>1.91</td>\n",
       "    </tr>\n",
       "    <tr>\n",
       "      <th>1AK4.mut.5_Repair.clean.pdb</th>\n",
       "      <td>0.0</td>\n",
       "      <td>0.0</td>\n",
       "      <td>10.0</td>\n",
       "      <td>6.0</td>\n",
       "      <td>325.0</td>\n",
       "      <td>8.0</td>\n",
       "      <td>3.0</td>\n",
       "      <td>0.0</td>\n",
       "      <td>0.0</td>\n",
       "      <td>0.0</td>\n",
       "      <td>...</td>\n",
       "      <td>0.000000e+00</td>\n",
       "      <td>-0.062112</td>\n",
       "      <td>0.0</td>\n",
       "      <td>4.618880e-02</td>\n",
       "      <td>2.384</td>\n",
       "      <td>27.0</td>\n",
       "      <td>0.0</td>\n",
       "      <td>0.0</td>\n",
       "      <td>0.0</td>\n",
       "      <td>2.86</td>\n",
       "    </tr>\n",
       "    <tr>\n",
       "      <th>1AK4.mut.6_Repair.clean.pdb</th>\n",
       "      <td>0.0</td>\n",
       "      <td>0.0</td>\n",
       "      <td>8.0</td>\n",
       "      <td>1.0</td>\n",
       "      <td>285.0</td>\n",
       "      <td>6.0</td>\n",
       "      <td>4.0</td>\n",
       "      <td>0.0</td>\n",
       "      <td>0.0</td>\n",
       "      <td>0.0</td>\n",
       "      <td>...</td>\n",
       "      <td>0.000000e+00</td>\n",
       "      <td>-0.062112</td>\n",
       "      <td>0.0</td>\n",
       "      <td>4.618880e-02</td>\n",
       "      <td>2.384</td>\n",
       "      <td>27.0</td>\n",
       "      <td>0.0</td>\n",
       "      <td>0.0</td>\n",
       "      <td>0.0</td>\n",
       "      <td>0.84</td>\n",
       "    </tr>\n",
       "    <tr>\n",
       "      <th>1AK4.mut.7_Repair.clean.pdb</th>\n",
       "      <td>0.0</td>\n",
       "      <td>0.0</td>\n",
       "      <td>9.0</td>\n",
       "      <td>1.0</td>\n",
       "      <td>305.0</td>\n",
       "      <td>7.0</td>\n",
       "      <td>4.0</td>\n",
       "      <td>0.0</td>\n",
       "      <td>0.0</td>\n",
       "      <td>0.0</td>\n",
       "      <td>...</td>\n",
       "      <td>0.000000e+00</td>\n",
       "      <td>-0.062112</td>\n",
       "      <td>0.0</td>\n",
       "      <td>4.618880e-02</td>\n",
       "      <td>2.384</td>\n",
       "      <td>27.0</td>\n",
       "      <td>0.0</td>\n",
       "      <td>0.0</td>\n",
       "      <td>0.0</td>\n",
       "      <td>0.80</td>\n",
       "    </tr>\n",
       "    <tr>\n",
       "      <th>1AK4.mut.8_Repair.clean.pdb</th>\n",
       "      <td>0.0</td>\n",
       "      <td>0.0</td>\n",
       "      <td>11.0</td>\n",
       "      <td>2.0</td>\n",
       "      <td>312.0</td>\n",
       "      <td>7.0</td>\n",
       "      <td>4.0</td>\n",
       "      <td>0.0</td>\n",
       "      <td>0.0</td>\n",
       "      <td>0.0</td>\n",
       "      <td>...</td>\n",
       "      <td>0.000000e+00</td>\n",
       "      <td>-0.062112</td>\n",
       "      <td>0.0</td>\n",
       "      <td>4.618880e-02</td>\n",
       "      <td>2.384</td>\n",
       "      <td>27.0</td>\n",
       "      <td>0.0</td>\n",
       "      <td>0.0</td>\n",
       "      <td>0.0</td>\n",
       "      <td>1.48</td>\n",
       "    </tr>\n",
       "    <tr>\n",
       "      <th>1AK4.mut.9_Repair.clean.pdb</th>\n",
       "      <td>0.0</td>\n",
       "      <td>0.0</td>\n",
       "      <td>9.0</td>\n",
       "      <td>4.0</td>\n",
       "      <td>304.0</td>\n",
       "      <td>7.0</td>\n",
       "      <td>3.0</td>\n",
       "      <td>0.0</td>\n",
       "      <td>0.0</td>\n",
       "      <td>0.0</td>\n",
       "      <td>...</td>\n",
       "      <td>0.000000e+00</td>\n",
       "      <td>-0.062112</td>\n",
       "      <td>0.0</td>\n",
       "      <td>4.618880e-02</td>\n",
       "      <td>2.384</td>\n",
       "      <td>27.0</td>\n",
       "      <td>0.0</td>\n",
       "      <td>0.0</td>\n",
       "      <td>0.0</td>\n",
       "      <td>0.07</td>\n",
       "    </tr>\n",
       "    <tr>\n",
       "      <th>1AK4.mut.10_Repair.clean.pdb</th>\n",
       "      <td>0.0</td>\n",
       "      <td>0.0</td>\n",
       "      <td>9.0</td>\n",
       "      <td>4.0</td>\n",
       "      <td>304.0</td>\n",
       "      <td>7.0</td>\n",
       "      <td>3.0</td>\n",
       "      <td>0.0</td>\n",
       "      <td>0.0</td>\n",
       "      <td>0.0</td>\n",
       "      <td>...</td>\n",
       "      <td>0.000000e+00</td>\n",
       "      <td>-0.062112</td>\n",
       "      <td>0.0</td>\n",
       "      <td>4.618880e-02</td>\n",
       "      <td>2.384</td>\n",
       "      <td>27.0</td>\n",
       "      <td>0.0</td>\n",
       "      <td>0.0</td>\n",
       "      <td>0.0</td>\n",
       "      <td>-0.17</td>\n",
       "    </tr>\n",
       "    <tr>\n",
       "      <th>1AK4.mut.11_Repair.clean.pdb</th>\n",
       "      <td>0.0</td>\n",
       "      <td>0.0</td>\n",
       "      <td>10.0</td>\n",
       "      <td>4.0</td>\n",
       "      <td>315.0</td>\n",
       "      <td>8.0</td>\n",
       "      <td>3.0</td>\n",
       "      <td>0.0</td>\n",
       "      <td>0.0</td>\n",
       "      <td>0.0</td>\n",
       "      <td>...</td>\n",
       "      <td>0.000000e+00</td>\n",
       "      <td>-0.062112</td>\n",
       "      <td>0.0</td>\n",
       "      <td>4.618880e-02</td>\n",
       "      <td>2.384</td>\n",
       "      <td>27.0</td>\n",
       "      <td>0.0</td>\n",
       "      <td>0.0</td>\n",
       "      <td>0.0</td>\n",
       "      <td>0.92</td>\n",
       "    </tr>\n",
       "    <tr>\n",
       "      <th>1AK4.mut.12_Repair.clean.pdb</th>\n",
       "      <td>0.0</td>\n",
       "      <td>0.0</td>\n",
       "      <td>9.0</td>\n",
       "      <td>4.0</td>\n",
       "      <td>268.0</td>\n",
       "      <td>7.0</td>\n",
       "      <td>3.0</td>\n",
       "      <td>0.0</td>\n",
       "      <td>0.0</td>\n",
       "      <td>0.0</td>\n",
       "      <td>...</td>\n",
       "      <td>0.000000e+00</td>\n",
       "      <td>-0.062112</td>\n",
       "      <td>0.0</td>\n",
       "      <td>4.618880e-02</td>\n",
       "      <td>2.384</td>\n",
       "      <td>27.0</td>\n",
       "      <td>0.0</td>\n",
       "      <td>0.0</td>\n",
       "      <td>0.0</td>\n",
       "      <td>2.00</td>\n",
       "    </tr>\n",
       "    <tr>\n",
       "      <th>1AK4.mut.13_Repair.clean.pdb</th>\n",
       "      <td>0.0</td>\n",
       "      <td>0.0</td>\n",
       "      <td>13.0</td>\n",
       "      <td>9.0</td>\n",
       "      <td>296.0</td>\n",
       "      <td>7.0</td>\n",
       "      <td>4.0</td>\n",
       "      <td>0.0</td>\n",
       "      <td>0.0</td>\n",
       "      <td>0.0</td>\n",
       "      <td>...</td>\n",
       "      <td>0.000000e+00</td>\n",
       "      <td>-0.062112</td>\n",
       "      <td>0.0</td>\n",
       "      <td>4.618880e-02</td>\n",
       "      <td>2.384</td>\n",
       "      <td>27.0</td>\n",
       "      <td>0.0</td>\n",
       "      <td>0.0</td>\n",
       "      <td>0.0</td>\n",
       "      <td>2.86</td>\n",
       "    </tr>\n",
       "    <tr>\n",
       "      <th>1AK4.mut.14_Repair.clean.pdb</th>\n",
       "      <td>0.0</td>\n",
       "      <td>0.0</td>\n",
       "      <td>8.0</td>\n",
       "      <td>4.0</td>\n",
       "      <td>288.0</td>\n",
       "      <td>7.0</td>\n",
       "      <td>3.0</td>\n",
       "      <td>0.0</td>\n",
       "      <td>0.0</td>\n",
       "      <td>0.0</td>\n",
       "      <td>...</td>\n",
       "      <td>0.000000e+00</td>\n",
       "      <td>-0.062112</td>\n",
       "      <td>0.0</td>\n",
       "      <td>4.618880e-02</td>\n",
       "      <td>2.384</td>\n",
       "      <td>27.0</td>\n",
       "      <td>0.0</td>\n",
       "      <td>0.0</td>\n",
       "      <td>0.0</td>\n",
       "      <td>0.51</td>\n",
       "    </tr>\n",
       "    <tr>\n",
       "      <th>1AK4.mut.15_Repair.clean.pdb</th>\n",
       "      <td>0.0</td>\n",
       "      <td>0.0</td>\n",
       "      <td>11.0</td>\n",
       "      <td>2.0</td>\n",
       "      <td>311.0</td>\n",
       "      <td>8.0</td>\n",
       "      <td>3.0</td>\n",
       "      <td>0.0</td>\n",
       "      <td>0.0</td>\n",
       "      <td>0.0</td>\n",
       "      <td>...</td>\n",
       "      <td>0.000000e+00</td>\n",
       "      <td>-0.062112</td>\n",
       "      <td>0.0</td>\n",
       "      <td>4.618880e-02</td>\n",
       "      <td>2.384</td>\n",
       "      <td>27.0</td>\n",
       "      <td>0.0</td>\n",
       "      <td>0.0</td>\n",
       "      <td>0.0</td>\n",
       "      <td>0.82</td>\n",
       "    </tr>\n",
       "    <tr>\n",
       "      <th>1BJ1.mut.16_Repair.clean.pdb</th>\n",
       "      <td>0.0</td>\n",
       "      <td>0.0</td>\n",
       "      <td>23.0</td>\n",
       "      <td>9.0</td>\n",
       "      <td>757.0</td>\n",
       "      <td>13.0</td>\n",
       "      <td>11.0</td>\n",
       "      <td>0.0</td>\n",
       "      <td>0.0</td>\n",
       "      <td>0.0</td>\n",
       "      <td>...</td>\n",
       "      <td>3.552710e-15</td>\n",
       "      <td>0.016842</td>\n",
       "      <td>0.0</td>\n",
       "      <td>6.269110e-01</td>\n",
       "      <td>2.384</td>\n",
       "      <td>45.0</td>\n",
       "      <td>1.0</td>\n",
       "      <td>1.0</td>\n",
       "      <td>0.0</td>\n",
       "      <td>-0.00</td>\n",
       "    </tr>\n",
       "    <tr>\n",
       "      <th>1BJ1.mut.17_Repair.clean.pdb</th>\n",
       "      <td>0.0</td>\n",
       "      <td>0.0</td>\n",
       "      <td>20.0</td>\n",
       "      <td>9.0</td>\n",
       "      <td>762.0</td>\n",
       "      <td>13.0</td>\n",
       "      <td>11.0</td>\n",
       "      <td>0.0</td>\n",
       "      <td>0.0</td>\n",
       "      <td>0.0</td>\n",
       "      <td>...</td>\n",
       "      <td>3.552710e-15</td>\n",
       "      <td>0.016842</td>\n",
       "      <td>0.0</td>\n",
       "      <td>6.269110e-01</td>\n",
       "      <td>2.384</td>\n",
       "      <td>45.0</td>\n",
       "      <td>1.0</td>\n",
       "      <td>1.0</td>\n",
       "      <td>0.0</td>\n",
       "      <td>-0.00</td>\n",
       "    </tr>\n",
       "    <tr>\n",
       "      <th>1BJ1.mut.18_Repair.clean.pdb</th>\n",
       "      <td>0.0</td>\n",
       "      <td>0.0</td>\n",
       "      <td>19.0</td>\n",
       "      <td>9.0</td>\n",
       "      <td>757.0</td>\n",
       "      <td>13.0</td>\n",
       "      <td>11.0</td>\n",
       "      <td>0.0</td>\n",
       "      <td>0.0</td>\n",
       "      <td>0.0</td>\n",
       "      <td>...</td>\n",
       "      <td>3.552710e-15</td>\n",
       "      <td>0.016842</td>\n",
       "      <td>0.0</td>\n",
       "      <td>6.269110e-01</td>\n",
       "      <td>2.384</td>\n",
       "      <td>45.0</td>\n",
       "      <td>1.0</td>\n",
       "      <td>1.0</td>\n",
       "      <td>0.0</td>\n",
       "      <td>0.82</td>\n",
       "    </tr>\n",
       "    <tr>\n",
       "      <th>1BJ1.mut.19_Repair.clean.pdb</th>\n",
       "      <td>0.0</td>\n",
       "      <td>0.0</td>\n",
       "      <td>24.0</td>\n",
       "      <td>13.0</td>\n",
       "      <td>758.0</td>\n",
       "      <td>13.0</td>\n",
       "      <td>12.0</td>\n",
       "      <td>0.0</td>\n",
       "      <td>0.0</td>\n",
       "      <td>0.0</td>\n",
       "      <td>...</td>\n",
       "      <td>3.552710e-15</td>\n",
       "      <td>0.016842</td>\n",
       "      <td>0.0</td>\n",
       "      <td>6.269110e-01</td>\n",
       "      <td>2.384</td>\n",
       "      <td>45.0</td>\n",
       "      <td>1.0</td>\n",
       "      <td>1.0</td>\n",
       "      <td>0.0</td>\n",
       "      <td>2.76</td>\n",
       "    </tr>\n",
       "    <tr>\n",
       "      <th>1BJ1.mut.20_Repair.clean.pdb</th>\n",
       "      <td>0.0</td>\n",
       "      <td>0.0</td>\n",
       "      <td>21.0</td>\n",
       "      <td>9.0</td>\n",
       "      <td>768.0</td>\n",
       "      <td>11.0</td>\n",
       "      <td>11.0</td>\n",
       "      <td>0.0</td>\n",
       "      <td>0.0</td>\n",
       "      <td>0.0</td>\n",
       "      <td>...</td>\n",
       "      <td>3.552710e-15</td>\n",
       "      <td>0.016842</td>\n",
       "      <td>0.0</td>\n",
       "      <td>6.269110e-01</td>\n",
       "      <td>2.384</td>\n",
       "      <td>45.0</td>\n",
       "      <td>1.0</td>\n",
       "      <td>1.0</td>\n",
       "      <td>0.0</td>\n",
       "      <td>3.69</td>\n",
       "    </tr>\n",
       "    <tr>\n",
       "      <th>1BJ1.mut.21_Repair.clean.pdb</th>\n",
       "      <td>0.0</td>\n",
       "      <td>0.0</td>\n",
       "      <td>20.0</td>\n",
       "      <td>9.0</td>\n",
       "      <td>768.0</td>\n",
       "      <td>12.0</td>\n",
       "      <td>11.0</td>\n",
       "      <td>0.0</td>\n",
       "      <td>0.0</td>\n",
       "      <td>0.0</td>\n",
       "      <td>...</td>\n",
       "      <td>3.552710e-15</td>\n",
       "      <td>0.016842</td>\n",
       "      <td>0.0</td>\n",
       "      <td>6.269110e-01</td>\n",
       "      <td>2.384</td>\n",
       "      <td>45.0</td>\n",
       "      <td>1.0</td>\n",
       "      <td>1.0</td>\n",
       "      <td>0.0</td>\n",
       "      <td>-0.00</td>\n",
       "    </tr>\n",
       "    <tr>\n",
       "      <th>1BJ1.mut.22_Repair.clean.pdb</th>\n",
       "      <td>0.0</td>\n",
       "      <td>0.0</td>\n",
       "      <td>17.0</td>\n",
       "      <td>6.0</td>\n",
       "      <td>699.0</td>\n",
       "      <td>11.0</td>\n",
       "      <td>9.0</td>\n",
       "      <td>0.0</td>\n",
       "      <td>0.0</td>\n",
       "      <td>0.0</td>\n",
       "      <td>...</td>\n",
       "      <td>3.552710e-15</td>\n",
       "      <td>0.016842</td>\n",
       "      <td>0.0</td>\n",
       "      <td>6.269110e-01</td>\n",
       "      <td>2.384</td>\n",
       "      <td>45.0</td>\n",
       "      <td>1.0</td>\n",
       "      <td>1.0</td>\n",
       "      <td>0.0</td>\n",
       "      <td>-0.00</td>\n",
       "    </tr>\n",
       "    <tr>\n",
       "      <th>1BJ1.mut.23_Repair.clean.pdb</th>\n",
       "      <td>0.0</td>\n",
       "      <td>0.0</td>\n",
       "      <td>20.0</td>\n",
       "      <td>7.0</td>\n",
       "      <td>770.0</td>\n",
       "      <td>13.0</td>\n",
       "      <td>10.0</td>\n",
       "      <td>0.0</td>\n",
       "      <td>0.0</td>\n",
       "      <td>0.0</td>\n",
       "      <td>...</td>\n",
       "      <td>3.552710e-15</td>\n",
       "      <td>0.016842</td>\n",
       "      <td>0.0</td>\n",
       "      <td>6.269110e-01</td>\n",
       "      <td>2.384</td>\n",
       "      <td>45.0</td>\n",
       "      <td>1.0</td>\n",
       "      <td>1.0</td>\n",
       "      <td>0.0</td>\n",
       "      <td>0.82</td>\n",
       "    </tr>\n",
       "    <tr>\n",
       "      <th>1BJ1.mut.24_Repair.clean.pdb</th>\n",
       "      <td>0.0</td>\n",
       "      <td>0.0</td>\n",
       "      <td>23.0</td>\n",
       "      <td>10.0</td>\n",
       "      <td>755.0</td>\n",
       "      <td>13.0</td>\n",
       "      <td>11.0</td>\n",
       "      <td>0.0</td>\n",
       "      <td>0.0</td>\n",
       "      <td>0.0</td>\n",
       "      <td>...</td>\n",
       "      <td>3.552710e-15</td>\n",
       "      <td>0.016842</td>\n",
       "      <td>0.0</td>\n",
       "      <td>6.269110e-01</td>\n",
       "      <td>2.384</td>\n",
       "      <td>45.0</td>\n",
       "      <td>1.0</td>\n",
       "      <td>1.0</td>\n",
       "      <td>0.0</td>\n",
       "      <td>3.69</td>\n",
       "    </tr>\n",
       "    <tr>\n",
       "      <th>1BJ1.mut.25_Repair.clean.pdb</th>\n",
       "      <td>0.0</td>\n",
       "      <td>0.0</td>\n",
       "      <td>23.0</td>\n",
       "      <td>8.0</td>\n",
       "      <td>746.0</td>\n",
       "      <td>13.0</td>\n",
       "      <td>11.0</td>\n",
       "      <td>0.0</td>\n",
       "      <td>0.0</td>\n",
       "      <td>0.0</td>\n",
       "      <td>...</td>\n",
       "      <td>3.552710e-15</td>\n",
       "      <td>0.016842</td>\n",
       "      <td>0.0</td>\n",
       "      <td>6.269110e-01</td>\n",
       "      <td>2.384</td>\n",
       "      <td>45.0</td>\n",
       "      <td>1.0</td>\n",
       "      <td>1.0</td>\n",
       "      <td>0.0</td>\n",
       "      <td>0.41</td>\n",
       "    </tr>\n",
       "    <tr>\n",
       "      <th>1BJ1.mut.26_Repair.clean.pdb</th>\n",
       "      <td>0.0</td>\n",
       "      <td>0.0</td>\n",
       "      <td>23.0</td>\n",
       "      <td>9.0</td>\n",
       "      <td>754.0</td>\n",
       "      <td>13.0</td>\n",
       "      <td>11.0</td>\n",
       "      <td>0.0</td>\n",
       "      <td>0.0</td>\n",
       "      <td>0.0</td>\n",
       "      <td>...</td>\n",
       "      <td>3.552710e-15</td>\n",
       "      <td>0.016842</td>\n",
       "      <td>0.0</td>\n",
       "      <td>6.269110e-01</td>\n",
       "      <td>2.384</td>\n",
       "      <td>45.0</td>\n",
       "      <td>1.0</td>\n",
       "      <td>1.0</td>\n",
       "      <td>0.0</td>\n",
       "      <td>0.41</td>\n",
       "    </tr>\n",
       "    <tr>\n",
       "      <th>1BJ1.mut.27_Repair.clean.pdb</th>\n",
       "      <td>0.0</td>\n",
       "      <td>0.0</td>\n",
       "      <td>20.0</td>\n",
       "      <td>9.0</td>\n",
       "      <td>740.0</td>\n",
       "      <td>13.0</td>\n",
       "      <td>11.0</td>\n",
       "      <td>0.0</td>\n",
       "      <td>0.0</td>\n",
       "      <td>0.0</td>\n",
       "      <td>...</td>\n",
       "      <td>3.552710e-15</td>\n",
       "      <td>0.016842</td>\n",
       "      <td>0.0</td>\n",
       "      <td>6.269110e-01</td>\n",
       "      <td>2.384</td>\n",
       "      <td>45.0</td>\n",
       "      <td>1.0</td>\n",
       "      <td>1.0</td>\n",
       "      <td>0.0</td>\n",
       "      <td>0.65</td>\n",
       "    </tr>\n",
       "    <tr>\n",
       "      <th>1BJ1.mut.28_Repair.clean.pdb</th>\n",
       "      <td>0.0</td>\n",
       "      <td>0.0</td>\n",
       "      <td>21.0</td>\n",
       "      <td>9.0</td>\n",
       "      <td>738.0</td>\n",
       "      <td>14.0</td>\n",
       "      <td>12.0</td>\n",
       "      <td>0.0</td>\n",
       "      <td>0.0</td>\n",
       "      <td>0.0</td>\n",
       "      <td>...</td>\n",
       "      <td>3.552710e-15</td>\n",
       "      <td>0.016842</td>\n",
       "      <td>0.0</td>\n",
       "      <td>6.269110e-01</td>\n",
       "      <td>2.384</td>\n",
       "      <td>45.0</td>\n",
       "      <td>1.0</td>\n",
       "      <td>1.0</td>\n",
       "      <td>0.0</td>\n",
       "      <td>3.69</td>\n",
       "    </tr>\n",
       "    <tr>\n",
       "      <th>1BJ1.mut.29_Repair.clean.pdb</th>\n",
       "      <td>0.0</td>\n",
       "      <td>0.0</td>\n",
       "      <td>20.0</td>\n",
       "      <td>9.0</td>\n",
       "      <td>764.0</td>\n",
       "      <td>12.0</td>\n",
       "      <td>11.0</td>\n",
       "      <td>0.0</td>\n",
       "      <td>0.0</td>\n",
       "      <td>0.0</td>\n",
       "      <td>...</td>\n",
       "      <td>3.552710e-15</td>\n",
       "      <td>0.016842</td>\n",
       "      <td>0.0</td>\n",
       "      <td>6.269110e-01</td>\n",
       "      <td>2.384</td>\n",
       "      <td>45.0</td>\n",
       "      <td>1.0</td>\n",
       "      <td>1.0</td>\n",
       "      <td>0.0</td>\n",
       "      <td>1.42</td>\n",
       "    </tr>\n",
       "    <tr>\n",
       "      <th>...</th>\n",
       "      <td>...</td>\n",
       "      <td>...</td>\n",
       "      <td>...</td>\n",
       "      <td>...</td>\n",
       "      <td>...</td>\n",
       "      <td>...</td>\n",
       "      <td>...</td>\n",
       "      <td>...</td>\n",
       "      <td>...</td>\n",
       "      <td>...</td>\n",
       "      <td>...</td>\n",
       "      <td>...</td>\n",
       "      <td>...</td>\n",
       "      <td>...</td>\n",
       "      <td>...</td>\n",
       "      <td>...</td>\n",
       "      <td>...</td>\n",
       "      <td>...</td>\n",
       "      <td>...</td>\n",
       "      <td>...</td>\n",
       "      <td>...</td>\n",
       "    </tr>\n",
       "    <tr>\n",
       "      <th>HM_2NYY.mut.615_Repair.clean.pdb</th>\n",
       "      <td>0.0</td>\n",
       "      <td>0.0</td>\n",
       "      <td>25.0</td>\n",
       "      <td>18.0</td>\n",
       "      <td>586.0</td>\n",
       "      <td>14.0</td>\n",
       "      <td>9.0</td>\n",
       "      <td>0.0</td>\n",
       "      <td>5.0</td>\n",
       "      <td>0.0</td>\n",
       "      <td>...</td>\n",
       "      <td>3.552710e-15</td>\n",
       "      <td>-0.587126</td>\n",
       "      <td>0.0</td>\n",
       "      <td>1.110220e-15</td>\n",
       "      <td>2.384</td>\n",
       "      <td>52.0</td>\n",
       "      <td>0.0</td>\n",
       "      <td>0.0</td>\n",
       "      <td>0.0</td>\n",
       "      <td>-1.33</td>\n",
       "    </tr>\n",
       "    <tr>\n",
       "      <th>HM_2NYY.mut.616_Repair.clean.pdb</th>\n",
       "      <td>0.0</td>\n",
       "      <td>0.0</td>\n",
       "      <td>23.0</td>\n",
       "      <td>15.0</td>\n",
       "      <td>547.0</td>\n",
       "      <td>13.0</td>\n",
       "      <td>6.0</td>\n",
       "      <td>0.0</td>\n",
       "      <td>5.0</td>\n",
       "      <td>0.0</td>\n",
       "      <td>...</td>\n",
       "      <td>3.552710e-15</td>\n",
       "      <td>-0.587126</td>\n",
       "      <td>0.0</td>\n",
       "      <td>1.110220e-15</td>\n",
       "      <td>2.384</td>\n",
       "      <td>52.0</td>\n",
       "      <td>0.0</td>\n",
       "      <td>0.0</td>\n",
       "      <td>0.0</td>\n",
       "      <td>-1.19</td>\n",
       "    </tr>\n",
       "    <tr>\n",
       "      <th>HM_2NYY.mut.617_Repair.clean.pdb</th>\n",
       "      <td>0.0</td>\n",
       "      <td>0.0</td>\n",
       "      <td>24.0</td>\n",
       "      <td>19.0</td>\n",
       "      <td>606.0</td>\n",
       "      <td>17.0</td>\n",
       "      <td>14.0</td>\n",
       "      <td>0.0</td>\n",
       "      <td>4.0</td>\n",
       "      <td>0.0</td>\n",
       "      <td>...</td>\n",
       "      <td>3.552710e-15</td>\n",
       "      <td>-0.587126</td>\n",
       "      <td>0.0</td>\n",
       "      <td>1.110220e-15</td>\n",
       "      <td>2.384</td>\n",
       "      <td>52.0</td>\n",
       "      <td>0.0</td>\n",
       "      <td>0.0</td>\n",
       "      <td>0.0</td>\n",
       "      <td>-0.60</td>\n",
       "    </tr>\n",
       "    <tr>\n",
       "      <th>HM_2NYY.mut.618_Repair.clean.pdb</th>\n",
       "      <td>0.0</td>\n",
       "      <td>0.0</td>\n",
       "      <td>26.0</td>\n",
       "      <td>13.0</td>\n",
       "      <td>552.0</td>\n",
       "      <td>15.0</td>\n",
       "      <td>9.0</td>\n",
       "      <td>0.0</td>\n",
       "      <td>4.0</td>\n",
       "      <td>0.0</td>\n",
       "      <td>...</td>\n",
       "      <td>3.552710e-15</td>\n",
       "      <td>-0.587126</td>\n",
       "      <td>0.0</td>\n",
       "      <td>1.110220e-15</td>\n",
       "      <td>2.384</td>\n",
       "      <td>52.0</td>\n",
       "      <td>0.0</td>\n",
       "      <td>0.0</td>\n",
       "      <td>0.0</td>\n",
       "      <td>-0.63</td>\n",
       "    </tr>\n",
       "    <tr>\n",
       "      <th>HM_2NYY.mut.619_Repair.clean.pdb</th>\n",
       "      <td>0.0</td>\n",
       "      <td>0.0</td>\n",
       "      <td>24.0</td>\n",
       "      <td>14.0</td>\n",
       "      <td>560.0</td>\n",
       "      <td>14.0</td>\n",
       "      <td>10.0</td>\n",
       "      <td>0.0</td>\n",
       "      <td>3.0</td>\n",
       "      <td>0.0</td>\n",
       "      <td>...</td>\n",
       "      <td>3.552710e-15</td>\n",
       "      <td>-0.587126</td>\n",
       "      <td>0.0</td>\n",
       "      <td>1.110220e-15</td>\n",
       "      <td>2.384</td>\n",
       "      <td>52.0</td>\n",
       "      <td>0.0</td>\n",
       "      <td>0.0</td>\n",
       "      <td>0.0</td>\n",
       "      <td>-0.70</td>\n",
       "    </tr>\n",
       "    <tr>\n",
       "      <th>HM_2NYY.mut.620_Repair.clean.pdb</th>\n",
       "      <td>0.0</td>\n",
       "      <td>0.0</td>\n",
       "      <td>33.0</td>\n",
       "      <td>13.0</td>\n",
       "      <td>618.0</td>\n",
       "      <td>17.0</td>\n",
       "      <td>11.0</td>\n",
       "      <td>0.0</td>\n",
       "      <td>5.0</td>\n",
       "      <td>0.0</td>\n",
       "      <td>...</td>\n",
       "      <td>3.552710e-15</td>\n",
       "      <td>-0.587126</td>\n",
       "      <td>0.0</td>\n",
       "      <td>1.110220e-15</td>\n",
       "      <td>2.384</td>\n",
       "      <td>52.0</td>\n",
       "      <td>0.0</td>\n",
       "      <td>0.0</td>\n",
       "      <td>0.0</td>\n",
       "      <td>-1.20</td>\n",
       "    </tr>\n",
       "    <tr>\n",
       "      <th>HM_2NZ9.mut.621_Repair.clean.pdb</th>\n",
       "      <td>0.0</td>\n",
       "      <td>0.0</td>\n",
       "      <td>34.0</td>\n",
       "      <td>5.0</td>\n",
       "      <td>538.0</td>\n",
       "      <td>17.0</td>\n",
       "      <td>6.0</td>\n",
       "      <td>0.0</td>\n",
       "      <td>0.0</td>\n",
       "      <td>0.0</td>\n",
       "      <td>...</td>\n",
       "      <td>-1.776360e-15</td>\n",
       "      <td>-0.373984</td>\n",
       "      <td>0.0</td>\n",
       "      <td>1.028820e-02</td>\n",
       "      <td>2.384</td>\n",
       "      <td>50.0</td>\n",
       "      <td>1.0</td>\n",
       "      <td>1.0</td>\n",
       "      <td>0.0</td>\n",
       "      <td>0.14</td>\n",
       "    </tr>\n",
       "    <tr>\n",
       "      <th>HM_2NZ9.mut.622_Repair.clean.pdb</th>\n",
       "      <td>0.0</td>\n",
       "      <td>0.0</td>\n",
       "      <td>36.0</td>\n",
       "      <td>13.0</td>\n",
       "      <td>585.0</td>\n",
       "      <td>21.0</td>\n",
       "      <td>8.0</td>\n",
       "      <td>0.0</td>\n",
       "      <td>7.0</td>\n",
       "      <td>0.0</td>\n",
       "      <td>...</td>\n",
       "      <td>-1.776360e-15</td>\n",
       "      <td>-0.373984</td>\n",
       "      <td>0.0</td>\n",
       "      <td>1.028820e-02</td>\n",
       "      <td>2.384</td>\n",
       "      <td>50.0</td>\n",
       "      <td>1.0</td>\n",
       "      <td>1.0</td>\n",
       "      <td>0.0</td>\n",
       "      <td>0.49</td>\n",
       "    </tr>\n",
       "    <tr>\n",
       "      <th>HM_2NZ9.mut.623_Repair.clean.pdb</th>\n",
       "      <td>0.0</td>\n",
       "      <td>0.0</td>\n",
       "      <td>29.0</td>\n",
       "      <td>9.0</td>\n",
       "      <td>507.0</td>\n",
       "      <td>11.0</td>\n",
       "      <td>7.0</td>\n",
       "      <td>0.0</td>\n",
       "      <td>4.0</td>\n",
       "      <td>0.0</td>\n",
       "      <td>...</td>\n",
       "      <td>-1.776360e-15</td>\n",
       "      <td>-0.373984</td>\n",
       "      <td>0.0</td>\n",
       "      <td>1.028820e-02</td>\n",
       "      <td>2.384</td>\n",
       "      <td>50.0</td>\n",
       "      <td>1.0</td>\n",
       "      <td>1.0</td>\n",
       "      <td>0.0</td>\n",
       "      <td>-0.50</td>\n",
       "    </tr>\n",
       "    <tr>\n",
       "      <th>HM_2NZ9.mut.624_Repair.clean.pdb</th>\n",
       "      <td>0.0</td>\n",
       "      <td>0.0</td>\n",
       "      <td>41.0</td>\n",
       "      <td>14.0</td>\n",
       "      <td>528.0</td>\n",
       "      <td>20.0</td>\n",
       "      <td>8.0</td>\n",
       "      <td>0.0</td>\n",
       "      <td>7.0</td>\n",
       "      <td>0.0</td>\n",
       "      <td>...</td>\n",
       "      <td>-1.776360e-15</td>\n",
       "      <td>-0.373984</td>\n",
       "      <td>0.0</td>\n",
       "      <td>1.028820e-02</td>\n",
       "      <td>2.384</td>\n",
       "      <td>50.0</td>\n",
       "      <td>1.0</td>\n",
       "      <td>1.0</td>\n",
       "      <td>0.0</td>\n",
       "      <td>-1.53</td>\n",
       "    </tr>\n",
       "    <tr>\n",
       "      <th>HM_2NZ9.mut.625_Repair.clean.pdb</th>\n",
       "      <td>0.0</td>\n",
       "      <td>0.0</td>\n",
       "      <td>38.0</td>\n",
       "      <td>8.0</td>\n",
       "      <td>548.0</td>\n",
       "      <td>16.0</td>\n",
       "      <td>8.0</td>\n",
       "      <td>0.0</td>\n",
       "      <td>4.0</td>\n",
       "      <td>0.0</td>\n",
       "      <td>...</td>\n",
       "      <td>-1.776360e-15</td>\n",
       "      <td>-0.373984</td>\n",
       "      <td>0.0</td>\n",
       "      <td>1.028820e-02</td>\n",
       "      <td>2.384</td>\n",
       "      <td>50.0</td>\n",
       "      <td>1.0</td>\n",
       "      <td>1.0</td>\n",
       "      <td>0.0</td>\n",
       "      <td>-0.95</td>\n",
       "    </tr>\n",
       "    <tr>\n",
       "      <th>HM_2NZ9.mut.626_Repair.clean.pdb</th>\n",
       "      <td>0.0</td>\n",
       "      <td>0.0</td>\n",
       "      <td>43.0</td>\n",
       "      <td>11.0</td>\n",
       "      <td>570.0</td>\n",
       "      <td>19.0</td>\n",
       "      <td>8.0</td>\n",
       "      <td>0.0</td>\n",
       "      <td>5.0</td>\n",
       "      <td>0.0</td>\n",
       "      <td>...</td>\n",
       "      <td>-1.776360e-15</td>\n",
       "      <td>-0.373984</td>\n",
       "      <td>0.0</td>\n",
       "      <td>1.028820e-02</td>\n",
       "      <td>2.384</td>\n",
       "      <td>50.0</td>\n",
       "      <td>1.0</td>\n",
       "      <td>1.0</td>\n",
       "      <td>0.0</td>\n",
       "      <td>0.31</td>\n",
       "    </tr>\n",
       "    <tr>\n",
       "      <th>HM_2NZ9.mut.627_Repair.clean.pdb</th>\n",
       "      <td>0.0</td>\n",
       "      <td>0.0</td>\n",
       "      <td>42.0</td>\n",
       "      <td>15.0</td>\n",
       "      <td>579.0</td>\n",
       "      <td>20.0</td>\n",
       "      <td>8.0</td>\n",
       "      <td>0.0</td>\n",
       "      <td>7.0</td>\n",
       "      <td>0.0</td>\n",
       "      <td>...</td>\n",
       "      <td>-1.776360e-15</td>\n",
       "      <td>-0.373984</td>\n",
       "      <td>0.0</td>\n",
       "      <td>1.028820e-02</td>\n",
       "      <td>2.384</td>\n",
       "      <td>50.0</td>\n",
       "      <td>1.0</td>\n",
       "      <td>1.0</td>\n",
       "      <td>0.0</td>\n",
       "      <td>0.50</td>\n",
       "    </tr>\n",
       "    <tr>\n",
       "      <th>HM_2NZ9.mut.628_Repair.clean.pdb</th>\n",
       "      <td>0.0</td>\n",
       "      <td>0.0</td>\n",
       "      <td>44.0</td>\n",
       "      <td>9.0</td>\n",
       "      <td>580.0</td>\n",
       "      <td>19.0</td>\n",
       "      <td>7.0</td>\n",
       "      <td>0.0</td>\n",
       "      <td>6.0</td>\n",
       "      <td>0.0</td>\n",
       "      <td>...</td>\n",
       "      <td>-1.776360e-15</td>\n",
       "      <td>-0.373984</td>\n",
       "      <td>0.0</td>\n",
       "      <td>1.028820e-02</td>\n",
       "      <td>2.384</td>\n",
       "      <td>50.0</td>\n",
       "      <td>1.0</td>\n",
       "      <td>1.0</td>\n",
       "      <td>0.0</td>\n",
       "      <td>-0.41</td>\n",
       "    </tr>\n",
       "    <tr>\n",
       "      <th>HM_2NZ9.mut.629_Repair.clean.pdb</th>\n",
       "      <td>0.0</td>\n",
       "      <td>0.0</td>\n",
       "      <td>41.0</td>\n",
       "      <td>12.0</td>\n",
       "      <td>563.0</td>\n",
       "      <td>19.0</td>\n",
       "      <td>8.0</td>\n",
       "      <td>0.0</td>\n",
       "      <td>8.0</td>\n",
       "      <td>0.0</td>\n",
       "      <td>...</td>\n",
       "      <td>-1.776360e-15</td>\n",
       "      <td>-0.373984</td>\n",
       "      <td>0.0</td>\n",
       "      <td>1.028820e-02</td>\n",
       "      <td>2.384</td>\n",
       "      <td>50.0</td>\n",
       "      <td>1.0</td>\n",
       "      <td>1.0</td>\n",
       "      <td>0.0</td>\n",
       "      <td>-0.30</td>\n",
       "    </tr>\n",
       "    <tr>\n",
       "      <th>HM_2NZ9.mut.630_Repair.clean.pdb</th>\n",
       "      <td>0.0</td>\n",
       "      <td>0.0</td>\n",
       "      <td>44.0</td>\n",
       "      <td>12.0</td>\n",
       "      <td>582.0</td>\n",
       "      <td>21.0</td>\n",
       "      <td>7.0</td>\n",
       "      <td>0.0</td>\n",
       "      <td>7.0</td>\n",
       "      <td>0.0</td>\n",
       "      <td>...</td>\n",
       "      <td>-1.776360e-15</td>\n",
       "      <td>-0.373984</td>\n",
       "      <td>0.0</td>\n",
       "      <td>1.028820e-02</td>\n",
       "      <td>2.384</td>\n",
       "      <td>50.0</td>\n",
       "      <td>1.0</td>\n",
       "      <td>1.0</td>\n",
       "      <td>0.0</td>\n",
       "      <td>-0.01</td>\n",
       "    </tr>\n",
       "    <tr>\n",
       "      <th>HM_2NZ9.mut.631_Repair.clean.pdb</th>\n",
       "      <td>0.0</td>\n",
       "      <td>0.0</td>\n",
       "      <td>45.0</td>\n",
       "      <td>9.0</td>\n",
       "      <td>575.0</td>\n",
       "      <td>21.0</td>\n",
       "      <td>7.0</td>\n",
       "      <td>0.0</td>\n",
       "      <td>9.0</td>\n",
       "      <td>0.0</td>\n",
       "      <td>...</td>\n",
       "      <td>-1.776360e-15</td>\n",
       "      <td>-0.373984</td>\n",
       "      <td>0.0</td>\n",
       "      <td>1.028820e-02</td>\n",
       "      <td>2.384</td>\n",
       "      <td>50.0</td>\n",
       "      <td>1.0</td>\n",
       "      <td>1.0</td>\n",
       "      <td>0.0</td>\n",
       "      <td>-0.24</td>\n",
       "    </tr>\n",
       "    <tr>\n",
       "      <th>HM_2NZ9.mut.632_Repair.clean.pdb</th>\n",
       "      <td>0.0</td>\n",
       "      <td>0.0</td>\n",
       "      <td>43.0</td>\n",
       "      <td>13.0</td>\n",
       "      <td>571.0</td>\n",
       "      <td>20.0</td>\n",
       "      <td>11.0</td>\n",
       "      <td>0.0</td>\n",
       "      <td>7.0</td>\n",
       "      <td>0.0</td>\n",
       "      <td>...</td>\n",
       "      <td>-1.776360e-15</td>\n",
       "      <td>-0.373984</td>\n",
       "      <td>0.0</td>\n",
       "      <td>1.028820e-02</td>\n",
       "      <td>2.384</td>\n",
       "      <td>50.0</td>\n",
       "      <td>1.0</td>\n",
       "      <td>1.0</td>\n",
       "      <td>0.0</td>\n",
       "      <td>-0.58</td>\n",
       "    </tr>\n",
       "    <tr>\n",
       "      <th>HM_2NZ9.mut.633_Repair.clean.pdb</th>\n",
       "      <td>0.0</td>\n",
       "      <td>0.0</td>\n",
       "      <td>29.0</td>\n",
       "      <td>4.0</td>\n",
       "      <td>476.0</td>\n",
       "      <td>16.0</td>\n",
       "      <td>6.0</td>\n",
       "      <td>0.0</td>\n",
       "      <td>0.0</td>\n",
       "      <td>0.0</td>\n",
       "      <td>...</td>\n",
       "      <td>-1.776360e-15</td>\n",
       "      <td>-0.373984</td>\n",
       "      <td>0.0</td>\n",
       "      <td>1.028820e-02</td>\n",
       "      <td>2.384</td>\n",
       "      <td>50.0</td>\n",
       "      <td>1.0</td>\n",
       "      <td>1.0</td>\n",
       "      <td>0.0</td>\n",
       "      <td>-4.44</td>\n",
       "    </tr>\n",
       "    <tr>\n",
       "      <th>HM_2NZ9.mut.634_Repair.clean.pdb</th>\n",
       "      <td>0.0</td>\n",
       "      <td>0.0</td>\n",
       "      <td>38.0</td>\n",
       "      <td>9.0</td>\n",
       "      <td>573.0</td>\n",
       "      <td>19.0</td>\n",
       "      <td>9.0</td>\n",
       "      <td>0.0</td>\n",
       "      <td>6.0</td>\n",
       "      <td>0.0</td>\n",
       "      <td>...</td>\n",
       "      <td>-1.776360e-15</td>\n",
       "      <td>-0.373984</td>\n",
       "      <td>0.0</td>\n",
       "      <td>1.028820e-02</td>\n",
       "      <td>2.384</td>\n",
       "      <td>50.0</td>\n",
       "      <td>1.0</td>\n",
       "      <td>1.0</td>\n",
       "      <td>0.0</td>\n",
       "      <td>0.02</td>\n",
       "    </tr>\n",
       "    <tr>\n",
       "      <th>HM_2NZ9.mut.635_Repair.clean.pdb</th>\n",
       "      <td>0.0</td>\n",
       "      <td>0.0</td>\n",
       "      <td>42.0</td>\n",
       "      <td>14.0</td>\n",
       "      <td>584.0</td>\n",
       "      <td>21.0</td>\n",
       "      <td>8.0</td>\n",
       "      <td>0.0</td>\n",
       "      <td>7.0</td>\n",
       "      <td>0.0</td>\n",
       "      <td>...</td>\n",
       "      <td>-1.776360e-15</td>\n",
       "      <td>-0.373984</td>\n",
       "      <td>0.0</td>\n",
       "      <td>1.028820e-02</td>\n",
       "      <td>2.384</td>\n",
       "      <td>50.0</td>\n",
       "      <td>1.0</td>\n",
       "      <td>1.0</td>\n",
       "      <td>0.0</td>\n",
       "      <td>0.66</td>\n",
       "    </tr>\n",
       "    <tr>\n",
       "      <th>HM_2NZ9.mut.636_Repair.clean.pdb</th>\n",
       "      <td>0.0</td>\n",
       "      <td>0.0</td>\n",
       "      <td>43.0</td>\n",
       "      <td>10.0</td>\n",
       "      <td>587.0</td>\n",
       "      <td>19.0</td>\n",
       "      <td>8.0</td>\n",
       "      <td>0.0</td>\n",
       "      <td>7.0</td>\n",
       "      <td>0.0</td>\n",
       "      <td>...</td>\n",
       "      <td>-1.776360e-15</td>\n",
       "      <td>-0.373984</td>\n",
       "      <td>0.0</td>\n",
       "      <td>1.028820e-02</td>\n",
       "      <td>2.384</td>\n",
       "      <td>50.0</td>\n",
       "      <td>1.0</td>\n",
       "      <td>1.0</td>\n",
       "      <td>0.0</td>\n",
       "      <td>-0.62</td>\n",
       "    </tr>\n",
       "    <tr>\n",
       "      <th>HM_3BN9.mut.637_Repair.clean.pdb</th>\n",
       "      <td>0.0</td>\n",
       "      <td>0.0</td>\n",
       "      <td>22.0</td>\n",
       "      <td>15.0</td>\n",
       "      <td>617.0</td>\n",
       "      <td>14.0</td>\n",
       "      <td>9.0</td>\n",
       "      <td>0.0</td>\n",
       "      <td>0.0</td>\n",
       "      <td>0.0</td>\n",
       "      <td>...</td>\n",
       "      <td>-3.552710e-15</td>\n",
       "      <td>-1.078560</td>\n",
       "      <td>0.0</td>\n",
       "      <td>6.382330e-03</td>\n",
       "      <td>2.384</td>\n",
       "      <td>54.0</td>\n",
       "      <td>0.0</td>\n",
       "      <td>0.0</td>\n",
       "      <td>0.0</td>\n",
       "      <td>-1.36</td>\n",
       "    </tr>\n",
       "    <tr>\n",
       "      <th>HM_3BN9.mut.638_Repair.clean.pdb</th>\n",
       "      <td>0.0</td>\n",
       "      <td>0.0</td>\n",
       "      <td>22.0</td>\n",
       "      <td>9.0</td>\n",
       "      <td>599.0</td>\n",
       "      <td>13.0</td>\n",
       "      <td>9.0</td>\n",
       "      <td>0.0</td>\n",
       "      <td>2.0</td>\n",
       "      <td>0.0</td>\n",
       "      <td>...</td>\n",
       "      <td>-3.552710e-15</td>\n",
       "      <td>-1.078560</td>\n",
       "      <td>0.0</td>\n",
       "      <td>6.382330e-03</td>\n",
       "      <td>2.384</td>\n",
       "      <td>54.0</td>\n",
       "      <td>0.0</td>\n",
       "      <td>0.0</td>\n",
       "      <td>0.0</td>\n",
       "      <td>-0.41</td>\n",
       "    </tr>\n",
       "    <tr>\n",
       "      <th>HM_3BN9.mut.639_Repair.clean.pdb</th>\n",
       "      <td>0.0</td>\n",
       "      <td>0.0</td>\n",
       "      <td>22.0</td>\n",
       "      <td>16.0</td>\n",
       "      <td>616.0</td>\n",
       "      <td>13.0</td>\n",
       "      <td>8.0</td>\n",
       "      <td>0.0</td>\n",
       "      <td>0.0</td>\n",
       "      <td>0.0</td>\n",
       "      <td>...</td>\n",
       "      <td>-3.552710e-15</td>\n",
       "      <td>-1.078560</td>\n",
       "      <td>0.0</td>\n",
       "      <td>6.382330e-03</td>\n",
       "      <td>2.384</td>\n",
       "      <td>54.0</td>\n",
       "      <td>0.0</td>\n",
       "      <td>0.0</td>\n",
       "      <td>0.0</td>\n",
       "      <td>-0.71</td>\n",
       "    </tr>\n",
       "    <tr>\n",
       "      <th>HM_3BN9.mut.640_Repair.clean.pdb</th>\n",
       "      <td>0.0</td>\n",
       "      <td>0.0</td>\n",
       "      <td>23.0</td>\n",
       "      <td>18.0</td>\n",
       "      <td>625.0</td>\n",
       "      <td>14.0</td>\n",
       "      <td>8.0</td>\n",
       "      <td>0.0</td>\n",
       "      <td>0.0</td>\n",
       "      <td>0.0</td>\n",
       "      <td>...</td>\n",
       "      <td>-3.552710e-15</td>\n",
       "      <td>-1.078560</td>\n",
       "      <td>0.0</td>\n",
       "      <td>6.382330e-03</td>\n",
       "      <td>2.384</td>\n",
       "      <td>54.0</td>\n",
       "      <td>0.0</td>\n",
       "      <td>0.0</td>\n",
       "      <td>0.0</td>\n",
       "      <td>-0.71</td>\n",
       "    </tr>\n",
       "    <tr>\n",
       "      <th>HM_3BN9.mut.641_Repair.clean.pdb</th>\n",
       "      <td>0.0</td>\n",
       "      <td>0.0</td>\n",
       "      <td>21.0</td>\n",
       "      <td>12.0</td>\n",
       "      <td>631.0</td>\n",
       "      <td>14.0</td>\n",
       "      <td>8.0</td>\n",
       "      <td>0.0</td>\n",
       "      <td>0.0</td>\n",
       "      <td>0.0</td>\n",
       "      <td>...</td>\n",
       "      <td>-3.552710e-15</td>\n",
       "      <td>-1.078560</td>\n",
       "      <td>0.0</td>\n",
       "      <td>6.382330e-03</td>\n",
       "      <td>2.384</td>\n",
       "      <td>54.0</td>\n",
       "      <td>0.0</td>\n",
       "      <td>0.0</td>\n",
       "      <td>0.0</td>\n",
       "      <td>0.24</td>\n",
       "    </tr>\n",
       "    <tr>\n",
       "      <th>HM_3BN9.mut.642_Repair.clean.pdb</th>\n",
       "      <td>0.0</td>\n",
       "      <td>0.0</td>\n",
       "      <td>22.0</td>\n",
       "      <td>15.0</td>\n",
       "      <td>617.0</td>\n",
       "      <td>14.0</td>\n",
       "      <td>9.0</td>\n",
       "      <td>0.0</td>\n",
       "      <td>0.0</td>\n",
       "      <td>0.0</td>\n",
       "      <td>...</td>\n",
       "      <td>-3.552710e-15</td>\n",
       "      <td>-1.078560</td>\n",
       "      <td>0.0</td>\n",
       "      <td>6.382330e-03</td>\n",
       "      <td>2.384</td>\n",
       "      <td>54.0</td>\n",
       "      <td>0.0</td>\n",
       "      <td>0.0</td>\n",
       "      <td>0.0</td>\n",
       "      <td>0.16</td>\n",
       "    </tr>\n",
       "    <tr>\n",
       "      <th>HM_3BN9.mut.643_Repair.clean.pdb</th>\n",
       "      <td>0.0</td>\n",
       "      <td>0.0</td>\n",
       "      <td>22.0</td>\n",
       "      <td>15.0</td>\n",
       "      <td>613.0</td>\n",
       "      <td>14.0</td>\n",
       "      <td>9.0</td>\n",
       "      <td>0.0</td>\n",
       "      <td>0.0</td>\n",
       "      <td>0.0</td>\n",
       "      <td>...</td>\n",
       "      <td>-3.552710e-15</td>\n",
       "      <td>-1.078560</td>\n",
       "      <td>0.0</td>\n",
       "      <td>6.382330e-03</td>\n",
       "      <td>2.384</td>\n",
       "      <td>54.0</td>\n",
       "      <td>0.0</td>\n",
       "      <td>0.0</td>\n",
       "      <td>0.0</td>\n",
       "      <td>1.57</td>\n",
       "    </tr>\n",
       "    <tr>\n",
       "      <th>HM_3BN9.mut.644_Repair.clean.pdb</th>\n",
       "      <td>0.0</td>\n",
       "      <td>0.0</td>\n",
       "      <td>23.0</td>\n",
       "      <td>15.0</td>\n",
       "      <td>597.0</td>\n",
       "      <td>14.0</td>\n",
       "      <td>9.0</td>\n",
       "      <td>0.0</td>\n",
       "      <td>0.0</td>\n",
       "      <td>0.0</td>\n",
       "      <td>...</td>\n",
       "      <td>-3.552710e-15</td>\n",
       "      <td>-1.078560</td>\n",
       "      <td>0.0</td>\n",
       "      <td>6.382330e-03</td>\n",
       "      <td>2.384</td>\n",
       "      <td>54.0</td>\n",
       "      <td>0.0</td>\n",
       "      <td>0.0</td>\n",
       "      <td>0.0</td>\n",
       "      <td>-0.54</td>\n",
       "    </tr>\n",
       "  </tbody>\n",
       "</table>\n",
       "<p>645 rows × 73 columns</p>\n",
       "</div>"
      ],
      "text/plain": [
       "                                  clash  covalent  vdw_clash   vdw  proximal  \\\n",
       "1AK4.mut.0_Repair.clean.pdb         0.0       0.0       10.0   3.0     292.0   \n",
       "1AK4.mut.1_Repair.clean.pdb         0.0       0.0       12.0   6.0     333.0   \n",
       "1AK4.mut.2_Repair.clean.pdb         0.0       0.0        9.0   4.0     298.0   \n",
       "1AK4.mut.3_Repair.clean.pdb         0.0       0.0        9.0   6.0     309.0   \n",
       "1AK4.mut.4_Repair.clean.pdb         0.0       0.0        9.0   7.0     301.0   \n",
       "1AK4.mut.5_Repair.clean.pdb         0.0       0.0       10.0   6.0     325.0   \n",
       "1AK4.mut.6_Repair.clean.pdb         0.0       0.0        8.0   1.0     285.0   \n",
       "1AK4.mut.7_Repair.clean.pdb         0.0       0.0        9.0   1.0     305.0   \n",
       "1AK4.mut.8_Repair.clean.pdb         0.0       0.0       11.0   2.0     312.0   \n",
       "1AK4.mut.9_Repair.clean.pdb         0.0       0.0        9.0   4.0     304.0   \n",
       "1AK4.mut.10_Repair.clean.pdb        0.0       0.0        9.0   4.0     304.0   \n",
       "1AK4.mut.11_Repair.clean.pdb        0.0       0.0       10.0   4.0     315.0   \n",
       "1AK4.mut.12_Repair.clean.pdb        0.0       0.0        9.0   4.0     268.0   \n",
       "1AK4.mut.13_Repair.clean.pdb        0.0       0.0       13.0   9.0     296.0   \n",
       "1AK4.mut.14_Repair.clean.pdb        0.0       0.0        8.0   4.0     288.0   \n",
       "1AK4.mut.15_Repair.clean.pdb        0.0       0.0       11.0   2.0     311.0   \n",
       "1BJ1.mut.16_Repair.clean.pdb        0.0       0.0       23.0   9.0     757.0   \n",
       "1BJ1.mut.17_Repair.clean.pdb        0.0       0.0       20.0   9.0     762.0   \n",
       "1BJ1.mut.18_Repair.clean.pdb        0.0       0.0       19.0   9.0     757.0   \n",
       "1BJ1.mut.19_Repair.clean.pdb        0.0       0.0       24.0  13.0     758.0   \n",
       "1BJ1.mut.20_Repair.clean.pdb        0.0       0.0       21.0   9.0     768.0   \n",
       "1BJ1.mut.21_Repair.clean.pdb        0.0       0.0       20.0   9.0     768.0   \n",
       "1BJ1.mut.22_Repair.clean.pdb        0.0       0.0       17.0   6.0     699.0   \n",
       "1BJ1.mut.23_Repair.clean.pdb        0.0       0.0       20.0   7.0     770.0   \n",
       "1BJ1.mut.24_Repair.clean.pdb        0.0       0.0       23.0  10.0     755.0   \n",
       "1BJ1.mut.25_Repair.clean.pdb        0.0       0.0       23.0   8.0     746.0   \n",
       "1BJ1.mut.26_Repair.clean.pdb        0.0       0.0       23.0   9.0     754.0   \n",
       "1BJ1.mut.27_Repair.clean.pdb        0.0       0.0       20.0   9.0     740.0   \n",
       "1BJ1.mut.28_Repair.clean.pdb        0.0       0.0       21.0   9.0     738.0   \n",
       "1BJ1.mut.29_Repair.clean.pdb        0.0       0.0       20.0   9.0     764.0   \n",
       "...                                 ...       ...        ...   ...       ...   \n",
       "HM_2NYY.mut.615_Repair.clean.pdb    0.0       0.0       25.0  18.0     586.0   \n",
       "HM_2NYY.mut.616_Repair.clean.pdb    0.0       0.0       23.0  15.0     547.0   \n",
       "HM_2NYY.mut.617_Repair.clean.pdb    0.0       0.0       24.0  19.0     606.0   \n",
       "HM_2NYY.mut.618_Repair.clean.pdb    0.0       0.0       26.0  13.0     552.0   \n",
       "HM_2NYY.mut.619_Repair.clean.pdb    0.0       0.0       24.0  14.0     560.0   \n",
       "HM_2NYY.mut.620_Repair.clean.pdb    0.0       0.0       33.0  13.0     618.0   \n",
       "HM_2NZ9.mut.621_Repair.clean.pdb    0.0       0.0       34.0   5.0     538.0   \n",
       "HM_2NZ9.mut.622_Repair.clean.pdb    0.0       0.0       36.0  13.0     585.0   \n",
       "HM_2NZ9.mut.623_Repair.clean.pdb    0.0       0.0       29.0   9.0     507.0   \n",
       "HM_2NZ9.mut.624_Repair.clean.pdb    0.0       0.0       41.0  14.0     528.0   \n",
       "HM_2NZ9.mut.625_Repair.clean.pdb    0.0       0.0       38.0   8.0     548.0   \n",
       "HM_2NZ9.mut.626_Repair.clean.pdb    0.0       0.0       43.0  11.0     570.0   \n",
       "HM_2NZ9.mut.627_Repair.clean.pdb    0.0       0.0       42.0  15.0     579.0   \n",
       "HM_2NZ9.mut.628_Repair.clean.pdb    0.0       0.0       44.0   9.0     580.0   \n",
       "HM_2NZ9.mut.629_Repair.clean.pdb    0.0       0.0       41.0  12.0     563.0   \n",
       "HM_2NZ9.mut.630_Repair.clean.pdb    0.0       0.0       44.0  12.0     582.0   \n",
       "HM_2NZ9.mut.631_Repair.clean.pdb    0.0       0.0       45.0   9.0     575.0   \n",
       "HM_2NZ9.mut.632_Repair.clean.pdb    0.0       0.0       43.0  13.0     571.0   \n",
       "HM_2NZ9.mut.633_Repair.clean.pdb    0.0       0.0       29.0   4.0     476.0   \n",
       "HM_2NZ9.mut.634_Repair.clean.pdb    0.0       0.0       38.0   9.0     573.0   \n",
       "HM_2NZ9.mut.635_Repair.clean.pdb    0.0       0.0       42.0  14.0     584.0   \n",
       "HM_2NZ9.mut.636_Repair.clean.pdb    0.0       0.0       43.0  10.0     587.0   \n",
       "HM_3BN9.mut.637_Repair.clean.pdb    0.0       0.0       22.0  15.0     617.0   \n",
       "HM_3BN9.mut.638_Repair.clean.pdb    0.0       0.0       22.0   9.0     599.0   \n",
       "HM_3BN9.mut.639_Repair.clean.pdb    0.0       0.0       22.0  16.0     616.0   \n",
       "HM_3BN9.mut.640_Repair.clean.pdb    0.0       0.0       23.0  18.0     625.0   \n",
       "HM_3BN9.mut.641_Repair.clean.pdb    0.0       0.0       21.0  12.0     631.0   \n",
       "HM_3BN9.mut.642_Repair.clean.pdb    0.0       0.0       22.0  15.0     617.0   \n",
       "HM_3BN9.mut.643_Repair.clean.pdb    0.0       0.0       22.0  15.0     613.0   \n",
       "HM_3BN9.mut.644_Repair.clean.pdb    0.0       0.0       23.0  15.0     597.0   \n",
       "\n",
       "                                  hbond  weak_hbond  xbond  ionic  \\\n",
       "1AK4.mut.0_Repair.clean.pdb         8.0         2.0    0.0    0.0   \n",
       "1AK4.mut.1_Repair.clean.pdb         7.0         4.0    0.0    0.0   \n",
       "1AK4.mut.2_Repair.clean.pdb         7.0         3.0    0.0    0.0   \n",
       "1AK4.mut.3_Repair.clean.pdb         7.0         3.0    0.0    0.0   \n",
       "1AK4.mut.4_Repair.clean.pdb         7.0         3.0    0.0    0.0   \n",
       "1AK4.mut.5_Repair.clean.pdb         8.0         3.0    0.0    0.0   \n",
       "1AK4.mut.6_Repair.clean.pdb         6.0         4.0    0.0    0.0   \n",
       "1AK4.mut.7_Repair.clean.pdb         7.0         4.0    0.0    0.0   \n",
       "1AK4.mut.8_Repair.clean.pdb         7.0         4.0    0.0    0.0   \n",
       "1AK4.mut.9_Repair.clean.pdb         7.0         3.0    0.0    0.0   \n",
       "1AK4.mut.10_Repair.clean.pdb        7.0         3.0    0.0    0.0   \n",
       "1AK4.mut.11_Repair.clean.pdb        8.0         3.0    0.0    0.0   \n",
       "1AK4.mut.12_Repair.clean.pdb        7.0         3.0    0.0    0.0   \n",
       "1AK4.mut.13_Repair.clean.pdb        7.0         4.0    0.0    0.0   \n",
       "1AK4.mut.14_Repair.clean.pdb        7.0         3.0    0.0    0.0   \n",
       "1AK4.mut.15_Repair.clean.pdb        8.0         3.0    0.0    0.0   \n",
       "1BJ1.mut.16_Repair.clean.pdb       13.0        11.0    0.0    0.0   \n",
       "1BJ1.mut.17_Repair.clean.pdb       13.0        11.0    0.0    0.0   \n",
       "1BJ1.mut.18_Repair.clean.pdb       13.0        11.0    0.0    0.0   \n",
       "1BJ1.mut.19_Repair.clean.pdb       13.0        12.0    0.0    0.0   \n",
       "1BJ1.mut.20_Repair.clean.pdb       11.0        11.0    0.0    0.0   \n",
       "1BJ1.mut.21_Repair.clean.pdb       12.0        11.0    0.0    0.0   \n",
       "1BJ1.mut.22_Repair.clean.pdb       11.0         9.0    0.0    0.0   \n",
       "1BJ1.mut.23_Repair.clean.pdb       13.0        10.0    0.0    0.0   \n",
       "1BJ1.mut.24_Repair.clean.pdb       13.0        11.0    0.0    0.0   \n",
       "1BJ1.mut.25_Repair.clean.pdb       13.0        11.0    0.0    0.0   \n",
       "1BJ1.mut.26_Repair.clean.pdb       13.0        11.0    0.0    0.0   \n",
       "1BJ1.mut.27_Repair.clean.pdb       13.0        11.0    0.0    0.0   \n",
       "1BJ1.mut.28_Repair.clean.pdb       14.0        12.0    0.0    0.0   \n",
       "1BJ1.mut.29_Repair.clean.pdb       12.0        11.0    0.0    0.0   \n",
       "...                                 ...         ...    ...    ...   \n",
       "HM_2NYY.mut.615_Repair.clean.pdb   14.0         9.0    0.0    5.0   \n",
       "HM_2NYY.mut.616_Repair.clean.pdb   13.0         6.0    0.0    5.0   \n",
       "HM_2NYY.mut.617_Repair.clean.pdb   17.0        14.0    0.0    4.0   \n",
       "HM_2NYY.mut.618_Repair.clean.pdb   15.0         9.0    0.0    4.0   \n",
       "HM_2NYY.mut.619_Repair.clean.pdb   14.0        10.0    0.0    3.0   \n",
       "HM_2NYY.mut.620_Repair.clean.pdb   17.0        11.0    0.0    5.0   \n",
       "HM_2NZ9.mut.621_Repair.clean.pdb   17.0         6.0    0.0    0.0   \n",
       "HM_2NZ9.mut.622_Repair.clean.pdb   21.0         8.0    0.0    7.0   \n",
       "HM_2NZ9.mut.623_Repair.clean.pdb   11.0         7.0    0.0    4.0   \n",
       "HM_2NZ9.mut.624_Repair.clean.pdb   20.0         8.0    0.0    7.0   \n",
       "HM_2NZ9.mut.625_Repair.clean.pdb   16.0         8.0    0.0    4.0   \n",
       "HM_2NZ9.mut.626_Repair.clean.pdb   19.0         8.0    0.0    5.0   \n",
       "HM_2NZ9.mut.627_Repair.clean.pdb   20.0         8.0    0.0    7.0   \n",
       "HM_2NZ9.mut.628_Repair.clean.pdb   19.0         7.0    0.0    6.0   \n",
       "HM_2NZ9.mut.629_Repair.clean.pdb   19.0         8.0    0.0    8.0   \n",
       "HM_2NZ9.mut.630_Repair.clean.pdb   21.0         7.0    0.0    7.0   \n",
       "HM_2NZ9.mut.631_Repair.clean.pdb   21.0         7.0    0.0    9.0   \n",
       "HM_2NZ9.mut.632_Repair.clean.pdb   20.0        11.0    0.0    7.0   \n",
       "HM_2NZ9.mut.633_Repair.clean.pdb   16.0         6.0    0.0    0.0   \n",
       "HM_2NZ9.mut.634_Repair.clean.pdb   19.0         9.0    0.0    6.0   \n",
       "HM_2NZ9.mut.635_Repair.clean.pdb   21.0         8.0    0.0    7.0   \n",
       "HM_2NZ9.mut.636_Repair.clean.pdb   19.0         8.0    0.0    7.0   \n",
       "HM_3BN9.mut.637_Repair.clean.pdb   14.0         9.0    0.0    0.0   \n",
       "HM_3BN9.mut.638_Repair.clean.pdb   13.0         9.0    0.0    2.0   \n",
       "HM_3BN9.mut.639_Repair.clean.pdb   13.0         8.0    0.0    0.0   \n",
       "HM_3BN9.mut.640_Repair.clean.pdb   14.0         8.0    0.0    0.0   \n",
       "HM_3BN9.mut.641_Repair.clean.pdb   14.0         8.0    0.0    0.0   \n",
       "HM_3BN9.mut.642_Repair.clean.pdb   14.0         9.0    0.0    0.0   \n",
       "HM_3BN9.mut.643_Repair.clean.pdb   14.0         9.0    0.0    0.0   \n",
       "HM_3BN9.mut.644_Repair.clean.pdb   14.0         9.0    0.0    0.0   \n",
       "\n",
       "                                  metal_complex   ...     disulfide_wt  \\\n",
       "1AK4.mut.0_Repair.clean.pdb                 0.0   ...     0.000000e+00   \n",
       "1AK4.mut.1_Repair.clean.pdb                 0.0   ...     0.000000e+00   \n",
       "1AK4.mut.2_Repair.clean.pdb                 0.0   ...     0.000000e+00   \n",
       "1AK4.mut.3_Repair.clean.pdb                 0.0   ...     0.000000e+00   \n",
       "1AK4.mut.4_Repair.clean.pdb                 0.0   ...     0.000000e+00   \n",
       "1AK4.mut.5_Repair.clean.pdb                 0.0   ...     0.000000e+00   \n",
       "1AK4.mut.6_Repair.clean.pdb                 0.0   ...     0.000000e+00   \n",
       "1AK4.mut.7_Repair.clean.pdb                 0.0   ...     0.000000e+00   \n",
       "1AK4.mut.8_Repair.clean.pdb                 0.0   ...     0.000000e+00   \n",
       "1AK4.mut.9_Repair.clean.pdb                 0.0   ...     0.000000e+00   \n",
       "1AK4.mut.10_Repair.clean.pdb                0.0   ...     0.000000e+00   \n",
       "1AK4.mut.11_Repair.clean.pdb                0.0   ...     0.000000e+00   \n",
       "1AK4.mut.12_Repair.clean.pdb                0.0   ...     0.000000e+00   \n",
       "1AK4.mut.13_Repair.clean.pdb                0.0   ...     0.000000e+00   \n",
       "1AK4.mut.14_Repair.clean.pdb                0.0   ...     0.000000e+00   \n",
       "1AK4.mut.15_Repair.clean.pdb                0.0   ...     0.000000e+00   \n",
       "1BJ1.mut.16_Repair.clean.pdb                0.0   ...     3.552710e-15   \n",
       "1BJ1.mut.17_Repair.clean.pdb                0.0   ...     3.552710e-15   \n",
       "1BJ1.mut.18_Repair.clean.pdb                0.0   ...     3.552710e-15   \n",
       "1BJ1.mut.19_Repair.clean.pdb                0.0   ...     3.552710e-15   \n",
       "1BJ1.mut.20_Repair.clean.pdb                0.0   ...     3.552710e-15   \n",
       "1BJ1.mut.21_Repair.clean.pdb                0.0   ...     3.552710e-15   \n",
       "1BJ1.mut.22_Repair.clean.pdb                0.0   ...     3.552710e-15   \n",
       "1BJ1.mut.23_Repair.clean.pdb                0.0   ...     3.552710e-15   \n",
       "1BJ1.mut.24_Repair.clean.pdb                0.0   ...     3.552710e-15   \n",
       "1BJ1.mut.25_Repair.clean.pdb                0.0   ...     3.552710e-15   \n",
       "1BJ1.mut.26_Repair.clean.pdb                0.0   ...     3.552710e-15   \n",
       "1BJ1.mut.27_Repair.clean.pdb                0.0   ...     3.552710e-15   \n",
       "1BJ1.mut.28_Repair.clean.pdb                0.0   ...     3.552710e-15   \n",
       "1BJ1.mut.29_Repair.clean.pdb                0.0   ...     3.552710e-15   \n",
       "...                                         ...   ...              ...   \n",
       "HM_2NYY.mut.615_Repair.clean.pdb            0.0   ...     3.552710e-15   \n",
       "HM_2NYY.mut.616_Repair.clean.pdb            0.0   ...     3.552710e-15   \n",
       "HM_2NYY.mut.617_Repair.clean.pdb            0.0   ...     3.552710e-15   \n",
       "HM_2NYY.mut.618_Repair.clean.pdb            0.0   ...     3.552710e-15   \n",
       "HM_2NYY.mut.619_Repair.clean.pdb            0.0   ...     3.552710e-15   \n",
       "HM_2NYY.mut.620_Repair.clean.pdb            0.0   ...     3.552710e-15   \n",
       "HM_2NZ9.mut.621_Repair.clean.pdb            0.0   ...    -1.776360e-15   \n",
       "HM_2NZ9.mut.622_Repair.clean.pdb            0.0   ...    -1.776360e-15   \n",
       "HM_2NZ9.mut.623_Repair.clean.pdb            0.0   ...    -1.776360e-15   \n",
       "HM_2NZ9.mut.624_Repair.clean.pdb            0.0   ...    -1.776360e-15   \n",
       "HM_2NZ9.mut.625_Repair.clean.pdb            0.0   ...    -1.776360e-15   \n",
       "HM_2NZ9.mut.626_Repair.clean.pdb            0.0   ...    -1.776360e-15   \n",
       "HM_2NZ9.mut.627_Repair.clean.pdb            0.0   ...    -1.776360e-15   \n",
       "HM_2NZ9.mut.628_Repair.clean.pdb            0.0   ...    -1.776360e-15   \n",
       "HM_2NZ9.mut.629_Repair.clean.pdb            0.0   ...    -1.776360e-15   \n",
       "HM_2NZ9.mut.630_Repair.clean.pdb            0.0   ...    -1.776360e-15   \n",
       "HM_2NZ9.mut.631_Repair.clean.pdb            0.0   ...    -1.776360e-15   \n",
       "HM_2NZ9.mut.632_Repair.clean.pdb            0.0   ...    -1.776360e-15   \n",
       "HM_2NZ9.mut.633_Repair.clean.pdb            0.0   ...    -1.776360e-15   \n",
       "HM_2NZ9.mut.634_Repair.clean.pdb            0.0   ...    -1.776360e-15   \n",
       "HM_2NZ9.mut.635_Repair.clean.pdb            0.0   ...    -1.776360e-15   \n",
       "HM_2NZ9.mut.636_Repair.clean.pdb            0.0   ...    -1.776360e-15   \n",
       "HM_3BN9.mut.637_Repair.clean.pdb            0.0   ...    -3.552710e-15   \n",
       "HM_3BN9.mut.638_Repair.clean.pdb            0.0   ...    -3.552710e-15   \n",
       "HM_3BN9.mut.639_Repair.clean.pdb            0.0   ...    -3.552710e-15   \n",
       "HM_3BN9.mut.640_Repair.clean.pdb            0.0   ...    -3.552710e-15   \n",
       "HM_3BN9.mut.641_Repair.clean.pdb            0.0   ...    -3.552710e-15   \n",
       "HM_3BN9.mut.642_Repair.clean.pdb            0.0   ...    -3.552710e-15   \n",
       "HM_3BN9.mut.643_Repair.clean.pdb            0.0   ...    -3.552710e-15   \n",
       "HM_3BN9.mut.644_Repair.clean.pdb            0.0   ...    -3.552710e-15   \n",
       "\n",
       "                                  electrostatic_kon_wt  \\\n",
       "1AK4.mut.0_Repair.clean.pdb                  -0.062112   \n",
       "1AK4.mut.1_Repair.clean.pdb                  -0.062112   \n",
       "1AK4.mut.2_Repair.clean.pdb                  -0.062112   \n",
       "1AK4.mut.3_Repair.clean.pdb                  -0.062112   \n",
       "1AK4.mut.4_Repair.clean.pdb                  -0.062112   \n",
       "1AK4.mut.5_Repair.clean.pdb                  -0.062112   \n",
       "1AK4.mut.6_Repair.clean.pdb                  -0.062112   \n",
       "1AK4.mut.7_Repair.clean.pdb                  -0.062112   \n",
       "1AK4.mut.8_Repair.clean.pdb                  -0.062112   \n",
       "1AK4.mut.9_Repair.clean.pdb                  -0.062112   \n",
       "1AK4.mut.10_Repair.clean.pdb                 -0.062112   \n",
       "1AK4.mut.11_Repair.clean.pdb                 -0.062112   \n",
       "1AK4.mut.12_Repair.clean.pdb                 -0.062112   \n",
       "1AK4.mut.13_Repair.clean.pdb                 -0.062112   \n",
       "1AK4.mut.14_Repair.clean.pdb                 -0.062112   \n",
       "1AK4.mut.15_Repair.clean.pdb                 -0.062112   \n",
       "1BJ1.mut.16_Repair.clean.pdb                  0.016842   \n",
       "1BJ1.mut.17_Repair.clean.pdb                  0.016842   \n",
       "1BJ1.mut.18_Repair.clean.pdb                  0.016842   \n",
       "1BJ1.mut.19_Repair.clean.pdb                  0.016842   \n",
       "1BJ1.mut.20_Repair.clean.pdb                  0.016842   \n",
       "1BJ1.mut.21_Repair.clean.pdb                  0.016842   \n",
       "1BJ1.mut.22_Repair.clean.pdb                  0.016842   \n",
       "1BJ1.mut.23_Repair.clean.pdb                  0.016842   \n",
       "1BJ1.mut.24_Repair.clean.pdb                  0.016842   \n",
       "1BJ1.mut.25_Repair.clean.pdb                  0.016842   \n",
       "1BJ1.mut.26_Repair.clean.pdb                  0.016842   \n",
       "1BJ1.mut.27_Repair.clean.pdb                  0.016842   \n",
       "1BJ1.mut.28_Repair.clean.pdb                  0.016842   \n",
       "1BJ1.mut.29_Repair.clean.pdb                  0.016842   \n",
       "...                                                ...   \n",
       "HM_2NYY.mut.615_Repair.clean.pdb             -0.587126   \n",
       "HM_2NYY.mut.616_Repair.clean.pdb             -0.587126   \n",
       "HM_2NYY.mut.617_Repair.clean.pdb             -0.587126   \n",
       "HM_2NYY.mut.618_Repair.clean.pdb             -0.587126   \n",
       "HM_2NYY.mut.619_Repair.clean.pdb             -0.587126   \n",
       "HM_2NYY.mut.620_Repair.clean.pdb             -0.587126   \n",
       "HM_2NZ9.mut.621_Repair.clean.pdb             -0.373984   \n",
       "HM_2NZ9.mut.622_Repair.clean.pdb             -0.373984   \n",
       "HM_2NZ9.mut.623_Repair.clean.pdb             -0.373984   \n",
       "HM_2NZ9.mut.624_Repair.clean.pdb             -0.373984   \n",
       "HM_2NZ9.mut.625_Repair.clean.pdb             -0.373984   \n",
       "HM_2NZ9.mut.626_Repair.clean.pdb             -0.373984   \n",
       "HM_2NZ9.mut.627_Repair.clean.pdb             -0.373984   \n",
       "HM_2NZ9.mut.628_Repair.clean.pdb             -0.373984   \n",
       "HM_2NZ9.mut.629_Repair.clean.pdb             -0.373984   \n",
       "HM_2NZ9.mut.630_Repair.clean.pdb             -0.373984   \n",
       "HM_2NZ9.mut.631_Repair.clean.pdb             -0.373984   \n",
       "HM_2NZ9.mut.632_Repair.clean.pdb             -0.373984   \n",
       "HM_2NZ9.mut.633_Repair.clean.pdb             -0.373984   \n",
       "HM_2NZ9.mut.634_Repair.clean.pdb             -0.373984   \n",
       "HM_2NZ9.mut.635_Repair.clean.pdb             -0.373984   \n",
       "HM_2NZ9.mut.636_Repair.clean.pdb             -0.373984   \n",
       "HM_3BN9.mut.637_Repair.clean.pdb             -1.078560   \n",
       "HM_3BN9.mut.638_Repair.clean.pdb             -1.078560   \n",
       "HM_3BN9.mut.639_Repair.clean.pdb             -1.078560   \n",
       "HM_3BN9.mut.640_Repair.clean.pdb             -1.078560   \n",
       "HM_3BN9.mut.641_Repair.clean.pdb             -1.078560   \n",
       "HM_3BN9.mut.642_Repair.clean.pdb             -1.078560   \n",
       "HM_3BN9.mut.643_Repair.clean.pdb             -1.078560   \n",
       "HM_3BN9.mut.644_Repair.clean.pdb             -1.078560   \n",
       "\n",
       "                                  partial_covalent_bonds_wt  \\\n",
       "1AK4.mut.0_Repair.clean.pdb                             0.0   \n",
       "1AK4.mut.1_Repair.clean.pdb                             0.0   \n",
       "1AK4.mut.2_Repair.clean.pdb                             0.0   \n",
       "1AK4.mut.3_Repair.clean.pdb                             0.0   \n",
       "1AK4.mut.4_Repair.clean.pdb                             0.0   \n",
       "1AK4.mut.5_Repair.clean.pdb                             0.0   \n",
       "1AK4.mut.6_Repair.clean.pdb                             0.0   \n",
       "1AK4.mut.7_Repair.clean.pdb                             0.0   \n",
       "1AK4.mut.8_Repair.clean.pdb                             0.0   \n",
       "1AK4.mut.9_Repair.clean.pdb                             0.0   \n",
       "1AK4.mut.10_Repair.clean.pdb                            0.0   \n",
       "1AK4.mut.11_Repair.clean.pdb                            0.0   \n",
       "1AK4.mut.12_Repair.clean.pdb                            0.0   \n",
       "1AK4.mut.13_Repair.clean.pdb                            0.0   \n",
       "1AK4.mut.14_Repair.clean.pdb                            0.0   \n",
       "1AK4.mut.15_Repair.clean.pdb                            0.0   \n",
       "1BJ1.mut.16_Repair.clean.pdb                            0.0   \n",
       "1BJ1.mut.17_Repair.clean.pdb                            0.0   \n",
       "1BJ1.mut.18_Repair.clean.pdb                            0.0   \n",
       "1BJ1.mut.19_Repair.clean.pdb                            0.0   \n",
       "1BJ1.mut.20_Repair.clean.pdb                            0.0   \n",
       "1BJ1.mut.21_Repair.clean.pdb                            0.0   \n",
       "1BJ1.mut.22_Repair.clean.pdb                            0.0   \n",
       "1BJ1.mut.23_Repair.clean.pdb                            0.0   \n",
       "1BJ1.mut.24_Repair.clean.pdb                            0.0   \n",
       "1BJ1.mut.25_Repair.clean.pdb                            0.0   \n",
       "1BJ1.mut.26_Repair.clean.pdb                            0.0   \n",
       "1BJ1.mut.27_Repair.clean.pdb                            0.0   \n",
       "1BJ1.mut.28_Repair.clean.pdb                            0.0   \n",
       "1BJ1.mut.29_Repair.clean.pdb                            0.0   \n",
       "...                                                     ...   \n",
       "HM_2NYY.mut.615_Repair.clean.pdb                        0.0   \n",
       "HM_2NYY.mut.616_Repair.clean.pdb                        0.0   \n",
       "HM_2NYY.mut.617_Repair.clean.pdb                        0.0   \n",
       "HM_2NYY.mut.618_Repair.clean.pdb                        0.0   \n",
       "HM_2NYY.mut.619_Repair.clean.pdb                        0.0   \n",
       "HM_2NYY.mut.620_Repair.clean.pdb                        0.0   \n",
       "HM_2NZ9.mut.621_Repair.clean.pdb                        0.0   \n",
       "HM_2NZ9.mut.622_Repair.clean.pdb                        0.0   \n",
       "HM_2NZ9.mut.623_Repair.clean.pdb                        0.0   \n",
       "HM_2NZ9.mut.624_Repair.clean.pdb                        0.0   \n",
       "HM_2NZ9.mut.625_Repair.clean.pdb                        0.0   \n",
       "HM_2NZ9.mut.626_Repair.clean.pdb                        0.0   \n",
       "HM_2NZ9.mut.627_Repair.clean.pdb                        0.0   \n",
       "HM_2NZ9.mut.628_Repair.clean.pdb                        0.0   \n",
       "HM_2NZ9.mut.629_Repair.clean.pdb                        0.0   \n",
       "HM_2NZ9.mut.630_Repair.clean.pdb                        0.0   \n",
       "HM_2NZ9.mut.631_Repair.clean.pdb                        0.0   \n",
       "HM_2NZ9.mut.632_Repair.clean.pdb                        0.0   \n",
       "HM_2NZ9.mut.633_Repair.clean.pdb                        0.0   \n",
       "HM_2NZ9.mut.634_Repair.clean.pdb                        0.0   \n",
       "HM_2NZ9.mut.635_Repair.clean.pdb                        0.0   \n",
       "HM_2NZ9.mut.636_Repair.clean.pdb                        0.0   \n",
       "HM_3BN9.mut.637_Repair.clean.pdb                        0.0   \n",
       "HM_3BN9.mut.638_Repair.clean.pdb                        0.0   \n",
       "HM_3BN9.mut.639_Repair.clean.pdb                        0.0   \n",
       "HM_3BN9.mut.640_Repair.clean.pdb                        0.0   \n",
       "HM_3BN9.mut.641_Repair.clean.pdb                        0.0   \n",
       "HM_3BN9.mut.642_Repair.clean.pdb                        0.0   \n",
       "HM_3BN9.mut.643_Repair.clean.pdb                        0.0   \n",
       "HM_3BN9.mut.644_Repair.clean.pdb                        0.0   \n",
       "\n",
       "                                  energy_ionisation_wt  entropy_complex_wt  \\\n",
       "1AK4.mut.0_Repair.clean.pdb               4.618880e-02               2.384   \n",
       "1AK4.mut.1_Repair.clean.pdb               4.618880e-02               2.384   \n",
       "1AK4.mut.2_Repair.clean.pdb               4.618880e-02               2.384   \n",
       "1AK4.mut.3_Repair.clean.pdb               4.618880e-02               2.384   \n",
       "1AK4.mut.4_Repair.clean.pdb               4.618880e-02               2.384   \n",
       "1AK4.mut.5_Repair.clean.pdb               4.618880e-02               2.384   \n",
       "1AK4.mut.6_Repair.clean.pdb               4.618880e-02               2.384   \n",
       "1AK4.mut.7_Repair.clean.pdb               4.618880e-02               2.384   \n",
       "1AK4.mut.8_Repair.clean.pdb               4.618880e-02               2.384   \n",
       "1AK4.mut.9_Repair.clean.pdb               4.618880e-02               2.384   \n",
       "1AK4.mut.10_Repair.clean.pdb              4.618880e-02               2.384   \n",
       "1AK4.mut.11_Repair.clean.pdb              4.618880e-02               2.384   \n",
       "1AK4.mut.12_Repair.clean.pdb              4.618880e-02               2.384   \n",
       "1AK4.mut.13_Repair.clean.pdb              4.618880e-02               2.384   \n",
       "1AK4.mut.14_Repair.clean.pdb              4.618880e-02               2.384   \n",
       "1AK4.mut.15_Repair.clean.pdb              4.618880e-02               2.384   \n",
       "1BJ1.mut.16_Repair.clean.pdb              6.269110e-01               2.384   \n",
       "1BJ1.mut.17_Repair.clean.pdb              6.269110e-01               2.384   \n",
       "1BJ1.mut.18_Repair.clean.pdb              6.269110e-01               2.384   \n",
       "1BJ1.mut.19_Repair.clean.pdb              6.269110e-01               2.384   \n",
       "1BJ1.mut.20_Repair.clean.pdb              6.269110e-01               2.384   \n",
       "1BJ1.mut.21_Repair.clean.pdb              6.269110e-01               2.384   \n",
       "1BJ1.mut.22_Repair.clean.pdb              6.269110e-01               2.384   \n",
       "1BJ1.mut.23_Repair.clean.pdb              6.269110e-01               2.384   \n",
       "1BJ1.mut.24_Repair.clean.pdb              6.269110e-01               2.384   \n",
       "1BJ1.mut.25_Repair.clean.pdb              6.269110e-01               2.384   \n",
       "1BJ1.mut.26_Repair.clean.pdb              6.269110e-01               2.384   \n",
       "1BJ1.mut.27_Repair.clean.pdb              6.269110e-01               2.384   \n",
       "1BJ1.mut.28_Repair.clean.pdb              6.269110e-01               2.384   \n",
       "1BJ1.mut.29_Repair.clean.pdb              6.269110e-01               2.384   \n",
       "...                                                ...                 ...   \n",
       "HM_2NYY.mut.615_Repair.clean.pdb          1.110220e-15               2.384   \n",
       "HM_2NYY.mut.616_Repair.clean.pdb          1.110220e-15               2.384   \n",
       "HM_2NYY.mut.617_Repair.clean.pdb          1.110220e-15               2.384   \n",
       "HM_2NYY.mut.618_Repair.clean.pdb          1.110220e-15               2.384   \n",
       "HM_2NYY.mut.619_Repair.clean.pdb          1.110220e-15               2.384   \n",
       "HM_2NYY.mut.620_Repair.clean.pdb          1.110220e-15               2.384   \n",
       "HM_2NZ9.mut.621_Repair.clean.pdb          1.028820e-02               2.384   \n",
       "HM_2NZ9.mut.622_Repair.clean.pdb          1.028820e-02               2.384   \n",
       "HM_2NZ9.mut.623_Repair.clean.pdb          1.028820e-02               2.384   \n",
       "HM_2NZ9.mut.624_Repair.clean.pdb          1.028820e-02               2.384   \n",
       "HM_2NZ9.mut.625_Repair.clean.pdb          1.028820e-02               2.384   \n",
       "HM_2NZ9.mut.626_Repair.clean.pdb          1.028820e-02               2.384   \n",
       "HM_2NZ9.mut.627_Repair.clean.pdb          1.028820e-02               2.384   \n",
       "HM_2NZ9.mut.628_Repair.clean.pdb          1.028820e-02               2.384   \n",
       "HM_2NZ9.mut.629_Repair.clean.pdb          1.028820e-02               2.384   \n",
       "HM_2NZ9.mut.630_Repair.clean.pdb          1.028820e-02               2.384   \n",
       "HM_2NZ9.mut.631_Repair.clean.pdb          1.028820e-02               2.384   \n",
       "HM_2NZ9.mut.632_Repair.clean.pdb          1.028820e-02               2.384   \n",
       "HM_2NZ9.mut.633_Repair.clean.pdb          1.028820e-02               2.384   \n",
       "HM_2NZ9.mut.634_Repair.clean.pdb          1.028820e-02               2.384   \n",
       "HM_2NZ9.mut.635_Repair.clean.pdb          1.028820e-02               2.384   \n",
       "HM_2NZ9.mut.636_Repair.clean.pdb          1.028820e-02               2.384   \n",
       "HM_3BN9.mut.637_Repair.clean.pdb          6.382330e-03               2.384   \n",
       "HM_3BN9.mut.638_Repair.clean.pdb          6.382330e-03               2.384   \n",
       "HM_3BN9.mut.639_Repair.clean.pdb          6.382330e-03               2.384   \n",
       "HM_3BN9.mut.640_Repair.clean.pdb          6.382330e-03               2.384   \n",
       "HM_3BN9.mut.641_Repair.clean.pdb          6.382330e-03               2.384   \n",
       "HM_3BN9.mut.642_Repair.clean.pdb          6.382330e-03               2.384   \n",
       "HM_3BN9.mut.643_Repair.clean.pdb          6.382330e-03               2.384   \n",
       "HM_3BN9.mut.644_Repair.clean.pdb          6.382330e-03               2.384   \n",
       "\n",
       "                                  interface_residues_wt  \\\n",
       "1AK4.mut.0_Repair.clean.pdb                        27.0   \n",
       "1AK4.mut.1_Repair.clean.pdb                        27.0   \n",
       "1AK4.mut.2_Repair.clean.pdb                        27.0   \n",
       "1AK4.mut.3_Repair.clean.pdb                        27.0   \n",
       "1AK4.mut.4_Repair.clean.pdb                        27.0   \n",
       "1AK4.mut.5_Repair.clean.pdb                        27.0   \n",
       "1AK4.mut.6_Repair.clean.pdb                        27.0   \n",
       "1AK4.mut.7_Repair.clean.pdb                        27.0   \n",
       "1AK4.mut.8_Repair.clean.pdb                        27.0   \n",
       "1AK4.mut.9_Repair.clean.pdb                        27.0   \n",
       "1AK4.mut.10_Repair.clean.pdb                       27.0   \n",
       "1AK4.mut.11_Repair.clean.pdb                       27.0   \n",
       "1AK4.mut.12_Repair.clean.pdb                       27.0   \n",
       "1AK4.mut.13_Repair.clean.pdb                       27.0   \n",
       "1AK4.mut.14_Repair.clean.pdb                       27.0   \n",
       "1AK4.mut.15_Repair.clean.pdb                       27.0   \n",
       "1BJ1.mut.16_Repair.clean.pdb                       45.0   \n",
       "1BJ1.mut.17_Repair.clean.pdb                       45.0   \n",
       "1BJ1.mut.18_Repair.clean.pdb                       45.0   \n",
       "1BJ1.mut.19_Repair.clean.pdb                       45.0   \n",
       "1BJ1.mut.20_Repair.clean.pdb                       45.0   \n",
       "1BJ1.mut.21_Repair.clean.pdb                       45.0   \n",
       "1BJ1.mut.22_Repair.clean.pdb                       45.0   \n",
       "1BJ1.mut.23_Repair.clean.pdb                       45.0   \n",
       "1BJ1.mut.24_Repair.clean.pdb                       45.0   \n",
       "1BJ1.mut.25_Repair.clean.pdb                       45.0   \n",
       "1BJ1.mut.26_Repair.clean.pdb                       45.0   \n",
       "1BJ1.mut.27_Repair.clean.pdb                       45.0   \n",
       "1BJ1.mut.28_Repair.clean.pdb                       45.0   \n",
       "1BJ1.mut.29_Repair.clean.pdb                       45.0   \n",
       "...                                                 ...   \n",
       "HM_2NYY.mut.615_Repair.clean.pdb                   52.0   \n",
       "HM_2NYY.mut.616_Repair.clean.pdb                   52.0   \n",
       "HM_2NYY.mut.617_Repair.clean.pdb                   52.0   \n",
       "HM_2NYY.mut.618_Repair.clean.pdb                   52.0   \n",
       "HM_2NYY.mut.619_Repair.clean.pdb                   52.0   \n",
       "HM_2NYY.mut.620_Repair.clean.pdb                   52.0   \n",
       "HM_2NZ9.mut.621_Repair.clean.pdb                   50.0   \n",
       "HM_2NZ9.mut.622_Repair.clean.pdb                   50.0   \n",
       "HM_2NZ9.mut.623_Repair.clean.pdb                   50.0   \n",
       "HM_2NZ9.mut.624_Repair.clean.pdb                   50.0   \n",
       "HM_2NZ9.mut.625_Repair.clean.pdb                   50.0   \n",
       "HM_2NZ9.mut.626_Repair.clean.pdb                   50.0   \n",
       "HM_2NZ9.mut.627_Repair.clean.pdb                   50.0   \n",
       "HM_2NZ9.mut.628_Repair.clean.pdb                   50.0   \n",
       "HM_2NZ9.mut.629_Repair.clean.pdb                   50.0   \n",
       "HM_2NZ9.mut.630_Repair.clean.pdb                   50.0   \n",
       "HM_2NZ9.mut.631_Repair.clean.pdb                   50.0   \n",
       "HM_2NZ9.mut.632_Repair.clean.pdb                   50.0   \n",
       "HM_2NZ9.mut.633_Repair.clean.pdb                   50.0   \n",
       "HM_2NZ9.mut.634_Repair.clean.pdb                   50.0   \n",
       "HM_2NZ9.mut.635_Repair.clean.pdb                   50.0   \n",
       "HM_2NZ9.mut.636_Repair.clean.pdb                   50.0   \n",
       "HM_3BN9.mut.637_Repair.clean.pdb                   54.0   \n",
       "HM_3BN9.mut.638_Repair.clean.pdb                   54.0   \n",
       "HM_3BN9.mut.639_Repair.clean.pdb                   54.0   \n",
       "HM_3BN9.mut.640_Repair.clean.pdb                   54.0   \n",
       "HM_3BN9.mut.641_Repair.clean.pdb                   54.0   \n",
       "HM_3BN9.mut.642_Repair.clean.pdb                   54.0   \n",
       "HM_3BN9.mut.643_Repair.clean.pdb                   54.0   \n",
       "HM_3BN9.mut.644_Repair.clean.pdb                   54.0   \n",
       "\n",
       "                                  interface_residues_clashing_wt  \\\n",
       "1AK4.mut.0_Repair.clean.pdb                                  0.0   \n",
       "1AK4.mut.1_Repair.clean.pdb                                  0.0   \n",
       "1AK4.mut.2_Repair.clean.pdb                                  0.0   \n",
       "1AK4.mut.3_Repair.clean.pdb                                  0.0   \n",
       "1AK4.mut.4_Repair.clean.pdb                                  0.0   \n",
       "1AK4.mut.5_Repair.clean.pdb                                  0.0   \n",
       "1AK4.mut.6_Repair.clean.pdb                                  0.0   \n",
       "1AK4.mut.7_Repair.clean.pdb                                  0.0   \n",
       "1AK4.mut.8_Repair.clean.pdb                                  0.0   \n",
       "1AK4.mut.9_Repair.clean.pdb                                  0.0   \n",
       "1AK4.mut.10_Repair.clean.pdb                                 0.0   \n",
       "1AK4.mut.11_Repair.clean.pdb                                 0.0   \n",
       "1AK4.mut.12_Repair.clean.pdb                                 0.0   \n",
       "1AK4.mut.13_Repair.clean.pdb                                 0.0   \n",
       "1AK4.mut.14_Repair.clean.pdb                                 0.0   \n",
       "1AK4.mut.15_Repair.clean.pdb                                 0.0   \n",
       "1BJ1.mut.16_Repair.clean.pdb                                 1.0   \n",
       "1BJ1.mut.17_Repair.clean.pdb                                 1.0   \n",
       "1BJ1.mut.18_Repair.clean.pdb                                 1.0   \n",
       "1BJ1.mut.19_Repair.clean.pdb                                 1.0   \n",
       "1BJ1.mut.20_Repair.clean.pdb                                 1.0   \n",
       "1BJ1.mut.21_Repair.clean.pdb                                 1.0   \n",
       "1BJ1.mut.22_Repair.clean.pdb                                 1.0   \n",
       "1BJ1.mut.23_Repair.clean.pdb                                 1.0   \n",
       "1BJ1.mut.24_Repair.clean.pdb                                 1.0   \n",
       "1BJ1.mut.25_Repair.clean.pdb                                 1.0   \n",
       "1BJ1.mut.26_Repair.clean.pdb                                 1.0   \n",
       "1BJ1.mut.27_Repair.clean.pdb                                 1.0   \n",
       "1BJ1.mut.28_Repair.clean.pdb                                 1.0   \n",
       "1BJ1.mut.29_Repair.clean.pdb                                 1.0   \n",
       "...                                                          ...   \n",
       "HM_2NYY.mut.615_Repair.clean.pdb                             0.0   \n",
       "HM_2NYY.mut.616_Repair.clean.pdb                             0.0   \n",
       "HM_2NYY.mut.617_Repair.clean.pdb                             0.0   \n",
       "HM_2NYY.mut.618_Repair.clean.pdb                             0.0   \n",
       "HM_2NYY.mut.619_Repair.clean.pdb                             0.0   \n",
       "HM_2NYY.mut.620_Repair.clean.pdb                             0.0   \n",
       "HM_2NZ9.mut.621_Repair.clean.pdb                             1.0   \n",
       "HM_2NZ9.mut.622_Repair.clean.pdb                             1.0   \n",
       "HM_2NZ9.mut.623_Repair.clean.pdb                             1.0   \n",
       "HM_2NZ9.mut.624_Repair.clean.pdb                             1.0   \n",
       "HM_2NZ9.mut.625_Repair.clean.pdb                             1.0   \n",
       "HM_2NZ9.mut.626_Repair.clean.pdb                             1.0   \n",
       "HM_2NZ9.mut.627_Repair.clean.pdb                             1.0   \n",
       "HM_2NZ9.mut.628_Repair.clean.pdb                             1.0   \n",
       "HM_2NZ9.mut.629_Repair.clean.pdb                             1.0   \n",
       "HM_2NZ9.mut.630_Repair.clean.pdb                             1.0   \n",
       "HM_2NZ9.mut.631_Repair.clean.pdb                             1.0   \n",
       "HM_2NZ9.mut.632_Repair.clean.pdb                             1.0   \n",
       "HM_2NZ9.mut.633_Repair.clean.pdb                             1.0   \n",
       "HM_2NZ9.mut.634_Repair.clean.pdb                             1.0   \n",
       "HM_2NZ9.mut.635_Repair.clean.pdb                             1.0   \n",
       "HM_2NZ9.mut.636_Repair.clean.pdb                             1.0   \n",
       "HM_3BN9.mut.637_Repair.clean.pdb                             0.0   \n",
       "HM_3BN9.mut.638_Repair.clean.pdb                             0.0   \n",
       "HM_3BN9.mut.639_Repair.clean.pdb                             0.0   \n",
       "HM_3BN9.mut.640_Repair.clean.pdb                             0.0   \n",
       "HM_3BN9.mut.641_Repair.clean.pdb                             0.0   \n",
       "HM_3BN9.mut.642_Repair.clean.pdb                             0.0   \n",
       "HM_3BN9.mut.643_Repair.clean.pdb                             0.0   \n",
       "HM_3BN9.mut.644_Repair.clean.pdb                             0.0   \n",
       "\n",
       "                                  interface_residues_vdw_clashing_wt  \\\n",
       "1AK4.mut.0_Repair.clean.pdb                                      0.0   \n",
       "1AK4.mut.1_Repair.clean.pdb                                      0.0   \n",
       "1AK4.mut.2_Repair.clean.pdb                                      0.0   \n",
       "1AK4.mut.3_Repair.clean.pdb                                      0.0   \n",
       "1AK4.mut.4_Repair.clean.pdb                                      0.0   \n",
       "1AK4.mut.5_Repair.clean.pdb                                      0.0   \n",
       "1AK4.mut.6_Repair.clean.pdb                                      0.0   \n",
       "1AK4.mut.7_Repair.clean.pdb                                      0.0   \n",
       "1AK4.mut.8_Repair.clean.pdb                                      0.0   \n",
       "1AK4.mut.9_Repair.clean.pdb                                      0.0   \n",
       "1AK4.mut.10_Repair.clean.pdb                                     0.0   \n",
       "1AK4.mut.11_Repair.clean.pdb                                     0.0   \n",
       "1AK4.mut.12_Repair.clean.pdb                                     0.0   \n",
       "1AK4.mut.13_Repair.clean.pdb                                     0.0   \n",
       "1AK4.mut.14_Repair.clean.pdb                                     0.0   \n",
       "1AK4.mut.15_Repair.clean.pdb                                     0.0   \n",
       "1BJ1.mut.16_Repair.clean.pdb                                     1.0   \n",
       "1BJ1.mut.17_Repair.clean.pdb                                     1.0   \n",
       "1BJ1.mut.18_Repair.clean.pdb                                     1.0   \n",
       "1BJ1.mut.19_Repair.clean.pdb                                     1.0   \n",
       "1BJ1.mut.20_Repair.clean.pdb                                     1.0   \n",
       "1BJ1.mut.21_Repair.clean.pdb                                     1.0   \n",
       "1BJ1.mut.22_Repair.clean.pdb                                     1.0   \n",
       "1BJ1.mut.23_Repair.clean.pdb                                     1.0   \n",
       "1BJ1.mut.24_Repair.clean.pdb                                     1.0   \n",
       "1BJ1.mut.25_Repair.clean.pdb                                     1.0   \n",
       "1BJ1.mut.26_Repair.clean.pdb                                     1.0   \n",
       "1BJ1.mut.27_Repair.clean.pdb                                     1.0   \n",
       "1BJ1.mut.28_Repair.clean.pdb                                     1.0   \n",
       "1BJ1.mut.29_Repair.clean.pdb                                     1.0   \n",
       "...                                                              ...   \n",
       "HM_2NYY.mut.615_Repair.clean.pdb                                 0.0   \n",
       "HM_2NYY.mut.616_Repair.clean.pdb                                 0.0   \n",
       "HM_2NYY.mut.617_Repair.clean.pdb                                 0.0   \n",
       "HM_2NYY.mut.618_Repair.clean.pdb                                 0.0   \n",
       "HM_2NYY.mut.619_Repair.clean.pdb                                 0.0   \n",
       "HM_2NYY.mut.620_Repair.clean.pdb                                 0.0   \n",
       "HM_2NZ9.mut.621_Repair.clean.pdb                                 1.0   \n",
       "HM_2NZ9.mut.622_Repair.clean.pdb                                 1.0   \n",
       "HM_2NZ9.mut.623_Repair.clean.pdb                                 1.0   \n",
       "HM_2NZ9.mut.624_Repair.clean.pdb                                 1.0   \n",
       "HM_2NZ9.mut.625_Repair.clean.pdb                                 1.0   \n",
       "HM_2NZ9.mut.626_Repair.clean.pdb                                 1.0   \n",
       "HM_2NZ9.mut.627_Repair.clean.pdb                                 1.0   \n",
       "HM_2NZ9.mut.628_Repair.clean.pdb                                 1.0   \n",
       "HM_2NZ9.mut.629_Repair.clean.pdb                                 1.0   \n",
       "HM_2NZ9.mut.630_Repair.clean.pdb                                 1.0   \n",
       "HM_2NZ9.mut.631_Repair.clean.pdb                                 1.0   \n",
       "HM_2NZ9.mut.632_Repair.clean.pdb                                 1.0   \n",
       "HM_2NZ9.mut.633_Repair.clean.pdb                                 1.0   \n",
       "HM_2NZ9.mut.634_Repair.clean.pdb                                 1.0   \n",
       "HM_2NZ9.mut.635_Repair.clean.pdb                                 1.0   \n",
       "HM_2NZ9.mut.636_Repair.clean.pdb                                 1.0   \n",
       "HM_3BN9.mut.637_Repair.clean.pdb                                 0.0   \n",
       "HM_3BN9.mut.638_Repair.clean.pdb                                 0.0   \n",
       "HM_3BN9.mut.639_Repair.clean.pdb                                 0.0   \n",
       "HM_3BN9.mut.640_Repair.clean.pdb                                 0.0   \n",
       "HM_3BN9.mut.641_Repair.clean.pdb                                 0.0   \n",
       "HM_3BN9.mut.642_Repair.clean.pdb                                 0.0   \n",
       "HM_3BN9.mut.643_Repair.clean.pdb                                 0.0   \n",
       "HM_3BN9.mut.644_Repair.clean.pdb                                 0.0   \n",
       "\n",
       "                                  interface_residues_bb_clashing_wt  ddG_exp  \n",
       "1AK4.mut.0_Repair.clean.pdb                                     0.0     2.49  \n",
       "1AK4.mut.1_Repair.clean.pdb                                     0.0     0.60  \n",
       "1AK4.mut.2_Repair.clean.pdb                                     0.0     0.41  \n",
       "1AK4.mut.3_Repair.clean.pdb                                     0.0     0.19  \n",
       "1AK4.mut.4_Repair.clean.pdb                                     0.0     1.91  \n",
       "1AK4.mut.5_Repair.clean.pdb                                     0.0     2.86  \n",
       "1AK4.mut.6_Repair.clean.pdb                                     0.0     0.84  \n",
       "1AK4.mut.7_Repair.clean.pdb                                     0.0     0.80  \n",
       "1AK4.mut.8_Repair.clean.pdb                                     0.0     1.48  \n",
       "1AK4.mut.9_Repair.clean.pdb                                     0.0     0.07  \n",
       "1AK4.mut.10_Repair.clean.pdb                                    0.0    -0.17  \n",
       "1AK4.mut.11_Repair.clean.pdb                                    0.0     0.92  \n",
       "1AK4.mut.12_Repair.clean.pdb                                    0.0     2.00  \n",
       "1AK4.mut.13_Repair.clean.pdb                                    0.0     2.86  \n",
       "1AK4.mut.14_Repair.clean.pdb                                    0.0     0.51  \n",
       "1AK4.mut.15_Repair.clean.pdb                                    0.0     0.82  \n",
       "1BJ1.mut.16_Repair.clean.pdb                                    0.0    -0.00  \n",
       "1BJ1.mut.17_Repair.clean.pdb                                    0.0    -0.00  \n",
       "1BJ1.mut.18_Repair.clean.pdb                                    0.0     0.82  \n",
       "1BJ1.mut.19_Repair.clean.pdb                                    0.0     2.76  \n",
       "1BJ1.mut.20_Repair.clean.pdb                                    0.0     3.69  \n",
       "1BJ1.mut.21_Repair.clean.pdb                                    0.0    -0.00  \n",
       "1BJ1.mut.22_Repair.clean.pdb                                    0.0    -0.00  \n",
       "1BJ1.mut.23_Repair.clean.pdb                                    0.0     0.82  \n",
       "1BJ1.mut.24_Repair.clean.pdb                                    0.0     3.69  \n",
       "1BJ1.mut.25_Repair.clean.pdb                                    0.0     0.41  \n",
       "1BJ1.mut.26_Repair.clean.pdb                                    0.0     0.41  \n",
       "1BJ1.mut.27_Repair.clean.pdb                                    0.0     0.65  \n",
       "1BJ1.mut.28_Repair.clean.pdb                                    0.0     3.69  \n",
       "1BJ1.mut.29_Repair.clean.pdb                                    0.0     1.42  \n",
       "...                                                             ...      ...  \n",
       "HM_2NYY.mut.615_Repair.clean.pdb                                0.0    -1.33  \n",
       "HM_2NYY.mut.616_Repair.clean.pdb                                0.0    -1.19  \n",
       "HM_2NYY.mut.617_Repair.clean.pdb                                0.0    -0.60  \n",
       "HM_2NYY.mut.618_Repair.clean.pdb                                0.0    -0.63  \n",
       "HM_2NYY.mut.619_Repair.clean.pdb                                0.0    -0.70  \n",
       "HM_2NYY.mut.620_Repair.clean.pdb                                0.0    -1.20  \n",
       "HM_2NZ9.mut.621_Repair.clean.pdb                                0.0     0.14  \n",
       "HM_2NZ9.mut.622_Repair.clean.pdb                                0.0     0.49  \n",
       "HM_2NZ9.mut.623_Repair.clean.pdb                                0.0    -0.50  \n",
       "HM_2NZ9.mut.624_Repair.clean.pdb                                0.0    -1.53  \n",
       "HM_2NZ9.mut.625_Repair.clean.pdb                                0.0    -0.95  \n",
       "HM_2NZ9.mut.626_Repair.clean.pdb                                0.0     0.31  \n",
       "HM_2NZ9.mut.627_Repair.clean.pdb                                0.0     0.50  \n",
       "HM_2NZ9.mut.628_Repair.clean.pdb                                0.0    -0.41  \n",
       "HM_2NZ9.mut.629_Repair.clean.pdb                                0.0    -0.30  \n",
       "HM_2NZ9.mut.630_Repair.clean.pdb                                0.0    -0.01  \n",
       "HM_2NZ9.mut.631_Repair.clean.pdb                                0.0    -0.24  \n",
       "HM_2NZ9.mut.632_Repair.clean.pdb                                0.0    -0.58  \n",
       "HM_2NZ9.mut.633_Repair.clean.pdb                                0.0    -4.44  \n",
       "HM_2NZ9.mut.634_Repair.clean.pdb                                0.0     0.02  \n",
       "HM_2NZ9.mut.635_Repair.clean.pdb                                0.0     0.66  \n",
       "HM_2NZ9.mut.636_Repair.clean.pdb                                0.0    -0.62  \n",
       "HM_3BN9.mut.637_Repair.clean.pdb                                0.0    -1.36  \n",
       "HM_3BN9.mut.638_Repair.clean.pdb                                0.0    -0.41  \n",
       "HM_3BN9.mut.639_Repair.clean.pdb                                0.0    -0.71  \n",
       "HM_3BN9.mut.640_Repair.clean.pdb                                0.0    -0.71  \n",
       "HM_3BN9.mut.641_Repair.clean.pdb                                0.0     0.24  \n",
       "HM_3BN9.mut.642_Repair.clean.pdb                                0.0     0.16  \n",
       "HM_3BN9.mut.643_Repair.clean.pdb                                0.0     1.57  \n",
       "HM_3BN9.mut.644_Repair.clean.pdb                                0.0    -0.54  \n",
       "\n",
       "[645 rows x 73 columns]"
      ]
     },
     "execution_count": 86,
     "metadata": {},
     "output_type": "execute_result"
    }
   ],
   "source": [
    "DF_contact_energy"
   ]
  },
  {
   "cell_type": "code",
   "execution_count": 153,
   "metadata": {
    "scrolled": true
   },
   "outputs": [
    {
     "data": {
      "text/plain": [
       "array([[1.        , 0.26469053],\n",
       "       [0.26469053, 1.        ]])"
      ]
     },
     "execution_count": 153,
     "metadata": {},
     "output_type": "execute_result"
    }
   ],
   "source": [
    "np.corrcoef(DF_energetic_changes.dg_change,-ab_bind_mCSM_HM[\"ddG(kcal/mol)\"])"
   ]
  },
  {
   "cell_type": "code",
   "execution_count": 144,
   "metadata": {},
   "outputs": [
    {
     "data": {
      "text/plain": [
       "<matplotlib.axes._subplots.AxesSubplot at 0x123beadd8>"
      ]
     },
     "execution_count": 144,
     "metadata": {},
     "output_type": "execute_result"
    },
    {
     "data": {
      "image/png": "[encoded data removed]",
      "text/plain": [
       "<Figure size 432x288 with 1 Axes>"
      ]
     },
     "metadata": {},
     "output_type": "display_data"
    }
   ],
   "source": [
    "%matplotlib inline\n",
    "(-ab_bind_mCSM_HM[\"ddG(kcal/mol)\"]).hist()"
   ]
  }
 ],
 "metadata": {
  "kernelspec": {
   "display_name": "Python 3",
   "language": "python",
   "name": "python3"
  },
  "language_info": {
   "codemirror_mode": {
    "name": "ipython",
    "version": 3
   },
   "file_extension": ".py",
   "mimetype": "text/x-python",
   "name": "python",
   "nbconvert_exporter": "python",
   "pygments_lexer": "ipython3",
   "version": "3.6.7"
  }
 },
 "nbformat": 4,
 "nbformat_minor": 2
}
