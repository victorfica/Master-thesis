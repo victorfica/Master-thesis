{
 "cells": [
  {
   "cell_type": "code",
   "execution_count": 10,
   "metadata": {
    "collapsed": true
   },
   "outputs": [],
   "source": [
    "import pandas as pd\n",
    "from pathlib import Path\n",
    "\n",
    "from sklearn.ensemble import RandomForestRegressor\n",
    "import matplotlib.pyplot as plt\n",
    "import seaborn as sns\n",
    "import numpy as np\n",
    "from sklearn.model_selection import learning_curve,RepeatedKFold\n",
    "from sklearn.decomposition import PCA\n",
    "from sklearn.preprocessing import StandardScaler,MinMaxScaler\n",
    "\n",
    "from sklearn.pipeline import make_pipeline\n",
    "from yellowbrick.model_selection import LearningCurve\n",
    "from yellowbrick.regressor import ResidualsPlot\n",
    "from yellowbrick.regressor import PredictionError\n",
    "from sklearn.metrics import mean_squared_error,mean_absolute_error,r2_score\n",
    "from sklearn import metrics\n",
    "from sklearn.externals import joblib\n",
    "from sklearn.feature_selection import VarianceThreshold\n",
    "from sklearn.model_selection import GridSearchCV, KFold\n",
    "from sklearn.model_selection import train_test_split\n",
    "from sklearn.model_selection import cross_val_score\n",
    "\n",
    "from imblearn import over_sampling as ovs\n",
    "from sklearn.compose import TransformedTargetRegressor\n",
    "from sklearn.preprocessing import QuantileTransformer,quantile_transform,PowerTransformer\n",
    "\n",
    "%matplotlib inline"
   ]
  },
  {
   "cell_type": "code",
   "execution_count": 2,
   "metadata": {
    "collapsed": true
   },
   "outputs": [],
   "source": [
    "sns.set_context(context=\"paper\")\n",
    "def learn_curves(estimator, features, target, cv):\n",
    "    train_sizes, train_scores, validation_scores = learning_curve(\n",
    "                                                 estimator, features, target,train_sizes = np.linspace(.1, 1.0, 10),\n",
    "                                                 cv = cv, scoring = 'r2',n_jobs=-1)\n",
    "    train_scores_mean = train_scores.mean(axis = 1)\n",
    "    validation_scores_mean = validation_scores.mean(axis = 1)\n",
    "    \n",
    "    plt.plot(train_sizes, np.sqrt(train_scores_mean), label = 'Training error')\n",
    "    plt.plot(train_sizes, np.sqrt(validation_scores_mean), label = 'Validation error')\n",
    "\n",
    "    plt.ylabel('R2', fontsize = 14)\n",
    "    plt.xlabel('Training set size', fontsize = 14)\n",
    "    title = 'Learning curve'\n",
    "    plt.title(title, fontsize = 18, y = 1.03)\n",
    "    plt.legend()\n",
    "    plt.ylim(-1,3)"
   ]
  },
  {
   "cell_type": "code",
   "execution_count": 3,
   "metadata": {
    "collapsed": true
   },
   "outputs": [],
   "source": [
    "\n",
    "#dataframe final\n",
    "df_final = pd.read_csv(\"../data/DF_contact400_energy_sasa.Zero.csv\",index_col=0)\n",
    "\n",
    "index_ddg8 = (df_final['ddG_exp']>6.3)\n",
    "df_final = df_final.loc[-index_ddg8]\n",
    "#testiar eliminando estructuras con ddg menor o igual a -4 kcal/mol , outliers\n",
    "index_ddg_4 =  (df_final['ddG_exp'] <= -4)\n",
    "df_final = df_final.loc[-index_ddg_4]\n",
    "\n",
    "\n",
    "pdb_names = df_final.index\n",
    "features_names = df_final.drop('ddG_exp',axis=1).columns\n"
   ]
  },
  {
   "cell_type": "code",
   "execution_count": 4,
   "metadata": {
    "collapsed": true
   },
   "outputs": [],
   "source": [
    "import math\n",
    "def deltaG_to_Kd(delg):\n",
    "    Kd_value = math.exp((delg*1000)/(1.98*298.15))\n",
    "    return Kd_value"
   ]
  },
  {
   "cell_type": "code",
   "execution_count": 5,
   "metadata": {
    "collapsed": true
   },
   "outputs": [],
   "source": [
    "#X = df_final_f1 # con filtrado de varianza\n",
    "X = df_final.drop('ddG_exp',axis=1).astype(float)\n",
    "y = df_final['ddG_exp']"
   ]
  },
  {
   "cell_type": "code",
   "execution_count": 6,
   "metadata": {
    "collapsed": true
   },
   "outputs": [],
   "source": [
    "# binned split\n",
    "bins = np.linspace(0, len(X), 50)\n",
    "y_binned = np.digitize(y, bins)\n",
    "X_train, X_test, y_train, y_test = train_test_split(X, y, test_size=0.2, stratify=y_binned,random_state=1)                                                    "
   ]
  },
  {
   "cell_type": "code",
   "execution_count": 7,
   "metadata": {},
   "outputs": [
    {
     "data": {
      "text/plain": [
       "<matplotlib.axes._subplots.AxesSubplot at 0x7f32e43b00b8>"
      ]
     },
     "execution_count": 7,
     "metadata": {},
     "output_type": "execute_result"
    },
    {
     "name": "stderr",
     "output_type": "stream",
     "text": [
      "/home/vilion/miniconda3/envs/bio/lib/python3.6/site-packages/matplotlib/font_manager.py:1241: UserWarning: findfont: Font family ['sans-serif'] not found. Falling back to DejaVu Sans.\n",
      "  (prop.get_family(), self.defaultFamily[fontext]))\n",
      "/home/vilion/miniconda3/envs/bio/lib/python3.6/site-packages/matplotlib/font_manager.py:1241: UserWarning: findfont: Font family ['sans-serif'] not found. Falling back to DejaVu Sans.\n",
      "  (prop.get_family(), self.defaultFamily[fontext]))\n"
     ]
    },
    {
     "data": {
      "image/png": "[encoded data removed]",
      "text/plain": [
       "<Figure size 432x288 with 1 Axes>"
      ]
     },
     "metadata": {
      "needs_background": "light"
     },
     "output_type": "display_data"
    }
   ],
   "source": [
    "sns.distplot( y_test , color=\"red\", label=\"ddG_exp_test\")\n",
    "sns.distplot( y_train , color=\"skyblue\", label=\"ddG_exp_train\")"
   ]
  },
  {
   "cell_type": "code",
   "execution_count": 139,
   "metadata": {},
   "outputs": [
    {
     "ename": "SyntaxError",
     "evalue": "invalid syntax (<ipython-input-139-3be8a706e74a>, line 1)",
     "output_type": "error",
     "traceback": [
      "\u001b[0;36m  File \u001b[0;32m\"<ipython-input-139-3be8a706e74a>\"\u001b[0;36m, line \u001b[0;32m1\u001b[0m\n\u001b[0;31m    max_depth 1 - 2, maxleafnodes 2-7-12, min_samples_spli 200-205,min_samples_leaf 20-40, max features 21 -37\u001b[0m\n\u001b[0m              ^\u001b[0m\n\u001b[0;31mSyntaxError\u001b[0m\u001b[0;31m:\u001b[0m invalid syntax\n"
     ]
    }
   ],
   "source": [
    "max_depth 1 - 2, maxleafnodes 2-7-12, min_samples_spli 200-205,min_samples_leaf 20-40, max features 21 -37"
   ]
  },
  {
   "cell_type": "code",
   "execution_count": 45,
   "metadata": {
    "collapsed": true
   },
   "outputs": [],
   "source": [
    "RandomForestRegressor?"
   ]
  },
  {
   "cell_type": "code",
   "execution_count": 19,
   "metadata": {},
   "outputs": [
    {
     "name": "stderr",
     "output_type": "stream",
     "text": [
      "/home/vilion/miniconda3/envs/bio/lib/python3.6/site-packages/sklearn/ensemble/forest.py:246: FutureWarning: The default value of n_estimators will change from 10 in version 0.20 to 100 in 0.22.\n",
      "  \"10 in version 0.20 to 100 in 0.22.\", FutureWarning)\n",
      "/home/vilion/miniconda3/envs/bio/lib/python3.6/site-packages/sklearn/ensemble/forest.py:246: FutureWarning: The default value of n_estimators will change from 10 in version 0.20 to 100 in 0.22.\n",
      "  \"10 in version 0.20 to 100 in 0.22.\", FutureWarning)\n",
      "/home/vilion/miniconda3/envs/bio/lib/python3.6/site-packages/sklearn/ensemble/forest.py:246: FutureWarning: The default value of n_estimators will change from 10 in version 0.20 to 100 in 0.22.\n",
      "  \"10 in version 0.20 to 100 in 0.22.\", FutureWarning)\n",
      "/home/vilion/miniconda3/envs/bio/lib/python3.6/site-packages/sklearn/ensemble/forest.py:246: FutureWarning: The default value of n_estimators will change from 10 in version 0.20 to 100 in 0.22.\n",
      "  \"10 in version 0.20 to 100 in 0.22.\", FutureWarning)\n",
      "/home/vilion/miniconda3/envs/bio/lib/python3.6/site-packages/sklearn/ensemble/forest.py:246: FutureWarning: The default value of n_estimators will change from 10 in version 0.20 to 100 in 0.22.\n",
      "  \"10 in version 0.20 to 100 in 0.22.\", FutureWarning)\n",
      "/home/vilion/miniconda3/envs/bio/lib/python3.6/site-packages/sklearn/ensemble/forest.py:246: FutureWarning: The default value of n_estimators will change from 10 in version 0.20 to 100 in 0.22.\n",
      "  \"10 in version 0.20 to 100 in 0.22.\", FutureWarning)\n",
      "/home/vilion/miniconda3/envs/bio/lib/python3.6/site-packages/sklearn/ensemble/forest.py:246: FutureWarning: The default value of n_estimators will change from 10 in version 0.20 to 100 in 0.22.\n",
      "  \"10 in version 0.20 to 100 in 0.22.\", FutureWarning)\n",
      "/home/vilion/miniconda3/envs/bio/lib/python3.6/site-packages/sklearn/ensemble/forest.py:246: FutureWarning: The default value of n_estimators will change from 10 in version 0.20 to 100 in 0.22.\n",
      "  \"10 in version 0.20 to 100 in 0.22.\", FutureWarning)\n",
      "/home/vilion/miniconda3/envs/bio/lib/python3.6/site-packages/sklearn/ensemble/forest.py:246: FutureWarning: The default value of n_estimators will change from 10 in version 0.20 to 100 in 0.22.\n",
      "  \"10 in version 0.20 to 100 in 0.22.\", FutureWarning)\n",
      "/home/vilion/miniconda3/envs/bio/lib/python3.6/site-packages/sklearn/ensemble/forest.py:246: FutureWarning: The default value of n_estimators will change from 10 in version 0.20 to 100 in 0.22.\n",
      "  \"10 in version 0.20 to 100 in 0.22.\", FutureWarning)\n",
      "/home/vilion/miniconda3/envs/bio/lib/python3.6/site-packages/sklearn/ensemble/forest.py:246: FutureWarning: The default value of n_estimators will change from 10 in version 0.20 to 100 in 0.22.\n",
      "  \"10 in version 0.20 to 100 in 0.22.\", FutureWarning)\n",
      "/home/vilion/miniconda3/envs/bio/lib/python3.6/site-packages/sklearn/ensemble/forest.py:246: FutureWarning: The default value of n_estimators will change from 10 in version 0.20 to 100 in 0.22.\n",
      "  \"10 in version 0.20 to 100 in 0.22.\", FutureWarning)\n",
      "/home/vilion/miniconda3/envs/bio/lib/python3.6/site-packages/sklearn/ensemble/forest.py:246: FutureWarning: The default value of n_estimators will change from 10 in version 0.20 to 100 in 0.22.\n",
      "  \"10 in version 0.20 to 100 in 0.22.\", FutureWarning)\n",
      "/home/vilion/miniconda3/envs/bio/lib/python3.6/site-packages/sklearn/ensemble/forest.py:246: FutureWarning: The default value of n_estimators will change from 10 in version 0.20 to 100 in 0.22.\n",
      "  \"10 in version 0.20 to 100 in 0.22.\", FutureWarning)\n",
      "/home/vilion/miniconda3/envs/bio/lib/python3.6/site-packages/sklearn/ensemble/forest.py:246: FutureWarning: The default value of n_estimators will change from 10 in version 0.20 to 100 in 0.22.\n",
      "  \"10 in version 0.20 to 100 in 0.22.\", FutureWarning)\n",
      "/home/vilion/miniconda3/envs/bio/lib/python3.6/site-packages/sklearn/ensemble/forest.py:246: FutureWarning: The default value of n_estimators will change from 10 in version 0.20 to 100 in 0.22.\n",
      "  \"10 in version 0.20 to 100 in 0.22.\", FutureWarning)\n",
      "/home/vilion/miniconda3/envs/bio/lib/python3.6/site-packages/sklearn/ensemble/forest.py:246: FutureWarning: The default value of n_estimators will change from 10 in version 0.20 to 100 in 0.22.\n",
      "  \"10 in version 0.20 to 100 in 0.22.\", FutureWarning)\n",
      "/home/vilion/miniconda3/envs/bio/lib/python3.6/site-packages/sklearn/ensemble/forest.py:246: FutureWarning: The default value of n_estimators will change from 10 in version 0.20 to 100 in 0.22.\n",
      "  \"10 in version 0.20 to 100 in 0.22.\", FutureWarning)\n",
      "/home/vilion/miniconda3/envs/bio/lib/python3.6/site-packages/sklearn/ensemble/forest.py:246: FutureWarning: The default value of n_estimators will change from 10 in version 0.20 to 100 in 0.22.\n",
      "  \"10 in version 0.20 to 100 in 0.22.\", FutureWarning)\n",
      "/home/vilion/miniconda3/envs/bio/lib/python3.6/site-packages/sklearn/ensemble/forest.py:246: FutureWarning: The default value of n_estimators will change from 10 in version 0.20 to 100 in 0.22.\n",
      "  \"10 in version 0.20 to 100 in 0.22.\", FutureWarning)\n",
      "/home/vilion/miniconda3/envs/bio/lib/python3.6/site-packages/sklearn/ensemble/forest.py:246: FutureWarning: The default value of n_estimators will change from 10 in version 0.20 to 100 in 0.22.\n",
      "  \"10 in version 0.20 to 100 in 0.22.\", FutureWarning)\n",
      "/home/vilion/miniconda3/envs/bio/lib/python3.6/site-packages/sklearn/ensemble/forest.py:246: FutureWarning: The default value of n_estimators will change from 10 in version 0.20 to 100 in 0.22.\n",
      "  \"10 in version 0.20 to 100 in 0.22.\", FutureWarning)\n",
      "/home/vilion/miniconda3/envs/bio/lib/python3.6/site-packages/sklearn/ensemble/forest.py:246: FutureWarning: The default value of n_estimators will change from 10 in version 0.20 to 100 in 0.22.\n",
      "  \"10 in version 0.20 to 100 in 0.22.\", FutureWarning)\n",
      "/home/vilion/miniconda3/envs/bio/lib/python3.6/site-packages/sklearn/ensemble/forest.py:246: FutureWarning: The default value of n_estimators will change from 10 in version 0.20 to 100 in 0.22.\n",
      "  \"10 in version 0.20 to 100 in 0.22.\", FutureWarning)\n",
      "/home/vilion/miniconda3/envs/bio/lib/python3.6/site-packages/sklearn/ensemble/forest.py:246: FutureWarning: The default value of n_estimators will change from 10 in version 0.20 to 100 in 0.22.\n",
      "  \"10 in version 0.20 to 100 in 0.22.\", FutureWarning)\n",
      "/home/vilion/miniconda3/envs/bio/lib/python3.6/site-packages/sklearn/ensemble/forest.py:246: FutureWarning: The default value of n_estimators will change from 10 in version 0.20 to 100 in 0.22.\n",
      "  \"10 in version 0.20 to 100 in 0.22.\", FutureWarning)\n",
      "/home/vilion/miniconda3/envs/bio/lib/python3.6/site-packages/sklearn/ensemble/forest.py:246: FutureWarning: The default value of n_estimators will change from 10 in version 0.20 to 100 in 0.22.\n",
      "  \"10 in version 0.20 to 100 in 0.22.\", FutureWarning)\n",
      "/home/vilion/miniconda3/envs/bio/lib/python3.6/site-packages/sklearn/ensemble/forest.py:246: FutureWarning: The default value of n_estimators will change from 10 in version 0.20 to 100 in 0.22.\n",
      "  \"10 in version 0.20 to 100 in 0.22.\", FutureWarning)\n",
      "/home/vilion/miniconda3/envs/bio/lib/python3.6/site-packages/sklearn/ensemble/forest.py:246: FutureWarning: The default value of n_estimators will change from 10 in version 0.20 to 100 in 0.22.\n",
      "  \"10 in version 0.20 to 100 in 0.22.\", FutureWarning)\n",
      "/home/vilion/miniconda3/envs/bio/lib/python3.6/site-packages/sklearn/ensemble/forest.py:246: FutureWarning: The default value of n_estimators will change from 10 in version 0.20 to 100 in 0.22.\n",
      "  \"10 in version 0.20 to 100 in 0.22.\", FutureWarning)\n",
      "/home/vilion/miniconda3/envs/bio/lib/python3.6/site-packages/sklearn/ensemble/forest.py:246: FutureWarning: The default value of n_estimators will change from 10 in version 0.20 to 100 in 0.22.\n",
      "  \"10 in version 0.20 to 100 in 0.22.\", FutureWarning)\n",
      "/home/vilion/miniconda3/envs/bio/lib/python3.6/site-packages/sklearn/ensemble/forest.py:246: FutureWarning: The default value of n_estimators will change from 10 in version 0.20 to 100 in 0.22.\n",
      "  \"10 in version 0.20 to 100 in 0.22.\", FutureWarning)\n",
      "/home/vilion/miniconda3/envs/bio/lib/python3.6/site-packages/sklearn/ensemble/forest.py:246: FutureWarning: The default value of n_estimators will change from 10 in version 0.20 to 100 in 0.22.\n",
      "  \"10 in version 0.20 to 100 in 0.22.\", FutureWarning)\n",
      "/home/vilion/miniconda3/envs/bio/lib/python3.6/site-packages/sklearn/ensemble/forest.py:246: FutureWarning: The default value of n_estimators will change from 10 in version 0.20 to 100 in 0.22.\n",
      "  \"10 in version 0.20 to 100 in 0.22.\", FutureWarning)\n"
     ]
    },
    {
     "name": "stderr",
     "output_type": "stream",
     "text": [
      "/home/vilion/miniconda3/envs/bio/lib/python3.6/site-packages/sklearn/ensemble/forest.py:246: FutureWarning: The default value of n_estimators will change from 10 in version 0.20 to 100 in 0.22.\n",
      "  \"10 in version 0.20 to 100 in 0.22.\", FutureWarning)\n",
      "/home/vilion/miniconda3/envs/bio/lib/python3.6/site-packages/sklearn/ensemble/forest.py:246: FutureWarning: The default value of n_estimators will change from 10 in version 0.20 to 100 in 0.22.\n",
      "  \"10 in version 0.20 to 100 in 0.22.\", FutureWarning)\n",
      "/home/vilion/miniconda3/envs/bio/lib/python3.6/site-packages/sklearn/ensemble/forest.py:246: FutureWarning: The default value of n_estimators will change from 10 in version 0.20 to 100 in 0.22.\n",
      "  \"10 in version 0.20 to 100 in 0.22.\", FutureWarning)\n",
      "/home/vilion/miniconda3/envs/bio/lib/python3.6/site-packages/sklearn/ensemble/forest.py:246: FutureWarning: The default value of n_estimators will change from 10 in version 0.20 to 100 in 0.22.\n",
      "  \"10 in version 0.20 to 100 in 0.22.\", FutureWarning)\n",
      "/home/vilion/miniconda3/envs/bio/lib/python3.6/site-packages/sklearn/ensemble/forest.py:246: FutureWarning: The default value of n_estimators will change from 10 in version 0.20 to 100 in 0.22.\n",
      "  \"10 in version 0.20 to 100 in 0.22.\", FutureWarning)\n",
      "/home/vilion/miniconda3/envs/bio/lib/python3.6/site-packages/sklearn/ensemble/forest.py:246: FutureWarning: The default value of n_estimators will change from 10 in version 0.20 to 100 in 0.22.\n",
      "  \"10 in version 0.20 to 100 in 0.22.\", FutureWarning)\n",
      "/home/vilion/miniconda3/envs/bio/lib/python3.6/site-packages/sklearn/ensemble/forest.py:246: FutureWarning: The default value of n_estimators will change from 10 in version 0.20 to 100 in 0.22.\n",
      "  \"10 in version 0.20 to 100 in 0.22.\", FutureWarning)\n",
      "/home/vilion/miniconda3/envs/bio/lib/python3.6/site-packages/sklearn/ensemble/forest.py:246: FutureWarning: The default value of n_estimators will change from 10 in version 0.20 to 100 in 0.22.\n",
      "  \"10 in version 0.20 to 100 in 0.22.\", FutureWarning)\n",
      "/home/vilion/miniconda3/envs/bio/lib/python3.6/site-packages/sklearn/ensemble/forest.py:246: FutureWarning: The default value of n_estimators will change from 10 in version 0.20 to 100 in 0.22.\n",
      "  \"10 in version 0.20 to 100 in 0.22.\", FutureWarning)\n",
      "/home/vilion/miniconda3/envs/bio/lib/python3.6/site-packages/sklearn/ensemble/forest.py:246: FutureWarning: The default value of n_estimators will change from 10 in version 0.20 to 100 in 0.22.\n",
      "  \"10 in version 0.20 to 100 in 0.22.\", FutureWarning)\n",
      "/home/vilion/miniconda3/envs/bio/lib/python3.6/site-packages/sklearn/ensemble/forest.py:246: FutureWarning: The default value of n_estimators will change from 10 in version 0.20 to 100 in 0.22.\n",
      "  \"10 in version 0.20 to 100 in 0.22.\", FutureWarning)\n",
      "/home/vilion/miniconda3/envs/bio/lib/python3.6/site-packages/sklearn/ensemble/forest.py:246: FutureWarning: The default value of n_estimators will change from 10 in version 0.20 to 100 in 0.22.\n",
      "  \"10 in version 0.20 to 100 in 0.22.\", FutureWarning)\n",
      "/home/vilion/miniconda3/envs/bio/lib/python3.6/site-packages/sklearn/ensemble/forest.py:246: FutureWarning: The default value of n_estimators will change from 10 in version 0.20 to 100 in 0.22.\n",
      "  \"10 in version 0.20 to 100 in 0.22.\", FutureWarning)\n",
      "/home/vilion/miniconda3/envs/bio/lib/python3.6/site-packages/sklearn/ensemble/forest.py:246: FutureWarning: The default value of n_estimators will change from 10 in version 0.20 to 100 in 0.22.\n",
      "  \"10 in version 0.20 to 100 in 0.22.\", FutureWarning)\n",
      "/home/vilion/miniconda3/envs/bio/lib/python3.6/site-packages/sklearn/ensemble/forest.py:246: FutureWarning: The default value of n_estimators will change from 10 in version 0.20 to 100 in 0.22.\n",
      "  \"10 in version 0.20 to 100 in 0.22.\", FutureWarning)\n",
      "/home/vilion/miniconda3/envs/bio/lib/python3.6/site-packages/sklearn/ensemble/forest.py:246: FutureWarning: The default value of n_estimators will change from 10 in version 0.20 to 100 in 0.22.\n",
      "  \"10 in version 0.20 to 100 in 0.22.\", FutureWarning)\n",
      "/home/vilion/miniconda3/envs/bio/lib/python3.6/site-packages/sklearn/ensemble/forest.py:246: FutureWarning: The default value of n_estimators will change from 10 in version 0.20 to 100 in 0.22.\n",
      "  \"10 in version 0.20 to 100 in 0.22.\", FutureWarning)\n",
      "/home/vilion/miniconda3/envs/bio/lib/python3.6/site-packages/sklearn/ensemble/forest.py:246: FutureWarning: The default value of n_estimators will change from 10 in version 0.20 to 100 in 0.22.\n",
      "  \"10 in version 0.20 to 100 in 0.22.\", FutureWarning)\n",
      "/home/vilion/miniconda3/envs/bio/lib/python3.6/site-packages/sklearn/ensemble/forest.py:246: FutureWarning: The default value of n_estimators will change from 10 in version 0.20 to 100 in 0.22.\n",
      "  \"10 in version 0.20 to 100 in 0.22.\", FutureWarning)\n",
      "/home/vilion/miniconda3/envs/bio/lib/python3.6/site-packages/sklearn/ensemble/forest.py:246: FutureWarning: The default value of n_estimators will change from 10 in version 0.20 to 100 in 0.22.\n",
      "  \"10 in version 0.20 to 100 in 0.22.\", FutureWarning)\n",
      "/home/vilion/miniconda3/envs/bio/lib/python3.6/site-packages/sklearn/ensemble/forest.py:246: FutureWarning: The default value of n_estimators will change from 10 in version 0.20 to 100 in 0.22.\n",
      "  \"10 in version 0.20 to 100 in 0.22.\", FutureWarning)\n",
      "/home/vilion/miniconda3/envs/bio/lib/python3.6/site-packages/sklearn/ensemble/forest.py:246: FutureWarning: The default value of n_estimators will change from 10 in version 0.20 to 100 in 0.22.\n",
      "  \"10 in version 0.20 to 100 in 0.22.\", FutureWarning)\n",
      "/home/vilion/miniconda3/envs/bio/lib/python3.6/site-packages/sklearn/ensemble/forest.py:246: FutureWarning: The default value of n_estimators will change from 10 in version 0.20 to 100 in 0.22.\n",
      "  \"10 in version 0.20 to 100 in 0.22.\", FutureWarning)\n",
      "/home/vilion/miniconda3/envs/bio/lib/python3.6/site-packages/sklearn/ensemble/forest.py:246: FutureWarning: The default value of n_estimators will change from 10 in version 0.20 to 100 in 0.22.\n",
      "  \"10 in version 0.20 to 100 in 0.22.\", FutureWarning)\n",
      "/home/vilion/miniconda3/envs/bio/lib/python3.6/site-packages/sklearn/ensemble/forest.py:246: FutureWarning: The default value of n_estimators will change from 10 in version 0.20 to 100 in 0.22.\n",
      "  \"10 in version 0.20 to 100 in 0.22.\", FutureWarning)\n",
      "/home/vilion/miniconda3/envs/bio/lib/python3.6/site-packages/sklearn/ensemble/forest.py:246: FutureWarning: The default value of n_estimators will change from 10 in version 0.20 to 100 in 0.22.\n",
      "  \"10 in version 0.20 to 100 in 0.22.\", FutureWarning)\n",
      "/home/vilion/miniconda3/envs/bio/lib/python3.6/site-packages/sklearn/ensemble/forest.py:246: FutureWarning: The default value of n_estimators will change from 10 in version 0.20 to 100 in 0.22.\n",
      "  \"10 in version 0.20 to 100 in 0.22.\", FutureWarning)\n",
      "/home/vilion/miniconda3/envs/bio/lib/python3.6/site-packages/sklearn/ensemble/forest.py:246: FutureWarning: The default value of n_estimators will change from 10 in version 0.20 to 100 in 0.22.\n",
      "  \"10 in version 0.20 to 100 in 0.22.\", FutureWarning)\n",
      "/home/vilion/miniconda3/envs/bio/lib/python3.6/site-packages/sklearn/ensemble/forest.py:246: FutureWarning: The default value of n_estimators will change from 10 in version 0.20 to 100 in 0.22.\n",
      "  \"10 in version 0.20 to 100 in 0.22.\", FutureWarning)\n",
      "/home/vilion/miniconda3/envs/bio/lib/python3.6/site-packages/sklearn/ensemble/forest.py:246: FutureWarning: The default value of n_estimators will change from 10 in version 0.20 to 100 in 0.22.\n",
      "  \"10 in version 0.20 to 100 in 0.22.\", FutureWarning)\n",
      "/home/vilion/miniconda3/envs/bio/lib/python3.6/site-packages/sklearn/ensemble/forest.py:246: FutureWarning: The default value of n_estimators will change from 10 in version 0.20 to 100 in 0.22.\n",
      "  \"10 in version 0.20 to 100 in 0.22.\", FutureWarning)\n",
      "/home/vilion/miniconda3/envs/bio/lib/python3.6/site-packages/sklearn/ensemble/forest.py:246: FutureWarning: The default value of n_estimators will change from 10 in version 0.20 to 100 in 0.22.\n",
      "  \"10 in version 0.20 to 100 in 0.22.\", FutureWarning)\n",
      "/home/vilion/miniconda3/envs/bio/lib/python3.6/site-packages/sklearn/ensemble/forest.py:246: FutureWarning: The default value of n_estimators will change from 10 in version 0.20 to 100 in 0.22.\n",
      "  \"10 in version 0.20 to 100 in 0.22.\", FutureWarning)\n"
     ]
    },
    {
     "name": "stderr",
     "output_type": "stream",
     "text": [
      "/home/vilion/miniconda3/envs/bio/lib/python3.6/site-packages/sklearn/ensemble/forest.py:246: FutureWarning: The default value of n_estimators will change from 10 in version 0.20 to 100 in 0.22.\n",
      "  \"10 in version 0.20 to 100 in 0.22.\", FutureWarning)\n",
      "/home/vilion/miniconda3/envs/bio/lib/python3.6/site-packages/sklearn/ensemble/forest.py:246: FutureWarning: The default value of n_estimators will change from 10 in version 0.20 to 100 in 0.22.\n",
      "  \"10 in version 0.20 to 100 in 0.22.\", FutureWarning)\n",
      "/home/vilion/miniconda3/envs/bio/lib/python3.6/site-packages/sklearn/ensemble/forest.py:246: FutureWarning: The default value of n_estimators will change from 10 in version 0.20 to 100 in 0.22.\n",
      "  \"10 in version 0.20 to 100 in 0.22.\", FutureWarning)\n",
      "/home/vilion/miniconda3/envs/bio/lib/python3.6/site-packages/sklearn/ensemble/forest.py:246: FutureWarning: The default value of n_estimators will change from 10 in version 0.20 to 100 in 0.22.\n",
      "  \"10 in version 0.20 to 100 in 0.22.\", FutureWarning)\n",
      "/home/vilion/miniconda3/envs/bio/lib/python3.6/site-packages/sklearn/ensemble/forest.py:246: FutureWarning: The default value of n_estimators will change from 10 in version 0.20 to 100 in 0.22.\n",
      "  \"10 in version 0.20 to 100 in 0.22.\", FutureWarning)\n",
      "/home/vilion/miniconda3/envs/bio/lib/python3.6/site-packages/sklearn/ensemble/forest.py:246: FutureWarning: The default value of n_estimators will change from 10 in version 0.20 to 100 in 0.22.\n",
      "  \"10 in version 0.20 to 100 in 0.22.\", FutureWarning)\n",
      "/home/vilion/miniconda3/envs/bio/lib/python3.6/site-packages/sklearn/ensemble/forest.py:246: FutureWarning: The default value of n_estimators will change from 10 in version 0.20 to 100 in 0.22.\n",
      "  \"10 in version 0.20 to 100 in 0.22.\", FutureWarning)\n",
      "/home/vilion/miniconda3/envs/bio/lib/python3.6/site-packages/sklearn/ensemble/forest.py:246: FutureWarning: The default value of n_estimators will change from 10 in version 0.20 to 100 in 0.22.\n",
      "  \"10 in version 0.20 to 100 in 0.22.\", FutureWarning)\n",
      "/home/vilion/miniconda3/envs/bio/lib/python3.6/site-packages/sklearn/ensemble/forest.py:246: FutureWarning: The default value of n_estimators will change from 10 in version 0.20 to 100 in 0.22.\n",
      "  \"10 in version 0.20 to 100 in 0.22.\", FutureWarning)\n",
      "/home/vilion/miniconda3/envs/bio/lib/python3.6/site-packages/sklearn/ensemble/forest.py:246: FutureWarning: The default value of n_estimators will change from 10 in version 0.20 to 100 in 0.22.\n",
      "  \"10 in version 0.20 to 100 in 0.22.\", FutureWarning)\n",
      "/home/vilion/miniconda3/envs/bio/lib/python3.6/site-packages/sklearn/ensemble/forest.py:246: FutureWarning: The default value of n_estimators will change from 10 in version 0.20 to 100 in 0.22.\n",
      "  \"10 in version 0.20 to 100 in 0.22.\", FutureWarning)\n",
      "/home/vilion/miniconda3/envs/bio/lib/python3.6/site-packages/sklearn/ensemble/forest.py:246: FutureWarning: The default value of n_estimators will change from 10 in version 0.20 to 100 in 0.22.\n",
      "  \"10 in version 0.20 to 100 in 0.22.\", FutureWarning)\n",
      "/home/vilion/miniconda3/envs/bio/lib/python3.6/site-packages/sklearn/ensemble/forest.py:246: FutureWarning: The default value of n_estimators will change from 10 in version 0.20 to 100 in 0.22.\n",
      "  \"10 in version 0.20 to 100 in 0.22.\", FutureWarning)\n",
      "/home/vilion/miniconda3/envs/bio/lib/python3.6/site-packages/sklearn/ensemble/forest.py:246: FutureWarning: The default value of n_estimators will change from 10 in version 0.20 to 100 in 0.22.\n",
      "  \"10 in version 0.20 to 100 in 0.22.\", FutureWarning)\n",
      "/home/vilion/miniconda3/envs/bio/lib/python3.6/site-packages/sklearn/ensemble/forest.py:246: FutureWarning: The default value of n_estimators will change from 10 in version 0.20 to 100 in 0.22.\n",
      "  \"10 in version 0.20 to 100 in 0.22.\", FutureWarning)\n",
      "/home/vilion/miniconda3/envs/bio/lib/python3.6/site-packages/sklearn/ensemble/forest.py:246: FutureWarning: The default value of n_estimators will change from 10 in version 0.20 to 100 in 0.22.\n",
      "  \"10 in version 0.20 to 100 in 0.22.\", FutureWarning)\n",
      "/home/vilion/miniconda3/envs/bio/lib/python3.6/site-packages/sklearn/ensemble/forest.py:246: FutureWarning: The default value of n_estimators will change from 10 in version 0.20 to 100 in 0.22.\n",
      "  \"10 in version 0.20 to 100 in 0.22.\", FutureWarning)\n",
      "/home/vilion/miniconda3/envs/bio/lib/python3.6/site-packages/sklearn/ensemble/forest.py:246: FutureWarning: The default value of n_estimators will change from 10 in version 0.20 to 100 in 0.22.\n",
      "  \"10 in version 0.20 to 100 in 0.22.\", FutureWarning)\n",
      "/home/vilion/miniconda3/envs/bio/lib/python3.6/site-packages/sklearn/ensemble/forest.py:246: FutureWarning: The default value of n_estimators will change from 10 in version 0.20 to 100 in 0.22.\n",
      "  \"10 in version 0.20 to 100 in 0.22.\", FutureWarning)\n",
      "/home/vilion/miniconda3/envs/bio/lib/python3.6/site-packages/sklearn/ensemble/forest.py:246: FutureWarning: The default value of n_estimators will change from 10 in version 0.20 to 100 in 0.22.\n",
      "  \"10 in version 0.20 to 100 in 0.22.\", FutureWarning)\n",
      "/home/vilion/miniconda3/envs/bio/lib/python3.6/site-packages/sklearn/ensemble/forest.py:246: FutureWarning: The default value of n_estimators will change from 10 in version 0.20 to 100 in 0.22.\n",
      "  \"10 in version 0.20 to 100 in 0.22.\", FutureWarning)\n",
      "/home/vilion/miniconda3/envs/bio/lib/python3.6/site-packages/sklearn/ensemble/forest.py:246: FutureWarning: The default value of n_estimators will change from 10 in version 0.20 to 100 in 0.22.\n",
      "  \"10 in version 0.20 to 100 in 0.22.\", FutureWarning)\n",
      "/home/vilion/miniconda3/envs/bio/lib/python3.6/site-packages/sklearn/ensemble/forest.py:246: FutureWarning: The default value of n_estimators will change from 10 in version 0.20 to 100 in 0.22.\n",
      "  \"10 in version 0.20 to 100 in 0.22.\", FutureWarning)\n",
      "/home/vilion/miniconda3/envs/bio/lib/python3.6/site-packages/sklearn/ensemble/forest.py:246: FutureWarning: The default value of n_estimators will change from 10 in version 0.20 to 100 in 0.22.\n",
      "  \"10 in version 0.20 to 100 in 0.22.\", FutureWarning)\n",
      "/home/vilion/miniconda3/envs/bio/lib/python3.6/site-packages/sklearn/ensemble/forest.py:246: FutureWarning: The default value of n_estimators will change from 10 in version 0.20 to 100 in 0.22.\n",
      "  \"10 in version 0.20 to 100 in 0.22.\", FutureWarning)\n",
      "/home/vilion/miniconda3/envs/bio/lib/python3.6/site-packages/sklearn/ensemble/forest.py:246: FutureWarning: The default value of n_estimators will change from 10 in version 0.20 to 100 in 0.22.\n",
      "  \"10 in version 0.20 to 100 in 0.22.\", FutureWarning)\n",
      "/home/vilion/miniconda3/envs/bio/lib/python3.6/site-packages/sklearn/ensemble/forest.py:246: FutureWarning: The default value of n_estimators will change from 10 in version 0.20 to 100 in 0.22.\n",
      "  \"10 in version 0.20 to 100 in 0.22.\", FutureWarning)\n",
      "/home/vilion/miniconda3/envs/bio/lib/python3.6/site-packages/sklearn/ensemble/forest.py:246: FutureWarning: The default value of n_estimators will change from 10 in version 0.20 to 100 in 0.22.\n",
      "  \"10 in version 0.20 to 100 in 0.22.\", FutureWarning)\n",
      "/home/vilion/miniconda3/envs/bio/lib/python3.6/site-packages/sklearn/ensemble/forest.py:246: FutureWarning: The default value of n_estimators will change from 10 in version 0.20 to 100 in 0.22.\n",
      "  \"10 in version 0.20 to 100 in 0.22.\", FutureWarning)\n",
      "/home/vilion/miniconda3/envs/bio/lib/python3.6/site-packages/sklearn/ensemble/forest.py:246: FutureWarning: The default value of n_estimators will change from 10 in version 0.20 to 100 in 0.22.\n",
      "  \"10 in version 0.20 to 100 in 0.22.\", FutureWarning)\n",
      "/home/vilion/miniconda3/envs/bio/lib/python3.6/site-packages/sklearn/ensemble/forest.py:246: FutureWarning: The default value of n_estimators will change from 10 in version 0.20 to 100 in 0.22.\n",
      "  \"10 in version 0.20 to 100 in 0.22.\", FutureWarning)\n",
      "/home/vilion/miniconda3/envs/bio/lib/python3.6/site-packages/sklearn/ensemble/forest.py:246: FutureWarning: The default value of n_estimators will change from 10 in version 0.20 to 100 in 0.22.\n",
      "  \"10 in version 0.20 to 100 in 0.22.\", FutureWarning)\n",
      "/home/vilion/miniconda3/envs/bio/lib/python3.6/site-packages/sklearn/ensemble/forest.py:246: FutureWarning: The default value of n_estimators will change from 10 in version 0.20 to 100 in 0.22.\n",
      "  \"10 in version 0.20 to 100 in 0.22.\", FutureWarning)\n",
      "/home/vilion/miniconda3/envs/bio/lib/python3.6/site-packages/sklearn/ensemble/forest.py:246: FutureWarning: The default value of n_estimators will change from 10 in version 0.20 to 100 in 0.22.\n",
      "  \"10 in version 0.20 to 100 in 0.22.\", FutureWarning)\n"
     ]
    },
    {
     "name": "stderr",
     "output_type": "stream",
     "text": [
      "/home/vilion/miniconda3/envs/bio/lib/python3.6/site-packages/sklearn/ensemble/forest.py:246: FutureWarning: The default value of n_estimators will change from 10 in version 0.20 to 100 in 0.22.\n",
      "  \"10 in version 0.20 to 100 in 0.22.\", FutureWarning)\n",
      "/home/vilion/miniconda3/envs/bio/lib/python3.6/site-packages/sklearn/ensemble/forest.py:246: FutureWarning: The default value of n_estimators will change from 10 in version 0.20 to 100 in 0.22.\n",
      "  \"10 in version 0.20 to 100 in 0.22.\", FutureWarning)\n",
      "/home/vilion/miniconda3/envs/bio/lib/python3.6/site-packages/sklearn/ensemble/forest.py:246: FutureWarning: The default value of n_estimators will change from 10 in version 0.20 to 100 in 0.22.\n",
      "  \"10 in version 0.20 to 100 in 0.22.\", FutureWarning)\n",
      "/home/vilion/miniconda3/envs/bio/lib/python3.6/site-packages/sklearn/ensemble/forest.py:246: FutureWarning: The default value of n_estimators will change from 10 in version 0.20 to 100 in 0.22.\n",
      "  \"10 in version 0.20 to 100 in 0.22.\", FutureWarning)\n",
      "/home/vilion/miniconda3/envs/bio/lib/python3.6/site-packages/sklearn/ensemble/forest.py:246: FutureWarning: The default value of n_estimators will change from 10 in version 0.20 to 100 in 0.22.\n",
      "  \"10 in version 0.20 to 100 in 0.22.\", FutureWarning)\n",
      "/home/vilion/miniconda3/envs/bio/lib/python3.6/site-packages/sklearn/ensemble/forest.py:246: FutureWarning: The default value of n_estimators will change from 10 in version 0.20 to 100 in 0.22.\n",
      "  \"10 in version 0.20 to 100 in 0.22.\", FutureWarning)\n",
      "/home/vilion/miniconda3/envs/bio/lib/python3.6/site-packages/sklearn/ensemble/forest.py:246: FutureWarning: The default value of n_estimators will change from 10 in version 0.20 to 100 in 0.22.\n",
      "  \"10 in version 0.20 to 100 in 0.22.\", FutureWarning)\n",
      "/home/vilion/miniconda3/envs/bio/lib/python3.6/site-packages/sklearn/ensemble/forest.py:246: FutureWarning: The default value of n_estimators will change from 10 in version 0.20 to 100 in 0.22.\n",
      "  \"10 in version 0.20 to 100 in 0.22.\", FutureWarning)\n",
      "/home/vilion/miniconda3/envs/bio/lib/python3.6/site-packages/sklearn/ensemble/forest.py:246: FutureWarning: The default value of n_estimators will change from 10 in version 0.20 to 100 in 0.22.\n",
      "  \"10 in version 0.20 to 100 in 0.22.\", FutureWarning)\n",
      "/home/vilion/miniconda3/envs/bio/lib/python3.6/site-packages/sklearn/ensemble/forest.py:246: FutureWarning: The default value of n_estimators will change from 10 in version 0.20 to 100 in 0.22.\n",
      "  \"10 in version 0.20 to 100 in 0.22.\", FutureWarning)\n",
      "/home/vilion/miniconda3/envs/bio/lib/python3.6/site-packages/sklearn/ensemble/forest.py:246: FutureWarning: The default value of n_estimators will change from 10 in version 0.20 to 100 in 0.22.\n",
      "  \"10 in version 0.20 to 100 in 0.22.\", FutureWarning)\n",
      "/home/vilion/miniconda3/envs/bio/lib/python3.6/site-packages/sklearn/ensemble/forest.py:246: FutureWarning: The default value of n_estimators will change from 10 in version 0.20 to 100 in 0.22.\n",
      "  \"10 in version 0.20 to 100 in 0.22.\", FutureWarning)\n",
      "/home/vilion/miniconda3/envs/bio/lib/python3.6/site-packages/sklearn/ensemble/forest.py:246: FutureWarning: The default value of n_estimators will change from 10 in version 0.20 to 100 in 0.22.\n",
      "  \"10 in version 0.20 to 100 in 0.22.\", FutureWarning)\n",
      "/home/vilion/miniconda3/envs/bio/lib/python3.6/site-packages/sklearn/ensemble/forest.py:246: FutureWarning: The default value of n_estimators will change from 10 in version 0.20 to 100 in 0.22.\n",
      "  \"10 in version 0.20 to 100 in 0.22.\", FutureWarning)\n",
      "/home/vilion/miniconda3/envs/bio/lib/python3.6/site-packages/sklearn/ensemble/forest.py:246: FutureWarning: The default value of n_estimators will change from 10 in version 0.20 to 100 in 0.22.\n",
      "  \"10 in version 0.20 to 100 in 0.22.\", FutureWarning)\n",
      "/home/vilion/miniconda3/envs/bio/lib/python3.6/site-packages/sklearn/ensemble/forest.py:246: FutureWarning: The default value of n_estimators will change from 10 in version 0.20 to 100 in 0.22.\n",
      "  \"10 in version 0.20 to 100 in 0.22.\", FutureWarning)\n",
      "/home/vilion/miniconda3/envs/bio/lib/python3.6/site-packages/sklearn/ensemble/forest.py:246: FutureWarning: The default value of n_estimators will change from 10 in version 0.20 to 100 in 0.22.\n",
      "  \"10 in version 0.20 to 100 in 0.22.\", FutureWarning)\n",
      "/home/vilion/miniconda3/envs/bio/lib/python3.6/site-packages/sklearn/ensemble/forest.py:246: FutureWarning: The default value of n_estimators will change from 10 in version 0.20 to 100 in 0.22.\n",
      "  \"10 in version 0.20 to 100 in 0.22.\", FutureWarning)\n",
      "/home/vilion/miniconda3/envs/bio/lib/python3.6/site-packages/sklearn/ensemble/forest.py:246: FutureWarning: The default value of n_estimators will change from 10 in version 0.20 to 100 in 0.22.\n",
      "  \"10 in version 0.20 to 100 in 0.22.\", FutureWarning)\n",
      "/home/vilion/miniconda3/envs/bio/lib/python3.6/site-packages/sklearn/ensemble/forest.py:246: FutureWarning: The default value of n_estimators will change from 10 in version 0.20 to 100 in 0.22.\n",
      "  \"10 in version 0.20 to 100 in 0.22.\", FutureWarning)\n",
      "/home/vilion/miniconda3/envs/bio/lib/python3.6/site-packages/sklearn/ensemble/forest.py:246: FutureWarning: The default value of n_estimators will change from 10 in version 0.20 to 100 in 0.22.\n",
      "  \"10 in version 0.20 to 100 in 0.22.\", FutureWarning)\n",
      "/home/vilion/miniconda3/envs/bio/lib/python3.6/site-packages/sklearn/ensemble/forest.py:246: FutureWarning: The default value of n_estimators will change from 10 in version 0.20 to 100 in 0.22.\n",
      "  \"10 in version 0.20 to 100 in 0.22.\", FutureWarning)\n",
      "/home/vilion/miniconda3/envs/bio/lib/python3.6/site-packages/sklearn/ensemble/forest.py:246: FutureWarning: The default value of n_estimators will change from 10 in version 0.20 to 100 in 0.22.\n",
      "  \"10 in version 0.20 to 100 in 0.22.\", FutureWarning)\n",
      "/home/vilion/miniconda3/envs/bio/lib/python3.6/site-packages/sklearn/ensemble/forest.py:246: FutureWarning: The default value of n_estimators will change from 10 in version 0.20 to 100 in 0.22.\n",
      "  \"10 in version 0.20 to 100 in 0.22.\", FutureWarning)\n",
      "/home/vilion/miniconda3/envs/bio/lib/python3.6/site-packages/sklearn/ensemble/forest.py:246: FutureWarning: The default value of n_estimators will change from 10 in version 0.20 to 100 in 0.22.\n",
      "  \"10 in version 0.20 to 100 in 0.22.\", FutureWarning)\n",
      "/home/vilion/miniconda3/envs/bio/lib/python3.6/site-packages/sklearn/ensemble/forest.py:246: FutureWarning: The default value of n_estimators will change from 10 in version 0.20 to 100 in 0.22.\n",
      "  \"10 in version 0.20 to 100 in 0.22.\", FutureWarning)\n",
      "/home/vilion/miniconda3/envs/bio/lib/python3.6/site-packages/sklearn/ensemble/forest.py:246: FutureWarning: The default value of n_estimators will change from 10 in version 0.20 to 100 in 0.22.\n",
      "  \"10 in version 0.20 to 100 in 0.22.\", FutureWarning)\n",
      "/home/vilion/miniconda3/envs/bio/lib/python3.6/site-packages/sklearn/ensemble/forest.py:246: FutureWarning: The default value of n_estimators will change from 10 in version 0.20 to 100 in 0.22.\n",
      "  \"10 in version 0.20 to 100 in 0.22.\", FutureWarning)\n",
      "/home/vilion/miniconda3/envs/bio/lib/python3.6/site-packages/sklearn/ensemble/forest.py:246: FutureWarning: The default value of n_estimators will change from 10 in version 0.20 to 100 in 0.22.\n",
      "  \"10 in version 0.20 to 100 in 0.22.\", FutureWarning)\n",
      "/home/vilion/miniconda3/envs/bio/lib/python3.6/site-packages/sklearn/ensemble/forest.py:246: FutureWarning: The default value of n_estimators will change from 10 in version 0.20 to 100 in 0.22.\n",
      "  \"10 in version 0.20 to 100 in 0.22.\", FutureWarning)\n",
      "/home/vilion/miniconda3/envs/bio/lib/python3.6/site-packages/sklearn/ensemble/forest.py:246: FutureWarning: The default value of n_estimators will change from 10 in version 0.20 to 100 in 0.22.\n",
      "  \"10 in version 0.20 to 100 in 0.22.\", FutureWarning)\n",
      "/home/vilion/miniconda3/envs/bio/lib/python3.6/site-packages/sklearn/ensemble/forest.py:246: FutureWarning: The default value of n_estimators will change from 10 in version 0.20 to 100 in 0.22.\n",
      "  \"10 in version 0.20 to 100 in 0.22.\", FutureWarning)\n",
      "/home/vilion/miniconda3/envs/bio/lib/python3.6/site-packages/sklearn/ensemble/forest.py:246: FutureWarning: The default value of n_estimators will change from 10 in version 0.20 to 100 in 0.22.\n",
      "  \"10 in version 0.20 to 100 in 0.22.\", FutureWarning)\n",
      "/home/vilion/miniconda3/envs/bio/lib/python3.6/site-packages/sklearn/ensemble/forest.py:246: FutureWarning: The default value of n_estimators will change from 10 in version 0.20 to 100 in 0.22.\n",
      "  \"10 in version 0.20 to 100 in 0.22.\", FutureWarning)\n"
     ]
    },
    {
     "name": "stderr",
     "output_type": "stream",
     "text": [
      "/home/vilion/miniconda3/envs/bio/lib/python3.6/site-packages/sklearn/ensemble/forest.py:246: FutureWarning: The default value of n_estimators will change from 10 in version 0.20 to 100 in 0.22.\n",
      "  \"10 in version 0.20 to 100 in 0.22.\", FutureWarning)\n",
      "/home/vilion/miniconda3/envs/bio/lib/python3.6/site-packages/sklearn/ensemble/forest.py:246: FutureWarning: The default value of n_estimators will change from 10 in version 0.20 to 100 in 0.22.\n",
      "  \"10 in version 0.20 to 100 in 0.22.\", FutureWarning)\n",
      "/home/vilion/miniconda3/envs/bio/lib/python3.6/site-packages/sklearn/ensemble/forest.py:246: FutureWarning: The default value of n_estimators will change from 10 in version 0.20 to 100 in 0.22.\n",
      "  \"10 in version 0.20 to 100 in 0.22.\", FutureWarning)\n",
      "/home/vilion/miniconda3/envs/bio/lib/python3.6/site-packages/sklearn/ensemble/forest.py:246: FutureWarning: The default value of n_estimators will change from 10 in version 0.20 to 100 in 0.22.\n",
      "  \"10 in version 0.20 to 100 in 0.22.\", FutureWarning)\n",
      "/home/vilion/miniconda3/envs/bio/lib/python3.6/site-packages/sklearn/ensemble/forest.py:246: FutureWarning: The default value of n_estimators will change from 10 in version 0.20 to 100 in 0.22.\n",
      "  \"10 in version 0.20 to 100 in 0.22.\", FutureWarning)\n",
      "/home/vilion/miniconda3/envs/bio/lib/python3.6/site-packages/sklearn/ensemble/forest.py:246: FutureWarning: The default value of n_estimators will change from 10 in version 0.20 to 100 in 0.22.\n",
      "  \"10 in version 0.20 to 100 in 0.22.\", FutureWarning)\n",
      "/home/vilion/miniconda3/envs/bio/lib/python3.6/site-packages/sklearn/ensemble/forest.py:246: FutureWarning: The default value of n_estimators will change from 10 in version 0.20 to 100 in 0.22.\n",
      "  \"10 in version 0.20 to 100 in 0.22.\", FutureWarning)\n",
      "/home/vilion/miniconda3/envs/bio/lib/python3.6/site-packages/sklearn/ensemble/forest.py:246: FutureWarning: The default value of n_estimators will change from 10 in version 0.20 to 100 in 0.22.\n",
      "  \"10 in version 0.20 to 100 in 0.22.\", FutureWarning)\n",
      "/home/vilion/miniconda3/envs/bio/lib/python3.6/site-packages/sklearn/ensemble/forest.py:246: FutureWarning: The default value of n_estimators will change from 10 in version 0.20 to 100 in 0.22.\n",
      "  \"10 in version 0.20 to 100 in 0.22.\", FutureWarning)\n",
      "/home/vilion/miniconda3/envs/bio/lib/python3.6/site-packages/sklearn/ensemble/forest.py:246: FutureWarning: The default value of n_estimators will change from 10 in version 0.20 to 100 in 0.22.\n",
      "  \"10 in version 0.20 to 100 in 0.22.\", FutureWarning)\n",
      "/home/vilion/miniconda3/envs/bio/lib/python3.6/site-packages/sklearn/ensemble/forest.py:246: FutureWarning: The default value of n_estimators will change from 10 in version 0.20 to 100 in 0.22.\n",
      "  \"10 in version 0.20 to 100 in 0.22.\", FutureWarning)\n",
      "/home/vilion/miniconda3/envs/bio/lib/python3.6/site-packages/sklearn/ensemble/forest.py:246: FutureWarning: The default value of n_estimators will change from 10 in version 0.20 to 100 in 0.22.\n",
      "  \"10 in version 0.20 to 100 in 0.22.\", FutureWarning)\n",
      "/home/vilion/miniconda3/envs/bio/lib/python3.6/site-packages/sklearn/ensemble/forest.py:246: FutureWarning: The default value of n_estimators will change from 10 in version 0.20 to 100 in 0.22.\n",
      "  \"10 in version 0.20 to 100 in 0.22.\", FutureWarning)\n",
      "/home/vilion/miniconda3/envs/bio/lib/python3.6/site-packages/sklearn/ensemble/forest.py:246: FutureWarning: The default value of n_estimators will change from 10 in version 0.20 to 100 in 0.22.\n",
      "  \"10 in version 0.20 to 100 in 0.22.\", FutureWarning)\n",
      "/home/vilion/miniconda3/envs/bio/lib/python3.6/site-packages/sklearn/ensemble/forest.py:246: FutureWarning: The default value of n_estimators will change from 10 in version 0.20 to 100 in 0.22.\n",
      "  \"10 in version 0.20 to 100 in 0.22.\", FutureWarning)\n",
      "/home/vilion/miniconda3/envs/bio/lib/python3.6/site-packages/sklearn/ensemble/forest.py:246: FutureWarning: The default value of n_estimators will change from 10 in version 0.20 to 100 in 0.22.\n",
      "  \"10 in version 0.20 to 100 in 0.22.\", FutureWarning)\n",
      "/home/vilion/miniconda3/envs/bio/lib/python3.6/site-packages/sklearn/ensemble/forest.py:246: FutureWarning: The default value of n_estimators will change from 10 in version 0.20 to 100 in 0.22.\n",
      "  \"10 in version 0.20 to 100 in 0.22.\", FutureWarning)\n",
      "/home/vilion/miniconda3/envs/bio/lib/python3.6/site-packages/sklearn/ensemble/forest.py:246: FutureWarning: The default value of n_estimators will change from 10 in version 0.20 to 100 in 0.22.\n",
      "  \"10 in version 0.20 to 100 in 0.22.\", FutureWarning)\n",
      "/home/vilion/miniconda3/envs/bio/lib/python3.6/site-packages/sklearn/ensemble/forest.py:246: FutureWarning: The default value of n_estimators will change from 10 in version 0.20 to 100 in 0.22.\n",
      "  \"10 in version 0.20 to 100 in 0.22.\", FutureWarning)\n",
      "/home/vilion/miniconda3/envs/bio/lib/python3.6/site-packages/sklearn/ensemble/forest.py:246: FutureWarning: The default value of n_estimators will change from 10 in version 0.20 to 100 in 0.22.\n",
      "  \"10 in version 0.20 to 100 in 0.22.\", FutureWarning)\n",
      "/home/vilion/miniconda3/envs/bio/lib/python3.6/site-packages/sklearn/ensemble/forest.py:246: FutureWarning: The default value of n_estimators will change from 10 in version 0.20 to 100 in 0.22.\n",
      "  \"10 in version 0.20 to 100 in 0.22.\", FutureWarning)\n",
      "/home/vilion/miniconda3/envs/bio/lib/python3.6/site-packages/sklearn/ensemble/forest.py:246: FutureWarning: The default value of n_estimators will change from 10 in version 0.20 to 100 in 0.22.\n",
      "  \"10 in version 0.20 to 100 in 0.22.\", FutureWarning)\n",
      "/home/vilion/miniconda3/envs/bio/lib/python3.6/site-packages/sklearn/ensemble/forest.py:246: FutureWarning: The default value of n_estimators will change from 10 in version 0.20 to 100 in 0.22.\n",
      "  \"10 in version 0.20 to 100 in 0.22.\", FutureWarning)\n",
      "/home/vilion/miniconda3/envs/bio/lib/python3.6/site-packages/sklearn/ensemble/forest.py:246: FutureWarning: The default value of n_estimators will change from 10 in version 0.20 to 100 in 0.22.\n",
      "  \"10 in version 0.20 to 100 in 0.22.\", FutureWarning)\n",
      "/home/vilion/miniconda3/envs/bio/lib/python3.6/site-packages/sklearn/ensemble/forest.py:246: FutureWarning: The default value of n_estimators will change from 10 in version 0.20 to 100 in 0.22.\n",
      "  \"10 in version 0.20 to 100 in 0.22.\", FutureWarning)\n",
      "/home/vilion/miniconda3/envs/bio/lib/python3.6/site-packages/sklearn/ensemble/forest.py:246: FutureWarning: The default value of n_estimators will change from 10 in version 0.20 to 100 in 0.22.\n",
      "  \"10 in version 0.20 to 100 in 0.22.\", FutureWarning)\n",
      "/home/vilion/miniconda3/envs/bio/lib/python3.6/site-packages/sklearn/ensemble/forest.py:246: FutureWarning: The default value of n_estimators will change from 10 in version 0.20 to 100 in 0.22.\n",
      "  \"10 in version 0.20 to 100 in 0.22.\", FutureWarning)\n",
      "/home/vilion/miniconda3/envs/bio/lib/python3.6/site-packages/sklearn/ensemble/forest.py:246: FutureWarning: The default value of n_estimators will change from 10 in version 0.20 to 100 in 0.22.\n",
      "  \"10 in version 0.20 to 100 in 0.22.\", FutureWarning)\n",
      "/home/vilion/miniconda3/envs/bio/lib/python3.6/site-packages/sklearn/ensemble/forest.py:246: FutureWarning: The default value of n_estimators will change from 10 in version 0.20 to 100 in 0.22.\n",
      "  \"10 in version 0.20 to 100 in 0.22.\", FutureWarning)\n",
      "/home/vilion/miniconda3/envs/bio/lib/python3.6/site-packages/sklearn/ensemble/forest.py:246: FutureWarning: The default value of n_estimators will change from 10 in version 0.20 to 100 in 0.22.\n",
      "  \"10 in version 0.20 to 100 in 0.22.\", FutureWarning)\n",
      "/home/vilion/miniconda3/envs/bio/lib/python3.6/site-packages/sklearn/ensemble/forest.py:246: FutureWarning: The default value of n_estimators will change from 10 in version 0.20 to 100 in 0.22.\n",
      "  \"10 in version 0.20 to 100 in 0.22.\", FutureWarning)\n",
      "/home/vilion/miniconda3/envs/bio/lib/python3.6/site-packages/sklearn/ensemble/forest.py:246: FutureWarning: The default value of n_estimators will change from 10 in version 0.20 to 100 in 0.22.\n",
      "  \"10 in version 0.20 to 100 in 0.22.\", FutureWarning)\n",
      "/home/vilion/miniconda3/envs/bio/lib/python3.6/site-packages/sklearn/ensemble/forest.py:246: FutureWarning: The default value of n_estimators will change from 10 in version 0.20 to 100 in 0.22.\n",
      "  \"10 in version 0.20 to 100 in 0.22.\", FutureWarning)\n",
      "/home/vilion/miniconda3/envs/bio/lib/python3.6/site-packages/sklearn/ensemble/forest.py:246: FutureWarning: The default value of n_estimators will change from 10 in version 0.20 to 100 in 0.22.\n",
      "  \"10 in version 0.20 to 100 in 0.22.\", FutureWarning)\n"
     ]
    },
    {
     "name": "stderr",
     "output_type": "stream",
     "text": [
      "/home/vilion/miniconda3/envs/bio/lib/python3.6/site-packages/sklearn/ensemble/forest.py:246: FutureWarning: The default value of n_estimators will change from 10 in version 0.20 to 100 in 0.22.\n",
      "  \"10 in version 0.20 to 100 in 0.22.\", FutureWarning)\n",
      "/home/vilion/miniconda3/envs/bio/lib/python3.6/site-packages/sklearn/ensemble/forest.py:246: FutureWarning: The default value of n_estimators will change from 10 in version 0.20 to 100 in 0.22.\n",
      "  \"10 in version 0.20 to 100 in 0.22.\", FutureWarning)\n",
      "/home/vilion/miniconda3/envs/bio/lib/python3.6/site-packages/sklearn/ensemble/forest.py:246: FutureWarning: The default value of n_estimators will change from 10 in version 0.20 to 100 in 0.22.\n",
      "  \"10 in version 0.20 to 100 in 0.22.\", FutureWarning)\n",
      "/home/vilion/miniconda3/envs/bio/lib/python3.6/site-packages/sklearn/ensemble/forest.py:246: FutureWarning: The default value of n_estimators will change from 10 in version 0.20 to 100 in 0.22.\n",
      "  \"10 in version 0.20 to 100 in 0.22.\", FutureWarning)\n",
      "/home/vilion/miniconda3/envs/bio/lib/python3.6/site-packages/sklearn/ensemble/forest.py:246: FutureWarning: The default value of n_estimators will change from 10 in version 0.20 to 100 in 0.22.\n",
      "  \"10 in version 0.20 to 100 in 0.22.\", FutureWarning)\n",
      "/home/vilion/miniconda3/envs/bio/lib/python3.6/site-packages/sklearn/ensemble/forest.py:246: FutureWarning: The default value of n_estimators will change from 10 in version 0.20 to 100 in 0.22.\n",
      "  \"10 in version 0.20 to 100 in 0.22.\", FutureWarning)\n",
      "/home/vilion/miniconda3/envs/bio/lib/python3.6/site-packages/sklearn/ensemble/forest.py:246: FutureWarning: The default value of n_estimators will change from 10 in version 0.20 to 100 in 0.22.\n",
      "  \"10 in version 0.20 to 100 in 0.22.\", FutureWarning)\n",
      "/home/vilion/miniconda3/envs/bio/lib/python3.6/site-packages/sklearn/ensemble/forest.py:246: FutureWarning: The default value of n_estimators will change from 10 in version 0.20 to 100 in 0.22.\n",
      "  \"10 in version 0.20 to 100 in 0.22.\", FutureWarning)\n",
      "/home/vilion/miniconda3/envs/bio/lib/python3.6/site-packages/sklearn/ensemble/forest.py:246: FutureWarning: The default value of n_estimators will change from 10 in version 0.20 to 100 in 0.22.\n",
      "  \"10 in version 0.20 to 100 in 0.22.\", FutureWarning)\n",
      "/home/vilion/miniconda3/envs/bio/lib/python3.6/site-packages/sklearn/ensemble/forest.py:246: FutureWarning: The default value of n_estimators will change from 10 in version 0.20 to 100 in 0.22.\n",
      "  \"10 in version 0.20 to 100 in 0.22.\", FutureWarning)\n",
      "/home/vilion/miniconda3/envs/bio/lib/python3.6/site-packages/sklearn/ensemble/forest.py:246: FutureWarning: The default value of n_estimators will change from 10 in version 0.20 to 100 in 0.22.\n",
      "  \"10 in version 0.20 to 100 in 0.22.\", FutureWarning)\n",
      "/home/vilion/miniconda3/envs/bio/lib/python3.6/site-packages/sklearn/ensemble/forest.py:246: FutureWarning: The default value of n_estimators will change from 10 in version 0.20 to 100 in 0.22.\n",
      "  \"10 in version 0.20 to 100 in 0.22.\", FutureWarning)\n",
      "/home/vilion/miniconda3/envs/bio/lib/python3.6/site-packages/sklearn/ensemble/forest.py:246: FutureWarning: The default value of n_estimators will change from 10 in version 0.20 to 100 in 0.22.\n",
      "  \"10 in version 0.20 to 100 in 0.22.\", FutureWarning)\n",
      "/home/vilion/miniconda3/envs/bio/lib/python3.6/site-packages/sklearn/ensemble/forest.py:246: FutureWarning: The default value of n_estimators will change from 10 in version 0.20 to 100 in 0.22.\n",
      "  \"10 in version 0.20 to 100 in 0.22.\", FutureWarning)\n",
      "/home/vilion/miniconda3/envs/bio/lib/python3.6/site-packages/sklearn/ensemble/forest.py:246: FutureWarning: The default value of n_estimators will change from 10 in version 0.20 to 100 in 0.22.\n",
      "  \"10 in version 0.20 to 100 in 0.22.\", FutureWarning)\n",
      "/home/vilion/miniconda3/envs/bio/lib/python3.6/site-packages/sklearn/ensemble/forest.py:246: FutureWarning: The default value of n_estimators will change from 10 in version 0.20 to 100 in 0.22.\n",
      "  \"10 in version 0.20 to 100 in 0.22.\", FutureWarning)\n",
      "/home/vilion/miniconda3/envs/bio/lib/python3.6/site-packages/sklearn/ensemble/forest.py:246: FutureWarning: The default value of n_estimators will change from 10 in version 0.20 to 100 in 0.22.\n",
      "  \"10 in version 0.20 to 100 in 0.22.\", FutureWarning)\n",
      "/home/vilion/miniconda3/envs/bio/lib/python3.6/site-packages/sklearn/ensemble/forest.py:246: FutureWarning: The default value of n_estimators will change from 10 in version 0.20 to 100 in 0.22.\n",
      "  \"10 in version 0.20 to 100 in 0.22.\", FutureWarning)\n",
      "/home/vilion/miniconda3/envs/bio/lib/python3.6/site-packages/sklearn/ensemble/forest.py:246: FutureWarning: The default value of n_estimators will change from 10 in version 0.20 to 100 in 0.22.\n",
      "  \"10 in version 0.20 to 100 in 0.22.\", FutureWarning)\n",
      "/home/vilion/miniconda3/envs/bio/lib/python3.6/site-packages/sklearn/ensemble/forest.py:246: FutureWarning: The default value of n_estimators will change from 10 in version 0.20 to 100 in 0.22.\n",
      "  \"10 in version 0.20 to 100 in 0.22.\", FutureWarning)\n",
      "/home/vilion/miniconda3/envs/bio/lib/python3.6/site-packages/sklearn/ensemble/forest.py:246: FutureWarning: The default value of n_estimators will change from 10 in version 0.20 to 100 in 0.22.\n",
      "  \"10 in version 0.20 to 100 in 0.22.\", FutureWarning)\n",
      "/home/vilion/miniconda3/envs/bio/lib/python3.6/site-packages/sklearn/ensemble/forest.py:246: FutureWarning: The default value of n_estimators will change from 10 in version 0.20 to 100 in 0.22.\n",
      "  \"10 in version 0.20 to 100 in 0.22.\", FutureWarning)\n",
      "/home/vilion/miniconda3/envs/bio/lib/python3.6/site-packages/sklearn/ensemble/forest.py:246: FutureWarning: The default value of n_estimators will change from 10 in version 0.20 to 100 in 0.22.\n",
      "  \"10 in version 0.20 to 100 in 0.22.\", FutureWarning)\n",
      "/home/vilion/miniconda3/envs/bio/lib/python3.6/site-packages/sklearn/ensemble/forest.py:246: FutureWarning: The default value of n_estimators will change from 10 in version 0.20 to 100 in 0.22.\n",
      "  \"10 in version 0.20 to 100 in 0.22.\", FutureWarning)\n",
      "/home/vilion/miniconda3/envs/bio/lib/python3.6/site-packages/sklearn/ensemble/forest.py:246: FutureWarning: The default value of n_estimators will change from 10 in version 0.20 to 100 in 0.22.\n",
      "  \"10 in version 0.20 to 100 in 0.22.\", FutureWarning)\n",
      "/home/vilion/miniconda3/envs/bio/lib/python3.6/site-packages/sklearn/ensemble/forest.py:246: FutureWarning: The default value of n_estimators will change from 10 in version 0.20 to 100 in 0.22.\n",
      "  \"10 in version 0.20 to 100 in 0.22.\", FutureWarning)\n",
      "/home/vilion/miniconda3/envs/bio/lib/python3.6/site-packages/sklearn/ensemble/forest.py:246: FutureWarning: The default value of n_estimators will change from 10 in version 0.20 to 100 in 0.22.\n",
      "  \"10 in version 0.20 to 100 in 0.22.\", FutureWarning)\n",
      "/home/vilion/miniconda3/envs/bio/lib/python3.6/site-packages/sklearn/ensemble/forest.py:246: FutureWarning: The default value of n_estimators will change from 10 in version 0.20 to 100 in 0.22.\n",
      "  \"10 in version 0.20 to 100 in 0.22.\", FutureWarning)\n",
      "/home/vilion/miniconda3/envs/bio/lib/python3.6/site-packages/sklearn/ensemble/forest.py:246: FutureWarning: The default value of n_estimators will change from 10 in version 0.20 to 100 in 0.22.\n",
      "  \"10 in version 0.20 to 100 in 0.22.\", FutureWarning)\n",
      "/home/vilion/miniconda3/envs/bio/lib/python3.6/site-packages/sklearn/ensemble/forest.py:246: FutureWarning: The default value of n_estimators will change from 10 in version 0.20 to 100 in 0.22.\n",
      "  \"10 in version 0.20 to 100 in 0.22.\", FutureWarning)\n",
      "/home/vilion/miniconda3/envs/bio/lib/python3.6/site-packages/sklearn/ensemble/forest.py:246: FutureWarning: The default value of n_estimators will change from 10 in version 0.20 to 100 in 0.22.\n",
      "  \"10 in version 0.20 to 100 in 0.22.\", FutureWarning)\n",
      "/home/vilion/miniconda3/envs/bio/lib/python3.6/site-packages/sklearn/ensemble/forest.py:246: FutureWarning: The default value of n_estimators will change from 10 in version 0.20 to 100 in 0.22.\n",
      "  \"10 in version 0.20 to 100 in 0.22.\", FutureWarning)\n",
      "/home/vilion/miniconda3/envs/bio/lib/python3.6/site-packages/sklearn/ensemble/forest.py:246: FutureWarning: The default value of n_estimators will change from 10 in version 0.20 to 100 in 0.22.\n",
      "  \"10 in version 0.20 to 100 in 0.22.\", FutureWarning)\n",
      "/home/vilion/miniconda3/envs/bio/lib/python3.6/site-packages/sklearn/ensemble/forest.py:246: FutureWarning: The default value of n_estimators will change from 10 in version 0.20 to 100 in 0.22.\n",
      "  \"10 in version 0.20 to 100 in 0.22.\", FutureWarning)\n"
     ]
    },
    {
     "name": "stderr",
     "output_type": "stream",
     "text": [
      "/home/vilion/miniconda3/envs/bio/lib/python3.6/site-packages/sklearn/ensemble/forest.py:246: FutureWarning: The default value of n_estimators will change from 10 in version 0.20 to 100 in 0.22.\n",
      "  \"10 in version 0.20 to 100 in 0.22.\", FutureWarning)\n",
      "/home/vilion/miniconda3/envs/bio/lib/python3.6/site-packages/sklearn/ensemble/forest.py:246: FutureWarning: The default value of n_estimators will change from 10 in version 0.20 to 100 in 0.22.\n",
      "  \"10 in version 0.20 to 100 in 0.22.\", FutureWarning)\n",
      "/home/vilion/miniconda3/envs/bio/lib/python3.6/site-packages/sklearn/ensemble/forest.py:246: FutureWarning: The default value of n_estimators will change from 10 in version 0.20 to 100 in 0.22.\n",
      "  \"10 in version 0.20 to 100 in 0.22.\", FutureWarning)\n",
      "/home/vilion/miniconda3/envs/bio/lib/python3.6/site-packages/sklearn/ensemble/forest.py:246: FutureWarning: The default value of n_estimators will change from 10 in version 0.20 to 100 in 0.22.\n",
      "  \"10 in version 0.20 to 100 in 0.22.\", FutureWarning)\n",
      "/home/vilion/miniconda3/envs/bio/lib/python3.6/site-packages/sklearn/ensemble/forest.py:246: FutureWarning: The default value of n_estimators will change from 10 in version 0.20 to 100 in 0.22.\n",
      "  \"10 in version 0.20 to 100 in 0.22.\", FutureWarning)\n",
      "/home/vilion/miniconda3/envs/bio/lib/python3.6/site-packages/sklearn/ensemble/forest.py:246: FutureWarning: The default value of n_estimators will change from 10 in version 0.20 to 100 in 0.22.\n",
      "  \"10 in version 0.20 to 100 in 0.22.\", FutureWarning)\n",
      "/home/vilion/miniconda3/envs/bio/lib/python3.6/site-packages/sklearn/ensemble/forest.py:246: FutureWarning: The default value of n_estimators will change from 10 in version 0.20 to 100 in 0.22.\n",
      "  \"10 in version 0.20 to 100 in 0.22.\", FutureWarning)\n",
      "/home/vilion/miniconda3/envs/bio/lib/python3.6/site-packages/sklearn/ensemble/forest.py:246: FutureWarning: The default value of n_estimators will change from 10 in version 0.20 to 100 in 0.22.\n",
      "  \"10 in version 0.20 to 100 in 0.22.\", FutureWarning)\n",
      "/home/vilion/miniconda3/envs/bio/lib/python3.6/site-packages/sklearn/ensemble/forest.py:246: FutureWarning: The default value of n_estimators will change from 10 in version 0.20 to 100 in 0.22.\n",
      "  \"10 in version 0.20 to 100 in 0.22.\", FutureWarning)\n",
      "/home/vilion/miniconda3/envs/bio/lib/python3.6/site-packages/sklearn/ensemble/forest.py:246: FutureWarning: The default value of n_estimators will change from 10 in version 0.20 to 100 in 0.22.\n",
      "  \"10 in version 0.20 to 100 in 0.22.\", FutureWarning)\n",
      "/home/vilion/miniconda3/envs/bio/lib/python3.6/site-packages/sklearn/ensemble/forest.py:246: FutureWarning: The default value of n_estimators will change from 10 in version 0.20 to 100 in 0.22.\n",
      "  \"10 in version 0.20 to 100 in 0.22.\", FutureWarning)\n",
      "/home/vilion/miniconda3/envs/bio/lib/python3.6/site-packages/sklearn/ensemble/forest.py:246: FutureWarning: The default value of n_estimators will change from 10 in version 0.20 to 100 in 0.22.\n",
      "  \"10 in version 0.20 to 100 in 0.22.\", FutureWarning)\n",
      "/home/vilion/miniconda3/envs/bio/lib/python3.6/site-packages/sklearn/ensemble/forest.py:246: FutureWarning: The default value of n_estimators will change from 10 in version 0.20 to 100 in 0.22.\n",
      "  \"10 in version 0.20 to 100 in 0.22.\", FutureWarning)\n",
      "/home/vilion/miniconda3/envs/bio/lib/python3.6/site-packages/sklearn/ensemble/forest.py:246: FutureWarning: The default value of n_estimators will change from 10 in version 0.20 to 100 in 0.22.\n",
      "  \"10 in version 0.20 to 100 in 0.22.\", FutureWarning)\n",
      "/home/vilion/miniconda3/envs/bio/lib/python3.6/site-packages/sklearn/ensemble/forest.py:246: FutureWarning: The default value of n_estimators will change from 10 in version 0.20 to 100 in 0.22.\n",
      "  \"10 in version 0.20 to 100 in 0.22.\", FutureWarning)\n",
      "/home/vilion/miniconda3/envs/bio/lib/python3.6/site-packages/sklearn/ensemble/forest.py:246: FutureWarning: The default value of n_estimators will change from 10 in version 0.20 to 100 in 0.22.\n",
      "  \"10 in version 0.20 to 100 in 0.22.\", FutureWarning)\n",
      "/home/vilion/miniconda3/envs/bio/lib/python3.6/site-packages/sklearn/ensemble/forest.py:246: FutureWarning: The default value of n_estimators will change from 10 in version 0.20 to 100 in 0.22.\n",
      "  \"10 in version 0.20 to 100 in 0.22.\", FutureWarning)\n",
      "/home/vilion/miniconda3/envs/bio/lib/python3.6/site-packages/sklearn/ensemble/forest.py:246: FutureWarning: The default value of n_estimators will change from 10 in version 0.20 to 100 in 0.22.\n",
      "  \"10 in version 0.20 to 100 in 0.22.\", FutureWarning)\n",
      "/home/vilion/miniconda3/envs/bio/lib/python3.6/site-packages/sklearn/ensemble/forest.py:246: FutureWarning: The default value of n_estimators will change from 10 in version 0.20 to 100 in 0.22.\n",
      "  \"10 in version 0.20 to 100 in 0.22.\", FutureWarning)\n",
      "/home/vilion/miniconda3/envs/bio/lib/python3.6/site-packages/sklearn/ensemble/forest.py:246: FutureWarning: The default value of n_estimators will change from 10 in version 0.20 to 100 in 0.22.\n",
      "  \"10 in version 0.20 to 100 in 0.22.\", FutureWarning)\n",
      "/home/vilion/miniconda3/envs/bio/lib/python3.6/site-packages/sklearn/ensemble/forest.py:246: FutureWarning: The default value of n_estimators will change from 10 in version 0.20 to 100 in 0.22.\n",
      "  \"10 in version 0.20 to 100 in 0.22.\", FutureWarning)\n",
      "/home/vilion/miniconda3/envs/bio/lib/python3.6/site-packages/sklearn/ensemble/forest.py:246: FutureWarning: The default value of n_estimators will change from 10 in version 0.20 to 100 in 0.22.\n",
      "  \"10 in version 0.20 to 100 in 0.22.\", FutureWarning)\n",
      "/home/vilion/miniconda3/envs/bio/lib/python3.6/site-packages/sklearn/ensemble/forest.py:246: FutureWarning: The default value of n_estimators will change from 10 in version 0.20 to 100 in 0.22.\n",
      "  \"10 in version 0.20 to 100 in 0.22.\", FutureWarning)\n",
      "/home/vilion/miniconda3/envs/bio/lib/python3.6/site-packages/sklearn/ensemble/forest.py:246: FutureWarning: The default value of n_estimators will change from 10 in version 0.20 to 100 in 0.22.\n",
      "  \"10 in version 0.20 to 100 in 0.22.\", FutureWarning)\n",
      "/home/vilion/miniconda3/envs/bio/lib/python3.6/site-packages/sklearn/ensemble/forest.py:246: FutureWarning: The default value of n_estimators will change from 10 in version 0.20 to 100 in 0.22.\n",
      "  \"10 in version 0.20 to 100 in 0.22.\", FutureWarning)\n",
      "/home/vilion/miniconda3/envs/bio/lib/python3.6/site-packages/sklearn/ensemble/forest.py:246: FutureWarning: The default value of n_estimators will change from 10 in version 0.20 to 100 in 0.22.\n",
      "  \"10 in version 0.20 to 100 in 0.22.\", FutureWarning)\n",
      "/home/vilion/miniconda3/envs/bio/lib/python3.6/site-packages/sklearn/ensemble/forest.py:246: FutureWarning: The default value of n_estimators will change from 10 in version 0.20 to 100 in 0.22.\n",
      "  \"10 in version 0.20 to 100 in 0.22.\", FutureWarning)\n",
      "/home/vilion/miniconda3/envs/bio/lib/python3.6/site-packages/sklearn/ensemble/forest.py:246: FutureWarning: The default value of n_estimators will change from 10 in version 0.20 to 100 in 0.22.\n",
      "  \"10 in version 0.20 to 100 in 0.22.\", FutureWarning)\n",
      "/home/vilion/miniconda3/envs/bio/lib/python3.6/site-packages/sklearn/ensemble/forest.py:246: FutureWarning: The default value of n_estimators will change from 10 in version 0.20 to 100 in 0.22.\n",
      "  \"10 in version 0.20 to 100 in 0.22.\", FutureWarning)\n",
      "/home/vilion/miniconda3/envs/bio/lib/python3.6/site-packages/sklearn/ensemble/forest.py:246: FutureWarning: The default value of n_estimators will change from 10 in version 0.20 to 100 in 0.22.\n",
      "  \"10 in version 0.20 to 100 in 0.22.\", FutureWarning)\n",
      "/home/vilion/miniconda3/envs/bio/lib/python3.6/site-packages/sklearn/ensemble/forest.py:246: FutureWarning: The default value of n_estimators will change from 10 in version 0.20 to 100 in 0.22.\n",
      "  \"10 in version 0.20 to 100 in 0.22.\", FutureWarning)\n",
      "/home/vilion/miniconda3/envs/bio/lib/python3.6/site-packages/sklearn/ensemble/forest.py:246: FutureWarning: The default value of n_estimators will change from 10 in version 0.20 to 100 in 0.22.\n",
      "  \"10 in version 0.20 to 100 in 0.22.\", FutureWarning)\n",
      "/home/vilion/miniconda3/envs/bio/lib/python3.6/site-packages/sklearn/ensemble/forest.py:246: FutureWarning: The default value of n_estimators will change from 10 in version 0.20 to 100 in 0.22.\n",
      "  \"10 in version 0.20 to 100 in 0.22.\", FutureWarning)\n",
      "/home/vilion/miniconda3/envs/bio/lib/python3.6/site-packages/sklearn/ensemble/forest.py:246: FutureWarning: The default value of n_estimators will change from 10 in version 0.20 to 100 in 0.22.\n",
      "  \"10 in version 0.20 to 100 in 0.22.\", FutureWarning)\n"
     ]
    },
    {
     "name": "stderr",
     "output_type": "stream",
     "text": [
      "/home/vilion/miniconda3/envs/bio/lib/python3.6/site-packages/sklearn/ensemble/forest.py:246: FutureWarning: The default value of n_estimators will change from 10 in version 0.20 to 100 in 0.22.\n",
      "  \"10 in version 0.20 to 100 in 0.22.\", FutureWarning)\n",
      "/home/vilion/miniconda3/envs/bio/lib/python3.6/site-packages/sklearn/ensemble/forest.py:246: FutureWarning: The default value of n_estimators will change from 10 in version 0.20 to 100 in 0.22.\n",
      "  \"10 in version 0.20 to 100 in 0.22.\", FutureWarning)\n",
      "/home/vilion/miniconda3/envs/bio/lib/python3.6/site-packages/sklearn/ensemble/forest.py:246: FutureWarning: The default value of n_estimators will change from 10 in version 0.20 to 100 in 0.22.\n",
      "  \"10 in version 0.20 to 100 in 0.22.\", FutureWarning)\n",
      "/home/vilion/miniconda3/envs/bio/lib/python3.6/site-packages/sklearn/ensemble/forest.py:246: FutureWarning: The default value of n_estimators will change from 10 in version 0.20 to 100 in 0.22.\n",
      "  \"10 in version 0.20 to 100 in 0.22.\", FutureWarning)\n",
      "/home/vilion/miniconda3/envs/bio/lib/python3.6/site-packages/sklearn/ensemble/forest.py:246: FutureWarning: The default value of n_estimators will change from 10 in version 0.20 to 100 in 0.22.\n",
      "  \"10 in version 0.20 to 100 in 0.22.\", FutureWarning)\n",
      "/home/vilion/miniconda3/envs/bio/lib/python3.6/site-packages/sklearn/ensemble/forest.py:246: FutureWarning: The default value of n_estimators will change from 10 in version 0.20 to 100 in 0.22.\n",
      "  \"10 in version 0.20 to 100 in 0.22.\", FutureWarning)\n",
      "/home/vilion/miniconda3/envs/bio/lib/python3.6/site-packages/sklearn/ensemble/forest.py:246: FutureWarning: The default value of n_estimators will change from 10 in version 0.20 to 100 in 0.22.\n",
      "  \"10 in version 0.20 to 100 in 0.22.\", FutureWarning)\n",
      "/home/vilion/miniconda3/envs/bio/lib/python3.6/site-packages/sklearn/ensemble/forest.py:246: FutureWarning: The default value of n_estimators will change from 10 in version 0.20 to 100 in 0.22.\n",
      "  \"10 in version 0.20 to 100 in 0.22.\", FutureWarning)\n",
      "/home/vilion/miniconda3/envs/bio/lib/python3.6/site-packages/sklearn/ensemble/forest.py:246: FutureWarning: The default value of n_estimators will change from 10 in version 0.20 to 100 in 0.22.\n",
      "  \"10 in version 0.20 to 100 in 0.22.\", FutureWarning)\n",
      "/home/vilion/miniconda3/envs/bio/lib/python3.6/site-packages/sklearn/ensemble/forest.py:246: FutureWarning: The default value of n_estimators will change from 10 in version 0.20 to 100 in 0.22.\n",
      "  \"10 in version 0.20 to 100 in 0.22.\", FutureWarning)\n",
      "/home/vilion/miniconda3/envs/bio/lib/python3.6/site-packages/sklearn/ensemble/forest.py:246: FutureWarning: The default value of n_estimators will change from 10 in version 0.20 to 100 in 0.22.\n",
      "  \"10 in version 0.20 to 100 in 0.22.\", FutureWarning)\n",
      "/home/vilion/miniconda3/envs/bio/lib/python3.6/site-packages/sklearn/ensemble/forest.py:246: FutureWarning: The default value of n_estimators will change from 10 in version 0.20 to 100 in 0.22.\n",
      "  \"10 in version 0.20 to 100 in 0.22.\", FutureWarning)\n",
      "/home/vilion/miniconda3/envs/bio/lib/python3.6/site-packages/sklearn/ensemble/forest.py:246: FutureWarning: The default value of n_estimators will change from 10 in version 0.20 to 100 in 0.22.\n",
      "  \"10 in version 0.20 to 100 in 0.22.\", FutureWarning)\n",
      "/home/vilion/miniconda3/envs/bio/lib/python3.6/site-packages/sklearn/ensemble/forest.py:246: FutureWarning: The default value of n_estimators will change from 10 in version 0.20 to 100 in 0.22.\n",
      "  \"10 in version 0.20 to 100 in 0.22.\", FutureWarning)\n",
      "/home/vilion/miniconda3/envs/bio/lib/python3.6/site-packages/sklearn/ensemble/forest.py:246: FutureWarning: The default value of n_estimators will change from 10 in version 0.20 to 100 in 0.22.\n",
      "  \"10 in version 0.20 to 100 in 0.22.\", FutureWarning)\n",
      "/home/vilion/miniconda3/envs/bio/lib/python3.6/site-packages/sklearn/ensemble/forest.py:246: FutureWarning: The default value of n_estimators will change from 10 in version 0.20 to 100 in 0.22.\n",
      "  \"10 in version 0.20 to 100 in 0.22.\", FutureWarning)\n",
      "/home/vilion/miniconda3/envs/bio/lib/python3.6/site-packages/sklearn/ensemble/forest.py:246: FutureWarning: The default value of n_estimators will change from 10 in version 0.20 to 100 in 0.22.\n",
      "  \"10 in version 0.20 to 100 in 0.22.\", FutureWarning)\n",
      "/home/vilion/miniconda3/envs/bio/lib/python3.6/site-packages/sklearn/ensemble/forest.py:246: FutureWarning: The default value of n_estimators will change from 10 in version 0.20 to 100 in 0.22.\n",
      "  \"10 in version 0.20 to 100 in 0.22.\", FutureWarning)\n",
      "/home/vilion/miniconda3/envs/bio/lib/python3.6/site-packages/sklearn/ensemble/forest.py:246: FutureWarning: The default value of n_estimators will change from 10 in version 0.20 to 100 in 0.22.\n",
      "  \"10 in version 0.20 to 100 in 0.22.\", FutureWarning)\n",
      "/home/vilion/miniconda3/envs/bio/lib/python3.6/site-packages/sklearn/ensemble/forest.py:246: FutureWarning: The default value of n_estimators will change from 10 in version 0.20 to 100 in 0.22.\n",
      "  \"10 in version 0.20 to 100 in 0.22.\", FutureWarning)\n",
      "/home/vilion/miniconda3/envs/bio/lib/python3.6/site-packages/sklearn/ensemble/forest.py:246: FutureWarning: The default value of n_estimators will change from 10 in version 0.20 to 100 in 0.22.\n",
      "  \"10 in version 0.20 to 100 in 0.22.\", FutureWarning)\n",
      "/home/vilion/miniconda3/envs/bio/lib/python3.6/site-packages/sklearn/ensemble/forest.py:246: FutureWarning: The default value of n_estimators will change from 10 in version 0.20 to 100 in 0.22.\n",
      "  \"10 in version 0.20 to 100 in 0.22.\", FutureWarning)\n",
      "/home/vilion/miniconda3/envs/bio/lib/python3.6/site-packages/sklearn/ensemble/forest.py:246: FutureWarning: The default value of n_estimators will change from 10 in version 0.20 to 100 in 0.22.\n",
      "  \"10 in version 0.20 to 100 in 0.22.\", FutureWarning)\n",
      "/home/vilion/miniconda3/envs/bio/lib/python3.6/site-packages/sklearn/ensemble/forest.py:246: FutureWarning: The default value of n_estimators will change from 10 in version 0.20 to 100 in 0.22.\n",
      "  \"10 in version 0.20 to 100 in 0.22.\", FutureWarning)\n",
      "/home/vilion/miniconda3/envs/bio/lib/python3.6/site-packages/sklearn/ensemble/forest.py:246: FutureWarning: The default value of n_estimators will change from 10 in version 0.20 to 100 in 0.22.\n",
      "  \"10 in version 0.20 to 100 in 0.22.\", FutureWarning)\n",
      "/home/vilion/miniconda3/envs/bio/lib/python3.6/site-packages/sklearn/ensemble/forest.py:246: FutureWarning: The default value of n_estimators will change from 10 in version 0.20 to 100 in 0.22.\n",
      "  \"10 in version 0.20 to 100 in 0.22.\", FutureWarning)\n",
      "/home/vilion/miniconda3/envs/bio/lib/python3.6/site-packages/sklearn/ensemble/forest.py:246: FutureWarning: The default value of n_estimators will change from 10 in version 0.20 to 100 in 0.22.\n",
      "  \"10 in version 0.20 to 100 in 0.22.\", FutureWarning)\n",
      "/home/vilion/miniconda3/envs/bio/lib/python3.6/site-packages/sklearn/ensemble/forest.py:246: FutureWarning: The default value of n_estimators will change from 10 in version 0.20 to 100 in 0.22.\n",
      "  \"10 in version 0.20 to 100 in 0.22.\", FutureWarning)\n",
      "/home/vilion/miniconda3/envs/bio/lib/python3.6/site-packages/sklearn/ensemble/forest.py:246: FutureWarning: The default value of n_estimators will change from 10 in version 0.20 to 100 in 0.22.\n",
      "  \"10 in version 0.20 to 100 in 0.22.\", FutureWarning)\n",
      "/home/vilion/miniconda3/envs/bio/lib/python3.6/site-packages/sklearn/ensemble/forest.py:246: FutureWarning: The default value of n_estimators will change from 10 in version 0.20 to 100 in 0.22.\n",
      "  \"10 in version 0.20 to 100 in 0.22.\", FutureWarning)\n",
      "/home/vilion/miniconda3/envs/bio/lib/python3.6/site-packages/sklearn/ensemble/forest.py:246: FutureWarning: The default value of n_estimators will change from 10 in version 0.20 to 100 in 0.22.\n",
      "  \"10 in version 0.20 to 100 in 0.22.\", FutureWarning)\n",
      "/home/vilion/miniconda3/envs/bio/lib/python3.6/site-packages/sklearn/ensemble/forest.py:246: FutureWarning: The default value of n_estimators will change from 10 in version 0.20 to 100 in 0.22.\n",
      "  \"10 in version 0.20 to 100 in 0.22.\", FutureWarning)\n",
      "/home/vilion/miniconda3/envs/bio/lib/python3.6/site-packages/sklearn/ensemble/forest.py:246: FutureWarning: The default value of n_estimators will change from 10 in version 0.20 to 100 in 0.22.\n",
      "  \"10 in version 0.20 to 100 in 0.22.\", FutureWarning)\n",
      "/home/vilion/miniconda3/envs/bio/lib/python3.6/site-packages/sklearn/ensemble/forest.py:246: FutureWarning: The default value of n_estimators will change from 10 in version 0.20 to 100 in 0.22.\n",
      "  \"10 in version 0.20 to 100 in 0.22.\", FutureWarning)\n"
     ]
    },
    {
     "name": "stderr",
     "output_type": "stream",
     "text": [
      "/home/vilion/miniconda3/envs/bio/lib/python3.6/site-packages/sklearn/ensemble/forest.py:246: FutureWarning: The default value of n_estimators will change from 10 in version 0.20 to 100 in 0.22.\n",
      "  \"10 in version 0.20 to 100 in 0.22.\", FutureWarning)\n",
      "/home/vilion/miniconda3/envs/bio/lib/python3.6/site-packages/sklearn/ensemble/forest.py:246: FutureWarning: The default value of n_estimators will change from 10 in version 0.20 to 100 in 0.22.\n",
      "  \"10 in version 0.20 to 100 in 0.22.\", FutureWarning)\n",
      "/home/vilion/miniconda3/envs/bio/lib/python3.6/site-packages/sklearn/ensemble/forest.py:246: FutureWarning: The default value of n_estimators will change from 10 in version 0.20 to 100 in 0.22.\n",
      "  \"10 in version 0.20 to 100 in 0.22.\", FutureWarning)\n",
      "/home/vilion/miniconda3/envs/bio/lib/python3.6/site-packages/sklearn/ensemble/forest.py:246: FutureWarning: The default value of n_estimators will change from 10 in version 0.20 to 100 in 0.22.\n",
      "  \"10 in version 0.20 to 100 in 0.22.\", FutureWarning)\n",
      "/home/vilion/miniconda3/envs/bio/lib/python3.6/site-packages/sklearn/ensemble/forest.py:246: FutureWarning: The default value of n_estimators will change from 10 in version 0.20 to 100 in 0.22.\n",
      "  \"10 in version 0.20 to 100 in 0.22.\", FutureWarning)\n",
      "/home/vilion/miniconda3/envs/bio/lib/python3.6/site-packages/sklearn/ensemble/forest.py:246: FutureWarning: The default value of n_estimators will change from 10 in version 0.20 to 100 in 0.22.\n",
      "  \"10 in version 0.20 to 100 in 0.22.\", FutureWarning)\n",
      "/home/vilion/miniconda3/envs/bio/lib/python3.6/site-packages/sklearn/ensemble/forest.py:246: FutureWarning: The default value of n_estimators will change from 10 in version 0.20 to 100 in 0.22.\n",
      "  \"10 in version 0.20 to 100 in 0.22.\", FutureWarning)\n",
      "/home/vilion/miniconda3/envs/bio/lib/python3.6/site-packages/sklearn/ensemble/forest.py:246: FutureWarning: The default value of n_estimators will change from 10 in version 0.20 to 100 in 0.22.\n",
      "  \"10 in version 0.20 to 100 in 0.22.\", FutureWarning)\n",
      "/home/vilion/miniconda3/envs/bio/lib/python3.6/site-packages/sklearn/ensemble/forest.py:246: FutureWarning: The default value of n_estimators will change from 10 in version 0.20 to 100 in 0.22.\n",
      "  \"10 in version 0.20 to 100 in 0.22.\", FutureWarning)\n",
      "/home/vilion/miniconda3/envs/bio/lib/python3.6/site-packages/sklearn/ensemble/forest.py:246: FutureWarning: The default value of n_estimators will change from 10 in version 0.20 to 100 in 0.22.\n",
      "  \"10 in version 0.20 to 100 in 0.22.\", FutureWarning)\n",
      "/home/vilion/miniconda3/envs/bio/lib/python3.6/site-packages/sklearn/ensemble/forest.py:246: FutureWarning: The default value of n_estimators will change from 10 in version 0.20 to 100 in 0.22.\n",
      "  \"10 in version 0.20 to 100 in 0.22.\", FutureWarning)\n",
      "/home/vilion/miniconda3/envs/bio/lib/python3.6/site-packages/sklearn/ensemble/forest.py:246: FutureWarning: The default value of n_estimators will change from 10 in version 0.20 to 100 in 0.22.\n",
      "  \"10 in version 0.20 to 100 in 0.22.\", FutureWarning)\n",
      "/home/vilion/miniconda3/envs/bio/lib/python3.6/site-packages/sklearn/ensemble/forest.py:246: FutureWarning: The default value of n_estimators will change from 10 in version 0.20 to 100 in 0.22.\n",
      "  \"10 in version 0.20 to 100 in 0.22.\", FutureWarning)\n",
      "/home/vilion/miniconda3/envs/bio/lib/python3.6/site-packages/sklearn/ensemble/forest.py:246: FutureWarning: The default value of n_estimators will change from 10 in version 0.20 to 100 in 0.22.\n",
      "  \"10 in version 0.20 to 100 in 0.22.\", FutureWarning)\n",
      "/home/vilion/miniconda3/envs/bio/lib/python3.6/site-packages/sklearn/ensemble/forest.py:246: FutureWarning: The default value of n_estimators will change from 10 in version 0.20 to 100 in 0.22.\n",
      "  \"10 in version 0.20 to 100 in 0.22.\", FutureWarning)\n",
      "/home/vilion/miniconda3/envs/bio/lib/python3.6/site-packages/sklearn/ensemble/forest.py:246: FutureWarning: The default value of n_estimators will change from 10 in version 0.20 to 100 in 0.22.\n",
      "  \"10 in version 0.20 to 100 in 0.22.\", FutureWarning)\n",
      "/home/vilion/miniconda3/envs/bio/lib/python3.6/site-packages/sklearn/ensemble/forest.py:246: FutureWarning: The default value of n_estimators will change from 10 in version 0.20 to 100 in 0.22.\n",
      "  \"10 in version 0.20 to 100 in 0.22.\", FutureWarning)\n",
      "/home/vilion/miniconda3/envs/bio/lib/python3.6/site-packages/sklearn/ensemble/forest.py:246: FutureWarning: The default value of n_estimators will change from 10 in version 0.20 to 100 in 0.22.\n",
      "  \"10 in version 0.20 to 100 in 0.22.\", FutureWarning)\n",
      "/home/vilion/miniconda3/envs/bio/lib/python3.6/site-packages/sklearn/ensemble/forest.py:246: FutureWarning: The default value of n_estimators will change from 10 in version 0.20 to 100 in 0.22.\n",
      "  \"10 in version 0.20 to 100 in 0.22.\", FutureWarning)\n",
      "/home/vilion/miniconda3/envs/bio/lib/python3.6/site-packages/sklearn/ensemble/forest.py:246: FutureWarning: The default value of n_estimators will change from 10 in version 0.20 to 100 in 0.22.\n",
      "  \"10 in version 0.20 to 100 in 0.22.\", FutureWarning)\n",
      "/home/vilion/miniconda3/envs/bio/lib/python3.6/site-packages/sklearn/ensemble/forest.py:246: FutureWarning: The default value of n_estimators will change from 10 in version 0.20 to 100 in 0.22.\n",
      "  \"10 in version 0.20 to 100 in 0.22.\", FutureWarning)\n",
      "/home/vilion/miniconda3/envs/bio/lib/python3.6/site-packages/sklearn/ensemble/forest.py:246: FutureWarning: The default value of n_estimators will change from 10 in version 0.20 to 100 in 0.22.\n",
      "  \"10 in version 0.20 to 100 in 0.22.\", FutureWarning)\n",
      "/home/vilion/miniconda3/envs/bio/lib/python3.6/site-packages/sklearn/ensemble/forest.py:246: FutureWarning: The default value of n_estimators will change from 10 in version 0.20 to 100 in 0.22.\n",
      "  \"10 in version 0.20 to 100 in 0.22.\", FutureWarning)\n",
      "/home/vilion/miniconda3/envs/bio/lib/python3.6/site-packages/sklearn/ensemble/forest.py:246: FutureWarning: The default value of n_estimators will change from 10 in version 0.20 to 100 in 0.22.\n",
      "  \"10 in version 0.20 to 100 in 0.22.\", FutureWarning)\n",
      "/home/vilion/miniconda3/envs/bio/lib/python3.6/site-packages/sklearn/ensemble/forest.py:246: FutureWarning: The default value of n_estimators will change from 10 in version 0.20 to 100 in 0.22.\n",
      "  \"10 in version 0.20 to 100 in 0.22.\", FutureWarning)\n",
      "/home/vilion/miniconda3/envs/bio/lib/python3.6/site-packages/sklearn/ensemble/forest.py:246: FutureWarning: The default value of n_estimators will change from 10 in version 0.20 to 100 in 0.22.\n",
      "  \"10 in version 0.20 to 100 in 0.22.\", FutureWarning)\n",
      "/home/vilion/miniconda3/envs/bio/lib/python3.6/site-packages/sklearn/ensemble/forest.py:246: FutureWarning: The default value of n_estimators will change from 10 in version 0.20 to 100 in 0.22.\n",
      "  \"10 in version 0.20 to 100 in 0.22.\", FutureWarning)\n",
      "/home/vilion/miniconda3/envs/bio/lib/python3.6/site-packages/sklearn/ensemble/forest.py:246: FutureWarning: The default value of n_estimators will change from 10 in version 0.20 to 100 in 0.22.\n",
      "  \"10 in version 0.20 to 100 in 0.22.\", FutureWarning)\n",
      "/home/vilion/miniconda3/envs/bio/lib/python3.6/site-packages/sklearn/ensemble/forest.py:246: FutureWarning: The default value of n_estimators will change from 10 in version 0.20 to 100 in 0.22.\n",
      "  \"10 in version 0.20 to 100 in 0.22.\", FutureWarning)\n"
     ]
    },
    {
     "data": {
      "image/png": "[encoded data removed]",
      "text/plain": [
       "<Figure size 432x288 with 1 Axes>"
      ]
     },
     "metadata": {
      "needs_background": "light"
     },
     "output_type": "display_data"
    }
   ],
   "source": [
    "import numpy as np\n",
    "\n",
    "from yellowbrick.model_selection import ValidationCurve\n",
    "\n",
    "#1)\n",
    "scaler = MinMaxScaler()\n",
    "\n",
    "pca=PCA(n_components=45)\n",
    "#2)\n",
    "rf_model = RandomForestRegressor(random_state=1212)\n",
    "#3) Crear pipeline\n",
    "pipeline1 = make_pipeline(scaler,pca,rf_model)\n",
    "cv = RepeatedKFold(n_splits=5,n_repeats=10,random_state=13)\n",
    "\n",
    "# Extract the instances and target\n",
    "viz = ValidationCurve(\n",
    "    pipeline1, njobs=-1,param_name=\"randomforestregressor__min_samples_leaf\",\n",
    "    param_range=[2,5,7,10,15,20], cv=cv, scoring=\"r2\"\n",
    ")\n",
    "#plt.ylim(0,0.6)\n",
    "# Fit and poof the visualizer\n",
    "viz.fit(X_train, y_train)\n",
    "viz.poof()\n"
   ]
  },
  {
   "cell_type": "code",
   "execution_count": 21,
   "metadata": {
    "scrolled": true
   },
   "outputs": [
    {
     "name": "stdout",
     "output_type": "stream",
     "text": [
      "Fitting 50 folds for each of 480 candidates, totalling 24000 fits\n"
     ]
    },
    {
     "name": "stderr",
     "output_type": "stream",
     "text": [
      "[Parallel(n_jobs=-1)]: Using backend LokyBackend with 4 concurrent workers.\n",
      "[Parallel(n_jobs=-1)]: Done  10 tasks      | elapsed:    5.9s\n",
      "[Parallel(n_jobs=-1)]: Done  64 tasks      | elapsed:   14.6s\n",
      "[Parallel(n_jobs=-1)]: Done 154 tasks      | elapsed:   36.5s\n",
      "[Parallel(n_jobs=-1)]: Done 280 tasks      | elapsed:   59.1s\n",
      "[Parallel(n_jobs=-1)]: Done 442 tasks      | elapsed:  1.5min\n",
      "[Parallel(n_jobs=-1)]: Done 640 tasks      | elapsed:  2.0min\n",
      "[Parallel(n_jobs=-1)]: Done 874 tasks      | elapsed:  2.5min\n",
      "[Parallel(n_jobs=-1)]: Done 1144 tasks      | elapsed:  3.1min\n",
      "[Parallel(n_jobs=-1)]: Done 1450 tasks      | elapsed:  3.7min\n",
      "[Parallel(n_jobs=-1)]: Done 1792 tasks      | elapsed:  4.6min\n",
      "[Parallel(n_jobs=-1)]: Done 2170 tasks      | elapsed:  5.3min\n",
      "[Parallel(n_jobs=-1)]: Done 2584 tasks      | elapsed:  6.3min\n",
      "[Parallel(n_jobs=-1)]: Done 3034 tasks      | elapsed:  7.5min\n",
      "[Parallel(n_jobs=-1)]: Done 3520 tasks      | elapsed:  9.6min\n",
      "[Parallel(n_jobs=-1)]: Done 4042 tasks      | elapsed: 12.2min\n",
      "[Parallel(n_jobs=-1)]: Done 4600 tasks      | elapsed: 14.5min\n",
      "[Parallel(n_jobs=-1)]: Done 5194 tasks      | elapsed: 17.2min\n",
      "[Parallel(n_jobs=-1)]: Done 5824 tasks      | elapsed: 19.8min\n",
      "[Parallel(n_jobs=-1)]: Done 6490 tasks      | elapsed: 21.8min\n",
      "[Parallel(n_jobs=-1)]: Done 7192 tasks      | elapsed: 23.6min\n",
      "[Parallel(n_jobs=-1)]: Done 7930 tasks      | elapsed: 25.4min\n",
      "[Parallel(n_jobs=-1)]: Done 8704 tasks      | elapsed: 27.2min\n",
      "[Parallel(n_jobs=-1)]: Done 9514 tasks      | elapsed: 30.7min\n",
      "[Parallel(n_jobs=-1)]: Done 10360 tasks      | elapsed: 35.3min\n",
      "[Parallel(n_jobs=-1)]: Done 11242 tasks      | elapsed: 39.9min\n",
      "[Parallel(n_jobs=-1)]: Done 12160 tasks      | elapsed: 43.9min\n",
      "[Parallel(n_jobs=-1)]: Done 13114 tasks      | elapsed: 46.3min\n",
      "[Parallel(n_jobs=-1)]: Done 14104 tasks      | elapsed: 48.9min\n",
      "[Parallel(n_jobs=-1)]: Done 15130 tasks      | elapsed: 52.0min\n",
      "[Parallel(n_jobs=-1)]: Done 16192 tasks      | elapsed: 58.9min\n",
      "[Parallel(n_jobs=-1)]: Done 17290 tasks      | elapsed: 65.4min\n",
      "[Parallel(n_jobs=-1)]: Done 18424 tasks      | elapsed: 71.3min\n",
      "[Parallel(n_jobs=-1)]: Done 19594 tasks      | elapsed: 74.8min\n",
      "[Parallel(n_jobs=-1)]: Done 20800 tasks      | elapsed: 78.2min\n",
      "[Parallel(n_jobs=-1)]: Done 22042 tasks      | elapsed: 86.4min\n",
      "[Parallel(n_jobs=-1)]: Done 23320 tasks      | elapsed: 94.3min\n",
      "[Parallel(n_jobs=-1)]: Done 24000 out of 24000 | elapsed: 98.7min finished\n"
     ]
    },
    {
     "data": {
      "text/plain": [
       "GridSearchCV(cv=<sklearn.model_selection._split.RepeatedKFold object at 0x7f32e2dbe588>,\n",
       "       error_score='raise-deprecating',\n",
       "       estimator=Pipeline(memory=None,\n",
       "     steps=[('minmaxscaler', MinMaxScaler(copy=True, feature_range=(0, 1))), ('pca', PCA(copy=True, iterated_power='auto', n_components=None, random_state=None,\n",
       "  svd_solver='auto', tol=0.0, whiten=False)), ('randomforestregressor', RandomForestRegressor(bootstrap=True, criterion='mse', max_depth=None,\n",
       " ...s='warn', n_jobs=None,\n",
       "           oob_score=False, random_state=1212, verbose=0, warm_start=False))]),\n",
       "       fit_params=None, iid='warn', n_jobs=-1,\n",
       "       param_grid={'randomforestregressor__bootstrap': [True], 'randomforestregressor__max_depth': [3, 5, 7, 9], 'randomforestregressor__max_features': ['sqrt', None], 'randomforestregressor__max_leaf_nodes': [None], 'randomforestregressor__min_samples_leaf': [1, 2, 5, 10, 15], 'randomforestregressor__min_samples_split': [2, 5, 10, 15], 'randomforestregressor__n_estimators': [50, 100, 300], 'randomforestregressor__random_state': [1212], 'pca__n_components': [45]},\n",
       "       pre_dispatch='2*n_jobs', refit='r2', return_train_score=True,\n",
       "       scoring=['neg_mean_squared_error', 'r2'], verbose=5)"
      ]
     },
     "execution_count": 21,
     "metadata": {},
     "output_type": "execute_result"
    }
   ],
   "source": [
    "#1)\n",
    "scaler = MinMaxScaler()\n",
    "\n",
    "pca=PCA()\n",
    "#2)\n",
    "rf_model = RandomForestRegressor(random_state=1212)\n",
    "#3) Crear pipeline\n",
    "pipeline1 = make_pipeline(scaler,pca,rf_model)\n",
    "# grid params\n",
    "param_grid = {\n",
    "    'randomforestregressor__bootstrap': [True],\n",
    "    'randomforestregressor__max_depth': [3,5,7,9],\n",
    "    'randomforestregressor__max_features': ['sqrt',None],\n",
    "    'randomforestregressor__max_leaf_nodes':[None],\n",
    "    'randomforestregressor__min_samples_leaf': [1,2,5,10,15],\n",
    "    'randomforestregressor__min_samples_split': [2,5,10,15],\n",
    "    'randomforestregressor__n_estimators': [50,100,300],\n",
    "    'randomforestregressor__random_state':[1212],\n",
    "    'pca__n_components': [45]\n",
    "    }\n",
    "cv = RepeatedKFold(n_splits=5,n_repeats=10,random_state=13)\n",
    "\n",
    "# Instantiate the grid search model\n",
    "grid1 = GridSearchCV(pipeline1, param_grid, verbose=5, n_jobs=-1,cv=cv,scoring=['neg_mean_squared_error','r2'],\n",
    "                        refit='r2',return_train_score=True)\n",
    "\n",
    "grid1.fit(X_train,y_train)"
   ]
  },
  {
   "cell_type": "code",
   "execution_count": 22,
   "metadata": {},
   "outputs": [
    {
     "name": "stdout",
     "output_type": "stream",
     "text": [
      "CV test RMSE 1.068676 +/- 0.466755\n",
      "CV train RMSE 0.477475 +/- 0.128651\n",
      "CV test r2 0.341113 +/- 0.067584\n",
      "CV train r2 0.869923 +/- 0.009319\n",
      "0.5288100480724314\n",
      " {'pca__n_components': 45, 'randomforestregressor__bootstrap': True, 'randomforestregressor__max_depth': 9, 'randomforestregressor__max_features': 'sqrt', 'randomforestregressor__max_leaf_nodes': None, 'randomforestregressor__min_samples_leaf': 1, 'randomforestregressor__min_samples_split': 2, 'randomforestregressor__n_estimators': 300, 'randomforestregressor__random_state': 1212}\n",
      "\n",
      "RMSE for test dataset: 1.1\n",
      "RMSE for train dataset: 0.52\n",
      "pearson corr  0.536741\n",
      "R2 test 0.2711554802299898\n",
      "R2 train 0.8479081784568606\n"
     ]
    }
   ],
   "source": [
    "# index of best scores\n",
    "rmse_bestCV_test_index = grid1.cv_results_['mean_test_neg_mean_squared_error'].argmax()\n",
    "rmse_bestCV_train_index = grid1.cv_results_['mean_train_neg_mean_squared_error'].argmax()\n",
    "r2_bestCV_test_index = grid1.cv_results_['mean_test_r2'].argmax()\n",
    "r2_bestCV_train_index = grid1.cv_results_['mean_train_r2'].argmax()\n",
    "# scores\n",
    "rmse_bestCV_test_score = grid1.cv_results_['mean_test_neg_mean_squared_error'][rmse_bestCV_test_index]\n",
    "rmse_bestCV_test_std = grid1.cv_results_['std_test_neg_mean_squared_error'][rmse_bestCV_test_index]\n",
    "rmse_bestCV_train_score = grid1.cv_results_['mean_train_neg_mean_squared_error'][rmse_bestCV_train_index]\n",
    "rmse_bestCV_train_std = grid1.cv_results_['std_train_neg_mean_squared_error'][rmse_bestCV_train_index]\n",
    "\n",
    "r2_bestCV_test_score = grid1.cv_results_['mean_test_r2'][r2_bestCV_test_index]\n",
    "r2_bestCV_test_std = grid1.cv_results_['std_test_r2'][r2_bestCV_test_index]\n",
    "r2_bestCV_train_score = grid1.cv_results_['mean_train_r2'][r2_bestCV_train_index]\n",
    "r2_bestCV_train_std = grid1.cv_results_['std_train_r2'][r2_bestCV_train_index]\n",
    "\n",
    "print('CV test RMSE {:f} +/- {:f}'.format(np.sqrt(-rmse_bestCV_test_score),np.sqrt(rmse_bestCV_test_std)))\n",
    "print('CV train RMSE {:f} +/- {:f}'.format(np.sqrt(-rmse_bestCV_train_score),np.sqrt(rmse_bestCV_train_std)))\n",
    "print('CV test r2 {:f} +/- {:f}'.format(r2_bestCV_test_score,r2_bestCV_test_std))\n",
    "print('CV train r2 {:f} +/- {:f}'.format(r2_bestCV_train_score,r2_bestCV_train_std))\n",
    "\n",
    "print(r2_bestCV_train_score-r2_bestCV_test_score)\n",
    "print(\"\",grid1.best_params_)\n",
    "y_test_pred = grid1.best_estimator_.predict(X_test)\n",
    "y_train_pred = grid1.best_estimator_.predict(X_train)\n",
    "print(\"\\nRMSE for test dataset: {}\".format(np.round(np.sqrt(mean_squared_error(y_test, y_test_pred)), 2)))\n",
    "print(\"RMSE for train dataset: {}\".format(np.round(np.sqrt(mean_squared_error(y_train, y_train_pred)), 2)))\n",
    "print(\"pearson corr  {:f}\".format(np.corrcoef(y_test_pred,y_test)[0][1]))\n",
    "print('R2 test',grid1.score(X_test,y_test))\n",
    "print('R2 train',grid1.score(X_train,y_train))"
   ]
  },
  {
   "cell_type": "code",
   "execution_count": null,
   "metadata": {
    "collapsed": true
   },
   "outputs": [],
   "source": [
    "CV test RMSE 1.105251 +/- 0.466779\n",
    "CV train RMSE 0.999144 +/- 0.200865\n",
    "CV test r2 0.295946 +/- 0.046807\n",
    "CV train r2 0.430707 +/- 0.012496\n",
    "0.1347609890421343\n",
    " {'randomforestregressor__bootstrap': True, 'randomforestregressor__max_depth': None, 'randomforestregressor__max_features': 'sqrt', 'randomforestregressor__max_leaf_nodes': None, 'randomforestregressor__min_samples_leaf': 12, 'randomforestregressor__min_samples_split': 2, 'randomforestregressor__n_estimators': 50, 'randomforestregressor__random_state': 1212}\n",
    "\n",
    "RMSE for test dataset: 1.08\n",
    "RMSE for train dataset: 0.98\n",
    "pearson corr  0.561328\n",
    "R2 test 0.2908224989046857\n",
    "R2 train 0.45548341916132573"
   ]
  },
  {
   "cell_type": "code",
   "execution_count": 23,
   "metadata": {},
   "outputs": [
    {
     "data": {
      "image/png": "[encoded data removed]",
      "text/plain": [
       "<Figure size 432x288 with 2 Axes>"
      ]
     },
     "metadata": {
      "needs_background": "light"
     },
     "output_type": "display_data"
    }
   ],
   "source": [
    "visualizer = ResidualsPlot(grid1.best_estimator_)\n",
    "\n",
    "visualizer.fit(X_train, y_train)  # Fit the training data to the model\n",
    "visualizer.score(X_test, y_test)  # Evaluate the model on the test data\n",
    "visualizer.poof()                 # Draw/show/poof the data"
   ]
  },
  {
   "cell_type": "code",
   "execution_count": 24,
   "metadata": {},
   "outputs": [
    {
     "data": {
      "image/png": "[encoded data removed]",
      "text/plain": [
       "<Figure size 432x288 with 1 Axes>"
      ]
     },
     "metadata": {
      "needs_background": "light"
     },
     "output_type": "display_data"
    }
   ],
   "source": [
    "perror = PredictionError(grid1.best_estimator_)\n",
    "\n",
    "perror.fit(X_train, y_train)  # Fit the training data to the visualizer\n",
    "perror.score(X_test, y_test)  # Evaluate the model on the test data\n",
    "g = perror.poof() "
   ]
  },
  {
   "cell_type": "code",
   "execution_count": 25,
   "metadata": {},
   "outputs": [
    {
     "data": {
      "image/png": "[encoded data removed]",
      "text/plain": [
       "<Figure size 432x288 with 1 Axes>"
      ]
     },
     "metadata": {
      "needs_background": "light"
     },
     "output_type": "display_data"
    }
   ],
   "source": [
    "viz = LearningCurve(grid1.best_estimator_, cv=cv, n_jobs=-1,scoring='r2',train_sizes=np.linspace(0.2, 1.0, 10))\n",
    "viz.fit(X, y)\n",
    "#plt.ylim(0,-4)\n",
    "viz.poof()"
   ]
  },
  {
   "cell_type": "code",
   "execution_count": 16,
   "metadata": {
    "collapsed": true
   },
   "outputs": [],
   "source": [
    "final_rf = grid1.best_estimator_.fit(X,y)"
   ]
  },
  {
   "cell_type": "code",
   "execution_count": 17,
   "metadata": {},
   "outputs": [
    {
     "data": {
      "text/plain": [
       "['RFmodel_contact400energy_sasa_fCorr.pkl']"
      ]
     },
     "execution_count": 17,
     "metadata": {},
     "output_type": "execute_result"
    }
   ],
   "source": [
    "# save final model\n",
    "\n",
    "joblib.dump(final_rf, 'RFmodel_contact400energy_sasa_fCorr.pkl')"
   ]
  },
  {
   "cell_type": "markdown",
   "metadata": {},
   "source": [
    "# mismo modelo, ahora con smote "
   ]
  },
  {
   "cell_type": "code",
   "execution_count": 18,
   "metadata": {
    "collapsed": true
   },
   "outputs": [],
   "source": [
    "# forma 1\n",
    "df_final['class'] = np.where((df_final['ddG_exp'] < -0.4) | (df_final['ddG_exp'] > 1),0,1)\n",
    "# forma 2 \n",
    "#df_final['class'] = np.where((df_final['ddG_exp'] < -0.4),1,0)"
   ]
  },
  {
   "cell_type": "code",
   "execution_count": 19,
   "metadata": {},
   "outputs": [
    {
     "name": "stdout",
     "output_type": "stream",
     "text": [
      "Before OverSampling, counts of label '1': 355\n",
      "Before OverSampling, counts of label '0': 254\n"
     ]
    }
   ],
   "source": [
    "print(\"Before OverSampling, counts of label '1': {}\".format(sum(df_final['class'] == 1)))\n",
    "print(\"Before OverSampling, counts of label '0': {}\".format(sum(df_final['class'] == 0)))"
   ]
  },
  {
   "cell_type": "code",
   "execution_count": 20,
   "metadata": {},
   "outputs": [
    {
     "data": {
      "text/plain": [
       "<matplotlib.axes._subplots.AxesSubplot at 0x1a22f64828>"
      ]
     },
     "execution_count": 20,
     "metadata": {},
     "output_type": "execute_result"
    },
    {
     "data": {
      "image/png": "[encoded data removed]",
      "text/plain": [
       "<Figure size 432x288 with 1 Axes>"
      ]
     },
     "metadata": {},
     "output_type": "display_data"
    }
   ],
   "source": [
    "df_final.loc[df_final['class'] == 0]['ddG_exp'].hist()"
   ]
  },
  {
   "cell_type": "code",
   "execution_count": 21,
   "metadata": {
    "collapsed": true
   },
   "outputs": [],
   "source": [
    "X = df_final.drop('class',axis=1)\n",
    "y = df_final['class']"
   ]
  },
  {
   "cell_type": "code",
   "execution_count": 22,
   "metadata": {},
   "outputs": [
    {
     "name": "stderr",
     "output_type": "stream",
     "text": [
      "/Users/vfica/miniconda3/envs/bio/lib/python3.6/site-packages/sklearn/model_selection/_split.py:2179: FutureWarning: From version 0.21, test_size will always complement train_size unless both are specified.\n",
      "  FutureWarning)\n"
     ]
    }
   ],
   "source": [
    "X_train, X_test, y_train, y_test = train_test_split(X, y,stratify = y,train_size=0.8,random_state=1212)\n"
   ]
  },
  {
   "cell_type": "code",
   "execution_count": 23,
   "metadata": {
    "collapsed": true
   },
   "outputs": [],
   "source": [
    "#smote = ovs.SMOTE(random_state=1212,m_neighbors=10)\n",
    "smote = ovs.BorderlineSMOTE(random_state=1212,m_neighbors=12,kind='borderline-1')\n",
    "#adasyn = ovs.ADASYN(random_state=1212,n_neighbors=10)\n",
    "#X_train_re , y_train_re = adasyn.fit_sample(X_train,y_train)\n",
    "X_train_re , y_train_re = smote.fit_sample(X_train,y_train)"
   ]
  },
  {
   "cell_type": "code",
   "execution_count": 24,
   "metadata": {
    "collapsed": true
   },
   "outputs": [],
   "source": [
    "# back to originalk shape and target\n",
    "X_train_normal = X_train_re[:,:-1]\n",
    "y_train_normal = X_train_re[:,-5]\n",
    "\n",
    "X_test_normal = X_test.iloc[:,:-1]\n",
    "y_test_normal = X_test.iloc[:,-5]"
   ]
  },
  {
   "cell_type": "code",
   "execution_count": 34,
   "metadata": {},
   "outputs": [
    {
     "data": {
      "text/plain": [
       "array([-0.08      , -0.05      , -0.52      , -0.06      , -0.06      ,\n",
       "        1.2       ,  2.16      ,  5.22      ,  0.1       ,  1.3       ,\n",
       "        1.57      , -0.2       ,  1.78      , -0.        ,  0.75      ,\n",
       "       -0.        ,  0.24      ,  1.4       ,  1.17      ,  2.        ,\n",
       "       -0.2       ,  1.75      ,  1.17      , -0.2       ,  0.02      ,\n",
       "        1.05      ,  0.2       , -0.15      ,  0.5       , -0.        ,\n",
       "       -0.        , -0.3       ,  0.1       ,  0.6       ,  0.68      ,\n",
       "        0.84      , -0.        ,  0.07      , -0.4       ,  0.17      ,\n",
       "        2.73      ,  1.06      , -0.34      , -1.33      ,  0.66      ,\n",
       "        3.69      , -0.06      ,  0.03      ,  2.5       ,  2.73      ,\n",
       "        2.5       ,  0.22      , -0.58      ,  2.08      ,  0.6       ,\n",
       "        1.1       , -0.2       , -0.07      ,  0.26      , -0.54      ,\n",
       "        0.96      ,  0.82      ,  0.56      ,  4.4       , -0.7       ,\n",
       "        1.        , -0.16      , -0.3       , -0.4       ,  0.53      ,\n",
       "       -0.06      ,  0.3       ,  3.5       , -0.04      , -0.03      ,\n",
       "        1.        ,  1.4       ,  1.48      , -0.51      ,  0.5       ,\n",
       "        0.1       , -0.12      , -1.19      ,  1.85      , -0.21      ,\n",
       "       -0.        ,  0.9       ,  0.85      ,  1.12      , -0.6       ,\n",
       "        0.02      ,  0.3       , -0.24      ,  1.32      ,  1.3       ,\n",
       "       -0.85      ,  0.93      ,  1.36      , -0.        , -1.9       ,\n",
       "        0.3       ,  0.45      ,  0.54      ,  3.34      ,  0.31      ,\n",
       "        2.59      , -0.95      ,  0.82      ,  1.26      ,  0.1       ,\n",
       "        0.23      ,  4.        ,  0.56      ,  1.2       ,  0.17      ,\n",
       "        4.1       ,  0.61      ,  2.9       ,  0.14      , -0.5       ,\n",
       "        2.03      ,  0.71      , -0.        ,  1.7       ,  1.51      ,\n",
       "        0.8       ,  0.41      ,  0.62      ,  1.2       ,  1.9       ,\n",
       "        0.23      ,  2.5       , -0.        , -0.67      , -0.        ,\n",
       "        0.82      ,  0.84      , -1.6       , -0.06      , -1.5       ,\n",
       "       -0.62      ,  0.8       , -0.5       , -0.3       , -0.        ,\n",
       "       -0.15      ,  0.08      ,  0.46      ,  2.86      ,  1.9       ,\n",
       "        0.8       ,  0.41      ,  0.5       ,  0.71      , -0.        ,\n",
       "       -1.2       ,  1.91      , -0.        , -0.41      , -1.5       ,\n",
       "        0.13      , -0.        ,  0.43      , -0.9       ,  1.4       ,\n",
       "        2.73      ,  0.14      ,  1.48      ,  4.13      , -0.        ,\n",
       "        4.32      ,  0.57      , -0.43      ,  3.69      , -0.        ,\n",
       "       -0.14      ,  0.11      , -0.02      ,  1.17      ,  5.5       ,\n",
       "        1.88      ,  0.19      , -0.36      ,  0.08      ,  2.08      ,\n",
       "        0.72      , -0.        ,  1.4       ,  1.3       ,  2.9       ,\n",
       "        0.8       , -0.        ,  0.82      ,  0.8       ,  0.87      ,\n",
       "       -0.32      ,  0.29      ,  0.64      ,  0.16      , -0.18      ,\n",
       "        4.13      ,  6.1       , -0.97      ,  2.67      ,  1.8       ,\n",
       "        0.14      ,  1.64      ,  0.9       ,  1.62      ,  0.66      ,\n",
       "        0.76      ,  0.02      ,  0.3       ,  0.51      , -0.3       ,\n",
       "        1.8       ,  0.49      ,  1.34      ,  1.17      ,  1.89      ,\n",
       "        0.14      ,  1.88      ,  0.65      ,  0.77      ,  1.91      ,\n",
       "        0.5       ,  1.6       ,  0.41      ,  4.9       ,  0.2       ,\n",
       "        0.9       ,  0.34      ,  4.87      ,  0.71      ,  0.5       ,\n",
       "        0.42      ,  0.3       ,  1.3       ,  0.41      ,  0.8       ,\n",
       "        0.69      , -0.71      , -0.16      , -0.        ,  1.09      ,\n",
       "       -0.15      , -0.71      ,  1.4       ,  0.41      ,  0.33      ,\n",
       "        5.67      , -0.7       ,  0.7       , -1.25      ,  1.        ,\n",
       "        2.84      , -0.9       , -0.05      ,  1.91      ,  0.31      ,\n",
       "       -0.05      ,  1.3       ,  2.        ,  1.31      ,  4.17      ,\n",
       "       -0.4       , -0.01      ,  1.26      , -0.51      , -0.1       ,\n",
       "       -1.53      ,  1.05      , -0.26      ,  0.42      ,  1.67      ,\n",
       "       -0.        ,  6.18      ,  0.47      ,  4.79      , -0.62      ,\n",
       "       -0.        , -0.2       , -0.        ,  2.64      ,  0.25      ,\n",
       "       -0.        ,  2.73      ,  1.13      , -0.09      ,  0.3       ,\n",
       "        0.41      ,  0.3       ,  0.29      ,  0.22      , -0.4       ,\n",
       "        1.        ,  0.02      ,  0.89      ,  1.36      ,  2.4       ,\n",
       "       -2.        , -0.01      , -0.17      ,  0.8       , -0.8       ,\n",
       "       -0.63      ,  3.3       ,  1.26      ,  1.15      , -0.12      ,\n",
       "        1.13      , -0.66      ,  0.18      ,  0.4       , -0.07      ,\n",
       "        0.07      , -0.41      , -0.        ,  1.89      , -0.        ,\n",
       "       -0.8       ,  2.37      ,  4.13      ,  0.92      ,  1.38      ,\n",
       "       -0.69      ,  0.9       ,  0.51      , -0.3       , -0.3       ,\n",
       "        0.23      ,  2.08      , -0.28      ,  0.4       ,  0.92      ,\n",
       "        1.8       ,  0.38      ,  0.65      ,  2.82      ,  1.52      ,\n",
       "       -0.3       ,  1.09      ,  0.31      , -0.41      , -0.03      ,\n",
       "        0.66      ,  0.07      , -0.15      ,  1.7       , -0.        ,\n",
       "        0.41      ,  0.51      ,  2.        , -0.        ,  0.8       ,\n",
       "        2.75      ,  0.8       ,  2.75      ,  0.46      ,  0.7       ,\n",
       "       -0.12      ,  0.1       ,  1.79      ,  0.73      , -0.95      ,\n",
       "        1.1       ,  0.92      ,  3.7       ,  1.88      ,  0.3       ,\n",
       "       -0.8       ,  1.8       ,  0.1       , -0.16      , -0.03      ,\n",
       "        0.95      ,  0.3       ,  0.9       , -0.        ,  0.29      ,\n",
       "        0.4       ,  1.9       , -0.07      ,  2.75      ,  2.34      ,\n",
       "        4.1       ,  1.        , -0.        , -0.2       ,  2.76      ,\n",
       "       -0.3       ,  0.9       ,  2.7       ,  0.82      ,  0.41      ,\n",
       "        0.48      , -0.01      ,  0.01      ,  1.03      ,  1.7       ,\n",
       "        3.25      ,  1.91      ,  1.7       ,  1.7       ,  0.65      ,\n",
       "        0.3       ,  0.09      ,  0.56      ,  1.01      , -0.58      ,\n",
       "        0.95      ,  0.03      ,  0.6       ,  1.58      ,  0.3       ,\n",
       "       -0.13      , -0.        ,  1.36      , -0.3       ,  2.9       ,\n",
       "        2.32      ,  3.69      ,  2.        ,  1.75      , -0.        ,\n",
       "        0.57      ,  1.12      , -0.01      , -0.07      ,  1.36      ,\n",
       "        0.13      ,  0.22      ,  0.82      , -0.2       ,  0.66      ,\n",
       "        0.4       ,  2.05      ,  0.82      , -0.8       , -1.5       ,\n",
       "       -1.36      ,  1.4       ,  0.15      ,  1.1       ,  0.41      ,\n",
       "       -0.12      ,  0.73      ,  0.52      ,  1.21      , -0.1       ,\n",
       "       -0.74      ,  1.3       ,  0.51      ,  6.        , -0.        ,\n",
       "        0.37      ,  2.4       ,  3.69      ,  1.42      , -1.4       ,\n",
       "        1.08      ,  4.        ,  0.51      ,  0.31      , -0.1       ,\n",
       "        0.7       ,  1.36      ,  0.1       ,  0.9       ,  3.7       ,\n",
       "        1.91      ,  1.2       , -0.09      , -0.05      , -0.        ,\n",
       "        1.64      ,  0.16      ,  0.42      ,  3.3       ,  2.28      ,\n",
       "       -3.        , -0.31      ,  0.64      ,  0.5       ,  0.13      ,\n",
       "        0.62      ,  0.5       ,  2.73      ,  1.39419517,  0.25564505,\n",
       "        1.20518817, -1.34148784,  3.69      , -0.63568043,  1.86849708,\n",
       "       -1.34464482,  1.06569447,  1.21904821,  2.14921612,  1.70698597,\n",
       "        1.36      ,  1.14529948,  2.31469191,  1.12233741,  1.29014525,\n",
       "        3.40194265, -1.09921509,  2.66382087,  1.16215853,  2.62708072,\n",
       "       -0.75211618,  1.25679341,  3.65131679,  1.61886054,  3.39755776,\n",
       "        2.27959227,  1.36478226,  0.55479314, -0.56555074, -1.48689381,\n",
       "        2.12565506,  1.85988877,  3.69387   ,  1.63782533,  1.30709171,\n",
       "        1.73023371,  0.17733243,  2.53101357,  2.69536928,  2.26593285,\n",
       "        1.25183868, -0.31913385,  2.14912978, -0.85573399,  2.85872907,\n",
       "        1.12973591, -0.60268481,  2.25911123,  2.36132209,  2.06357126,\n",
       "       -0.72627528,  0.18356956,  1.56527276,  1.90780352, -1.109045  ,\n",
       "       -0.46420958,  1.90653156, -0.62555431,  2.66660461,  2.15419297,\n",
       "        3.20895698,  1.47104056,  1.23977644,  1.40103392,  1.66736045,\n",
       "        2.76867704, -0.11190941,  1.82486482, -0.73862202,  1.79095984,\n",
       "        2.75569056,  1.76036634,  1.81083071,  1.83970119,  1.45402123,\n",
       "        1.3       ,  1.68674077,  1.36531898])"
      ]
     },
     "execution_count": 34,
     "metadata": {},
     "output_type": "execute_result"
    }
   ],
   "source": [
    "X_train_re[:,-5]"
   ]
  },
  {
   "cell_type": "code",
   "execution_count": 25,
   "metadata": {},
   "outputs": [
    {
     "name": "stdout",
     "output_type": "stream",
     "text": [
      "Training score (r2): 0.9929978413287694\n",
      "Test score (r2): 0.9901959175563946\n",
      "\n",
      "Root mean square error for test dataset: 2094.28\n",
      "Root mean square error for train dataset: 1897.76\n",
      "pearson corr:  0.9968148846145848\n"
     ]
    }
   ],
   "source": [
    "model = grid1.best_estimator_.fit(X_train_normal,y_train_normal)\n",
    "#print('CV test RMSE',np.sqrt(-grid.best_score_))\n",
    "#print('CV train RMSE',np.sqrt(-grid.cv_results_['mean_train_score'].max()))\n",
    "\n",
    "y_test_pred = model.predict(X_test_normal.values)\n",
    "y_train_pred = model.predict(X_train_normal)\n",
    "\n",
    "print('Training score (r2): {}'.format(r2_score(y_train_normal, y_train_pred)))\n",
    "print('Test score (r2): {}'.format(r2_score(y_test_normal.values, y_test_pred)))\n",
    "\n",
    "print(\"\\nRoot mean square error for test dataset: {}\".format(np.round(np.sqrt(mean_squared_error(y_test_normal.values, y_test_pred)), 2)))\n",
    "print(\"Root mean square error for train dataset: {}\".format(np.round(np.sqrt(mean_squared_error(y_train_normal, y_train_pred)), 2)))\n",
    "print(\"pearson corr: \",np.corrcoef(y_test_pred,y_test_normal.values)[0][1])"
   ]
  },
  {
   "cell_type": "code",
   "execution_count": 140,
   "metadata": {},
   "outputs": [
    {
     "data": {
      "image/png": "[encoded data removed]",
      "text/plain": [
       "<Figure size 432x288 with 1 Axes>"
      ]
     },
     "metadata": {},
     "output_type": "display_data"
    }
   ],
   "source": [
    "perror = PredictionError(model)\n",
    "\n",
    "perror.fit(X_train_normal, y_train_normal)  # Fit the training data to the visualizer\n",
    "perror.score(X_test_normal.values, y_test_normal.values)  # Evaluate the model on the test data\n",
    "g = perror.poof()"
   ]
  },
  {
   "cell_type": "code",
   "execution_count": 141,
   "metadata": {},
   "outputs": [
    {
     "data": {
      "image/png": "[encoded data removed]",
      "text/plain": [
       "<Figure size 432x288 with 2 Axes>"
      ]
     },
     "metadata": {},
     "output_type": "display_data"
    }
   ],
   "source": [
    "visualizer = ResidualsPlot(model)\n",
    "\n",
    "visualizer.fit(X_train_normal, y_train_normal)  # Fit the training data to the model\n",
    "visualizer.score(X_test_normal.values, y_test_normal.values)  # Evaluate the model on the test data\n",
    "visualizer.poof()                 # Draw/show/poof the data\n"
   ]
  },
  {
   "cell_type": "code",
   "execution_count": null,
   "metadata": {
    "collapsed": true
   },
   "outputs": [],
   "source": []
  },
  {
   "cell_type": "code",
   "execution_count": null,
   "metadata": {
    "collapsed": true
   },
   "outputs": [],
   "source": []
  },
  {
   "cell_type": "markdown",
   "metadata": {},
   "source": [
    "## Salvar modelo final, entrenado con el total de lso datos"
   ]
  },
  {
   "cell_type": "code",
   "execution_count": 115,
   "metadata": {
    "collapsed": true
   },
   "outputs": [],
   "source": [
    "ABPRED_DIR = Path().cwd().parent\n",
    "DATA = ABPRED_DIR / \"data\"\n",
    "\n",
    "#dataframe final\n",
    "df_final = pd.read_csv(DATA/\"../data/DF_features_400_2019.csv\",index_col=0)\n",
    "# Quitar modelos por homologia deltraining set\n",
    "#df_final_onlyHM = df_final.loc[df_final.index.str.startswith(\"HM\")]\n",
    "#df_final= df_final.loc[~df_final.index.str.startswith(\"HM\")]\n",
    "\n",
    "index_ddg8 = (df_final['ddG(kcal/mol)']==8)\n",
    "df_final = df_final.loc[-index_ddg8]\n",
    "#testiar eliminando estructuras con ddg menor o igual a -4 kcal/mol , outliers\n",
    "index_ddg_4 =  (df_final['ddG(kcal/mol)'] <= -4)\n",
    "df_final = df_final.loc[-index_ddg_4]\n",
    "\n",
    "\n",
    "pdb_names = df_final.index\n",
    "features_names = df_final.drop('ddG(kcal/mol)',axis=1).columns"
   ]
  },
  {
   "cell_type": "code",
   "execution_count": 42,
   "metadata": {
    "collapsed": true
   },
   "outputs": [],
   "source": [
    "# forma 1\n",
    "#df_final['class'] = np.where((df_final['ddG(kcal/mol)'] < -0.4) | (df_final['ddG(kcal/mol)'] > 2.4),0,1)\n",
    "# forma 2 \n",
    "df_final['class'] = np.where((df_final['ddG(kcal/mol)'] < 0),1,0)"
   ]
  },
  {
   "cell_type": "code",
   "execution_count": 43,
   "metadata": {},
   "outputs": [
    {
     "name": "stdout",
     "output_type": "stream",
     "text": [
      "Before OverSampling, counts of label '1': 481\n",
      "Before OverSampling, counts of label '0': 134\n"
     ]
    }
   ],
   "source": [
    "print(\"Before OverSampling, counts of label '1': {}\".format(sum(df_final['class'] == 1)))\n",
    "print(\"Before OverSampling, counts of label '0': {}\".format(sum(df_final['class'] == 0)))"
   ]
  },
  {
   "cell_type": "code",
   "execution_count": 44,
   "metadata": {
    "collapsed": true
   },
   "outputs": [],
   "source": [
    "X = df_final.drop('class',axis=1)\n",
    "y = df_final['class']"
   ]
  },
  {
   "cell_type": "code",
   "execution_count": 45,
   "metadata": {
    "collapsed": true
   },
   "outputs": [],
   "source": [
    "smote = ovs.SMOTE(random_state=12,m_neighbors=25)\n",
    "X_re , y__re = smote.fit_sample(X,y)"
   ]
  },
  {
   "cell_type": "code",
   "execution_count": 46,
   "metadata": {
    "collapsed": true
   },
   "outputs": [],
   "source": [
    "# back to originalk shape and target\n",
    "X_normal = X_re[:,:-1]\n",
    "y_normal = X_re[:,-1]"
   ]
  },
  {
   "cell_type": "code",
   "execution_count": 47,
   "metadata": {
    "collapsed": true
   },
   "outputs": [],
   "source": [
    "final_rf = grid1.best_estimator_.fit(X_normal,y_normal)"
   ]
  },
  {
   "cell_type": "code",
   "execution_count": 48,
   "metadata": {},
   "outputs": [
    {
     "data": {
      "text/plain": [
       "['RFmodel_400.smote.v1.pkl']"
      ]
     },
     "execution_count": 48,
     "metadata": {},
     "output_type": "execute_result"
    }
   ],
   "source": [
    "# save final model\n",
    "\n",
    "joblib.dump(final_rf, 'RFmodel_400.smote.v1.pkl')"
   ]
  },
  {
   "cell_type": "code",
   "execution_count": null,
   "metadata": {
    "collapsed": true
   },
   "outputs": [],
   "source": []
  },
  {
   "cell_type": "code",
   "execution_count": 12,
   "metadata": {},
   "outputs": [
    {
     "name": "stderr",
     "output_type": "stream",
     "text": [
      "/Users/vfica/miniconda3/envs/bio/lib/python3.6/site-packages/scipy/stats/stats.py:1713: FutureWarning: Using a non-tuple sequence for multidimensional indexing is deprecated; use `arr[tuple(seq)]` instead of `arr[seq]`. In the future this will be interpreted as an array index, `arr[np.array(seq)]`, which will result either in an error or a different result.\n",
      "  return np.add.reduce(sorted[indexer] * weights, axis=axis) / sumval\n"
     ]
    },
    {
     "data": {
      "text/plain": [
       "Text(4.5,-0.5,'RMSE = 1.017')"
      ]
     },
     "execution_count": 12,
     "metadata": {},
     "output_type": "execute_result"
    },
    {
     "data": {
      "image/png": "[encoded data removed]",
      "text/plain": [
       "<Figure size 432x288 with 1 Axes>"
      ]
     },
     "metadata": {},
     "output_type": "display_data"
    }
   ],
   "source": [
    "rmse_test = np.round(np.sqrt(mean_squared_error(y_test, y_pred_test)), 3)\n",
    "df_pred = pd.DataFrame({\"Predicted ddG(kcal/mol)\": y_pred_test, \"Actual ddG(kcal/mol)\": y_test.values})\n",
    "pearsonr_test = round(df_pred.corr().iloc[0,1],3)\n",
    "\n",
    "g = sns.regplot(x=\"Actual ddG(kcal/mol)\", y=\"Predicted ddG(kcal/mol)\",data=df_pred)\n",
    "plt.title(\"Predicted vs Experimental ddG (Independent set: 123 complexes)\")\n",
    "\n",
    "plt.text(-2,3,\"pearsonr = %s\" %pearsonr_test)\n",
    "plt.text(4.5,-0.5,\"RMSE = %s\" %rmse_test)\n",
    "\n",
    "#plt.savefig(\"RFmodel_300_testfit.png\",dpi=600)"
   ]
  },
  {
   "cell_type": "code",
   "execution_count": 13,
   "metadata": {},
   "outputs": [
    {
     "name": "stderr",
     "output_type": "stream",
     "text": [
      "/Users/vfica/miniconda3/envs/bio/lib/python3.6/site-packages/scipy/stats/stats.py:1713: FutureWarning: Using a non-tuple sequence for multidimensional indexing is deprecated; use `arr[tuple(seq)]` instead of `arr[seq]`. In the future this will be interpreted as an array index, `arr[np.array(seq)]`, which will result either in an error or a different result.\n",
      "  return np.add.reduce(sorted[indexer] * weights, axis=axis) / sumval\n"
     ]
    },
    {
     "data": {
      "text/plain": [
       "Text(0.5,1,'Predicted vs Experimental ddG (Train set: 492 complexes)')"
      ]
     },
     "execution_count": 13,
     "metadata": {},
     "output_type": "execute_result"
    },
    {
     "data": {
      "image/png": "[encoded data removed]",
      "text/plain": [
       "<Figure size 432x288 with 1 Axes>"
      ]
     },
     "metadata": {},
     "output_type": "display_data"
    }
   ],
   "source": [
    "df_train_pred = pd.DataFrame({\"Predicted ddG(kcal/mol)\": y_train, \"Actual ddG(kcal/mol)\": y_pred_train})\n",
    "pearsonr_train = round(df_train_pred.corr().iloc[0,1],3)\n",
    "rmse_train = np.round(np.sqrt(mean_squared_error(y_train, y_pred_train)), 3)\n",
    "\n",
    "g = sns.regplot(x=\"Actual ddG(kcal/mol)\", y=\"Predicted ddG(kcal/mol)\",data=df_train_pred)\n",
    "\n",
    "plt.text(-0.4,6.5,\"pearsonr = %s\" %pearsonr_train)\n",
    "plt.text(3.5,-2.5,\"RMSE = %s\" %rmse_train)\n",
    "plt.title(\"Predicted vs Experimental ddG (Train set: 492 complexes)\")\n",
    "#plt.savefig(\"RFmodel_300_trainfit.png\",dpi=600)\n"
   ]
  },
  {
   "cell_type": "code",
   "execution_count": 14,
   "metadata": {},
   "outputs": [
    {
     "name": "stdout",
     "output_type": "stream",
     "text": [
      "Variable: Y_W                  Importance: 0.0338\n",
      "Variable: A_Y                  Importance: 0.0297\n",
      "Variable: A_S                  Importance: 0.026\n",
      "Variable: N_R                  Importance: 0.0201\n",
      "Variable: N_K                  Importance: 0.0181\n",
      "Variable: S_D                  Importance: 0.0179\n",
      "Variable: S_L                  Importance: 0.0178\n",
      "Variable: D_K                  Importance: 0.0175\n",
      "Variable: Y_R                  Importance: 0.0159\n",
      "Variable: Y_S                  Importance: 0.0157\n",
      "Variable: Y_K                  Importance: 0.0156\n",
      "Variable: G_L                  Importance: 0.0147\n",
      "Variable: W_K                  Importance: 0.0142\n",
      "Variable: A_D                  Importance: 0.0141\n",
      "Variable: Y_N                  Importance: 0.0138\n",
      "Variable: R_A                  Importance: 0.0137\n",
      "Variable: Y_A                  Importance: 0.0135\n",
      "Variable: N_H                  Importance: 0.0132\n",
      "Variable: E_K                  Importance: 0.0131\n",
      "Variable: Y_L                  Importance: 0.013\n",
      "Variable: Q_T                  Importance: 0.0126\n",
      "Variable: T_R                  Importance: 0.0113\n",
      "Variable: Y_D                  Importance: 0.0111\n",
      "Variable: N_Y                  Importance: 0.0101\n",
      "Variable: N_G                  Importance: 0.0099\n",
      "Variable: H_T                  Importance: 0.0098\n",
      "Variable: D_R                  Importance: 0.0096\n",
      "Variable: W_A                  Importance: 0.0096\n",
      "Variable: S_S                  Importance: 0.0084\n",
      "Variable: Y_Y                  Importance: 0.0084\n",
      "Variable: I_Y                  Importance: 0.0081\n",
      "Variable: W_Y                  Importance: 0.0078\n",
      "Variable: A_G                  Importance: 0.0075\n",
      "Variable: N_N                  Importance: 0.0075\n",
      "Variable: D_L                  Importance: 0.0073\n",
      "Variable: F_R                  Importance: 0.0073\n",
      "Variable: Q_K                  Importance: 0.0072\n",
      "Variable: S_G                  Importance: 0.0072\n",
      "Variable: W_S                  Importance: 0.007\n",
      "Variable: S_R                  Importance: 0.0067\n",
      "Variable: Q_N                  Importance: 0.0066\n",
      "Variable: Y_M                  Importance: 0.0066\n",
      "Variable: T_K                  Importance: 0.0063\n",
      "Variable: V_E                  Importance: 0.0062\n",
      "Variable: C_V                  Importance: 0.0061\n",
      "Variable: A_F                  Importance: 0.006\n",
      "Variable: A_K                  Importance: 0.0059\n",
      "Variable: D_G                  Importance: 0.0058\n",
      "Variable: Y_I                  Importance: 0.0058\n",
      "Variable: G_R                  Importance: 0.0057\n",
      "Variable: S_Y                  Importance: 0.0057\n",
      "Variable: W_R                  Importance: 0.0056\n",
      "Variable: H_S                  Importance: 0.0054\n",
      "Variable: R_Y                  Importance: 0.0052\n",
      "Variable: H_G                  Importance: 0.005\n",
      "Variable: I_V                  Importance: 0.005\n",
      "Variable: F_Y                  Importance: 0.0048\n",
      "Variable: M_K                  Importance: 0.0047\n",
      "Variable: I_T                  Importance: 0.0046\n",
      "Variable: L_Y                  Importance: 0.0046\n",
      "Variable: E_V                  Importance: 0.0045\n",
      "Variable: G_E                  Importance: 0.0045\n",
      "Variable: C_G                  Importance: 0.0044\n",
      "Variable: H_N                  Importance: 0.0044\n",
      "Variable: I_G                  Importance: 0.0044\n",
      "Variable: S_M                  Importance: 0.0043\n",
      "Variable: D_Y                  Importance: 0.0041\n",
      "Variable: E_G                  Importance: 0.0041\n",
      "Variable: G_G                  Importance: 0.0041\n",
      "Variable: L_T                  Importance: 0.0041\n",
      "Variable: W_Q                  Importance: 0.0041\n",
      "Variable: Y_Q                  Importance: 0.0041\n",
      "Variable: A_P                  Importance: 0.004\n",
      "Variable: H_D                  Importance: 0.004\n",
      "Variable: H_M                  Importance: 0.004\n",
      "Variable: H_F                  Importance: 0.0039\n",
      "Variable: N_S                  Importance: 0.0039\n",
      "Variable: V_K                  Importance: 0.0038\n",
      "Variable: T_W                  Importance: 0.0037\n",
      "Variable: E_R                  Importance: 0.0036\n",
      "Variable: K_K                  Importance: 0.0036\n",
      "Variable: T_I                  Importance: 0.0036\n",
      "Variable: W_G                  Importance: 0.0036\n",
      "Variable: Y_V                  Importance: 0.0036\n",
      "Variable: A_R                  Importance: 0.0035\n",
      "Variable: D_I                  Importance: 0.0035\n",
      "Variable: E_Y                  Importance: 0.0035\n",
      "Variable: D_H                  Importance: 0.0033\n",
      "Variable: R_D                  Importance: 0.0033\n",
      "Variable: L_W                  Importance: 0.0032\n",
      "Variable: D_Q                  Importance: 0.0031\n",
      "Variable: H_Y                  Importance: 0.0031\n",
      "Variable: D_D                  Importance: 0.003\n",
      "Variable: N_E                  Importance: 0.003\n",
      "Variable: N_T                  Importance: 0.0029\n",
      "Variable: S_K                  Importance: 0.0029\n",
      "Variable: S_V                  Importance: 0.0029\n",
      "Variable: G_Y                  Importance: 0.0028\n",
      "Variable: I_H                  Importance: 0.0028\n",
      "Variable: S_A                  Importance: 0.0028\n",
      "Variable: D_N                  Importance: 0.0027\n",
      "Variable: D_S                  Importance: 0.0027\n",
      "Variable: K_Y                  Importance: 0.0027\n",
      "Variable: L_K                  Importance: 0.0027\n",
      "Variable: S_E                  Importance: 0.0027\n",
      "Variable: A_Q                  Importance: 0.0026\n",
      "Variable: N_L                  Importance: 0.0026\n",
      "Variable: I_W                  Importance: 0.0025\n",
      "Variable: T_Y                  Importance: 0.0025\n",
      "Variable: D_E                  Importance: 0.0024\n",
      "Variable: Y_G                  Importance: 0.0024\n",
      "Variable: Y_P                  Importance: 0.0024\n",
      "Variable: E_S                  Importance: 0.0023\n",
      "Variable: R_G                  Importance: 0.0023\n",
      "Variable: T_Q                  Importance: 0.0023\n",
      "Variable: W_T                  Importance: 0.0023\n",
      "Variable: A_L                  Importance: 0.0022\n",
      "Variable: F_D                  Importance: 0.0022\n",
      "Variable: G_A                  Importance: 0.0022\n",
      "Variable: Q_V                  Importance: 0.0022\n",
      "Variable: R_K                  Importance: 0.0022\n",
      "Variable: R_V                  Importance: 0.0022\n",
      "Variable: W_N                  Importance: 0.0022\n",
      "Variable: A_N                  Importance: 0.0021\n",
      "Variable: F_G                  Importance: 0.002\n",
      "Variable: T_N                  Importance: 0.002\n",
      "Variable: N_A                  Importance: 0.0019\n",
      "Variable: P_Y                  Importance: 0.0019\n",
      "Variable: Q_G                  Importance: 0.0019\n",
      "Variable: T_M                  Importance: 0.0019\n",
      "Variable: W_H                  Importance: 0.0019\n",
      "Variable: N_P                  Importance: 0.0018\n",
      "Variable: T_E                  Importance: 0.0018\n",
      "Variable: D_P                  Importance: 0.0017\n",
      "Variable: G_H                  Importance: 0.0017\n",
      "Variable: G_K                  Importance: 0.0017\n",
      "Variable: N_D                  Importance: 0.0017\n",
      "Variable: Q_Y                  Importance: 0.0017\n",
      "Variable: R_S                  Importance: 0.0017\n",
      "Variable: T_L                  Importance: 0.0017\n",
      "Variable: T_S                  Importance: 0.0017\n",
      "Variable: T_V                  Importance: 0.0017\n",
      "Variable: W_M                  Importance: 0.0017\n",
      "Variable: Y_E                  Importance: 0.0017\n",
      "Variable: E_A                  Importance: 0.0016\n",
      "Variable: I_E                  Importance: 0.0016\n",
      "Variable: M_Y                  Importance: 0.0016\n",
      "Variable: R_L                  Importance: 0.0016\n",
      "Variable: S_Q                  Importance: 0.0016\n",
      "Variable: W_I                  Importance: 0.0016\n",
      "Variable: G_D                  Importance: 0.0015\n",
      "Variable: H_V                  Importance: 0.0015\n",
      "Variable: K_N                  Importance: 0.0015\n",
      "Variable: R_H                  Importance: 0.0015\n",
      "Variable: A_E                  Importance: 0.0014\n",
      "Variable: D_A                  Importance: 0.0014\n",
      "Variable: E_H                  Importance: 0.0014\n",
      "Variable: F_Q                  Importance: 0.0014\n",
      "Variable: G_W                  Importance: 0.0014\n",
      "Variable: H_A                  Importance: 0.0014\n",
      "Variable: R_E                  Importance: 0.0014\n",
      "Variable: R_N                  Importance: 0.0014\n",
      "Variable: R_Q                  Importance: 0.0014\n",
      "Variable: V_R                  Importance: 0.0014\n",
      "Variable: E_I                  Importance: 0.0013\n",
      "Variable: G_M                  Importance: 0.0013\n",
      "Variable: H_Q                  Importance: 0.0013\n",
      "Variable: K_A                  Importance: 0.0013\n",
      "Variable: K_S                  Importance: 0.0013\n",
      "Variable: S_N                  Importance: 0.0013\n",
      "Variable: T_F                  Importance: 0.0013\n",
      "Variable: C_Y                  Importance: 0.0012\n",
      "Variable: G_V                  Importance: 0.0012\n",
      "Variable: K_E                  Importance: 0.0012\n",
      "Variable: N_Q                  Importance: 0.0012\n",
      "Variable: P_G                  Importance: 0.0012\n",
      "Variable: R_F                  Importance: 0.0012\n",
      "Variable: R_T                  Importance: 0.0012\n",
      "Variable: V_L                  Importance: 0.0012\n",
      "Variable: F_S                  Importance: 0.0011\n",
      "Variable: G_F                  Importance: 0.0011\n",
      "Variable: G_P                  Importance: 0.0011\n",
      "Variable: H_I                  Importance: 0.0011\n",
      "Variable: L_D                  Importance: 0.0011\n",
      "Variable: N_M                  Importance: 0.0011\n",
      "Variable: T_H                  Importance: 0.0011\n",
      "Variable: A_H                  Importance: 0.001\n",
      "Variable: E_T                  Importance: 0.001\n",
      "Variable: F_P                  Importance: 0.001\n",
      "Variable: G_I                  Importance: 0.001\n",
      "Variable: G_S                  Importance: 0.001\n",
      "Variable: H_E                  Importance: 0.001\n",
      "Variable: K_T                  Importance: 0.001\n",
      "Variable: N_I                  Importance: 0.001\n",
      "Variable: Q_R                  Importance: 0.001\n",
      "Variable: S_H                  Importance: 0.001\n",
      "Variable: T_A                  Importance: 0.001\n",
      "Variable: T_D                  Importance: 0.001\n",
      "Variable: V_H                  Importance: 0.001\n",
      "Variable: Y_F                  Importance: 0.001\n",
      "Variable: A_I                  Importance: 0.0009\n",
      "Variable: E_D                  Importance: 0.0009\n",
      "Variable: E_N                  Importance: 0.0009\n",
      "Variable: M_M                  Importance: 0.0009\n",
      "Variable: P_N                  Importance: 0.0009\n",
      "Variable: P_V                  Importance: 0.0009\n",
      "Variable: Y_T                  Importance: 0.0009\n",
      "Variable: G_Q                  Importance: 0.0008\n",
      "Variable: G_T                  Importance: 0.0008\n",
      "Variable: H_H                  Importance: 0.0008\n",
      "Variable: M_E                  Importance: 0.0008\n",
      "Variable: M_G                  Importance: 0.0008\n",
      "Variable: Q_S                  Importance: 0.0008\n",
      "Variable: V_Q                  Importance: 0.0008\n",
      "Variable: Y_C                  Importance: 0.0008\n",
      "Variable: E_E                  Importance: 0.0007\n",
      "Variable: K_D                  Importance: 0.0007\n",
      "Variable: L_F                  Importance: 0.0007\n",
      "Variable: Q_P                  Importance: 0.0007\n",
      "Variable: Q_Q                  Importance: 0.0007\n",
      "Variable: R_I                  Importance: 0.0007\n",
      "Variable: S_F                  Importance: 0.0007\n",
      "Variable: S_W                  Importance: 0.0007\n",
      "Variable: V_A                  Importance: 0.0007\n",
      "Variable: V_M                  Importance: 0.0007\n",
      "Variable: Y_H                  Importance: 0.0007\n",
      "Variable: D_T                  Importance: 0.0006\n",
      "Variable: G_C                  Importance: 0.0006\n",
      "Variable: H_L                  Importance: 0.0006\n",
      "Variable: I_R                  Importance: 0.0006\n",
      "Variable: I_S                  Importance: 0.0006\n",
      "Variable: K_W                  Importance: 0.0006\n",
      "Variable: L_L                  Importance: 0.0006\n",
      "Variable: L_S                  Importance: 0.0006\n",
      "Variable: R_R                  Importance: 0.0006\n",
      "Variable: R_W                  Importance: 0.0006\n",
      "Variable: S_T                  Importance: 0.0006\n",
      "Variable: T_P                  Importance: 0.0006\n",
      "Variable: V_I                  Importance: 0.0006\n",
      "Variable: V_Y                  Importance: 0.0006\n",
      "Variable: A_A                  Importance: 0.0005\n",
      "Variable: A_V                  Importance: 0.0005\n",
      "Variable: D_F                  Importance: 0.0005\n",
      "Variable: D_V                  Importance: 0.0005\n",
      "Variable: E_L                  Importance: 0.0005\n",
      "Variable: E_W                  Importance: 0.0005\n",
      "Variable: F_A                  Importance: 0.0005\n",
      "Variable: G_N                  Importance: 0.0005\n",
      "Variable: I_A                  Importance: 0.0005\n",
      "Variable: L_V                  Importance: 0.0005\n",
      "Variable: N_F                  Importance: 0.0005\n",
      "Variable: N_V                  Importance: 0.0005\n",
      "Variable: P_A                  Importance: 0.0005\n",
      "Variable: P_H                  Importance: 0.0005\n",
      "Variable: P_T                  Importance: 0.0005\n",
      "Variable: Q_D                  Importance: 0.0005\n",
      "Variable: Q_M                  Importance: 0.0005\n",
      "Variable: R_P                  Importance: 0.0005\n",
      "Variable: T_G                  Importance: 0.0005\n",
      "Variable: E_Q                  Importance: 0.0004\n",
      "Variable: I_Q                  Importance: 0.0004\n",
      "Variable: K_F                  Importance: 0.0004\n",
      "Variable: L_I                  Importance: 0.0004\n",
      "Variable: L_R                  Importance: 0.0004\n",
      "Variable: M_T                  Importance: 0.0004\n",
      "Variable: P_F                  Importance: 0.0004\n",
      "Variable: P_I                  Importance: 0.0004\n",
      "Variable: Q_A                  Importance: 0.0004\n",
      "Variable: Q_W                  Importance: 0.0004\n",
      "Variable: W_P                  Importance: 0.0004\n",
      "Variable: C_R                  Importance: 0.0003\n",
      "Variable: F_I                  Importance: 0.0003\n",
      "Variable: F_N                  Importance: 0.0003\n",
      "Variable: F_V                  Importance: 0.0003\n",
      "Variable: H_R                  Importance: 0.0003\n",
      "Variable: H_W                  Importance: 0.0003\n",
      "Variable: I_M                  Importance: 0.0003\n",
      "Variable: L_N                  Importance: 0.0003\n",
      "Variable: M_P                  Importance: 0.0003\n",
      "Variable: M_V                  Importance: 0.0003\n",
      "Variable: N_W                  Importance: 0.0003\n",
      "Variable: P_D                  Importance: 0.0003\n",
      "Variable: Q_F                  Importance: 0.0003\n",
      "Variable: S_P                  Importance: 0.0003\n",
      "Variable: V_C                  Importance: 0.0003\n",
      "Variable: V_S                  Importance: 0.0003\n",
      "Variable: V_W                  Importance: 0.0003\n",
      "Variable: W_L                  Importance: 0.0003\n",
      "Variable: A_T                  Importance: 0.0002\n",
      "Variable: E_M                  Importance: 0.0002\n",
      "Variable: F_K                  Importance: 0.0002\n",
      "Variable: F_W                  Importance: 0.0002\n",
      "Variable: H_P                  Importance: 0.0002\n",
      "Variable: K_G                  Importance: 0.0002\n",
      "Variable: K_L                  Importance: 0.0002\n",
      "Variable: K_R                  Importance: 0.0002\n",
      "Variable: L_P                  Importance: 0.0002\n",
      "Variable: M_S                  Importance: 0.0002\n",
      "Variable: P_E                  Importance: 0.0002\n",
      "Variable: P_W                  Importance: 0.0002\n",
      "Variable: V_D                  Importance: 0.0002\n",
      "Variable: V_G                  Importance: 0.0002\n",
      "Variable: W_D                  Importance: 0.0002\n",
      "Variable: A_W                  Importance: 0.0001\n",
      "Variable: F_C                  Importance: 0.0001\n",
      "Variable: F_F                  Importance: 0.0001\n",
      "Variable: F_H                  Importance: 0.0001\n",
      "Variable: H_K                  Importance: 0.0001\n",
      "Variable: I_D                  Importance: 0.0001\n",
      "Variable: I_I                  Importance: 0.0001\n",
      "Variable: I_N                  Importance: 0.0001\n",
      "Variable: K_Q                  Importance: 0.0001\n",
      "Variable: L_A                  Importance: 0.0001\n",
      "Variable: L_Q                  Importance: 0.0001\n",
      "Variable: M_H                  Importance: 0.0001\n",
      "Variable: M_Q                  Importance: 0.0001\n",
      "Variable: N_C                  Importance: 0.0001\n",
      "Variable: P_R                  Importance: 0.0001\n",
      "Variable: Q_H                  Importance: 0.0001\n",
      "Variable: S_I                  Importance: 0.0001\n",
      "Variable: V_N                  Importance: 0.0001\n",
      "Variable: W_V                  Importance: 0.0001\n",
      "Variable: A_C                  Importance: 0.0\n",
      "Variable: A_M                  Importance: 0.0\n",
      "Variable: C_A                  Importance: 0.0\n",
      "Variable: C_C                  Importance: 0.0\n",
      "Variable: C_D                  Importance: 0.0\n",
      "Variable: C_E                  Importance: 0.0\n",
      "Variable: C_F                  Importance: 0.0\n",
      "Variable: C_H                  Importance: 0.0\n",
      "Variable: C_I                  Importance: 0.0\n",
      "Variable: C_K                  Importance: 0.0\n",
      "Variable: C_L                  Importance: 0.0\n",
      "Variable: C_M                  Importance: 0.0\n",
      "Variable: C_N                  Importance: 0.0\n",
      "Variable: C_P                  Importance: 0.0\n",
      "Variable: C_Q                  Importance: 0.0\n",
      "Variable: C_S                  Importance: 0.0\n",
      "Variable: C_T                  Importance: 0.0\n",
      "Variable: C_W                  Importance: 0.0\n",
      "Variable: D_C                  Importance: 0.0\n",
      "Variable: D_M                  Importance: 0.0\n",
      "Variable: D_W                  Importance: 0.0\n",
      "Variable: E_C                  Importance: 0.0\n",
      "Variable: E_F                  Importance: 0.0\n",
      "Variable: E_P                  Importance: 0.0\n",
      "Variable: F_E                  Importance: 0.0\n",
      "Variable: F_L                  Importance: 0.0\n",
      "Variable: F_M                  Importance: 0.0\n",
      "Variable: F_T                  Importance: 0.0\n",
      "Variable: H_C                  Importance: 0.0\n",
      "Variable: I_C                  Importance: 0.0\n",
      "Variable: I_F                  Importance: 0.0\n",
      "Variable: I_K                  Importance: 0.0\n",
      "Variable: I_L                  Importance: 0.0\n",
      "Variable: I_P                  Importance: 0.0\n",
      "Variable: K_C                  Importance: 0.0\n",
      "Variable: K_H                  Importance: 0.0\n",
      "Variable: K_I                  Importance: 0.0\n",
      "Variable: K_M                  Importance: 0.0\n",
      "Variable: K_P                  Importance: 0.0\n",
      "Variable: K_V                  Importance: 0.0\n",
      "Variable: L_C                  Importance: 0.0\n",
      "Variable: L_E                  Importance: 0.0\n",
      "Variable: L_G                  Importance: 0.0\n",
      "Variable: L_H                  Importance: 0.0\n",
      "Variable: L_M                  Importance: 0.0\n",
      "Variable: M_A                  Importance: 0.0\n",
      "Variable: M_C                  Importance: 0.0\n",
      "Variable: M_D                  Importance: 0.0\n",
      "Variable: M_F                  Importance: 0.0\n",
      "Variable: M_I                  Importance: 0.0\n",
      "Variable: M_L                  Importance: 0.0\n",
      "Variable: M_N                  Importance: 0.0\n",
      "Variable: M_R                  Importance: 0.0\n",
      "Variable: M_W                  Importance: 0.0\n",
      "Variable: P_C                  Importance: 0.0\n",
      "Variable: P_K                  Importance: 0.0\n",
      "Variable: P_L                  Importance: 0.0\n",
      "Variable: P_M                  Importance: 0.0\n",
      "Variable: P_P                  Importance: 0.0\n",
      "Variable: P_Q                  Importance: 0.0\n",
      "Variable: P_S                  Importance: 0.0\n",
      "Variable: Q_C                  Importance: 0.0\n",
      "Variable: Q_E                  Importance: 0.0\n",
      "Variable: Q_I                  Importance: 0.0\n",
      "Variable: Q_L                  Importance: 0.0\n",
      "Variable: R_C                  Importance: 0.0\n",
      "Variable: R_M                  Importance: 0.0\n",
      "Variable: S_C                  Importance: 0.0\n",
      "Variable: T_C                  Importance: 0.0\n",
      "Variable: T_T                  Importance: 0.0\n",
      "Variable: V_F                  Importance: 0.0\n",
      "Variable: V_P                  Importance: 0.0\n",
      "Variable: V_T                  Importance: 0.0\n",
      "Variable: V_V                  Importance: 0.0\n",
      "Variable: W_C                  Importance: 0.0\n",
      "Variable: W_E                  Importance: 0.0\n",
      "Variable: W_F                  Importance: 0.0\n",
      "Variable: W_W                  Importance: 0.0\n"
     ]
    },
    {
     "data": {
      "text/plain": [
       "[None,\n",
       " None,\n",
       " None,\n",
       " None,\n",
       " None,\n",
       " None,\n",
       " None,\n",
       " None,\n",
       " None,\n",
       " None,\n",
       " None,\n",
       " None,\n",
       " None,\n",
       " None,\n",
       " None,\n",
       " None,\n",
       " None,\n",
       " None,\n",
       " None,\n",
       " None,\n",
       " None,\n",
       " None,\n",
       " None,\n",
       " None,\n",
       " None,\n",
       " None,\n",
       " None,\n",
       " None,\n",
       " None,\n",
       " None,\n",
       " None,\n",
       " None,\n",
       " None,\n",
       " None,\n",
       " None,\n",
       " None,\n",
       " None,\n",
       " None,\n",
       " None,\n",
       " None,\n",
       " None,\n",
       " None,\n",
       " None,\n",
       " None,\n",
       " None,\n",
       " None,\n",
       " None,\n",
       " None,\n",
       " None,\n",
       " None,\n",
       " None,\n",
       " None,\n",
       " None,\n",
       " None,\n",
       " None,\n",
       " None,\n",
       " None,\n",
       " None,\n",
       " None,\n",
       " None,\n",
       " None,\n",
       " None,\n",
       " None,\n",
       " None,\n",
       " None,\n",
       " None,\n",
       " None,\n",
       " None,\n",
       " None,\n",
       " None,\n",
       " None,\n",
       " None,\n",
       " None,\n",
       " None,\n",
       " None,\n",
       " None,\n",
       " None,\n",
       " None,\n",
       " None,\n",
       " None,\n",
       " None,\n",
       " None,\n",
       " None,\n",
       " None,\n",
       " None,\n",
       " None,\n",
       " None,\n",
       " None,\n",
       " None,\n",
       " None,\n",
       " None,\n",
       " None,\n",
       " None,\n",
       " None,\n",
       " None,\n",
       " None,\n",
       " None,\n",
       " None,\n",
       " None,\n",
       " None,\n",
       " None,\n",
       " None,\n",
       " None,\n",
       " None,\n",
       " None,\n",
       " None,\n",
       " None,\n",
       " None,\n",
       " None,\n",
       " None,\n",
       " None,\n",
       " None,\n",
       " None,\n",
       " None,\n",
       " None,\n",
       " None,\n",
       " None,\n",
       " None,\n",
       " None,\n",
       " None,\n",
       " None,\n",
       " None,\n",
       " None,\n",
       " None,\n",
       " None,\n",
       " None,\n",
       " None,\n",
       " None,\n",
       " None,\n",
       " None,\n",
       " None,\n",
       " None,\n",
       " None,\n",
       " None,\n",
       " None,\n",
       " None,\n",
       " None,\n",
       " None,\n",
       " None,\n",
       " None,\n",
       " None,\n",
       " None,\n",
       " None,\n",
       " None,\n",
       " None,\n",
       " None,\n",
       " None,\n",
       " None,\n",
       " None,\n",
       " None,\n",
       " None,\n",
       " None,\n",
       " None,\n",
       " None,\n",
       " None,\n",
       " None,\n",
       " None,\n",
       " None,\n",
       " None,\n",
       " None,\n",
       " None,\n",
       " None,\n",
       " None,\n",
       " None,\n",
       " None,\n",
       " None,\n",
       " None,\n",
       " None,\n",
       " None,\n",
       " None,\n",
       " None,\n",
       " None,\n",
       " None,\n",
       " None,\n",
       " None,\n",
       " None,\n",
       " None,\n",
       " None,\n",
       " None,\n",
       " None,\n",
       " None,\n",
       " None,\n",
       " None,\n",
       " None,\n",
       " None,\n",
       " None,\n",
       " None,\n",
       " None,\n",
       " None,\n",
       " None,\n",
       " None,\n",
       " None,\n",
       " None,\n",
       " None,\n",
       " None,\n",
       " None,\n",
       " None,\n",
       " None,\n",
       " None,\n",
       " None,\n",
       " None,\n",
       " None,\n",
       " None,\n",
       " None,\n",
       " None,\n",
       " None,\n",
       " None,\n",
       " None,\n",
       " None,\n",
       " None,\n",
       " None,\n",
       " None,\n",
       " None,\n",
       " None,\n",
       " None,\n",
       " None,\n",
       " None,\n",
       " None,\n",
       " None,\n",
       " None,\n",
       " None,\n",
       " None,\n",
       " None,\n",
       " None,\n",
       " None,\n",
       " None,\n",
       " None,\n",
       " None,\n",
       " None,\n",
       " None,\n",
       " None,\n",
       " None,\n",
       " None,\n",
       " None,\n",
       " None,\n",
       " None,\n",
       " None,\n",
       " None,\n",
       " None,\n",
       " None,\n",
       " None,\n",
       " None,\n",
       " None,\n",
       " None,\n",
       " None,\n",
       " None,\n",
       " None,\n",
       " None,\n",
       " None,\n",
       " None,\n",
       " None,\n",
       " None,\n",
       " None,\n",
       " None,\n",
       " None,\n",
       " None,\n",
       " None,\n",
       " None,\n",
       " None,\n",
       " None,\n",
       " None,\n",
       " None,\n",
       " None,\n",
       " None,\n",
       " None,\n",
       " None,\n",
       " None,\n",
       " None,\n",
       " None,\n",
       " None,\n",
       " None,\n",
       " None,\n",
       " None,\n",
       " None,\n",
       " None,\n",
       " None,\n",
       " None,\n",
       " None,\n",
       " None,\n",
       " None,\n",
       " None,\n",
       " None,\n",
       " None,\n",
       " None,\n",
       " None,\n",
       " None,\n",
       " None,\n",
       " None,\n",
       " None,\n",
       " None,\n",
       " None,\n",
       " None,\n",
       " None,\n",
       " None,\n",
       " None,\n",
       " None,\n",
       " None,\n",
       " None,\n",
       " None,\n",
       " None,\n",
       " None,\n",
       " None,\n",
       " None,\n",
       " None,\n",
       " None,\n",
       " None,\n",
       " None,\n",
       " None,\n",
       " None,\n",
       " None,\n",
       " None,\n",
       " None,\n",
       " None,\n",
       " None,\n",
       " None,\n",
       " None,\n",
       " None,\n",
       " None,\n",
       " None,\n",
       " None,\n",
       " None,\n",
       " None,\n",
       " None,\n",
       " None,\n",
       " None,\n",
       " None,\n",
       " None,\n",
       " None,\n",
       " None,\n",
       " None,\n",
       " None,\n",
       " None,\n",
       " None,\n",
       " None,\n",
       " None,\n",
       " None,\n",
       " None,\n",
       " None,\n",
       " None,\n",
       " None,\n",
       " None,\n",
       " None,\n",
       " None,\n",
       " None,\n",
       " None,\n",
       " None,\n",
       " None,\n",
       " None,\n",
       " None,\n",
       " None,\n",
       " None,\n",
       " None,\n",
       " None,\n",
       " None,\n",
       " None,\n",
       " None,\n",
       " None,\n",
       " None,\n",
       " None,\n",
       " None,\n",
       " None,\n",
       " None,\n",
       " None,\n",
       " None,\n",
       " None,\n",
       " None,\n",
       " None,\n",
       " None,\n",
       " None,\n",
       " None,\n",
       " None,\n",
       " None,\n",
       " None,\n",
       " None,\n",
       " None,\n",
       " None,\n",
       " None,\n",
       " None,\n",
       " None,\n",
       " None,\n",
       " None,\n",
       " None,\n",
       " None,\n",
       " None,\n",
       " None,\n",
       " None,\n",
       " None,\n",
       " None,\n",
       " None,\n",
       " None,\n",
       " None,\n",
       " None,\n",
       " None,\n",
       " None,\n",
       " None,\n",
       " None,\n",
       " None,\n",
       " None,\n",
       " None,\n",
       " None]"
      ]
     },
     "execution_count": 14,
     "metadata": {},
     "output_type": "execute_result"
    }
   ],
   "source": [
    "importances = list(model.feature_importances_)\n",
    "feature_list = df_final.columns\n",
    "# List of tuples with variable and importance\n",
    "feature_importances = [(feature, round(importance, 4)) for feature, importance in zip(feature_list, importances)]\n",
    "\n",
    "# Sort the feature importances by most important first\n",
    "feature_importances = sorted(feature_importances, key = lambda x: x[1], reverse = True)\n",
    "\n",
    "# Print out the feature and importances \n",
    "[print('Variable: {:20} Importance: {}'.format(*pair)) for pair in feature_importances]"
   ]
  },
  {
   "cell_type": "code",
   "execution_count": 23,
   "metadata": {},
   "outputs": [
    {
     "data": {
      "text/plain": [
       "Text(0.5, 0, 'Feature importance')"
      ]
     },
     "execution_count": 23,
     "metadata": {},
     "output_type": "execute_result"
    },
    {
     "data": {
      "image/png": "[encoded data removed]",
      "text/plain": [
       "<Figure size 1080x288 with 1 Axes>"
      ]
     },
     "metadata": {
      "needs_background": "light"
     },
     "output_type": "display_data"
    }
   ],
   "source": [
    "idx_features = model.feature_importances_.argsort()[::-1]\n",
    "plt.figure(figsize=(15,4))\n",
    "\n",
    "plt.bar(np.arange(X_train.shape[1]), model.feature_importances_[idx_features])\n",
    "plt.xticks(range(len(feature_list)),feature_list[idx_features])\n",
    "plt.autoscale(enable=True, axis='x', tight=True)\n",
    "plt.xlabel(u\"Feature importance\")\n",
    "#plt.savefig(\"RFmodel_300_50features\",dpi=600,bbox_inches=\"tight\")"
   ]
  },
  {
   "cell_type": "code",
   "execution_count": 15,
   "metadata": {},
   "outputs": [
    {
     "data": {
      "text/plain": [
       "<matplotlib.collections.PathCollection at 0x1a2205dac8>"
      ]
     },
     "execution_count": 15,
     "metadata": {},
     "output_type": "execute_result"
    },
    {
     "data": {
      "image/png": "[encoded data removed]",
      "text/plain": [
       "<Figure size 432x288 with 1 Axes>"
      ]
     },
     "metadata": {},
     "output_type": "display_data"
    }
   ],
   "source": [
    "residual = y_test.values - y_pred_test\n",
    "plt.scatter(x=y_pred_test.T, y=residual.T)"
   ]
  },
  {
   "cell_type": "code",
   "execution_count": 16,
   "metadata": {
    "collapsed": true
   },
   "outputs": [],
   "source": [
    "from sklearn.model_selection import learning_curve\n",
    "def learning_curves(estimator, features, target, cv):\n",
    "    train_sizes, train_scores, validation_scores = learning_curve(\n",
    "                                                 estimator, features, target,train_sizes = np.linspace(.1, 1.0, 10),\n",
    "                                                 cv = cv, scoring = 'neg_mean_squared_error',n_jobs=-1)\n",
    "    train_scores_mean = -train_scores.mean(axis = 1)\n",
    "    validation_scores_mean = -validation_scores.mean(axis = 1)\n",
    "    \n",
    "    plt.plot(train_sizes, np.sqrt(train_scores_mean), label = 'Training error')\n",
    "    plt.plot(train_sizes, np.sqrt(validation_scores_mean), label = 'Validation error')\n",
    "\n",
    "    plt.ylabel('RMSE', fontsize = 14)\n",
    "    plt.xlabel('Training set size', fontsize = 14)\n",
    "    title = 'Learning curve'\n",
    "    plt.title(title, fontsize = 18, y = 1.03)\n",
    "    plt.legend()\n",
    "    plt.ylim(0,3)"
   ]
  },
  {
   "cell_type": "code",
   "execution_count": 17,
   "metadata": {},
   "outputs": [
    {
     "data": {
      "image/png": "[encoded data removed]",
      "text/plain": [
       "<Figure size 432x288 with 1 Axes>"
      ]
     },
     "metadata": {},
     "output_type": "display_data"
    }
   ],
   "source": [
    "learning_curves(model,X,y,5)\n",
    "#plt.savefig(\"RFmodel_300_learnincurve.png\",dpi=600,bbox_inches=\"tight\")"
   ]
  },
  {
   "cell_type": "markdown",
   "metadata": {},
   "source": [
    "# Manuall CV with smote"
   ]
  },
  {
   "cell_type": "code",
   "execution_count": 127,
   "metadata": {
    "collapsed": true
   },
   "outputs": [],
   "source": [
    "# forma 1\n",
    "df_final['class'] = np.where((df_final['ddG_exp'] < -0.4) | (df_final['ddG_exp'] > 2.4),0,1)\n",
    "# forma 2 \n",
    "#df_final['class'] = np.where((df_final['ddG_exp'] < 0),1,0)"
   ]
  },
  {
   "cell_type": "code",
   "execution_count": 128,
   "metadata": {},
   "outputs": [
    {
     "name": "stdout",
     "output_type": "stream",
     "text": [
      "Before OverSampling, counts of label '1': 481\n",
      "Before OverSampling, counts of label '0': 134\n"
     ]
    }
   ],
   "source": [
    "print(\"Before OverSampling, counts of label '1': {}\".format(sum(df_final['class'] == 1)))\n",
    "print(\"Before OverSampling, counts of label '0': {}\".format(sum(df_final['class'] == 0)))"
   ]
  },
  {
   "cell_type": "code",
   "execution_count": 129,
   "metadata": {
    "collapsed": true
   },
   "outputs": [],
   "source": [
    "X = df_final.drop('class',axis=1)\n",
    "y = df_final['class']"
   ]
  },
  {
   "cell_type": "code",
   "execution_count": 130,
   "metadata": {},
   "outputs": [
    {
     "name": "stderr",
     "output_type": "stream",
     "text": [
      "/Users/vfica/miniconda3/envs/bio/lib/python3.6/site-packages/sklearn/model_selection/_split.py:2069: FutureWarning: From version 0.21, test_size will always complement train_size unless both are specified.\n",
      "  FutureWarning)\n"
     ]
    }
   ],
   "source": [
    "X_train, X_test, y_train, y_test = train_test_split(X, y,stratify = y,train_size=0.70,random_state=1212)\n"
   ]
  },
  {
   "cell_type": "code",
   "execution_count": 131,
   "metadata": {
    "collapsed": true
   },
   "outputs": [],
   "source": [
    "RandomForestRegressor?"
   ]
  },
  {
   "cell_type": "code",
   "execution_count": null,
   "metadata": {
    "collapsed": true
   },
   "outputs": [],
   "source": [
    "{'randomforestregressor__bootstrap': True, 'randomforestregressor__max_depth': 2, 'randomforestregressor__max_features': 37, 'randomforestregressor__max_leaf_nodes': 12, 'randomforestregressor__min_samples_leaf': 10, 'randomforestregressor__min_samples_split': 2, 'randomforestregressor__n_estimators': 50, 'randomforestregressor__random_state': 1212}"
   ]
  },
  {
   "cell_type": "code",
   "execution_count": 132,
   "metadata": {},
   "outputs": [
    {
     "name": "stdout",
     "output_type": "stream",
     "text": [
      "Test scores\n",
      "RMSE 1.1960745680680778\n",
      "r2 0.30202439829554173\n",
      "\n",
      "Train scores\n",
      "RMSE 1.1520470964345404\n",
      "r2 0.5917545697264857\n"
     ]
    }
   ],
   "source": [
    "cv_splits = 10\n",
    "\n",
    "cv_test_mse = np.zeros(cv_splits)\n",
    "cv_test_r2 = np.zeros(cv_splits)\n",
    "cv_train_mse = np.zeros(cv_splits)\n",
    "cv_train_r2 = np.zeros(cv_splits)\n",
    "\n",
    "kf = KFold(n_splits=cv_splits,random_state=1212)\n",
    "#kf = StratifiedKFold(n_splits=cv_splits,random_state=12)\n",
    "for i,(train_index, validation_index) in enumerate(kf.split(X_train,y_train)):\n",
    "    \n",
    "    X_train_cv, X_validation_cv = X_train.values[train_index], X_train.values[validation_index]\n",
    "    y_train_cv, y_validation_cv = y_train.values[train_index], y_train.values[validation_index]\n",
    "    \n",
    "    # Oversampling\n",
    "    smote = ovs.SMOTE(random_state=1212,m_neighbors=25)\n",
    "    #smote = ovs.BorderlineSMOTE(random_state=12,m_neighbors=40,kind='borderline-1')\n",
    "    #adasyn = ovs.ADASYN(random_state=12,n_neighbors=40)\n",
    "    #X_train_ovs , y_train_ovs = adasyn.fit_sample(X_train_cv,y_train_cv)\n",
    "    X_train_ovs , y_train_ovs = smote.fit_sample(X_train_cv,y_train_cv)\n",
    "    \n",
    "    # Back to normal dataset\n",
    "    X_train_normal = X_train_ovs[:,:-1]\n",
    "    y_train_normal = X_train_ovs[:,-1]\n",
    "    \n",
    "    X_validation_normal = X_validation_cv[:,:-1]\n",
    "    y_validation_normal = X_validation_cv[:,-1]\n",
    "    \n",
    "    \n",
    "    # Model\n",
    "    model = RandomForestRegressor(n_estimators=50,max_depth=2,max_features=30,max_leaf_nodes=10,\n",
    "                                  min_samples_leaf=2,min_samples_split=10,random_state=1212)\n",
    "    model.fit(X_train_normal,y_train_normal)\n",
    "    \n",
    "    # Test\n",
    "    y_test_pred = model.predict(X_validation_normal)\n",
    "    y_train_pred = model.predict(X_train_normal)\n",
    "    \n",
    "    # Scoring\n",
    "    \n",
    "    test_mse = mean_squared_error(y_validation_normal,y_test_pred)\n",
    "    test_r2 = r2_score(y_validation_normal,y_test_pred)\n",
    "    cv_test_mse[i] = test_mse\n",
    "    cv_test_r2[i] = test_r2\n",
    "    \n",
    "    train_mse = mean_squared_error(y_train_normal,y_train_pred)\n",
    "    train_r2 = r2_score(y_train_normal,y_train_pred)\n",
    "    cv_train_mse[i] = train_mse\n",
    "    cv_train_r2[i] = train_r2\n",
    "    \n",
    "print(\"Test scores\")\n",
    "print(\"RMSE\",np.sqrt(cv_test_mse.mean()))\n",
    "print(\"r2\",cv_test_r2.mean())\n",
    "print(\"\")\n",
    "print(\"Train scores\")\n",
    "print(\"RMSE\",np.sqrt(cv_train_mse.mean()))\n",
    "print(\"r2\",cv_train_r2.mean())\n"
   ]
  },
  {
   "cell_type": "code",
   "execution_count": null,
   "metadata": {
    "collapsed": true
   },
   "outputs": [],
   "source": []
  }
 ],
 "metadata": {
  "kernelspec": {
   "display_name": "Python 3",
   "language": "python",
   "name": "python3"
  },
  "language_info": {
   "codemirror_mode": {
    "name": "ipython",
    "version": 3
   },
   "file_extension": ".py",
   "mimetype": "text/x-python",
   "name": "python",
   "nbconvert_exporter": "python",
   "pygments_lexer": "ipython3",
   "version": "3.6.7"
  }
 },
 "nbformat": 4,
 "nbformat_minor": 2
}
