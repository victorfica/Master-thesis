{
 "cells": [
  {
   "cell_type": "code",
   "execution_count": 66,
   "metadata": {},
   "outputs": [],
   "source": [
    "import pandas as pd\n",
    "import numpy as np\n",
    "\n",
    "# visualization\n",
    "import matplotlib.pyplot as plt\n",
    "import seaborn as sns\n",
    "from yellowbrick.model_selection import LearningCurve\n",
    "from yellowbrick.regressor import ResidualsPlot\n",
    "from yellowbrick.regressor import PredictionError\n",
    "# Algorithms\n",
    "from sklearn.svm import SVR\n",
    "from sklearn.ensemble import GradientBoostingRegressor\n",
    "from sklearn.linear_model import Lasso\n",
    "from xgboost import XGBRegressor\n",
    "# preproceessing\n",
    "from model_transformers import FeaturesInteractions,SkewTransformer,ZeroThreshold\n",
    "\n",
    "from sklearn.metrics import mean_squared_error,r2_score\n",
    "from sklearn.model_selection import train_test_split,cross_validate,cross_val_score\n",
    "from sklearn.model_selection import RepeatedKFold,GridSearchCV,KFold\n",
    "from sklearn.pipeline import make_pipeline\n",
    "from sklearn.preprocessing import RobustScaler,MinMaxScaler\n",
    "\n",
    "from sklearn.externals import joblib\n",
    "\n",
    "# sklearn classes\n",
    "from sklearn.base import BaseEstimator, TransformerMixin, RegressorMixin, clone\n"
   ]
  },
  {
   "cell_type": "code",
   "execution_count": 2,
   "metadata": {},
   "outputs": [
    {
     "data": {
      "text/plain": [
       "(1392, 78)"
      ]
     },
     "execution_count": 2,
     "metadata": {},
     "output_type": "execute_result"
    }
   ],
   "source": [
    "#dataframe final\n",
    "df_final = pd.read_csv(\"../data/DF_train15noChangeContact_skempiAB_modeller_final.csv\",index_col=0)\n",
    "\n",
    "\n",
    "pdb_names = df_final.index\n",
    "features_names = df_final.drop('ddG_exp',axis=1).columns\n",
    "df_final.shape"
   ]
  },
  {
   "cell_type": "code",
   "execution_count": 3,
   "metadata": {
    "collapsed": true
   },
   "outputs": [],
   "source": [
    "# Split train and independent test data\n",
    "\n",
    "X_train, X_test, y_train, y_test = train_test_split(df_final.drop('ddG_exp',axis=1), df_final['ddG_exp'], \n",
    "                                                    test_size=0.2, random_state=13)     \n",
    "\n",
    "# join train data for Exploratory analisis of training data\n",
    "train = X_train.join(y_train)\n",
    "\n",
    "# Drop outliers\n",
    "train = train.drop(train[(train['van_der_waals_change']>3)].index)\n",
    "train = train.drop(train[(train['dg_change'].abs()>8)].index)\n",
    "\n",
    "y_train = train['ddG_exp']\n",
    "X_train = train.drop('ddG_exp',axis=1)"
   ]
  },
  {
   "cell_type": "code",
   "execution_count": 4,
   "metadata": {
    "collapsed": true
   },
   "outputs": [],
   "source": [
    "full_data = pd.concat([X_train, X_test])\n",
    "y_full = pd.concat([y_train, y_test])"
   ]
  },
  {
   "cell_type": "markdown",
   "metadata": {},
   "source": [
    "# Modelling"
   ]
  },
  {
   "cell_type": "markdown",
   "metadata": {},
   "source": [
    "#### Crossvalidation strategy"
   ]
  },
  {
   "cell_type": "code",
   "execution_count": null,
   "metadata": {
    "collapsed": true
   },
   "outputs": [],
   "source": [
    "# index of best scores\n",
    "rmse_bestCV_test_index = grid1.cv_results_['mean_test_neg_mean_squared_error'].argmax()\n",
    "rmse_bestCV_train_index = grid1.cv_results_['mean_train_neg_mean_squared_error'].argmax()\n",
    "r2_bestCV_test_index = grid1.cv_results_['mean_test_r2'].argmax()\n",
    "r2_bestCV_train_index = grid1.cv_results_['mean_train_r2'].argmax()\n",
    "# scores\n",
    "rmse_bestCV_test_score = grid1.cv_results_['mean_test_neg_mean_squared_error'][rmse_bestCV_test_index]\n",
    "rmse_bestCV_test_std = grid1.cv_results_['std_test_neg_mean_squared_error'][rmse_bestCV_test_index]\n",
    "rmse_bestCV_train_score = grid1.cv_results_['mean_train_neg_mean_squared_error'][rmse_bestCV_train_index]\n",
    "rmse_bestCV_train_std = grid1.cv_results_['std_train_neg_mean_squared_error'][rmse_bestCV_train_index]\n",
    "\n",
    "r2_bestCV_test_score = grid1.cv_results_['mean_test_r2'][r2_bestCV_test_index]\n",
    "r2_bestCV_test_std = grid1.cv_results_['std_test_r2'][r2_bestCV_test_index]\n",
    "r2_bestCV_train_score = grid1.cv_results_['mean_train_r2'][r2_bestCV_train_index]\n",
    "r2_bestCV_train_std = grid1.cv_results_['std_train_r2'][r2_bestCV_train_index]\n",
    "\n",
    "print('CV test RMSE {:f} +/- {:f}'.format(np.sqrt(-rmse_bestCV_test_score),np.sqrt(rmse_bestCV_test_std)))\n",
    "print('CV train RMSE {:f} +/- {:f}'.format(np.sqrt(-rmse_bestCV_train_score),np.sqrt(rmse_bestCV_train_std)))\n",
    "print('DIFF RMSE {}'.format(np.sqrt(-rmse_bestCV_test_score)-np.sqrt(-rmse_bestCV_train_score)))\n",
    "print('CV test r2 {:f} +/- {:f}'.format(r2_bestCV_test_score,r2_bestCV_test_std))\n",
    "print('CV train r2 {:f} +/- {:f}'.format(r2_bestCV_train_score,r2_bestCV_train_std))\n",
    "\n",
    "print(r2_bestCV_train_score-r2_bestCV_test_score)\n",
    "y_test_pred = grid1.best_estimator_.predict(X_test)\n",
    "y_train_pred = grid1.best_estimator_.predict(X_train)\n",
    "print(\"\\nRMSE for test dataset: {}\".format(np.round(np.sqrt(mean_squared_error(y_test, y_test_pred)), 2)))\n",
    "print(\"RMSE for train dataset: {}\".format(np.round(np.sqrt(mean_squared_error(y_train, y_train_pred)), 2)))\n",
    "print(\"pearson corr  test {:f}\".format(np.corrcoef(y_test_pred,y_test.values.ravel())[0][1]))\n",
    "print(\"pearson corr  train {:f}\".format(np.corrcoef(y_train_pred,y_train.values.ravel())[0][1]))\n",
    "\n",
    "print('R2 test',r2_score(y_test,y_test_pred))\n",
    "print('R2 train',r2_score(y_train,y_train_pred))"
   ]
  },
  {
   "cell_type": "code",
   "execution_count": 51,
   "metadata": {
    "collapsed": true
   },
   "outputs": [],
   "source": [
    "def cv_results(cv_object):\n",
    "    \n",
    "    # scores\n",
    "    rmse_train_cv = np.sqrt(-cv_object[\"train_neg_mean_squared_error\"])\n",
    "    rmse_test_cv = np.sqrt(-cv_object[\"test_neg_mean_squared_error\"])\n",
    "    r2_train_cv = cv_object[\"train_r2\"]\n",
    "    r2_test_cv = cv_object[\"test_r2\"]\n",
    "    \n",
    "    print(\"RMSE train CV: {:.4f} ({:.4f})\".format(rmse_train_cv.mean(),rmse_train_cv.std()))\n",
    "    print(\"RMSE test CV: {:.4f} ({:.4f})\".format(rmse_test_cv.mean(),rmse_test_cv.std()))\n",
    "    print('DIFF RMSE {}\\n'.format(rmse_test_cv.mean()-rmse_train_cv.mean()))\n",
    "\n",
    "    print(\"r2 train CV: {:.4f} ({:.4f})\".format(r2_train_cv.mean(),r2_train_cv.std()))\n",
    "    print(\"r2 test CV: {:.4f} ({:.4f})\".format(r2_test_cv.mean(),r2_test_cv.std()))\n",
    "    print('DIFF RMSE {}\\n'.format(r2_test_cv.mean()-r2_train_cv.mean()))\n",
    "    \n",
    "def test_results(fitted_estimator,Xtest,Ytest):\n",
    "    y_test_pred = fitted_estimator.predict(Xtest)\n",
    "    #y_train_pred = fitted_estimator.predict(Xtrain)\n",
    "    \n",
    "    print(\"RMSE test: {}\".format(np.round(np.sqrt(mean_squared_error(Ytest, y_test_pred)), 2)))\n",
    "\n",
    "    print('r2 test',r2_score(Ytest,y_test_pred))\n",
    "    #print('r2 train',r2_score(Ytrain,y_train_pred))\n",
    "    \n",
    "    print(\"Pearson corr test {:f}\".format(np.corrcoef(y_test_pred,Ytest.values.ravel())[0][1]))\n",
    "    "
   ]
  },
  {
   "cell_type": "code",
   "execution_count": 45,
   "metadata": {
    "collapsed": true
   },
   "outputs": [],
   "source": [
    "#Validation function\n",
    "n_folds = 10\n",
    "\n",
    "def evaluating(model,Xtrain,Ytarget):\n",
    "    kf = KFold(n_folds, shuffle=True, random_state=42).get_n_splits(Xtrain.values)\n",
    "    #rkf = RepeatedKFold(n_splits=10,n_repeats=10,random_state=13)\n",
    "    cvscore = cross_validate(model, Xtrain, Ytarget, scoring=[\"r2\",\"neg_mean_squared_error\"],\n",
    "                             cv = kf,verbose=1,n_jobs=-1,return_train_score=True,return_estimator=True)\n",
    "    return cvscore\n",
    "\n",
    "def evaluating2(model,Xtrain,Ytarget):\n",
    "    kf = KFold(n_folds, shuffle=True, random_state=42).get_n_splits(Xtrain.values)\n",
    "    #rkf = RepeatedKFold(n_splits=10,n_repeats=10,random_state=13)\n",
    "    cvscore = cross_validate(model, Xtrain, Ytarget, scoring=[\"r2\",\"neg_mean_squared_error\"],\n",
    "                             cv = kf,verbose=1,n_jobs=-1,return_train_score=True,return_estimator=True)\n",
    "    return cvscore"
   ]
  },
  {
   "cell_type": "code",
   "execution_count": 46,
   "metadata": {
    "collapsed": true
   },
   "outputs": [],
   "source": [
    "# preprocess pipeline steps\n",
    "#steps pipeline\n",
    "interactions = FeaturesInteractions(interaction1=X_train.columns[:15].tolist(),interaction2=\"van_der_waals_change\")\n",
    "skewness = SkewTransformer(threshold=0.6,method='quantile')\n",
    "zeroth = ZeroThreshold(threshold=90.)"
   ]
  },
  {
   "cell_type": "code",
   "execution_count": 81,
   "metadata": {
    "collapsed": true
   },
   "outputs": [],
   "source": [
    "GradientBoostingRegressor?"
   ]
  },
  {
   "cell_type": "markdown",
   "metadata": {},
   "source": [
    "#### algorithms"
   ]
  },
  {
   "cell_type": "code",
   "execution_count": 116,
   "metadata": {
    "collapsed": true
   },
   "outputs": [],
   "source": [
    "#lasso model\n",
    "lasso = make_pipeline(interactions,skewness,zeroth,MinMaxScaler(),\n",
    "                      Lasso(alpha=0.001,normalize=True,fit_intercept=True,random_state=1))\n",
    "# svr polynomial kernel\n",
    "svrP = make_pipeline(interactions,skewness,zeroth,MinMaxScaler(),\n",
    "                      SVR(C=1,degree=2,epsilon=0.4,gamma=0.5,kernel='poly'))\n",
    "\n",
    "svrRBF = make_pipeline(interactions,skewness,zeroth,MinMaxScaler(),\n",
    "                      SVR(C=2.5,epsilon=0.5,gamma=0.5,kernel='rbf'))\n",
    "\n",
    "gbt = make_pipeline(interactions,skewness,zeroth,\n",
    "                   GradientBoostingRegressor(n_estimators=1000, learning_rate=0.05,\n",
    "                                   max_depth=8, max_features='sqrt',\n",
    "                                   min_samples_leaf=8, min_samples_split=2, \n",
    "                                   loss='huber', random_state =5,subsample=0.6,alpha=0.7))\n",
    "\n",
    "xgbr = make_pipeline(interactions,skewness,zeroth,\n",
    "                   XGBRegressor(colsample_bytree=0.6, gamma=0, \n",
    "                             learning_rate=0.07, max_depth=8, \n",
    "                             min_child_weight=20, n_estimators=1000,\n",
    "                             reg_alpha=0.000005, reg_lambda=200,\n",
    "                             subsample=0.9,random_state =7, nthread = -1))\n"
   ]
  },
  {
   "cell_type": "code",
   "execution_count": 115,
   "metadata": {
    "collapsed": true
   },
   "outputs": [],
   "source": [
    "XGBRegressor?"
   ]
  },
  {
   "cell_type": "code",
   "execution_count": 113,
   "metadata": {},
   "outputs": [
    {
     "data": {
      "image/png": "[encoded data removed]",
      "text/plain": [
       "<Figure size 576x396 with 1 Axes>"
      ]
     },
     "metadata": {},
     "output_type": "display_data"
    },
    {
     "name": "stdout",
     "output_type": "stream",
     "text": [
      "3\n"
     ]
    }
   ],
   "source": [
    "import numpy as np\n",
    "\n",
    "from yellowbrick.model_selection import ValidationCurve\n",
    "\n",
    "#1)\n",
    "#2)\n",
    "#3) Crear pipeline\n",
    "\n",
    "viz = ValidationCurve(\n",
    "    xgbr, njobs=-1,param_name=\"xgbregressor__reg_lambda\",\n",
    "    param_range=[1,10,100,200,400], cv=10, scoring=\"neg_mean_squared_error\",n_jobs=-1)\n",
    "#plt.ylim(0,0.6)\n",
    "# Fit and poof the visualizer\n",
    "viz.fit(X_train, y_train)\n",
    "viz.poof()\n",
    "print(viz.test_scores_mean_.argmax())"
   ]
  },
  {
   "cell_type": "code",
   "execution_count": 77,
   "metadata": {},
   "outputs": [
    {
     "data": {
      "text/plain": [
       "array([1.58978938, 1.58838006, 1.5870186 , 1.58659171, 1.5865904 ])"
      ]
     },
     "execution_count": 77,
     "metadata": {},
     "output_type": "execute_result"
    }
   ],
   "source": [
    "np.sqrt(-viz.test_scores_mean_)"
   ]
  },
  {
   "cell_type": "markdown",
   "metadata": {},
   "source": [
    "#### Base model scores"
   ]
  },
  {
   "cell_type": "code",
   "execution_count": 52,
   "metadata": {},
   "outputs": [
    {
     "name": "stderr",
     "output_type": "stream",
     "text": [
      "[Parallel(n_jobs=-1)]: Using backend LokyBackend with 16 concurrent workers.\n",
      "[Parallel(n_jobs=-1)]: Done  10 out of  10 | elapsed:    2.7s finished\n"
     ]
    },
    {
     "name": "stdout",
     "output_type": "stream",
     "text": [
      "RMSE train CV: 1.6844 (0.0199)\n",
      "RMSE test CV: 1.7245 (0.1926)\n",
      "DIFF RMSE 0.04010925875432436\n",
      "\n",
      "r2 train CV: 0.1972 (0.0106)\n",
      "r2 test CV: 0.1451 (0.0632)\n",
      "DIFF RMSE -0.05203947250971952\n",
      "\n",
      "RMSE test: 1.72\n",
      "r2 test 0.255501865606795\n",
      "Pearson corr test 0.533188\n"
     ]
    }
   ],
   "source": [
    "print('Lasso Model Evaluation')\n",
    "lassocv = evaluating(lasso,X_train,y_train)\n",
    "cv_results(lassocv)\n",
    "\n",
    "lasso_model = lasso.fit(X_train,y_train)\n",
    "test_results(lasso_model,X_test,y_test)\n"
   ]
  },
  {
   "cell_type": "code",
   "execution_count": 117,
   "metadata": {},
   "outputs": [
    {
     "name": "stdout",
     "output_type": "stream",
     "text": [
      "XGBRegressor Model Evaluation\n"
     ]
    },
    {
     "name": "stderr",
     "output_type": "stream",
     "text": [
      "[Parallel(n_jobs=-1)]: Using backend LokyBackend with 16 concurrent workers.\n",
      "[Parallel(n_jobs=-1)]: Done  10 out of  10 | elapsed:    8.8s finished\n"
     ]
    },
    {
     "name": "stdout",
     "output_type": "stream",
     "text": [
      "RMSE train CV: 0.3163 (0.0064)\n",
      "RMSE test CV: 1.5952 (0.1729)\n",
      "DIFF RMSE 1.2789593926118417\n",
      "\n",
      "r2 train CV: 0.9717 (0.0008)\n",
      "r2 test CV: 0.2669 (0.0673)\n",
      "DIFF RMSE -0.7047906015142127\n",
      "\n",
      "RMSE test: 1.63\n",
      "r2 test 0.3335486540403495\n",
      "Pearson corr test 0.578549\n"
     ]
    }
   ],
   "source": [
    "print('XGBRegressor Model Evaluation')\n",
    "xgbrcv = evaluating(xgbr,X_train,y_train)\n",
    "cv_results(xgbrcv)\n",
    "\n",
    "xgbr_model = xgbr.fit(X_train,y_train)\n",
    "test_results(xgbr_model,X_test,y_test)\n"
   ]
  },
  {
   "cell_type": "code",
   "execution_count": 54,
   "metadata": {},
   "outputs": [
    {
     "name": "stdout",
     "output_type": "stream",
     "text": [
      "SVR polynomial Model Evaluation\n"
     ]
    },
    {
     "name": "stderr",
     "output_type": "stream",
     "text": [
      "[Parallel(n_jobs=-1)]: Using backend LokyBackend with 16 concurrent workers.\n",
      "[Parallel(n_jobs=-1)]: Done  10 out of  10 | elapsed:    1.7s finished\n"
     ]
    },
    {
     "name": "stdout",
     "output_type": "stream",
     "text": [
      "RMSE train CV: 1.5431 (0.0177)\n",
      "RMSE test CV: 1.7132 (0.1863)\n",
      "DIFF RMSE 0.17010848501651843\n",
      "\n",
      "r2 train CV: 0.3262 (0.0113)\n",
      "r2 test CV: 0.1540 (0.0859)\n",
      "DIFF RMSE -0.17224717942281076\n",
      "\n",
      "RMSE test: 1.64\n",
      "r2 test 0.3218545387639137\n",
      "Pearson corr test 0.590229\n"
     ]
    }
   ],
   "source": [
    "print('SVR polynomial Model Evaluation')\n",
    "svrPcv = evaluating(svrP,X_train,y_train)\n",
    "cv_results(svrPcv)\n",
    "\n",
    "svrP_model = xgbr.fit(X_train,y_train)\n",
    "test_results(svrP_model,X_test,y_test)"
   ]
  },
  {
   "cell_type": "code",
   "execution_count": 55,
   "metadata": {},
   "outputs": [
    {
     "name": "stdout",
     "output_type": "stream",
     "text": [
      "SVR rbf Model Evaluation\n"
     ]
    },
    {
     "name": "stderr",
     "output_type": "stream",
     "text": [
      "[Parallel(n_jobs=-1)]: Using backend LokyBackend with 16 concurrent workers.\n",
      "[Parallel(n_jobs=-1)]: Done  10 out of  10 | elapsed:    3.0s finished\n"
     ]
    },
    {
     "name": "stdout",
     "output_type": "stream",
     "text": [
      "RMSE train CV: 1.4346 (0.0179)\n",
      "RMSE test CV: 1.6718 (0.1876)\n",
      "DIFF RMSE 0.2372212684348758\n",
      "\n",
      "r2 train CV: 0.4176 (0.0093)\n",
      "r2 test CV: 0.1965 (0.0544)\n",
      "DIFF RMSE -0.22110350912096322\n",
      "\n",
      "RMSE test: 1.72\n",
      "r2 test 0.25833886420090024\n",
      "Pearson corr test 0.521817\n"
     ]
    }
   ],
   "source": [
    "print('SVR rbf Model Evaluation')\n",
    "svrRBFcv = evaluating(svrRBF,X_train,y_train)\n",
    "cv_results(svrRBFcv)\n",
    "\n",
    "svrRBF_model = svrRBF.fit(X_train,y_train)\n",
    "test_results(svrRBF_model,X_test,y_test)"
   ]
  },
  {
   "cell_type": "code",
   "execution_count": 101,
   "metadata": {},
   "outputs": [
    {
     "name": "stdout",
     "output_type": "stream",
     "text": [
      "GradientBoostingRegressor Model Evaluation\n"
     ]
    },
    {
     "name": "stderr",
     "output_type": "stream",
     "text": [
      "[Parallel(n_jobs=-1)]: Using backend LokyBackend with 16 concurrent workers.\n",
      "[Parallel(n_jobs=-1)]: Done  10 out of  10 | elapsed:   14.1s finished\n"
     ]
    },
    {
     "name": "stdout",
     "output_type": "stream",
     "text": [
      "RMSE train CV: 0.7067 (0.0088)\n",
      "RMSE test CV: 1.5883 (0.1880)\n",
      "DIFF RMSE 0.8816176739729296\n",
      "\n",
      "r2 train CV: 0.8587 (0.0032)\n",
      "r2 test CV: 0.2756 (0.0576)\n",
      "DIFF RMSE -0.5831130722984809\n",
      "\n",
      "RMSE test: 1.62\n",
      "r2 test 0.33779241686393613\n",
      "Pearson corr test 0.590803\n"
     ]
    }
   ],
   "source": [
    "print('GradientBoostingRegressor Model Evaluation')\n",
    "gbtcv = evaluating(gbt,X_train,y_train)\n",
    "cv_results(gbtcv)\n",
    "\n",
    "gbt_model = gbt.fit(X_train,y_train)\n",
    "test_results(gbt_model,X_test,y_test)"
   ]
  },
  {
   "cell_type": "code",
   "execution_count": null,
   "metadata": {
    "collapsed": true
   },
   "outputs": [],
   "source": [
    "RMSE train CV: 0.7123 (0.0179)\n",
    "RMSE test CV: 1.6053 (0.1711)\n",
    "DIFF RMSE 0.8930631120106576\n",
    "\n",
    "r2 train CV: 0.8564 (0.0067)\n",
    "r2 test CV: 0.2576 (0.0620)\n",
    "DIFF RMSE -0.5987430199132573\n",
    "\n",
    "RMSE test: 1.61\n",
    "r2 test 0.35009451747917697\n",
    "Pearson corr test 0.601212"
   ]
  },
  {
   "cell_type": "code",
   "execution_count": 118,
   "metadata": {
    "collapsed": true
   },
   "outputs": [],
   "source": [
    "\n",
    "class AveragingModels(BaseEstimator, RegressorMixin, TransformerMixin):\n",
    "    def __init__(self, models):\n",
    "        self.models = models\n",
    "        \n",
    "    # we define clones of the original models to fit the data in\n",
    "    def fit(self, X, y):\n",
    "        self.models_ = [clone(x) for x in self.models]\n",
    "        \n",
    "        # Train cloned base models\n",
    "        for model in self.models_:\n",
    "            model.fit(X, y)\n",
    "\n",
    "        return self\n",
    "    \n",
    "    #Now we do the predictions for cloned models and average them\n",
    "    def predict(self, X):\n",
    "        predictions = np.column_stack([\n",
    "            model.predict(X) for model in self.models_\n",
    "        ])\n",
    "        return np.mean(predictions, axis=1)"
   ]
  },
  {
   "cell_type": "code",
   "execution_count": 119,
   "metadata": {},
   "outputs": [
    {
     "name": "stdout",
     "output_type": "stream",
     "text": [
      "Averaged Models Evaluation\n"
     ]
    },
    {
     "name": "stderr",
     "output_type": "stream",
     "text": [
      "[Parallel(n_jobs=-1)]: Using backend LokyBackend with 16 concurrent workers.\n",
      "[Parallel(n_jobs=-1)]: Done  10 out of  10 | elapsed:   25.1s finished\n"
     ]
    },
    {
     "name": "stdout",
     "output_type": "stream",
     "text": [
      "RMSE train CV: 1.0901 (0.0133)\n",
      "RMSE test CV: 1.6149 (0.1852)\n",
      "DIFF RMSE 0.5248280604564408\n",
      "\n",
      "r2 train CV: 0.6637 (0.0054)\n",
      "r2 test CV: 0.2503 (0.0620)\n",
      "DIFF RMSE -0.41343578405109527\n",
      "\n",
      "RMSE test: 1.63\n",
      "r2 test 0.32956477542995066\n",
      "Pearson corr test 0.603845\n"
     ]
    }
   ],
   "source": [
    "print('Averaged Models Evaluation')\n",
    "averaged_models = AveragingModels(models = (gbt, svrP,xgbr,svrRBF, lasso))\n",
    "\n",
    "averaged_models_cv = evaluating(averaged_models,X_train,y_train)\n",
    "cv_results(averaged_models_cv)\n",
    "\n",
    "averaged_models_model = averaged_models.fit(X_train,y_train)\n",
    "test_results(averaged_models_model,X_test,y_test)"
   ]
  },
  {
   "cell_type": "code",
   "execution_count": 120,
   "metadata": {},
   "outputs": [
    {
     "data": {
      "text/plain": [
       "['avg_models_FINAL.pkl']"
      ]
     },
     "execution_count": 120,
     "metadata": {},
     "output_type": "execute_result"
    }
   ],
   "source": [
    "final_avg = averaged_models.fit(full_data,y_full)\n",
    "from sklearn.externals import joblib\n",
    "\n",
    "# save final model\n",
    "\n",
    "joblib.dump(final_avg, 'avg_models_FINAL.pkl')"
   ]
  },
  {
   "cell_type": "code",
   "execution_count": 121,
   "metadata": {
    "collapsed": true
   },
   "outputs": [],
   "source": [
    "class StackingAveragedModels(BaseEstimator, RegressorMixin, TransformerMixin):\n",
    "    def __init__(self, base_models, meta_model, n_folds=5):\n",
    "        self.base_models = base_models\n",
    "        self.meta_model = meta_model\n",
    "        self.n_folds = n_folds\n",
    "   \n",
    "    # We again fit the data on clones of the original models\n",
    "    def fit(self, X, y):\n",
    "        self.base_models_ = [list() for x in self.base_models]\n",
    "        self.meta_model_ = clone(self.meta_model)\n",
    "        kfold = KFold(n_splits=self.n_folds, shuffle=True, random_state=156)\n",
    "        \n",
    "        # Train cloned base models then create out-of-fold predictions\n",
    "        # that are needed to train the cloned meta-model\n",
    "        out_of_fold_predictions = np.zeros((X.shape[0], len(self.base_models)))\n",
    "        for i, model in enumerate(self.base_models):\n",
    "            for train_index, holdout_index in kfold.split(X, y):\n",
    "                instance = clone(model)\n",
    "                self.base_models_[i].append(instance)\n",
    "                instance.fit(X.iloc[train_index], y.iloc[train_index])\n",
    "                y_pred = instance.predict(X.iloc[holdout_index])\n",
    "                out_of_fold_predictions[holdout_index, i] = y_pred\n",
    "                \n",
    "        # Now train the cloned  meta-model using the out-of-fold predictions as new feature\n",
    "        self.meta_model_.fit(out_of_fold_predictions, y)\n",
    "        return self\n",
    "   \n",
    "    #Do the predictions of all base models on the test data and use the averaged predictions as \n",
    "    #meta-features for the final prediction which is done by the meta-model\n",
    "    def predict(self, X):\n",
    "        meta_features = np.column_stack([\n",
    "            np.column_stack([model.predict(X) for model in base_models]).mean(axis=1)\n",
    "            for base_models in self.base_models_ ])\n",
    "        return self.meta_model_.predict(meta_features)\n"
   ]
  },
  {
   "cell_type": "code",
   "execution_count": 123,
   "metadata": {},
   "outputs": [],
   "source": [
    "lassoMeta = make_pipeline(MinMaxScaler(), Lasso(alpha =0.001, random_state=1,normalize=True,fit_intercept=True))\n",
    "svrMeta = make_pipeline(make_pipeline(MinMaxScaler(),\n",
    "                      SVR(C=1,degree=2,epsilon=0.4,gamma=0.5,kernel='poly')))\n",
    "\n",
    "xgbMeta = make_pipeline(make_pipeline(XGBRegressor(colsample_bytree=0.6, gamma=0, \n",
    "                             learning_rate=0.07, max_depth=8, \n",
    "                             min_child_weight=20, n_estimators=1000,\n",
    "                             reg_alpha=0.000005, reg_lambda=200,\n",
    "                             subsample=0.9,random_state =7, nthread = -1)))\n",
    "\n",
    "# GradientBoostingRegressor(n_estimators=1000, learning_rate=0.05,\n",
    "#                                    max_depth=8, max_features='sqrt',\n",
    "#                                    min_samples_leaf=8, min_samples_split=2, \n",
    "#                                    loss='huber', random_state =5,subsample=0.6,alpha=0.7)"
   ]
  },
  {
   "cell_type": "code",
   "execution_count": 126,
   "metadata": {
    "collapsed": true
   },
   "outputs": [],
   "source": [
    "stacked_averaged_models = StackingAveragedModels(base_models = (gbt, svrP,svrRBF,xgbr),\n",
    "                                                 meta_model = svrMeta)"
   ]
  },
  {
   "cell_type": "code",
   "execution_count": 127,
   "metadata": {},
   "outputs": [
    {
     "name": "stdout",
     "output_type": "stream",
     "text": [
      "Averaged Stacked Models Evaluation\n"
     ]
    },
    {
     "name": "stderr",
     "output_type": "stream",
     "text": [
      "[Parallel(n_jobs=-1)]: Using backend LokyBackend with 16 concurrent workers.\n",
      "[Parallel(n_jobs=-1)]: Done  10 out of  10 | elapsed:  1.8min finished\n"
     ]
    },
    {
     "name": "stdout",
     "output_type": "stream",
     "text": [
      "RMSE train CV: 1.0710 (0.0325)\n",
      "RMSE test CV: 1.6200 (0.1764)\n",
      "DIFF RMSE 0.5489581757355955\n",
      "\n",
      "r2 train CV: 0.6752 (0.0179)\n",
      "r2 test CV: 0.2452 (0.0525)\n",
      "DIFF RMSE -0.43001800489044917\n",
      "\n",
      "RMSE test: 1.64\n",
      "r2 test 0.3222673596919453\n",
      "Pearson corr test 0.607882\n"
     ]
    }
   ],
   "source": [
    "print('Averaged Stacked Models Evaluation')\n",
    "\n",
    "stacked_averaged_models_cv = evaluating(stacked_averaged_models,X_train,y_train)\n",
    "cv_results(stacked_averaged_models_cv)\n",
    "\n",
    "stacked_averaged_models_model = stacked_averaged_models.fit(X_train,y_train)\n",
    "test_results(stacked_averaged_models_model,X_test,y_test)"
   ]
  },
  {
   "cell_type": "code",
   "execution_count": 128,
   "metadata": {
    "collapsed": true
   },
   "outputs": [],
   "source": [
    "final_stacked_averaged_models = stacked_averaged_models.fit(full_data,y_full)"
   ]
  },
  {
   "cell_type": "code",
   "execution_count": 129,
   "metadata": {},
   "outputs": [
    {
     "data": {
      "text/plain": [
       "['stacked_averaged_models_FINAL.pkl']"
      ]
     },
     "execution_count": 129,
     "metadata": {},
     "output_type": "execute_result"
    }
   ],
   "source": [
    "from sklearn.externals import joblib\n",
    "\n",
    "# save final model\n",
    "\n",
    "joblib.dump(final_stacked_averaged_models, 'stacked_averaged_models_FINAL.pkl')"
   ]
  },
  {
   "cell_type": "code",
   "execution_count": null,
   "metadata": {
    "collapsed": true
   },
   "outputs": [],
   "source": []
  }
 ],
 "metadata": {
  "kernelspec": {
   "display_name": "Python 3",
   "language": "python",
   "name": "python3"
  },
  "language_info": {
   "codemirror_mode": {
    "name": "ipython",
    "version": 3
   },
   "file_extension": ".py",
   "mimetype": "text/x-python",
   "name": "python",
   "nbconvert_exporter": "python",
   "pygments_lexer": "ipython3",
   "version": "3.6.7"
  }
 },
 "nbformat": 4,
 "nbformat_minor": 2
}
