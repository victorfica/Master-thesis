{
 "cells": [
  {
   "cell_type": "code",
   "execution_count": 71,
   "metadata": {
    "collapsed": true
   },
   "outputs": [],
   "source": [
    "import pandas as pd\n",
    "import numpy as np\n",
    "\n",
    "# visualization\n",
    "import matplotlib.pyplot as plt\n",
    "import seaborn as sns\n",
    "from yellowbrick.model_selection import LearningCurve\n",
    "from yellowbrick.regressor import ResidualsPlot\n",
    "from yellowbrick.regressor import PredictionError\n",
    "# Algorithms\n",
    "from sklearn.svm import SVR\n",
    "from sklearn.ensemble import GradientBoostingRegressor\n",
    "from sklearn.linear_model import Lasso\n",
    "from xgboost import XGBRegressor\n",
    "from sklearn.kernel_ridge import KernelRidge\n",
    "# preproceessing\n",
    "from model_transformers import FeaturesInteractions,SkewTransformer,ZeroThreshold\n",
    "\n",
    "from sklearn.metrics import mean_squared_error,r2_score\n",
    "from sklearn.model_selection import train_test_split,cross_validate\n",
    "from sklearn.model_selection import RepeatedKFold,GridSearchCV,KFold\n",
    "from sklearn.pipeline import make_pipeline\n",
    "from sklearn.preprocessing import RobustScaler,MinMaxScaler\n",
    "\n",
    "# sklearn classes\n",
    "from sklearn.base import BaseEstimator, TransformerMixin, RegressorMixin, clone\n"
   ]
  },
  {
   "cell_type": "code",
   "execution_count": 9,
   "metadata": {},
   "outputs": [
    {
     "data": {
      "text/plain": [
       "(1392, 78)"
      ]
     },
     "execution_count": 9,
     "metadata": {},
     "output_type": "execute_result"
    }
   ],
   "source": [
    "#dataframe final\n",
    "df_final = pd.read_csv(\"../data/DF_train15noChangeContact_skempiAB_modeller_final.csv\",index_col=0)\n",
    "\n",
    "\n",
    "pdb_names = df_final.index\n",
    "features_names = df_final.drop('ddG_exp',axis=1).columns\n",
    "df_final.shape"
   ]
  },
  {
   "cell_type": "code",
   "execution_count": 10,
   "metadata": {
    "collapsed": true
   },
   "outputs": [],
   "source": [
    "# Split train and independent test data\n",
    "\n",
    "X_train, X_test, y_train, y_test = train_test_split(df_final.drop('ddG_exp',axis=1), df_final['ddG_exp'], \n",
    "                                                    test_size=0.2, random_state=13)     \n",
    "\n",
    "# join train data for Exploratory analisis of training data\n",
    "train = X_train.join(y_train)\n",
    "\n",
    "# Drop outliers\n",
    "train = train.drop(train[(train['van_der_waals_change']>3)].index)\n",
    "train = train.drop(train[(train['dg_change'].abs()>8)].index)\n",
    "\n",
    "y_train = train['ddG_exp']\n",
    "X_train = train.drop('ddG_exp',axis=1)"
   ]
  },
  {
   "cell_type": "code",
   "execution_count": 48,
   "metadata": {
    "collapsed": true
   },
   "outputs": [],
   "source": [
    "full_data = pd.concat([X_train, X_test])\n",
    "y_full = pd.concat([y_train, y_test])"
   ]
  },
  {
   "cell_type": "markdown",
   "metadata": {},
   "source": [
    "# Modelling"
   ]
  },
  {
   "cell_type": "markdown",
   "metadata": {},
   "source": [
    "#### Crossvalidation strategy"
   ]
  },
  {
   "cell_type": "code",
   "execution_count": null,
   "metadata": {
    "collapsed": true
   },
   "outputs": [],
   "source": []
  },
  {
   "cell_type": "code",
   "execution_count": 194,
   "metadata": {
    "collapsed": true
   },
   "outputs": [],
   "source": [
    "#Validation function\n",
    "n_folds = 10\n",
    "\n",
    "def evaluating(model,train,target):\n",
    "    kf = KFold(n_folds, shuffle=True, random_state=42).get_n_splits(train.values)\n",
    "    #rkf = RepeatedKFold(n_splits=10,n_repeats=10,random_state=13)\n",
    "    cvscore = cross_validate(model, train, target, scoring=[\"r2\",\"neg_mean_squared_error\"],\n",
    "                             cv = kf,verbose=1,n_jobs=-1,return_train_score=True)\n",
    "    return(cvscore)"
   ]
  },
  {
   "cell_type": "code",
   "execution_count": 195,
   "metadata": {
    "collapsed": true
   },
   "outputs": [],
   "source": [
    "# preprocess pipeline steps\n",
    "#steps pipeline\n",
    "interactions = FeaturesInteractions(interaction1=X_train.columns[:15].tolist(),interaction2=\"van_der_waals_change\")\n",
    "skewness = SkewTransformer(threshold=0.6,method='quantile')\n",
    "zeroth = ZeroThreshold(threshold=90.)"
   ]
  },
  {
   "cell_type": "markdown",
   "metadata": {},
   "source": [
    "#### algorithms"
   ]
  },
  {
   "cell_type": "code",
   "execution_count": 211,
   "metadata": {},
   "outputs": [],
   "source": [
    "#lasso model\n",
    "lasso = make_pipeline(interactions,skewness,zeroth,MinMaxScaler(),\n",
    "                      Lasso(alpha=0.001,normalize=True,fit_intercept=True,random_state=1))\n",
    "# svr polynomial kernel\n",
    "svrP = make_pipeline(interactions,skewness,zeroth,MinMaxScaler(),\n",
    "                      SVR(C=1,degree=2,epsilon=0.4,gamma=0.5,kernel='poly'))\n",
    "\n",
    "svrRBF = make_pipeline(interactions,skewness,zeroth,MinMaxScaler(),\n",
    "                      SVR(C=2.5,epsilon=0.5,gamma=0.5,kernel='rbf'))\n",
    "\n",
    "gbt = make_pipeline(interactions,skewness,zeroth,MinMaxScaler(),\n",
    "                   GradientBoostingRegressor(n_estimators=100, learning_rate=0.05,\n",
    "                                   max_depth=6, max_features='sqrt',\n",
    "                                   min_samples_leaf=5, min_samples_split=2, \n",
    "                                   loss='huber', random_state =5,subsample=0.6,alpha=0.7))\n",
    "\n",
    "xgbr = make_pipeline(interactions,skewness,zeroth,\n",
    "                   XGBRegressor(colsample_bytree=0.7, gamma=3, \n",
    "                             learning_rate=0.07, max_depth=3, \n",
    "                             min_child_weight=20, n_estimators=100,\n",
    "                             reg_alpha=1.9, reg_lambda=2.7,\n",
    "                             subsample=0.5,random_state =7, nthread = -1))\n"
   ]
  },
  {
   "cell_type": "code",
   "execution_count": 142,
   "metadata": {},
   "outputs": [
    {
     "data": {
      "image/png": "[encoded data removed]",
      "text/plain": [
       "<Figure size 576x396 with 1 Axes>"
      ]
     },
     "metadata": {},
     "output_type": "display_data"
    },
    {
     "name": "stdout",
     "output_type": "stream",
     "text": [
      "1\n"
     ]
    }
   ],
   "source": [
    "import numpy as np\n",
    "\n",
    "from yellowbrick.model_selection import ValidationCurve\n",
    "\n",
    "#1)\n",
    "#2)\n",
    "#3) Crear pipeline\n",
    "\n",
    "viz = ValidationCurve(\n",
    "    xgbr, njobs=-1,param_name=\"xgbregressor__max_depth\",\n",
    "    param_range=[2,3,4,5,6], cv=10, scoring=\"neg_mean_squared_error\",n_jobs=-1)\n",
    "#plt.ylim(0,0.6)\n",
    "# Fit and poof the visualizer\n",
    "viz.fit(X_train, y_train)\n",
    "viz.poof()\n",
    "print(viz.test_scores_mean_.argmax())"
   ]
  },
  {
   "cell_type": "code",
   "execution_count": 120,
   "metadata": {},
   "outputs": [
    {
     "data": {
      "text/plain": [
       "2"
      ]
     },
     "execution_count": 120,
     "metadata": {},
     "output_type": "execute_result"
    }
   ],
   "source": [
    "viz.test_scores_mean_.argmax()"
   ]
  },
  {
   "cell_type": "markdown",
   "metadata": {},
   "source": [
    "#### Base model scores"
   ]
  },
  {
   "cell_type": "code",
   "execution_count": 204,
   "metadata": {},
   "outputs": [
    {
     "name": "stderr",
     "output_type": "stream",
     "text": [
      "[Parallel(n_jobs=-1)]: Using backend LokyBackend with 16 concurrent workers.\n"
     ]
    },
    {
     "name": "stdout",
     "output_type": "stream",
     "text": [
      "Lasso RMSE test: 1.7245 (0.1926)\n",
      "\n",
      "Lasso r2 test: 0.1451 (0.0632)\n",
      "\n",
      "RMSE overfitt\n",
      "0.04010925875432436\n"
     ]
    },
    {
     "name": "stderr",
     "output_type": "stream",
     "text": [
      "[Parallel(n_jobs=-1)]: Done  10 out of  10 | elapsed:    0.7s finished\n"
     ]
    }
   ],
   "source": [
    "\n",
    "score = evaluating(lasso,X_train,y_train)\n",
    "\n",
    "print(\"Lasso RMSE test: {:.4f} ({:.4f})\\n\".format(np.sqrt(-score[\"test_neg_mean_squared_error\"]).mean(),\n",
    "                                                    np.sqrt(-score[\"test_neg_mean_squared_error\"]).std()))\n",
    "print(\"Lasso r2 test: {:.4f} ({:.4f})\\n\".format(score[\"test_r2\"].mean(),\n",
    "                                                    score[\"test_r2\"].std()))\n",
    "\n",
    "print('RMSE overfitt')\n",
    "RMSE_diff =np.sqrt(-score[\"test_neg_mean_squared_error\"]).mean()-np.sqrt(-score[\"train_neg_mean_squared_error\"]).mean()\n",
    "print(RMSE_diff)"
   ]
  },
  {
   "cell_type": "code",
   "execution_count": 210,
   "metadata": {},
   "outputs": [
    {
     "name": "stderr",
     "output_type": "stream",
     "text": [
      "[Parallel(n_jobs=-1)]: Using backend LokyBackend with 16 concurrent workers.\n"
     ]
    },
    {
     "name": "stdout",
     "output_type": "stream",
     "text": [
      "XGBR RMSE test: 1.6298 (0.1905)\n",
      "\n",
      "XGBR r2 test: 0.2373 (0.0505)\n",
      "\n",
      "RMSE overfitt\n",
      "0.34240634761348976\n"
     ]
    },
    {
     "name": "stderr",
     "output_type": "stream",
     "text": [
      "[Parallel(n_jobs=-1)]: Done  10 out of  10 | elapsed:    1.0s finished\n"
     ]
    }
   ],
   "source": [
    "score = evaluating(xgbr,X_train,y_train)\n",
    "\n",
    "print(\"XGBR RMSE test: {:.4f} ({:.4f})\\n\".format(np.sqrt(-score[\"test_neg_mean_squared_error\"]).mean(),\n",
    "                                                    np.sqrt(-score[\"test_neg_mean_squared_error\"]).std()))\n",
    "print(\"XGBR r2 test: {:.4f} ({:.4f})\\n\".format(score[\"test_r2\"].mean(),\n",
    "                                                    score[\"test_r2\"].std()))\n",
    "print('RMSE overfitt')\n",
    "RMSE_diff =np.sqrt(-score[\"test_neg_mean_squared_error\"]).mean()-np.sqrt(-score[\"train_neg_mean_squared_error\"]).mean()\n",
    "print(RMSE_diff)"
   ]
  },
  {
   "cell_type": "code",
   "execution_count": 206,
   "metadata": {},
   "outputs": [
    {
     "name": "stderr",
     "output_type": "stream",
     "text": [
      "[Parallel(n_jobs=-1)]: Using backend LokyBackend with 16 concurrent workers.\n"
     ]
    },
    {
     "name": "stdout",
     "output_type": "stream",
     "text": [
      "SVRpoly RMSE test: 1.7132 (0.1863)\n",
      "\n",
      "SVRpoly r2 test: 0.1540 (0.0859)\n",
      "\n",
      "RMSE overfitt\n",
      "0.17010848501651843\n"
     ]
    },
    {
     "name": "stderr",
     "output_type": "stream",
     "text": [
      "[Parallel(n_jobs=-1)]: Done  10 out of  10 | elapsed:    0.9s finished\n"
     ]
    }
   ],
   "source": [
    "score = evaluating(svrP,X_train,y_train)\n",
    "\n",
    "print(\"SVRpoly RMSE test: {:.4f} ({:.4f})\\n\".format(np.sqrt(-score[\"test_neg_mean_squared_error\"]).mean(),\n",
    "                                                    np.sqrt(-score[\"test_neg_mean_squared_error\"]).std()))\n",
    "print(\"SVRpoly r2 test: {:.4f} ({:.4f})\\n\".format(score[\"test_r2\"].mean(),\n",
    "                                                    score[\"test_r2\"].std()))\n",
    "print('RMSE overfitt')\n",
    "RMSE_diff =np.sqrt(-score[\"test_neg_mean_squared_error\"]).mean()-np.sqrt(-score[\"train_neg_mean_squared_error\"]).mean()\n",
    "print(RMSE_diff)"
   ]
  },
  {
   "cell_type": "code",
   "execution_count": 207,
   "metadata": {},
   "outputs": [
    {
     "name": "stderr",
     "output_type": "stream",
     "text": [
      "[Parallel(n_jobs=-1)]: Using backend LokyBackend with 16 concurrent workers.\n"
     ]
    },
    {
     "name": "stdout",
     "output_type": "stream",
     "text": [
      "svrRBF RMSE test: 1.6718 (0.1876)\n",
      "\n",
      "svrRBF r2 test: 0.1965 (0.0544)\n",
      "\n",
      "RMSE overfitt\n",
      "0.2372212684348758\n"
     ]
    },
    {
     "name": "stderr",
     "output_type": "stream",
     "text": [
      "[Parallel(n_jobs=-1)]: Done  10 out of  10 | elapsed:    1.0s finished\n"
     ]
    }
   ],
   "source": [
    "score = evaluating(svrRBF,X_train,y_train)\n",
    "\n",
    "print(\"svrRBF RMSE test: {:.4f} ({:.4f})\\n\".format(np.sqrt(-score[\"test_neg_mean_squared_error\"]).mean(),\n",
    "                                                    np.sqrt(-score[\"test_neg_mean_squared_error\"]).std()))\n",
    "print(\"svrRBF r2 test: {:.4f} ({:.4f})\\n\".format(score[\"test_r2\"].mean(),\n",
    "                                                    score[\"test_r2\"].std()))\n",
    "\n",
    "print('RMSE overfitt')\n",
    "RMSE_diff =np.sqrt(-score[\"test_neg_mean_squared_error\"]).mean()-np.sqrt(-score[\"train_neg_mean_squared_error\"]).mean()\n",
    "print(RMSE_diff)"
   ]
  },
  {
   "cell_type": "code",
   "execution_count": 212,
   "metadata": {},
   "outputs": [
    {
     "name": "stderr",
     "output_type": "stream",
     "text": [
      "[Parallel(n_jobs=-1)]: Using backend LokyBackend with 16 concurrent workers.\n"
     ]
    },
    {
     "name": "stdout",
     "output_type": "stream",
     "text": [
      "GBT RMSE test: 1.6269 (0.1888)\n",
      "\n",
      "GBT r2 test: 0.2392 (0.0665)\n",
      "\n",
      "RMSE overfitt\n",
      "0.471997230938082\n"
     ]
    },
    {
     "name": "stderr",
     "output_type": "stream",
     "text": [
      "[Parallel(n_jobs=-1)]: Done  10 out of  10 | elapsed:    1.8s finished\n"
     ]
    }
   ],
   "source": [
    "score = evaluating(gbt,X_train,y_train)\n",
    "\n",
    "print(\"GBT RMSE test: {:.4f} ({:.4f})\\n\".format(np.sqrt(-score[\"test_neg_mean_squared_error\"]).mean(),\n",
    "                                                    np.sqrt(-score[\"test_neg_mean_squared_error\"]).std()))\n",
    "print(\"GBT r2 test: {:.4f} ({:.4f})\\n\".format(score[\"test_r2\"].mean(),\n",
    "                                                    score[\"test_r2\"].std()))\n",
    "\n",
    "print('RMSE overfitt')\n",
    "RMSE_diff =np.sqrt(-score[\"test_neg_mean_squared_error\"]).mean()-np.sqrt(-score[\"train_neg_mean_squared_error\"]).mean()\n",
    "print(RMSE_diff)"
   ]
  },
  {
   "cell_type": "code",
   "execution_count": 213,
   "metadata": {
    "collapsed": true
   },
   "outputs": [],
   "source": [
    "\n",
    "class AveragingModels(BaseEstimator, RegressorMixin, TransformerMixin):\n",
    "    def __init__(self, models):\n",
    "        self.models = models\n",
    "        \n",
    "    # we define clones of the original models to fit the data in\n",
    "    def fit(self, X, y):\n",
    "        self.models_ = [clone(x) for x in self.models]\n",
    "        \n",
    "        # Train cloned base models\n",
    "        for model in self.models_:\n",
    "            model.fit(X, y)\n",
    "\n",
    "        return self\n",
    "    \n",
    "    #Now we do the predictions for cloned models and average them\n",
    "    def predict(self, X):\n",
    "        predictions = np.column_stack([\n",
    "            model.predict(X) for model in self.models_\n",
    "        ])\n",
    "        return np.mean(predictions, axis=1)"
   ]
  },
  {
   "cell_type": "code",
   "execution_count": 215,
   "metadata": {},
   "outputs": [
    {
     "name": "stderr",
     "output_type": "stream",
     "text": [
      "[Parallel(n_jobs=-1)]: Using backend LokyBackend with 16 concurrent workers.\n"
     ]
    },
    {
     "name": "stdout",
     "output_type": "stream",
     "text": [
      "AvgModels RMSE test: 1.6437 (0.1913)\n",
      "\n",
      "AvgModels r2 test: 0.2239 (0.0607)\n",
      "\n",
      "RMSE overfitt\n",
      "0.2535349127583433\n"
     ]
    },
    {
     "name": "stderr",
     "output_type": "stream",
     "text": [
      "[Parallel(n_jobs=-1)]: Done  10 out of  10 | elapsed:    4.7s finished\n"
     ]
    }
   ],
   "source": [
    "averaged_models = AveragingModels(models = (gbt, svrP,xgbr,svrRBF, lasso))\n",
    "score = evaluating(averaged_models,X_train,y_train)\n",
    "\n",
    "print(\"AvgModels RMSE test: {:.4f} ({:.4f})\\n\".format(np.sqrt(-score[\"test_neg_mean_squared_error\"]).mean(),\n",
    "                                                    np.sqrt(-score[\"test_neg_mean_squared_error\"]).std()))\n",
    "print(\"AvgModels r2 test: {:.4f} ({:.4f})\\n\".format(score[\"test_r2\"].mean(),\n",
    "                                                    score[\"test_r2\"].std()))\n",
    "print('RMSE overfitt')\n",
    "RMSE_diff =np.sqrt(-score[\"test_neg_mean_squared_error\"]).mean()-np.sqrt(-score[\"train_neg_mean_squared_error\"]).mean()\n",
    "print(RMSE_diff)"
   ]
  },
  {
   "cell_type": "code",
   "execution_count": 216,
   "metadata": {},
   "outputs": [],
   "source": [
    "averaged_models.fit(X_train,y_train)\n",
    "averaged_models_pred = averaged_models.predict(X_test)"
   ]
  },
  {
   "cell_type": "code",
   "execution_count": 217,
   "metadata": {},
   "outputs": [
    {
     "name": "stdout",
     "output_type": "stream",
     "text": [
      "1.6633133693470914\n",
      "0.3025438502192619\n",
      "0.5874654833406603\n"
     ]
    }
   ],
   "source": [
    "print(np.sqrt(mean_squared_error(y_test, averaged_models_pred)))\n",
    "print(r2_score(y_test,averaged_models_pred))\n",
    "print(np.corrcoef(averaged_models_pred,y_test.values.ravel())[0][1])"
   ]
  },
  {
   "cell_type": "code",
   "execution_count": null,
   "metadata": {
    "collapsed": true
   },
   "outputs": [],
   "source": [
    "gbt,svrRBF,lasso\n",
    "1.6563667667638433\n",
    "0.3083573471120372\n",
    "0.6022405537857707"
   ]
  },
  {
   "cell_type": "code",
   "execution_count": 218,
   "metadata": {},
   "outputs": [
    {
     "data": {
      "text/plain": [
       "['avg_models_FINAL.pkl']"
      ]
     },
     "execution_count": 218,
     "metadata": {},
     "output_type": "execute_result"
    }
   ],
   "source": [
    "final_avg = averaged_models.fit(full_data,y_full)\n",
    "from sklearn.externals import joblib\n",
    "\n",
    "# save final model\n",
    "\n",
    "joblib.dump(final_avg, 'avg_models_FINAL.pkl')"
   ]
  },
  {
   "cell_type": "code",
   "execution_count": 241,
   "metadata": {
    "collapsed": true
   },
   "outputs": [],
   "source": [
    "class StackingAveragedModels(BaseEstimator, RegressorMixin, TransformerMixin):\n",
    "    def __init__(self, base_models, meta_model, n_folds=5):\n",
    "        self.base_models = base_models\n",
    "        self.meta_model = meta_model\n",
    "        self.n_folds = n_folds\n",
    "   \n",
    "    # We again fit the data on clones of the original models\n",
    "    def fit(self, X, y):\n",
    "        self.base_models_ = [list() for x in self.base_models]\n",
    "        self.meta_model_ = clone(self.meta_model)\n",
    "        kfold = KFold(n_splits=self.n_folds, shuffle=True, random_state=156)\n",
    "        \n",
    "        # Train cloned base models then create out-of-fold predictions\n",
    "        # that are needed to train the cloned meta-model\n",
    "        out_of_fold_predictions = np.zeros((X.shape[0], len(self.base_models)))\n",
    "        for i, model in enumerate(self.base_models):\n",
    "            for train_index, holdout_index in kfold.split(X, y):\n",
    "                instance = clone(model)\n",
    "                self.base_models_[i].append(instance)\n",
    "                instance.fit(X.iloc[train_index], y.iloc[train_index])\n",
    "                y_pred = instance.predict(X.iloc[holdout_index])\n",
    "                out_of_fold_predictions[holdout_index, i] = y_pred\n",
    "                \n",
    "        # Now train the cloned  meta-model using the out-of-fold predictions as new feature\n",
    "        self.meta_model_.fit(out_of_fold_predictions, y)\n",
    "        return self\n",
    "   \n",
    "    #Do the predictions of all base models on the test data and use the averaged predictions as \n",
    "    #meta-features for the final prediction which is done by the meta-model\n",
    "    def predict(self, X):\n",
    "        meta_features = np.column_stack([\n",
    "            np.column_stack([model.predict(X) for model in base_models]).mean(axis=1)\n",
    "            for base_models in self.base_models_ ])\n",
    "        return self.meta_model_.predict(meta_features)\n"
   ]
  },
  {
   "cell_type": "code",
   "execution_count": 242,
   "metadata": {
    "collapsed": true
   },
   "outputs": [],
   "source": [
    "lassoMeta = make_pipeline(MinMaxScaler(), Lasso(alpha =0.001, random_state=1,normalize=True,fit_intercept=True))\n",
    "svrMeta = make_pipeline(make_pipeline(MinMaxScaler(),\n",
    "                      SVR(C=1,degree=2,epsilon=0.4,gamma=0.5,kernel='poly')))\n",
    "\n",
    "xgbMeta = make_pipeline(make_pipeline(XGBRegressor(colsample_bytree=0.7, gamma=3, \n",
    "                             learning_rate=0.07, max_depth=3, \n",
    "                             min_child_weight=20, n_estimators=100,\n",
    "                             reg_alpha=1.9, reg_lambda=2.7,\n",
    "                             subsample=0.5,random_state =7, nthread = -1)))"
   ]
  },
  {
   "cell_type": "code",
   "execution_count": 255,
   "metadata": {
    "collapsed": true
   },
   "outputs": [],
   "source": [
    "stacked_averaged_models = StackingAveragedModels(base_models = (gbt, svrP,svrRBF,xgbr),\n",
    "                                                 meta_model = svrMeta)"
   ]
  },
  {
   "cell_type": "code",
   "execution_count": 256,
   "metadata": {},
   "outputs": [
    {
     "name": "stderr",
     "output_type": "stream",
     "text": [
      "[Parallel(n_jobs=-1)]: Using backend LokyBackend with 16 concurrent workers.\n"
     ]
    },
    {
     "name": "stdout",
     "output_type": "stream",
     "text": [
      "StackedModels RMSE test: 1.6406 (0.1825)\n",
      "\n",
      "StackedModels r2 test: 0.2261 (0.0570)\n",
      "\n",
      "RMSE overfitt\n",
      "0.3159108305636431\n"
     ]
    },
    {
     "name": "stderr",
     "output_type": "stream",
     "text": [
      "[Parallel(n_jobs=-1)]: Done  10 out of  10 | elapsed:   21.3s finished\n"
     ]
    }
   ],
   "source": [
    "score = evaluating(stacked_averaged_models,X_train,y_train)\n",
    "\n",
    "print(\"StackedModels RMSE test: {:.4f} ({:.4f})\\n\".format(np.sqrt(-score[\"test_neg_mean_squared_error\"]).mean(),\n",
    "                                                    np.sqrt(-score[\"test_neg_mean_squared_error\"]).std()))\n",
    "print(\"StackedModels r2 test: {:.4f} ({:.4f})\\n\".format(score[\"test_r2\"].mean(),\n",
    "                                                    score[\"test_r2\"].std()))\n",
    "\n",
    "print('RMSE overfitt')\n",
    "RMSE_diff =np.sqrt(-score[\"test_neg_mean_squared_error\"]).mean()-np.sqrt(-score[\"train_neg_mean_squared_error\"]).mean()\n",
    "print(RMSE_diff)"
   ]
  },
  {
   "cell_type": "code",
   "execution_count": 257,
   "metadata": {},
   "outputs": [
    {
     "data": {
      "text/plain": [
       "StackingAveragedModels(base_models=(Pipeline(memory=None,\n",
       "     steps=[('featuresinteractions', FeaturesInteractions(interaction1=['clash', 'covalent', 'vdw_clash', 'vdw', 'proximal', 'hbond', 'weak_hbond', 'xbond', 'ionic', 'metal_complex', 'aromatic', 'hydrophobic', 'carbonyl', 'polar', 'weak_polar'],\n",
       "           interact...reg_alpha=1.9, reg_lambda=2.7, scale_pos_weight=1, seed=None,\n",
       "       silent=True, subsample=0.5))])),\n",
       "            meta_model=Pipeline(memory=None,\n",
       "     steps=[('pipeline', Pipeline(memory=None,\n",
       "     steps=[('minmaxscaler', MinMaxScaler(copy=True, feature_range=(0, 1))), ('svr', SVR(C=1, cache_size=200, coef0=0.0, degree=2, epsilon=0.4, gamma=0.5,\n",
       "  kernel='poly', max_iter=-1, shrinking=True, tol=0.001, verbose=False))]))]),\n",
       "            n_folds=5)"
      ]
     },
     "execution_count": 257,
     "metadata": {},
     "output_type": "execute_result"
    }
   ],
   "source": [
    "stacked_averaged_models.fit(X_train,y_train)"
   ]
  },
  {
   "cell_type": "code",
   "execution_count": 258,
   "metadata": {},
   "outputs": [
    {
     "data": {
      "text/plain": [
       "1.659415481653891"
      ]
     },
     "execution_count": 258,
     "metadata": {},
     "output_type": "execute_result"
    }
   ],
   "source": [
    "stacked_test_pred = stacked_averaged_models.predict(X_test)\n",
    "np.sqrt(mean_squared_error(y_test, stacked_test_pred))"
   ]
  },
  {
   "cell_type": "code",
   "execution_count": 259,
   "metadata": {},
   "outputs": [
    {
     "data": {
      "text/plain": [
       "0.30580892382209857"
      ]
     },
     "execution_count": 259,
     "metadata": {},
     "output_type": "execute_result"
    }
   ],
   "source": [
    "r2_score(y_test,stacked_test_pred)"
   ]
  },
  {
   "cell_type": "code",
   "execution_count": 260,
   "metadata": {},
   "outputs": [
    {
     "data": {
      "text/plain": [
       "0.587549965687095"
      ]
     },
     "execution_count": 260,
     "metadata": {},
     "output_type": "execute_result"
    }
   ],
   "source": [
    "np.corrcoef(stacked_test_pred,y_test.values.ravel())[0][1]"
   ]
  },
  {
   "cell_type": "code",
   "execution_count": 261,
   "metadata": {
    "collapsed": true
   },
   "outputs": [],
   "source": [
    "full_data = pd.concat([X_train, X_test])\n",
    "y_full = pd.concat([y_train, y_test])"
   ]
  },
  {
   "cell_type": "code",
   "execution_count": 262,
   "metadata": {
    "collapsed": true
   },
   "outputs": [],
   "source": [
    "final_stacked_averaged_models = stacked_averaged_models.fit(full_data,y_full)"
   ]
  },
  {
   "cell_type": "code",
   "execution_count": 263,
   "metadata": {},
   "outputs": [
    {
     "data": {
      "text/plain": [
       "['stacked_averaged_models_FINAL.pkl']"
      ]
     },
     "execution_count": 263,
     "metadata": {},
     "output_type": "execute_result"
    }
   ],
   "source": [
    "from sklearn.externals import joblib\n",
    "\n",
    "# save final model\n",
    "\n",
    "joblib.dump(final_stacked_averaged_models, 'stacked_averaged_models_FINAL.pkl')"
   ]
  },
  {
   "cell_type": "code",
   "execution_count": null,
   "metadata": {
    "collapsed": true
   },
   "outputs": [],
   "source": []
  }
 ],
 "metadata": {
  "kernelspec": {
   "display_name": "Python 3",
   "language": "python",
   "name": "python3"
  },
  "language_info": {
   "codemirror_mode": {
    "name": "ipython",
    "version": 3
   },
   "file_extension": ".py",
   "mimetype": "text/x-python",
   "name": "python",
   "nbconvert_exporter": "python",
   "pygments_lexer": "ipython3",
   "version": "3.6.7"
  }
 },
 "nbformat": 4,
 "nbformat_minor": 2
}
