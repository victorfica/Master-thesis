{
 "cells": [
  {
   "cell_type": "code",
   "execution_count": 2,
   "metadata": {},
   "outputs": [],
   "source": [
    "import pandas as pd\n",
    "import numpy as np\n",
    "\n",
    "# visualization\n",
    "import matplotlib.pyplot as plt\n",
    "import seaborn as sns\n",
    "from yellowbrick.model_selection import LearningCurve\n",
    "from yellowbrick.regressor import ResidualsPlot\n",
    "from yellowbrick.regressor import PredictionError\n",
    "# Algorithms\n",
    "from sklearn.svm import SVR\n",
    "from sklearn.ensemble import GradientBoostingRegressor\n",
    "from sklearn.linear_model import Lasso\n",
    "from xgboost import XGBRegressor\n",
    "# preproceessing\n",
    "from model_transformers2 import FeaturesInteractions,SkewTransformer,ZeroThreshold\n",
    "from sklearn.feature_selection import VarianceThreshold\n",
    "\n",
    "from sklearn.metrics import mean_squared_error,r2_score\n",
    "from sklearn.model_selection import train_test_split,cross_validate,cross_val_score\n",
    "from sklearn.model_selection import RepeatedKFold,GridSearchCV,KFold\n",
    "from sklearn.pipeline import make_pipeline\n",
    "from sklearn.preprocessing import RobustScaler,MinMaxScaler,PowerTransformer,QuantileTransformer\n",
    "\n",
    "import joblib\n",
    "# sklearn classes\n",
    "from stacking_models import StackingAveragedModels,AveragingModels\n",
    "\n",
    "#from mlxtend.regressor import StackingCVRegressor"
   ]
  },
  {
   "cell_type": "code",
   "execution_count": 3,
   "metadata": {},
   "outputs": [
    {
     "data": {
      "text/plain": [
       "(1392, 78)"
      ]
     },
     "execution_count": 3,
     "metadata": {},
     "output_type": "execute_result"
    }
   ],
   "source": [
    "#dataframe final\n",
    "df_final = pd.read_csv(\"../data/DF_train15noChangeContact_skempiAB_modeller_final.csv\",index_col=0)\n",
    "\n",
    "\n",
    "pdb_names = df_final.index\n",
    "features_names = df_final.drop('ddG_exp',axis=1).columns\n",
    "df_final.shape"
   ]
  },
  {
   "cell_type": "code",
   "execution_count": 4,
   "metadata": {},
   "outputs": [],
   "source": [
    "# Split train and independent test data\n",
    "\n",
    "X_train, X_test, y_train, y_test = train_test_split(df_final.drop('ddG_exp',axis=1), df_final['ddG_exp'], \n",
    "                                                    test_size=0.2, random_state=13)     \n",
    "\n",
    "# join train data for Exploratory analisis of training data\n",
    "train = X_train.join(y_train)\n",
    "\n",
    "# Drop outliers\n",
    "train = train.drop(train[(train['van_der_waals_change']>3)].index)\n",
    "train = train.drop(train[(train['dg_change'].abs()>8)].index)\n",
    "\n",
    "y_train = train['ddG_exp']\n",
    "X_train = train.drop('ddG_exp',axis=1)"
   ]
  },
  {
   "cell_type": "code",
   "execution_count": 5,
   "metadata": {},
   "outputs": [],
   "source": [
    "full_data = pd.concat([X_train, X_test])\n",
    "y_full = pd.concat([y_train, y_test])"
   ]
  },
  {
   "cell_type": "markdown",
   "metadata": {},
   "source": [
    "# Modelling"
   ]
  },
  {
   "cell_type": "markdown",
   "metadata": {},
   "source": [
    "#### Crossvalidation strategy"
   ]
  },
  {
   "cell_type": "code",
   "execution_count": 6,
   "metadata": {},
   "outputs": [],
   "source": [
    "def cv_results(cv_object):\n",
    "    \n",
    "    # scores\n",
    "    rmse_train_cv = np.sqrt(-cv_object[\"train_neg_mean_squared_error\"])\n",
    "    rmse_test_cv = np.sqrt(-cv_object[\"test_neg_mean_squared_error\"])\n",
    "    r2_train_cv = cv_object[\"train_r2\"]\n",
    "    r2_test_cv = cv_object[\"test_r2\"]\n",
    "    \n",
    "    print(\"RMSE train CV: {:.4f} ({:.4f})\".format(rmse_train_cv.mean(),rmse_train_cv.std()))\n",
    "    print(\"RMSE test CV: {:.4f} ({:.4f})\".format(rmse_test_cv.mean(),rmse_test_cv.std()))\n",
    "    print('DIFF RMSE {}\\n'.format(rmse_test_cv.mean()-rmse_train_cv.mean()))\n",
    "\n",
    "    print(\"r2 train CV: {:.4f} ({:.4f})\".format(r2_train_cv.mean(),r2_train_cv.std()))\n",
    "    print(\"r2 test CV: {:.4f} ({:.4f})\".format(r2_test_cv.mean(),r2_test_cv.std()))\n",
    "    print('DIFF RMSE {}\\n'.format(r2_test_cv.mean()-r2_train_cv.mean()))\n",
    "    \n",
    "def test_results(fitted_estimator,Xtest,Ytest):\n",
    "    y_test_pred = fitted_estimator.predict(Xtest)\n",
    "    #y_train_pred = fitted_estimator.predict(Xtrain)\n",
    "    \n",
    "    print(\"RMSE test: {}\".format(np.round(np.sqrt(mean_squared_error(Ytest, y_test_pred)), 2)))\n",
    "\n",
    "    print('r2 test',r2_score(Ytest,y_test_pred))\n",
    "    #print('r2 train',r2_score(Ytrain,y_train_pred))\n",
    "    \n",
    "    print(\"Pearson corr test {:f}\".format(np.corrcoef(y_test_pred,Ytest.ravel())[0][1]))\n",
    "    "
   ]
  },
  {
   "cell_type": "code",
   "execution_count": 7,
   "metadata": {},
   "outputs": [],
   "source": [
    "#Validation function\n",
    "n_folds = 10\n",
    "\n",
    "def evaluating(model,Xtrain,Ytarget):\n",
    "    #kf = KFold(n_folds, shuffle=True, random_state=42).get_n_splits(Xtrain)\n",
    "    rkf = RepeatedKFold(n_splits=10,n_repeats=5,random_state=13)\n",
    "    cvscore = cross_validate(model, Xtrain, Ytarget, scoring=[\"r2\",\"neg_mean_squared_error\"],\n",
    "                             cv = rkf,verbose=1,n_jobs=-1,return_train_score=True,return_estimator=True)\n",
    "    return cvscore\n",
    "\n",
    "def evaluating2(model,Xtrain,Ytarget):\n",
    "    kf = KFold(n_folds, shuffle=True, random_state=42).get_n_splits(Xtrain.values)\n",
    "    #rkf = RepeatedKFold(n_splits=10,n_repeats=10,random_state=13)\n",
    "    cvscore = cross_validate(model, Xtrain, Ytarget, scoring=[\"r2\",\"neg_mean_squared_error\"],\n",
    "                             cv = kf,verbose=1,n_jobs=-1,return_train_score=True,return_estimator=True)\n",
    "    return cvscore"
   ]
  },
  {
   "cell_type": "code",
   "execution_count": 8,
   "metadata": {},
   "outputs": [],
   "source": [
    "# preprocess pipeline steps\n",
    "#steps pipeline\n",
    "interactions = FeaturesInteractions(features1=range(15),feature2=20)\n",
    "variance = VarianceThreshold(threshold=0.)\n",
    "skewness = SkewTransformer(threshold=0.5)\n",
    "zeroth = ZeroThreshold(threshold=90.)"
   ]
  },
  {
   "cell_type": "code",
   "execution_count": null,
   "metadata": {},
   "outputs": [],
   "source": []
  },
  {
   "cell_type": "markdown",
   "metadata": {},
   "source": [
    "#### algorithms"
   ]
  },
  {
   "cell_type": "code",
   "execution_count": 9,
   "metadata": {},
   "outputs": [],
   "source": [
    "#lasso model\n",
    "lasso = make_pipeline(interactions,variance,skewness,zeroth,MinMaxScaler(),\n",
    "                      Lasso(alpha=0.001,normalize=True,fit_intercept=True,random_state=1))\n",
    "# svr polynomial kernel\n",
    "svrP = make_pipeline(interactions,variance,skewness,zeroth,MinMaxScaler(),\n",
    "                      SVR(C=0.5,degree=2,epsilon=0.5,gamma=0.4,kernel='poly'))\n",
    "\n",
    "svrRBF = make_pipeline(interactions,variance,skewness,zeroth,MinMaxScaler(),\n",
    "                      SVR(C=2.5,epsilon=0.5,gamma=2,kernel='rbf'))\n",
    "\n",
    "gbt = make_pipeline(interactions,variance,skewness,zeroth,\n",
    "                    GradientBoostingRegressor(n_estimators=1000, learning_rate=0.05,\n",
    "                                   max_depth=8, max_features='sqrt',\n",
    "                                   min_samples_leaf=8, min_samples_split=2, \n",
    "                                   loss='huber', random_state =5,subsample=0.6,alpha=0.7))\n",
    "\n",
    "xgbr = make_pipeline(interactions,variance,skewness,zeroth,\n",
    "                   XGBRegressor(colsample_bytree=0.6, gamma=0,\n",
    "                             learning_rate=0.07, max_depth=8, \n",
    "                             min_child_weight=20, n_estimators=1000,\n",
    "                             reg_alpha=0.000005, reg_lambda=100,\n",
    "                             subsample=0.9,random_state =7, nthread=-1,objective='reg:squarederror'))\n"
   ]
  },
  {
   "cell_type": "code",
   "execution_count": 24,
   "metadata": {},
   "outputs": [],
   "source": [
    "XGBRegressor?"
   ]
  },
  {
   "cell_type": "code",
   "execution_count": 30,
   "metadata": {},
   "outputs": [
    {
     "data": {
      "image/png": "[encoded data removed]",
      "text/plain": [
       "<Figure size 432x288 with 1 Axes>"
      ]
     },
     "metadata": {
      "needs_background": "light"
     },
     "output_type": "display_data"
    },
    {
     "name": "stdout",
     "output_type": "stream",
     "text": [
      "0\n"
     ]
    }
   ],
   "source": [
    "import numpy as np\n",
    "\n",
    "from yellowbrick.model_selection import ValidationCurve\n",
    "\n",
    "#1)\n",
    "#2)\n",
    "#3) Crear pipeline\n",
    "\n",
    "viz = ValidationCurve(\n",
    "    svrP, njobs=-1,param_name=\"svr__gamma\",\n",
    "    param_range=[0.4,0.5,0.6,0.7], cv=10, scoring=\"neg_mean_squared_error\",n_jobs=-1)\n",
    "#plt.ylim(0,0.6)\n",
    "# Fit and poof the visualizer\n",
    "viz.fit(X_train.values, y_train.values)\n",
    "viz.poof()\n",
    "print(viz.test_scores_mean_.argmax())"
   ]
  },
  {
   "cell_type": "code",
   "execution_count": 77,
   "metadata": {},
   "outputs": [
    {
     "data": {
      "text/plain": [
       "array([1.58978938, 1.58838006, 1.5870186 , 1.58659171, 1.5865904 ])"
      ]
     },
     "execution_count": 77,
     "metadata": {},
     "output_type": "execute_result"
    }
   ],
   "source": [
    "np.sqrt(-viz.test_scores_mean_)"
   ]
  },
  {
   "cell_type": "markdown",
   "metadata": {},
   "source": [
    "#### Base model scores"
   ]
  },
  {
   "cell_type": "code",
   "execution_count": 12,
   "metadata": {},
   "outputs": [
    {
     "name": "stdout",
     "output_type": "stream",
     "text": [
      "Lasso Model Evaluation\n"
     ]
    },
    {
     "name": "stderr",
     "output_type": "stream",
     "text": [
      "[Parallel(n_jobs=-1)]: Using backend LokyBackend with 40 concurrent workers.\n",
      "[Parallel(n_jobs=-1)]: Done  22 out of  50 | elapsed:    3.4s remaining:    4.4s\n",
      "[Parallel(n_jobs=-1)]: Done  50 out of  50 | elapsed:    3.6s finished\n"
     ]
    },
    {
     "name": "stdout",
     "output_type": "stream",
     "text": [
      "RMSE train CV: 1.6817 (0.0227)\n",
      "RMSE test CV: 1.7208 (0.2105)\n",
      "DIFF RMSE 0.03910935431635032\n",
      "\n",
      "r2 train CV: 0.1998 (0.0099)\n",
      "r2 test CV: 0.1449 (0.0859)\n",
      "DIFF RMSE -0.05492022758381743\n",
      "\n",
      "RMSE test: 1.72\n",
      "r2 test 0.25461314167727567\n",
      "Pearson corr test 0.532055\n"
     ]
    }
   ],
   "source": [
    "print('Lasso Model Evaluation')\n",
    "lassocv = evaluating(lasso,X_train.values,y_train.values)\n",
    "cv_results(lassocv)\n",
    "\n",
    "lasso_model = lasso.fit(X_train.values,y_train.values)\n",
    "test_results(lasso_model,X_test.values,y_test.values)\n"
   ]
  },
  {
   "cell_type": "code",
   "execution_count": 33,
   "metadata": {},
   "outputs": [
    {
     "data": {
      "text/plain": [
       "Text(0, 0.5, 'Residuos')"
      ]
     },
     "execution_count": 33,
     "metadata": {},
     "output_type": "execute_result"
    },
    {
     "data": {
      "image/png": "[encoded data removed]",
      "text/plain": [
       "<Figure size 432x288 with 1 Axes>"
      ]
     },
     "metadata": {
      "needs_background": "light"
     },
     "output_type": "display_data"
    }
   ],
   "source": [
    "visualizer = ResidualsPlot(lasso_model,title='Residuos para Lasso',hist=False)\n",
    "\n",
    "visualizer.fit(X_train.values, y_train.values.ravel())  # Fit the training data to the model\n",
    "visualizer.score(X_test.values, y_test.values.ravel())  # Evaluate the model on the test data\n",
    "\n",
    "visualizer.finalize()\n",
    "visualizer.ax.set_xlabel('Valor Predicho')\n",
    "visualizer.ax.set_ylabel('Residuos')"
   ]
  },
  {
   "cell_type": "code",
   "execution_count": 34,
   "metadata": {},
   "outputs": [
    {
     "data": {
      "image/png": "[encoded data removed]",
      "text/plain": [
       "<Figure size 432x288 with 1 Axes>"
      ]
     },
     "metadata": {
      "needs_background": "light"
     },
     "output_type": "display_data"
    }
   ],
   "source": [
    "perror = PredictionError(lasso_model, title='Error de Predicción para Lasso')\n",
    "\n",
    "perror.fit(X_train.values, y_train.values.ravel())  # Fit the training data to the visualizer\n",
    "perror.score(X_test.values, y_test.values.ravel())  # Evaluate the model on the test data\n",
    "\n",
    "perror.finalize()"
   ]
  },
  {
   "cell_type": "code",
   "execution_count": 35,
   "metadata": {},
   "outputs": [
    {
     "name": "stdout",
     "output_type": "stream",
     "text": [
      "XGBRegressor Model Evaluation\n"
     ]
    },
    {
     "name": "stderr",
     "output_type": "stream",
     "text": [
      "[Parallel(n_jobs=-1)]: Using backend LokyBackend with 40 concurrent workers.\n",
      "[Parallel(n_jobs=-1)]: Done  22 out of  50 | elapsed:   13.5s remaining:   17.1s\n",
      "[Parallel(n_jobs=-1)]: Done  50 out of  50 | elapsed:   19.2s finished\n"
     ]
    },
    {
     "name": "stdout",
     "output_type": "stream",
     "text": [
      "RMSE train CV: 0.1404 (0.0028)\n",
      "RMSE test CV: 1.6016 (0.1874)\n",
      "DIFF RMSE 1.461165638706278\n",
      "\n",
      "r2 train CV: 0.9944 (0.0002)\n",
      "r2 test CV: 0.2547 (0.1051)\n",
      "DIFF RMSE -0.7396732158715417\n",
      "\n",
      "[15:34:01] WARNING: /workspace/src/objective/regression_obj.cu:152: reg:linear is now deprecated in favor of reg:squarederror.\n",
      "RMSE test: 1.62\n",
      "r2 test 0.3353040324149086\n",
      "Pearson corr test 0.579952\n"
     ]
    }
   ],
   "source": [
    "print('XGBRegressor Model Evaluation')\n",
    "xgbrcv = evaluating(xgbr,X_train.values,y_train.values)\n",
    "cv_results(xgbrcv)\n",
    "\n",
    "xgbr_model = xgbr.fit(X_train.values,y_train.values)\n",
    "test_results(xgbr_model,X_test.values,y_test.values)\n"
   ]
  },
  {
   "cell_type": "code",
   "execution_count": 36,
   "metadata": {},
   "outputs": [
    {
     "name": "stdout",
     "output_type": "stream",
     "text": [
      "SVR polynomial Model Evaluation\n"
     ]
    },
    {
     "name": "stderr",
     "output_type": "stream",
     "text": [
      "[Parallel(n_jobs=-1)]: Using backend LokyBackend with 40 concurrent workers.\n",
      "[Parallel(n_jobs=-1)]: Done  22 out of  50 | elapsed:    0.4s remaining:    0.6s\n",
      "[Parallel(n_jobs=-1)]: Done  50 out of  50 | elapsed:    0.7s finished\n"
     ]
    },
    {
     "name": "stdout",
     "output_type": "stream",
     "text": [
      "RMSE train CV: 1.6167 (0.0243)\n",
      "RMSE test CV: 1.7176 (0.2167)\n",
      "DIFF RMSE 0.10089119621197828\n",
      "\n",
      "r2 train CV: 0.2604 (0.0109)\n",
      "r2 test CV: 0.1486 (0.0884)\n",
      "DIFF RMSE -0.11179403804026566\n",
      "\n",
      "[15:34:10] WARNING: /workspace/src/objective/regression_obj.cu:152: reg:linear is now deprecated in favor of reg:squarederror.\n",
      "RMSE test: 1.62\n",
      "r2 test 0.3353040324149086\n",
      "Pearson corr test 0.579952\n"
     ]
    }
   ],
   "source": [
    "print('SVR polynomial Model Evaluation')\n",
    "svrPcv = evaluating(svrP,X_train.values,y_train.values)\n",
    "cv_results(svrPcv)\n",
    "\n",
    "svrP_model = xgbr.fit(X_train.values,y_train.values)\n",
    "test_results(svrP_model,X_test.values,y_test.values)"
   ]
  },
  {
   "cell_type": "code",
   "execution_count": 37,
   "metadata": {},
   "outputs": [
    {
     "name": "stdout",
     "output_type": "stream",
     "text": [
      "SVR rbf Model Evaluation\n"
     ]
    },
    {
     "name": "stderr",
     "output_type": "stream",
     "text": [
      "[Parallel(n_jobs=-1)]: Using backend LokyBackend with 40 concurrent workers.\n",
      "[Parallel(n_jobs=-1)]: Done  22 out of  50 | elapsed:    0.5s remaining:    0.7s\n"
     ]
    },
    {
     "name": "stdout",
     "output_type": "stream",
     "text": [
      "RMSE train CV: 1.1164 (0.0211)\n",
      "RMSE test CV: 1.6475 (0.1976)\n",
      "DIFF RMSE 0.5310741848547258\n",
      "\n",
      "r2 train CV: 0.6473 (0.0086)\n",
      "r2 test CV: 0.2155 (0.0771)\n",
      "DIFF RMSE -0.4317680870205839\n",
      "\n",
      "RMSE test: 1.79\n",
      "r2 test 0.19377667554750988\n",
      "Pearson corr test 0.440899\n"
     ]
    },
    {
     "name": "stderr",
     "output_type": "stream",
     "text": [
      "[Parallel(n_jobs=-1)]: Done  50 out of  50 | elapsed:    0.8s finished\n"
     ]
    }
   ],
   "source": [
    "print('SVR rbf Model Evaluation')\n",
    "svrRBFcv = evaluating(svrRBF,X_train.values,y_train.values)\n",
    "cv_results(svrRBFcv)\n",
    "\n",
    "svrRBF_model = svrRBF.fit(X_train.values,y_train.values)\n",
    "test_results(svrRBF_model,X_test.values,y_test.values)"
   ]
  },
  {
   "cell_type": "code",
   "execution_count": 38,
   "metadata": {},
   "outputs": [
    {
     "name": "stdout",
     "output_type": "stream",
     "text": [
      "GradientBoostingRegressor Model Evaluation\n"
     ]
    },
    {
     "name": "stderr",
     "output_type": "stream",
     "text": [
      "[Parallel(n_jobs=-1)]: Using backend LokyBackend with 40 concurrent workers.\n",
      "[Parallel(n_jobs=-1)]: Done  22 out of  50 | elapsed:   11.7s remaining:   14.9s\n",
      "[Parallel(n_jobs=-1)]: Done  50 out of  50 | elapsed:   17.6s finished\n"
     ]
    },
    {
     "name": "stdout",
     "output_type": "stream",
     "text": [
      "RMSE train CV: 0.7091 (0.0201)\n",
      "RMSE test CV: 1.6070 (0.2016)\n",
      "DIFF RMSE 0.8979209096661217\n",
      "\n",
      "r2 train CV: 0.8576 (0.0075)\n",
      "r2 test CV: 0.2529 (0.0904)\n",
      "DIFF RMSE -0.6047571088238628\n",
      "\n",
      "RMSE test: 1.65\n",
      "r2 test 0.31772960830759545\n",
      "Pearson corr test 0.567488\n"
     ]
    }
   ],
   "source": [
    "print('GradientBoostingRegressor Model Evaluation')\n",
    "gbtcv = evaluating(gbt,X_train.values,y_train.values)\n",
    "cv_results(gbtcv)\n",
    "\n",
    "gbt_model = gbt.fit(X_train.values,y_train.values)\n",
    "test_results(gbt_model,X_test.values,y_test.values)"
   ]
  },
  {
   "cell_type": "code",
   "execution_count": 51,
   "metadata": {},
   "outputs": [
    {
     "name": "stdout",
     "output_type": "stream",
     "text": [
      "Averaged Models Evaluation\n"
     ]
    },
    {
     "name": "stderr",
     "output_type": "stream",
     "text": [
      "[Parallel(n_jobs=-1)]: Using backend LokyBackend with 40 concurrent workers.\n",
      "[Parallel(n_jobs=-1)]: Done  22 out of  50 | elapsed:   15.4s remaining:   19.6s\n",
      "[Parallel(n_jobs=-1)]: Done  50 out of  50 | elapsed:   21.5s finished\n"
     ]
    },
    {
     "name": "stdout",
     "output_type": "stream",
     "text": [
      "RMSE train CV: 1.2819 (0.0177)\n",
      "RMSE test CV: 1.6440 (0.2097)\n",
      "DIFF RMSE 0.3620816725232332\n",
      "\n",
      "r2 train CV: 0.5350 (0.0071)\n",
      "r2 test CV: 0.2200 (0.0832)\n",
      "DIFF RMSE -0.3150140140339657\n",
      "\n",
      "RMSE test: 1.65\n",
      "r2 test 0.3118323749569649\n",
      "Pearson corr test 0.596525\n"
     ]
    }
   ],
   "source": [
    "print('Averaged Models Evaluation')\n",
    "averaged_models = AveragingModels(models = (gbt, svrP,lasso))\n",
    "\n",
    "averaged_models_cv = evaluating(averaged_models,X_train.values,y_train.values)\n",
    "cv_results(averaged_models_cv)\n",
    "\n",
    "averaged_models_model = averaged_models.fit(X_train.values,y_train.values)\n",
    "test_results(averaged_models_model,X_test.values,y_test.values)"
   ]
  },
  {
   "cell_type": "code",
   "execution_count": 55,
   "metadata": {},
   "outputs": [
    {
     "data": {
      "text/plain": [
       "['avg_models_FINAL.3m.pkl']"
      ]
     },
     "execution_count": 55,
     "metadata": {},
     "output_type": "execute_result"
    }
   ],
   "source": [
    "final_avg = averaged_models.fit(full_data.values,y_full.values)\n",
    "from sklearn.externals import joblib\n",
    "\n",
    "# save final model\n",
    "\n",
    "joblib.dump(final_avg, 'avg_models_FINAL.3m.pkl')"
   ]
  },
  {
   "cell_type": "markdown",
   "metadata": {},
   "source": [
    "### stacking modells"
   ]
  },
  {
   "cell_type": "code",
   "execution_count": 62,
   "metadata": {},
   "outputs": [],
   "source": [
    "lassoMeta = make_pipeline(MinMaxScaler(), Lasso(alpha =0.001, random_state=1,normalize=True,fit_intercept=True))\n",
    "svrPMeta = make_pipeline(make_pipeline(MinMaxScaler(),\n",
    "                      SVR(C=1,degree=2,epsilon=0.4,gamma=0.5,kernel='poly')))\n",
    "\n",
    "xgbMeta = make_pipeline(make_pipeline(XGBRegressor(colsample_bytree=0.6, gamma=0, \n",
    "                             learning_rate=0.07, max_depth=8, \n",
    "                             min_child_weight=20, n_estimators=1000,\n",
    "                             reg_alpha=0.000005, reg_lambda=200,\n",
    "                             subsample=0.9,random_state =7, nthread = -1)))\n",
    "\n",
    "gbtMeta = GradientBoostingRegressor(n_estimators=1000, learning_rate=0.05,\n",
    "                                   max_depth=8, max_features='sqrt',\n",
    "                                   min_samples_leaf=8, min_samples_split=2, \n",
    "                                   loss='huber', random_state =5,subsample=0.6,alpha=0.7)"
   ]
  },
  {
   "cell_type": "code",
   "execution_count": 63,
   "metadata": {},
   "outputs": [],
   "source": [
    "stacked_averaged_models = StackingAveragedModels(base_models = (gbt, svrRBF,lasso),\n",
    "                                                 meta_model = svrPMeta)"
   ]
  },
  {
   "cell_type": "code",
   "execution_count": null,
   "metadata": {},
   "outputs": [],
   "source": []
  },
  {
   "cell_type": "code",
   "execution_count": 64,
   "metadata": {},
   "outputs": [
    {
     "name": "stdout",
     "output_type": "stream",
     "text": [
      "Averaged Stacked Models Evaluation\n"
     ]
    },
    {
     "name": "stderr",
     "output_type": "stream",
     "text": [
      "[Parallel(n_jobs=-1)]: Using backend LokyBackend with 40 concurrent workers.\n",
      "[Parallel(n_jobs=-1)]: Done  22 out of  50 | elapsed:   58.3s remaining:  1.2min\n",
      "[Parallel(n_jobs=-1)]: Done  50 out of  50 | elapsed:  1.4min finished\n"
     ]
    },
    {
     "name": "stdout",
     "output_type": "stream",
     "text": [
      "RMSE train CV: 1.0998 (0.0354)\n",
      "RMSE test CV: 1.6193 (0.1994)\n",
      "DIFF RMSE 0.5194845151768708\n",
      "\n",
      "r2 train CV: 0.6575 (0.0198)\n",
      "r2 test CV: 0.2439 (0.0640)\n",
      "DIFF RMSE -0.41360155782478203\n",
      "\n",
      "RMSE test: 1.66\n",
      "r2 test 0.30596059810078313\n",
      "Pearson corr test 0.590974\n"
     ]
    }
   ],
   "source": [
    "print('Averaged Stacked Models Evaluation')\n",
    "\n",
    "stacked_averaged_models_cv = evaluating(stacked_averaged_models,X_train.values,y_train.values)\n",
    "cv_results(stacked_averaged_models_cv)\n",
    "\n",
    "stacked_averaged_models_model = stacked_averaged_models.fit(X_train.values,y_train.values)\n",
    "test_results(stacked_averaged_models_model,X_test.values,y_test.values)"
   ]
  },
  {
   "cell_type": "code",
   "execution_count": null,
   "metadata": {},
   "outputs": [],
   "source": [
    "RMSE train CV: 1.1377 (0.0333)\n",
    "RMSE test CV: 1.6236 (0.1998)\n",
    "DIFF RMSE 0.4858723883199876\n",
    "\n",
    "r2 train CV: 0.6336 (0.0189)\n",
    "r2 test CV: 0.2401 (0.0621)\n",
    "DIFF RMSE -0.39345144461136594\n",
    "\n",
    "RMSE test: 1.66\n",
    "r2 test 0.3034272255923177\n",
    "Pearson corr test 0.592821"
   ]
  },
  {
   "cell_type": "code",
   "execution_count": 43,
   "metadata": {},
   "outputs": [],
   "source": [
    "final_stacked_averaged_models = stacked_averaged_models.fit(full_data.values,y_full.values)"
   ]
  },
  {
   "cell_type": "code",
   "execution_count": 44,
   "metadata": {},
   "outputs": [
    {
     "data": {
      "text/plain": [
       "['stacked_averaged_models_FINAL.3b1mSVRp.v4.pkl']"
      ]
     },
     "execution_count": 44,
     "metadata": {},
     "output_type": "execute_result"
    }
   ],
   "source": [
    "from sklearn.externals import joblib\n",
    "\n",
    "# save final model\n",
    "joblib.dump(final_stacked_averaged_models, 'stacked_averaged_models_FINAL.3b1mSVRp.v4.pkl')"
   ]
  },
  {
   "cell_type": "code",
   "execution_count": null,
   "metadata": {
    "collapsed": true
   },
   "outputs": [],
   "source": []
  }
 ],
 "metadata": {
  "kernelspec": {
   "display_name": "Python 3",
   "language": "python",
   "name": "python3"
  },
  "language_info": {
   "codemirror_mode": {
    "name": "ipython",
    "version": 3
   },
   "file_extension": ".py",
   "mimetype": "text/x-python",
   "name": "python",
   "nbconvert_exporter": "python",
   "pygments_lexer": "ipython3",
   "version": "3.7.4"
  }
 },
 "nbformat": 4,
 "nbformat_minor": 2
}
