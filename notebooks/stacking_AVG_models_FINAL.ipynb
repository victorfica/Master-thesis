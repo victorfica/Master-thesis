{
 "cells": [
  {
   "cell_type": "code",
   "execution_count": 1,
   "metadata": {
    "collapsed": true
   },
   "outputs": [],
   "source": [
    "import pandas as pd\n",
    "import numpy as np\n",
    "\n",
    "# visualization\n",
    "import matplotlib.pyplot as plt\n",
    "import seaborn as sns\n",
    "from yellowbrick.model_selection import LearningCurve\n",
    "from yellowbrick.regressor import ResidualsPlot\n",
    "from yellowbrick.regressor import PredictionError\n",
    "# Algorithms\n",
    "from sklearn.svm import SVR\n",
    "from sklearn.ensemble import GradientBoostingRegressor\n",
    "from sklearn.linear_model import Lasso\n",
    "from xgboost import XGBRegressor\n",
    "# preproceessing\n",
    "from model_transformers2 import FeaturesInteractions,SkewTransformer,ZeroThreshold\n",
    "\n",
    "from sklearn.metrics import mean_squared_error,r2_score\n",
    "from sklearn.model_selection import train_test_split,cross_validate,cross_val_score\n",
    "from sklearn.model_selection import RepeatedKFold,GridSearchCV,KFold\n",
    "from sklearn.pipeline import make_pipeline\n",
    "from sklearn.preprocessing import RobustScaler,MinMaxScaler,PowerTransformer\n",
    "\n",
    "from sklearn.externals import joblib\n",
    "\n",
    "# sklearn classes\n",
    "from stacking_models import StackingAveragedModels,AveragingModels\n",
    "\n",
    "from mlxtend.regressor import StackingCVRegressor"
   ]
  },
  {
   "cell_type": "code",
   "execution_count": 2,
   "metadata": {},
   "outputs": [
    {
     "data": {
      "text/plain": [
       "(1392, 78)"
      ]
     },
     "execution_count": 2,
     "metadata": {},
     "output_type": "execute_result"
    }
   ],
   "source": [
    "#dataframe final\n",
    "df_final = pd.read_csv(\"../data/DF_train15noChangeContact_skempiAB_modeller_final.csv\",index_col=0)\n",
    "\n",
    "\n",
    "pdb_names = df_final.index\n",
    "features_names = df_final.drop('ddG_exp',axis=1).columns\n",
    "df_final.shape"
   ]
  },
  {
   "cell_type": "code",
   "execution_count": 3,
   "metadata": {
    "collapsed": true
   },
   "outputs": [],
   "source": [
    "# Split train and independent test data\n",
    "\n",
    "X_train, X_test, y_train, y_test = train_test_split(df_final.drop('ddG_exp',axis=1), df_final['ddG_exp'], \n",
    "                                                    test_size=0.2, random_state=13)     \n",
    "\n",
    "# join train data for Exploratory analisis of training data\n",
    "train = X_train.join(y_train)\n",
    "\n",
    "# Drop outliers\n",
    "train = train.drop(train[(train['van_der_waals_change']>3)].index)\n",
    "train = train.drop(train[(train['dg_change'].abs()>8)].index)\n",
    "\n",
    "y_train = train['ddG_exp']\n",
    "X_train = train.drop('ddG_exp',axis=1)"
   ]
  },
  {
   "cell_type": "code",
   "execution_count": 4,
   "metadata": {
    "collapsed": true
   },
   "outputs": [],
   "source": [
    "full_data = pd.concat([X_train, X_test])\n",
    "y_full = pd.concat([y_train, y_test])"
   ]
  },
  {
   "cell_type": "markdown",
   "metadata": {},
   "source": [
    "# Modelling"
   ]
  },
  {
   "cell_type": "markdown",
   "metadata": {},
   "source": [
    "#### Crossvalidation strategy"
   ]
  },
  {
   "cell_type": "code",
   "execution_count": 5,
   "metadata": {
    "collapsed": true
   },
   "outputs": [],
   "source": [
    "def cv_results(cv_object):\n",
    "    \n",
    "    # scores\n",
    "    rmse_train_cv = np.sqrt(-cv_object[\"train_neg_mean_squared_error\"])\n",
    "    rmse_test_cv = np.sqrt(-cv_object[\"test_neg_mean_squared_error\"])\n",
    "    r2_train_cv = cv_object[\"train_r2\"]\n",
    "    r2_test_cv = cv_object[\"test_r2\"]\n",
    "    \n",
    "    print(\"RMSE train CV: {:.4f} ({:.4f})\".format(rmse_train_cv.mean(),rmse_train_cv.std()))\n",
    "    print(\"RMSE test CV: {:.4f} ({:.4f})\".format(rmse_test_cv.mean(),rmse_test_cv.std()))\n",
    "    print('DIFF RMSE {}\\n'.format(rmse_test_cv.mean()-rmse_train_cv.mean()))\n",
    "\n",
    "    print(\"r2 train CV: {:.4f} ({:.4f})\".format(r2_train_cv.mean(),r2_train_cv.std()))\n",
    "    print(\"r2 test CV: {:.4f} ({:.4f})\".format(r2_test_cv.mean(),r2_test_cv.std()))\n",
    "    print('DIFF RMSE {}\\n'.format(r2_test_cv.mean()-r2_train_cv.mean()))\n",
    "    \n",
    "def test_results(fitted_estimator,Xtest,Ytest):\n",
    "    y_test_pred = fitted_estimator.predict(Xtest)\n",
    "    #y_train_pred = fitted_estimator.predict(Xtrain)\n",
    "    \n",
    "    print(\"RMSE test: {}\".format(np.round(np.sqrt(mean_squared_error(Ytest, y_test_pred)), 2)))\n",
    "\n",
    "    print('r2 test',r2_score(Ytest,y_test_pred))\n",
    "    #print('r2 train',r2_score(Ytrain,y_train_pred))\n",
    "    \n",
    "    print(\"Pearson corr test {:f}\".format(np.corrcoef(y_test_pred,Ytest.ravel())[0][1]))\n",
    "    "
   ]
  },
  {
   "cell_type": "code",
   "execution_count": 6,
   "metadata": {
    "collapsed": true
   },
   "outputs": [],
   "source": [
    "#Validation function\n",
    "n_folds = 10\n",
    "\n",
    "def evaluating(model,Xtrain,Ytarget):\n",
    "    kf = KFold(n_folds, shuffle=True, random_state=42).get_n_splits(Xtrain)\n",
    "    #rkf = RepeatedKFold(n_splits=10,n_repeats=10,random_state=13)\n",
    "    cvscore = cross_validate(model, Xtrain, Ytarget, scoring=[\"r2\",\"neg_mean_squared_error\"],\n",
    "                             cv = kf,verbose=1,n_jobs=-1,return_train_score=True,return_estimator=True)\n",
    "    return cvscore\n",
    "\n",
    "def evaluating2(model,Xtrain,Ytarget):\n",
    "    kf = KFold(n_folds, shuffle=True, random_state=42).get_n_splits(Xtrain.values)\n",
    "    #rkf = RepeatedKFold(n_splits=10,n_repeats=10,random_state=13)\n",
    "    cvscore = cross_validate(model, Xtrain, Ytarget, scoring=[\"r2\",\"neg_mean_squared_error\"],\n",
    "                             cv = kf,verbose=1,n_jobs=-1,return_train_score=True,return_estimator=True)\n",
    "    return cvscore"
   ]
  },
  {
   "cell_type": "code",
   "execution_count": 7,
   "metadata": {},
   "outputs": [],
   "source": [
    "# preprocess pipeline steps\n",
    "#steps pipeline\n",
    "interactions = FeaturesInteractions(features1=range(15),feature2=20)\n",
    "skewness = SkewTransformer(threshold=0.6)\n",
    "zeroth = ZeroThreshold(threshold=90.)"
   ]
  },
  {
   "cell_type": "markdown",
   "metadata": {},
   "source": [
    "#### algorithms"
   ]
  },
  {
   "cell_type": "code",
   "execution_count": 8,
   "metadata": {
    "collapsed": true
   },
   "outputs": [],
   "source": [
    "#lasso model\n",
    "lasso = make_pipeline(interactions,skewness,zeroth,MinMaxScaler(),\n",
    "                      Lasso(alpha=0.001,normalize=True,fit_intercept=True,random_state=1))\n",
    "# svr polynomial kernel\n",
    "svrP = make_pipeline(interactions,skewness,zeroth,MinMaxScaler(),\n",
    "                      SVR(C=1,degree=2,epsilon=0.4,gamma=0.5,kernel='poly'))\n",
    "\n",
    "svrRBF = make_pipeline(interactions,skewness,zeroth,MinMaxScaler(),\n",
    "                      SVR(C=2.5,epsilon=0.5,gamma=2,kernel='rbf'))\n",
    "\n",
    "gbt = make_pipeline(interactions,skewness,zeroth,\n",
    "                   GradientBoostingRegressor(n_estimators=1000, learning_rate=0.05,\n",
    "                                   max_depth=8, max_features='sqrt',\n",
    "                                   min_samples_leaf=8, min_samples_split=2, \n",
    "                                   loss='huber', random_state =5,subsample=0.6,alpha=0.7))\n",
    "\n",
    "xgbr = make_pipeline(interactions,skewness,zeroth,\n",
    "                   XGBRegressor(colsample_bytree=0.6, gamma=0, \n",
    "                             learning_rate=0.07, max_depth=8, \n",
    "                             min_child_weight=20, n_estimators=1000,\n",
    "                             reg_alpha=0.000005, reg_lambda=200,\n",
    "                             subsample=0.9,random_state =7, nthread = -1))\n"
   ]
  },
  {
   "cell_type": "code",
   "execution_count": 269,
   "metadata": {},
   "outputs": [
    {
     "data": {
      "image/png": "[encoded data removed]",
      "text/plain": [
       "<Figure size 432x288 with 1 Axes>"
      ]
     },
     "metadata": {},
     "output_type": "display_data"
    },
    {
     "name": "stdout",
     "output_type": "stream",
     "text": [
      "0\n"
     ]
    }
   ],
   "source": [
    "import numpy as np\n",
    "\n",
    "from yellowbrick.model_selection import ValidationCurve\n",
    "\n",
    "#1)\n",
    "#2)\n",
    "#3) Crear pipeline\n",
    "\n",
    "viz = ValidationCurve(\n",
    "    lasso, njobs=-1,param_name=\"lasso__alpha\",\n",
    "    param_range=[0.01,0.1], cv=10, scoring=\"neg_mean_squared_error\",n_jobs=-1)\n",
    "#plt.ylim(0,0.6)\n",
    "# Fit and poof the visualizer\n",
    "viz.fit(X_train.values, y_train.values)\n",
    "viz.poof()\n",
    "print(viz.test_scores_mean_.argmax())"
   ]
  },
  {
   "cell_type": "code",
   "execution_count": 77,
   "metadata": {},
   "outputs": [
    {
     "data": {
      "text/plain": [
       "array([1.58978938, 1.58838006, 1.5870186 , 1.58659171, 1.5865904 ])"
      ]
     },
     "execution_count": 77,
     "metadata": {},
     "output_type": "execute_result"
    }
   ],
   "source": [
    "np.sqrt(-viz.test_scores_mean_)"
   ]
  },
  {
   "cell_type": "markdown",
   "metadata": {},
   "source": [
    "#### Base model scores"
   ]
  },
  {
   "cell_type": "code",
   "execution_count": 9,
   "metadata": {},
   "outputs": [
    {
     "name": "stdout",
     "output_type": "stream",
     "text": [
      "Lasso Model Evaluation\n"
     ]
    },
    {
     "name": "stderr",
     "output_type": "stream",
     "text": [
      "[Parallel(n_jobs=-1)]: Using backend LokyBackend with 16 concurrent workers.\n"
     ]
    },
    {
     "name": "stdout",
     "output_type": "stream",
     "text": [
      "RMSE train CV: 1.6837 (0.0201)\n",
      "RMSE test CV: 1.7266 (0.1940)\n",
      "DIFF RMSE 0.04282956970089091\n",
      "\n",
      "r2 train CV: 0.1979 (0.0106)\n",
      "r2 test CV: 0.1433 (0.0634)\n",
      "DIFF RMSE -0.05458616098603905\n",
      "\n",
      "RMSE test: 1.72\n",
      "r2 test 0.2545560277590526\n",
      "Pearson corr test 0.531932\n"
     ]
    },
    {
     "name": "stderr",
     "output_type": "stream",
     "text": [
      "[Parallel(n_jobs=-1)]: Done  10 out of  10 | elapsed:    2.0s finished\n"
     ]
    }
   ],
   "source": [
    "print('Lasso Model Evaluation')\n",
    "lassocv = evaluating(lasso,X_train.values,y_train.values)\n",
    "cv_results(lassocv)\n",
    "\n",
    "lasso_model = lasso.fit(X_train.values,y_train.values)\n",
    "test_results(lasso_model,X_test.values,y_test.values)\n"
   ]
  },
  {
   "cell_type": "code",
   "execution_count": 10,
   "metadata": {},
   "outputs": [
    {
     "name": "stdout",
     "output_type": "stream",
     "text": [
      "XGBRegressor Model Evaluation\n"
     ]
    },
    {
     "name": "stderr",
     "output_type": "stream",
     "text": [
      "[Parallel(n_jobs=-1)]: Using backend LokyBackend with 16 concurrent workers.\n",
      "[Parallel(n_jobs=-1)]: Done  10 out of  10 | elapsed:    9.9s finished\n"
     ]
    },
    {
     "name": "stdout",
     "output_type": "stream",
     "text": [
      "RMSE train CV: 0.3147 (0.0067)\n",
      "RMSE test CV: 1.5882 (0.1748)\n",
      "DIFF RMSE 1.273463790410228\n",
      "\n",
      "r2 train CV: 0.9720 (0.0009)\n",
      "r2 test CV: 0.2731 (0.0726)\n",
      "DIFF RMSE -0.6988767594699632\n",
      "\n",
      "RMSE test: 1.63\n",
      "r2 test 0.3341663130064477\n",
      "Pearson corr test 0.578828\n"
     ]
    }
   ],
   "source": [
    "print('XGBRegressor Model Evaluation')\n",
    "xgbrcv = evaluating(xgbr,X_train.values,y_train.values)\n",
    "cv_results(xgbrcv)\n",
    "\n",
    "xgbr_model = xgbr.fit(X_train.values,y_train.values)\n",
    "test_results(xgbr_model,X_test.values,y_test.values)\n"
   ]
  },
  {
   "cell_type": "code",
   "execution_count": 11,
   "metadata": {},
   "outputs": [
    {
     "name": "stdout",
     "output_type": "stream",
     "text": [
      "SVR polynomial Model Evaluation\n"
     ]
    },
    {
     "name": "stderr",
     "output_type": "stream",
     "text": [
      "[Parallel(n_jobs=-1)]: Using backend LokyBackend with 16 concurrent workers.\n",
      "[Parallel(n_jobs=-1)]: Done  10 out of  10 | elapsed:    1.3s finished\n"
     ]
    },
    {
     "name": "stdout",
     "output_type": "stream",
     "text": [
      "RMSE train CV: 1.5361 (0.0194)\n",
      "RMSE test CV: 1.7183 (0.1800)\n",
      "DIFF RMSE 0.18223809293496052\n",
      "\n",
      "r2 train CV: 0.3323 (0.0102)\n",
      "r2 test CV: 0.1482 (0.0860)\n",
      "DIFF RMSE -0.18417805910690158\n",
      "\n",
      "RMSE test: 1.63\n",
      "r2 test 0.3341663130064477\n",
      "Pearson corr test 0.578828\n"
     ]
    }
   ],
   "source": [
    "print('SVR polynomial Model Evaluation')\n",
    "svrPcv = evaluating(svrP,X_train.values,y_train.values)\n",
    "cv_results(svrPcv)\n",
    "\n",
    "svrP_model = xgbr.fit(X_train.values,y_train.values)\n",
    "test_results(svrP_model,X_test.values,y_test.values)"
   ]
  },
  {
   "cell_type": "code",
   "execution_count": 12,
   "metadata": {},
   "outputs": [
    {
     "name": "stdout",
     "output_type": "stream",
     "text": [
      "SVR rbf Model Evaluation\n"
     ]
    },
    {
     "name": "stderr",
     "output_type": "stream",
     "text": [
      "[Parallel(n_jobs=-1)]: Using backend LokyBackend with 16 concurrent workers.\n",
      "[Parallel(n_jobs=-1)]: Done  10 out of  10 | elapsed:    1.1s finished\n"
     ]
    },
    {
     "name": "stdout",
     "output_type": "stream",
     "text": [
      "RMSE train CV: 1.0740 (0.0239)\n",
      "RMSE test CV: 1.6600 (0.2132)\n",
      "DIFF RMSE 0.5859492179580619\n",
      "\n",
      "r2 train CV: 0.6735 (0.0115)\n",
      "r2 test CV: 0.2100 (0.0631)\n",
      "DIFF RMSE -0.46354921596518606\n",
      "\n",
      "RMSE test: 1.77\n",
      "r2 test 0.20999894242033712\n",
      "Pearson corr test 0.463938\n"
     ]
    }
   ],
   "source": [
    "print('SVR rbf Model Evaluation')\n",
    "svrRBFcv = evaluating(svrRBF,X_train.values,y_train.values)\n",
    "cv_results(svrRBFcv)\n",
    "\n",
    "svrRBF_model = svrRBF.fit(X_train.values,y_train.values)\n",
    "test_results(svrRBF_model,X_test.values,y_test.values)"
   ]
  },
  {
   "cell_type": "code",
   "execution_count": 13,
   "metadata": {},
   "outputs": [
    {
     "name": "stdout",
     "output_type": "stream",
     "text": [
      "GradientBoostingRegressor Model Evaluation\n"
     ]
    },
    {
     "name": "stderr",
     "output_type": "stream",
     "text": [
      "[Parallel(n_jobs=-1)]: Using backend LokyBackend with 16 concurrent workers.\n",
      "[Parallel(n_jobs=-1)]: Done  10 out of  10 | elapsed:   14.0s finished\n"
     ]
    },
    {
     "name": "stdout",
     "output_type": "stream",
     "text": [
      "RMSE train CV: 0.7140 (0.0182)\n",
      "RMSE test CV: 1.6050 (0.1778)\n",
      "DIFF RMSE 0.8909998247735672\n",
      "\n",
      "r2 train CV: 0.8557 (0.0062)\n",
      "r2 test CV: 0.2575 (0.0762)\n",
      "DIFF RMSE -0.5981599020116533\n",
      "\n",
      "RMSE test: 1.62\n",
      "r2 test 0.34190081814183626\n",
      "Pearson corr test 0.597927\n"
     ]
    }
   ],
   "source": [
    "print('GradientBoostingRegressor Model Evaluation')\n",
    "gbtcv = evaluating(gbt,X_train.values,y_train.values)\n",
    "cv_results(gbtcv)\n",
    "\n",
    "gbt_model = gbt.fit(X_train.values,y_train.values)\n",
    "test_results(gbt_model,X_test.values,y_test.values)"
   ]
  },
  {
   "cell_type": "code",
   "execution_count": 14,
   "metadata": {},
   "outputs": [
    {
     "name": "stdout",
     "output_type": "stream",
     "text": [
      "Averaged Models Evaluation\n"
     ]
    },
    {
     "name": "stderr",
     "output_type": "stream",
     "text": [
      "[Parallel(n_jobs=-1)]: Using backend LokyBackend with 16 concurrent workers.\n",
      "[Parallel(n_jobs=-1)]: Done  10 out of  10 | elapsed:   24.8s finished\n"
     ]
    },
    {
     "name": "stdout",
     "output_type": "stream",
     "text": [
      "RMSE train CV: 1.0079 (0.0159)\n",
      "RMSE test CV: 1.6038 (0.1891)\n",
      "DIFF RMSE 0.5959783389051654\n",
      "\n",
      "r2 train CV: 0.7126 (0.0062)\n",
      "r2 test CV: 0.2608 (0.0652)\n",
      "DIFF RMSE -0.45175036441399186\n",
      "\n",
      "RMSE test: 1.64\n",
      "r2 test 0.322696830237302\n",
      "Pearson corr test 0.603064\n"
     ]
    }
   ],
   "source": [
    "print('Averaged Models Evaluation')\n",
    "averaged_models = AveragingModels(models = (gbt, svrP,xgbr,svrRBF, lasso))\n",
    "\n",
    "averaged_models_cv = evaluating(averaged_models,X_train.values,y_train.values)\n",
    "cv_results(averaged_models_cv)\n",
    "\n",
    "averaged_models_model = averaged_models.fit(X_train.values,y_train.values)\n",
    "test_results(averaged_models_model,X_test.values,y_test.values)"
   ]
  },
  {
   "cell_type": "code",
   "execution_count": 15,
   "metadata": {},
   "outputs": [
    {
     "data": {
      "text/plain": [
       "['avg_models_FINAL.pkl']"
      ]
     },
     "execution_count": 15,
     "metadata": {},
     "output_type": "execute_result"
    }
   ],
   "source": [
    "final_avg = averaged_models.fit(full_data.values,y_full.values)\n",
    "from sklearn.externals import joblib\n",
    "\n",
    "# save final model\n",
    "\n",
    "joblib.dump(final_avg, 'avg_models_FINAL.pkl')"
   ]
  },
  {
   "cell_type": "code",
   "execution_count": 13,
   "metadata": {
    "collapsed": true
   },
   "outputs": [],
   "source": [
    "lassoMeta = make_pipeline(MinMaxScaler(), Lasso(alpha =0.001, random_state=1,normalize=True,fit_intercept=True))\n",
    "svrMeta = make_pipeline(make_pipeline(MinMaxScaler(),\n",
    "                      SVR(C=1,degree=2,epsilon=0.4,gamma=0.5,kernel='poly')))\n",
    "\n",
    "xgbMeta = make_pipeline(make_pipeline(XGBRegressor(colsample_bytree=0.6, gamma=0, \n",
    "                             learning_rate=0.07, max_depth=8, \n",
    "                             min_child_weight=20, n_estimators=1000,\n",
    "                             reg_alpha=0.000005, reg_lambda=200,\n",
    "                             subsample=0.9,random_state =7, nthread = -1)))\n",
    "\n",
    "gbtMeta = GradientBoostingRegressor(n_estimators=1000, learning_rate=0.05,\n",
    "                                   max_depth=8, max_features='sqrt',\n",
    "                                   min_samples_leaf=8, min_samples_split=2, \n",
    "                                   loss='huber', random_state =5,subsample=0.6,alpha=0.7)"
   ]
  },
  {
   "cell_type": "code",
   "execution_count": 14,
   "metadata": {
    "collapsed": true
   },
   "outputs": [],
   "source": [
    "stacked_averaged_models = StackingAveragedModels(base_models = (gbt, svrP,svrRBF,xgbr),\n",
    "                                                 meta_model = svrMeta)"
   ]
  },
  {
   "cell_type": "code",
   "execution_count": 69,
   "metadata": {},
   "outputs": [
    {
     "name": "stdout",
     "output_type": "stream",
     "text": [
      "Averaged Stacked Models Evaluation\n"
     ]
    },
    {
     "name": "stderr",
     "output_type": "stream",
     "text": [
      "[Parallel(n_jobs=-1)]: Using backend LokyBackend with 16 concurrent workers.\n",
      "[Parallel(n_jobs=-1)]: Done  10 out of  10 | elapsed:  1.8min finished\n"
     ]
    },
    {
     "name": "stdout",
     "output_type": "stream",
     "text": [
      "RMSE train CV: 0.9740 (0.0482)\n",
      "RMSE test CV: 1.6081 (0.1901)\n",
      "DIFF RMSE 0.6340602964945962\n",
      "\n",
      "r2 train CV: 0.7309 (0.0264)\n",
      "r2 test CV: 0.2573 (0.0598)\n",
      "DIFF RMSE -0.4735539192313503\n",
      "\n",
      "RMSE test: 1.65\n",
      "r2 test 0.3116774906157096\n",
      "Pearson corr test 0.580218\n"
     ]
    }
   ],
   "source": [
    "print('Averaged Stacked Models Evaluation')\n",
    "\n",
    "stacked_averaged_models_cv = evaluating(stacked_averaged_models,X_train.values,y_train.values)\n",
    "cv_results(stacked_averaged_models_cv)\n",
    "\n",
    "stacked_averaged_models_model = stacked_averaged_models.fit(X_train.values,y_train.values)\n",
    "test_results(stacked_averaged_models_model,X_test.values,y_test.values)"
   ]
  },
  {
   "cell_type": "code",
   "execution_count": 11,
   "metadata": {},
   "outputs": [],
   "source": [
    "final_stacked_averaged_models = stacked_averaged_models.fit(full_data.values,y_full.values)"
   ]
  },
  {
   "cell_type": "code",
   "execution_count": 12,
   "metadata": {},
   "outputs": [
    {
     "data": {
      "text/plain": [
       "['stacked_averaged_models_FINAL.v3.pkl']"
      ]
     },
     "execution_count": 12,
     "metadata": {},
     "output_type": "execute_result"
    }
   ],
   "source": [
    "from sklearn.externals import joblib\n",
    "\n",
    "# save final model\n",
    "\n",
    "joblib.dump(final_stacked_averaged_models, 'stacked_averaged_models_FINAL.v3.pkl')"
   ]
  },
  {
   "cell_type": "code",
   "execution_count": null,
   "metadata": {
    "collapsed": true
   },
   "outputs": [],
   "source": []
  }
 ],
 "metadata": {
  "kernelspec": {
   "display_name": "Python 3",
   "language": "python",
   "name": "python3"
  },
  "language_info": {
   "codemirror_mode": {
    "name": "ipython",
    "version": 3
   },
   "file_extension": ".py",
   "mimetype": "text/x-python",
   "name": "python",
   "nbconvert_exporter": "python",
   "pygments_lexer": "ipython3",
   "version": "3.6.7"
  }
 },
 "nbformat": 4,
 "nbformat_minor": 2
}
