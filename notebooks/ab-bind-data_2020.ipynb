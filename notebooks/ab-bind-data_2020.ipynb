{
 "cells": [
  {
   "cell_type": "code",
   "execution_count": 1,
   "metadata": {
    "collapsed": true
   },
   "outputs": [],
   "source": [
    "import pandas as pd\n",
    "import matplotlib.pyplot as plt\n",
    "%matplotlib inline"
   ]
  },
  {
   "cell_type": "code",
   "execution_count": 18,
   "metadata": {},
   "outputs": [
    {
     "data": {
      "text/plain": [
       "(1101, 16)"
      ]
     },
     "execution_count": 18,
     "metadata": {},
     "output_type": "execute_result"
    }
   ],
   "source": [
    "ab_bind = pd.read_table(\"../data/AB-Bind-Database-master/AB-Bind_experimental_data.csv\",engine='python',sep=',')\n",
    "ab_bind.shape"
   ]
  },
  {
   "cell_type": "code",
   "execution_count": 19,
   "metadata": {},
   "outputs": [
    {
     "data": {
      "text/plain": [
       "array([[<matplotlib.axes._subplots.AxesSubplot object at 0x1274bc2e8>]],\n",
       "      dtype=object)"
      ]
     },
     "execution_count": 19,
     "metadata": {},
     "output_type": "execute_result"
    },
    {
     "data": {
      "image/png": "[encoded data removed]",
      "text/plain": [
       "<Figure size 432x288 with 1 Axes>"
      ]
     },
     "metadata": {},
     "output_type": "display_data"
    }
   ],
   "source": [
    "ab_bind.hist(column=\"ddG(kcal/mol)\")"
   ]
  },
  {
   "cell_type": "code",
   "execution_count": 20,
   "metadata": {},
   "outputs": [],
   "source": [
    "single_point_mutants = (ab_bind['Mutation'].str.split(',').str.len() == 1)\n",
    "no_homology_models = (-ab_bind['#PDB'].str.startswith('HM'))"
   ]
  },
  {
   "cell_type": "code",
   "execution_count": 22,
   "metadata": {
    "scrolled": true
   },
   "outputs": [
    {
     "data": {
      "text/plain": [
       "(558, 16)"
      ]
     },
     "execution_count": 22,
     "metadata": {},
     "output_type": "execute_result"
    }
   ],
   "source": [
    "ab_bind_filtered = ab_bind.loc[no_homology_models&single_point_mutants].copy()\n",
    "ab_bind_filtered.shape"
   ]
  },
  {
   "cell_type": "code",
   "execution_count": 23,
   "metadata": {},
   "outputs": [],
   "source": [
    "ab_bind_filtered.rename(columns={'Partners(A_B)':'partners','ddG(kcal/mol)':'ddG'},inplace=True)"
   ]
  },
  {
   "cell_type": "code",
   "execution_count": 24,
   "metadata": {},
   "outputs": [],
   "source": [
    "ab_bind_filtered['mutant'] = ab_bind_filtered['Mutation'].str.split(':',expand=True)[1]\n",
    "ab_bind_filtered['chain'] = ab_bind_filtered['Mutation'].str.split(':',expand=True)[0]\n",
    "ab_bind_filtered['pdb_mutation'] = ab_bind_filtered['#PDB']+'.'+ab_bind_filtered['mutant']"
   ]
  },
  {
   "cell_type": "code",
   "execution_count": 25,
   "metadata": {},
   "outputs": [
    {
     "data": {
      "text/html": [
       "<div>\n",
       "<style scoped>\n",
       "    .dataframe tbody tr th:only-of-type {\n",
       "        vertical-align: middle;\n",
       "    }\n",
       "\n",
       "    .dataframe tbody tr th {\n",
       "        vertical-align: top;\n",
       "    }\n",
       "\n",
       "    .dataframe thead th {\n",
       "        text-align: right;\n",
       "    }\n",
       "</style>\n",
       "<table border=\"1\" class=\"dataframe\">\n",
       "  <thead>\n",
       "    <tr style=\"text-align: right;\">\n",
       "      <th></th>\n",
       "      <th>#PDB</th>\n",
       "      <th>partners</th>\n",
       "      <th>Protein-1</th>\n",
       "      <th>Protein-2</th>\n",
       "      <th>Mutation</th>\n",
       "      <th>ddG</th>\n",
       "      <th>PDB Res. (Angstroms)</th>\n",
       "      <th>PDB R-value</th>\n",
       "      <th>PDB R-free</th>\n",
       "      <th>PDB pH</th>\n",
       "      <th>PDB T (K)</th>\n",
       "      <th>PDB MolProbity clashscore</th>\n",
       "      <th>PDB DOI</th>\n",
       "      <th>Assay Name</th>\n",
       "      <th>Assay pH</th>\n",
       "      <th>Assay Temp (Celcius)</th>\n",
       "      <th>mutant</th>\n",
       "      <th>chain</th>\n",
       "      <th>pdb_mutation</th>\n",
       "    </tr>\n",
       "  </thead>\n",
       "  <tbody>\n",
       "    <tr>\n",
       "      <td>1</td>\n",
       "      <td>1AK4</td>\n",
       "      <td>A_D</td>\n",
       "      <td>huCyc-A</td>\n",
       "      <td>HIV-1 CAPSID (N-Term)</td>\n",
       "      <td>D:A488G</td>\n",
       "      <td>2.49</td>\n",
       "      <td>2.36</td>\n",
       "      <td>0.238</td>\n",
       "      <td>0.306</td>\n",
       "      <td>7</td>\n",
       "      <td>100</td>\n",
       "      <td>4.71</td>\n",
       "      <td>10.1016/S0092-8674(00)81823-1</td>\n",
       "      <td>SPR</td>\n",
       "      <td>6.5</td>\n",
       "      <td>NaN</td>\n",
       "      <td>A488G</td>\n",
       "      <td>D</td>\n",
       "      <td>1AK4.A488G</td>\n",
       "    </tr>\n",
       "    <tr>\n",
       "      <td>2</td>\n",
       "      <td>1AK4</td>\n",
       "      <td>A_D</td>\n",
       "      <td>huCyc-A</td>\n",
       "      <td>HIV-1 CAPSID (N-Term)</td>\n",
       "      <td>D:A488V</td>\n",
       "      <td>0.60</td>\n",
       "      <td>2.36</td>\n",
       "      <td>0.238</td>\n",
       "      <td>0.306</td>\n",
       "      <td>7</td>\n",
       "      <td>100</td>\n",
       "      <td>4.71</td>\n",
       "      <td>10.1016/S0092-8674(00)81823-1</td>\n",
       "      <td>SPR</td>\n",
       "      <td>6.5</td>\n",
       "      <td>NaN</td>\n",
       "      <td>A488V</td>\n",
       "      <td>D</td>\n",
       "      <td>1AK4.A488V</td>\n",
       "    </tr>\n",
       "    <tr>\n",
       "      <td>3</td>\n",
       "      <td>1AK4</td>\n",
       "      <td>A_D</td>\n",
       "      <td>huCyc-A</td>\n",
       "      <td>HIV-1 CAPSID (N-Term)</td>\n",
       "      <td>D:A492G</td>\n",
       "      <td>0.41</td>\n",
       "      <td>2.36</td>\n",
       "      <td>0.238</td>\n",
       "      <td>0.306</td>\n",
       "      <td>7</td>\n",
       "      <td>100</td>\n",
       "      <td>4.71</td>\n",
       "      <td>10.1016/S0092-8674(00)81823-1</td>\n",
       "      <td>SPR</td>\n",
       "      <td>6.5</td>\n",
       "      <td>NaN</td>\n",
       "      <td>A492G</td>\n",
       "      <td>D</td>\n",
       "      <td>1AK4.A492G</td>\n",
       "    </tr>\n",
       "    <tr>\n",
       "      <td>4</td>\n",
       "      <td>1AK4</td>\n",
       "      <td>A_D</td>\n",
       "      <td>huCyc-A</td>\n",
       "      <td>HIV-1 CAPSID (N-Term)</td>\n",
       "      <td>D:A492V</td>\n",
       "      <td>0.19</td>\n",
       "      <td>2.36</td>\n",
       "      <td>0.238</td>\n",
       "      <td>0.306</td>\n",
       "      <td>7</td>\n",
       "      <td>100</td>\n",
       "      <td>4.71</td>\n",
       "      <td>10.1016/S0092-8674(00)81823-1</td>\n",
       "      <td>SPR</td>\n",
       "      <td>6.5</td>\n",
       "      <td>NaN</td>\n",
       "      <td>A492V</td>\n",
       "      <td>D</td>\n",
       "      <td>1AK4.A492V</td>\n",
       "    </tr>\n",
       "    <tr>\n",
       "      <td>5</td>\n",
       "      <td>1AK4</td>\n",
       "      <td>A_D</td>\n",
       "      <td>huCyc-A</td>\n",
       "      <td>HIV-1 CAPSID (N-Term)</td>\n",
       "      <td>D:G489A</td>\n",
       "      <td>1.91</td>\n",
       "      <td>2.36</td>\n",
       "      <td>0.238</td>\n",
       "      <td>0.306</td>\n",
       "      <td>7</td>\n",
       "      <td>100</td>\n",
       "      <td>4.71</td>\n",
       "      <td>10.1016/S0092-8674(00)81823-1</td>\n",
       "      <td>SPR</td>\n",
       "      <td>6.5</td>\n",
       "      <td>NaN</td>\n",
       "      <td>G489A</td>\n",
       "      <td>D</td>\n",
       "      <td>1AK4.G489A</td>\n",
       "    </tr>\n",
       "  </tbody>\n",
       "</table>\n",
       "</div>"
      ],
      "text/plain": [
       "   #PDB partners Protein-1              Protein-2 Mutation   ddG  \\\n",
       "1  1AK4      A_D   huCyc-A  HIV-1 CAPSID (N-Term)  D:A488G  2.49   \n",
       "2  1AK4      A_D   huCyc-A  HIV-1 CAPSID (N-Term)  D:A488V  0.60   \n",
       "3  1AK4      A_D   huCyc-A  HIV-1 CAPSID (N-Term)  D:A492G  0.41   \n",
       "4  1AK4      A_D   huCyc-A  HIV-1 CAPSID (N-Term)  D:A492V  0.19   \n",
       "5  1AK4      A_D   huCyc-A  HIV-1 CAPSID (N-Term)  D:G489A  1.91   \n",
       "\n",
       "   PDB Res. (Angstroms)  PDB R-value PDB R-free PDB pH PDB T (K)  \\\n",
       "1                  2.36        0.238      0.306      7       100   \n",
       "2                  2.36        0.238      0.306      7       100   \n",
       "3                  2.36        0.238      0.306      7       100   \n",
       "4                  2.36        0.238      0.306      7       100   \n",
       "5                  2.36        0.238      0.306      7       100   \n",
       "\n",
       "   PDB MolProbity clashscore                         PDB DOI Assay Name  \\\n",
       "1                       4.71   10.1016/S0092-8674(00)81823-1        SPR   \n",
       "2                       4.71   10.1016/S0092-8674(00)81823-1        SPR   \n",
       "3                       4.71   10.1016/S0092-8674(00)81823-1        SPR   \n",
       "4                       4.71   10.1016/S0092-8674(00)81823-1        SPR   \n",
       "5                       4.71   10.1016/S0092-8674(00)81823-1        SPR   \n",
       "\n",
       "  Assay pH  Assay Temp (Celcius) mutant chain pdb_mutation  \n",
       "1      6.5                   NaN  A488G     D   1AK4.A488G  \n",
       "2      6.5                   NaN  A488V     D   1AK4.A488V  \n",
       "3      6.5                   NaN  A492G     D   1AK4.A492G  \n",
       "4      6.5                   NaN  A492V     D   1AK4.A492V  \n",
       "5      6.5                   NaN  G489A     D   1AK4.G489A  "
      ]
     },
     "execution_count": 25,
     "metadata": {},
     "output_type": "execute_result"
    }
   ],
   "source": [
    "ab_bind_filtered.head()"
   ]
  },
  {
   "cell_type": "code",
   "execution_count": 26,
   "metadata": {},
   "outputs": [],
   "source": [
    "ab_bind_filtered.drop_duplicates(subset=['chain','pdb_mutation'],keep='last',inplace=True)"
   ]
  },
  {
   "cell_type": "code",
   "execution_count": 27,
   "metadata": {},
   "outputs": [
    {
     "data": {
      "text/plain": [
       "(555, 19)"
      ]
     },
     "execution_count": 27,
     "metadata": {},
     "output_type": "execute_result"
    }
   ],
   "source": [
    "ab_bind_filtered.shape"
   ]
  },
  {
   "cell_type": "code",
   "execution_count": 28,
   "metadata": {
    "scrolled": true
   },
   "outputs": [],
   "source": [
    "ab_bind_filtered.to_csv('../data/ab_bind_filtered_2020.csv')"
   ]
  },
  {
   "cell_type": "code",
   "execution_count": null,
   "metadata": {
    "collapsed": true
   },
   "outputs": [],
   "source": []
  }
 ],
 "metadata": {
  "kernelspec": {
   "display_name": "Python 3",
   "language": "python",
   "name": "python3"
  },
  "language_info": {
   "codemirror_mode": {
    "name": "ipython",
    "version": 3
   },
   "file_extension": ".py",
   "mimetype": "text/x-python",
   "name": "python",
   "nbconvert_exporter": "python",
   "pygments_lexer": "ipython3",
   "version": "3.6.7"
  }
 },
 "nbformat": 4,
 "nbformat_minor": 2
}
