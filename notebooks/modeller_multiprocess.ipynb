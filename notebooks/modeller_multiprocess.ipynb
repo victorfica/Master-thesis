{
 "cells": [
  {
   "cell_type": "code",
   "execution_count": 2,
   "metadata": {},
   "outputs": [],
   "source": [
    "from pathlib import Path\n",
    "import sys\n",
    "import re\n",
    "import pandas as pd\n",
    "import shutil\n",
    "import os\n",
    "import pickle\n",
    "\n",
    "from abpred.call_modeller import ModellerMut\n",
    "from abpred.structure_tools import convert_aa, split_mutations"
   ]
  },
  {
   "cell_type": "code",
   "execution_count": 3,
   "metadata": {
    "collapsed": true
   },
   "outputs": [],
   "source": [
    "# vih benchmark dataframe\n",
    "vih_dataframe = pd.read_csv('../data/HIV_escape_mutations.csv',sep=\"\\t\")\n",
    "vih_mutant_names = vih_dataframe.loc[vih_dataframe['Mutation_type']=='REVERSE']\n",
    "\n",
    "# Need to be in same directory\n",
    "hiv_pdb = Path(\"VRC01.pdb\")"
   ]
  },
  {
   "cell_type": "code",
   "execution_count": 4,
   "metadata": {
    "collapsed": true
   },
   "outputs": [],
   "source": [
    "def main(row):\n",
    "    mutation = row.Mutation\n",
    "    chain = row.Chain\n",
    "\n",
    "    # process args\n",
    "    # split mutation string to [wt_aa,aa_number,mut_aa]\n",
    "    mutation_split = split_mutations(mutation)\n",
    "    restype = convert_aa(mutation_split[0])\n",
    "    respos = mutation_split[1]\n",
    "    \n",
    "    # run test\n",
    "    mutate = ModellerMut(str(hiv_pdb), out_dir='out_models')\n",
    "    mutate.run_mutation( respos=respos,restype=restype, chain=chain, out_tag=\".mut\")"
   ]
  },
  {
   "cell_type": "code",
   "execution_count": 5,
   "metadata": {
    "collapsed": true,
    "scrolled": true
   },
   "outputs": [],
   "source": [
    "array_args=[[split_mutations(row.Mutation)[1],convert_aa(split_mutations(row.Mutation)[-1]),row.Chain]\n",
    " for i,row in vih_mutant_names.iterrows()]"
   ]
  },
  {
   "cell_type": "code",
   "execution_count": 6,
   "metadata": {
    "scrolled": true
   },
   "outputs": [
    {
     "data": {
      "text/plain": [
       "[['54', 'ALA', 'G'],\n",
       " ['62', 'ALA', 'G'],\n",
       " ['64', 'ALA', 'G'],\n",
       " ['69', 'ALA', 'G'],\n",
       " ['79', 'ALA', 'G'],\n",
       " ['87', 'ALA', 'G'],\n",
       " ['88', 'ALA', 'G'],\n",
       " ['89', 'ALA', 'G'],\n",
       " ['163', 'ALA', 'G'],\n",
       " ['163', 'LYS', 'G'],\n",
       " ['163', 'THR', 'G'],\n",
       " ['165', 'ALA', 'G'],\n",
       " ['168', 'ALA', 'G'],\n",
       " ['176', 'ALA', 'G'],\n",
       " ['179', 'ALA', 'G'],\n",
       " ['218', 'ALA', 'G'],\n",
       " ['222', 'ALA', 'G'],\n",
       " ['223', 'ALA', 'G'],\n",
       " ['228', 'ALA', 'G'],\n",
       " ['239', 'ALA', 'G'],\n",
       " ['242', 'ALA', 'G'],\n",
       " ['245', 'ALA', 'G'],\n",
       " ['246', 'ALA', 'G'],\n",
       " ['248', 'ALA', 'G'],\n",
       " ['249', 'ALA', 'G'],\n",
       " ['263', 'SER', 'G'],\n",
       " ['264', 'ALA', 'G'],\n",
       " ['267', 'ALA', 'G'],\n",
       " ['290', 'ALA', 'G'],\n",
       " ['294', 'LYS', 'G'],\n",
       " ['295', 'ALA', 'G'],\n",
       " ['297', 'ALA', 'G'],\n",
       " ['302', 'ALA', 'G'],\n",
       " ['308', 'ALA', 'G'],\n",
       " ['315', 'ALA', 'G'],\n",
       " ['328', 'ALA', 'G'],\n",
       " ['329', 'ALA', 'G'],\n",
       " ['330', 'ALA', 'G'],\n",
       " ['331', 'ALA', 'G'],\n",
       " ['332', 'ALA', 'G'],\n",
       " ['333', 'ALA', 'G'],\n",
       " ['334', 'ALA', 'G'],\n",
       " ['335', 'ALA', 'G'],\n",
       " ['336', 'ALA', 'G'],\n",
       " ['337', 'ALA', 'G'],\n",
       " ['348', 'ALA', 'G'],\n",
       " ['350', 'ALA', 'G'],\n",
       " ['352', 'ALA', 'G'],\n",
       " ['359', 'ALA', 'G'],\n",
       " ['379', 'ALA', 'G'],\n",
       " ['380', 'ALA', 'G'],\n",
       " ['381', 'ALA', 'G'],\n",
       " ['383', 'ALA', 'G'],\n",
       " ['384', 'ALA', 'G'],\n",
       " ['385', 'ALA', 'G'],\n",
       " ['387', 'ALA', 'G'],\n",
       " ['390', 'ALA', 'G'],\n",
       " ['392', 'ALA', 'G'],\n",
       " ['395', 'ALA', 'G'],\n",
       " ['399', 'ALA', 'G'],\n",
       " ['410', 'ALA', 'G'],\n",
       " ['415', 'ALA', 'G'],\n",
       " ['416', 'ALA', 'G'],\n",
       " ['417', 'ALA', 'G'],\n",
       " ['418', 'ALA', 'G'],\n",
       " ['419', 'ALA', 'G'],\n",
       " ['421', 'ALA', 'G'],\n",
       " ['423', 'ALA', 'G'],\n",
       " ['427', 'ALA', 'G'],\n",
       " ['429', 'ALA', 'G'],\n",
       " ['431', 'ALA', 'G'],\n",
       " ['432', 'ALA', 'G'],\n",
       " ['433', 'ALA', 'G'],\n",
       " ['434', 'ALA', 'G'],\n",
       " ['436', 'ALA', 'G'],\n",
       " ['437', 'ALA', 'G'],\n",
       " ['439', 'ALA', 'G'],\n",
       " ['440', 'ALA', 'G']]"
      ]
     },
     "execution_count": 6,
     "metadata": {},
     "output_type": "execute_result"
    }
   ],
   "source": [
    "array_args"
   ]
  },
  {
   "cell_type": "code",
   "execution_count": null,
   "metadata": {
    "collapsed": true
   },
   "outputs": [],
   "source": [
    "def process_mutations(data):\n",
    "    for row in data.\n",
    "    "
   ]
  },
  {
   "cell_type": "code",
   "execution_count": 7,
   "metadata": {
    "collapsed": true
   },
   "outputs": [],
   "source": [
    "import concurrent\n",
    "from functools import partial"
   ]
  },
  {
   "cell_type": "code",
   "execution_count": 10,
   "metadata": {},
   "outputs": [
    {
     "name": "stdout",
     "output_type": "stream",
     "text": [
      "finish\n",
      "finish\n",
      "finish\n"
     ]
    }
   ],
   "source": [
    "\n",
    "\n",
    "with concurrent.futures.ProcessPoolExecutor(max_workers=3) as executor:\n",
    "    mutate = ModellerMut(str(hiv_pdb), out_dir='out_models',out_tag=\".mut\")\n",
    "\n",
    "    for m in executor.map(mutate.run_mutation, *zip(*array_args[:3])):\n",
    "        if m == None:\n",
    "            print(\"finish\")\n",
    "            \n",
    "    "
   ]
  },
  {
   "cell_type": "code",
   "execution_count": 22,
   "metadata": {},
   "outputs": [
    {
     "name": "stdout",
     "output_type": "stream",
     "text": [
      "('54', '62', '64', '69', '79') ('ALA', 'ALA', 'ALA', 'ALA', 'ALA') ('G', 'G', 'G', 'G', 'G')\n"
     ]
    }
   ],
   "source": [
    "print(*zip(*array_args[:5]))\n"
   ]
  }
 ],
 "metadata": {
  "kernelspec": {
   "display_name": "Python 3",
   "language": "python",
   "name": "python3"
  },
  "language_info": {
   "codemirror_mode": {
    "name": "ipython",
    "version": 3
   },
   "file_extension": ".py",
   "mimetype": "text/x-python",
   "name": "python",
   "nbconvert_exporter": "python",
   "pygments_lexer": "ipython3",
   "version": "3.6.7"
  }
 },
 "nbformat": 4,
 "nbformat_minor": 2
}
