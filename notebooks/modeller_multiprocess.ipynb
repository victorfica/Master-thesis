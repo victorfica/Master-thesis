{
 "cells": [
  {
   "cell_type": "code",
   "execution_count": 1,
   "metadata": {},
   "outputs": [],
   "source": [
    "from pathlib import Path\n",
    "import sys\n",
    "import re\n",
    "import pandas as pd\n",
    "import shutil\n",
    "import os\n",
    "import pickle\n",
    "\n",
    "from AbPred.call_modeller import ModellerMut\n",
    "from AbPred.structure_tools import convert_aa, split_mutations"
   ]
  },
  {
   "cell_type": "code",
   "execution_count": 2,
   "metadata": {},
   "outputs": [],
   "source": [
    "# vih benchmark dataframe\n",
    "vih_dataframe = pd.read_csv('../data/HIV_escape_mutations.csv',sep=\"\\t\")\n",
    "vih_mutant_names = vih_dataframe.loc[vih_dataframe['Mutation_type']=='REVERSE']\n",
    "\n",
    "# Need to be in same directory\n",
    "hiv_pdb = Path(\"VRC01.pdb\")"
   ]
  },
  {
   "cell_type": "code",
   "execution_count": 19,
   "metadata": {},
   "outputs": [],
   "source": [
    "def main(row):\n",
    "    mutation = row.Mutation\n",
    "    chain = row.Chain\n",
    "\n",
    "    # process args\n",
    "    # split mutation string to [wt_aa,aa_number,mut_aa]\n",
    "    mutation_split = split_mutations(mutation)\n",
    "    restype = convert_aa(mutation_split[0])\n",
    "    respos = mutation_split[1]\n",
    "    \n",
    "    # run test\n",
    "    mutate = ModellerMut(str(hiv_pdb), out_dir='out_models')\n",
    "    mutate.run_mutation( respos=respos,restype=restype, chain=chain, out_tag=\".mut\")"
   ]
  },
  {
   "cell_type": "code",
   "execution_count": 45,
   "metadata": {
    "scrolled": true
   },
   "outputs": [
    {
     "name": "stdout",
     "output_type": "stream",
     "text": [
      "G\n",
      "G\n",
      "G\n",
      "G\n",
      "G\n",
      "G\n",
      "G\n",
      "G\n",
      "G\n",
      "G\n",
      "G\n",
      "G\n",
      "G\n",
      "G\n",
      "G\n",
      "G\n",
      "G\n",
      "G\n",
      "G\n",
      "G\n",
      "G\n",
      "G\n",
      "G\n",
      "G\n",
      "G\n",
      "G\n",
      "G\n",
      "G\n",
      "G\n",
      "G\n",
      "G\n",
      "G\n",
      "G\n",
      "G\n",
      "G\n",
      "G\n",
      "G\n",
      "G\n",
      "G\n",
      "G\n",
      "G\n",
      "G\n",
      "G\n",
      "G\n",
      "G\n",
      "G\n",
      "G\n",
      "G\n",
      "G\n",
      "G\n",
      "G\n",
      "G\n",
      "G\n",
      "G\n",
      "G\n",
      "G\n",
      "G\n",
      "G\n",
      "G\n",
      "G\n",
      "G\n",
      "G\n",
      "G\n",
      "G\n",
      "G\n",
      "G\n",
      "G\n",
      "G\n",
      "G\n",
      "G\n",
      "G\n",
      "G\n",
      "G\n",
      "G\n",
      "G\n",
      "G\n",
      "G\n",
      "G\n"
     ]
    }
   ],
   "source": [
    "print(\"\\n\".join(vih_mutant_names.Chain.values))"
   ]
  },
  {
   "cell_type": "code",
   "execution_count": 20,
   "metadata": {
    "scrolled": true
   },
   "outputs": [],
   "source": [
    "array_args=[[split_mutations(row.Mutation)[1],convert_aa(split_mutations(row.Mutation)[-1]),row.Chain]\n",
    " for i,row in vih_mutant_names.iterrows()]"
   ]
  },
  {
   "cell_type": "code",
   "execution_count": null,
   "metadata": {},
   "outputs": [],
   "source": [
    "def process_mutations(data):\n",
    "    for row in data.\n",
    "    "
   ]
  },
  {
   "cell_type": "code",
   "execution_count": 8,
   "metadata": {},
   "outputs": [],
   "source": [
    "import concurrent\n",
    "from functools import partial"
   ]
  },
  {
   "cell_type": "code",
   "execution_count": 24,
   "metadata": {},
   "outputs": [
    {
     "name": "stdout",
     "output_type": "stream",
     "text": [
      "finish\n",
      "finish\n",
      "finish\n"
     ]
    }
   ],
   "source": [
    "\n",
    "\n",
    "with concurrent.futures.ProcessPoolExecutor(max_workers=3) as executor:\n",
    "    mutate = ModellerMut(str(hiv_pdb), out_dir='out_models',out_tag=\".mut\")\n",
    "\n",
    "    for m in executor.map(mutate.run_mutation, *zip(*array_args[:3])):\n",
    "        if m == None:\n",
    "            print(\"finish\")\n",
    "            \n",
    "    "
   ]
  },
  {
   "cell_type": "code",
   "execution_count": 47,
   "metadata": {},
   "outputs": [],
   "source": [
    "super?"
   ]
  }
 ],
 "metadata": {
  "kernelspec": {
   "display_name": "Python 3",
   "language": "python",
   "name": "python3"
  },
  "language_info": {
   "codemirror_mode": {
    "name": "ipython",
    "version": 3
   },
   "file_extension": ".py",
   "mimetype": "text/x-python",
   "name": "python",
   "nbconvert_exporter": "python",
   "pygments_lexer": "ipython3",
   "version": "3.6.6"
  }
 },
 "nbformat": 4,
 "nbformat_minor": 2
}
