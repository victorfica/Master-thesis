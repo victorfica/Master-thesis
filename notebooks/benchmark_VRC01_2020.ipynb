{
 "cells": [
  {
   "cell_type": "code",
   "execution_count": 2,
   "metadata": {},
   "outputs": [],
   "source": [
    "import pandas as pd\n"
   ]
  },
  {
   "cell_type": "code",
   "execution_count": 13,
   "metadata": {},
   "outputs": [
    {
     "data": {
      "text/html": [
       "<div>\n",
       "<style scoped>\n",
       "    .dataframe tbody tr th:only-of-type {\n",
       "        vertical-align: middle;\n",
       "    }\n",
       "\n",
       "    .dataframe tbody tr th {\n",
       "        vertical-align: top;\n",
       "    }\n",
       "\n",
       "    .dataframe thead th {\n",
       "        text-align: right;\n",
       "    }\n",
       "</style>\n",
       "<table border=\"1\" class=\"dataframe\">\n",
       "  <thead>\n",
       "    <tr style=\"text-align: right;\">\n",
       "      <th></th>\n",
       "      <th>Mutation_type</th>\n",
       "      <th>Chain</th>\n",
       "      <th>Mutation</th>\n",
       "      <th>log10(Exptal)</th>\n",
       "      <th>Exptal</th>\n",
       "      <th>mCSM-AB_Pred</th>\n",
       "    </tr>\n",
       "  </thead>\n",
       "  <tbody>\n",
       "    <tr>\n",
       "      <td>0</td>\n",
       "      <td>ORIGINAL</td>\n",
       "      <td>G</td>\n",
       "      <td>A54E</td>\n",
       "      <td>1.995635</td>\n",
       "      <td>98.0</td>\n",
       "      <td>-0.013</td>\n",
       "    </tr>\n",
       "    <tr>\n",
       "      <td>1</td>\n",
       "      <td>ORIGINAL</td>\n",
       "      <td>G</td>\n",
       "      <td>A62M</td>\n",
       "      <td>1.919078</td>\n",
       "      <td>82.0</td>\n",
       "      <td>-0.761</td>\n",
       "    </tr>\n",
       "    <tr>\n",
       "      <td>2</td>\n",
       "      <td>ORIGINAL</td>\n",
       "      <td>G</td>\n",
       "      <td>A64K</td>\n",
       "      <td>1.949390</td>\n",
       "      <td>88.0</td>\n",
       "      <td>-0.167</td>\n",
       "    </tr>\n",
       "    <tr>\n",
       "      <td>3</td>\n",
       "      <td>ORIGINAL</td>\n",
       "      <td>G</td>\n",
       "      <td>A69E</td>\n",
       "      <td>2.004321</td>\n",
       "      <td>100.0</td>\n",
       "      <td>-0.610</td>\n",
       "    </tr>\n",
       "    <tr>\n",
       "      <td>4</td>\n",
       "      <td>ORIGINAL</td>\n",
       "      <td>G</td>\n",
       "      <td>A79W</td>\n",
       "      <td>2.025306</td>\n",
       "      <td>105.0</td>\n",
       "      <td>-0.246</td>\n",
       "    </tr>\n",
       "  </tbody>\n",
       "</table>\n",
       "</div>"
      ],
      "text/plain": [
       "  Mutation_type Chain Mutation  log10(Exptal)  Exptal  mCSM-AB_Pred\n",
       "0      ORIGINAL     G     A54E       1.995635    98.0        -0.013\n",
       "1      ORIGINAL     G     A62M       1.919078    82.0        -0.761\n",
       "2      ORIGINAL     G     A64K       1.949390    88.0        -0.167\n",
       "3      ORIGINAL     G     A69E       2.004321   100.0        -0.610\n",
       "4      ORIGINAL     G     A79W       2.025306   105.0        -0.246"
      ]
     },
     "execution_count": 13,
     "metadata": {},
     "output_type": "execute_result"
    }
   ],
   "source": [
    "# original info data\n",
    "vih_data = pd.read_csv(\"../data/HIV_escape_mutations.csv\",sep=\"\\t\")\n",
    "vih_data.head()"
   ]
  },
  {
   "cell_type": "code",
   "execution_count": 14,
   "metadata": {},
   "outputs": [],
   "source": [
    "vih_original = vih_data.loc[vih_data[\"Mutation_type\"]==\"ORIGINAL\"].copy()\n",
    "vih_reverse = vih_data.loc[vih_data[\"Mutation_type\"]==\"REVERSE\"]\n",
    "# reeplace original mutation nomenclature\n",
    "vih_original['Mutation'] =vih_reverse[\"Mutation\"].values\n",
    "#sort values to appedn to prediction data table\n",
    "vih_original.loc[:,\"mut_code\"] = (vih_reverse[\"Chain\"]+vih_reverse[\"Mutation\"].str[1:]).values\n",
    "# vih_original.sort_values(by='mut_code',inplace=True,ascending=False)\n"
   ]
  },
  {
   "cell_type": "code",
   "execution_count": 21,
   "metadata": {},
   "outputs": [],
   "source": [
    "with open('../data/mutant_list_VRC01.txt','w') as f:\n",
    "    \n",
    "    mutants = vih_original['Mutation']\n",
    "    chains = vih_original['Chain']\n",
    "        \n",
    "    raw_text = (chains+'\\t'+mutants).str.cat(sep='\\n')\n",
    "    f.write(raw_text)"
   ]
  },
  {
   "cell_type": "markdown",
   "metadata": {},
   "source": [
    "## Then, run prediction with ABPRED"
   ]
  },
  {
   "cell_type": "markdown",
   "metadata": {},
   "source": [
    "# ABPRED results analysis"
   ]
  },
  {
   "cell_type": "code",
   "execution_count": 15,
   "metadata": {},
   "outputs": [],
   "source": [
    "vih_original.loc[(vih_original['Exptal'] < 33 ),\"mutation-effect\"] = \"decreased-binding\"\n",
    "vih_original.loc[(vih_original['Exptal'] > 300 ),\"mutation-effect\"] = \"increased-binding\"\n",
    "vih_original.loc[(vih_original['Exptal'] < 300 )&(vih_original['Exptal'] > 33 ),\"mutation-effect\"] = \"neutral\""
   ]
  },
  {
   "cell_type": "code",
   "execution_count": 39,
   "metadata": {},
   "outputs": [],
   "source": [
    "inc_muts = vih_original.loc[vih_original[\"mutation-effect\"]==\"increased-binding\"]['mut_code'].values.tolist()\n",
    "dec_muts = vih_original.loc[vih_original[\"mutation-effect\"]==\"decreased-binding\"]['mut_code'].values.tolist()\n"
   ]
  },
  {
   "cell_type": "code",
   "execution_count": 40,
   "metadata": {},
   "outputs": [
    {
     "data": {
      "text/plain": [
       "['G245A', 'G331A', 'G332A', 'G334A', 'G335A', 'G417A', 'G427A', 'G434A']"
      ]
     },
     "execution_count": 40,
     "metadata": {},
     "output_type": "execute_result"
    }
   ],
   "source": [
    "dec_muts"
   ]
  },
  {
   "cell_type": "code",
   "execution_count": 20,
   "metadata": {},
   "outputs": [],
   "source": [
    "abpred_results = pd.read_csv('../benchmark/VRC01_bench/mutations_results.csv',index_col=0)\n",
    "abpred_results.reset_index(inplace=True)"
   ]
  },
  {
   "cell_type": "code",
   "execution_count": 25,
   "metadata": {},
   "outputs": [],
   "source": [
    "abpred_results['mut_code'] = abpred_results['index'].str.split('.',expand=True)[1]"
   ]
  },
  {
   "cell_type": "code",
   "execution_count": 41,
   "metadata": {},
   "outputs": [
    {
     "data": {
      "text/html": [
       "<div>\n",
       "<style scoped>\n",
       "    .dataframe tbody tr th:only-of-type {\n",
       "        vertical-align: middle;\n",
       "    }\n",
       "\n",
       "    .dataframe tbody tr th {\n",
       "        vertical-align: top;\n",
       "    }\n",
       "\n",
       "    .dataframe thead th {\n",
       "        text-align: right;\n",
       "    }\n",
       "</style>\n",
       "<table border=\"1\" class=\"dataframe\">\n",
       "  <thead>\n",
       "    <tr style=\"text-align: right;\">\n",
       "      <th></th>\n",
       "      <th>index</th>\n",
       "      <th>ddg</th>\n",
       "      <th>mut_code</th>\n",
       "    </tr>\n",
       "  </thead>\n",
       "  <tbody>\n",
       "    <tr>\n",
       "      <td>21</td>\n",
       "      <td>VRC01.G294K.Repair2.clean.mut.pdb</td>\n",
       "      <td>-0.142702</td>\n",
       "      <td>G294K</td>\n",
       "    </tr>\n",
       "    <tr>\n",
       "      <td>58</td>\n",
       "      <td>VRC01.G421A.Repair2.clean.mut.pdb</td>\n",
       "      <td>0.170120</td>\n",
       "      <td>G421A</td>\n",
       "    </tr>\n",
       "  </tbody>\n",
       "</table>\n",
       "</div>"
      ],
      "text/plain": [
       "                                index       ddg mut_code\n",
       "21  VRC01.G294K.Repair2.clean.mut.pdb -0.142702    G294K\n",
       "58  VRC01.G421A.Repair2.clean.mut.pdb  0.170120    G421A"
      ]
     },
     "execution_count": 41,
     "metadata": {},
     "output_type": "execute_result"
    }
   ],
   "source": [
    "abpred_results.loc[abpred_results['mut_code'].isin(inc_muts)]"
   ]
  },
  {
   "cell_type": "code",
   "execution_count": 42,
   "metadata": {},
   "outputs": [
    {
     "data": {
      "text/html": [
       "<div>\n",
       "<style scoped>\n",
       "    .dataframe tbody tr th:only-of-type {\n",
       "        vertical-align: middle;\n",
       "    }\n",
       "\n",
       "    .dataframe tbody tr th {\n",
       "        vertical-align: top;\n",
       "    }\n",
       "\n",
       "    .dataframe thead th {\n",
       "        text-align: right;\n",
       "    }\n",
       "</style>\n",
       "<table border=\"1\" class=\"dataframe\">\n",
       "  <thead>\n",
       "    <tr style=\"text-align: right;\">\n",
       "      <th></th>\n",
       "      <th>index</th>\n",
       "      <th>ddg</th>\n",
       "      <th>mut_code</th>\n",
       "    </tr>\n",
       "  </thead>\n",
       "  <tbody>\n",
       "    <tr>\n",
       "      <td>13</td>\n",
       "      <td>VRC01.G245A.Repair2.clean.mut.pdb</td>\n",
       "      <td>0.588782</td>\n",
       "      <td>G245A</td>\n",
       "    </tr>\n",
       "    <tr>\n",
       "      <td>30</td>\n",
       "      <td>VRC01.G331A.Repair2.clean.mut.pdb</td>\n",
       "      <td>0.045580</td>\n",
       "      <td>G331A</td>\n",
       "    </tr>\n",
       "    <tr>\n",
       "      <td>31</td>\n",
       "      <td>VRC01.G332A.Repair2.clean.mut.pdb</td>\n",
       "      <td>1.315657</td>\n",
       "      <td>G332A</td>\n",
       "    </tr>\n",
       "    <tr>\n",
       "      <td>33</td>\n",
       "      <td>VRC01.G334A.Repair2.clean.mut.pdb</td>\n",
       "      <td>0.482500</td>\n",
       "      <td>G334A</td>\n",
       "    </tr>\n",
       "    <tr>\n",
       "      <td>34</td>\n",
       "      <td>VRC01.G335A.Repair2.clean.mut.pdb</td>\n",
       "      <td>0.851635</td>\n",
       "      <td>G335A</td>\n",
       "    </tr>\n",
       "    <tr>\n",
       "      <td>55</td>\n",
       "      <td>VRC01.G417A.Repair2.clean.mut.pdb</td>\n",
       "      <td>0.625398</td>\n",
       "      <td>G417A</td>\n",
       "    </tr>\n",
       "    <tr>\n",
       "      <td>60</td>\n",
       "      <td>VRC01.G427A.Repair2.clean.mut.pdb</td>\n",
       "      <td>0.224734</td>\n",
       "      <td>G427A</td>\n",
       "    </tr>\n",
       "    <tr>\n",
       "      <td>65</td>\n",
       "      <td>VRC01.G434A.Repair2.clean.mut.pdb</td>\n",
       "      <td>1.117073</td>\n",
       "      <td>G434A</td>\n",
       "    </tr>\n",
       "  </tbody>\n",
       "</table>\n",
       "</div>"
      ],
      "text/plain": [
       "                                index       ddg mut_code\n",
       "13  VRC01.G245A.Repair2.clean.mut.pdb  0.588782    G245A\n",
       "30  VRC01.G331A.Repair2.clean.mut.pdb  0.045580    G331A\n",
       "31  VRC01.G332A.Repair2.clean.mut.pdb  1.315657    G332A\n",
       "33  VRC01.G334A.Repair2.clean.mut.pdb  0.482500    G334A\n",
       "34  VRC01.G335A.Repair2.clean.mut.pdb  0.851635    G335A\n",
       "55  VRC01.G417A.Repair2.clean.mut.pdb  0.625398    G417A\n",
       "60  VRC01.G427A.Repair2.clean.mut.pdb  0.224734    G427A\n",
       "65  VRC01.G434A.Repair2.clean.mut.pdb  1.117073    G434A"
      ]
     },
     "execution_count": 42,
     "metadata": {},
     "output_type": "execute_result"
    }
   ],
   "source": [
    "abpred_results.loc[abpred_results['mut_code'].isin(dec_muts)]"
   ]
  },
  {
   "cell_type": "code",
   "execution_count": 29,
   "metadata": {},
   "outputs": [
    {
     "data": {
      "text/html": [
       "<div>\n",
       "<style scoped>\n",
       "    .dataframe tbody tr th:only-of-type {\n",
       "        vertical-align: middle;\n",
       "    }\n",
       "\n",
       "    .dataframe tbody tr th {\n",
       "        vertical-align: top;\n",
       "    }\n",
       "\n",
       "    .dataframe thead th {\n",
       "        text-align: right;\n",
       "    }\n",
       "</style>\n",
       "<table border=\"1\" class=\"dataframe\">\n",
       "  <thead>\n",
       "    <tr style=\"text-align: right;\">\n",
       "      <th></th>\n",
       "      <th>index</th>\n",
       "      <th>ddg</th>\n",
       "      <th>mut_code</th>\n",
       "    </tr>\n",
       "  </thead>\n",
       "  <tbody>\n",
       "    <tr>\n",
       "      <td>0</td>\n",
       "      <td>VRC01.G163A.Repair2.clean.mut.pdb</td>\n",
       "      <td>0.085829</td>\n",
       "      <td>G163A</td>\n",
       "    </tr>\n",
       "    <tr>\n",
       "      <td>1</td>\n",
       "      <td>VRC01.G163K.Repair2.clean.mut.pdb</td>\n",
       "      <td>0.377447</td>\n",
       "      <td>G163K</td>\n",
       "    </tr>\n",
       "    <tr>\n",
       "      <td>2</td>\n",
       "      <td>VRC01.G163T.Repair2.clean.mut.pdb</td>\n",
       "      <td>-0.032543</td>\n",
       "      <td>G163T</td>\n",
       "    </tr>\n",
       "    <tr>\n",
       "      <td>3</td>\n",
       "      <td>VRC01.G165A.Repair2.clean.mut.pdb</td>\n",
       "      <td>0.262043</td>\n",
       "      <td>G165A</td>\n",
       "    </tr>\n",
       "    <tr>\n",
       "      <td>4</td>\n",
       "      <td>VRC01.G168A.Repair2.clean.mut.pdb</td>\n",
       "      <td>0.361899</td>\n",
       "      <td>G168A</td>\n",
       "    </tr>\n",
       "    <tr>\n",
       "      <td>...</td>\n",
       "      <td>...</td>\n",
       "      <td>...</td>\n",
       "      <td>...</td>\n",
       "    </tr>\n",
       "    <tr>\n",
       "      <td>73</td>\n",
       "      <td>VRC01.G69A.Repair2.clean.mut.pdb</td>\n",
       "      <td>0.230455</td>\n",
       "      <td>G69A</td>\n",
       "    </tr>\n",
       "    <tr>\n",
       "      <td>74</td>\n",
       "      <td>VRC01.G79A.Repair2.clean.mut.pdb</td>\n",
       "      <td>0.420649</td>\n",
       "      <td>G79A</td>\n",
       "    </tr>\n",
       "    <tr>\n",
       "      <td>75</td>\n",
       "      <td>VRC01.G87A.Repair2.clean.mut.pdb</td>\n",
       "      <td>0.248139</td>\n",
       "      <td>G87A</td>\n",
       "    </tr>\n",
       "    <tr>\n",
       "      <td>76</td>\n",
       "      <td>VRC01.G88A.Repair2.clean.mut.pdb</td>\n",
       "      <td>0.234766</td>\n",
       "      <td>G88A</td>\n",
       "    </tr>\n",
       "    <tr>\n",
       "      <td>77</td>\n",
       "      <td>VRC01.G89A.Repair2.clean.mut.pdb</td>\n",
       "      <td>0.309543</td>\n",
       "      <td>G89A</td>\n",
       "    </tr>\n",
       "  </tbody>\n",
       "</table>\n",
       "<p>78 rows × 3 columns</p>\n",
       "</div>"
      ],
      "text/plain": [
       "                                index       ddg mut_code\n",
       "0   VRC01.G163A.Repair2.clean.mut.pdb  0.085829    G163A\n",
       "1   VRC01.G163K.Repair2.clean.mut.pdb  0.377447    G163K\n",
       "2   VRC01.G163T.Repair2.clean.mut.pdb -0.032543    G163T\n",
       "3   VRC01.G165A.Repair2.clean.mut.pdb  0.262043    G165A\n",
       "4   VRC01.G168A.Repair2.clean.mut.pdb  0.361899    G168A\n",
       "..                                ...       ...      ...\n",
       "73   VRC01.G69A.Repair2.clean.mut.pdb  0.230455     G69A\n",
       "74   VRC01.G79A.Repair2.clean.mut.pdb  0.420649     G79A\n",
       "75   VRC01.G87A.Repair2.clean.mut.pdb  0.248139     G87A\n",
       "76   VRC01.G88A.Repair2.clean.mut.pdb  0.234766     G88A\n",
       "77   VRC01.G89A.Repair2.clean.mut.pdb  0.309543     G89A\n",
       "\n",
       "[78 rows x 3 columns]"
      ]
     },
     "execution_count": 29,
     "metadata": {},
     "output_type": "execute_result"
    }
   ],
   "source": [
    "abpred_results"
   ]
  }
 ],
 "metadata": {
  "kernelspec": {
   "display_name": "Python 3",
   "language": "python",
   "name": "python3"
  },
  "language_info": {
   "codemirror_mode": {
    "name": "ipython",
    "version": 3
   },
   "file_extension": ".py",
   "mimetype": "text/x-python",
   "name": "python",
   "nbconvert_exporter": "python",
   "pygments_lexer": "ipython3",
   "version": "3.7.3"
  }
 },
 "nbformat": 4,
 "nbformat_minor": 2
}
