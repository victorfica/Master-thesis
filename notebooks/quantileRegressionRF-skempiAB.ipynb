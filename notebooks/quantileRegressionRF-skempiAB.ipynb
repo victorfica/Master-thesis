{
 "cells": [
  {
   "cell_type": "code",
   "execution_count": 19,
   "metadata": {},
   "outputs": [],
   "source": [
    "import matplotlib.pyplot as plt\n",
    "import numpy as np\n",
    "from sklearn.model_selection import train_test_split\n",
    "from sklearn.model_selection import KFold\n",
    "from skgarden import RandomForestQuantileRegressor\n",
    "import pandas as pd\n",
    "from sklearn.metrics import r2_score"
   ]
  },
  {
   "cell_type": "code",
   "execution_count": 4,
   "metadata": {
    "collapsed": true
   },
   "outputs": [],
   "source": [
    "\n",
    "#dataframe final\n",
    "df_final = pd.read_csv(\"../data/DF_train15_skempiAB_modeller_final.csv\",index_col=0)\n",
    "\n",
    "#index_ddg8 = (df_final['ddG_exp']>)\n",
    "#df_final = df_final.loc[-index_ddg8]\n",
    "\n",
    "#testiar eliminando estructuras con ddg menor o igual a -4 kcal/mol , outliers\n",
    "#index_ddg_4 =  (df_final['ddG_exp'] <= -4)\n",
    "#df_final = df_final.loc[-index_ddg_4]\n",
    "\n",
    "\n",
    "pdb_names = df_final.index\n",
    "features_names = df_final.drop('ddG_exp',axis=1).columns"
   ]
  },
  {
   "cell_type": "code",
   "execution_count": 5,
   "metadata": {
    "collapsed": true
   },
   "outputs": [],
   "source": [
    "X = df_final.drop('ddG_exp',axis=1).astype(float)\n",
    "y = df_final['ddG_exp']"
   ]
  },
  {
   "cell_type": "code",
   "execution_count": 21,
   "metadata": {
    "collapsed": true
   },
   "outputs": [],
   "source": [
    "RandomForestQuantileRegressor?"
   ]
  },
  {
   "cell_type": "code",
   "execution_count": 6,
   "metadata": {
    "collapsed": true
   },
   "outputs": [],
   "source": [
    "kf = KFold(n_splits=10, random_state=0)\n",
    "rfqr = RandomForestQuantileRegressor(random_state=0, min_samples_split=10, n_estimators=100,max_features=\"log2\")"
   ]
  },
  {
   "cell_type": "code",
   "execution_count": 27,
   "metadata": {
    "scrolled": true
   },
   "outputs": [
    {
     "data": {
      "text/plain": [
       "3NPS.protein.A214A.Repair4.clean.pdb    0.635009\n",
       "3NPS.protein.A218A.Repair4.clean.pdb   -0.017714\n",
       "3NPS.protein.A219A.Repair4.clean.pdb   -0.036324\n",
       "3NPS.protein.A221A.Repair4.clean.pdb   -0.044857\n",
       "3NPS.protein.A23A.Repair4.clean.pdb     0.011397\n",
       "3NPS.protein.A26A.Repair4.clean.pdb     0.277748\n",
       "3NPS.protein.A45A.Repair4.clean.pdb    -0.143657\n",
       "3NPS.protein.A46A.Repair4.clean.pdb     0.147193\n",
       "3NPS.protein.A47A.Repair4.clean.pdb     0.462148\n",
       "3NPS.protein.A48A.Repair4.clean.pdb    -0.460101\n",
       "3NPS.protein.A50A.Repair4.clean.pdb     0.095060\n",
       "3NPS.protein.A51A.Repair4.clean.pdb     0.059818\n",
       "3NPS.protein.A52A.Repair4.clean.pdb     0.195640\n",
       "3NPS.protein.A82A.Repair4.clean.pdb    -0.065631\n",
       "3NPS.protein.A89A.Repair4.clean.pdb     0.680320\n",
       "3NPS.protein.A90A.Repair4.clean.pdb     0.109715\n",
       "3NPS.protein.A91A.Repair4.clean.pdb     0.652452\n",
       "3NPS.protein.A92A.Repair4.clean.pdb     0.200684\n",
       "3NPS.protein.A93A.Repair4.clean.pdb     0.313366\n",
       "3SE8.protein.H110A.Repair4.clean.pdb   -0.165782\n",
       "3SE8.protein.H111A.Repair4.clean.pdb    0.353375\n",
       "3SE8.protein.H114A.Repair4.clean.pdb   -0.103953\n",
       "3SE8.protein.H115A.Repair4.clean.pdb    0.454579\n",
       "3SE8.protein.H30A.Repair4.clean.pdb    -0.016818\n",
       "3SE8.protein.H47A.Repair4.clean.pdb     0.628108\n",
       "3SE8.protein.H50A.Repair4.clean.pdb     0.567807\n",
       "3SE8.protein.H52A.Repair4.clean.pdb     0.473233\n",
       "3SE8.protein.H54A.Repair4.clean.pdb     0.023323\n",
       "3SE8.protein.H55A.Repair4.clean.pdb     0.324074\n",
       "3SE8.protein.H56A.Repair4.clean.pdb     0.152050\n",
       "                                          ...   \n",
       "4U6H.protein.E21A.Repair4.clean.pdb    -0.150697\n",
       "4U6H.protein.E25A.Repair4.clean.pdb     0.051448\n",
       "4U6H.protein.E29A.Repair4.clean.pdb     5.930382\n",
       "4ZS6.protein.A155A.Repair4.clean.pdb    3.840641\n",
       "4ZS6.protein.A156A.Repair4.clean.pdb    1.315554\n",
       "4ZS6.protein.A159A.Repair4.clean.pdb    3.840641\n",
       "4ZS6.protein.A160A.Repair4.clean.pdb   -0.047732\n",
       "5C6T.protein.A182A.Repair4.clean.pdb    1.389018\n",
       "5C6T.protein.A183A.Repair4.clean.pdb    0.122953\n",
       "5C6T.protein.A185A.Repair4.clean.pdb    0.146276\n",
       "5C6T.protein.A186A.Repair4.clean.pdb    0.157188\n",
       "5C6T.protein.A187A.Repair4.clean.pdb    5.836105\n",
       "5C6T.protein.A188A.Repair4.clean.pdb   -0.158709\n",
       "5C6T.protein.A192A.Repair4.clean.pdb    0.864664\n",
       "5C6T.protein.A194A.Repair4.clean.pdb    0.472193\n",
       "5C6T.protein.A199A.Repair4.clean.pdb    1.194120\n",
       "5C6T.protein.A200A.Repair4.clean.pdb    0.177709\n",
       "5C6T.protein.A201A.Repair4.clean.pdb    0.383415\n",
       "5C6T.protein.H104A.Repair4.clean.pdb    0.157188\n",
       "5C6T.protein.H31S.Repair4.clean.pdb     0.134880\n",
       "5C6T.protein.H32A.Repair4.clean.pdb    -0.375940\n",
       "5C6T.protein.H97A.Repair4.clean.pdb     0.660618\n",
       "5C6T.protein.H98A.Repair4.clean.pdb     0.743216\n",
       "5C6T.protein.H99A.Repair4.clean.pdb     0.632102\n",
       "5C6T.protein.L47A.Repair4.clean.pdb     0.238833\n",
       "5C6T.protein.L48A.Repair4.clean.pdb     0.053235\n",
       "5DWU.protein.A78A.Repair4.clean.pdb     5.903370\n",
       "5DWU.protein.B169A.Repair4.clean.pdb    5.903370\n",
       "5DWU.protein.B84A.Repair4.clean.pdb     5.903370\n",
       "5DWU.protein.B85A.Repair4.clean.pdb     5.903370\n",
       "Name: ddG_exp, Length: 145, dtype: float64"
      ]
     },
     "execution_count": 27,
     "metadata": {},
     "output_type": "execute_result"
    }
   ],
   "source": [
    "y_test"
   ]
  },
  {
   "cell_type": "code",
   "execution_count": 30,
   "metadata": {},
   "outputs": [
    {
     "data": {
      "text/plain": [
       "array([-0.80890537, -0.60623891, -0.51328171, -0.92269727, -0.53635531,\n",
       "       -0.35844306, -0.61961539, -0.35619618, -0.633726  , -0.5381053 ,\n",
       "       -0.66113634, -0.71148399, -0.81835569, -0.40240052, -0.51303808,\n",
       "       -0.46233106, -0.37948491, -0.06895374, -0.28150123, -0.67706466,\n",
       "       -0.89369763, -0.54807218, -0.37359784, -0.58786579, -0.69593394,\n",
       "       -0.79631061, -1.23749749, -0.57545358, -0.56981075, -1.02798521,\n",
       "       -0.56084336, -0.68082189, -0.58472429, -1.62992782, -0.58206292,\n",
       "       -0.49357496, -0.96319044, -0.60690012, -1.12534732, -0.54307728,\n",
       "       -0.73040141, -0.47592822, -0.49589193, -0.64569979, -0.41510629,\n",
       "       -0.53006447, -1.02878336, -1.20094305, -0.42405013, -0.74279469,\n",
       "       -0.47529192, -0.61166849, -0.41872976, -0.46918924, -0.5035116 ,\n",
       "       -0.479534  , -0.57659843, -1.15117973, -0.46649707, -1.1253286 ,\n",
       "       -0.76747171, -0.47612414, -0.51193661, -0.41782039, -1.18067396,\n",
       "       -0.83430592, -0.47399643, -0.47607604, -0.37951535, -0.89870989,\n",
       "       -0.5254845 , -0.41147876, -3.0005679 , -1.29919923, -0.62476025,\n",
       "       -3.50324885, -2.24080105, -2.12642932, -1.30691382, -1.26058716,\n",
       "       -4.76436281, -0.98940776, -0.40721693, -0.98887812, -1.26364642,\n",
       "       -1.10019383, -0.59033698, -0.95650862, -1.13263739, -1.77101099,\n",
       "       -1.27769364, -1.21433597, -0.53237339, -0.44422504, -0.50459768,\n",
       "       -0.53289934, -0.59981676, -0.79561449, -0.53823884, -0.54473342,\n",
       "       -0.76465272, -0.52220884, -0.54923993, -0.60734985, -4.76436281,\n",
       "       -0.94021795, -0.65158224, -4.76436281, -0.84911747, -1.55133663,\n",
       "       -1.26868507, -2.04337977, -1.93144039, -0.89870989, -1.52802495,\n",
       "       -0.36695409, -0.49433572, -0.52386807, -3.84064126, -2.15676926,\n",
       "       -3.84064126, -5.74053405, -4.76436281, -1.20723228, -1.68356003,\n",
       "       -4.3855249 , -4.76436281, -2.12642932, -4.76436281, -1.74248113,\n",
       "       -1.63242852, -1.43305768, -2.28674941, -4.76436281, -2.12619973,\n",
       "       -2.01589827, -2.6892289 , -1.81291737, -2.34792155, -4.76436281,\n",
       "       -1.20739291, -5.9033699 , -5.9033699 , -5.9033699 , -5.9033699 ])"
      ]
     },
     "execution_count": 30,
     "metadata": {},
     "output_type": "execute_result"
    }
   ],
   "source": [
    "y_pred_lower_quantile"
   ]
  },
  {
   "cell_type": "code",
   "execution_count": 21,
   "metadata": {},
   "outputs": [
    {
     "name": "stdout",
     "output_type": "stream",
     "text": [
      "-3.9137467962332586\n",
      "-4.7232659103724455\n",
      "-7.33682134723032\n",
      "-7.261600609484626\n",
      "-5.125109265476618\n",
      "-0.4988285373309269\n",
      "-1.2875167947468658\n",
      "-0.5615765342864956\n",
      "-0.8700113934289573\n",
      "-0.11643572864473084\n"
     ]
    }
   ],
   "source": [
    "y_true_all = []\n",
    "lower = []\n",
    "upper = []\n",
    "\n",
    "for train_index, test_index in kf.split(X):\n",
    "    X_train, X_test, y_train, y_test = (\n",
    "        X.iloc[train_index], X.iloc[test_index], y.iloc[train_index], y.iloc[test_index])\n",
    "\n",
    "    rfqr.set_params(max_features=X_train.shape[1] // 3)\n",
    "    rfqr.fit(X_train, y_train)\n",
    "    y_true_all = np.concatenate((y_true_all, y_test))\n",
    "    \n",
    "    \n",
    "    y_pred_upper_quantile = rfqr.predict(X_test, quantile=90.)\n",
    "    y_pred_lower_quantile = rfqr.predict(X_test, quantile=10.)\n",
    "    upper = np.concatenate((upper, y_pred_upper_quantile))\n",
    "    lower = np.concatenate((lower, y_pred_lower_quantile))\n",
    "    \n",
    "    r2_test =  r2_score(y_test,y_pred_upper_quantile)\n",
    "    print(r2_test)\n",
    "interval = upper - lower\n",
    "sort_ind = np.argsort(interval)\n",
    "y_true_all = y_true_all[sort_ind]\n",
    "upper = upper[sort_ind]\n",
    "lower = lower[sort_ind]\n",
    "mean = (upper + lower) / 2\n",
    "\n",
    "# Center such that the mean of the prediction interval is at 0.0\n",
    "y_true_all -= mean\n",
    "upper -= mean\n",
    "lower -= mean"
   ]
  },
  {
   "cell_type": "code",
   "execution_count": 29,
   "metadata": {},
   "outputs": [
    {
     "data": {
      "text/plain": [
       "array([ 0.0821576 , -0.08590336, -0.07320601, ...,  2.70840054,\n",
       "       -0.29156108, -0.48622676])"
      ]
     },
     "execution_count": 29,
     "metadata": {},
     "output_type": "execute_result"
    }
   ],
   "source": [
    "y_true_all"
   ]
  },
  {
   "cell_type": "code",
   "execution_count": 17,
   "metadata": {},
   "outputs": [
    {
     "data": {
      "image/png": "[encoded data removed]",
      "text/plain": [
       "<Figure size 432x288 with 1 Axes>"
      ]
     },
     "metadata": {},
     "output_type": "display_data"
    }
   ],
   "source": [
    "plt.plot(y_true_all, \"ro\")\n",
    "plt.fill_between(\n",
    "    np.arange(len(upper)), lower, upper, alpha=0.2, color=\"r\",\n",
    "    label=\"Pred. interval\")\n",
    "plt.xlabel(\"Ordered samples.\")\n",
    "plt.ylabel(\"Values and prediction intervals.\")\n",
    "plt.xlim([0, 1600])\n",
    "plt.show()"
   ]
  },
  {
   "cell_type": "code",
   "execution_count": 14,
   "metadata": {},
   "outputs": [
    {
     "data": {
      "text/plain": [
       "-0.09555154838030026"
      ]
     },
     "execution_count": 14,
     "metadata": {},
     "output_type": "execute_result"
    }
   ],
   "source": [
    "lower.max()"
   ]
  }
 ],
 "metadata": {
  "kernelspec": {
   "display_name": "Python 3",
   "language": "python",
   "name": "python3"
  },
  "language_info": {
   "codemirror_mode": {
    "name": "ipython",
    "version": 3
   },
   "file_extension": ".py",
   "mimetype": "text/x-python",
   "name": "python",
   "nbconvert_exporter": "python",
   "pygments_lexer": "ipython3",
   "version": "3.6.7"
  }
 },
 "nbformat": 4,
 "nbformat_minor": 2
}
